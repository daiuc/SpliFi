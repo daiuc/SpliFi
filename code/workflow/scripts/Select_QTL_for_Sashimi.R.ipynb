{
 "cells": [
  {
   "cell_type": "code",
   "execution_count": 1,
   "id": "2918620b-8fac-4b28-954e-3f279666d2f8",
   "metadata": {
    "vscode": {
     "languageId": "r"
    }
   },
   "outputs": [],
   "source": [
    "suppressMessages(library(tidyverse))\n",
    "suppressMessages(library(data.table))"
   ]
  },
  {
   "cell_type": "code",
   "execution_count": 3,
   "id": "ed094be3-cadc-45d5-94a8-c2183ac8a9dc",
   "metadata": {
    "vscode": {
     "languageId": "r"
    }
   },
   "outputs": [],
   "source": [
    "setwd(\"../../\")"
   ]
  },
  {
   "cell_type": "code",
   "execution_count": 4,
   "id": "929e7eb4",
   "metadata": {
    "vscode": {
     "languageId": "r"
    }
   },
   "outputs": [
    {
     "data": {
      "text/html": [
       "'/project2/yangili1/cdai/SpliFi/code'"
      ],
      "text/latex": [
       "'/project2/yangili1/cdai/SpliFi/code'"
      ],
      "text/markdown": [
       "'/project2/yangili1/cdai/SpliFi/code'"
      ],
      "text/plain": [
       "[1] \"/project2/yangili1/cdai/SpliFi/code\""
      ]
     },
     "metadata": {},
     "output_type": "display_data"
    }
   ],
   "source": [
    "getwd()"
   ]
  },
  {
   "cell_type": "code",
   "execution_count": 12,
   "id": "426a03bc",
   "metadata": {
    "vscode": {
     "languageId": "r"
    }
   },
   "outputs": [],
   "source": [
    "validateGenoID = function(genoIDs) {\n",
    "    splitstr = str_split(genoIDs, \":\")\n",
    "    allels = map_chr(splitstr, ~ paste(.x[3], .x[4], sep = \"\"))\n",
    "    return(allels)\n",
    "}"
   ]
  },
  {
   "cell_type": "markdown",
   "id": "9f90a060-7b5a-4e53-9281-b1f5fafbf8ee",
   "metadata": {},
   "source": [
    "## Geuvadis EUR sfQTL"
   ]
  },
  {
   "cell_type": "code",
   "execution_count": 18,
   "id": "715aa6d7",
   "metadata": {
    "vscode": {
     "languageId": "r"
    }
   },
   "outputs": [],
   "source": [
    "qtls = paste(\"results/qtl/noisy/Geuvadis/EUR/cis_100000/perm/chr\", 1:22, \".addQval.txt.gz\", sep=\"\")\n",
    "qtls = map(qtls,fread)  %>% rbindlist"
   ]
  },
  {
   "cell_type": "code",
   "execution_count": 22,
   "id": "6971f44b",
   "metadata": {
    "vscode": {
     "languageId": "r"
    }
   },
   "outputs": [],
   "source": [
    "snpidx = which(nchar(validateGenoID(qtls$best_genotype_id)) == 2)"
   ]
  },
  {
   "cell_type": "code",
   "execution_count": 25,
   "id": "7564fcb7",
   "metadata": {
    "vscode": {
     "languageId": "r"
    }
   },
   "outputs": [
    {
     "data": {
      "text/html": [
       "<style>\n",
       ".list-inline {list-style: none; margin:0; padding: 0}\n",
       ".list-inline>li {display: inline-block}\n",
       ".list-inline>li:not(:last-child)::after {content: \"\\00b7\"; padding: 0 .5ex}\n",
       "</style>\n",
       "<ol class=list-inline><li>'phenotype_id'</li><li>'phenotype_chr'</li><li>'phenotype_start'</li><li>'phenotype_end'</li><li>'phenotype_strand'</li><li>'num_variants'</li><li>'best_nom_dist'</li><li>'best_genotype_id'</li><li>'best_genotype_chr'</li><li>'best_genotype_start'</li><li>'best_genotype_end'</li><li>'dof_true'</li><li>'dof_est'</li><li>'beta_ml1'</li><li>'beta_ml2'</li><li>'pval_nom'</li><li>'pval_r2'</li><li>'slope'</li><li>'pval_emp'</li><li>'pval_adj'</li><li>'q'</li></ol>\n"
      ],
      "text/latex": [
       "\\begin{enumerate*}\n",
       "\\item 'phenotype\\_id'\n",
       "\\item 'phenotype\\_chr'\n",
       "\\item 'phenotype\\_start'\n",
       "\\item 'phenotype\\_end'\n",
       "\\item 'phenotype\\_strand'\n",
       "\\item 'num\\_variants'\n",
       "\\item 'best\\_nom\\_dist'\n",
       "\\item 'best\\_genotype\\_id'\n",
       "\\item 'best\\_genotype\\_chr'\n",
       "\\item 'best\\_genotype\\_start'\n",
       "\\item 'best\\_genotype\\_end'\n",
       "\\item 'dof\\_true'\n",
       "\\item 'dof\\_est'\n",
       "\\item 'beta\\_ml1'\n",
       "\\item 'beta\\_ml2'\n",
       "\\item 'pval\\_nom'\n",
       "\\item 'pval\\_r2'\n",
       "\\item 'slope'\n",
       "\\item 'pval\\_emp'\n",
       "\\item 'pval\\_adj'\n",
       "\\item 'q'\n",
       "\\end{enumerate*}\n"
      ],
      "text/markdown": [
       "1. 'phenotype_id'\n",
       "2. 'phenotype_chr'\n",
       "3. 'phenotype_start'\n",
       "4. 'phenotype_end'\n",
       "5. 'phenotype_strand'\n",
       "6. 'num_variants'\n",
       "7. 'best_nom_dist'\n",
       "8. 'best_genotype_id'\n",
       "9. 'best_genotype_chr'\n",
       "10. 'best_genotype_start'\n",
       "11. 'best_genotype_end'\n",
       "12. 'dof_true'\n",
       "13. 'dof_est'\n",
       "14. 'beta_ml1'\n",
       "15. 'beta_ml2'\n",
       "16. 'pval_nom'\n",
       "17. 'pval_r2'\n",
       "18. 'slope'\n",
       "19. 'pval_emp'\n",
       "20. 'pval_adj'\n",
       "21. 'q'\n",
       "\n",
       "\n"
      ],
      "text/plain": [
       " [1] \"phenotype_id\"        \"phenotype_chr\"       \"phenotype_start\"     \"phenotype_end\"       \"phenotype_strand\"    \"num_variants\"        \"best_nom_dist\"       \"best_genotype_id\"   \n",
       " [9] \"best_genotype_chr\"   \"best_genotype_start\" \"best_genotype_end\"   \"dof_true\"            \"dof_est\"             \"beta_ml1\"            \"beta_ml2\"            \"pval_nom\"           \n",
       "[17] \"pval_r2\"             \"slope\"               \"pval_emp\"            \"pval_adj\"            \"q\"                  "
      ]
     },
     "metadata": {},
     "output_type": "display_data"
    }
   ],
   "source": [
    "names(qtls)"
   ]
  },
  {
   "cell_type": "code",
   "execution_count": 36,
   "id": "64698229",
   "metadata": {
    "vscode": {
     "languageId": "r"
    }
   },
   "outputs": [
    {
     "data": {
      "text/html": [
       "<table class=\"dataframe\">\n",
       "<caption>A data.table: 10 × 12</caption>\n",
       "<thead>\n",
       "\t<tr><th scope=col>chrom</th><th scope=col>q</th><th scope=col>range1</th><th scope=col>range2</th><th scope=col>range3</th><th scope=col>range4</th><th scope=col>range5</th><th scope=col>range6</th><th scope=col>range7</th><th scope=col>range8</th><th scope=col>range9</th><th scope=col>range10</th></tr>\n",
       "\t<tr><th scope=col>&lt;chr&gt;</th><th scope=col>&lt;dbl&gt;</th><th scope=col>&lt;chr&gt;</th><th scope=col>&lt;chr&gt;</th><th scope=col>&lt;chr&gt;</th><th scope=col>&lt;chr&gt;</th><th scope=col>&lt;chr&gt;</th><th scope=col>&lt;chr&gt;</th><th scope=col>&lt;chr&gt;</th><th scope=col>&lt;chr&gt;</th><th scope=col>&lt;chr&gt;</th><th scope=col>&lt;chr&gt;</th></tr>\n",
       "</thead>\n",
       "<tbody>\n",
       "\t<tr><td>chr3 </td><td>5.7717e-100</td><td>chr3 chr3</td><td>chr16 chr16</td><td>chr6 chr6</td><td>chr3 chr3</td><td>chr17 chr17</td><td>chr11 chr11</td><td>chr2 chr2</td><td>chr5 chr5</td><td>chr9 chr9</td><td>chr7 chr7</td></tr>\n",
       "\t<tr><td>chr16</td><td> 2.8607e-95</td><td>chr3 chr3</td><td>chr16 chr16</td><td>chr6 chr6</td><td>chr3 chr3</td><td>chr17 chr17</td><td>chr11 chr11</td><td>chr2 chr2</td><td>chr5 chr5</td><td>chr9 chr9</td><td>chr7 chr7</td></tr>\n",
       "\t<tr><td>chr6 </td><td> 3.2449e-71</td><td>chr3 chr3</td><td>chr16 chr16</td><td>chr6 chr6</td><td>chr3 chr3</td><td>chr17 chr17</td><td>chr11 chr11</td><td>chr2 chr2</td><td>chr5 chr5</td><td>chr9 chr9</td><td>chr7 chr7</td></tr>\n",
       "\t<tr><td>chr3 </td><td> 1.2684e-63</td><td>chr3 chr3</td><td>chr16 chr16</td><td>chr6 chr6</td><td>chr3 chr3</td><td>chr17 chr17</td><td>chr11 chr11</td><td>chr2 chr2</td><td>chr5 chr5</td><td>chr9 chr9</td><td>chr7 chr7</td></tr>\n",
       "\t<tr><td>chr17</td><td> 7.8264e-48</td><td>chr3 chr3</td><td>chr16 chr16</td><td>chr6 chr6</td><td>chr3 chr3</td><td>chr17 chr17</td><td>chr11 chr11</td><td>chr2 chr2</td><td>chr5 chr5</td><td>chr9 chr9</td><td>chr7 chr7</td></tr>\n",
       "\t<tr><td>chr11</td><td> 2.2016e-34</td><td>chr3 chr3</td><td>chr16 chr16</td><td>chr6 chr6</td><td>chr3 chr3</td><td>chr17 chr17</td><td>chr11 chr11</td><td>chr2 chr2</td><td>chr5 chr5</td><td>chr9 chr9</td><td>chr7 chr7</td></tr>\n",
       "\t<tr><td>chr2 </td><td> 1.2247e-32</td><td>chr3 chr3</td><td>chr16 chr16</td><td>chr6 chr6</td><td>chr3 chr3</td><td>chr17 chr17</td><td>chr11 chr11</td><td>chr2 chr2</td><td>chr5 chr5</td><td>chr9 chr9</td><td>chr7 chr7</td></tr>\n",
       "\t<tr><td>chr5 </td><td> 4.6108e-32</td><td>chr3 chr3</td><td>chr16 chr16</td><td>chr6 chr6</td><td>chr3 chr3</td><td>chr17 chr17</td><td>chr11 chr11</td><td>chr2 chr2</td><td>chr5 chr5</td><td>chr9 chr9</td><td>chr7 chr7</td></tr>\n",
       "\t<tr><td>chr9 </td><td> 5.4343e-31</td><td>chr3 chr3</td><td>chr16 chr16</td><td>chr6 chr6</td><td>chr3 chr3</td><td>chr17 chr17</td><td>chr11 chr11</td><td>chr2 chr2</td><td>chr5 chr5</td><td>chr9 chr9</td><td>chr7 chr7</td></tr>\n",
       "\t<tr><td>chr7 </td><td> 1.1908e-30</td><td>chr3 chr3</td><td>chr16 chr16</td><td>chr6 chr6</td><td>chr3 chr3</td><td>chr17 chr17</td><td>chr11 chr11</td><td>chr2 chr2</td><td>chr5 chr5</td><td>chr9 chr9</td><td>chr7 chr7</td></tr>\n",
       "</tbody>\n",
       "</table>\n"
      ],
      "text/latex": [
       "A data.table: 10 × 12\n",
       "\\begin{tabular}{llllllllllll}\n",
       " chrom & q & range1 & range2 & range3 & range4 & range5 & range6 & range7 & range8 & range9 & range10\\\\\n",
       " <chr> & <dbl> & <chr> & <chr> & <chr> & <chr> & <chr> & <chr> & <chr> & <chr> & <chr> & <chr>\\\\\n",
       "\\hline\n",
       "\t chr3  & 5.7717e-100 & chr3 chr3 & chr16 chr16 & chr6 chr6 & chr3 chr3 & chr17 chr17 & chr11 chr11 & chr2 chr2 & chr5 chr5 & chr9 chr9 & chr7 chr7\\\\\n",
       "\t chr16 &  2.8607e-95 & chr3 chr3 & chr16 chr16 & chr6 chr6 & chr3 chr3 & chr17 chr17 & chr11 chr11 & chr2 chr2 & chr5 chr5 & chr9 chr9 & chr7 chr7\\\\\n",
       "\t chr6  &  3.2449e-71 & chr3 chr3 & chr16 chr16 & chr6 chr6 & chr3 chr3 & chr17 chr17 & chr11 chr11 & chr2 chr2 & chr5 chr5 & chr9 chr9 & chr7 chr7\\\\\n",
       "\t chr3  &  1.2684e-63 & chr3 chr3 & chr16 chr16 & chr6 chr6 & chr3 chr3 & chr17 chr17 & chr11 chr11 & chr2 chr2 & chr5 chr5 & chr9 chr9 & chr7 chr7\\\\\n",
       "\t chr17 &  7.8264e-48 & chr3 chr3 & chr16 chr16 & chr6 chr6 & chr3 chr3 & chr17 chr17 & chr11 chr11 & chr2 chr2 & chr5 chr5 & chr9 chr9 & chr7 chr7\\\\\n",
       "\t chr11 &  2.2016e-34 & chr3 chr3 & chr16 chr16 & chr6 chr6 & chr3 chr3 & chr17 chr17 & chr11 chr11 & chr2 chr2 & chr5 chr5 & chr9 chr9 & chr7 chr7\\\\\n",
       "\t chr2  &  1.2247e-32 & chr3 chr3 & chr16 chr16 & chr6 chr6 & chr3 chr3 & chr17 chr17 & chr11 chr11 & chr2 chr2 & chr5 chr5 & chr9 chr9 & chr7 chr7\\\\\n",
       "\t chr5  &  4.6108e-32 & chr3 chr3 & chr16 chr16 & chr6 chr6 & chr3 chr3 & chr17 chr17 & chr11 chr11 & chr2 chr2 & chr5 chr5 & chr9 chr9 & chr7 chr7\\\\\n",
       "\t chr9  &  5.4343e-31 & chr3 chr3 & chr16 chr16 & chr6 chr6 & chr3 chr3 & chr17 chr17 & chr11 chr11 & chr2 chr2 & chr5 chr5 & chr9 chr9 & chr7 chr7\\\\\n",
       "\t chr7  &  1.1908e-30 & chr3 chr3 & chr16 chr16 & chr6 chr6 & chr3 chr3 & chr17 chr17 & chr11 chr11 & chr2 chr2 & chr5 chr5 & chr9 chr9 & chr7 chr7\\\\\n",
       "\\end{tabular}\n"
      ],
      "text/markdown": [
       "\n",
       "A data.table: 10 × 12\n",
       "\n",
       "| chrom &lt;chr&gt; | q &lt;dbl&gt; | range1 &lt;chr&gt; | range2 &lt;chr&gt; | range3 &lt;chr&gt; | range4 &lt;chr&gt; | range5 &lt;chr&gt; | range6 &lt;chr&gt; | range7 &lt;chr&gt; | range8 &lt;chr&gt; | range9 &lt;chr&gt; | range10 &lt;chr&gt; |\n",
       "|---|---|---|---|---|---|---|---|---|---|---|---|\n",
       "| chr3  | 5.7717e-100 | chr3 chr3 | chr16 chr16 | chr6 chr6 | chr3 chr3 | chr17 chr17 | chr11 chr11 | chr2 chr2 | chr5 chr5 | chr9 chr9 | chr7 chr7 |\n",
       "| chr16 |  2.8607e-95 | chr3 chr3 | chr16 chr16 | chr6 chr6 | chr3 chr3 | chr17 chr17 | chr11 chr11 | chr2 chr2 | chr5 chr5 | chr9 chr9 | chr7 chr7 |\n",
       "| chr6  |  3.2449e-71 | chr3 chr3 | chr16 chr16 | chr6 chr6 | chr3 chr3 | chr17 chr17 | chr11 chr11 | chr2 chr2 | chr5 chr5 | chr9 chr9 | chr7 chr7 |\n",
       "| chr3  |  1.2684e-63 | chr3 chr3 | chr16 chr16 | chr6 chr6 | chr3 chr3 | chr17 chr17 | chr11 chr11 | chr2 chr2 | chr5 chr5 | chr9 chr9 | chr7 chr7 |\n",
       "| chr17 |  7.8264e-48 | chr3 chr3 | chr16 chr16 | chr6 chr6 | chr3 chr3 | chr17 chr17 | chr11 chr11 | chr2 chr2 | chr5 chr5 | chr9 chr9 | chr7 chr7 |\n",
       "| chr11 |  2.2016e-34 | chr3 chr3 | chr16 chr16 | chr6 chr6 | chr3 chr3 | chr17 chr17 | chr11 chr11 | chr2 chr2 | chr5 chr5 | chr9 chr9 | chr7 chr7 |\n",
       "| chr2  |  1.2247e-32 | chr3 chr3 | chr16 chr16 | chr6 chr6 | chr3 chr3 | chr17 chr17 | chr11 chr11 | chr2 chr2 | chr5 chr5 | chr9 chr9 | chr7 chr7 |\n",
       "| chr5  |  4.6108e-32 | chr3 chr3 | chr16 chr16 | chr6 chr6 | chr3 chr3 | chr17 chr17 | chr11 chr11 | chr2 chr2 | chr5 chr5 | chr9 chr9 | chr7 chr7 |\n",
       "| chr9  |  5.4343e-31 | chr3 chr3 | chr16 chr16 | chr6 chr6 | chr3 chr3 | chr17 chr17 | chr11 chr11 | chr2 chr2 | chr5 chr5 | chr9 chr9 | chr7 chr7 |\n",
       "| chr7  |  1.1908e-30 | chr3 chr3 | chr16 chr16 | chr6 chr6 | chr3 chr3 | chr17 chr17 | chr11 chr11 | chr2 chr2 | chr5 chr5 | chr9 chr9 | chr7 chr7 |\n",
       "\n"
      ],
      "text/plain": [
       "   chrom q           range1    range2      range3    range4    range5      range6      range7    range8    range9    range10  \n",
       "1  chr3  5.7717e-100 chr3 chr3 chr16 chr16 chr6 chr6 chr3 chr3 chr17 chr17 chr11 chr11 chr2 chr2 chr5 chr5 chr9 chr9 chr7 chr7\n",
       "2  chr16  2.8607e-95 chr3 chr3 chr16 chr16 chr6 chr6 chr3 chr3 chr17 chr17 chr11 chr11 chr2 chr2 chr5 chr5 chr9 chr9 chr7 chr7\n",
       "3  chr6   3.2449e-71 chr3 chr3 chr16 chr16 chr6 chr6 chr3 chr3 chr17 chr17 chr11 chr11 chr2 chr2 chr5 chr5 chr9 chr9 chr7 chr7\n",
       "4  chr3   1.2684e-63 chr3 chr3 chr16 chr16 chr6 chr6 chr3 chr3 chr17 chr17 chr11 chr11 chr2 chr2 chr5 chr5 chr9 chr9 chr7 chr7\n",
       "5  chr17  7.8264e-48 chr3 chr3 chr16 chr16 chr6 chr6 chr3 chr3 chr17 chr17 chr11 chr11 chr2 chr2 chr5 chr5 chr9 chr9 chr7 chr7\n",
       "6  chr11  2.2016e-34 chr3 chr3 chr16 chr16 chr6 chr6 chr3 chr3 chr17 chr17 chr11 chr11 chr2 chr2 chr5 chr5 chr9 chr9 chr7 chr7\n",
       "7  chr2   1.2247e-32 chr3 chr3 chr16 chr16 chr6 chr6 chr3 chr3 chr17 chr17 chr11 chr11 chr2 chr2 chr5 chr5 chr9 chr9 chr7 chr7\n",
       "8  chr5   4.6108e-32 chr3 chr3 chr16 chr16 chr6 chr6 chr3 chr3 chr17 chr17 chr11 chr11 chr2 chr2 chr5 chr5 chr9 chr9 chr7 chr7\n",
       "9  chr9   5.4343e-31 chr3 chr3 chr16 chr16 chr6 chr6 chr3 chr3 chr17 chr17 chr11 chr11 chr2 chr2 chr5 chr5 chr9 chr9 chr7 chr7\n",
       "10 chr7   1.1908e-30 chr3 chr3 chr16 chr16 chr6 chr6 chr3 chr3 chr17 chr17 chr11 chr11 chr2 chr2 chr5 chr5 chr9 chr9 chr7 chr7"
      ]
     },
     "metadata": {},
     "output_type": "display_data"
    }
   ],
   "source": [
    "#qtls[snpidx][q<.1, c(1:8, 21)][order(q)][1:10] \n",
    "qtls[snpidx][q<.1][order(q)][1:10][,\n",
    "    c(list(chrom=phenotype_chr, q=q),\n",
    "      range = map2(phenotype_chr, phenotype_chr, ~ paste(.x, .y))\n",
    "     )]\n"
   ]
  },
  {
   "cell_type": "code",
   "execution_count": null,
   "id": "ff20c2fb",
   "metadata": {
    "vscode": {
     "languageId": "r"
    }
   },
   "outputs": [],
   "source": []
  },
  {
   "cell_type": "code",
   "execution_count": null,
   "id": "db200dc5",
   "metadata": {
    "vscode": {
     "languageId": "r"
    }
   },
   "outputs": [],
   "source": []
  },
  {
   "cell_type": "code",
   "execution_count": 35,
   "id": "daea7fa3",
   "metadata": {
    "vscode": {
     "languageId": "r"
    }
   },
   "outputs": [
    {
     "name": "stdout",
     "output_type": "stream",
     "text": [
      "map2                   package:purrr                   R Documentation\n",
      "\n",
      "_\bM_\ba_\bp _\bo_\bv_\be_\br _\bm_\bu_\bl_\bt_\bi_\bp_\bl_\be _\bi_\bn_\bp_\bu_\bt_\bs _\bs_\bi_\bm_\bu_\bl_\bt_\ba_\bn_\be_\bo_\bu_\bs_\bl_\by.\n",
      "\n",
      "_\bD_\be_\bs_\bc_\br_\bi_\bp_\bt_\bi_\bo_\bn:\n",
      "\n",
      "     These functions are variants of ‘map()’ that iterate over multiple\n",
      "     arguments simultaneously. They are parallel in the sense that each\n",
      "     input is processed in parallel with the others, not in the sense\n",
      "     of multicore computing. They share the same notion of \"parallel\"\n",
      "     as ‘base::pmax()’ and ‘base::pmin()’. ‘map2()’ and ‘walk2()’ are\n",
      "     specialised for the two argument case; ‘pmap()’ and ‘pwalk()’\n",
      "     allow you to provide any number of arguments in a list. Note that\n",
      "     a data frame is a very important special case, in which case\n",
      "     ‘pmap()’ and ‘pwalk()’ apply the function ‘.f’ to each row.\n",
      "     ‘map_dfr()’, ‘pmap_dfr()’ and ‘map2_dfc()’, ‘pmap_dfc()’ return\n",
      "     data frames created by row-binding and column-binding\n",
      "     respectively. They require dplyr to be installed.\n",
      "\n",
      "_\bU_\bs_\ba_\bg_\be:\n",
      "\n",
      "     map2(.x, .y, .f, ...)\n",
      "     \n",
      "     map2_lgl(.x, .y, .f, ...)\n",
      "     \n",
      "     map2_int(.x, .y, .f, ...)\n",
      "     \n",
      "     map2_dbl(.x, .y, .f, ...)\n",
      "     \n",
      "     map2_chr(.x, .y, .f, ...)\n",
      "     \n",
      "     map2_raw(.x, .y, .f, ...)\n",
      "     \n",
      "     map2_dfr(.x, .y, .f, ..., .id = NULL)\n",
      "     \n",
      "     map2_dfc(.x, .y, .f, ...)\n",
      "     \n",
      "     walk2(.x, .y, .f, ...)\n",
      "     \n",
      "     pmap(.l, .f, ...)\n",
      "     \n",
      "     pmap_lgl(.l, .f, ...)\n",
      "     \n",
      "     pmap_int(.l, .f, ...)\n",
      "     \n",
      "     pmap_dbl(.l, .f, ...)\n",
      "     \n",
      "     pmap_chr(.l, .f, ...)\n",
      "     \n",
      "     pmap_raw(.l, .f, ...)\n",
      "     \n",
      "     pmap_dfr(.l, .f, ..., .id = NULL)\n",
      "     \n",
      "     pmap_dfc(.l, .f, ...)\n",
      "     \n",
      "     pwalk(.l, .f, ...)\n",
      "     \n",
      "_\bA_\br_\bg_\bu_\bm_\be_\bn_\bt_\bs:\n",
      "\n",
      "  .x, .y: Vectors of the same length. A vector of length 1 will be\n",
      "          recycled.\n",
      "\n",
      "      .f: A function, formula, or vector (not necessarily atomic).\n",
      "\n",
      "          If a *function*, it is used as is.\n",
      "\n",
      "          If a *formula*, e.g. ‘~ .x + 2’, it is converted to a\n",
      "          function. There are three ways to refer to the arguments:\n",
      "\n",
      "            • For a single argument function, use ‘.’\n",
      "\n",
      "            • For a two argument function, use ‘.x’ and ‘.y’\n",
      "\n",
      "            • For more arguments, use ‘..1’, ‘..2’, ‘..3’ etc\n",
      "\n",
      "          This syntax allows you to create very compact anonymous\n",
      "          functions.\n",
      "\n",
      "          If *character vector*, *numeric vector*, or *list*, it is\n",
      "          converted to an extractor function. Character vectors index\n",
      "          by name and numeric vectors index by position; use a list to\n",
      "          index by position and name at different levels. If a\n",
      "          component is not present, the value of ‘.default’ will be\n",
      "          returned.\n",
      "\n",
      "     ...: Additional arguments passed on to the mapped function.\n",
      "\n",
      "     .id: Either a string or ‘NULL’. If a string, the output will\n",
      "          contain a variable with that name, storing either the name\n",
      "          (if ‘.x’ is named) or the index (if ‘.x’ is unnamed) of the\n",
      "          input. If ‘NULL’, the default, no variable will be created.\n",
      "\n",
      "          Only applies to _dfr variant.\n",
      "\n",
      "      .l: A list of vectors, such as a data frame. The length of ‘.l’\n",
      "          determines the number of arguments that ‘.f’ will be called\n",
      "          with. List names will be used if present.\n",
      "\n",
      "_\bD_\be_\bt_\ba_\bi_\bl_\bs:\n",
      "\n",
      "     Note that arguments to be vectorised over come before ‘.f’, and\n",
      "     arguments that are supplied to every call come after ‘.f’.\n",
      "\n",
      "_\bV_\ba_\bl_\bu_\be:\n",
      "\n",
      "     An atomic vector, list, or data frame, depending on the suffix.\n",
      "     Atomic vectors and lists will be named if ‘.x’ or the first\n",
      "     element of ‘.l’ is named.\n",
      "\n",
      "     If all input is length 0, the output will be length 0. If any\n",
      "     input is length 1, it will be recycled to the length of the\n",
      "     longest.\n",
      "\n",
      "_\bS_\be_\be _\bA_\bl_\bs_\bo:\n",
      "\n",
      "     Other map variants: ‘imap()’, ‘invoke()’, ‘lmap()’, ‘map_if()’,\n",
      "     ‘map()’, ‘modify()’\n",
      "\n",
      "_\bE_\bx_\ba_\bm_\bp_\bl_\be_\bs:\n",
      "\n",
      "     x <- list(1, 1, 1)\n",
      "     y <- list(10, 20, 30)\n",
      "     z <- list(100, 200, 300)\n",
      "     \n",
      "     map2(x, y, ~ .x + .y)\n",
      "     # Or just\n",
      "     map2(x, y, `+`)\n",
      "     \n",
      "     pmap(list(x, y, z), sum)\n",
      "     \n",
      "     # Matching arguments by position\n",
      "     pmap(list(x, y, z), function(first, second, third) (first + third) * second)\n",
      "     \n",
      "     # Matching arguments by name\n",
      "     l <- list(a = x, b = y, c = z)\n",
      "     pmap(l, function(c, b, a) (a + c) * b)\n",
      "     \n",
      "     # Split into pieces, fit model to each piece, then predict\n",
      "     by_cyl <- mtcars %>% split(.$cyl)\n",
      "     mods <- by_cyl %>% map(~ lm(mpg ~ wt, data = .))\n",
      "     map2(mods, by_cyl, predict)\n",
      "     \n",
      "     # Vectorizing a function over multiple arguments\n",
      "     df <- data.frame(\n",
      "       x = c(\"apple\", \"banana\", \"cherry\"),\n",
      "       pattern = c(\"p\", \"n\", \"h\"),\n",
      "       replacement = c(\"P\", \"N\", \"H\"),\n",
      "       stringsAsFactors = FALSE\n",
      "       )\n",
      "     pmap(df, gsub)\n",
      "     pmap_chr(df, gsub)\n",
      "     \n",
      "     # Use `...` to absorb unused components of input list .l\n",
      "     df <- data.frame(\n",
      "       x = 1:3,\n",
      "       y = 10:12,\n",
      "       z = letters[1:3]\n",
      "     )\n",
      "     plus <- function(x, y) x + y\n",
      "     ## Not run:\n",
      "     \n",
      "     # this won't work\n",
      "     pmap(df, plus)\n",
      "     ## End(Not run)\n",
      "     \n",
      "     # but this will\n",
      "     plus2 <- function(x, y, ...) x + y\n",
      "     pmap_dbl(df, plus2)\n",
      "     \n",
      "     # The \"p\" for \"parallel\" in pmap() is the same as in base::pmin()\n",
      "     # and base::pmax()\n",
      "     df <- data.frame(\n",
      "       x = c(1, 2, 5),\n",
      "       y = c(5, 4, 8)\n",
      "     )\n",
      "     # all produce the same result\n",
      "     pmin(df$x, df$y)\n",
      "     map2_dbl(df$x, df$y, min)\n",
      "     pmap_dbl(df, min)\n",
      "     \n",
      "     # If you want to bind the results of your function rowwise, use:\n",
      "     # map2_dfr() or pmap_dfr()\n",
      "     ex_fun <- function(arg1, arg2){\n",
      "     col <- arg1 + arg2\n",
      "     x <- as.data.frame(col)\n",
      "     }\n",
      "     arg1 <- 1:4\n",
      "     arg2 <- 10:13\n",
      "     map2_dfr(arg1, arg2, ex_fun)\n",
      "     # If instead you want to bind by columns, use map2_dfc() or pmap_dfc()\n",
      "     map2_dfc(arg1, arg2, ex_fun)\n",
      "     "
     ]
    }
   ],
   "source": []
  },
  {
   "cell_type": "code",
   "execution_count": 21,
   "id": "74160637",
   "metadata": {
    "vscode": {
     "languageId": "r"
    }
   },
   "outputs": [
    {
     "data": {
      "text/html": [
       "<table class=\"dataframe\">\n",
       "<caption>A data.table: 10 × 10</caption>\n",
       "<thead>\n",
       "\t<tr><th scope=col>phenotype_id</th><th scope=col>phenotype_chr</th><th scope=col>phenotype_start</th><th scope=col>phenotype_end</th><th scope=col>phenotype_strand</th><th scope=col>num_variants</th><th scope=col>best_nom_dist</th><th scope=col>best_genotype_id</th><th scope=col>best_genotype_chr</th><th scope=col>best_genotype_start</th></tr>\n",
       "\t<tr><th scope=col>&lt;chr&gt;</th><th scope=col>&lt;chr&gt;</th><th scope=col>&lt;int&gt;</th><th scope=col>&lt;int&gt;</th><th scope=col>&lt;chr&gt;</th><th scope=col>&lt;int&gt;</th><th scope=col>&lt;int&gt;</th><th scope=col>&lt;chr&gt;</th><th scope=col>&lt;chr&gt;</th><th scope=col>&lt;int&gt;</th></tr>\n",
       "</thead>\n",
       "<tbody>\n",
       "\t<tr><td>chr1:4692:5659:clu_3_-_*        </td><td>chr1</td><td>  4693</td><td>  5659</td><td>-</td><td> 59</td><td>-59105</td><td>1:64764:C:T           </td><td>chr1</td><td>  64764</td></tr>\n",
       "\t<tr><td>chr1:7924:19184:clu_6_-_*       </td><td>chr1</td><td>  7925</td><td> 19184</td><td>-</td><td> 70</td><td>     0</td><td>1:16949:A:C           </td><td>chr1</td><td>  16949</td></tr>\n",
       "\t<tr><td>chr1:655198:664077:clu_182_-_*  </td><td>chr1</td><td>655199</td><td>664077</td><td>-</td><td> 63</td><td>-25885</td><td>1:689962:C:T          </td><td>chr1</td><td> 689962</td></tr>\n",
       "\t<tr><td>chr1:699523:735310:clu_181_-_*  </td><td>chr1</td><td>699524</td><td>735310</td><td>-</td><td>153</td><td>-78188</td><td>1:813498:G:T          </td><td>chr1</td><td> 813498</td></tr>\n",
       "\t<tr><td>chr1:753018:772897:clu_28525_+_*</td><td>chr1</td><td>753019</td><td>772897</td><td>+</td><td>217</td><td> 68269</td><td>1:841166:A:G          </td><td>chr1</td><td> 841166</td></tr>\n",
       "\t<tr><td>chr1:870389:870761:clu_237_-_*  </td><td>chr1</td><td>870390</td><td>870761</td><td>-</td><td>427</td><td>-57441</td><td>1:928202:A:G          </td><td>chr1</td><td> 928202</td></tr>\n",
       "\t<tr><td>chr1:888747:890206:clu_28579_+_*</td><td>chr1</td><td>888748</td><td>890206</td><td>+</td><td>471</td><td> 77659</td><td>1:967865:A:G          </td><td>chr1</td><td> 967865</td></tr>\n",
       "\t<tr><td>chr1:924675:925109:clu_349_-_*  </td><td>chr1</td><td>924676</td><td>925109</td><td>-</td><td>510</td><td>-76224</td><td>1:1001333:G:T         </td><td>chr1</td><td>1001333</td></tr>\n",
       "\t<tr><td>chr1:938819:939227:clu_28549_+_*</td><td>chr1</td><td>938820</td><td>939227</td><td>+</td><td>511</td><td>-30834</td><td>1:907986:C:T          </td><td>chr1</td><td> 907986</td></tr>\n",
       "\t<tr><td>chr1:975834:976496:clu_28691_+_*</td><td>chr1</td><td>975835</td><td>976496</td><td>+</td><td>564</td><td> 72271</td><td>1:1048767:CAAAAAAAAA:C</td><td>chr1</td><td>1048767</td></tr>\n",
       "</tbody>\n",
       "</table>\n"
      ],
      "text/latex": [
       "A data.table: 10 × 10\n",
       "\\begin{tabular}{llllllllll}\n",
       " phenotype\\_id & phenotype\\_chr & phenotype\\_start & phenotype\\_end & phenotype\\_strand & num\\_variants & best\\_nom\\_dist & best\\_genotype\\_id & best\\_genotype\\_chr & best\\_genotype\\_start\\\\\n",
       " <chr> & <chr> & <int> & <int> & <chr> & <int> & <int> & <chr> & <chr> & <int>\\\\\n",
       "\\hline\n",
       "\t chr1:4692:5659:clu\\_3\\_-\\_*         & chr1 &   4693 &   5659 & - &  59 & -59105 & 1:64764:C:T            & chr1 &   64764\\\\\n",
       "\t chr1:7924:19184:clu\\_6\\_-\\_*        & chr1 &   7925 &  19184 & - &  70 &      0 & 1:16949:A:C            & chr1 &   16949\\\\\n",
       "\t chr1:655198:664077:clu\\_182\\_-\\_*   & chr1 & 655199 & 664077 & - &  63 & -25885 & 1:689962:C:T           & chr1 &  689962\\\\\n",
       "\t chr1:699523:735310:clu\\_181\\_-\\_*   & chr1 & 699524 & 735310 & - & 153 & -78188 & 1:813498:G:T           & chr1 &  813498\\\\\n",
       "\t chr1:753018:772897:clu\\_28525\\_+\\_* & chr1 & 753019 & 772897 & + & 217 &  68269 & 1:841166:A:G           & chr1 &  841166\\\\\n",
       "\t chr1:870389:870761:clu\\_237\\_-\\_*   & chr1 & 870390 & 870761 & - & 427 & -57441 & 1:928202:A:G           & chr1 &  928202\\\\\n",
       "\t chr1:888747:890206:clu\\_28579\\_+\\_* & chr1 & 888748 & 890206 & + & 471 &  77659 & 1:967865:A:G           & chr1 &  967865\\\\\n",
       "\t chr1:924675:925109:clu\\_349\\_-\\_*   & chr1 & 924676 & 925109 & - & 510 & -76224 & 1:1001333:G:T          & chr1 & 1001333\\\\\n",
       "\t chr1:938819:939227:clu\\_28549\\_+\\_* & chr1 & 938820 & 939227 & + & 511 & -30834 & 1:907986:C:T           & chr1 &  907986\\\\\n",
       "\t chr1:975834:976496:clu\\_28691\\_+\\_* & chr1 & 975835 & 976496 & + & 564 &  72271 & 1:1048767:CAAAAAAAAA:C & chr1 & 1048767\\\\\n",
       "\\end{tabular}\n"
      ],
      "text/markdown": [
       "\n",
       "A data.table: 10 × 10\n",
       "\n",
       "| phenotype_id &lt;chr&gt; | phenotype_chr &lt;chr&gt; | phenotype_start &lt;int&gt; | phenotype_end &lt;int&gt; | phenotype_strand &lt;chr&gt; | num_variants &lt;int&gt; | best_nom_dist &lt;int&gt; | best_genotype_id &lt;chr&gt; | best_genotype_chr &lt;chr&gt; | best_genotype_start &lt;int&gt; |\n",
       "|---|---|---|---|---|---|---|---|---|---|\n",
       "| chr1:4692:5659:clu_3_-_*         | chr1 |   4693 |   5659 | - |  59 | -59105 | 1:64764:C:T            | chr1 |   64764 |\n",
       "| chr1:7924:19184:clu_6_-_*        | chr1 |   7925 |  19184 | - |  70 |      0 | 1:16949:A:C            | chr1 |   16949 |\n",
       "| chr1:655198:664077:clu_182_-_*   | chr1 | 655199 | 664077 | - |  63 | -25885 | 1:689962:C:T           | chr1 |  689962 |\n",
       "| chr1:699523:735310:clu_181_-_*   | chr1 | 699524 | 735310 | - | 153 | -78188 | 1:813498:G:T           | chr1 |  813498 |\n",
       "| chr1:753018:772897:clu_28525_+_* | chr1 | 753019 | 772897 | + | 217 |  68269 | 1:841166:A:G           | chr1 |  841166 |\n",
       "| chr1:870389:870761:clu_237_-_*   | chr1 | 870390 | 870761 | - | 427 | -57441 | 1:928202:A:G           | chr1 |  928202 |\n",
       "| chr1:888747:890206:clu_28579_+_* | chr1 | 888748 | 890206 | + | 471 |  77659 | 1:967865:A:G           | chr1 |  967865 |\n",
       "| chr1:924675:925109:clu_349_-_*   | chr1 | 924676 | 925109 | - | 510 | -76224 | 1:1001333:G:T          | chr1 | 1001333 |\n",
       "| chr1:938819:939227:clu_28549_+_* | chr1 | 938820 | 939227 | + | 511 | -30834 | 1:907986:C:T           | chr1 |  907986 |\n",
       "| chr1:975834:976496:clu_28691_+_* | chr1 | 975835 | 976496 | + | 564 |  72271 | 1:1048767:CAAAAAAAAA:C | chr1 | 1048767 |\n",
       "\n"
      ],
      "text/plain": [
       "   phenotype_id                     phenotype_chr phenotype_start phenotype_end phenotype_strand num_variants best_nom_dist best_genotype_id       best_genotype_chr best_genotype_start\n",
       "1  chr1:4692:5659:clu_3_-_*         chr1            4693            5659        -                 59          -59105        1:64764:C:T            chr1                64764            \n",
       "2  chr1:7924:19184:clu_6_-_*        chr1            7925           19184        -                 70               0        1:16949:A:C            chr1                16949            \n",
       "3  chr1:655198:664077:clu_182_-_*   chr1          655199          664077        -                 63          -25885        1:689962:C:T           chr1               689962            \n",
       "4  chr1:699523:735310:clu_181_-_*   chr1          699524          735310        -                153          -78188        1:813498:G:T           chr1               813498            \n",
       "5  chr1:753018:772897:clu_28525_+_* chr1          753019          772897        +                217           68269        1:841166:A:G           chr1               841166            \n",
       "6  chr1:870389:870761:clu_237_-_*   chr1          870390          870761        -                427          -57441        1:928202:A:G           chr1               928202            \n",
       "7  chr1:888747:890206:clu_28579_+_* chr1          888748          890206        +                471           77659        1:967865:A:G           chr1               967865            \n",
       "8  chr1:924675:925109:clu_349_-_*   chr1          924676          925109        -                510          -76224        1:1001333:G:T          chr1              1001333            \n",
       "9  chr1:938819:939227:clu_28549_+_* chr1          938820          939227        +                511          -30834        1:907986:C:T           chr1               907986            \n",
       "10 chr1:975834:976496:clu_28691_+_* chr1          975835          976496        +                564           72271        1:1048767:CAAAAAAAAA:C chr1              1048767            "
      ]
     },
     "metadata": {},
     "output_type": "display_data"
    }
   ],
   "source": [
    "qtls[1:10, 1:10]"
   ]
  },
  {
   "cell_type": "code",
   "execution_count": null,
   "id": "66faeb39",
   "metadata": {
    "vscode": {
     "languageId": "r"
    }
   },
   "outputs": [],
   "source": []
  },
  {
   "cell_type": "code",
   "execution_count": null,
   "id": "59c73f3f",
   "metadata": {
    "vscode": {
     "languageId": "r"
    }
   },
   "outputs": [],
   "source": []
  },
  {
   "cell_type": "code",
   "execution_count": null,
   "id": "3429a771",
   "metadata": {
    "vscode": {
     "languageId": "r"
    }
   },
   "outputs": [],
   "source": []
  },
  {
   "cell_type": "code",
   "execution_count": null,
   "id": "05c1e22b-95a2-4848-a4e5-70d76108c62c",
   "metadata": {
    "vscode": {
     "languageId": "r"
    }
   },
   "outputs": [],
   "source": []
  },
  {
   "cell_type": "code",
   "execution_count": null,
   "id": "387bc072-fcdb-4fc0-8ab0-a2f291df7d03",
   "metadata": {
    "vscode": {
     "languageId": "r"
    }
   },
   "outputs": [],
   "source": []
  }
 ],
 "metadata": {
  "kernelspec": {
   "display_name": "R 4.1.0",
   "language": "R",
   "name": "r41"
  },
  "language_info": {
   "codemirror_mode": "r",
   "file_extension": ".r",
   "mimetype": "text/x-r-source",
   "name": "R",
   "pygments_lexer": "r",
   "version": "4.1.1"
  }
 },
 "nbformat": 4,
 "nbformat_minor": 5
}
