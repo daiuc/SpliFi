{
 "cells": [
  {
   "cell_type": "code",
   "execution_count": 1,
   "id": "84a071fa",
   "metadata": {
    "tags": [
     "snakemake-job-properties"
    ],
    "vscode": {
     "languageId": "r"
    }
   },
   "outputs": [],
   "source": [
    "######## snakemake preamble start (automatically inserted, do not edit) ########\n",
    "library(methods)\n",
    "Snakemake <- setClass(\n",
    "    \"Snakemake\",\n",
    "    slots = c(\n",
    "        input = \"list\",\n",
    "        output = \"list\",\n",
    "        params = \"list\",\n",
    "        wildcards = \"list\",\n",
    "        threads = \"numeric\",\n",
    "        log = \"list\",\n",
    "        resources = \"list\",\n",
    "        config = \"list\",\n",
    "        rule = \"character\",\n",
    "        bench_iteration = \"numeric\",\n",
    "        scriptdir = \"character\",\n",
    "        source = \"function\"\n",
    "    )\n",
    ")\n",
    "snakemake <- Snakemake(\n",
    "    input = list(),\n",
    "    output = list(\"resources/GWAS/MungedSumStats/done\"),\n",
    "    params = list(\"resources/GWAS/selected-gwas.yaml\", 1e-05, \"resources/GWAS/MungedSumStats\", \"gwas_yaml\" = \"resources/GWAS/selected-gwas.yaml\", \"min_p_val\" = 1e-05, \"out_dir\" = \"resources/GWAS/MungedSumStats\"),\n",
    "    wildcards = list(),\n",
    "    threads = 1,\n",
    "    log = list(),\n",
    "    resources = list(\"tmpdir\", \"tmpdir\" = \"/scratch/midway3/chaodai/TMP\"),\n",
    "    config = list(\"Dataset\" = list(\"Geuvadis\" = list(\"Metadata\" = \"resources/geuvadis-sample-run-pop-lookup.tsv\", \"Linked_SampleIDs\" = \"resources/geuvadis-1kgp-common-sample-id.txt\", \"Linked_1to1_SampleIDs\" = \"resources/geuvadis-1kgp-common-1to1only-sample-id.txt\"), \"GTEx\" = list(\"Metadata\" = \"resources/GTEx-SampleID-Tissue-Lookup.csv\", \"Junc_meta\" = \"resources/GTEx/juncs/sampid-smts-smtsd-subjid.tsv\")), \"junction_list\" = list(\"test\" = \"resources/leafcutter_junc_files_list.txt\", \"Geuvadis\" = \"resources/Geuvadis_juncs.txt\"), \"intron_class\" = c(\"resources/gencode_v43_plus_v37_productive.intron_by_transcript_BEDlike.txt.gz\"), \"annotation\" = list(\"gencode\" = \"/project/yangili1/cdai/genome_index/hs38/gencode.v38.primary_assembly.annotation.dataframe.csv\", \"gencode_v26_genes\" = \"/project/yangili1/cdai/genome_index/hs38/gencode.v26.primary_assembly.annotation.genes.bed.gz\", \"gencode_v38_genes\" = \"/project/yangili1/cdai/genome_index/hs38/gencode_gene_v38_anno.bed\", \"gtf\" = list(\"v43\" = \"/project/yangili1/cdai/annotations/hg38/gencode.v43.primary_assembly.annotation.gtf.gz\")), \"genome38\" = \"/project/yangili1/cdai/genome_index/hs38/GRCh38.primary_assembly.genome.fa\", \"VCF\" = list(\"GTEx\" = list(\"HG38_v7\" = \"/project/yangili1/cdai/genome_index/hs38/GTEx_v7/GTEx_Analysis_2017-06-05_v8_WGS_VCF_files_GTEx_Analysis_2017-06-05_v8_WholeGenomeSeq_838Indiv_Analysis_Freeze.SHAPEIT2_phased.vcf.gz\", \"HG38_v7_indivs\" = \"/project/yangili1/cdai/genome_index/hs38/GTEx_v7/GTEx_Analysis_2017-06-05_v8_WGS_VCF_Indiv_ids.txt\"), \"Geuvadis\" = list(\"HG38_1kg_b38\" = \"/project/yangili1/cdai/SNP/1kg_b38\", \"HG38_1kg_b38_indivs\" = \"/project/yangili1/cdai/SNP/1kg_b38/CCDG_14151_B01_GRM_WGS_2020-08-05_individual-ids.txt\")), \"alignments\" = list(\"LCL\" = list(\"bam\" = \"/project2/yangili1/ankeetashah/hg38_LCL\", \"bigwig\" = \"/project2/yangili1/ankeetashah/hg38_LCL\")), \"HG38_CHROM_SIZES\" = \"/project/yangili1/cdai/annotations/hg38/hg38.chrom.sizes\", \"contrasts\" = list(\"GTEx\" = \"config/ds_dge_tissue_contrast_levels.txt\"), \"crossspecies\" = list(\"gtf\" = list(\"Human\" = \"/project/yangili1/cdai/annotations/hg19/Homo_sapiens.GRCh37.75.gtf.gz\", \"Mouse\" = \"/project/yangili1/cdai/annotations/GRCm38/Mus_musculus.GRCm38.77.gtf.gz\", \"Rat\" = \"/project/yangili1/cdai/annotations/RGSC5.0/Rattus_norvegicus.Rnor_5.0.77.gtf.gz\", \"Macaque\" = \"/project/yangili1/cdai/annotations/mmul1.0/Macaca_mulatta.MMUL_1.77.gtf.gz\"), \"genome\" = list(\"Human\" = \"/project/yangili1/cdai/annotations/hg19/hg19.fa.gz\", \"Mouse\" = \"/project/yangili1/cdai/annotations/GRCm38/mm10.fa.gz\", \"Rat\" = \"/project/yangili1/cdai/annotations/RGSC5.0/rn5.fa.gz\", \"Macaque\" = \"/project/yangili1/cdai/annotations/mmul1.0/Macaca_mulatta.MMUL_1.dna_rm.fa.gz\"))),\n",
    "    rule = \"MungeGwasSummaryStats\",\n",
    "    bench_iteration = as.numeric(NA),\n",
    "    scriptdir = \"/project/yangili1/cdai/SpliFi/code/workflow/rules/../scripts\",\n",
    "    source = function(...) {\n",
    "        wd <- getwd()\n",
    "        setwd(snakemake@scriptdir)\n",
    "        source(...)\n",
    "        setwd(wd)\n",
    "    }\n",
    ")\n",
    "setwd(\"/project/yangili1/cdai/SpliFi/code\")\n",
    "######## snakemake preamble end #########\n"
   ]
  },
  {
   "cell_type": "code",
   "execution_count": null,
   "id": "b7841cae",
   "metadata": {
    "vscode": {
     "languageId": "r"
    }
   },
   "outputs": [],
   "source": []
  },
  {
   "cell_type": "code",
   "execution_count": 11,
   "id": "6382f34c",
   "metadata": {
    "vscode": {
     "languageId": "r"
    }
   },
   "outputs": [
    {
     "data": {
      "text/html": [
       "'/project/yangili1/cdai/SpliFi/code'"
      ],
      "text/latex": [
       "'/project/yangili1/cdai/SpliFi/code'"
      ],
      "text/markdown": [
       "'/project/yangili1/cdai/SpliFi/code'"
      ],
      "text/plain": [
       "[1] \"/project/yangili1/cdai/SpliFi/code\""
      ]
     },
     "metadata": {},
     "output_type": "display_data"
    },
    {
     "data": {
      "text/html": [
       "<dl>\n",
       "\t<dt>[[1]]</dt>\n",
       "\t\t<dd>'resources/GWAS/selected-gwas.yaml'</dd>\n",
       "\t<dt>[[2]]</dt>\n",
       "\t\t<dd>1e-05</dd>\n",
       "\t<dt>[[3]]</dt>\n",
       "\t\t<dd>'resources/GWAS/MungedSumStats'</dd>\n",
       "\t<dt>$gwas_yaml</dt>\n",
       "\t\t<dd>'resources/GWAS/selected-gwas.yaml'</dd>\n",
       "\t<dt>$min_p_val</dt>\n",
       "\t\t<dd>1e-05</dd>\n",
       "\t<dt>$out_dir</dt>\n",
       "\t\t<dd>'resources/GWAS/MungedSumStats'</dd>\n",
       "</dl>\n"
      ],
      "text/latex": [
       "\\begin{description}\n",
       "\\item[{[[1]]}] 'resources/GWAS/selected-gwas.yaml'\n",
       "\\item[{[[2]]}] 1e-05\n",
       "\\item[{[[3]]}] 'resources/GWAS/MungedSumStats'\n",
       "\\item[\\$gwas\\_yaml] 'resources/GWAS/selected-gwas.yaml'\n",
       "\\item[\\$min\\_p\\_val] 1e-05\n",
       "\\item[\\$out\\_dir] 'resources/GWAS/MungedSumStats'\n",
       "\\end{description}\n"
      ],
      "text/markdown": [
       "[[1]]\n",
       ":   'resources/GWAS/selected-gwas.yaml'\n",
       "[[2]]\n",
       ":   1e-05\n",
       "[[3]]\n",
       ":   'resources/GWAS/MungedSumStats'\n",
       "$gwas_yaml\n",
       ":   'resources/GWAS/selected-gwas.yaml'\n",
       "$min_p_val\n",
       ":   1e-05\n",
       "$out_dir\n",
       ":   'resources/GWAS/MungedSumStats'\n",
       "\n",
       "\n"
      ],
      "text/plain": [
       "[[1]]\n",
       "[1] \"resources/GWAS/selected-gwas.yaml\"\n",
       "\n",
       "[[2]]\n",
       "[1] 1e-05\n",
       "\n",
       "[[3]]\n",
       "[1] \"resources/GWAS/MungedSumStats\"\n",
       "\n",
       "$gwas_yaml\n",
       "[1] \"resources/GWAS/selected-gwas.yaml\"\n",
       "\n",
       "$min_p_val\n",
       "[1] 1e-05\n",
       "\n",
       "$out_dir\n",
       "[1] \"resources/GWAS/MungedSumStats\"\n"
      ]
     },
     "metadata": {},
     "output_type": "display_data"
    }
   ],
   "source": [
    "# start coding here\n",
    "getwd()\n",
    "snakemake@params\n"
   ]
  },
  {
   "cell_type": "markdown",
   "id": "39fadf03",
   "metadata": {
    "vscode": {
     "languageId": "r"
    }
   },
   "source": []
  },
  {
   "cell_type": "code",
   "execution_count": 5,
   "id": "aab9caac",
   "metadata": {
    "vscode": {
     "languageId": "r"
    }
   },
   "outputs": [],
   "source": [
    "suppressMessages(library(tidyverse))\n",
    "suppressMessages(library(data.table))\n",
    "library(glue)\n"
   ]
  },
  {
   "cell_type": "code",
   "execution_count": 6,
   "id": "0d11eac0",
   "metadata": {
    "vscode": {
     "languageId": "r"
    }
   },
   "outputs": [
    {
     "name": "stderr",
     "output_type": "stream",
     "text": [
      "Loading required package: future\n",
      "\n"
     ]
    }
   ],
   "source": [
    "library(furrr)\n",
    "plan(multisession, workers = min(availableCores(), 6))\n"
   ]
  },
  {
   "cell_type": "code",
   "execution_count": 25,
   "id": "bae5094c",
   "metadata": {
    "vscode": {
     "languageId": "r"
    }
   },
   "outputs": [],
   "source": [
    "suppressMessages(library(GenomicRanges))"
   ]
  },
  {
   "cell_type": "code",
   "execution_count": 7,
   "id": "f96f16bf",
   "metadata": {
    "vscode": {
     "languageId": "r"
    }
   },
   "outputs": [],
   "source": [
    "MinPVal <- snakemake@params$min_p_val %>% as.numeric()\n",
    "OutDir <- snakemake@params$out_dir\n"
   ]
  },
  {
   "cell_type": "code",
   "execution_count": 8,
   "id": "ae8e53a7",
   "metadata": {
    "vscode": {
     "languageId": "r"
    }
   },
   "outputs": [],
   "source": [
    "gwas <- yaml::yaml.load_file(snakemake@params$gwas_yaml)\n"
   ]
  },
  {
   "cell_type": "code",
   "execution_count": 9,
   "id": "69ec59a1",
   "metadata": {
    "vscode": {
     "languageId": "r"
    }
   },
   "outputs": [
    {
     "name": "stdout",
     "output_type": "stream",
     "text": [
      "$GWAS\n",
      "$GWAS$AD\n",
      "$GWAS$AD$trait\n",
      "[1] \"Alzheimer's disease\"\n",
      "\n",
      "$GWAS$AD$label\n",
      "[1] \"AD\"\n",
      "\n",
      "$GWAS$AD$path\n",
      "[1] \"/project/yangili1/cdai/SpliFi/code/resources/GWAS/zpmu-GWAS_loci/AD_sumstats_Jansenetal.txt.gz\"\n",
      "\n",
      "$GWAS$AD$isHg38\n",
      "[1] FALSE\n",
      "\n",
      "\n",
      "$GWAS$PD\n",
      "$GWAS$PD$trait\n",
      "[1] \"Parkinson's disease\"\n",
      "\n",
      "$GWAS$PD$label\n",
      "[1] \"PD\"\n",
      "\n",
      "$GWAS$PD$path\n",
      "[1] \"/project/yangili1/cdai/SpliFi/code/resources/GWAS/zpmu-GWAS_loci/pkd_nallsEtAl2019_excluding23andMe_allVariants.tab.gz\"\n",
      "\n",
      "$GWAS$PD$isHg38\n",
      "[1] FALSE\n",
      "\n",
      "\n",
      "$GWAS$T2D\n",
      "$GWAS$T2D$trait\n",
      "[1] \"Type 2 diabetes\"\n",
      "\n",
      "$GWAS$T2D$label\n",
      "[1] \"T2D\"\n",
      "\n",
      "$GWAS$T2D$path\n",
      "[1] \"/project/yangili1/cdai/SpliFi/code/resources/GWAS/zpmu-GWAS_loci/\"\n",
      "\n",
      "$GWAS$T2D$isHg38\n",
      "[1] FALSE\n",
      "\n",
      "\n",
      "$GWAS$HT\n",
      "$GWAS$HT$trait\n",
      "[1] \"Height\"\n",
      "\n",
      "$GWAS$HT$label\n",
      "[1] \"HT\"\n",
      "\n",
      "$GWAS$HT$path\n",
      "[1] \"/project/yangili1/cdai/SpliFi/code/resources/GWAS/zpmu-GWAS_loci/Locke_height_UKBiobank_2018.txt.gz\"\n",
      "\n",
      "$GWAS$HT$isHg38\n",
      "[1] FALSE\n",
      "\n",
      "\n",
      "\n"
     ]
    }
   ],
   "source": [
    "print(gwas)\n"
   ]
  },
  {
   "cell_type": "markdown",
   "id": "d6ceb35d",
   "metadata": {},
   "source": [
    "# Set up hg18 - to hg38 liftover\n"
   ]
  },
  {
   "cell_type": "code",
   "execution_count": 20,
   "id": "8898fbbc",
   "metadata": {
    "vscode": {
     "languageId": "r"
    }
   },
   "outputs": [],
   "source": [
    "suppressMessages(library(rtracklayer))\n",
    "\n",
    "chain = import.chain(\"/project/yangili1/cdai/annotations/liftover/hg19ToHg38.over.chain\")"
   ]
  },
  {
   "cell_type": "markdown",
   "id": "c3bf9b6d",
   "metadata": {},
   "source": [
    "# Munge data\n",
    "\n",
    "output consistent dataframe with\n",
    "\n",
    "`CHR, POS, SNP, BETA, SE, P, DOF`\n"
   ]
  },
  {
   "cell_type": "markdown",
   "id": "83b56168",
   "metadata": {},
   "source": [
    "---\n"
   ]
  },
  {
   "cell_type": "markdown",
   "id": "92c98a85",
   "metadata": {},
   "source": [
    "## Munge AD, Alzheimer's disease\n"
   ]
  },
  {
   "cell_type": "code",
   "execution_count": 12,
   "id": "ba5812fe",
   "metadata": {
    "vscode": {
     "languageId": "r"
    }
   },
   "outputs": [
    {
     "data": {
      "text/html": [
       "<dl>\n",
       "\t<dt>$trait</dt>\n",
       "\t\t<dd>'Alzheimer\\'s disease'</dd>\n",
       "\t<dt>$label</dt>\n",
       "\t\t<dd>'AD'</dd>\n",
       "\t<dt>$path</dt>\n",
       "\t\t<dd>'/project/yangili1/cdai/SpliFi/code/resources/GWAS/zpmu-GWAS_loci/AD_sumstats_Jansenetal.txt.gz'</dd>\n",
       "\t<dt>$isHg38</dt>\n",
       "\t\t<dd>FALSE</dd>\n",
       "</dl>\n"
      ],
      "text/latex": [
       "\\begin{description}\n",
       "\\item[\\$trait] 'Alzheimer\\textbackslash{}'s disease'\n",
       "\\item[\\$label] 'AD'\n",
       "\\item[\\$path] '/project/yangili1/cdai/SpliFi/code/resources/GWAS/zpmu-GWAS\\_loci/AD\\_sumstats\\_Jansenetal.txt.gz'\n",
       "\\item[\\$isHg38] FALSE\n",
       "\\end{description}\n"
      ],
      "text/markdown": [
       "$trait\n",
       ":   'Alzheimer\\'s disease'\n",
       "$label\n",
       ":   'AD'\n",
       "$path\n",
       ":   '/project/yangili1/cdai/SpliFi/code/resources/GWAS/zpmu-GWAS_loci/AD_sumstats_Jansenetal.txt.gz'\n",
       "$isHg38\n",
       ":   FALSE\n",
       "\n",
       "\n"
      ],
      "text/plain": [
       "$trait\n",
       "[1] \"Alzheimer's disease\"\n",
       "\n",
       "$label\n",
       "[1] \"AD\"\n",
       "\n",
       "$path\n",
       "[1] \"/project/yangili1/cdai/SpliFi/code/resources/GWAS/zpmu-GWAS_loci/AD_sumstats_Jansenetal.txt.gz\"\n",
       "\n",
       "$isHg38\n",
       "[1] FALSE\n"
      ]
     },
     "metadata": {},
     "output_type": "display_data"
    }
   ],
   "source": [
    "g <- pluck(gwas, \"GWAS\", \"AD\")\n",
    "g\n"
   ]
  },
  {
   "cell_type": "code",
   "execution_count": 13,
   "id": "95307460",
   "metadata": {
    "vscode": {
     "languageId": "r"
    }
   },
   "outputs": [],
   "source": [
    "df <- fread(g$path)\n"
   ]
  },
  {
   "cell_type": "code",
   "execution_count": 14,
   "id": "d4e19d95",
   "metadata": {
    "vscode": {
     "languageId": "r"
    }
   },
   "outputs": [
    {
     "data": {
      "text/html": [
       "<table class=\"dataframe\">\n",
       "<caption>A data.table: 3 × 14</caption>\n",
       "<thead>\n",
       "\t<tr><th scope=col>uniqID.a1a2</th><th scope=col>CHR</th><th scope=col>BP</th><th scope=col>A1</th><th scope=col>A2</th><th scope=col>SNP</th><th scope=col>Z</th><th scope=col>P</th><th scope=col>Nsum</th><th scope=col>Neff</th><th scope=col>dir</th><th scope=col>MAF</th><th scope=col>BETA</th><th scope=col>SE</th></tr>\n",
       "\t<tr><th scope=col>&lt;chr&gt;</th><th scope=col>&lt;int&gt;</th><th scope=col>&lt;int&gt;</th><th scope=col>&lt;chr&gt;</th><th scope=col>&lt;chr&gt;</th><th scope=col>&lt;chr&gt;</th><th scope=col>&lt;dbl&gt;</th><th scope=col>&lt;dbl&gt;</th><th scope=col>&lt;int&gt;</th><th scope=col>&lt;dbl&gt;</th><th scope=col>&lt;chr&gt;</th><th scope=col>&lt;dbl&gt;</th><th scope=col>&lt;dbl&gt;</th><th scope=col>&lt;dbl&gt;</th></tr>\n",
       "</thead>\n",
       "<tbody>\n",
       "\t<tr><td>1:715265_T_C</td><td>1</td><td>715265</td><td>T</td><td>C</td><td>rs12184267</td><td>2.121973</td><td>0.03384</td><td>381761</td><td>381761</td><td>??+?</td><td>0.0408069</td><td>0.01227458</td><td>0.005784513</td></tr>\n",
       "\t<tr><td>1:715367_G_A</td><td>1</td><td>715367</td><td>G</td><td>A</td><td>rs12184277</td><td>1.957915</td><td>0.05024</td><td>382151</td><td>382151</td><td>??+?</td><td>0.0410687</td><td>0.01128522</td><td>0.005763896</td></tr>\n",
       "\t<tr><td>1:717485_A_C</td><td>1</td><td>717485</td><td>A</td><td>C</td><td>rs12184279</td><td>1.912438</td><td>0.05582</td><td>382180</td><td>382180</td><td>??+?</td><td>0.0405759</td><td>0.01108656</td><td>0.005797083</td></tr>\n",
       "</tbody>\n",
       "</table>\n"
      ],
      "text/latex": [
       "A data.table: 3 × 14\n",
       "\\begin{tabular}{llllllllllllll}\n",
       " uniqID.a1a2 & CHR & BP & A1 & A2 & SNP & Z & P & Nsum & Neff & dir & MAF & BETA & SE\\\\\n",
       " <chr> & <int> & <int> & <chr> & <chr> & <chr> & <dbl> & <dbl> & <int> & <dbl> & <chr> & <dbl> & <dbl> & <dbl>\\\\\n",
       "\\hline\n",
       "\t 1:715265\\_T\\_C & 1 & 715265 & T & C & rs12184267 & 2.121973 & 0.03384 & 381761 & 381761 & ??+? & 0.0408069 & 0.01227458 & 0.005784513\\\\\n",
       "\t 1:715367\\_G\\_A & 1 & 715367 & G & A & rs12184277 & 1.957915 & 0.05024 & 382151 & 382151 & ??+? & 0.0410687 & 0.01128522 & 0.005763896\\\\\n",
       "\t 1:717485\\_A\\_C & 1 & 717485 & A & C & rs12184279 & 1.912438 & 0.05582 & 382180 & 382180 & ??+? & 0.0405759 & 0.01108656 & 0.005797083\\\\\n",
       "\\end{tabular}\n"
      ],
      "text/markdown": [
       "\n",
       "A data.table: 3 × 14\n",
       "\n",
       "| uniqID.a1a2 &lt;chr&gt; | CHR &lt;int&gt; | BP &lt;int&gt; | A1 &lt;chr&gt; | A2 &lt;chr&gt; | SNP &lt;chr&gt; | Z &lt;dbl&gt; | P &lt;dbl&gt; | Nsum &lt;int&gt; | Neff &lt;dbl&gt; | dir &lt;chr&gt; | MAF &lt;dbl&gt; | BETA &lt;dbl&gt; | SE &lt;dbl&gt; |\n",
       "|---|---|---|---|---|---|---|---|---|---|---|---|---|---|\n",
       "| 1:715265_T_C | 1 | 715265 | T | C | rs12184267 | 2.121973 | 0.03384 | 381761 | 381761 | ??+? | 0.0408069 | 0.01227458 | 0.005784513 |\n",
       "| 1:715367_G_A | 1 | 715367 | G | A | rs12184277 | 1.957915 | 0.05024 | 382151 | 382151 | ??+? | 0.0410687 | 0.01128522 | 0.005763896 |\n",
       "| 1:717485_A_C | 1 | 717485 | A | C | rs12184279 | 1.912438 | 0.05582 | 382180 | 382180 | ??+? | 0.0405759 | 0.01108656 | 0.005797083 |\n",
       "\n"
      ],
      "text/plain": [
       "  uniqID.a1a2  CHR BP     A1 A2 SNP        Z        P       Nsum   Neff   dir \n",
       "1 1:715265_T_C 1   715265 T  C  rs12184267 2.121973 0.03384 381761 381761 ??+?\n",
       "2 1:715367_G_A 1   715367 G  A  rs12184277 1.957915 0.05024 382151 382151 ??+?\n",
       "3 1:717485_A_C 1   717485 A  C  rs12184279 1.912438 0.05582 382180 382180 ??+?\n",
       "  MAF       BETA       SE         \n",
       "1 0.0408069 0.01227458 0.005784513\n",
       "2 0.0410687 0.01128522 0.005763896\n",
       "3 0.0405759 0.01108656 0.005797083"
      ]
     },
     "metadata": {},
     "output_type": "display_data"
    }
   ],
   "source": [
    "df[1:3]\n"
   ]
  },
  {
   "cell_type": "code",
   "execution_count": 15,
   "id": "2c894c30",
   "metadata": {
    "vscode": {
     "languageId": "r"
    }
   },
   "outputs": [
    {
     "name": "stdout",
     "output_type": "stream",
     "text": [
      "Select snps using min p value: p < 1e-05\n"
     ]
    }
   ],
   "source": [
    "# select snps based on min pval\n",
    "print(glue(\"Select snps using min p value: p < {MinPVal}\"))\n"
   ]
  },
  {
   "cell_type": "code",
   "execution_count": 16,
   "id": "26d7a2f7",
   "metadata": {
    "vscode": {
     "languageId": "r"
    }
   },
   "outputs": [
    {
     "name": "stdout",
     "output_type": "stream",
     "text": [
      "dim after filtering with P value: 4968\n",
      "dim after filtering with P value: 14\n"
     ]
    }
   ],
   "source": [
    "df <- df[P < MinPVal]\n",
    "\n",
    "print(glue(\"dim after filtering with P value: {dim(df)}\"))\n"
   ]
  },
  {
   "cell_type": "code",
   "execution_count": 17,
   "id": "893dbaec",
   "metadata": {
    "vscode": {
     "languageId": "r"
    }
   },
   "outputs": [],
   "source": [
    "outdf <- df[, .(CHR = CHR, POS = BP, SNP = SNP, BETA = BETA, SE = SE, P = P, DOF = Nsum)][order(CHR, POS)]\n"
   ]
  },
  {
   "cell_type": "code",
   "execution_count": 29,
   "id": "a871278d",
   "metadata": {
    "vscode": {
     "languageId": "r"
    }
   },
   "outputs": [],
   "source": [
    "leadSNPs <- df[, .(CHR = CHR, POS = BP, SNP = SNP)]\n",
    "leadSNPs <- GRanges(\n",
    "  seqnames = leadSNPs$CHR,\n",
    "  ranges = IRanges(start = leadSNPs$POS, end = leadSNPs$POS),\n",
    "  strand = \"*\",\n",
    "  SNP = leadSNPs$SNP\n",
    ")\n",
    "seqlevelsStyle(leadSNPs) <- \"UCSC\""
   ]
  },
  {
   "cell_type": "code",
   "execution_count": 31,
   "id": "35d182bd",
   "metadata": {
    "vscode": {
     "languageId": "r"
    }
   },
   "outputs": [],
   "source": [
    "# use leadSNPs to construct loci, each locus is a 1Mb window centered at the lead SNP\n",
    "loci <- GenomicRanges::reduce(leadSNPs, min.gapwidth = 1e6)"
   ]
  },
  {
   "cell_type": "code",
   "execution_count": 33,
   "id": "f1731bd4",
   "metadata": {
    "vscode": {
     "languageId": "r"
    }
   },
   "outputs": [
    {
     "data": {
      "text/html": [
       "<style>\n",
       ".list-inline {list-style: none; margin:0; padding: 0}\n",
       ".list-inline>li {display: inline-block}\n",
       ".list-inline>li:not(:last-child)::after {content: \"\\00b7\"; padding: 0 .5ex}\n",
       "</style>\n",
       "<ol class=list-inline><li>1</li><li>288</li><li>1</li><li>94880</li><li>722587</li><li>1</li><li>123441</li><li>1</li><li>1</li><li>1</li><li>112620</li><li>330812</li><li>1</li><li>24271</li><li>1</li><li>12117</li><li>23393</li><li>135482</li><li>749970</li><li>1</li><li>1</li><li>130531</li><li>1</li><li>56516</li><li>228639</li><li>259814</li><li>1</li><li>1</li><li>12792</li><li>1</li><li>1</li><li>67414</li><li>472896</li><li>399709</li><li>346441</li><li>1</li><li>1</li><li>1</li><li>1155</li><li>32966</li><li>1</li><li>1</li><li>1</li><li>64366</li><li>1</li><li>872623</li><li>1</li><li>29598</li><li>48523</li><li>259752</li><li>392866</li><li>1</li><li>1</li><li>1</li><li>4597</li><li>1</li><li>2502</li><li>487236</li><li>1</li><li>9370</li><li>1</li><li>1</li><li>13205</li><li>99282</li><li>1</li><li>35190</li><li>1</li><li>1</li><li>1</li><li>25580</li><li>15093</li><li>72503</li><li>865515</li><li>67056</li><li>223972</li><li>2814</li><li>153702</li><li>1</li><li>1</li><li>1</li><li>501856</li><li>1</li><li>1</li><li>649089</li><li>68559</li><li>401048</li><li>236135</li><li>118062</li><li>1</li><li>1</li><li>1</li><li>192</li><li>1131673</li><li>3843</li><li>97958</li><li>31302</li><li>49906</li><li>465991</li><li>1</li><li>186508</li><li>12036</li><li>33834</li><li>1</li><li>64229</li><li>1</li><li>1</li><li>67730</li><li>2093818</li><li>24627</li><li>391117</li><li>118238</li><li>1</li><li>11354</li></ol>\n"
      ],
      "text/latex": [
       "\\begin{enumerate*}\n",
       "\\item 1\n",
       "\\item 288\n",
       "\\item 1\n",
       "\\item 94880\n",
       "\\item 722587\n",
       "\\item 1\n",
       "\\item 123441\n",
       "\\item 1\n",
       "\\item 1\n",
       "\\item 1\n",
       "\\item 112620\n",
       "\\item 330812\n",
       "\\item 1\n",
       "\\item 24271\n",
       "\\item 1\n",
       "\\item 12117\n",
       "\\item 23393\n",
       "\\item 135482\n",
       "\\item 749970\n",
       "\\item 1\n",
       "\\item 1\n",
       "\\item 130531\n",
       "\\item 1\n",
       "\\item 56516\n",
       "\\item 228639\n",
       "\\item 259814\n",
       "\\item 1\n",
       "\\item 1\n",
       "\\item 12792\n",
       "\\item 1\n",
       "\\item 1\n",
       "\\item 67414\n",
       "\\item 472896\n",
       "\\item 399709\n",
       "\\item 346441\n",
       "\\item 1\n",
       "\\item 1\n",
       "\\item 1\n",
       "\\item 1155\n",
       "\\item 32966\n",
       "\\item 1\n",
       "\\item 1\n",
       "\\item 1\n",
       "\\item 64366\n",
       "\\item 1\n",
       "\\item 872623\n",
       "\\item 1\n",
       "\\item 29598\n",
       "\\item 48523\n",
       "\\item 259752\n",
       "\\item 392866\n",
       "\\item 1\n",
       "\\item 1\n",
       "\\item 1\n",
       "\\item 4597\n",
       "\\item 1\n",
       "\\item 2502\n",
       "\\item 487236\n",
       "\\item 1\n",
       "\\item 9370\n",
       "\\item 1\n",
       "\\item 1\n",
       "\\item 13205\n",
       "\\item 99282\n",
       "\\item 1\n",
       "\\item 35190\n",
       "\\item 1\n",
       "\\item 1\n",
       "\\item 1\n",
       "\\item 25580\n",
       "\\item 15093\n",
       "\\item 72503\n",
       "\\item 865515\n",
       "\\item 67056\n",
       "\\item 223972\n",
       "\\item 2814\n",
       "\\item 153702\n",
       "\\item 1\n",
       "\\item 1\n",
       "\\item 1\n",
       "\\item 501856\n",
       "\\item 1\n",
       "\\item 1\n",
       "\\item 649089\n",
       "\\item 68559\n",
       "\\item 401048\n",
       "\\item 236135\n",
       "\\item 118062\n",
       "\\item 1\n",
       "\\item 1\n",
       "\\item 1\n",
       "\\item 192\n",
       "\\item 1131673\n",
       "\\item 3843\n",
       "\\item 97958\n",
       "\\item 31302\n",
       "\\item 49906\n",
       "\\item 465991\n",
       "\\item 1\n",
       "\\item 186508\n",
       "\\item 12036\n",
       "\\item 33834\n",
       "\\item 1\n",
       "\\item 64229\n",
       "\\item 1\n",
       "\\item 1\n",
       "\\item 67730\n",
       "\\item 2093818\n",
       "\\item 24627\n",
       "\\item 391117\n",
       "\\item 118238\n",
       "\\item 1\n",
       "\\item 11354\n",
       "\\end{enumerate*}\n"
      ],
      "text/markdown": [
       "1. 1\n",
       "2. 288\n",
       "3. 1\n",
       "4. 94880\n",
       "5. 722587\n",
       "6. 1\n",
       "7. 123441\n",
       "8. 1\n",
       "9. 1\n",
       "10. 1\n",
       "11. 112620\n",
       "12. 330812\n",
       "13. 1\n",
       "14. 24271\n",
       "15. 1\n",
       "16. 12117\n",
       "17. 23393\n",
       "18. 135482\n",
       "19. 749970\n",
       "20. 1\n",
       "21. 1\n",
       "22. 130531\n",
       "23. 1\n",
       "24. 56516\n",
       "25. 228639\n",
       "26. 259814\n",
       "27. 1\n",
       "28. 1\n",
       "29. 12792\n",
       "30. 1\n",
       "31. 1\n",
       "32. 67414\n",
       "33. 472896\n",
       "34. 399709\n",
       "35. 346441\n",
       "36. 1\n",
       "37. 1\n",
       "38. 1\n",
       "39. 1155\n",
       "40. 32966\n",
       "41. 1\n",
       "42. 1\n",
       "43. 1\n",
       "44. 64366\n",
       "45. 1\n",
       "46. 872623\n",
       "47. 1\n",
       "48. 29598\n",
       "49. 48523\n",
       "50. 259752\n",
       "51. 392866\n",
       "52. 1\n",
       "53. 1\n",
       "54. 1\n",
       "55. 4597\n",
       "56. 1\n",
       "57. 2502\n",
       "58. 487236\n",
       "59. 1\n",
       "60. 9370\n",
       "61. 1\n",
       "62. 1\n",
       "63. 13205\n",
       "64. 99282\n",
       "65. 1\n",
       "66. 35190\n",
       "67. 1\n",
       "68. 1\n",
       "69. 1\n",
       "70. 25580\n",
       "71. 15093\n",
       "72. 72503\n",
       "73. 865515\n",
       "74. 67056\n",
       "75. 223972\n",
       "76. 2814\n",
       "77. 153702\n",
       "78. 1\n",
       "79. 1\n",
       "80. 1\n",
       "81. 501856\n",
       "82. 1\n",
       "83. 1\n",
       "84. 649089\n",
       "85. 68559\n",
       "86. 401048\n",
       "87. 236135\n",
       "88. 118062\n",
       "89. 1\n",
       "90. 1\n",
       "91. 1\n",
       "92. 192\n",
       "93. 1131673\n",
       "94. 3843\n",
       "95. 97958\n",
       "96. 31302\n",
       "97. 49906\n",
       "98. 465991\n",
       "99. 1\n",
       "100. 186508\n",
       "101. 12036\n",
       "102. 33834\n",
       "103. 1\n",
       "104. 64229\n",
       "105. 1\n",
       "106. 1\n",
       "107. 67730\n",
       "108. 2093818\n",
       "109. 24627\n",
       "110. 391117\n",
       "111. 118238\n",
       "112. 1\n",
       "113. 11354\n",
       "\n",
       "\n"
      ],
      "text/plain": [
       "  [1]       1     288       1   94880  722587       1  123441       1       1\n",
       " [10]       1  112620  330812       1   24271       1   12117   23393  135482\n",
       " [19]  749970       1       1  130531       1   56516  228639  259814       1\n",
       " [28]       1   12792       1       1   67414  472896  399709  346441       1\n",
       " [37]       1       1    1155   32966       1       1       1   64366       1\n",
       " [46]  872623       1   29598   48523  259752  392866       1       1       1\n",
       " [55]    4597       1    2502  487236       1    9370       1       1   13205\n",
       " [64]   99282       1   35190       1       1       1   25580   15093   72503\n",
       " [73]  865515   67056  223972    2814  153702       1       1       1  501856\n",
       " [82]       1       1  649089   68559  401048  236135  118062       1       1\n",
       " [91]       1     192 1131673    3843   97958   31302   49906  465991       1\n",
       "[100]  186508   12036   33834       1   64229       1       1   67730 2093818\n",
       "[109]   24627  391117  118238       1   11354"
      ]
     },
     "metadata": {},
     "output_type": "display_data"
    }
   ],
   "source": []
  },
  {
   "cell_type": "code",
   "execution_count": 30,
   "id": "f2d543f8",
   "metadata": {
    "vscode": {
     "languageId": "r"
    }
   },
   "outputs": [
    {
     "data": {
      "text/plain": [
       "GRanges object with 4968 ranges and 1 metadata column:\n",
       "         seqnames    ranges strand |         SNP\n",
       "            <Rle> <IRanges>  <Rle> | <character>\n",
       "     [1]     chr1   6989416      * | rs111677930\n",
       "     [2]     chr1  31566864      * |  rs11336043\n",
       "     [3]     chr1  31567151      * |  rs59705505\n",
       "     [4]     chr1  95840521      * |  rs78722519\n",
       "     [5]     chr1 161094834      * |  rs10908823\n",
       "     ...      ...       ...    ... .         ...\n",
       "  [4964]    chr20  55099470      * |   rs6024927\n",
       "  [4965]    chr21  20170364      * | rs778350343\n",
       "  [4966]    chr21  27522908      * |  rs12483003\n",
       "  [4967]    chr21  27523988      * |    rs455047\n",
       "  [4968]    chr21  27534261      * |   rs4817090\n",
       "  -------\n",
       "  seqinfo: 21 sequences from an unspecified genome; no seqlengths"
      ]
     },
     "metadata": {},
     "output_type": "display_data"
    }
   ],
   "source": [
    "leadSNPs"
   ]
  },
  {
   "cell_type": "code",
   "execution_count": 40,
   "id": "c2bf1c9f",
   "metadata": {
    "vscode": {
     "languageId": "r"
    }
   },
   "outputs": [
    {
     "data": {
      "text/plain": [
       "Hits object with 2 hits and 0 metadata columns:\n",
       "      queryHits subjectHits\n",
       "      <integer>   <integer>\n",
       "  [1]         1           2\n",
       "  [2]         1           3\n",
       "  -------\n",
       "  queryLength: 1 / subjectLength: 4968"
      ]
     },
     "metadata": {},
     "output_type": "display_data"
    }
   ],
   "source": [
    "findOverlaps(loci[2], leadSNPs, minoverlap = 1)"
   ]
  },
  {
   "cell_type": "code",
   "execution_count": 55,
   "id": "ba36995c",
   "metadata": {
    "vscode": {
     "languageId": "r"
    }
   },
   "outputs": [
    {
     "data": {
      "text/plain": [
       "GRanges object with 47 ranges and 0 metadata columns:\n",
       "       seqnames              ranges strand\n",
       "          <Rle>           <IRanges>  <Rle>\n",
       "   [1]     chr1     6489416-7489415      *\n",
       "   [2]     chr1   95340521-96340520      *\n",
       "   [3]     chr2   71526348-72526347      *\n",
       "   [4]     chr2 135161678-136161677      *\n",
       "   [5]     chr2 186250120-187250119      *\n",
       "   ...      ...                 ...    ...\n",
       "  [43]    chr17    9675446-10675445      *\n",
       "  [44]    chr18   55689459-56689458      *\n",
       "  [45]    chr19     4603567-5603566      *\n",
       "  [46]    chr19   14198231-15198230      *\n",
       "  [47]    chr21   19670364-20670363      *\n",
       "  -------\n",
       "  seqinfo: 21 sequences from an unspecified genome; no seqlengths"
      ]
     },
     "metadata": {},
     "output_type": "display_data"
    },
    {
     "data": {
      "text/plain": [
       "GRanges object with 6 ranges and 0 metadata columns:\n",
       "      seqnames    ranges strand\n",
       "         <Rle> <IRanges>  <Rle>\n",
       "  [1]     chr1   6989416      *\n",
       "  [2]     chr1  95840521      *\n",
       "  [3]     chr2  72026348      *\n",
       "  [4]     chr2 135661678      *\n",
       "  [5]     chr2 186750120      *\n",
       "  [6]     chr2 191095557      *\n",
       "  -------\n",
       "  seqinfo: 21 sequences from an unspecified genome; no seqlengths"
      ]
     },
     "metadata": {},
     "output_type": "display_data"
    }
   ],
   "source": [
    "loci[width(loci) < 2] %>% promoters(5e5, 5e5)\n",
    "loci[width(loci) < 2] %>% head"
   ]
  },
  {
   "cell_type": "code",
   "execution_count": 56,
   "id": "5ddb7410",
   "metadata": {
    "vscode": {
     "languageId": "r"
    }
   },
   "outputs": [
    {
     "data": {
      "text/html": [
       "5e+05"
      ],
      "text/latex": [
       "5e+05"
      ],
      "text/markdown": [
       "5e+05"
      ],
      "text/plain": [
       "[1] 5e+05"
      ]
     },
     "metadata": {},
     "output_type": "display_data"
    },
    {
     "data": {
      "text/html": [
       "499999"
      ],
      "text/latex": [
       "499999"
      ],
      "text/markdown": [
       "499999"
      ],
      "text/plain": [
       "[1] 499999"
      ]
     },
     "metadata": {},
     "output_type": "display_data"
    }
   ],
   "source": [
    "6989416-6489416\n",
    "7489415-6989416"
   ]
  },
  {
   "cell_type": "code",
   "execution_count": 22,
   "id": "324e80d8",
   "metadata": {
    "vscode": {
     "languageId": "r"
    }
   },
   "outputs": [
    {
     "data": {
      "text/html": [
       "<table class=\"dataframe\">\n",
       "<caption>A data.table: 6 × 7</caption>\n",
       "<thead>\n",
       "\t<tr><th scope=col>CHR</th><th scope=col>POS</th><th scope=col>SNP</th><th scope=col>BETA</th><th scope=col>SE</th><th scope=col>P</th><th scope=col>DOF</th></tr>\n",
       "\t<tr><th scope=col>&lt;int&gt;</th><th scope=col>&lt;int&gt;</th><th scope=col>&lt;chr&gt;</th><th scope=col>&lt;dbl&gt;</th><th scope=col>&lt;dbl&gt;</th><th scope=col>&lt;dbl&gt;</th><th scope=col>&lt;int&gt;</th></tr>\n",
       "</thead>\n",
       "<tbody>\n",
       "\t<tr><td>1</td><td>  6989416</td><td>rs111677930</td><td>-0.01397147</td><td>0.003033090</td><td>4.098005e-06</td><td>390467</td></tr>\n",
       "\t<tr><td>1</td><td> 31566864</td><td>rs11336043 </td><td> 0.04773700</td><td>0.010765600</td><td>9.240000e-06</td><td> 17477</td></tr>\n",
       "\t<tr><td>1</td><td> 31567151</td><td>rs59705505 </td><td> 0.04949090</td><td>0.010698400</td><td>3.728000e-06</td><td> 17477</td></tr>\n",
       "\t<tr><td>1</td><td> 95840521</td><td>rs78722519 </td><td> 0.04814822</td><td>0.010740759</td><td>7.368436e-06</td><td>457840</td></tr>\n",
       "\t<tr><td>1</td><td>161094834</td><td>rs10908823 </td><td> 0.01021586</td><td>0.002182186</td><td>2.848093e-06</td><td>458400</td></tr>\n",
       "\t<tr><td>1</td><td>161097241</td><td>rs12727614 </td><td> 0.01157593</td><td>0.002370435</td><td>1.042386e-06</td><td>458498</td></tr>\n",
       "</tbody>\n",
       "</table>\n"
      ],
      "text/latex": [
       "A data.table: 6 × 7\n",
       "\\begin{tabular}{lllllll}\n",
       " CHR & POS & SNP & BETA & SE & P & DOF\\\\\n",
       " <int> & <int> & <chr> & <dbl> & <dbl> & <dbl> & <int>\\\\\n",
       "\\hline\n",
       "\t 1 &   6989416 & rs111677930 & -0.01397147 & 0.003033090 & 4.098005e-06 & 390467\\\\\n",
       "\t 1 &  31566864 & rs11336043  &  0.04773700 & 0.010765600 & 9.240000e-06 &  17477\\\\\n",
       "\t 1 &  31567151 & rs59705505  &  0.04949090 & 0.010698400 & 3.728000e-06 &  17477\\\\\n",
       "\t 1 &  95840521 & rs78722519  &  0.04814822 & 0.010740759 & 7.368436e-06 & 457840\\\\\n",
       "\t 1 & 161094834 & rs10908823  &  0.01021586 & 0.002182186 & 2.848093e-06 & 458400\\\\\n",
       "\t 1 & 161097241 & rs12727614  &  0.01157593 & 0.002370435 & 1.042386e-06 & 458498\\\\\n",
       "\\end{tabular}\n"
      ],
      "text/markdown": [
       "\n",
       "A data.table: 6 × 7\n",
       "\n",
       "| CHR &lt;int&gt; | POS &lt;int&gt; | SNP &lt;chr&gt; | BETA &lt;dbl&gt; | SE &lt;dbl&gt; | P &lt;dbl&gt; | DOF &lt;int&gt; |\n",
       "|---|---|---|---|---|---|---|\n",
       "| 1 |   6989416 | rs111677930 | -0.01397147 | 0.003033090 | 4.098005e-06 | 390467 |\n",
       "| 1 |  31566864 | rs11336043  |  0.04773700 | 0.010765600 | 9.240000e-06 |  17477 |\n",
       "| 1 |  31567151 | rs59705505  |  0.04949090 | 0.010698400 | 3.728000e-06 |  17477 |\n",
       "| 1 |  95840521 | rs78722519  |  0.04814822 | 0.010740759 | 7.368436e-06 | 457840 |\n",
       "| 1 | 161094834 | rs10908823  |  0.01021586 | 0.002182186 | 2.848093e-06 | 458400 |\n",
       "| 1 | 161097241 | rs12727614  |  0.01157593 | 0.002370435 | 1.042386e-06 | 458498 |\n",
       "\n"
      ],
      "text/plain": [
       "  CHR POS       SNP         BETA        SE          P            DOF   \n",
       "1 1     6989416 rs111677930 -0.01397147 0.003033090 4.098005e-06 390467\n",
       "2 1    31566864 rs11336043   0.04773700 0.010765600 9.240000e-06  17477\n",
       "3 1    31567151 rs59705505   0.04949090 0.010698400 3.728000e-06  17477\n",
       "4 1    95840521 rs78722519   0.04814822 0.010740759 7.368436e-06 457840\n",
       "5 1   161094834 rs10908823   0.01021586 0.002182186 2.848093e-06 458400\n",
       "6 1   161097241 rs12727614   0.01157593 0.002370435 1.042386e-06 458498"
      ]
     },
     "metadata": {},
     "output_type": "display_data"
    },
    {
     "data": {
      "text/html": [
       "<style>\n",
       ".list-inline {list-style: none; margin:0; padding: 0}\n",
       ".list-inline>li {display: inline-block}\n",
       ".list-inline>li:not(:last-child)::after {content: \"\\00b7\"; padding: 0 .5ex}\n",
       "</style>\n",
       "<ol class=list-inline><li>4968</li><li>7</li></ol>\n"
      ],
      "text/latex": [
       "\\begin{enumerate*}\n",
       "\\item 4968\n",
       "\\item 7\n",
       "\\end{enumerate*}\n"
      ],
      "text/markdown": [
       "1. 4968\n",
       "2. 7\n",
       "\n",
       "\n"
      ],
      "text/plain": [
       "[1] 4968    7"
      ]
     },
     "metadata": {},
     "output_type": "display_data"
    }
   ],
   "source": [
    "head(outdf)\n",
    "dim(outdf)"
   ]
  },
  {
   "cell_type": "code",
   "execution_count": null,
   "id": "fb1f5536",
   "metadata": {
    "vscode": {
     "languageId": "r"
    }
   },
   "outputs": [],
   "source": []
  },
  {
   "cell_type": "code",
   "execution_count": null,
   "id": "3d303d77",
   "metadata": {
    "vscode": {
     "languageId": "r"
    }
   },
   "outputs": [],
   "source": []
  },
  {
   "cell_type": "code",
   "execution_count": 39,
   "id": "2b76d3ef",
   "metadata": {
    "vscode": {
     "languageId": "r"
    }
   },
   "outputs": [],
   "source": [
    "OutFile <- glue(\"{OutDir}/{g$label}.txt\")\n",
    "fwrite(outdf, OutFile, sep = \" \")\n"
   ]
  },
  {
   "cell_type": "markdown",
   "id": "50503565",
   "metadata": {},
   "source": [
    "---\n"
   ]
  },
  {
   "cell_type": "markdown",
   "id": "01941bdf",
   "metadata": {},
   "source": [
    "## Munge HT, Height\n"
   ]
  },
  {
   "cell_type": "code",
   "execution_count": null,
   "id": "26f3fceb",
   "metadata": {
    "vscode": {
     "languageId": "r"
    }
   },
   "outputs": [
    {
     "data": {
      "text/html": [
       "<dl>\n",
       "\t<dt>$trait</dt>\n",
       "\t\t<dd>'Parkinson\\'s disease'</dd>\n",
       "\t<dt>$label</dt>\n",
       "\t\t<dd>'PD'</dd>\n",
       "\t<dt>$path</dt>\n",
       "\t\t<dd>'/project/yangili1/cdai/SpliFi/code/resources/GWAS/zpmu-GWAS_loci/pkd_loci_1e-5.txt'</dd>\n",
       "\t<dt>$isHg38</dt>\n",
       "\t\t<dd>FALSE</dd>\n",
       "</dl>\n"
      ],
      "text/latex": [
       "\\begin{description}\n",
       "\\item[\\$trait] 'Parkinson\\textbackslash{}'s disease'\n",
       "\\item[\\$label] 'PD'\n",
       "\\item[\\$path] '/project/yangili1/cdai/SpliFi/code/resources/GWAS/zpmu-GWAS\\_loci/pkd\\_loci\\_1e-5.txt'\n",
       "\\item[\\$isHg38] FALSE\n",
       "\\end{description}\n"
      ],
      "text/markdown": [
       "$trait\n",
       ":   'Parkinson\\'s disease'\n",
       "$label\n",
       ":   'PD'\n",
       "$path\n",
       ":   '/project/yangili1/cdai/SpliFi/code/resources/GWAS/zpmu-GWAS_loci/pkd_loci_1e-5.txt'\n",
       "$isHg38\n",
       ":   FALSE\n",
       "\n",
       "\n"
      ],
      "text/plain": [
       "$trait\n",
       "[1] \"Parkinson's disease\"\n",
       "\n",
       "$label\n",
       "[1] \"PD\"\n",
       "\n",
       "$path\n",
       "[1] \"/project/yangili1/cdai/SpliFi/code/resources/GWAS/zpmu-GWAS_loci/pkd_loci_1e-5.txt\"\n",
       "\n",
       "$isHg38\n",
       "[1] FALSE\n"
      ]
     },
     "metadata": {},
     "output_type": "display_data"
    }
   ],
   "source": [
    "g <- pluck(gwas, \"GWAS\", \"PD\")\n",
    "g\n"
   ]
  },
  {
   "cell_type": "code",
   "execution_count": null,
   "id": "61609713",
   "metadata": {
    "vscode": {
     "languageId": "r"
    }
   },
   "outputs": [],
   "source": [
    "df <- fread(g$path)\n"
   ]
  },
  {
   "cell_type": "code",
   "execution_count": null,
   "id": "347af281",
   "metadata": {
    "vscode": {
     "languageId": "r"
    }
   },
   "outputs": [
    {
     "data": {
      "text/html": [
       "<table class=\"dataframe\">\n",
       "<caption>A data.table: 3 × 4</caption>\n",
       "<thead>\n",
       "\t<tr><th scope=col>SNPID</th><th scope=col>Chr</th><th scope=col>Position</th><th scope=col>Pval</th></tr>\n",
       "\t<tr><th scope=col>&lt;chr&gt;</th><th scope=col>&lt;int&gt;</th><th scope=col>&lt;int&gt;</th><th scope=col>&lt;dbl&gt;</th></tr>\n",
       "</thead>\n",
       "<tbody>\n",
       "\t<tr><td>1:155135036</td><td>1</td><td>155135036</td><td>5.022e-30</td></tr>\n",
       "\t<tr><td>1:156007988</td><td>1</td><td>156007988</td><td>9.460e-18</td></tr>\n",
       "\t<tr><td>1:152192927</td><td>1</td><td>152192927</td><td>6.326e-14</td></tr>\n",
       "</tbody>\n",
       "</table>\n"
      ],
      "text/latex": [
       "A data.table: 3 × 4\n",
       "\\begin{tabular}{llll}\n",
       " SNPID & Chr & Position & Pval\\\\\n",
       " <chr> & <int> & <int> & <dbl>\\\\\n",
       "\\hline\n",
       "\t 1:155135036 & 1 & 155135036 & 5.022e-30\\\\\n",
       "\t 1:156007988 & 1 & 156007988 & 9.460e-18\\\\\n",
       "\t 1:152192927 & 1 & 152192927 & 6.326e-14\\\\\n",
       "\\end{tabular}\n"
      ],
      "text/markdown": [
       "\n",
       "A data.table: 3 × 4\n",
       "\n",
       "| SNPID &lt;chr&gt; | Chr &lt;int&gt; | Position &lt;int&gt; | Pval &lt;dbl&gt; |\n",
       "|---|---|---|---|\n",
       "| 1:155135036 | 1 | 155135036 | 5.022e-30 |\n",
       "| 1:156007988 | 1 | 156007988 | 9.460e-18 |\n",
       "| 1:152192927 | 1 | 152192927 | 6.326e-14 |\n",
       "\n"
      ],
      "text/plain": [
       "  SNPID       Chr Position  Pval     \n",
       "1 1:155135036 1   155135036 5.022e-30\n",
       "2 1:156007988 1   156007988 9.460e-18\n",
       "3 1:152192927 1   152192927 6.326e-14"
      ]
     },
     "metadata": {},
     "output_type": "display_data"
    },
    {
     "data": {
      "text/html": [
       "<style>\n",
       ".list-inline {list-style: none; margin:0; padding: 0}\n",
       ".list-inline>li {display: inline-block}\n",
       ".list-inline>li:not(:last-child)::after {content: \"\\00b7\"; padding: 0 .5ex}\n",
       "</style>\n",
       "<ol class=list-inline><li>96</li><li>4</li></ol>\n"
      ],
      "text/latex": [
       "\\begin{enumerate*}\n",
       "\\item 96\n",
       "\\item 4\n",
       "\\end{enumerate*}\n"
      ],
      "text/markdown": [
       "1. 96\n",
       "2. 4\n",
       "\n",
       "\n"
      ],
      "text/plain": [
       "[1] 96  4"
      ]
     },
     "metadata": {},
     "output_type": "display_data"
    }
   ],
   "source": [
    "df[1:3]\n",
    "dim(df)\n"
   ]
  },
  {
   "cell_type": "code",
   "execution_count": null,
   "id": "3dc480e7",
   "metadata": {
    "vscode": {
     "languageId": "r"
    }
   },
   "outputs": [
    {
     "name": "stdout",
     "output_type": "stream",
     "text": [
      "Select snps using min p value: p < 1e-05\n"
     ]
    }
   ],
   "source": [
    "# select snps based on min pval\n",
    "print(glue(\"Select snps using min p value: p < {MinPVal}\"))\n"
   ]
  },
  {
   "cell_type": "code",
   "execution_count": null,
   "id": "bd1f23e5",
   "metadata": {
    "vscode": {
     "languageId": "r"
    }
   },
   "outputs": [
    {
     "name": "stdout",
     "output_type": "stream",
     "text": [
      "dim after filtering with P value: 4968\n",
      "dim after filtering with P value: 14\n"
     ]
    }
   ],
   "source": [
    "df <- df[P < MinPVal]\n",
    "\n",
    "print(glue(\"dim after filtering with P value: {dim(df)}\"))\n"
   ]
  },
  {
   "cell_type": "code",
   "execution_count": null,
   "id": "d658f682",
   "metadata": {
    "vscode": {
     "languageId": "r"
    }
   },
   "outputs": [],
   "source": [
    "outdf <- df[, .(CHR = CHR, POS = BP, SNP = SNP, BETA = BETA, SE = SE, P = P, DOF = Nsum)][order(CHR, POS)]\n"
   ]
  },
  {
   "cell_type": "code",
   "execution_count": null,
   "id": "5b8987a2",
   "metadata": {
    "vscode": {
     "languageId": "r"
    }
   },
   "outputs": [],
   "source": [
    "OutFile <- glue(\"{OutDir}/{g$label}.txt\")\n",
    "fwrite(outdf, OutFile, sep = \" \")\n"
   ]
  },
  {
   "cell_type": "markdown",
   "id": "71db9edf",
   "metadata": {},
   "source": [
    "---\n"
   ]
  },
  {
   "cell_type": "code",
   "execution_count": 70,
   "id": "d9157cc1",
   "metadata": {
    "vscode": {
     "languageId": "r"
    }
   },
   "outputs": [],
   "source": [
    "geno1 <- fread(\"results/geno/GTEx/Liver/chr1.pca\")\n",
    "pheno1 <- fread(\"results/eqtl/GTEx/Liver/qqnorm.sorted.bed.pca\")\n"
   ]
  },
  {
   "cell_type": "code",
   "execution_count": 61,
   "id": "2b2d5152",
   "metadata": {
    "vscode": {
     "languageId": "r"
    }
   },
   "outputs": [
    {
     "data": {
      "text/html": [
       "<table class=\"dataframe\">\n",
       "<caption>A data.table: 5 × 5</caption>\n",
       "<thead>\n",
       "\t<tr><th scope=col>SampleID</th><th scope=col>GTEX-11DXZ</th><th scope=col>GTEX-11EQ9</th><th scope=col>GTEX-11GSP</th><th scope=col>GTEX-11NUK</th></tr>\n",
       "\t<tr><th scope=col>&lt;chr&gt;</th><th scope=col>&lt;dbl&gt;</th><th scope=col>&lt;dbl&gt;</th><th scope=col>&lt;dbl&gt;</th><th scope=col>&lt;dbl&gt;</th></tr>\n",
       "</thead>\n",
       "<tbody>\n",
       "\t<tr><td>results/geno/GTEx/Liver/chr1_1_1_svd_PC1</td><td>454.95800</td><td>-46.63760</td><td>-52.4983</td><td>-60.30990</td></tr>\n",
       "\t<tr><td>results/geno/GTEx/Liver/chr1_1_1_svd_PC2</td><td>-30.28540</td><td>-15.62330</td><td> 15.7860</td><td> -4.85989</td></tr>\n",
       "\t<tr><td>results/geno/GTEx/Liver/chr1_1_1_svd_PC3</td><td> -3.58442</td><td>  5.17735</td><td>-89.5607</td><td> -6.54335</td></tr>\n",
       "\t<tr><td>results/geno/GTEx/Liver/chr1_1_1_svd_PC4</td><td> -8.37309</td><td>101.81900</td><td> 53.0242</td><td> 68.91300</td></tr>\n",
       "\t<tr><td>results/geno/GTEx/Liver/chr1_1_1_svd_PC5</td><td> 11.14680</td><td> 49.21650</td><td> 16.4646</td><td> 20.65760</td></tr>\n",
       "</tbody>\n",
       "</table>\n"
      ],
      "text/latex": [
       "A data.table: 5 × 5\n",
       "\\begin{tabular}{lllll}\n",
       " SampleID & GTEX-11DXZ & GTEX-11EQ9 & GTEX-11GSP & GTEX-11NUK\\\\\n",
       " <chr> & <dbl> & <dbl> & <dbl> & <dbl>\\\\\n",
       "\\hline\n",
       "\t results/geno/GTEx/Liver/chr1\\_1\\_1\\_svd\\_PC1 & 454.95800 & -46.63760 & -52.4983 & -60.30990\\\\\n",
       "\t results/geno/GTEx/Liver/chr1\\_1\\_1\\_svd\\_PC2 & -30.28540 & -15.62330 &  15.7860 &  -4.85989\\\\\n",
       "\t results/geno/GTEx/Liver/chr1\\_1\\_1\\_svd\\_PC3 &  -3.58442 &   5.17735 & -89.5607 &  -6.54335\\\\\n",
       "\t results/geno/GTEx/Liver/chr1\\_1\\_1\\_svd\\_PC4 &  -8.37309 & 101.81900 &  53.0242 &  68.91300\\\\\n",
       "\t results/geno/GTEx/Liver/chr1\\_1\\_1\\_svd\\_PC5 &  11.14680 &  49.21650 &  16.4646 &  20.65760\\\\\n",
       "\\end{tabular}\n"
      ],
      "text/markdown": [
       "\n",
       "A data.table: 5 × 5\n",
       "\n",
       "| SampleID &lt;chr&gt; | GTEX-11DXZ &lt;dbl&gt; | GTEX-11EQ9 &lt;dbl&gt; | GTEX-11GSP &lt;dbl&gt; | GTEX-11NUK &lt;dbl&gt; |\n",
       "|---|---|---|---|---|\n",
       "| results/geno/GTEx/Liver/chr1_1_1_svd_PC1 | 454.95800 | -46.63760 | -52.4983 | -60.30990 |\n",
       "| results/geno/GTEx/Liver/chr1_1_1_svd_PC2 | -30.28540 | -15.62330 |  15.7860 |  -4.85989 |\n",
       "| results/geno/GTEx/Liver/chr1_1_1_svd_PC3 |  -3.58442 |   5.17735 | -89.5607 |  -6.54335 |\n",
       "| results/geno/GTEx/Liver/chr1_1_1_svd_PC4 |  -8.37309 | 101.81900 |  53.0242 |  68.91300 |\n",
       "| results/geno/GTEx/Liver/chr1_1_1_svd_PC5 |  11.14680 |  49.21650 |  16.4646 |  20.65760 |\n",
       "\n"
      ],
      "text/plain": [
       "  SampleID                                 GTEX-11DXZ GTEX-11EQ9 GTEX-11GSP\n",
       "1 results/geno/GTEx/Liver/chr1_1_1_svd_PC1 454.95800  -46.63760  -52.4983  \n",
       "2 results/geno/GTEx/Liver/chr1_1_1_svd_PC2 -30.28540  -15.62330   15.7860  \n",
       "3 results/geno/GTEx/Liver/chr1_1_1_svd_PC3  -3.58442    5.17735  -89.5607  \n",
       "4 results/geno/GTEx/Liver/chr1_1_1_svd_PC4  -8.37309  101.81900   53.0242  \n",
       "5 results/geno/GTEx/Liver/chr1_1_1_svd_PC5  11.14680   49.21650   16.4646  \n",
       "  GTEX-11NUK\n",
       "1 -60.30990 \n",
       "2  -4.85989 \n",
       "3  -6.54335 \n",
       "4  68.91300 \n",
       "5  20.65760 "
      ]
     },
     "metadata": {},
     "output_type": "display_data"
    },
    {
     "data": {
      "text/html": [
       "<style>\n",
       ".list-inline {list-style: none; margin:0; padding: 0}\n",
       ".list-inline>li {display: inline-block}\n",
       ".list-inline>li:not(:last-child)::after {content: \"\\00b7\"; padding: 0 .5ex}\n",
       "</style>\n",
       "<ol class=list-inline><li>208</li><li>209</li></ol>\n"
      ],
      "text/latex": [
       "\\begin{enumerate*}\n",
       "\\item 208\n",
       "\\item 209\n",
       "\\end{enumerate*}\n"
      ],
      "text/markdown": [
       "1. 208\n",
       "2. 209\n",
       "\n",
       "\n"
      ],
      "text/plain": [
       "[1] 208 209"
      ]
     },
     "metadata": {},
     "output_type": "display_data"
    }
   ],
   "source": [
    "geno1[1:5, 1:5]\n",
    "dim(geno1)\n"
   ]
  },
  {
   "cell_type": "code",
   "execution_count": 71,
   "id": "6012a8c0",
   "metadata": {
    "vscode": {
     "languageId": "r"
    }
   },
   "outputs": [
    {
     "data": {
      "text/html": [
       "<table class=\"dataframe\">\n",
       "<caption>A data.table: 5 × 5</caption>\n",
       "<thead>\n",
       "\t<tr><th scope=col>SampleID</th><th scope=col>GTEX-11DXZ</th><th scope=col>GTEX-11EQ9</th><th scope=col>GTEX-11GSP</th><th scope=col>GTEX-11NUK</th></tr>\n",
       "\t<tr><th scope=col>&lt;chr&gt;</th><th scope=col>&lt;dbl&gt;</th><th scope=col>&lt;dbl&gt;</th><th scope=col>&lt;dbl&gt;</th><th scope=col>&lt;dbl&gt;</th></tr>\n",
       "</thead>\n",
       "<tbody>\n",
       "\t<tr><td>PC1</td><td> -6.54117</td><td>50.09002</td><td>-43.99120</td><td>-81.67349</td></tr>\n",
       "\t<tr><td>PC2</td><td> 63.01419</td><td>45.85104</td><td>-32.92342</td><td> -2.26365</td></tr>\n",
       "\t<tr><td>PC3</td><td>-43.55778</td><td>-7.79232</td><td>-48.03783</td><td> -7.64037</td></tr>\n",
       "\t<tr><td>PC4</td><td>  3.85122</td><td> 3.03478</td><td> 11.87543</td><td> 12.90839</td></tr>\n",
       "\t<tr><td>PC5</td><td> -7.12123</td><td>-0.09161</td><td>-26.82369</td><td>  8.49484</td></tr>\n",
       "</tbody>\n",
       "</table>\n"
      ],
      "text/latex": [
       "A data.table: 5 × 5\n",
       "\\begin{tabular}{lllll}\n",
       " SampleID & GTEX-11DXZ & GTEX-11EQ9 & GTEX-11GSP & GTEX-11NUK\\\\\n",
       " <chr> & <dbl> & <dbl> & <dbl> & <dbl>\\\\\n",
       "\\hline\n",
       "\t PC1 &  -6.54117 & 50.09002 & -43.99120 & -81.67349\\\\\n",
       "\t PC2 &  63.01419 & 45.85104 & -32.92342 &  -2.26365\\\\\n",
       "\t PC3 & -43.55778 & -7.79232 & -48.03783 &  -7.64037\\\\\n",
       "\t PC4 &   3.85122 &  3.03478 &  11.87543 &  12.90839\\\\\n",
       "\t PC5 &  -7.12123 & -0.09161 & -26.82369 &   8.49484\\\\\n",
       "\\end{tabular}\n"
      ],
      "text/markdown": [
       "\n",
       "A data.table: 5 × 5\n",
       "\n",
       "| SampleID &lt;chr&gt; | GTEX-11DXZ &lt;dbl&gt; | GTEX-11EQ9 &lt;dbl&gt; | GTEX-11GSP &lt;dbl&gt; | GTEX-11NUK &lt;dbl&gt; |\n",
       "|---|---|---|---|---|\n",
       "| PC1 |  -6.54117 | 50.09002 | -43.99120 | -81.67349 |\n",
       "| PC2 |  63.01419 | 45.85104 | -32.92342 |  -2.26365 |\n",
       "| PC3 | -43.55778 | -7.79232 | -48.03783 |  -7.64037 |\n",
       "| PC4 |   3.85122 |  3.03478 |  11.87543 |  12.90839 |\n",
       "| PC5 |  -7.12123 | -0.09161 | -26.82369 |   8.49484 |\n",
       "\n"
      ],
      "text/plain": [
       "  SampleID GTEX-11DXZ GTEX-11EQ9 GTEX-11GSP GTEX-11NUK\n",
       "1 PC1       -6.54117  50.09002   -43.99120  -81.67349 \n",
       "2 PC2       63.01419  45.85104   -32.92342   -2.26365 \n",
       "3 PC3      -43.55778  -7.79232   -48.03783   -7.64037 \n",
       "4 PC4        3.85122   3.03478    11.87543   12.90839 \n",
       "5 PC5       -7.12123  -0.09161   -26.82369    8.49484 "
      ]
     },
     "metadata": {},
     "output_type": "display_data"
    },
    {
     "data": {
      "text/html": [
       "<style>\n",
       ".list-inline {list-style: none; margin:0; padding: 0}\n",
       ".list-inline>li {display: inline-block}\n",
       ".list-inline>li:not(:last-child)::after {content: \"\\00b7\"; padding: 0 .5ex}\n",
       "</style>\n",
       "<ol class=list-inline><li>25</li><li>209</li></ol>\n"
      ],
      "text/latex": [
       "\\begin{enumerate*}\n",
       "\\item 25\n",
       "\\item 209\n",
       "\\end{enumerate*}\n"
      ],
      "text/markdown": [
       "1. 25\n",
       "2. 209\n",
       "\n",
       "\n"
      ],
      "text/plain": [
       "[1]  25 209"
      ]
     },
     "metadata": {},
     "output_type": "display_data"
    }
   ],
   "source": [
    "pheno1[1:5, 1:5]\n",
    "dim(pheno1)\n"
   ]
  },
  {
   "cell_type": "code",
   "execution_count": 68,
   "id": "ae6ff185",
   "metadata": {
    "vscode": {
     "languageId": "r"
    }
   },
   "outputs": [
    {
     "data": {
      "text/html": [
       "<table class=\"dataframe\">\n",
       "<caption>A data.table: 5 × 5</caption>\n",
       "<thead>\n",
       "\t<tr><th scope=col>SampleID</th><th scope=col>GTEX-11DXY</th><th scope=col>GTEX-11DXZ</th><th scope=col>GTEX-11EQ9</th><th scope=col>GTEX-11GSP</th></tr>\n",
       "\t<tr><th scope=col>&lt;chr&gt;</th><th scope=col>&lt;dbl&gt;</th><th scope=col>&lt;dbl&gt;</th><th scope=col>&lt;dbl&gt;</th><th scope=col>&lt;dbl&gt;</th></tr>\n",
       "</thead>\n",
       "<tbody>\n",
       "\t<tr><td>PC1</td><td> 63.67026</td><td>  4.73872</td><td>-50.98865</td><td> 41.82375</td></tr>\n",
       "\t<tr><td>PC2</td><td>-15.17553</td><td>-62.39309</td><td>-47.27571</td><td> 35.45500</td></tr>\n",
       "\t<tr><td>PC3</td><td> 34.56147</td><td>-42.46150</td><td> -8.78532</td><td>-52.34034</td></tr>\n",
       "\t<tr><td>PC4</td><td>-11.20506</td><td>  6.93315</td><td> -1.65863</td><td> -1.66468</td></tr>\n",
       "\t<tr><td>PC5</td><td> 20.06355</td><td> -4.57093</td><td>  0.36809</td><td>-22.76012</td></tr>\n",
       "</tbody>\n",
       "</table>\n"
      ],
      "text/latex": [
       "A data.table: 5 × 5\n",
       "\\begin{tabular}{lllll}\n",
       " SampleID & GTEX-11DXY & GTEX-11DXZ & GTEX-11EQ9 & GTEX-11GSP\\\\\n",
       " <chr> & <dbl> & <dbl> & <dbl> & <dbl>\\\\\n",
       "\\hline\n",
       "\t PC1 &  63.67026 &   4.73872 & -50.98865 &  41.82375\\\\\n",
       "\t PC2 & -15.17553 & -62.39309 & -47.27571 &  35.45500\\\\\n",
       "\t PC3 &  34.56147 & -42.46150 &  -8.78532 & -52.34034\\\\\n",
       "\t PC4 & -11.20506 &   6.93315 &  -1.65863 &  -1.66468\\\\\n",
       "\t PC5 &  20.06355 &  -4.57093 &   0.36809 & -22.76012\\\\\n",
       "\\end{tabular}\n"
      ],
      "text/markdown": [
       "\n",
       "A data.table: 5 × 5\n",
       "\n",
       "| SampleID &lt;chr&gt; | GTEX-11DXY &lt;dbl&gt; | GTEX-11DXZ &lt;dbl&gt; | GTEX-11EQ9 &lt;dbl&gt; | GTEX-11GSP &lt;dbl&gt; |\n",
       "|---|---|---|---|---|\n",
       "| PC1 |  63.67026 |   4.73872 | -50.98865 |  41.82375 |\n",
       "| PC2 | -15.17553 | -62.39309 | -47.27571 |  35.45500 |\n",
       "| PC3 |  34.56147 | -42.46150 |  -8.78532 | -52.34034 |\n",
       "| PC4 | -11.20506 |   6.93315 |  -1.65863 |  -1.66468 |\n",
       "| PC5 |  20.06355 |  -4.57093 |   0.36809 | -22.76012 |\n",
       "\n"
      ],
      "text/plain": [
       "  SampleID GTEX-11DXY GTEX-11DXZ GTEX-11EQ9 GTEX-11GSP\n",
       "1 PC1       63.67026    4.73872  -50.98865   41.82375 \n",
       "2 PC2      -15.17553  -62.39309  -47.27571   35.45500 \n",
       "3 PC3       34.56147  -42.46150   -8.78532  -52.34034 \n",
       "4 PC4      -11.20506    6.93315   -1.65863   -1.66468 \n",
       "5 PC5       20.06355   -4.57093    0.36809  -22.76012 "
      ]
     },
     "metadata": {},
     "output_type": "display_data"
    },
    {
     "data": {
      "text/html": [
       "<style>\n",
       ".list-inline {list-style: none; margin:0; padding: 0}\n",
       ".list-inline>li {display: inline-block}\n",
       ".list-inline>li:not(:last-child)::after {content: \"\\00b7\"; padding: 0 .5ex}\n",
       "</style>\n",
       "<ol class=list-inline><li>26</li><li>227</li></ol>\n"
      ],
      "text/latex": [
       "\\begin{enumerate*}\n",
       "\\item 26\n",
       "\\item 227\n",
       "\\end{enumerate*}\n"
      ],
      "text/markdown": [
       "1. 26\n",
       "2. 227\n",
       "\n",
       "\n"
      ],
      "text/plain": [
       "[1]  26 227"
      ]
     },
     "metadata": {},
     "output_type": "display_data"
    }
   ],
   "source": [
    "pheno1[1:5, 1:5]\n",
    "dim(pheno1)\n"
   ]
  },
  {
   "cell_type": "code",
   "execution_count": 65,
   "id": "5354405e",
   "metadata": {
    "vscode": {
     "languageId": "r"
    }
   },
   "outputs": [],
   "source": [
    "s <- read_lines(\"results/pheno/noisy/GTEx/Liver/separateNoise/leafcutter_names.txt\")\n"
   ]
  },
  {
   "cell_type": "code",
   "execution_count": 66,
   "id": "bcd757b6",
   "metadata": {
    "vscode": {
     "languageId": "r"
    }
   },
   "outputs": [
    {
     "name": "stdout",
     "output_type": "stream",
     "text": [
      " chr [1:208] \"GTEX-11DXZ\" \"GTEX-11EQ9\" \"GTEX-11GSP\" \"GTEX-11NUK\" ...\n"
     ]
    }
   ],
   "source": [
    "str(s)"
   ]
  }
 ],
 "metadata": {
  "kernelspec": {
   "display_name": "R",
   "language": "R",
   "name": "ir"
  },
  "language_info": {
   "codemirror_mode": "r",
   "file_extension": ".r",
   "mimetype": "text/x-r-source",
   "name": "R",
   "pygments_lexer": "r",
   "version": "4.3.1"
  }
 },
 "nbformat": 4,
 "nbformat_minor": 5
}
