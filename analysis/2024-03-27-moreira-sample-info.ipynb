{
 "cells": [
  {
   "cell_type": "raw",
   "id": "2667eb4e-b52e-40a6-8f57-a09acc31f9b3",
   "metadata": {},
   "source": [
    "---\n",
    "title: Moreira et al. data set sample info\n",
    "date: 2024-3-27\n",
    "author: Chao Dai\n",
    "code-fold: true\n",
    "execute:\n",
    "  warning: false\n",
    "  message: false\n",
    "  echo: true\n",
    "  include: true\n",
    "categories:\n",
    "  - Functional genomics\n",
    "\t- Comparative genomics\n",
    "\t- multi-species\n",
    "\t- multi-tissues\n",
    "---"
   ]
  },
  {
   "cell_type": "code",
   "execution_count": 1,
   "id": "d4e39afa-68cd-431d-a9fe-ad3cbc761ccb",
   "metadata": {
    "execution": {
     "iopub.execute_input": "2024-04-08T21:34:51.520150Z",
     "iopub.status.busy": "2024-04-08T21:34:51.518703Z",
     "iopub.status.idle": "2024-04-08T21:34:51.543263Z",
     "shell.execute_reply": "2024-04-08T21:34:51.541581Z"
    },
    "vscode": {
     "languageId": "r"
    }
   },
   "outputs": [],
   "source": [
    "suppressMessages(library(tidyverse))\n",
    "suppressMessages(library(readxl))\n",
    "suppressMessages(library(data.table))\n",
    "suppressMessages(library(glue))"
   ]
  },
  {
   "cell_type": "code",
   "execution_count": 2,
   "id": "c246fc92-8502-41b0-9c4c-9596e0048539",
   "metadata": {
    "execution": {
     "iopub.execute_input": "2024-04-08T21:32:13.317759Z",
     "iopub.status.busy": "2024-04-08T21:32:13.286186Z",
     "iopub.status.idle": "2024-04-08T21:32:13.362757Z",
     "shell.execute_reply": "2024-04-08T21:32:13.361127Z"
    },
    "vscode": {
     "languageId": "r"
    }
   },
   "outputs": [],
   "source": [
    "suppressMessages(library(cowplot))\n",
    "theme_set(theme_cowplot(font_size = 14))"
   ]
  },
  {
   "cell_type": "code",
   "execution_count": 5,
   "id": "3c40fa67-c819-405c-9422-bbf13b77d442",
   "metadata": {
    "execution": {
     "iopub.execute_input": "2024-04-08T21:32:14.514595Z",
     "iopub.status.busy": "2024-04-08T21:32:14.513230Z",
     "iopub.status.idle": "2024-04-08T21:32:14.533730Z",
     "shell.execute_reply": "2024-04-08T21:32:14.532125Z"
    },
    "vscode": {
     "languageId": "r"
    }
   },
   "outputs": [
    {
     "data": {
      "text/html": [
       "'/project2/yangili1/cdai/SpliFi/analysis'"
      ],
      "text/latex": [
       "'/project2/yangili1/cdai/SpliFi/analysis'"
      ],
      "text/markdown": [
       "'/project2/yangili1/cdai/SpliFi/analysis'"
      ],
      "text/plain": [
       "[1] \"/project2/yangili1/cdai/SpliFi/analysis\""
      ]
     },
     "metadata": {},
     "output_type": "display_data"
    }
   ],
   "source": [
    "getwd()"
   ]
  },
  {
   "cell_type": "code",
   "execution_count": 4,
   "id": "274eff51-a6e5-4f84-80b7-6bc6b0eac044",
   "metadata": {
    "execution": {
     "iopub.execute_input": "2024-04-08T21:32:15.203706Z",
     "iopub.status.busy": "2024-04-08T21:32:15.202345Z",
     "iopub.status.idle": "2024-04-08T21:32:15.213672Z",
     "shell.execute_reply": "2024-04-08T21:32:15.212044Z"
    },
    "vscode": {
     "languageId": "r"
    }
   },
   "outputs": [],
   "source": [
    "setwd(\"~/cdai/SpliFi/analysis\")"
   ]
  },
  {
   "cell_type": "code",
   "execution_count": 6,
   "id": "f16f6955-3e01-48b2-b340-a1124a33bf36",
   "metadata": {
    "execution": {
     "iopub.execute_input": "2024-04-08T21:51:27.451491Z",
     "iopub.status.busy": "2024-04-08T21:51:27.450140Z",
     "iopub.status.idle": "2024-04-08T21:51:27.460960Z",
     "shell.execute_reply": "2024-04-08T21:51:27.459421Z"
    },
    "vscode": {
     "languageId": "r"
    }
   },
   "outputs": [],
   "source": [
    "sample_file = '../code/resources/moreira/moreira-sample-info.xlsx'"
   ]
  },
  {
   "cell_type": "code",
   "execution_count": 11,
   "id": "fe330c6b-3caa-4da4-8a99-12823ccaa7bf",
   "metadata": {
    "execution": {
     "iopub.execute_input": "2024-04-08T21:51:27.995573Z",
     "iopub.status.busy": "2024-04-08T21:51:27.994255Z",
     "iopub.status.idle": "2024-04-08T21:51:28.127627Z",
     "shell.execute_reply": "2024-04-08T21:51:28.126021Z"
    },
    "vscode": {
     "languageId": "r"
    }
   },
   "outputs": [],
   "source": [
    "species = readxl::excel_sheets(sample_file)\n",
    "names(species) = species"
   ]
  },
  {
   "cell_type": "code",
   "execution_count": 12,
   "id": "98c83caf-a8da-4c2c-9519-777ad74e3431",
   "metadata": {
    "execution": {
     "iopub.execute_input": "2024-04-08T21:51:29.110945Z",
     "iopub.status.busy": "2024-04-08T21:51:29.109633Z",
     "iopub.status.idle": "2024-04-08T21:51:29.198834Z",
     "shell.execute_reply": "2024-04-08T21:51:29.197178Z"
    },
    "vscode": {
     "languageId": "r"
    }
   },
   "outputs": [],
   "source": [
    "sample_info = map(species, ~read_excel(sample_file, .x))"
   ]
  },
  {
   "cell_type": "code",
   "execution_count": 13,
   "id": "3f24ae06-86ef-429e-aae3-ef9bb06e8e07",
   "metadata": {
    "execution": {
     "iopub.execute_input": "2024-04-08T21:51:30.239929Z",
     "iopub.status.busy": "2024-04-08T21:51:30.238584Z",
     "iopub.status.idle": "2024-04-08T21:51:30.250576Z",
     "shell.execute_reply": "2024-04-08T21:51:30.248940Z"
    },
    "vscode": {
     "languageId": "r"
    }
   },
   "outputs": [],
   "source": [
    "sample_info = map(sample_info, as.data.table)"
   ]
  },
  {
   "cell_type": "code",
   "execution_count": 14,
   "id": "c0bf4b2c-a03b-48d7-8111-bbc2cfb9aec6",
   "metadata": {
    "execution": {
     "iopub.execute_input": "2024-04-08T21:51:30.928408Z",
     "iopub.status.busy": "2024-04-08T21:51:30.927079Z",
     "iopub.status.idle": "2024-04-08T21:51:30.952172Z",
     "shell.execute_reply": "2024-04-08T21:51:30.950522Z"
    },
    "vscode": {
     "languageId": "r"
    }
   },
   "outputs": [
    {
     "data": {
      "text/html": [
       "<table class=\"dataframe\">\n",
       "<caption>A data.table: 40 × 3</caption>\n",
       "<thead>\n",
       "\t<tr><th scope=col>organism part</th><th scope=col>developmental stage</th><th scope=col>N</th></tr>\n",
       "\t<tr><th scope=col>&lt;chr&gt;</th><th scope=col>&lt;chr&gt;</th><th scope=col>&lt;int&gt;</th></tr>\n",
       "</thead>\n",
       "<tbody>\n",
       "\t<tr><td>forebrain</td><td>adolescent      </td><td>4</td></tr>\n",
       "\t<tr><td>forebrain</td><td>elderly         </td><td>2</td></tr>\n",
       "\t<tr><td>forebrain</td><td>infant          </td><td>2</td></tr>\n",
       "\t<tr><td>forebrain</td><td>middle adult    </td><td>2</td></tr>\n",
       "\t<tr><td>forebrain</td><td>neonate         </td><td>3</td></tr>\n",
       "\t<tr><td>forebrain</td><td>school age child</td><td>2</td></tr>\n",
       "\t<tr><td>forebrain</td><td>toddler         </td><td>3</td></tr>\n",
       "\t<tr><td>forebrain</td><td>young adult     </td><td>5</td></tr>\n",
       "\t<tr><td>heart    </td><td>adolescent      </td><td>1</td></tr>\n",
       "\t<tr><td>heart    </td><td>infant          </td><td>4</td></tr>\n",
       "\t<tr><td>heart    </td><td>middle adult    </td><td>1</td></tr>\n",
       "\t<tr><td>heart    </td><td>neonate         </td><td>3</td></tr>\n",
       "\t<tr><td>heart    </td><td>toddler         </td><td>2</td></tr>\n",
       "\t<tr><td>heart    </td><td>young adult     </td><td>1</td></tr>\n",
       "\t<tr><td>hindbrain</td><td>adolescent      </td><td>4</td></tr>\n",
       "\t<tr><td>hindbrain</td><td>elderly         </td><td>2</td></tr>\n",
       "\t<tr><td>hindbrain</td><td>infant          </td><td>3</td></tr>\n",
       "\t<tr><td>hindbrain</td><td>middle adult    </td><td>2</td></tr>\n",
       "\t<tr><td>hindbrain</td><td>neonate         </td><td>5</td></tr>\n",
       "\t<tr><td>hindbrain</td><td>school age child</td><td>3</td></tr>\n",
       "\t<tr><td>hindbrain</td><td>toddler         </td><td>2</td></tr>\n",
       "\t<tr><td>hindbrain</td><td>young adult     </td><td>5</td></tr>\n",
       "\t<tr><td>kidney   </td><td>infant          </td><td>4</td></tr>\n",
       "\t<tr><td>kidney   </td><td>neonate         </td><td>3</td></tr>\n",
       "\t<tr><td>kidney   </td><td>school age child</td><td>1</td></tr>\n",
       "\t<tr><td>kidney   </td><td>toddler         </td><td>2</td></tr>\n",
       "\t<tr><td>liver    </td><td>adolescent      </td><td>1</td></tr>\n",
       "\t<tr><td>liver    </td><td>elderly         </td><td>2</td></tr>\n",
       "\t<tr><td>liver    </td><td>infant          </td><td>2</td></tr>\n",
       "\t<tr><td>liver    </td><td>middle adult    </td><td>1</td></tr>\n",
       "\t<tr><td>liver    </td><td>neonate         </td><td>2</td></tr>\n",
       "\t<tr><td>liver    </td><td>school age child</td><td>1</td></tr>\n",
       "\t<tr><td>liver    </td><td>toddler         </td><td>1</td></tr>\n",
       "\t<tr><td>liver    </td><td>young adult     </td><td>3</td></tr>\n",
       "\t<tr><td>testis   </td><td>adolescent      </td><td>4</td></tr>\n",
       "\t<tr><td>testis   </td><td>elderly         </td><td>1</td></tr>\n",
       "\t<tr><td>testis   </td><td>infant          </td><td>3</td></tr>\n",
       "\t<tr><td>testis   </td><td>middle adult    </td><td>1</td></tr>\n",
       "\t<tr><td>testis   </td><td>toddler         </td><td>1</td></tr>\n",
       "\t<tr><td>testis   </td><td>young adult     </td><td>4</td></tr>\n",
       "</tbody>\n",
       "</table>\n"
      ],
      "text/latex": [
       "A data.table: 40 × 3\n",
       "\\begin{tabular}{lll}\n",
       " organism part & developmental stage & N\\\\\n",
       " <chr> & <chr> & <int>\\\\\n",
       "\\hline\n",
       "\t forebrain & adolescent       & 4\\\\\n",
       "\t forebrain & elderly          & 2\\\\\n",
       "\t forebrain & infant           & 2\\\\\n",
       "\t forebrain & middle adult     & 2\\\\\n",
       "\t forebrain & neonate          & 3\\\\\n",
       "\t forebrain & school age child & 2\\\\\n",
       "\t forebrain & toddler          & 3\\\\\n",
       "\t forebrain & young adult      & 5\\\\\n",
       "\t heart     & adolescent       & 1\\\\\n",
       "\t heart     & infant           & 4\\\\\n",
       "\t heart     & middle adult     & 1\\\\\n",
       "\t heart     & neonate          & 3\\\\\n",
       "\t heart     & toddler          & 2\\\\\n",
       "\t heart     & young adult      & 1\\\\\n",
       "\t hindbrain & adolescent       & 4\\\\\n",
       "\t hindbrain & elderly          & 2\\\\\n",
       "\t hindbrain & infant           & 3\\\\\n",
       "\t hindbrain & middle adult     & 2\\\\\n",
       "\t hindbrain & neonate          & 5\\\\\n",
       "\t hindbrain & school age child & 3\\\\\n",
       "\t hindbrain & toddler          & 2\\\\\n",
       "\t hindbrain & young adult      & 5\\\\\n",
       "\t kidney    & infant           & 4\\\\\n",
       "\t kidney    & neonate          & 3\\\\\n",
       "\t kidney    & school age child & 1\\\\\n",
       "\t kidney    & toddler          & 2\\\\\n",
       "\t liver     & adolescent       & 1\\\\\n",
       "\t liver     & elderly          & 2\\\\\n",
       "\t liver     & infant           & 2\\\\\n",
       "\t liver     & middle adult     & 1\\\\\n",
       "\t liver     & neonate          & 2\\\\\n",
       "\t liver     & school age child & 1\\\\\n",
       "\t liver     & toddler          & 1\\\\\n",
       "\t liver     & young adult      & 3\\\\\n",
       "\t testis    & adolescent       & 4\\\\\n",
       "\t testis    & elderly          & 1\\\\\n",
       "\t testis    & infant           & 3\\\\\n",
       "\t testis    & middle adult     & 1\\\\\n",
       "\t testis    & toddler          & 1\\\\\n",
       "\t testis    & young adult      & 4\\\\\n",
       "\\end{tabular}\n"
      ],
      "text/markdown": [
       "\n",
       "A data.table: 40 × 3\n",
       "\n",
       "| organism part &lt;chr&gt; | developmental stage &lt;chr&gt; | N &lt;int&gt; |\n",
       "|---|---|---|\n",
       "| forebrain | adolescent       | 4 |\n",
       "| forebrain | elderly          | 2 |\n",
       "| forebrain | infant           | 2 |\n",
       "| forebrain | middle adult     | 2 |\n",
       "| forebrain | neonate          | 3 |\n",
       "| forebrain | school age child | 2 |\n",
       "| forebrain | toddler          | 3 |\n",
       "| forebrain | young adult      | 5 |\n",
       "| heart     | adolescent       | 1 |\n",
       "| heart     | infant           | 4 |\n",
       "| heart     | middle adult     | 1 |\n",
       "| heart     | neonate          | 3 |\n",
       "| heart     | toddler          | 2 |\n",
       "| heart     | young adult      | 1 |\n",
       "| hindbrain | adolescent       | 4 |\n",
       "| hindbrain | elderly          | 2 |\n",
       "| hindbrain | infant           | 3 |\n",
       "| hindbrain | middle adult     | 2 |\n",
       "| hindbrain | neonate          | 5 |\n",
       "| hindbrain | school age child | 3 |\n",
       "| hindbrain | toddler          | 2 |\n",
       "| hindbrain | young adult      | 5 |\n",
       "| kidney    | infant           | 4 |\n",
       "| kidney    | neonate          | 3 |\n",
       "| kidney    | school age child | 1 |\n",
       "| kidney    | toddler          | 2 |\n",
       "| liver     | adolescent       | 1 |\n",
       "| liver     | elderly          | 2 |\n",
       "| liver     | infant           | 2 |\n",
       "| liver     | middle adult     | 1 |\n",
       "| liver     | neonate          | 2 |\n",
       "| liver     | school age child | 1 |\n",
       "| liver     | toddler          | 1 |\n",
       "| liver     | young adult      | 3 |\n",
       "| testis    | adolescent       | 4 |\n",
       "| testis    | elderly          | 1 |\n",
       "| testis    | infant           | 3 |\n",
       "| testis    | middle adult     | 1 |\n",
       "| testis    | toddler          | 1 |\n",
       "| testis    | young adult      | 4 |\n",
       "\n"
      ],
      "text/plain": [
       "   organism part developmental stage N\n",
       "1  forebrain     adolescent          4\n",
       "2  forebrain     elderly             2\n",
       "3  forebrain     infant              2\n",
       "4  forebrain     middle adult        2\n",
       "5  forebrain     neonate             3\n",
       "6  forebrain     school age child    2\n",
       "7  forebrain     toddler             3\n",
       "8  forebrain     young adult         5\n",
       "9  heart         adolescent          1\n",
       "10 heart         infant              4\n",
       "11 heart         middle adult        1\n",
       "12 heart         neonate             3\n",
       "13 heart         toddler             2\n",
       "14 heart         young adult         1\n",
       "15 hindbrain     adolescent          4\n",
       "16 hindbrain     elderly             2\n",
       "17 hindbrain     infant              3\n",
       "18 hindbrain     middle adult        2\n",
       "19 hindbrain     neonate             5\n",
       "20 hindbrain     school age child    3\n",
       "21 hindbrain     toddler             2\n",
       "22 hindbrain     young adult         5\n",
       "23 kidney        infant              4\n",
       "24 kidney        neonate             3\n",
       "25 kidney        school age child    1\n",
       "26 kidney        toddler             2\n",
       "27 liver         adolescent          1\n",
       "28 liver         elderly             2\n",
       "29 liver         infant              2\n",
       "30 liver         middle adult        1\n",
       "31 liver         neonate             2\n",
       "32 liver         school age child    1\n",
       "33 liver         toddler             1\n",
       "34 liver         young adult         3\n",
       "35 testis        adolescent          4\n",
       "36 testis        elderly             1\n",
       "37 testis        infant              3\n",
       "38 testis        middle adult        1\n",
       "39 testis        toddler             1\n",
       "40 testis        young adult         4"
      ]
     },
     "metadata": {},
     "output_type": "display_data"
    }
   ],
   "source": [
    "sample_info[['hs']][\n",
    "  !str_detect(`developmental stage`, \"conception\")\n",
    "][, .N, by = .(`organism part`, `developmental stage`)][order(`organism part`, `developmental stage`)]"
   ]
  },
  {
   "cell_type": "code",
   "execution_count": 15,
   "id": "d9588d27",
   "metadata": {
    "vscode": {
     "languageId": "r"
    }
   },
   "outputs": [],
   "source": [
    "options(repr.plot.width=10, repr.plot.height=5)"
   ]
  },
  {
   "cell_type": "code",
   "execution_count": 16,
   "id": "9eb825fb-1693-48e3-9526-37e291e421c6",
   "metadata": {
    "execution": {
     "iopub.execute_input": "2024-04-08T21:52:28.220318Z",
     "iopub.status.busy": "2024-04-08T21:52:28.218968Z",
     "iopub.status.idle": "2024-04-08T21:52:28.256518Z",
     "shell.execute_reply": "2024-04-08T21:52:28.254840Z"
    },
    "vscode": {
     "languageId": "r"
    }
   },
   "outputs": [
    {
     "data": {
      "image/png": "[encoded data removed]",
      "text/plain": [
       "plot without title"
      ]
     },
     "metadata": {
      "image/png": {
       "height": 300,
       "width": 600
      }
     },
     "output_type": "display_data"
    }
   ],
   "source": [
    "imap_dfr(sample_info, ~.x[, \n",
    ".(specie = .y, .N), by = .(`organism part`)]) %>% \n",
    "ggplot() + geom_col(aes(x = `specie`, y = N, fill = `specie`)) +\n",
    "\tfacet_wrap(~`organism part`, scales = 'free_y', nrow = 2)"
   ]
  },
  {
   "cell_type": "code",
   "execution_count": 17,
   "id": "017fcf6c",
   "metadata": {
    "vscode": {
     "languageId": "r"
    }
   },
   "outputs": [
    {
     "data": {
      "image/png": "[encoded data removed]",
      "text/plain": [
       "plot without title"
      ]
     },
     "metadata": {
      "image/png": {
       "height": 300,
       "width": 600
      }
     },
     "output_type": "display_data"
    }
   ],
   "source": [
    "imap_dfr(sample_info, ~.x[`developmental stage2` %in% c(\"young adult\", \"3 years postnatal\", \"postnatal day 42\", \"postnatal day 28\"), \n",
    ".(specie = .y, .N), by = .(`organism part`)]) %>% \n",
    "ggplot() + geom_col(aes(x = `specie`, y = N, fill = `specie`)) +\n",
    "\tfacet_wrap(~`organism part`, scales = 'free_y', nrow = 2)"
   ]
  },
  {
   "cell_type": "code",
   "execution_count": 18,
   "id": "3519483e",
   "metadata": {
    "vscode": {
     "languageId": "r"
    }
   },
   "outputs": [
    {
     "data": {
      "image/png": "[encoded data removed]",
      "text/plain": [
       "plot without title"
      ]
     },
     "metadata": {
      "image/png": {
       "height": 300,
       "width": 600
      }
     },
     "output_type": "display_data"
    }
   ],
   "source": [
    "imap_dfr(sample_info, ~.x[\n",
    "\t(str_detect(`developmental stage2`, \"post\") | `developmental stage2` %in% c(\"neonate\", \"adolescent\", \"school age child\", \"middle adult\", \"young adult\", \"infant\", \"elderly\", \"todler\")), \n",
    ".(specie = .y, .N), by = .(`organism part`)]) %>% \n",
    "ggplot() + geom_col(aes(x = `specie`, y = N, fill = `specie`)) +\n",
    "\tfacet_wrap(~`organism part`, scales = 'free_y', nrow = 2)"
   ]
  },
  {
   "cell_type": "markdown",
   "id": "7ff850c8",
   "metadata": {},
   "source": [
    "## Select *Brain*"
   ]
  },
  {
   "cell_type": "code",
   "execution_count": 227,
   "id": "4c208d58",
   "metadata": {
    "vscode": {
     "languageId": "r"
    }
   },
   "outputs": [],
   "source": [
    "brain_samples = list(\n",
    "  'hs' = list(),\n",
    "  'mm' = list(),\n",
    "  'rat' = list(),\n",
    "  'rmac' = list()\n",
    ")"
   ]
  },
  {
   "cell_type": "code",
   "execution_count": 228,
   "id": "6ff9e203",
   "metadata": {
    "vscode": {
     "languageId": "r"
    }
   },
   "outputs": [
    {
     "data": {
      "text/html": [
       "<table class=\"dataframe\">\n",
       "<caption>A data.table: 10 × 11</caption>\n",
       "<thead>\n",
       "\t<tr><th scope=col>Source Name</th><th scope=col>organism</th><th scope=col>disease</th><th scope=col>developmental stage</th><th scope=col>individual</th><th scope=col>age</th><th scope=col>sex</th><th scope=col>organism part</th><th scope=col>developmental stage2</th><th scope=col>organism part2</th><th scope=col>Assay Name</th></tr>\n",
       "\t<tr><th scope=col>&lt;chr&gt;</th><th scope=col>&lt;chr&gt;</th><th scope=col>&lt;chr&gt;</th><th scope=col>&lt;chr&gt;</th><th scope=col>&lt;chr&gt;</th><th scope=col>&lt;dbl&gt;</th><th scope=col>&lt;chr&gt;</th><th scope=col>&lt;chr&gt;</th><th scope=col>&lt;chr&gt;</th><th scope=col>&lt;chr&gt;</th><th scope=col>&lt;chr&gt;</th></tr>\n",
       "</thead>\n",
       "<tbody>\n",
       "\t<tr><td>5570sTS.Human.Brain.13ypb.Male</td><td>Homo sapiens</td><td>normal</td><td>adolescent  </td><td>not available</td><td>13</td><td>male</td><td>forebrain</td><td>adolescent  </td><td>forebrain</td><td>5570sTS.Human.Brain.13ypb.Male</td></tr>\n",
       "\t<tr><td>5515sTS.Human.Brain.14ypb.Male</td><td>Homo sapiens</td><td>normal</td><td>adolescent  </td><td>not available</td><td>14</td><td>male</td><td>forebrain</td><td>adolescent  </td><td>forebrain</td><td>5515sTS.Human.Brain.14ypb.Male</td></tr>\n",
       "\t<tr><td>5532sTS.Human.Brain.16ypb.Male</td><td>Homo sapiens</td><td>normal</td><td>adolescent  </td><td>not available</td><td>16</td><td>male</td><td>forebrain</td><td>adolescent  </td><td>forebrain</td><td>5532sTS.Human.Brain.16ypb.Male</td></tr>\n",
       "\t<tr><td>5553sTS.Human.Brain.17ypb.Male</td><td>Homo sapiens</td><td>normal</td><td>adolescent  </td><td>not available</td><td>17</td><td>male</td><td>forebrain</td><td>adolescent  </td><td>forebrain</td><td>5553sTS.Human.Brain.17ypb.Male</td></tr>\n",
       "\t<tr><td>6048sTS.Human.Brain.28ypb.Male</td><td>Homo sapiens</td><td>normal</td><td>young adult </td><td>not available</td><td>28</td><td>male</td><td>forebrain</td><td>young adult </td><td>forebrain</td><td>6048sTS.Human.Brain.28ypb.Male</td></tr>\n",
       "\t<tr><td>5531sTS.Human.Brain.29ypb.Male</td><td>Homo sapiens</td><td>normal</td><td>young adult </td><td>not available</td><td>29</td><td>male</td><td>forebrain</td><td>young adult </td><td>forebrain</td><td>5531sTS.Human.Brain.29ypb.Male</td></tr>\n",
       "\t<tr><td>5908sTS.Human.Brain.29ypb.Male</td><td>Homo sapiens</td><td>normal</td><td>young adult </td><td>not available</td><td>29</td><td>male</td><td>forebrain</td><td>young adult </td><td>forebrain</td><td>5908sTS.Human.Brain.29ypb.Male</td></tr>\n",
       "\t<tr><td>5533sTS.Human.Brain.39ypb.Male</td><td>Homo sapiens</td><td>normal</td><td>young adult </td><td>not available</td><td>39</td><td>male</td><td>forebrain</td><td>young adult </td><td>forebrain</td><td>5533sTS.Human.Brain.39ypb.Male</td></tr>\n",
       "\t<tr><td>5574sTS.Human.Brain.39ypb.Male</td><td>Homo sapiens</td><td>normal</td><td>young adult </td><td>not available</td><td>39</td><td>male</td><td>forebrain</td><td>young adult </td><td>forebrain</td><td>5574sTS.Human.Brain.39ypb.Male</td></tr>\n",
       "\t<tr><td>5517sTS.Human.Brain.50ypb.Male</td><td>Homo sapiens</td><td>normal</td><td>middle adult</td><td>not available</td><td>50</td><td>male</td><td>forebrain</td><td>middle adult</td><td>forebrain</td><td>5517sTS.Human.Brain.50ypb.Male</td></tr>\n",
       "</tbody>\n",
       "</table>\n"
      ],
      "text/latex": [
       "A data.table: 10 × 11\n",
       "\\begin{tabular}{lllllllllll}\n",
       " Source Name & organism & disease & developmental stage & individual & age & sex & organism part & developmental stage2 & organism part2 & Assay Name\\\\\n",
       " <chr> & <chr> & <chr> & <chr> & <chr> & <dbl> & <chr> & <chr> & <chr> & <chr> & <chr>\\\\\n",
       "\\hline\n",
       "\t 5570sTS.Human.Brain.13ypb.Male & Homo sapiens & normal & adolescent   & not available & 13 & male & forebrain & adolescent   & forebrain & 5570sTS.Human.Brain.13ypb.Male\\\\\n",
       "\t 5515sTS.Human.Brain.14ypb.Male & Homo sapiens & normal & adolescent   & not available & 14 & male & forebrain & adolescent   & forebrain & 5515sTS.Human.Brain.14ypb.Male\\\\\n",
       "\t 5532sTS.Human.Brain.16ypb.Male & Homo sapiens & normal & adolescent   & not available & 16 & male & forebrain & adolescent   & forebrain & 5532sTS.Human.Brain.16ypb.Male\\\\\n",
       "\t 5553sTS.Human.Brain.17ypb.Male & Homo sapiens & normal & adolescent   & not available & 17 & male & forebrain & adolescent   & forebrain & 5553sTS.Human.Brain.17ypb.Male\\\\\n",
       "\t 6048sTS.Human.Brain.28ypb.Male & Homo sapiens & normal & young adult  & not available & 28 & male & forebrain & young adult  & forebrain & 6048sTS.Human.Brain.28ypb.Male\\\\\n",
       "\t 5531sTS.Human.Brain.29ypb.Male & Homo sapiens & normal & young adult  & not available & 29 & male & forebrain & young adult  & forebrain & 5531sTS.Human.Brain.29ypb.Male\\\\\n",
       "\t 5908sTS.Human.Brain.29ypb.Male & Homo sapiens & normal & young adult  & not available & 29 & male & forebrain & young adult  & forebrain & 5908sTS.Human.Brain.29ypb.Male\\\\\n",
       "\t 5533sTS.Human.Brain.39ypb.Male & Homo sapiens & normal & young adult  & not available & 39 & male & forebrain & young adult  & forebrain & 5533sTS.Human.Brain.39ypb.Male\\\\\n",
       "\t 5574sTS.Human.Brain.39ypb.Male & Homo sapiens & normal & young adult  & not available & 39 & male & forebrain & young adult  & forebrain & 5574sTS.Human.Brain.39ypb.Male\\\\\n",
       "\t 5517sTS.Human.Brain.50ypb.Male & Homo sapiens & normal & middle adult & not available & 50 & male & forebrain & middle adult & forebrain & 5517sTS.Human.Brain.50ypb.Male\\\\\n",
       "\\end{tabular}\n"
      ],
      "text/markdown": [
       "\n",
       "A data.table: 10 × 11\n",
       "\n",
       "| Source Name &lt;chr&gt; | organism &lt;chr&gt; | disease &lt;chr&gt; | developmental stage &lt;chr&gt; | individual &lt;chr&gt; | age &lt;dbl&gt; | sex &lt;chr&gt; | organism part &lt;chr&gt; | developmental stage2 &lt;chr&gt; | organism part2 &lt;chr&gt; | Assay Name &lt;chr&gt; |\n",
       "|---|---|---|---|---|---|---|---|---|---|---|\n",
       "| 5570sTS.Human.Brain.13ypb.Male | Homo sapiens | normal | adolescent   | not available | 13 | male | forebrain | adolescent   | forebrain | 5570sTS.Human.Brain.13ypb.Male |\n",
       "| 5515sTS.Human.Brain.14ypb.Male | Homo sapiens | normal | adolescent   | not available | 14 | male | forebrain | adolescent   | forebrain | 5515sTS.Human.Brain.14ypb.Male |\n",
       "| 5532sTS.Human.Brain.16ypb.Male | Homo sapiens | normal | adolescent   | not available | 16 | male | forebrain | adolescent   | forebrain | 5532sTS.Human.Brain.16ypb.Male |\n",
       "| 5553sTS.Human.Brain.17ypb.Male | Homo sapiens | normal | adolescent   | not available | 17 | male | forebrain | adolescent   | forebrain | 5553sTS.Human.Brain.17ypb.Male |\n",
       "| 6048sTS.Human.Brain.28ypb.Male | Homo sapiens | normal | young adult  | not available | 28 | male | forebrain | young adult  | forebrain | 6048sTS.Human.Brain.28ypb.Male |\n",
       "| 5531sTS.Human.Brain.29ypb.Male | Homo sapiens | normal | young adult  | not available | 29 | male | forebrain | young adult  | forebrain | 5531sTS.Human.Brain.29ypb.Male |\n",
       "| 5908sTS.Human.Brain.29ypb.Male | Homo sapiens | normal | young adult  | not available | 29 | male | forebrain | young adult  | forebrain | 5908sTS.Human.Brain.29ypb.Male |\n",
       "| 5533sTS.Human.Brain.39ypb.Male | Homo sapiens | normal | young adult  | not available | 39 | male | forebrain | young adult  | forebrain | 5533sTS.Human.Brain.39ypb.Male |\n",
       "| 5574sTS.Human.Brain.39ypb.Male | Homo sapiens | normal | young adult  | not available | 39 | male | forebrain | young adult  | forebrain | 5574sTS.Human.Brain.39ypb.Male |\n",
       "| 5517sTS.Human.Brain.50ypb.Male | Homo sapiens | normal | middle adult | not available | 50 | male | forebrain | middle adult | forebrain | 5517sTS.Human.Brain.50ypb.Male |\n",
       "\n"
      ],
      "text/plain": [
       "   Source Name                    organism     disease developmental stage\n",
       "1  5570sTS.Human.Brain.13ypb.Male Homo sapiens normal  adolescent         \n",
       "2  5515sTS.Human.Brain.14ypb.Male Homo sapiens normal  adolescent         \n",
       "3  5532sTS.Human.Brain.16ypb.Male Homo sapiens normal  adolescent         \n",
       "4  5553sTS.Human.Brain.17ypb.Male Homo sapiens normal  adolescent         \n",
       "5  6048sTS.Human.Brain.28ypb.Male Homo sapiens normal  young adult        \n",
       "6  5531sTS.Human.Brain.29ypb.Male Homo sapiens normal  young adult        \n",
       "7  5908sTS.Human.Brain.29ypb.Male Homo sapiens normal  young adult        \n",
       "8  5533sTS.Human.Brain.39ypb.Male Homo sapiens normal  young adult        \n",
       "9  5574sTS.Human.Brain.39ypb.Male Homo sapiens normal  young adult        \n",
       "10 5517sTS.Human.Brain.50ypb.Male Homo sapiens normal  middle adult       \n",
       "   individual    age sex  organism part developmental stage2 organism part2\n",
       "1  not available 13  male forebrain     adolescent           forebrain     \n",
       "2  not available 14  male forebrain     adolescent           forebrain     \n",
       "3  not available 16  male forebrain     adolescent           forebrain     \n",
       "4  not available 17  male forebrain     adolescent           forebrain     \n",
       "5  not available 28  male forebrain     young adult          forebrain     \n",
       "6  not available 29  male forebrain     young adult          forebrain     \n",
       "7  not available 29  male forebrain     young adult          forebrain     \n",
       "8  not available 39  male forebrain     young adult          forebrain     \n",
       "9  not available 39  male forebrain     young adult          forebrain     \n",
       "10 not available 50  male forebrain     middle adult         forebrain     \n",
       "   Assay Name                    \n",
       "1  5570sTS.Human.Brain.13ypb.Male\n",
       "2  5515sTS.Human.Brain.14ypb.Male\n",
       "3  5532sTS.Human.Brain.16ypb.Male\n",
       "4  5553sTS.Human.Brain.17ypb.Male\n",
       "5  6048sTS.Human.Brain.28ypb.Male\n",
       "6  5531sTS.Human.Brain.29ypb.Male\n",
       "7  5908sTS.Human.Brain.29ypb.Male\n",
       "8  5533sTS.Human.Brain.39ypb.Male\n",
       "9  5574sTS.Human.Brain.39ypb.Male\n",
       "10 5517sTS.Human.Brain.50ypb.Male"
      ]
     },
     "metadata": {},
     "output_type": "display_data"
    }
   ],
   "source": [
    "# human samples\n",
    "brain_samples[['hs']] = sample_info$hs[str_detect(`Source Name`, \"rain\")][str_detect(`developmental stage2`, \"adult|adolescent\")][order(age)][1:10]\n",
    "brain_samples[['hs']]"
   ]
  },
  {
   "cell_type": "code",
   "execution_count": 229,
   "id": "773a8771",
   "metadata": {
    "vscode": {
     "languageId": "r"
    }
   },
   "outputs": [
    {
     "data": {
      "text/html": [
       "<table class=\"dataframe\">\n",
       "<caption>A data.table: 10 × 11</caption>\n",
       "<thead>\n",
       "\t<tr><th scope=col>Source Name</th><th scope=col>organism</th><th scope=col>strain</th><th scope=col>genotype</th><th scope=col>organism part</th><th scope=col>developmental stage</th><th scope=col>age</th><th scope=col>sex</th><th scope=col>organism part2</th><th scope=col>developmental stage2</th><th scope=col>Assay Name</th></tr>\n",
       "\t<tr><th scope=col>&lt;chr&gt;</th><th scope=col>&lt;chr&gt;</th><th scope=col>&lt;chr&gt;</th><th scope=col>&lt;chr&gt;</th><th scope=col>&lt;chr&gt;</th><th scope=col>&lt;chr&gt;</th><th scope=col>&lt;dbl&gt;</th><th scope=col>&lt;chr&gt;</th><th scope=col>&lt;chr&gt;</th><th scope=col>&lt;chr&gt;</th><th scope=col>&lt;chr&gt;</th></tr>\n",
       "</thead>\n",
       "<tbody>\n",
       "\t<tr><td>1876sTS.Mouse.Brain.2wpb.Male  </td><td>Mus musculus</td><td>CD-1</td><td>wild type genotype</td><td>forebrain</td><td>postnatal</td><td>14</td><td>male  </td><td>forebrain</td><td>postnatal day 14</td><td>1876sTS.Mouse.Brain.2wpb.Male  </td></tr>\n",
       "\t<tr><td>1880sTS.Mouse.Brain.2wpb.Male  </td><td>Mus musculus</td><td>CD-1</td><td>wild type genotype</td><td>forebrain</td><td>postnatal</td><td>14</td><td>male  </td><td>forebrain</td><td>postnatal day 14</td><td>1880sTS.Mouse.Brain.2wpb.Male  </td></tr>\n",
       "\t<tr><td>1884sTS.Mouse.Brain.2wpb.Female</td><td>Mus musculus</td><td>CD-1</td><td>wild type genotype</td><td>forebrain</td><td>postnatal</td><td>14</td><td>female</td><td>forebrain</td><td>postnatal day 14</td><td>1884sTS.Mouse.Brain.2wpb.Female</td></tr>\n",
       "\t<tr><td>1888sTS.Mouse.Brain.2wpb.Female</td><td>Mus musculus</td><td>CD-1</td><td>wild type genotype</td><td>forebrain</td><td>postnatal</td><td>14</td><td>female</td><td>forebrain</td><td>postnatal day 14</td><td>1888sTS.Mouse.Brain.2wpb.Female</td></tr>\n",
       "\t<tr><td>1892sTS.Mouse.Brain.4wpb.Male  </td><td>Mus musculus</td><td>CD-1</td><td>wild type genotype</td><td>forebrain</td><td>postnatal</td><td>28</td><td>male  </td><td>forebrain</td><td>postnatal day 28</td><td>1892sTS.Mouse.Brain.4wpb.Male  </td></tr>\n",
       "\t<tr><td>1896sTS.Mouse.Brain.4wpb.Male  </td><td>Mus musculus</td><td>CD-1</td><td>wild type genotype</td><td>forebrain</td><td>postnatal</td><td>28</td><td>male  </td><td>forebrain</td><td>postnatal day 28</td><td>1896sTS.Mouse.Brain.4wpb.Male  </td></tr>\n",
       "\t<tr><td>1936sTS.Mouse.Brain.4wpb.Female</td><td>Mus musculus</td><td>CD-1</td><td>wild type genotype</td><td>forebrain</td><td>postnatal</td><td>28</td><td>female</td><td>forebrain</td><td>postnatal day 28</td><td>1936sTS.Mouse.Brain.4wpb.Female</td></tr>\n",
       "\t<tr><td>1940sTS.Mouse.Brain.4wpb.Female</td><td>Mus musculus</td><td>CD-1</td><td>wild type genotype</td><td>forebrain</td><td>postnatal</td><td>28</td><td>female</td><td>forebrain</td><td>postnatal day 28</td><td>1940sTS.Mouse.Brain.4wpb.Female</td></tr>\n",
       "\t<tr><td>1944sTS.Mouse.Brain.9wpb.Male  </td><td>Mus musculus</td><td>CD-1</td><td>wild type genotype</td><td>forebrain</td><td>postnatal</td><td>63</td><td>male  </td><td>forebrain</td><td>postnatal day 63</td><td>1944sTS.Mouse.Brain.9wpb.Male  </td></tr>\n",
       "\t<tr><td>1948sTS.Mouse.Brain.9wpb.Female</td><td>Mus musculus</td><td>CD-1</td><td>wild type genotype</td><td>forebrain</td><td>postnatal</td><td>63</td><td>female</td><td>forebrain</td><td>postnatal day 63</td><td>1948sTS.Mouse.Brain.9wpb.Female</td></tr>\n",
       "</tbody>\n",
       "</table>\n"
      ],
      "text/latex": [
       "A data.table: 10 × 11\n",
       "\\begin{tabular}{lllllllllll}\n",
       " Source Name & organism & strain & genotype & organism part & developmental stage & age & sex & organism part2 & developmental stage2 & Assay Name\\\\\n",
       " <chr> & <chr> & <chr> & <chr> & <chr> & <chr> & <dbl> & <chr> & <chr> & <chr> & <chr>\\\\\n",
       "\\hline\n",
       "\t 1876sTS.Mouse.Brain.2wpb.Male   & Mus musculus & CD-1 & wild type genotype & forebrain & postnatal & 14 & male   & forebrain & postnatal day 14 & 1876sTS.Mouse.Brain.2wpb.Male  \\\\\n",
       "\t 1880sTS.Mouse.Brain.2wpb.Male   & Mus musculus & CD-1 & wild type genotype & forebrain & postnatal & 14 & male   & forebrain & postnatal day 14 & 1880sTS.Mouse.Brain.2wpb.Male  \\\\\n",
       "\t 1884sTS.Mouse.Brain.2wpb.Female & Mus musculus & CD-1 & wild type genotype & forebrain & postnatal & 14 & female & forebrain & postnatal day 14 & 1884sTS.Mouse.Brain.2wpb.Female\\\\\n",
       "\t 1888sTS.Mouse.Brain.2wpb.Female & Mus musculus & CD-1 & wild type genotype & forebrain & postnatal & 14 & female & forebrain & postnatal day 14 & 1888sTS.Mouse.Brain.2wpb.Female\\\\\n",
       "\t 1892sTS.Mouse.Brain.4wpb.Male   & Mus musculus & CD-1 & wild type genotype & forebrain & postnatal & 28 & male   & forebrain & postnatal day 28 & 1892sTS.Mouse.Brain.4wpb.Male  \\\\\n",
       "\t 1896sTS.Mouse.Brain.4wpb.Male   & Mus musculus & CD-1 & wild type genotype & forebrain & postnatal & 28 & male   & forebrain & postnatal day 28 & 1896sTS.Mouse.Brain.4wpb.Male  \\\\\n",
       "\t 1936sTS.Mouse.Brain.4wpb.Female & Mus musculus & CD-1 & wild type genotype & forebrain & postnatal & 28 & female & forebrain & postnatal day 28 & 1936sTS.Mouse.Brain.4wpb.Female\\\\\n",
       "\t 1940sTS.Mouse.Brain.4wpb.Female & Mus musculus & CD-1 & wild type genotype & forebrain & postnatal & 28 & female & forebrain & postnatal day 28 & 1940sTS.Mouse.Brain.4wpb.Female\\\\\n",
       "\t 1944sTS.Mouse.Brain.9wpb.Male   & Mus musculus & CD-1 & wild type genotype & forebrain & postnatal & 63 & male   & forebrain & postnatal day 63 & 1944sTS.Mouse.Brain.9wpb.Male  \\\\\n",
       "\t 1948sTS.Mouse.Brain.9wpb.Female & Mus musculus & CD-1 & wild type genotype & forebrain & postnatal & 63 & female & forebrain & postnatal day 63 & 1948sTS.Mouse.Brain.9wpb.Female\\\\\n",
       "\\end{tabular}\n"
      ],
      "text/markdown": [
       "\n",
       "A data.table: 10 × 11\n",
       "\n",
       "| Source Name &lt;chr&gt; | organism &lt;chr&gt; | strain &lt;chr&gt; | genotype &lt;chr&gt; | organism part &lt;chr&gt; | developmental stage &lt;chr&gt; | age &lt;dbl&gt; | sex &lt;chr&gt; | organism part2 &lt;chr&gt; | developmental stage2 &lt;chr&gt; | Assay Name &lt;chr&gt; |\n",
       "|---|---|---|---|---|---|---|---|---|---|---|\n",
       "| 1876sTS.Mouse.Brain.2wpb.Male   | Mus musculus | CD-1 | wild type genotype | forebrain | postnatal | 14 | male   | forebrain | postnatal day 14 | 1876sTS.Mouse.Brain.2wpb.Male   |\n",
       "| 1880sTS.Mouse.Brain.2wpb.Male   | Mus musculus | CD-1 | wild type genotype | forebrain | postnatal | 14 | male   | forebrain | postnatal day 14 | 1880sTS.Mouse.Brain.2wpb.Male   |\n",
       "| 1884sTS.Mouse.Brain.2wpb.Female | Mus musculus | CD-1 | wild type genotype | forebrain | postnatal | 14 | female | forebrain | postnatal day 14 | 1884sTS.Mouse.Brain.2wpb.Female |\n",
       "| 1888sTS.Mouse.Brain.2wpb.Female | Mus musculus | CD-1 | wild type genotype | forebrain | postnatal | 14 | female | forebrain | postnatal day 14 | 1888sTS.Mouse.Brain.2wpb.Female |\n",
       "| 1892sTS.Mouse.Brain.4wpb.Male   | Mus musculus | CD-1 | wild type genotype | forebrain | postnatal | 28 | male   | forebrain | postnatal day 28 | 1892sTS.Mouse.Brain.4wpb.Male   |\n",
       "| 1896sTS.Mouse.Brain.4wpb.Male   | Mus musculus | CD-1 | wild type genotype | forebrain | postnatal | 28 | male   | forebrain | postnatal day 28 | 1896sTS.Mouse.Brain.4wpb.Male   |\n",
       "| 1936sTS.Mouse.Brain.4wpb.Female | Mus musculus | CD-1 | wild type genotype | forebrain | postnatal | 28 | female | forebrain | postnatal day 28 | 1936sTS.Mouse.Brain.4wpb.Female |\n",
       "| 1940sTS.Mouse.Brain.4wpb.Female | Mus musculus | CD-1 | wild type genotype | forebrain | postnatal | 28 | female | forebrain | postnatal day 28 | 1940sTS.Mouse.Brain.4wpb.Female |\n",
       "| 1944sTS.Mouse.Brain.9wpb.Male   | Mus musculus | CD-1 | wild type genotype | forebrain | postnatal | 63 | male   | forebrain | postnatal day 63 | 1944sTS.Mouse.Brain.9wpb.Male   |\n",
       "| 1948sTS.Mouse.Brain.9wpb.Female | Mus musculus | CD-1 | wild type genotype | forebrain | postnatal | 63 | female | forebrain | postnatal day 63 | 1948sTS.Mouse.Brain.9wpb.Female |\n",
       "\n"
      ],
      "text/plain": [
       "   Source Name                     organism     strain genotype          \n",
       "1  1876sTS.Mouse.Brain.2wpb.Male   Mus musculus CD-1   wild type genotype\n",
       "2  1880sTS.Mouse.Brain.2wpb.Male   Mus musculus CD-1   wild type genotype\n",
       "3  1884sTS.Mouse.Brain.2wpb.Female Mus musculus CD-1   wild type genotype\n",
       "4  1888sTS.Mouse.Brain.2wpb.Female Mus musculus CD-1   wild type genotype\n",
       "5  1892sTS.Mouse.Brain.4wpb.Male   Mus musculus CD-1   wild type genotype\n",
       "6  1896sTS.Mouse.Brain.4wpb.Male   Mus musculus CD-1   wild type genotype\n",
       "7  1936sTS.Mouse.Brain.4wpb.Female Mus musculus CD-1   wild type genotype\n",
       "8  1940sTS.Mouse.Brain.4wpb.Female Mus musculus CD-1   wild type genotype\n",
       "9  1944sTS.Mouse.Brain.9wpb.Male   Mus musculus CD-1   wild type genotype\n",
       "10 1948sTS.Mouse.Brain.9wpb.Female Mus musculus CD-1   wild type genotype\n",
       "   organism part developmental stage age sex    organism part2\n",
       "1  forebrain     postnatal           14  male   forebrain     \n",
       "2  forebrain     postnatal           14  male   forebrain     \n",
       "3  forebrain     postnatal           14  female forebrain     \n",
       "4  forebrain     postnatal           14  female forebrain     \n",
       "5  forebrain     postnatal           28  male   forebrain     \n",
       "6  forebrain     postnatal           28  male   forebrain     \n",
       "7  forebrain     postnatal           28  female forebrain     \n",
       "8  forebrain     postnatal           28  female forebrain     \n",
       "9  forebrain     postnatal           63  male   forebrain     \n",
       "10 forebrain     postnatal           63  female forebrain     \n",
       "   developmental stage2 Assay Name                     \n",
       "1  postnatal day 14     1876sTS.Mouse.Brain.2wpb.Male  \n",
       "2  postnatal day 14     1880sTS.Mouse.Brain.2wpb.Male  \n",
       "3  postnatal day 14     1884sTS.Mouse.Brain.2wpb.Female\n",
       "4  postnatal day 14     1888sTS.Mouse.Brain.2wpb.Female\n",
       "5  postnatal day 28     1892sTS.Mouse.Brain.4wpb.Male  \n",
       "6  postnatal day 28     1896sTS.Mouse.Brain.4wpb.Male  \n",
       "7  postnatal day 28     1936sTS.Mouse.Brain.4wpb.Female\n",
       "8  postnatal day 28     1940sTS.Mouse.Brain.4wpb.Female\n",
       "9  postnatal day 63     1944sTS.Mouse.Brain.9wpb.Male  \n",
       "10 postnatal day 63     1948sTS.Mouse.Brain.9wpb.Female"
      ]
     },
     "metadata": {},
     "output_type": "display_data"
    }
   ],
   "source": [
    "# mm\n",
    "brain_samples[['mm']] = sample_info$mm[str_detect(`Source Name`, \"rain\") & str_detect(`developmental stage`, 'postnatal')][age > 10][1:10][order(age)]\n",
    "brain_samples[['mm']]"
   ]
  },
  {
   "cell_type": "code",
   "execution_count": 230,
   "id": "91ecb0f4",
   "metadata": {
    "vscode": {
     "languageId": "r"
    }
   },
   "outputs": [
    {
     "data": {
      "text/html": [
       "<table class=\"dataframe\">\n",
       "<caption>A data.table: 10 × 11</caption>\n",
       "<thead>\n",
       "\t<tr><th scope=col>Source Name</th><th scope=col>organism</th><th scope=col>strain</th><th scope=col>genotype</th><th scope=col>developmental stage</th><th scope=col>age</th><th scope=col>sex</th><th scope=col>organism part</th><th scope=col>developmental stage2</th><th scope=col>organism part2</th><th scope=col>Assay Name</th></tr>\n",
       "\t<tr><th scope=col>&lt;chr&gt;</th><th scope=col>&lt;chr&gt;</th><th scope=col>&lt;chr&gt;</th><th scope=col>&lt;chr&gt;</th><th scope=col>&lt;chr&gt;</th><th scope=col>&lt;dbl&gt;</th><th scope=col>&lt;chr&gt;</th><th scope=col>&lt;chr&gt;</th><th scope=col>&lt;chr&gt;</th><th scope=col>&lt;chr&gt;</th><th scope=col>&lt;chr&gt;</th></tr>\n",
       "</thead>\n",
       "<tbody>\n",
       "\t<tr><td>2336sTS.Rat.Brain.2wpb.Female </td><td>Rattus norvegicus</td><td>Holtzman SD</td><td>wild type genotype</td><td>postnatal</td><td> 14</td><td>female</td><td>forebrain</td><td>postnatal day 14 </td><td>forebrain</td><td>2336sTS.Rat.Brain.2wpb.Female </td></tr>\n",
       "\t<tr><td>2339sTS.Rat.Brain.2wpb.Female </td><td>Rattus norvegicus</td><td>Holtzman SD</td><td>wild type genotype</td><td>postnatal</td><td> 14</td><td>female</td><td>forebrain</td><td>postnatal day 14 </td><td>forebrain</td><td>2339sTS.Rat.Brain.2wpb.Female </td></tr>\n",
       "\t<tr><td>2342sTS.Rat.Brain.2wpb.Male   </td><td>Rattus norvegicus</td><td>Holtzman SD</td><td>wild type genotype</td><td>postnatal</td><td> 14</td><td>male  </td><td>forebrain</td><td>postnatal day 14 </td><td>forebrain</td><td>2342sTS.Rat.Brain.2wpb.Male   </td></tr>\n",
       "\t<tr><td>2345sTS.Rat.Brain.2wpb.Male   </td><td>Rattus norvegicus</td><td>Holtzman SD</td><td>wild type genotype</td><td>postnatal</td><td> 14</td><td>male  </td><td>forebrain</td><td>postnatal day 14 </td><td>forebrain</td><td>2345sTS.Rat.Brain.2wpb.Male   </td></tr>\n",
       "\t<tr><td>1875sTS.Rat.Brain.6wpb.Male   </td><td>Rattus norvegicus</td><td>Holtzman SD</td><td>wild type genotype</td><td>postnatal</td><td> 42</td><td>male  </td><td>forebrain</td><td>postnatal day 42 </td><td>forebrain</td><td>1875sTS.Rat.Brain.6wpb.Male   </td></tr>\n",
       "\t<tr><td>1971sTS.Rat.Brain.6wpb.Male   </td><td>Rattus norvegicus</td><td>Holtzman SD</td><td>wild type genotype</td><td>postnatal</td><td> 42</td><td>male  </td><td>forebrain</td><td>postnatal day 42 </td><td>forebrain</td><td>1971sTS.Rat.Brain.6wpb.Male   </td></tr>\n",
       "\t<tr><td>1975sTS.Rat.Brain.6wpb.Female </td><td>Rattus norvegicus</td><td>Holtzman SD</td><td>wild type genotype</td><td>postnatal</td><td> 42</td><td>female</td><td>forebrain</td><td>postnatal day 42 </td><td>forebrain</td><td>1975sTS.Rat.Brain.6wpb.Female </td></tr>\n",
       "\t<tr><td>2348sTS.Rat.Brain.16wpb.Female</td><td>Rattus norvegicus</td><td>Holtzman SD</td><td>wild type genotype</td><td>postnatal</td><td>112</td><td>female</td><td>forebrain</td><td>postnatal day 112</td><td>forebrain</td><td>2348sTS.Rat.Brain.16wpb.Female</td></tr>\n",
       "\t<tr><td>2352sTS.Rat.Brain.16wpb.Female</td><td>Rattus norvegicus</td><td>Holtzman SD</td><td>wild type genotype</td><td>postnatal</td><td>112</td><td>female</td><td>forebrain</td><td>postnatal day 112</td><td>forebrain</td><td>2352sTS.Rat.Brain.16wpb.Female</td></tr>\n",
       "\t<tr><td>2356sTS.Rat.Brain.16wpb.Male  </td><td>Rattus norvegicus</td><td>Holtzman SD</td><td>wild type genotype</td><td>postnatal</td><td>112</td><td>male  </td><td>forebrain</td><td>postnatal day 112</td><td>forebrain</td><td>2356sTS.Rat.Brain.16wpb.Male  </td></tr>\n",
       "</tbody>\n",
       "</table>\n"
      ],
      "text/latex": [
       "A data.table: 10 × 11\n",
       "\\begin{tabular}{lllllllllll}\n",
       " Source Name & organism & strain & genotype & developmental stage & age & sex & organism part & developmental stage2 & organism part2 & Assay Name\\\\\n",
       " <chr> & <chr> & <chr> & <chr> & <chr> & <dbl> & <chr> & <chr> & <chr> & <chr> & <chr>\\\\\n",
       "\\hline\n",
       "\t 2336sTS.Rat.Brain.2wpb.Female  & Rattus norvegicus & Holtzman SD & wild type genotype & postnatal &  14 & female & forebrain & postnatal day 14  & forebrain & 2336sTS.Rat.Brain.2wpb.Female \\\\\n",
       "\t 2339sTS.Rat.Brain.2wpb.Female  & Rattus norvegicus & Holtzman SD & wild type genotype & postnatal &  14 & female & forebrain & postnatal day 14  & forebrain & 2339sTS.Rat.Brain.2wpb.Female \\\\\n",
       "\t 2342sTS.Rat.Brain.2wpb.Male    & Rattus norvegicus & Holtzman SD & wild type genotype & postnatal &  14 & male   & forebrain & postnatal day 14  & forebrain & 2342sTS.Rat.Brain.2wpb.Male   \\\\\n",
       "\t 2345sTS.Rat.Brain.2wpb.Male    & Rattus norvegicus & Holtzman SD & wild type genotype & postnatal &  14 & male   & forebrain & postnatal day 14  & forebrain & 2345sTS.Rat.Brain.2wpb.Male   \\\\\n",
       "\t 1875sTS.Rat.Brain.6wpb.Male    & Rattus norvegicus & Holtzman SD & wild type genotype & postnatal &  42 & male   & forebrain & postnatal day 42  & forebrain & 1875sTS.Rat.Brain.6wpb.Male   \\\\\n",
       "\t 1971sTS.Rat.Brain.6wpb.Male    & Rattus norvegicus & Holtzman SD & wild type genotype & postnatal &  42 & male   & forebrain & postnatal day 42  & forebrain & 1971sTS.Rat.Brain.6wpb.Male   \\\\\n",
       "\t 1975sTS.Rat.Brain.6wpb.Female  & Rattus norvegicus & Holtzman SD & wild type genotype & postnatal &  42 & female & forebrain & postnatal day 42  & forebrain & 1975sTS.Rat.Brain.6wpb.Female \\\\\n",
       "\t 2348sTS.Rat.Brain.16wpb.Female & Rattus norvegicus & Holtzman SD & wild type genotype & postnatal & 112 & female & forebrain & postnatal day 112 & forebrain & 2348sTS.Rat.Brain.16wpb.Female\\\\\n",
       "\t 2352sTS.Rat.Brain.16wpb.Female & Rattus norvegicus & Holtzman SD & wild type genotype & postnatal & 112 & female & forebrain & postnatal day 112 & forebrain & 2352sTS.Rat.Brain.16wpb.Female\\\\\n",
       "\t 2356sTS.Rat.Brain.16wpb.Male   & Rattus norvegicus & Holtzman SD & wild type genotype & postnatal & 112 & male   & forebrain & postnatal day 112 & forebrain & 2356sTS.Rat.Brain.16wpb.Male  \\\\\n",
       "\\end{tabular}\n"
      ],
      "text/markdown": [
       "\n",
       "A data.table: 10 × 11\n",
       "\n",
       "| Source Name &lt;chr&gt; | organism &lt;chr&gt; | strain &lt;chr&gt; | genotype &lt;chr&gt; | developmental stage &lt;chr&gt; | age &lt;dbl&gt; | sex &lt;chr&gt; | organism part &lt;chr&gt; | developmental stage2 &lt;chr&gt; | organism part2 &lt;chr&gt; | Assay Name &lt;chr&gt; |\n",
       "|---|---|---|---|---|---|---|---|---|---|---|\n",
       "| 2336sTS.Rat.Brain.2wpb.Female  | Rattus norvegicus | Holtzman SD | wild type genotype | postnatal |  14 | female | forebrain | postnatal day 14  | forebrain | 2336sTS.Rat.Brain.2wpb.Female  |\n",
       "| 2339sTS.Rat.Brain.2wpb.Female  | Rattus norvegicus | Holtzman SD | wild type genotype | postnatal |  14 | female | forebrain | postnatal day 14  | forebrain | 2339sTS.Rat.Brain.2wpb.Female  |\n",
       "| 2342sTS.Rat.Brain.2wpb.Male    | Rattus norvegicus | Holtzman SD | wild type genotype | postnatal |  14 | male   | forebrain | postnatal day 14  | forebrain | 2342sTS.Rat.Brain.2wpb.Male    |\n",
       "| 2345sTS.Rat.Brain.2wpb.Male    | Rattus norvegicus | Holtzman SD | wild type genotype | postnatal |  14 | male   | forebrain | postnatal day 14  | forebrain | 2345sTS.Rat.Brain.2wpb.Male    |\n",
       "| 1875sTS.Rat.Brain.6wpb.Male    | Rattus norvegicus | Holtzman SD | wild type genotype | postnatal |  42 | male   | forebrain | postnatal day 42  | forebrain | 1875sTS.Rat.Brain.6wpb.Male    |\n",
       "| 1971sTS.Rat.Brain.6wpb.Male    | Rattus norvegicus | Holtzman SD | wild type genotype | postnatal |  42 | male   | forebrain | postnatal day 42  | forebrain | 1971sTS.Rat.Brain.6wpb.Male    |\n",
       "| 1975sTS.Rat.Brain.6wpb.Female  | Rattus norvegicus | Holtzman SD | wild type genotype | postnatal |  42 | female | forebrain | postnatal day 42  | forebrain | 1975sTS.Rat.Brain.6wpb.Female  |\n",
       "| 2348sTS.Rat.Brain.16wpb.Female | Rattus norvegicus | Holtzman SD | wild type genotype | postnatal | 112 | female | forebrain | postnatal day 112 | forebrain | 2348sTS.Rat.Brain.16wpb.Female |\n",
       "| 2352sTS.Rat.Brain.16wpb.Female | Rattus norvegicus | Holtzman SD | wild type genotype | postnatal | 112 | female | forebrain | postnatal day 112 | forebrain | 2352sTS.Rat.Brain.16wpb.Female |\n",
       "| 2356sTS.Rat.Brain.16wpb.Male   | Rattus norvegicus | Holtzman SD | wild type genotype | postnatal | 112 | male   | forebrain | postnatal day 112 | forebrain | 2356sTS.Rat.Brain.16wpb.Male   |\n",
       "\n"
      ],
      "text/plain": [
       "   Source Name                    organism          strain     \n",
       "1  2336sTS.Rat.Brain.2wpb.Female  Rattus norvegicus Holtzman SD\n",
       "2  2339sTS.Rat.Brain.2wpb.Female  Rattus norvegicus Holtzman SD\n",
       "3  2342sTS.Rat.Brain.2wpb.Male    Rattus norvegicus Holtzman SD\n",
       "4  2345sTS.Rat.Brain.2wpb.Male    Rattus norvegicus Holtzman SD\n",
       "5  1875sTS.Rat.Brain.6wpb.Male    Rattus norvegicus Holtzman SD\n",
       "6  1971sTS.Rat.Brain.6wpb.Male    Rattus norvegicus Holtzman SD\n",
       "7  1975sTS.Rat.Brain.6wpb.Female  Rattus norvegicus Holtzman SD\n",
       "8  2348sTS.Rat.Brain.16wpb.Female Rattus norvegicus Holtzman SD\n",
       "9  2352sTS.Rat.Brain.16wpb.Female Rattus norvegicus Holtzman SD\n",
       "10 2356sTS.Rat.Brain.16wpb.Male   Rattus norvegicus Holtzman SD\n",
       "   genotype           developmental stage age sex    organism part\n",
       "1  wild type genotype postnatal            14 female forebrain    \n",
       "2  wild type genotype postnatal            14 female forebrain    \n",
       "3  wild type genotype postnatal            14 male   forebrain    \n",
       "4  wild type genotype postnatal            14 male   forebrain    \n",
       "5  wild type genotype postnatal            42 male   forebrain    \n",
       "6  wild type genotype postnatal            42 male   forebrain    \n",
       "7  wild type genotype postnatal            42 female forebrain    \n",
       "8  wild type genotype postnatal           112 female forebrain    \n",
       "9  wild type genotype postnatal           112 female forebrain    \n",
       "10 wild type genotype postnatal           112 male   forebrain    \n",
       "   developmental stage2 organism part2 Assay Name                    \n",
       "1  postnatal day 14     forebrain      2336sTS.Rat.Brain.2wpb.Female \n",
       "2  postnatal day 14     forebrain      2339sTS.Rat.Brain.2wpb.Female \n",
       "3  postnatal day 14     forebrain      2342sTS.Rat.Brain.2wpb.Male   \n",
       "4  postnatal day 14     forebrain      2345sTS.Rat.Brain.2wpb.Male   \n",
       "5  postnatal day 42     forebrain      1875sTS.Rat.Brain.6wpb.Male   \n",
       "6  postnatal day 42     forebrain      1971sTS.Rat.Brain.6wpb.Male   \n",
       "7  postnatal day 42     forebrain      1975sTS.Rat.Brain.6wpb.Female \n",
       "8  postnatal day 112    forebrain      2348sTS.Rat.Brain.16wpb.Female\n",
       "9  postnatal day 112    forebrain      2352sTS.Rat.Brain.16wpb.Female\n",
       "10 postnatal day 112    forebrain      2356sTS.Rat.Brain.16wpb.Male  "
      ]
     },
     "metadata": {},
     "output_type": "display_data"
    }
   ],
   "source": [
    "## rat\n",
    "brain_samples[['rat']] = sample_info$rat[str_detect(`Source Name`, \"rain\") & str_detect(`developmental stage`, 'postnatal')][age > 10][1:10][order(age)]\n",
    "brain_samples[['rat']]"
   ]
  },
  {
   "cell_type": "code",
   "execution_count": 231,
   "id": "d638f347",
   "metadata": {
    "vscode": {
     "languageId": "r"
    }
   },
   "outputs": [
    {
     "data": {
      "text/html": [
       "<table class=\"dataframe\">\n",
       "<caption>A data.table: 10 × 10</caption>\n",
       "<thead>\n",
       "\t<tr><th scope=col>Source Name</th><th scope=col>organism</th><th scope=col>genotype</th><th scope=col>developmental stage</th><th scope=col>age</th><th scope=col>organism part</th><th scope=col>sex</th><th scope=col>developmental stage2</th><th scope=col>organism part2</th><th scope=col>Assay Name</th></tr>\n",
       "\t<tr><th scope=col>&lt;chr&gt;</th><th scope=col>&lt;chr&gt;</th><th scope=col>&lt;chr&gt;</th><th scope=col>&lt;chr&gt;</th><th scope=col>&lt;chr&gt;</th><th scope=col>&lt;chr&gt;</th><th scope=col>&lt;chr&gt;</th><th scope=col>&lt;chr&gt;</th><th scope=col>&lt;chr&gt;</th><th scope=col>&lt;chr&gt;</th></tr>\n",
       "</thead>\n",
       "<tbody>\n",
       "\t<tr><td>5413sTS.Macaque.Brain.21ypb.Male </td><td>Macaca mulatta</td><td>wild type genotype</td><td>postnatal</td><td>20 to 26</td><td>forebrain</td><td>male  </td><td>20 to 26 years postnatal</td><td>forebrain</td><td>5413sTS.Macaque.Brain.21ypb.Male </td></tr>\n",
       "\t<tr><td>5461sTS.Macaque.Brain.22ypb.Male </td><td>Macaca mulatta</td><td>wild type genotype</td><td>postnatal</td><td>20 to 26</td><td>forebrain</td><td>male  </td><td>20 to 26 years postnatal</td><td>forebrain</td><td>5461sTS.Macaque.Brain.22ypb.Male </td></tr>\n",
       "\t<tr><td>5501sTS.Macaque.Brain.9ypb.Male  </td><td>Macaca mulatta</td><td>wild type genotype</td><td>postnatal</td><td>9       </td><td>forebrain</td><td>male  </td><td>9 years postnatal       </td><td>forebrain</td><td>5501sTS.Macaque.Brain.9ypb.Male  </td></tr>\n",
       "\t<tr><td>5988sTS.Macaque.Brain.9ypb.Male  </td><td>Macaca mulatta</td><td>wild type genotype</td><td>postnatal</td><td>9       </td><td>forebrain</td><td>male  </td><td>9 years postnatal       </td><td>forebrain</td><td>5988sTS.Macaque.Brain.9ypb.Male  </td></tr>\n",
       "\t<tr><td>6076sTS.Macaque.Brain.3ypb.Male  </td><td>Macaca mulatta</td><td>wild type genotype</td><td>postnatal</td><td>3       </td><td>forebrain</td><td>male  </td><td>3 years postnatal       </td><td>forebrain</td><td>6076sTS.Macaque.Brain.3ypb.Male  </td></tr>\n",
       "\t<tr><td>6084sTS.Macaque.Brain.3ypb.Male  </td><td>Macaca mulatta</td><td>wild type genotype</td><td>postnatal</td><td>3       </td><td>forebrain</td><td>male  </td><td>3 years postnatal       </td><td>forebrain</td><td>6084sTS.Macaque.Brain.3ypb.Male  </td></tr>\n",
       "\t<tr><td>6088sTS.Macaque.Brain.8ypb.Female</td><td>Macaca mulatta</td><td>wild type genotype</td><td>postnatal</td><td>8       </td><td>forebrain</td><td>female</td><td>8 years postnatal       </td><td>forebrain</td><td>6088sTS.Macaque.Brain.8ypb.Female</td></tr>\n",
       "\t<tr><td>6093sTS.Macaque.Brain.9ypb.Female</td><td>Macaca mulatta</td><td>wild type genotype</td><td>postnatal</td><td>9       </td><td>forebrain</td><td>female</td><td>9 years postnatal       </td><td>forebrain</td><td>6093sTS.Macaque.Brain.9ypb.Female</td></tr>\n",
       "\t<tr><td>6109sTS.Macaque.Brain.2ypb.Male  </td><td>Macaca mulatta</td><td>wild type genotype</td><td>postnatal</td><td>2       </td><td>forebrain</td><td>male  </td><td>2 years postnatal       </td><td>forebrain</td><td>6109sTS.Macaque.Brain.2ypb.Male  </td></tr>\n",
       "\t<tr><td>6110sTS.Macaque.Brain.14ypb.Male </td><td>Macaca mulatta</td><td>wild type genotype</td><td>postnatal</td><td>14 to 15</td><td>forebrain</td><td>male  </td><td>14 to 15 years postnatal</td><td>forebrain</td><td>6110sTS.Macaque.Brain.14ypb.Male </td></tr>\n",
       "</tbody>\n",
       "</table>\n"
      ],
      "text/latex": [
       "A data.table: 10 × 10\n",
       "\\begin{tabular}{llllllllll}\n",
       " Source Name & organism & genotype & developmental stage & age & organism part & sex & developmental stage2 & organism part2 & Assay Name\\\\\n",
       " <chr> & <chr> & <chr> & <chr> & <chr> & <chr> & <chr> & <chr> & <chr> & <chr>\\\\\n",
       "\\hline\n",
       "\t 5413sTS.Macaque.Brain.21ypb.Male  & Macaca mulatta & wild type genotype & postnatal & 20 to 26 & forebrain & male   & 20 to 26 years postnatal & forebrain & 5413sTS.Macaque.Brain.21ypb.Male \\\\\n",
       "\t 5461sTS.Macaque.Brain.22ypb.Male  & Macaca mulatta & wild type genotype & postnatal & 20 to 26 & forebrain & male   & 20 to 26 years postnatal & forebrain & 5461sTS.Macaque.Brain.22ypb.Male \\\\\n",
       "\t 5501sTS.Macaque.Brain.9ypb.Male   & Macaca mulatta & wild type genotype & postnatal & 9        & forebrain & male   & 9 years postnatal        & forebrain & 5501sTS.Macaque.Brain.9ypb.Male  \\\\\n",
       "\t 5988sTS.Macaque.Brain.9ypb.Male   & Macaca mulatta & wild type genotype & postnatal & 9        & forebrain & male   & 9 years postnatal        & forebrain & 5988sTS.Macaque.Brain.9ypb.Male  \\\\\n",
       "\t 6076sTS.Macaque.Brain.3ypb.Male   & Macaca mulatta & wild type genotype & postnatal & 3        & forebrain & male   & 3 years postnatal        & forebrain & 6076sTS.Macaque.Brain.3ypb.Male  \\\\\n",
       "\t 6084sTS.Macaque.Brain.3ypb.Male   & Macaca mulatta & wild type genotype & postnatal & 3        & forebrain & male   & 3 years postnatal        & forebrain & 6084sTS.Macaque.Brain.3ypb.Male  \\\\\n",
       "\t 6088sTS.Macaque.Brain.8ypb.Female & Macaca mulatta & wild type genotype & postnatal & 8        & forebrain & female & 8 years postnatal        & forebrain & 6088sTS.Macaque.Brain.8ypb.Female\\\\\n",
       "\t 6093sTS.Macaque.Brain.9ypb.Female & Macaca mulatta & wild type genotype & postnatal & 9        & forebrain & female & 9 years postnatal        & forebrain & 6093sTS.Macaque.Brain.9ypb.Female\\\\\n",
       "\t 6109sTS.Macaque.Brain.2ypb.Male   & Macaca mulatta & wild type genotype & postnatal & 2        & forebrain & male   & 2 years postnatal        & forebrain & 6109sTS.Macaque.Brain.2ypb.Male  \\\\\n",
       "\t 6110sTS.Macaque.Brain.14ypb.Male  & Macaca mulatta & wild type genotype & postnatal & 14 to 15 & forebrain & male   & 14 to 15 years postnatal & forebrain & 6110sTS.Macaque.Brain.14ypb.Male \\\\\n",
       "\\end{tabular}\n"
      ],
      "text/markdown": [
       "\n",
       "A data.table: 10 × 10\n",
       "\n",
       "| Source Name &lt;chr&gt; | organism &lt;chr&gt; | genotype &lt;chr&gt; | developmental stage &lt;chr&gt; | age &lt;chr&gt; | organism part &lt;chr&gt; | sex &lt;chr&gt; | developmental stage2 &lt;chr&gt; | organism part2 &lt;chr&gt; | Assay Name &lt;chr&gt; |\n",
       "|---|---|---|---|---|---|---|---|---|---|\n",
       "| 5413sTS.Macaque.Brain.21ypb.Male  | Macaca mulatta | wild type genotype | postnatal | 20 to 26 | forebrain | male   | 20 to 26 years postnatal | forebrain | 5413sTS.Macaque.Brain.21ypb.Male  |\n",
       "| 5461sTS.Macaque.Brain.22ypb.Male  | Macaca mulatta | wild type genotype | postnatal | 20 to 26 | forebrain | male   | 20 to 26 years postnatal | forebrain | 5461sTS.Macaque.Brain.22ypb.Male  |\n",
       "| 5501sTS.Macaque.Brain.9ypb.Male   | Macaca mulatta | wild type genotype | postnatal | 9        | forebrain | male   | 9 years postnatal        | forebrain | 5501sTS.Macaque.Brain.9ypb.Male   |\n",
       "| 5988sTS.Macaque.Brain.9ypb.Male   | Macaca mulatta | wild type genotype | postnatal | 9        | forebrain | male   | 9 years postnatal        | forebrain | 5988sTS.Macaque.Brain.9ypb.Male   |\n",
       "| 6076sTS.Macaque.Brain.3ypb.Male   | Macaca mulatta | wild type genotype | postnatal | 3        | forebrain | male   | 3 years postnatal        | forebrain | 6076sTS.Macaque.Brain.3ypb.Male   |\n",
       "| 6084sTS.Macaque.Brain.3ypb.Male   | Macaca mulatta | wild type genotype | postnatal | 3        | forebrain | male   | 3 years postnatal        | forebrain | 6084sTS.Macaque.Brain.3ypb.Male   |\n",
       "| 6088sTS.Macaque.Brain.8ypb.Female | Macaca mulatta | wild type genotype | postnatal | 8        | forebrain | female | 8 years postnatal        | forebrain | 6088sTS.Macaque.Brain.8ypb.Female |\n",
       "| 6093sTS.Macaque.Brain.9ypb.Female | Macaca mulatta | wild type genotype | postnatal | 9        | forebrain | female | 9 years postnatal        | forebrain | 6093sTS.Macaque.Brain.9ypb.Female |\n",
       "| 6109sTS.Macaque.Brain.2ypb.Male   | Macaca mulatta | wild type genotype | postnatal | 2        | forebrain | male   | 2 years postnatal        | forebrain | 6109sTS.Macaque.Brain.2ypb.Male   |\n",
       "| 6110sTS.Macaque.Brain.14ypb.Male  | Macaca mulatta | wild type genotype | postnatal | 14 to 15 | forebrain | male   | 14 to 15 years postnatal | forebrain | 6110sTS.Macaque.Brain.14ypb.Male  |\n",
       "\n"
      ],
      "text/plain": [
       "   Source Name                       organism       genotype          \n",
       "1  5413sTS.Macaque.Brain.21ypb.Male  Macaca mulatta wild type genotype\n",
       "2  5461sTS.Macaque.Brain.22ypb.Male  Macaca mulatta wild type genotype\n",
       "3  5501sTS.Macaque.Brain.9ypb.Male   Macaca mulatta wild type genotype\n",
       "4  5988sTS.Macaque.Brain.9ypb.Male   Macaca mulatta wild type genotype\n",
       "5  6076sTS.Macaque.Brain.3ypb.Male   Macaca mulatta wild type genotype\n",
       "6  6084sTS.Macaque.Brain.3ypb.Male   Macaca mulatta wild type genotype\n",
       "7  6088sTS.Macaque.Brain.8ypb.Female Macaca mulatta wild type genotype\n",
       "8  6093sTS.Macaque.Brain.9ypb.Female Macaca mulatta wild type genotype\n",
       "9  6109sTS.Macaque.Brain.2ypb.Male   Macaca mulatta wild type genotype\n",
       "10 6110sTS.Macaque.Brain.14ypb.Male  Macaca mulatta wild type genotype\n",
       "   developmental stage age      organism part sex    developmental stage2    \n",
       "1  postnatal           20 to 26 forebrain     male   20 to 26 years postnatal\n",
       "2  postnatal           20 to 26 forebrain     male   20 to 26 years postnatal\n",
       "3  postnatal           9        forebrain     male   9 years postnatal       \n",
       "4  postnatal           9        forebrain     male   9 years postnatal       \n",
       "5  postnatal           3        forebrain     male   3 years postnatal       \n",
       "6  postnatal           3        forebrain     male   3 years postnatal       \n",
       "7  postnatal           8        forebrain     female 8 years postnatal       \n",
       "8  postnatal           9        forebrain     female 9 years postnatal       \n",
       "9  postnatal           2        forebrain     male   2 years postnatal       \n",
       "10 postnatal           14 to 15 forebrain     male   14 to 15 years postnatal\n",
       "   organism part2 Assay Name                       \n",
       "1  forebrain      5413sTS.Macaque.Brain.21ypb.Male \n",
       "2  forebrain      5461sTS.Macaque.Brain.22ypb.Male \n",
       "3  forebrain      5501sTS.Macaque.Brain.9ypb.Male  \n",
       "4  forebrain      5988sTS.Macaque.Brain.9ypb.Male  \n",
       "5  forebrain      6076sTS.Macaque.Brain.3ypb.Male  \n",
       "6  forebrain      6084sTS.Macaque.Brain.3ypb.Male  \n",
       "7  forebrain      6088sTS.Macaque.Brain.8ypb.Female\n",
       "8  forebrain      6093sTS.Macaque.Brain.9ypb.Female\n",
       "9  forebrain      6109sTS.Macaque.Brain.2ypb.Male  \n",
       "10 forebrain      6110sTS.Macaque.Brain.14ypb.Male "
      ]
     },
     "metadata": {},
     "output_type": "display_data"
    }
   ],
   "source": [
    "## macaque\n",
    "brain_samples[['rmac']] = sample_info$rmac[str_detect(`Source Name`, \"rain\") & str_detect(`Source Name`, 'ypb')][! age %in% c('1')][order(`Source Name`)][1:10]\n",
    "brain_samples[['rmac']]"
   ]
  },
  {
   "cell_type": "markdown",
   "id": "76147845",
   "metadata": {},
   "source": [
    "## Select Heart"
   ]
  },
  {
   "cell_type": "code",
   "execution_count": 146,
   "id": "5a5a312c",
   "metadata": {
    "vscode": {
     "languageId": "r"
    }
   },
   "outputs": [],
   "source": [
    "heart_samples = list(\n",
    "  'hs' = list(),\n",
    "  'mm' = list(),\n",
    "  'rat' = list(),\n",
    "  'rmac' = list()\n",
    ")"
   ]
  },
  {
   "cell_type": "code",
   "execution_count": 147,
   "id": "c4462910",
   "metadata": {
    "vscode": {
     "languageId": "r"
    }
   },
   "outputs": [
    {
     "data": {
      "text/html": [
       "<table class=\"dataframe\">\n",
       "<caption>A data.table: 10 × 11</caption>\n",
       "<thead>\n",
       "\t<tr><th scope=col>Source Name</th><th scope=col>organism</th><th scope=col>disease</th><th scope=col>developmental stage</th><th scope=col>individual</th><th scope=col>age</th><th scope=col>sex</th><th scope=col>organism part</th><th scope=col>developmental stage2</th><th scope=col>organism part2</th><th scope=col>Assay Name</th></tr>\n",
       "\t<tr><th scope=col>&lt;chr&gt;</th><th scope=col>&lt;chr&gt;</th><th scope=col>&lt;chr&gt;</th><th scope=col>&lt;chr&gt;</th><th scope=col>&lt;chr&gt;</th><th scope=col>&lt;dbl&gt;</th><th scope=col>&lt;chr&gt;</th><th scope=col>&lt;chr&gt;</th><th scope=col>&lt;chr&gt;</th><th scope=col>&lt;chr&gt;</th><th scope=col>&lt;chr&gt;</th></tr>\n",
       "</thead>\n",
       "<tbody>\n",
       "\t<tr><td>5843sTS.Human.Heart.0dpb.Female</td><td>Homo sapiens</td><td>normal</td><td>neonate     </td><td>not available</td><td>  0</td><td>female</td><td>heart</td><td>neonate     </td><td>heart</td><td>5843sTS.Human.Heart.0dpb.Female</td></tr>\n",
       "\t<tr><td>5828sTS.Human.Heart.6mpb.Female</td><td>Homo sapiens</td><td>normal</td><td>infant      </td><td>not available</td><td>  6</td><td>female</td><td>heart</td><td>infant      </td><td>heart</td><td>5828sTS.Human.Heart.6mpb.Female</td></tr>\n",
       "\t<tr><td>5850sTS.Human.Heart.6dpb.Male  </td><td>Homo sapiens</td><td>normal</td><td>neonate     </td><td>not available</td><td>  6</td><td>male  </td><td>heart</td><td>neonate     </td><td>heart</td><td>5850sTS.Human.Heart.6dpb.Male  </td></tr>\n",
       "\t<tr><td>5909sTS.Human.Heart.6mpb.Female</td><td>Homo sapiens</td><td>normal</td><td>infant      </td><td>not available</td><td>  6</td><td>female</td><td>heart</td><td>infant      </td><td>heart</td><td>5909sTS.Human.Heart.6mpb.Female</td></tr>\n",
       "\t<tr><td>5822sTS.Human.Heart.13ypb.Male </td><td>Homo sapiens</td><td>normal</td><td>adolescent  </td><td>not available</td><td> 13</td><td>male  </td><td>heart</td><td>adolescent  </td><td>heart</td><td>5822sTS.Human.Heart.13ypb.Male </td></tr>\n",
       "\t<tr><td>6042sTS.Human.Heart.25ypb.Male </td><td>Homo sapiens</td><td>normal</td><td>young adult </td><td>not available</td><td> 25</td><td>male  </td><td>heart</td><td>young adult </td><td>heart</td><td>6042sTS.Human.Heart.25ypb.Male </td></tr>\n",
       "\t<tr><td>6043sTS.Human.Heart.54ypb.Male </td><td>Homo sapiens</td><td>normal</td><td>middle adult</td><td>not available</td><td> 54</td><td>male  </td><td>heart</td><td>middle adult</td><td>heart</td><td>6043sTS.Human.Heart.54ypb.Male </td></tr>\n",
       "\t<tr><td>5905sTS.Human.Heart.94dpb.Male </td><td>Homo sapiens</td><td>normal</td><td>neonate     </td><td>not available</td><td> 94</td><td>male  </td><td>heart</td><td>neonate     </td><td>heart</td><td>5905sTS.Human.Heart.94dpb.Male </td></tr>\n",
       "\t<tr><td>5836sTS.Human.Heart.127dpb.Male</td><td>Homo sapiens</td><td>normal</td><td>infant      </td><td>not available</td><td>127</td><td>male  </td><td>heart</td><td>infant      </td><td>heart</td><td>5836sTS.Human.Heart.127dpb.Male</td></tr>\n",
       "\t<tr><td>5818sTS.Human.Heart.226dpb.Male</td><td>Homo sapiens</td><td>normal</td><td>infant      </td><td>not available</td><td>226</td><td>male  </td><td>heart</td><td>infant      </td><td>heart</td><td>5818sTS.Human.Heart.226dpb.Male</td></tr>\n",
       "</tbody>\n",
       "</table>\n"
      ],
      "text/latex": [
       "A data.table: 10 × 11\n",
       "\\begin{tabular}{lllllllllll}\n",
       " Source Name & organism & disease & developmental stage & individual & age & sex & organism part & developmental stage2 & organism part2 & Assay Name\\\\\n",
       " <chr> & <chr> & <chr> & <chr> & <chr> & <dbl> & <chr> & <chr> & <chr> & <chr> & <chr>\\\\\n",
       "\\hline\n",
       "\t 5843sTS.Human.Heart.0dpb.Female & Homo sapiens & normal & neonate      & not available &   0 & female & heart & neonate      & heart & 5843sTS.Human.Heart.0dpb.Female\\\\\n",
       "\t 5828sTS.Human.Heart.6mpb.Female & Homo sapiens & normal & infant       & not available &   6 & female & heart & infant       & heart & 5828sTS.Human.Heart.6mpb.Female\\\\\n",
       "\t 5850sTS.Human.Heart.6dpb.Male   & Homo sapiens & normal & neonate      & not available &   6 & male   & heart & neonate      & heart & 5850sTS.Human.Heart.6dpb.Male  \\\\\n",
       "\t 5909sTS.Human.Heart.6mpb.Female & Homo sapiens & normal & infant       & not available &   6 & female & heart & infant       & heart & 5909sTS.Human.Heart.6mpb.Female\\\\\n",
       "\t 5822sTS.Human.Heart.13ypb.Male  & Homo sapiens & normal & adolescent   & not available &  13 & male   & heart & adolescent   & heart & 5822sTS.Human.Heart.13ypb.Male \\\\\n",
       "\t 6042sTS.Human.Heart.25ypb.Male  & Homo sapiens & normal & young adult  & not available &  25 & male   & heart & young adult  & heart & 6042sTS.Human.Heart.25ypb.Male \\\\\n",
       "\t 6043sTS.Human.Heart.54ypb.Male  & Homo sapiens & normal & middle adult & not available &  54 & male   & heart & middle adult & heart & 6043sTS.Human.Heart.54ypb.Male \\\\\n",
       "\t 5905sTS.Human.Heart.94dpb.Male  & Homo sapiens & normal & neonate      & not available &  94 & male   & heart & neonate      & heart & 5905sTS.Human.Heart.94dpb.Male \\\\\n",
       "\t 5836sTS.Human.Heart.127dpb.Male & Homo sapiens & normal & infant       & not available & 127 & male   & heart & infant       & heart & 5836sTS.Human.Heart.127dpb.Male\\\\\n",
       "\t 5818sTS.Human.Heart.226dpb.Male & Homo sapiens & normal & infant       & not available & 226 & male   & heart & infant       & heart & 5818sTS.Human.Heart.226dpb.Male\\\\\n",
       "\\end{tabular}\n"
      ],
      "text/markdown": [
       "\n",
       "A data.table: 10 × 11\n",
       "\n",
       "| Source Name &lt;chr&gt; | organism &lt;chr&gt; | disease &lt;chr&gt; | developmental stage &lt;chr&gt; | individual &lt;chr&gt; | age &lt;dbl&gt; | sex &lt;chr&gt; | organism part &lt;chr&gt; | developmental stage2 &lt;chr&gt; | organism part2 &lt;chr&gt; | Assay Name &lt;chr&gt; |\n",
       "|---|---|---|---|---|---|---|---|---|---|---|\n",
       "| 5843sTS.Human.Heart.0dpb.Female | Homo sapiens | normal | neonate      | not available |   0 | female | heart | neonate      | heart | 5843sTS.Human.Heart.0dpb.Female |\n",
       "| 5828sTS.Human.Heart.6mpb.Female | Homo sapiens | normal | infant       | not available |   6 | female | heart | infant       | heart | 5828sTS.Human.Heart.6mpb.Female |\n",
       "| 5850sTS.Human.Heart.6dpb.Male   | Homo sapiens | normal | neonate      | not available |   6 | male   | heart | neonate      | heart | 5850sTS.Human.Heart.6dpb.Male   |\n",
       "| 5909sTS.Human.Heart.6mpb.Female | Homo sapiens | normal | infant       | not available |   6 | female | heart | infant       | heart | 5909sTS.Human.Heart.6mpb.Female |\n",
       "| 5822sTS.Human.Heart.13ypb.Male  | Homo sapiens | normal | adolescent   | not available |  13 | male   | heart | adolescent   | heart | 5822sTS.Human.Heart.13ypb.Male  |\n",
       "| 6042sTS.Human.Heart.25ypb.Male  | Homo sapiens | normal | young adult  | not available |  25 | male   | heart | young adult  | heart | 6042sTS.Human.Heart.25ypb.Male  |\n",
       "| 6043sTS.Human.Heart.54ypb.Male  | Homo sapiens | normal | middle adult | not available |  54 | male   | heart | middle adult | heart | 6043sTS.Human.Heart.54ypb.Male  |\n",
       "| 5905sTS.Human.Heart.94dpb.Male  | Homo sapiens | normal | neonate      | not available |  94 | male   | heart | neonate      | heart | 5905sTS.Human.Heart.94dpb.Male  |\n",
       "| 5836sTS.Human.Heart.127dpb.Male | Homo sapiens | normal | infant       | not available | 127 | male   | heart | infant       | heart | 5836sTS.Human.Heart.127dpb.Male |\n",
       "| 5818sTS.Human.Heart.226dpb.Male | Homo sapiens | normal | infant       | not available | 226 | male   | heart | infant       | heart | 5818sTS.Human.Heart.226dpb.Male |\n",
       "\n"
      ],
      "text/plain": [
       "   Source Name                     organism     disease developmental stage\n",
       "1  5843sTS.Human.Heart.0dpb.Female Homo sapiens normal  neonate            \n",
       "2  5828sTS.Human.Heart.6mpb.Female Homo sapiens normal  infant             \n",
       "3  5850sTS.Human.Heart.6dpb.Male   Homo sapiens normal  neonate            \n",
       "4  5909sTS.Human.Heart.6mpb.Female Homo sapiens normal  infant             \n",
       "5  5822sTS.Human.Heart.13ypb.Male  Homo sapiens normal  adolescent         \n",
       "6  6042sTS.Human.Heart.25ypb.Male  Homo sapiens normal  young adult        \n",
       "7  6043sTS.Human.Heart.54ypb.Male  Homo sapiens normal  middle adult       \n",
       "8  5905sTS.Human.Heart.94dpb.Male  Homo sapiens normal  neonate            \n",
       "9  5836sTS.Human.Heart.127dpb.Male Homo sapiens normal  infant             \n",
       "10 5818sTS.Human.Heart.226dpb.Male Homo sapiens normal  infant             \n",
       "   individual    age sex    organism part developmental stage2 organism part2\n",
       "1  not available   0 female heart         neonate              heart         \n",
       "2  not available   6 female heart         infant               heart         \n",
       "3  not available   6 male   heart         neonate              heart         \n",
       "4  not available   6 female heart         infant               heart         \n",
       "5  not available  13 male   heart         adolescent           heart         \n",
       "6  not available  25 male   heart         young adult          heart         \n",
       "7  not available  54 male   heart         middle adult         heart         \n",
       "8  not available  94 male   heart         neonate              heart         \n",
       "9  not available 127 male   heart         infant               heart         \n",
       "10 not available 226 male   heart         infant               heart         \n",
       "   Assay Name                     \n",
       "1  5843sTS.Human.Heart.0dpb.Female\n",
       "2  5828sTS.Human.Heart.6mpb.Female\n",
       "3  5850sTS.Human.Heart.6dpb.Male  \n",
       "4  5909sTS.Human.Heart.6mpb.Female\n",
       "5  5822sTS.Human.Heart.13ypb.Male \n",
       "6  6042sTS.Human.Heart.25ypb.Male \n",
       "7  6043sTS.Human.Heart.54ypb.Male \n",
       "8  5905sTS.Human.Heart.94dpb.Male \n",
       "9  5836sTS.Human.Heart.127dpb.Male\n",
       "10 5818sTS.Human.Heart.226dpb.Male"
      ]
     },
     "metadata": {},
     "output_type": "display_data"
    }
   ],
   "source": [
    "#human\n",
    "heart_samples[['hs']] = sample_info$hs[str_detect(`Source Name`, \"eart\") & str_detect(`developmental stage2`, \"adult|adole|child|todler|infant|neon|eld\")][order(age)][1:10]\n",
    "heart_samples[['hs']]"
   ]
  },
  {
   "cell_type": "code",
   "execution_count": 148,
   "id": "590d38a7",
   "metadata": {
    "vscode": {
     "languageId": "r"
    }
   },
   "outputs": [
    {
     "data": {
      "text/html": [
       "<table class=\"dataframe\">\n",
       "<caption>A data.table: 10 × 11</caption>\n",
       "<thead>\n",
       "\t<tr><th scope=col>Source Name</th><th scope=col>organism</th><th scope=col>strain</th><th scope=col>genotype</th><th scope=col>organism part</th><th scope=col>developmental stage</th><th scope=col>age</th><th scope=col>sex</th><th scope=col>organism part2</th><th scope=col>developmental stage2</th><th scope=col>Assay Name</th></tr>\n",
       "\t<tr><th scope=col>&lt;chr&gt;</th><th scope=col>&lt;chr&gt;</th><th scope=col>&lt;chr&gt;</th><th scope=col>&lt;chr&gt;</th><th scope=col>&lt;chr&gt;</th><th scope=col>&lt;chr&gt;</th><th scope=col>&lt;dbl&gt;</th><th scope=col>&lt;chr&gt;</th><th scope=col>&lt;chr&gt;</th><th scope=col>&lt;chr&gt;</th><th scope=col>&lt;chr&gt;</th></tr>\n",
       "</thead>\n",
       "<tbody>\n",
       "\t<tr><td>2643sTS.Mouse.Heart.2wpb.Male  </td><td>Mus musculus</td><td>CD-1</td><td>wild type genotype</td><td>heart</td><td>postnatal</td><td>14</td><td>male  </td><td>heart</td><td>postnatal day 14</td><td>2643sTS.Mouse.Heart.2wpb.Male  </td></tr>\n",
       "\t<tr><td>2645sTS.Mouse.Heart.2wpb.Male  </td><td>Mus musculus</td><td>CD-1</td><td>wild type genotype</td><td>heart</td><td>postnatal</td><td>14</td><td>male  </td><td>heart</td><td>postnatal day 14</td><td>2645sTS.Mouse.Heart.2wpb.Male  </td></tr>\n",
       "\t<tr><td>2651sTS.Mouse.Heart.2wpb.Female</td><td>Mus musculus</td><td>CD-1</td><td>wild type genotype</td><td>heart</td><td>postnatal</td><td>14</td><td>female</td><td>heart</td><td>postnatal day 14</td><td>2651sTS.Mouse.Heart.2wpb.Female</td></tr>\n",
       "\t<tr><td>2653sTS.Mouse.Heart.2wpb.Female</td><td>Mus musculus</td><td>CD-1</td><td>wild type genotype</td><td>heart</td><td>postnatal</td><td>14</td><td>female</td><td>heart</td><td>postnatal day 14</td><td>2653sTS.Mouse.Heart.2wpb.Female</td></tr>\n",
       "\t<tr><td>2655sTS.Mouse.Heart.4wpb.Female</td><td>Mus musculus</td><td>CD-1</td><td>wild type genotype</td><td>heart</td><td>postnatal</td><td>28</td><td>female</td><td>heart</td><td>postnatal day 28</td><td>2655sTS.Mouse.Heart.4wpb.Female</td></tr>\n",
       "\t<tr><td>2657sTS.Mouse.Heart.4wpb.Female</td><td>Mus musculus</td><td>CD-1</td><td>wild type genotype</td><td>heart</td><td>postnatal</td><td>28</td><td>female</td><td>heart</td><td>postnatal day 28</td><td>2657sTS.Mouse.Heart.4wpb.Female</td></tr>\n",
       "\t<tr><td>2659sTS.Mouse.Heart.4wpb.Male  </td><td>Mus musculus</td><td>CD-1</td><td>wild type genotype</td><td>heart</td><td>postnatal</td><td>28</td><td>male  </td><td>heart</td><td>postnatal day 28</td><td>2659sTS.Mouse.Heart.4wpb.Male  </td></tr>\n",
       "\t<tr><td>2661sTS.Mouse.Heart.4wpb.Male  </td><td>Mus musculus</td><td>CD-1</td><td>wild type genotype</td><td>heart</td><td>postnatal</td><td>28</td><td>male  </td><td>heart</td><td>postnatal day 28</td><td>2661sTS.Mouse.Heart.4wpb.Male  </td></tr>\n",
       "\t<tr><td>1950sTS.Mouse.Heart.9wpb.Female</td><td>Mus musculus</td><td>CD-1</td><td>wild type genotype</td><td>heart</td><td>postnatal</td><td>63</td><td>female</td><td>heart</td><td>postnatal day 63</td><td>1950sTS.Mouse.Heart.9wpb.Female</td></tr>\n",
       "\t<tr><td>1956sTS.Mouse.Heart.9wpb.Male  </td><td>Mus musculus</td><td>CD-1</td><td>wild type genotype</td><td>heart</td><td>postnatal</td><td>63</td><td>male  </td><td>heart</td><td>postnatal day 63</td><td>1956sTS.Mouse.Heart.9wpb.Male  </td></tr>\n",
       "</tbody>\n",
       "</table>\n"
      ],
      "text/latex": [
       "A data.table: 10 × 11\n",
       "\\begin{tabular}{lllllllllll}\n",
       " Source Name & organism & strain & genotype & organism part & developmental stage & age & sex & organism part2 & developmental stage2 & Assay Name\\\\\n",
       " <chr> & <chr> & <chr> & <chr> & <chr> & <chr> & <dbl> & <chr> & <chr> & <chr> & <chr>\\\\\n",
       "\\hline\n",
       "\t 2643sTS.Mouse.Heart.2wpb.Male   & Mus musculus & CD-1 & wild type genotype & heart & postnatal & 14 & male   & heart & postnatal day 14 & 2643sTS.Mouse.Heart.2wpb.Male  \\\\\n",
       "\t 2645sTS.Mouse.Heart.2wpb.Male   & Mus musculus & CD-1 & wild type genotype & heart & postnatal & 14 & male   & heart & postnatal day 14 & 2645sTS.Mouse.Heart.2wpb.Male  \\\\\n",
       "\t 2651sTS.Mouse.Heart.2wpb.Female & Mus musculus & CD-1 & wild type genotype & heart & postnatal & 14 & female & heart & postnatal day 14 & 2651sTS.Mouse.Heart.2wpb.Female\\\\\n",
       "\t 2653sTS.Mouse.Heart.2wpb.Female & Mus musculus & CD-1 & wild type genotype & heart & postnatal & 14 & female & heart & postnatal day 14 & 2653sTS.Mouse.Heart.2wpb.Female\\\\\n",
       "\t 2655sTS.Mouse.Heart.4wpb.Female & Mus musculus & CD-1 & wild type genotype & heart & postnatal & 28 & female & heart & postnatal day 28 & 2655sTS.Mouse.Heart.4wpb.Female\\\\\n",
       "\t 2657sTS.Mouse.Heart.4wpb.Female & Mus musculus & CD-1 & wild type genotype & heart & postnatal & 28 & female & heart & postnatal day 28 & 2657sTS.Mouse.Heart.4wpb.Female\\\\\n",
       "\t 2659sTS.Mouse.Heart.4wpb.Male   & Mus musculus & CD-1 & wild type genotype & heart & postnatal & 28 & male   & heart & postnatal day 28 & 2659sTS.Mouse.Heart.4wpb.Male  \\\\\n",
       "\t 2661sTS.Mouse.Heart.4wpb.Male   & Mus musculus & CD-1 & wild type genotype & heart & postnatal & 28 & male   & heart & postnatal day 28 & 2661sTS.Mouse.Heart.4wpb.Male  \\\\\n",
       "\t 1950sTS.Mouse.Heart.9wpb.Female & Mus musculus & CD-1 & wild type genotype & heart & postnatal & 63 & female & heart & postnatal day 63 & 1950sTS.Mouse.Heart.9wpb.Female\\\\\n",
       "\t 1956sTS.Mouse.Heart.9wpb.Male   & Mus musculus & CD-1 & wild type genotype & heart & postnatal & 63 & male   & heart & postnatal day 63 & 1956sTS.Mouse.Heart.9wpb.Male  \\\\\n",
       "\\end{tabular}\n"
      ],
      "text/markdown": [
       "\n",
       "A data.table: 10 × 11\n",
       "\n",
       "| Source Name &lt;chr&gt; | organism &lt;chr&gt; | strain &lt;chr&gt; | genotype &lt;chr&gt; | organism part &lt;chr&gt; | developmental stage &lt;chr&gt; | age &lt;dbl&gt; | sex &lt;chr&gt; | organism part2 &lt;chr&gt; | developmental stage2 &lt;chr&gt; | Assay Name &lt;chr&gt; |\n",
       "|---|---|---|---|---|---|---|---|---|---|---|\n",
       "| 2643sTS.Mouse.Heart.2wpb.Male   | Mus musculus | CD-1 | wild type genotype | heart | postnatal | 14 | male   | heart | postnatal day 14 | 2643sTS.Mouse.Heart.2wpb.Male   |\n",
       "| 2645sTS.Mouse.Heart.2wpb.Male   | Mus musculus | CD-1 | wild type genotype | heart | postnatal | 14 | male   | heart | postnatal day 14 | 2645sTS.Mouse.Heart.2wpb.Male   |\n",
       "| 2651sTS.Mouse.Heart.2wpb.Female | Mus musculus | CD-1 | wild type genotype | heart | postnatal | 14 | female | heart | postnatal day 14 | 2651sTS.Mouse.Heart.2wpb.Female |\n",
       "| 2653sTS.Mouse.Heart.2wpb.Female | Mus musculus | CD-1 | wild type genotype | heart | postnatal | 14 | female | heart | postnatal day 14 | 2653sTS.Mouse.Heart.2wpb.Female |\n",
       "| 2655sTS.Mouse.Heart.4wpb.Female | Mus musculus | CD-1 | wild type genotype | heart | postnatal | 28 | female | heart | postnatal day 28 | 2655sTS.Mouse.Heart.4wpb.Female |\n",
       "| 2657sTS.Mouse.Heart.4wpb.Female | Mus musculus | CD-1 | wild type genotype | heart | postnatal | 28 | female | heart | postnatal day 28 | 2657sTS.Mouse.Heart.4wpb.Female |\n",
       "| 2659sTS.Mouse.Heart.4wpb.Male   | Mus musculus | CD-1 | wild type genotype | heart | postnatal | 28 | male   | heart | postnatal day 28 | 2659sTS.Mouse.Heart.4wpb.Male   |\n",
       "| 2661sTS.Mouse.Heart.4wpb.Male   | Mus musculus | CD-1 | wild type genotype | heart | postnatal | 28 | male   | heart | postnatal day 28 | 2661sTS.Mouse.Heart.4wpb.Male   |\n",
       "| 1950sTS.Mouse.Heart.9wpb.Female | Mus musculus | CD-1 | wild type genotype | heart | postnatal | 63 | female | heart | postnatal day 63 | 1950sTS.Mouse.Heart.9wpb.Female |\n",
       "| 1956sTS.Mouse.Heart.9wpb.Male   | Mus musculus | CD-1 | wild type genotype | heart | postnatal | 63 | male   | heart | postnatal day 63 | 1956sTS.Mouse.Heart.9wpb.Male   |\n",
       "\n"
      ],
      "text/plain": [
       "   Source Name                     organism     strain genotype          \n",
       "1  2643sTS.Mouse.Heart.2wpb.Male   Mus musculus CD-1   wild type genotype\n",
       "2  2645sTS.Mouse.Heart.2wpb.Male   Mus musculus CD-1   wild type genotype\n",
       "3  2651sTS.Mouse.Heart.2wpb.Female Mus musculus CD-1   wild type genotype\n",
       "4  2653sTS.Mouse.Heart.2wpb.Female Mus musculus CD-1   wild type genotype\n",
       "5  2655sTS.Mouse.Heart.4wpb.Female Mus musculus CD-1   wild type genotype\n",
       "6  2657sTS.Mouse.Heart.4wpb.Female Mus musculus CD-1   wild type genotype\n",
       "7  2659sTS.Mouse.Heart.4wpb.Male   Mus musculus CD-1   wild type genotype\n",
       "8  2661sTS.Mouse.Heart.4wpb.Male   Mus musculus CD-1   wild type genotype\n",
       "9  1950sTS.Mouse.Heart.9wpb.Female Mus musculus CD-1   wild type genotype\n",
       "10 1956sTS.Mouse.Heart.9wpb.Male   Mus musculus CD-1   wild type genotype\n",
       "   organism part developmental stage age sex    organism part2\n",
       "1  heart         postnatal           14  male   heart         \n",
       "2  heart         postnatal           14  male   heart         \n",
       "3  heart         postnatal           14  female heart         \n",
       "4  heart         postnatal           14  female heart         \n",
       "5  heart         postnatal           28  female heart         \n",
       "6  heart         postnatal           28  female heart         \n",
       "7  heart         postnatal           28  male   heart         \n",
       "8  heart         postnatal           28  male   heart         \n",
       "9  heart         postnatal           63  female heart         \n",
       "10 heart         postnatal           63  male   heart         \n",
       "   developmental stage2 Assay Name                     \n",
       "1  postnatal day 14     2643sTS.Mouse.Heart.2wpb.Male  \n",
       "2  postnatal day 14     2645sTS.Mouse.Heart.2wpb.Male  \n",
       "3  postnatal day 14     2651sTS.Mouse.Heart.2wpb.Female\n",
       "4  postnatal day 14     2653sTS.Mouse.Heart.2wpb.Female\n",
       "5  postnatal day 28     2655sTS.Mouse.Heart.4wpb.Female\n",
       "6  postnatal day 28     2657sTS.Mouse.Heart.4wpb.Female\n",
       "7  postnatal day 28     2659sTS.Mouse.Heart.4wpb.Male  \n",
       "8  postnatal day 28     2661sTS.Mouse.Heart.4wpb.Male  \n",
       "9  postnatal day 63     1950sTS.Mouse.Heart.9wpb.Female\n",
       "10 postnatal day 63     1956sTS.Mouse.Heart.9wpb.Male  "
      ]
     },
     "metadata": {},
     "output_type": "display_data"
    }
   ],
   "source": [
    "#mm\n",
    "heart_samples[['mm']] = sample_info$mm[str_detect(`Source Name`, \"eart\") & str_detect(`developmental stage`, 'postnatal')][age > 10][order(age)][1:10]\n",
    "heart_samples[['mm']]"
   ]
  },
  {
   "cell_type": "code",
   "execution_count": 149,
   "id": "8bfc157a",
   "metadata": {
    "vscode": {
     "languageId": "r"
    }
   },
   "outputs": [
    {
     "data": {
      "text/html": [
       "<table class=\"dataframe\">\n",
       "<caption>A data.table: 10 × 11</caption>\n",
       "<thead>\n",
       "\t<tr><th scope=col>Source Name</th><th scope=col>organism</th><th scope=col>strain</th><th scope=col>genotype</th><th scope=col>developmental stage</th><th scope=col>age</th><th scope=col>sex</th><th scope=col>organism part</th><th scope=col>developmental stage2</th><th scope=col>organism part2</th><th scope=col>Assay Name</th></tr>\n",
       "\t<tr><th scope=col>&lt;chr&gt;</th><th scope=col>&lt;chr&gt;</th><th scope=col>&lt;chr&gt;</th><th scope=col>&lt;chr&gt;</th><th scope=col>&lt;chr&gt;</th><th scope=col>&lt;dbl&gt;</th><th scope=col>&lt;chr&gt;</th><th scope=col>&lt;chr&gt;</th><th scope=col>&lt;chr&gt;</th><th scope=col>&lt;chr&gt;</th><th scope=col>&lt;chr&gt;</th></tr>\n",
       "</thead>\n",
       "<tbody>\n",
       "\t<tr><td>2727sTS.Rat.Heart.2wpb.Female </td><td>Rattus norvegicus</td><td>Holtzman SD</td><td>wild type genotype</td><td>postnatal</td><td> 14</td><td>female</td><td>heart</td><td>postnatal day 14 </td><td>heart</td><td>2727sTS.Rat.Heart.2wpb.Female </td></tr>\n",
       "\t<tr><td>2728sTS.Rat.Heart.2wpb.Female </td><td>Rattus norvegicus</td><td>Holtzman SD</td><td>wild type genotype</td><td>postnatal</td><td> 14</td><td>female</td><td>heart</td><td>postnatal day 14 </td><td>heart</td><td>2728sTS.Rat.Heart.2wpb.Female </td></tr>\n",
       "\t<tr><td>2731sTS.Rat.Heart.2wpb.Male   </td><td>Rattus norvegicus</td><td>Holtzman SD</td><td>wild type genotype</td><td>postnatal</td><td> 14</td><td>male  </td><td>heart</td><td>postnatal day 14 </td><td>heart</td><td>2731sTS.Rat.Heart.2wpb.Male   </td></tr>\n",
       "\t<tr><td>2760sTS.Rat.Heart.2wpb.Male   </td><td>Rattus norvegicus</td><td>Holtzman SD</td><td>wild type genotype</td><td>postnatal</td><td> 14</td><td>male  </td><td>heart</td><td>postnatal day 14 </td><td>heart</td><td>2760sTS.Rat.Heart.2wpb.Male   </td></tr>\n",
       "\t<tr><td>2738sTS.Rat.Heart.6wpb.Female </td><td>Rattus norvegicus</td><td>Holtzman SD</td><td>wild type genotype</td><td>postnatal</td><td> 42</td><td>female</td><td>heart</td><td>postnatal day 42 </td><td>heart</td><td>2738sTS.Rat.Heart.6wpb.Female </td></tr>\n",
       "\t<tr><td>2740sTS.Rat.Heart.6wpb.Female </td><td>Rattus norvegicus</td><td>Holtzman SD</td><td>wild type genotype</td><td>postnatal</td><td> 42</td><td>female</td><td>heart</td><td>postnatal day 42 </td><td>heart</td><td>2740sTS.Rat.Heart.6wpb.Female </td></tr>\n",
       "\t<tr><td>2742sTS.Rat.Heart.6wpb.Male   </td><td>Rattus norvegicus</td><td>Holtzman SD</td><td>wild type genotype</td><td>postnatal</td><td> 42</td><td>male  </td><td>heart</td><td>postnatal day 42 </td><td>heart</td><td>2742sTS.Rat.Heart.6wpb.Male   </td></tr>\n",
       "\t<tr><td>2751sTS.Rat.Heart.6wpb.Male   </td><td>Rattus norvegicus</td><td>Holtzman SD</td><td>wild type genotype</td><td>postnatal</td><td> 42</td><td>male  </td><td>heart</td><td>postnatal day 42 </td><td>heart</td><td>2751sTS.Rat.Heart.6wpb.Male   </td></tr>\n",
       "\t<tr><td>2746sTS.Rat.Heart.16wpb.Female</td><td>Rattus norvegicus</td><td>Holtzman SD</td><td>wild type genotype</td><td>postnatal</td><td>112</td><td>female</td><td>heart</td><td>postnatal day 112</td><td>heart</td><td>2746sTS.Rat.Heart.16wpb.Female</td></tr>\n",
       "\t<tr><td>2747sTS.Rat.Heart.16wpb.Male  </td><td>Rattus norvegicus</td><td>Holtzman SD</td><td>wild type genotype</td><td>postnatal</td><td>112</td><td>male  </td><td>heart</td><td>postnatal day 112</td><td>heart</td><td>2747sTS.Rat.Heart.16wpb.Male  </td></tr>\n",
       "</tbody>\n",
       "</table>\n"
      ],
      "text/latex": [
       "A data.table: 10 × 11\n",
       "\\begin{tabular}{lllllllllll}\n",
       " Source Name & organism & strain & genotype & developmental stage & age & sex & organism part & developmental stage2 & organism part2 & Assay Name\\\\\n",
       " <chr> & <chr> & <chr> & <chr> & <chr> & <dbl> & <chr> & <chr> & <chr> & <chr> & <chr>\\\\\n",
       "\\hline\n",
       "\t 2727sTS.Rat.Heart.2wpb.Female  & Rattus norvegicus & Holtzman SD & wild type genotype & postnatal &  14 & female & heart & postnatal day 14  & heart & 2727sTS.Rat.Heart.2wpb.Female \\\\\n",
       "\t 2728sTS.Rat.Heart.2wpb.Female  & Rattus norvegicus & Holtzman SD & wild type genotype & postnatal &  14 & female & heart & postnatal day 14  & heart & 2728sTS.Rat.Heart.2wpb.Female \\\\\n",
       "\t 2731sTS.Rat.Heart.2wpb.Male    & Rattus norvegicus & Holtzman SD & wild type genotype & postnatal &  14 & male   & heart & postnatal day 14  & heart & 2731sTS.Rat.Heart.2wpb.Male   \\\\\n",
       "\t 2760sTS.Rat.Heart.2wpb.Male    & Rattus norvegicus & Holtzman SD & wild type genotype & postnatal &  14 & male   & heart & postnatal day 14  & heart & 2760sTS.Rat.Heart.2wpb.Male   \\\\\n",
       "\t 2738sTS.Rat.Heart.6wpb.Female  & Rattus norvegicus & Holtzman SD & wild type genotype & postnatal &  42 & female & heart & postnatal day 42  & heart & 2738sTS.Rat.Heart.6wpb.Female \\\\\n",
       "\t 2740sTS.Rat.Heart.6wpb.Female  & Rattus norvegicus & Holtzman SD & wild type genotype & postnatal &  42 & female & heart & postnatal day 42  & heart & 2740sTS.Rat.Heart.6wpb.Female \\\\\n",
       "\t 2742sTS.Rat.Heart.6wpb.Male    & Rattus norvegicus & Holtzman SD & wild type genotype & postnatal &  42 & male   & heart & postnatal day 42  & heart & 2742sTS.Rat.Heart.6wpb.Male   \\\\\n",
       "\t 2751sTS.Rat.Heart.6wpb.Male    & Rattus norvegicus & Holtzman SD & wild type genotype & postnatal &  42 & male   & heart & postnatal day 42  & heart & 2751sTS.Rat.Heart.6wpb.Male   \\\\\n",
       "\t 2746sTS.Rat.Heart.16wpb.Female & Rattus norvegicus & Holtzman SD & wild type genotype & postnatal & 112 & female & heart & postnatal day 112 & heart & 2746sTS.Rat.Heart.16wpb.Female\\\\\n",
       "\t 2747sTS.Rat.Heart.16wpb.Male   & Rattus norvegicus & Holtzman SD & wild type genotype & postnatal & 112 & male   & heart & postnatal day 112 & heart & 2747sTS.Rat.Heart.16wpb.Male  \\\\\n",
       "\\end{tabular}\n"
      ],
      "text/markdown": [
       "\n",
       "A data.table: 10 × 11\n",
       "\n",
       "| Source Name &lt;chr&gt; | organism &lt;chr&gt; | strain &lt;chr&gt; | genotype &lt;chr&gt; | developmental stage &lt;chr&gt; | age &lt;dbl&gt; | sex &lt;chr&gt; | organism part &lt;chr&gt; | developmental stage2 &lt;chr&gt; | organism part2 &lt;chr&gt; | Assay Name &lt;chr&gt; |\n",
       "|---|---|---|---|---|---|---|---|---|---|---|\n",
       "| 2727sTS.Rat.Heart.2wpb.Female  | Rattus norvegicus | Holtzman SD | wild type genotype | postnatal |  14 | female | heart | postnatal day 14  | heart | 2727sTS.Rat.Heart.2wpb.Female  |\n",
       "| 2728sTS.Rat.Heart.2wpb.Female  | Rattus norvegicus | Holtzman SD | wild type genotype | postnatal |  14 | female | heart | postnatal day 14  | heart | 2728sTS.Rat.Heart.2wpb.Female  |\n",
       "| 2731sTS.Rat.Heart.2wpb.Male    | Rattus norvegicus | Holtzman SD | wild type genotype | postnatal |  14 | male   | heart | postnatal day 14  | heart | 2731sTS.Rat.Heart.2wpb.Male    |\n",
       "| 2760sTS.Rat.Heart.2wpb.Male    | Rattus norvegicus | Holtzman SD | wild type genotype | postnatal |  14 | male   | heart | postnatal day 14  | heart | 2760sTS.Rat.Heart.2wpb.Male    |\n",
       "| 2738sTS.Rat.Heart.6wpb.Female  | Rattus norvegicus | Holtzman SD | wild type genotype | postnatal |  42 | female | heart | postnatal day 42  | heart | 2738sTS.Rat.Heart.6wpb.Female  |\n",
       "| 2740sTS.Rat.Heart.6wpb.Female  | Rattus norvegicus | Holtzman SD | wild type genotype | postnatal |  42 | female | heart | postnatal day 42  | heart | 2740sTS.Rat.Heart.6wpb.Female  |\n",
       "| 2742sTS.Rat.Heart.6wpb.Male    | Rattus norvegicus | Holtzman SD | wild type genotype | postnatal |  42 | male   | heart | postnatal day 42  | heart | 2742sTS.Rat.Heart.6wpb.Male    |\n",
       "| 2751sTS.Rat.Heart.6wpb.Male    | Rattus norvegicus | Holtzman SD | wild type genotype | postnatal |  42 | male   | heart | postnatal day 42  | heart | 2751sTS.Rat.Heart.6wpb.Male    |\n",
       "| 2746sTS.Rat.Heart.16wpb.Female | Rattus norvegicus | Holtzman SD | wild type genotype | postnatal | 112 | female | heart | postnatal day 112 | heart | 2746sTS.Rat.Heart.16wpb.Female |\n",
       "| 2747sTS.Rat.Heart.16wpb.Male   | Rattus norvegicus | Holtzman SD | wild type genotype | postnatal | 112 | male   | heart | postnatal day 112 | heart | 2747sTS.Rat.Heart.16wpb.Male   |\n",
       "\n"
      ],
      "text/plain": [
       "   Source Name                    organism          strain     \n",
       "1  2727sTS.Rat.Heart.2wpb.Female  Rattus norvegicus Holtzman SD\n",
       "2  2728sTS.Rat.Heart.2wpb.Female  Rattus norvegicus Holtzman SD\n",
       "3  2731sTS.Rat.Heart.2wpb.Male    Rattus norvegicus Holtzman SD\n",
       "4  2760sTS.Rat.Heart.2wpb.Male    Rattus norvegicus Holtzman SD\n",
       "5  2738sTS.Rat.Heart.6wpb.Female  Rattus norvegicus Holtzman SD\n",
       "6  2740sTS.Rat.Heart.6wpb.Female  Rattus norvegicus Holtzman SD\n",
       "7  2742sTS.Rat.Heart.6wpb.Male    Rattus norvegicus Holtzman SD\n",
       "8  2751sTS.Rat.Heart.6wpb.Male    Rattus norvegicus Holtzman SD\n",
       "9  2746sTS.Rat.Heart.16wpb.Female Rattus norvegicus Holtzman SD\n",
       "10 2747sTS.Rat.Heart.16wpb.Male   Rattus norvegicus Holtzman SD\n",
       "   genotype           developmental stage age sex    organism part\n",
       "1  wild type genotype postnatal            14 female heart        \n",
       "2  wild type genotype postnatal            14 female heart        \n",
       "3  wild type genotype postnatal            14 male   heart        \n",
       "4  wild type genotype postnatal            14 male   heart        \n",
       "5  wild type genotype postnatal            42 female heart        \n",
       "6  wild type genotype postnatal            42 female heart        \n",
       "7  wild type genotype postnatal            42 male   heart        \n",
       "8  wild type genotype postnatal            42 male   heart        \n",
       "9  wild type genotype postnatal           112 female heart        \n",
       "10 wild type genotype postnatal           112 male   heart        \n",
       "   developmental stage2 organism part2 Assay Name                    \n",
       "1  postnatal day 14     heart          2727sTS.Rat.Heart.2wpb.Female \n",
       "2  postnatal day 14     heart          2728sTS.Rat.Heart.2wpb.Female \n",
       "3  postnatal day 14     heart          2731sTS.Rat.Heart.2wpb.Male   \n",
       "4  postnatal day 14     heart          2760sTS.Rat.Heart.2wpb.Male   \n",
       "5  postnatal day 42     heart          2738sTS.Rat.Heart.6wpb.Female \n",
       "6  postnatal day 42     heart          2740sTS.Rat.Heart.6wpb.Female \n",
       "7  postnatal day 42     heart          2742sTS.Rat.Heart.6wpb.Male   \n",
       "8  postnatal day 42     heart          2751sTS.Rat.Heart.6wpb.Male   \n",
       "9  postnatal day 112    heart          2746sTS.Rat.Heart.16wpb.Female\n",
       "10 postnatal day 112    heart          2747sTS.Rat.Heart.16wpb.Male  "
      ]
     },
     "metadata": {},
     "output_type": "display_data"
    }
   ],
   "source": [
    "#rat\n",
    "heart_samples[['rat']] = sample_info$rat[str_detect(`Source Name`, \"eart\") & str_detect(`developmental stage`, 'postnatal')][age > 10][order(age)][1:10]\n",
    "heart_samples[['rat']]"
   ]
  },
  {
   "cell_type": "code",
   "execution_count": 150,
   "id": "5a334ba2",
   "metadata": {
    "vscode": {
     "languageId": "r"
    }
   },
   "outputs": [
    {
     "data": {
      "text/html": [
       "<table class=\"dataframe\">\n",
       "<caption>A data.table: 10 × 10</caption>\n",
       "<thead>\n",
       "\t<tr><th scope=col>Source Name</th><th scope=col>organism</th><th scope=col>genotype</th><th scope=col>developmental stage</th><th scope=col>age</th><th scope=col>organism part</th><th scope=col>sex</th><th scope=col>developmental stage2</th><th scope=col>organism part2</th><th scope=col>Assay Name</th></tr>\n",
       "\t<tr><th scope=col>&lt;chr&gt;</th><th scope=col>&lt;chr&gt;</th><th scope=col>&lt;chr&gt;</th><th scope=col>&lt;chr&gt;</th><th scope=col>&lt;chr&gt;</th><th scope=col>&lt;chr&gt;</th><th scope=col>&lt;chr&gt;</th><th scope=col>&lt;chr&gt;</th><th scope=col>&lt;chr&gt;</th><th scope=col>&lt;chr&gt;</th></tr>\n",
       "</thead>\n",
       "<tbody>\n",
       "\t<tr><td>5396sTS.Macaque.Heart.14ypb.Male </td><td>Macaca mulatta</td><td>wild type genotype</td><td>postnatal</td><td>14 to 15</td><td>heart</td><td>male  </td><td>14 to 15 years postnatal</td><td>heart</td><td>5396sTS.Macaque.Heart.14ypb.Male </td></tr>\n",
       "\t<tr><td>5420sTS.Macaque.Heart.9ypb.Male  </td><td>Macaca mulatta</td><td>wild type genotype</td><td>postnatal</td><td>9       </td><td>heart</td><td>male  </td><td>9 years postnatal       </td><td>heart</td><td>5420sTS.Macaque.Heart.9ypb.Male  </td></tr>\n",
       "\t<tr><td>5422sTS.Macaque.Heart.3ypb.Male  </td><td>Macaca mulatta</td><td>wild type genotype</td><td>postnatal</td><td>3       </td><td>heart</td><td>male  </td><td>3 years postnatal       </td><td>heart</td><td>5422sTS.Macaque.Heart.3ypb.Male  </td></tr>\n",
       "\t<tr><td>5436sTS.Macaque.Heart.3ypb.Male  </td><td>Macaca mulatta</td><td>wild type genotype</td><td>postnatal</td><td>3       </td><td>heart</td><td>male  </td><td>3 years postnatal       </td><td>heart</td><td>5436sTS.Macaque.Heart.3ypb.Male  </td></tr>\n",
       "\t<tr><td>5450sTS.Macaque.Heart.9ypb.Male  </td><td>Macaca mulatta</td><td>wild type genotype</td><td>postnatal</td><td>9       </td><td>heart</td><td>male  </td><td>9 years postnatal       </td><td>heart</td><td>5450sTS.Macaque.Heart.9ypb.Male  </td></tr>\n",
       "\t<tr><td>6078sTS.Macaque.Heart.3ypb.Male  </td><td>Macaca mulatta</td><td>wild type genotype</td><td>postnatal</td><td>3       </td><td>heart</td><td>male  </td><td>3 years postnatal       </td><td>heart</td><td>6078sTS.Macaque.Heart.3ypb.Male  </td></tr>\n",
       "\t<tr><td>6081sTS.Macaque.Heart.3ypb.Male  </td><td>Macaca mulatta</td><td>wild type genotype</td><td>postnatal</td><td>3       </td><td>heart</td><td>male  </td><td>3 years postnatal       </td><td>heart</td><td>6081sTS.Macaque.Heart.3ypb.Male  </td></tr>\n",
       "\t<tr><td>6085sTS.Macaque.Heart.8ypb.Female</td><td>Macaca mulatta</td><td>wild type genotype</td><td>postnatal</td><td>8       </td><td>heart</td><td>female</td><td>8 years postnatal       </td><td>heart</td><td>6085sTS.Macaque.Heart.8ypb.Female</td></tr>\n",
       "\t<tr><td>6120sTS.Macaque.Heart.15ypb.Male </td><td>Macaca mulatta</td><td>wild type genotype</td><td>postnatal</td><td>14 to 15</td><td>heart</td><td>male  </td><td>14 to 15 years postnatal</td><td>heart</td><td>6120sTS.Macaque.Heart.15ypb.Male </td></tr>\n",
       "\t<tr><td>6121sTS.Macaque.Heart.20ypb.Male </td><td>Macaca mulatta</td><td>wild type genotype</td><td>postnatal</td><td>20 to 26</td><td>heart</td><td>male  </td><td>20 to 26 years postnatal</td><td>heart</td><td>6121sTS.Macaque.Heart.20ypb.Male </td></tr>\n",
       "</tbody>\n",
       "</table>\n"
      ],
      "text/latex": [
       "A data.table: 10 × 10\n",
       "\\begin{tabular}{llllllllll}\n",
       " Source Name & organism & genotype & developmental stage & age & organism part & sex & developmental stage2 & organism part2 & Assay Name\\\\\n",
       " <chr> & <chr> & <chr> & <chr> & <chr> & <chr> & <chr> & <chr> & <chr> & <chr>\\\\\n",
       "\\hline\n",
       "\t 5396sTS.Macaque.Heart.14ypb.Male  & Macaca mulatta & wild type genotype & postnatal & 14 to 15 & heart & male   & 14 to 15 years postnatal & heart & 5396sTS.Macaque.Heart.14ypb.Male \\\\\n",
       "\t 5420sTS.Macaque.Heart.9ypb.Male   & Macaca mulatta & wild type genotype & postnatal & 9        & heart & male   & 9 years postnatal        & heart & 5420sTS.Macaque.Heart.9ypb.Male  \\\\\n",
       "\t 5422sTS.Macaque.Heart.3ypb.Male   & Macaca mulatta & wild type genotype & postnatal & 3        & heart & male   & 3 years postnatal        & heart & 5422sTS.Macaque.Heart.3ypb.Male  \\\\\n",
       "\t 5436sTS.Macaque.Heart.3ypb.Male   & Macaca mulatta & wild type genotype & postnatal & 3        & heart & male   & 3 years postnatal        & heart & 5436sTS.Macaque.Heart.3ypb.Male  \\\\\n",
       "\t 5450sTS.Macaque.Heart.9ypb.Male   & Macaca mulatta & wild type genotype & postnatal & 9        & heart & male   & 9 years postnatal        & heart & 5450sTS.Macaque.Heart.9ypb.Male  \\\\\n",
       "\t 6078sTS.Macaque.Heart.3ypb.Male   & Macaca mulatta & wild type genotype & postnatal & 3        & heart & male   & 3 years postnatal        & heart & 6078sTS.Macaque.Heart.3ypb.Male  \\\\\n",
       "\t 6081sTS.Macaque.Heart.3ypb.Male   & Macaca mulatta & wild type genotype & postnatal & 3        & heart & male   & 3 years postnatal        & heart & 6081sTS.Macaque.Heart.3ypb.Male  \\\\\n",
       "\t 6085sTS.Macaque.Heart.8ypb.Female & Macaca mulatta & wild type genotype & postnatal & 8        & heart & female & 8 years postnatal        & heart & 6085sTS.Macaque.Heart.8ypb.Female\\\\\n",
       "\t 6120sTS.Macaque.Heart.15ypb.Male  & Macaca mulatta & wild type genotype & postnatal & 14 to 15 & heart & male   & 14 to 15 years postnatal & heart & 6120sTS.Macaque.Heart.15ypb.Male \\\\\n",
       "\t 6121sTS.Macaque.Heart.20ypb.Male  & Macaca mulatta & wild type genotype & postnatal & 20 to 26 & heart & male   & 20 to 26 years postnatal & heart & 6121sTS.Macaque.Heart.20ypb.Male \\\\\n",
       "\\end{tabular}\n"
      ],
      "text/markdown": [
       "\n",
       "A data.table: 10 × 10\n",
       "\n",
       "| Source Name &lt;chr&gt; | organism &lt;chr&gt; | genotype &lt;chr&gt; | developmental stage &lt;chr&gt; | age &lt;chr&gt; | organism part &lt;chr&gt; | sex &lt;chr&gt; | developmental stage2 &lt;chr&gt; | organism part2 &lt;chr&gt; | Assay Name &lt;chr&gt; |\n",
       "|---|---|---|---|---|---|---|---|---|---|\n",
       "| 5396sTS.Macaque.Heart.14ypb.Male  | Macaca mulatta | wild type genotype | postnatal | 14 to 15 | heart | male   | 14 to 15 years postnatal | heart | 5396sTS.Macaque.Heart.14ypb.Male  |\n",
       "| 5420sTS.Macaque.Heart.9ypb.Male   | Macaca mulatta | wild type genotype | postnatal | 9        | heart | male   | 9 years postnatal        | heart | 5420sTS.Macaque.Heart.9ypb.Male   |\n",
       "| 5422sTS.Macaque.Heart.3ypb.Male   | Macaca mulatta | wild type genotype | postnatal | 3        | heart | male   | 3 years postnatal        | heart | 5422sTS.Macaque.Heart.3ypb.Male   |\n",
       "| 5436sTS.Macaque.Heart.3ypb.Male   | Macaca mulatta | wild type genotype | postnatal | 3        | heart | male   | 3 years postnatal        | heart | 5436sTS.Macaque.Heart.3ypb.Male   |\n",
       "| 5450sTS.Macaque.Heart.9ypb.Male   | Macaca mulatta | wild type genotype | postnatal | 9        | heart | male   | 9 years postnatal        | heart | 5450sTS.Macaque.Heart.9ypb.Male   |\n",
       "| 6078sTS.Macaque.Heart.3ypb.Male   | Macaca mulatta | wild type genotype | postnatal | 3        | heart | male   | 3 years postnatal        | heart | 6078sTS.Macaque.Heart.3ypb.Male   |\n",
       "| 6081sTS.Macaque.Heart.3ypb.Male   | Macaca mulatta | wild type genotype | postnatal | 3        | heart | male   | 3 years postnatal        | heart | 6081sTS.Macaque.Heart.3ypb.Male   |\n",
       "| 6085sTS.Macaque.Heart.8ypb.Female | Macaca mulatta | wild type genotype | postnatal | 8        | heart | female | 8 years postnatal        | heart | 6085sTS.Macaque.Heart.8ypb.Female |\n",
       "| 6120sTS.Macaque.Heart.15ypb.Male  | Macaca mulatta | wild type genotype | postnatal | 14 to 15 | heart | male   | 14 to 15 years postnatal | heart | 6120sTS.Macaque.Heart.15ypb.Male  |\n",
       "| 6121sTS.Macaque.Heart.20ypb.Male  | Macaca mulatta | wild type genotype | postnatal | 20 to 26 | heart | male   | 20 to 26 years postnatal | heart | 6121sTS.Macaque.Heart.20ypb.Male  |\n",
       "\n"
      ],
      "text/plain": [
       "   Source Name                       organism       genotype          \n",
       "1  5396sTS.Macaque.Heart.14ypb.Male  Macaca mulatta wild type genotype\n",
       "2  5420sTS.Macaque.Heart.9ypb.Male   Macaca mulatta wild type genotype\n",
       "3  5422sTS.Macaque.Heart.3ypb.Male   Macaca mulatta wild type genotype\n",
       "4  5436sTS.Macaque.Heart.3ypb.Male   Macaca mulatta wild type genotype\n",
       "5  5450sTS.Macaque.Heart.9ypb.Male   Macaca mulatta wild type genotype\n",
       "6  6078sTS.Macaque.Heart.3ypb.Male   Macaca mulatta wild type genotype\n",
       "7  6081sTS.Macaque.Heart.3ypb.Male   Macaca mulatta wild type genotype\n",
       "8  6085sTS.Macaque.Heart.8ypb.Female Macaca mulatta wild type genotype\n",
       "9  6120sTS.Macaque.Heart.15ypb.Male  Macaca mulatta wild type genotype\n",
       "10 6121sTS.Macaque.Heart.20ypb.Male  Macaca mulatta wild type genotype\n",
       "   developmental stage age      organism part sex    developmental stage2    \n",
       "1  postnatal           14 to 15 heart         male   14 to 15 years postnatal\n",
       "2  postnatal           9        heart         male   9 years postnatal       \n",
       "3  postnatal           3        heart         male   3 years postnatal       \n",
       "4  postnatal           3        heart         male   3 years postnatal       \n",
       "5  postnatal           9        heart         male   9 years postnatal       \n",
       "6  postnatal           3        heart         male   3 years postnatal       \n",
       "7  postnatal           3        heart         male   3 years postnatal       \n",
       "8  postnatal           8        heart         female 8 years postnatal       \n",
       "9  postnatal           14 to 15 heart         male   14 to 15 years postnatal\n",
       "10 postnatal           20 to 26 heart         male   20 to 26 years postnatal\n",
       "   organism part2 Assay Name                       \n",
       "1  heart          5396sTS.Macaque.Heart.14ypb.Male \n",
       "2  heart          5420sTS.Macaque.Heart.9ypb.Male  \n",
       "3  heart          5422sTS.Macaque.Heart.3ypb.Male  \n",
       "4  heart          5436sTS.Macaque.Heart.3ypb.Male  \n",
       "5  heart          5450sTS.Macaque.Heart.9ypb.Male  \n",
       "6  heart          6078sTS.Macaque.Heart.3ypb.Male  \n",
       "7  heart          6081sTS.Macaque.Heart.3ypb.Male  \n",
       "8  heart          6085sTS.Macaque.Heart.8ypb.Female\n",
       "9  heart          6120sTS.Macaque.Heart.15ypb.Male \n",
       "10 heart          6121sTS.Macaque.Heart.20ypb.Male "
      ]
     },
     "metadata": {},
     "output_type": "display_data"
    }
   ],
   "source": [
    "#ramac\n",
    "heart_samples[['rmac']] = sample_info$rmac[str_detect(`Source Name`, \"eart\") & str_detect(`Source Name`, 'ypb')][!age %in% c('1')][1:10]\n",
    "heart_samples[['rmac']]"
   ]
  },
  {
   "cell_type": "markdown",
   "id": "8808bab8",
   "metadata": {
    "vscode": {
     "languageId": "r"
    }
   },
   "source": [
    "## Select kidney"
   ]
  },
  {
   "cell_type": "code",
   "execution_count": 151,
   "id": "9285278a",
   "metadata": {
    "vscode": {
     "languageId": "r"
    }
   },
   "outputs": [],
   "source": [
    "kidney_samples = list(\n",
    "  'hs' = list(),\n",
    "  'mm' = list(),\n",
    "  'rat' = list(),\n",
    "  'rmac' = list()\n",
    ")"
   ]
  },
  {
   "cell_type": "code",
   "execution_count": 152,
   "id": "e76b5856",
   "metadata": {
    "vscode": {
     "languageId": "r"
    }
   },
   "outputs": [
    {
     "data": {
      "text/html": [
       "<table class=\"dataframe\">\n",
       "<caption>A data.table: 10 × 11</caption>\n",
       "<thead>\n",
       "\t<tr><th scope=col>Source Name</th><th scope=col>organism</th><th scope=col>disease</th><th scope=col>developmental stage</th><th scope=col>individual</th><th scope=col>age</th><th scope=col>sex</th><th scope=col>organism part</th><th scope=col>developmental stage2</th><th scope=col>organism part2</th><th scope=col>Assay Name</th></tr>\n",
       "\t<tr><th scope=col>&lt;chr&gt;</th><th scope=col>&lt;chr&gt;</th><th scope=col>&lt;chr&gt;</th><th scope=col>&lt;chr&gt;</th><th scope=col>&lt;chr&gt;</th><th scope=col>&lt;dbl&gt;</th><th scope=col>&lt;chr&gt;</th><th scope=col>&lt;chr&gt;</th><th scope=col>&lt;chr&gt;</th><th scope=col>&lt;chr&gt;</th><th scope=col>&lt;chr&gt;</th></tr>\n",
       "</thead>\n",
       "<tbody>\n",
       "\t<tr><td>5819sTS.Human.Kidney.226dpb.Female</td><td>Homo sapiens</td><td>normal</td><td>infant          </td><td>not available</td><td>226</td><td>female</td><td>kidney</td><td>infant          </td><td>kidney</td><td>5819sTS.Human.Kidney.226dpb.Female</td></tr>\n",
       "\t<tr><td>5821sTS.Human.Kidney.2ypb.Male    </td><td>Homo sapiens</td><td>normal</td><td>toddler         </td><td>not available</td><td>  2</td><td>male  </td><td>kidney</td><td>toddler         </td><td>kidney</td><td>5821sTS.Human.Kidney.2ypb.Male    </td></tr>\n",
       "\t<tr><td>5834sTS.Human.Kidney.34dpb.Male   </td><td>Homo sapiens</td><td>normal</td><td>neonate         </td><td>not available</td><td> 34</td><td>male  </td><td>kidney</td><td>neonate         </td><td>kidney</td><td>5834sTS.Human.Kidney.34dpb.Male   </td></tr>\n",
       "\t<tr><td>5844sTS.Human.Kidney.0dpb.Female  </td><td>Homo sapiens</td><td>normal</td><td>neonate         </td><td>not available</td><td>  0</td><td>female</td><td>kidney</td><td>neonate         </td><td>kidney</td><td>5844sTS.Human.Kidney.0dpb.Female  </td></tr>\n",
       "\t<tr><td>6098sTS.Human.Kidney.18dpb.Female </td><td>Homo sapiens</td><td>normal</td><td>neonate         </td><td>not available</td><td> 18</td><td>female</td><td>kidney</td><td>neonate         </td><td>kidney</td><td>6098sTS.Human.Kidney.18dpb.Female </td></tr>\n",
       "\t<tr><td>6099sTS.Human.Kidney.8ypb.Female  </td><td>Homo sapiens</td><td>normal</td><td>school age child</td><td>not available</td><td>  8</td><td>female</td><td>kidney</td><td>school age child</td><td>kidney</td><td>6099sTS.Human.Kidney.8ypb.Female  </td></tr>\n",
       "\t<tr><td>6101sTS.Human.Kidney.4ypb.Female  </td><td>Homo sapiens</td><td>normal</td><td>toddler         </td><td>not available</td><td>  4</td><td>female</td><td>kidney</td><td>toddler         </td><td>kidney</td><td>6101sTS.Human.Kidney.4ypb.Female  </td></tr>\n",
       "\t<tr><td>6103sTS.Human.Kidney.6mpb.Female  </td><td>Homo sapiens</td><td>normal</td><td>infant          </td><td>not available</td><td>  6</td><td>female</td><td>kidney</td><td>infant          </td><td>kidney</td><td>6103sTS.Human.Kidney.6mpb.Female  </td></tr>\n",
       "\t<tr><td>6104sTS.Human.Kidney.6mpb.Male    </td><td>Homo sapiens</td><td>normal</td><td>infant          </td><td>not available</td><td>  6</td><td>male  </td><td>kidney</td><td>infant          </td><td>kidney</td><td>6104sTS.Human.Kidney.6mpb.Male    </td></tr>\n",
       "\t<tr><td>6105sTS.Human.Kidney.6mpb.Male    </td><td>Homo sapiens</td><td>normal</td><td>infant          </td><td>not available</td><td>  6</td><td>male  </td><td>kidney</td><td>infant          </td><td>kidney</td><td>6105sTS.Human.Kidney.6mpb.Male    </td></tr>\n",
       "</tbody>\n",
       "</table>\n"
      ],
      "text/latex": [
       "A data.table: 10 × 11\n",
       "\\begin{tabular}{lllllllllll}\n",
       " Source Name & organism & disease & developmental stage & individual & age & sex & organism part & developmental stage2 & organism part2 & Assay Name\\\\\n",
       " <chr> & <chr> & <chr> & <chr> & <chr> & <dbl> & <chr> & <chr> & <chr> & <chr> & <chr>\\\\\n",
       "\\hline\n",
       "\t 5819sTS.Human.Kidney.226dpb.Female & Homo sapiens & normal & infant           & not available & 226 & female & kidney & infant           & kidney & 5819sTS.Human.Kidney.226dpb.Female\\\\\n",
       "\t 5821sTS.Human.Kidney.2ypb.Male     & Homo sapiens & normal & toddler          & not available &   2 & male   & kidney & toddler          & kidney & 5821sTS.Human.Kidney.2ypb.Male    \\\\\n",
       "\t 5834sTS.Human.Kidney.34dpb.Male    & Homo sapiens & normal & neonate          & not available &  34 & male   & kidney & neonate          & kidney & 5834sTS.Human.Kidney.34dpb.Male   \\\\\n",
       "\t 5844sTS.Human.Kidney.0dpb.Female   & Homo sapiens & normal & neonate          & not available &   0 & female & kidney & neonate          & kidney & 5844sTS.Human.Kidney.0dpb.Female  \\\\\n",
       "\t 6098sTS.Human.Kidney.18dpb.Female  & Homo sapiens & normal & neonate          & not available &  18 & female & kidney & neonate          & kidney & 6098sTS.Human.Kidney.18dpb.Female \\\\\n",
       "\t 6099sTS.Human.Kidney.8ypb.Female   & Homo sapiens & normal & school age child & not available &   8 & female & kidney & school age child & kidney & 6099sTS.Human.Kidney.8ypb.Female  \\\\\n",
       "\t 6101sTS.Human.Kidney.4ypb.Female   & Homo sapiens & normal & toddler          & not available &   4 & female & kidney & toddler          & kidney & 6101sTS.Human.Kidney.4ypb.Female  \\\\\n",
       "\t 6103sTS.Human.Kidney.6mpb.Female   & Homo sapiens & normal & infant           & not available &   6 & female & kidney & infant           & kidney & 6103sTS.Human.Kidney.6mpb.Female  \\\\\n",
       "\t 6104sTS.Human.Kidney.6mpb.Male     & Homo sapiens & normal & infant           & not available &   6 & male   & kidney & infant           & kidney & 6104sTS.Human.Kidney.6mpb.Male    \\\\\n",
       "\t 6105sTS.Human.Kidney.6mpb.Male     & Homo sapiens & normal & infant           & not available &   6 & male   & kidney & infant           & kidney & 6105sTS.Human.Kidney.6mpb.Male    \\\\\n",
       "\\end{tabular}\n"
      ],
      "text/markdown": [
       "\n",
       "A data.table: 10 × 11\n",
       "\n",
       "| Source Name &lt;chr&gt; | organism &lt;chr&gt; | disease &lt;chr&gt; | developmental stage &lt;chr&gt; | individual &lt;chr&gt; | age &lt;dbl&gt; | sex &lt;chr&gt; | organism part &lt;chr&gt; | developmental stage2 &lt;chr&gt; | organism part2 &lt;chr&gt; | Assay Name &lt;chr&gt; |\n",
       "|---|---|---|---|---|---|---|---|---|---|---|\n",
       "| 5819sTS.Human.Kidney.226dpb.Female | Homo sapiens | normal | infant           | not available | 226 | female | kidney | infant           | kidney | 5819sTS.Human.Kidney.226dpb.Female |\n",
       "| 5821sTS.Human.Kidney.2ypb.Male     | Homo sapiens | normal | toddler          | not available |   2 | male   | kidney | toddler          | kidney | 5821sTS.Human.Kidney.2ypb.Male     |\n",
       "| 5834sTS.Human.Kidney.34dpb.Male    | Homo sapiens | normal | neonate          | not available |  34 | male   | kidney | neonate          | kidney | 5834sTS.Human.Kidney.34dpb.Male    |\n",
       "| 5844sTS.Human.Kidney.0dpb.Female   | Homo sapiens | normal | neonate          | not available |   0 | female | kidney | neonate          | kidney | 5844sTS.Human.Kidney.0dpb.Female   |\n",
       "| 6098sTS.Human.Kidney.18dpb.Female  | Homo sapiens | normal | neonate          | not available |  18 | female | kidney | neonate          | kidney | 6098sTS.Human.Kidney.18dpb.Female  |\n",
       "| 6099sTS.Human.Kidney.8ypb.Female   | Homo sapiens | normal | school age child | not available |   8 | female | kidney | school age child | kidney | 6099sTS.Human.Kidney.8ypb.Female   |\n",
       "| 6101sTS.Human.Kidney.4ypb.Female   | Homo sapiens | normal | toddler          | not available |   4 | female | kidney | toddler          | kidney | 6101sTS.Human.Kidney.4ypb.Female   |\n",
       "| 6103sTS.Human.Kidney.6mpb.Female   | Homo sapiens | normal | infant           | not available |   6 | female | kidney | infant           | kidney | 6103sTS.Human.Kidney.6mpb.Female   |\n",
       "| 6104sTS.Human.Kidney.6mpb.Male     | Homo sapiens | normal | infant           | not available |   6 | male   | kidney | infant           | kidney | 6104sTS.Human.Kidney.6mpb.Male     |\n",
       "| 6105sTS.Human.Kidney.6mpb.Male     | Homo sapiens | normal | infant           | not available |   6 | male   | kidney | infant           | kidney | 6105sTS.Human.Kidney.6mpb.Male     |\n",
       "\n"
      ],
      "text/plain": [
       "   Source Name                        organism     disease developmental stage\n",
       "1  5819sTS.Human.Kidney.226dpb.Female Homo sapiens normal  infant             \n",
       "2  5821sTS.Human.Kidney.2ypb.Male     Homo sapiens normal  toddler            \n",
       "3  5834sTS.Human.Kidney.34dpb.Male    Homo sapiens normal  neonate            \n",
       "4  5844sTS.Human.Kidney.0dpb.Female   Homo sapiens normal  neonate            \n",
       "5  6098sTS.Human.Kidney.18dpb.Female  Homo sapiens normal  neonate            \n",
       "6  6099sTS.Human.Kidney.8ypb.Female   Homo sapiens normal  school age child   \n",
       "7  6101sTS.Human.Kidney.4ypb.Female   Homo sapiens normal  toddler            \n",
       "8  6103sTS.Human.Kidney.6mpb.Female   Homo sapiens normal  infant             \n",
       "9  6104sTS.Human.Kidney.6mpb.Male     Homo sapiens normal  infant             \n",
       "10 6105sTS.Human.Kidney.6mpb.Male     Homo sapiens normal  infant             \n",
       "   individual    age sex    organism part developmental stage2 organism part2\n",
       "1  not available 226 female kidney        infant               kidney        \n",
       "2  not available   2 male   kidney        toddler              kidney        \n",
       "3  not available  34 male   kidney        neonate              kidney        \n",
       "4  not available   0 female kidney        neonate              kidney        \n",
       "5  not available  18 female kidney        neonate              kidney        \n",
       "6  not available   8 female kidney        school age child     kidney        \n",
       "7  not available   4 female kidney        toddler              kidney        \n",
       "8  not available   6 female kidney        infant               kidney        \n",
       "9  not available   6 male   kidney        infant               kidney        \n",
       "10 not available   6 male   kidney        infant               kidney        \n",
       "   Assay Name                        \n",
       "1  5819sTS.Human.Kidney.226dpb.Female\n",
       "2  5821sTS.Human.Kidney.2ypb.Male    \n",
       "3  5834sTS.Human.Kidney.34dpb.Male   \n",
       "4  5844sTS.Human.Kidney.0dpb.Female  \n",
       "5  6098sTS.Human.Kidney.18dpb.Female \n",
       "6  6099sTS.Human.Kidney.8ypb.Female  \n",
       "7  6101sTS.Human.Kidney.4ypb.Female  \n",
       "8  6103sTS.Human.Kidney.6mpb.Female  \n",
       "9  6104sTS.Human.Kidney.6mpb.Male    \n",
       "10 6105sTS.Human.Kidney.6mpb.Male    "
      ]
     },
     "metadata": {},
     "output_type": "display_data"
    }
   ],
   "source": [
    "#human\n",
    "kidney_samples[['hs']] = sample_info$hs[str_detect(`Source Name`, \"idney\") & ! str_detect(`developmental stage`, 'conception')][1:10]\n",
    "kidney_samples[['hs']]"
   ]
  },
  {
   "cell_type": "code",
   "execution_count": 153,
   "id": "269b4e0a",
   "metadata": {
    "vscode": {
     "languageId": "r"
    }
   },
   "outputs": [
    {
     "data": {
      "text/html": [
       "<table class=\"dataframe\">\n",
       "<caption>A data.table: 10 × 11</caption>\n",
       "<thead>\n",
       "\t<tr><th scope=col>Source Name</th><th scope=col>organism</th><th scope=col>strain</th><th scope=col>genotype</th><th scope=col>organism part</th><th scope=col>developmental stage</th><th scope=col>age</th><th scope=col>sex</th><th scope=col>organism part2</th><th scope=col>developmental stage2</th><th scope=col>Assay Name</th></tr>\n",
       "\t<tr><th scope=col>&lt;chr&gt;</th><th scope=col>&lt;chr&gt;</th><th scope=col>&lt;chr&gt;</th><th scope=col>&lt;chr&gt;</th><th scope=col>&lt;chr&gt;</th><th scope=col>&lt;chr&gt;</th><th scope=col>&lt;dbl&gt;</th><th scope=col>&lt;chr&gt;</th><th scope=col>&lt;chr&gt;</th><th scope=col>&lt;chr&gt;</th><th scope=col>&lt;chr&gt;</th></tr>\n",
       "</thead>\n",
       "<tbody>\n",
       "\t<tr><td>1951sTS.Mouse.Kidney.9wpb.Female</td><td>Mus musculus</td><td>CD-1</td><td>wild type genotype</td><td>kidney</td><td>postnatal</td><td>63</td><td>female</td><td>kidney</td><td>postnatal day 63</td><td>1951sTS.Mouse.Kidney.9wpb.Female</td></tr>\n",
       "\t<tr><td>2644sTS.Mouse.Kidney.2wpb.Male  </td><td>Mus musculus</td><td>CD-1</td><td>wild type genotype</td><td>kidney</td><td>postnatal</td><td>14</td><td>male  </td><td>kidney</td><td>postnatal day 14</td><td>2644sTS.Mouse.Kidney.2wpb.Male  </td></tr>\n",
       "\t<tr><td>2646sTS.Mouse.Kidney.2wpb.Male  </td><td>Mus musculus</td><td>CD-1</td><td>wild type genotype</td><td>kidney</td><td>postnatal</td><td>14</td><td>male  </td><td>kidney</td><td>postnatal day 14</td><td>2646sTS.Mouse.Kidney.2wpb.Male  </td></tr>\n",
       "\t<tr><td>2652sTS.Mouse.Kidney.2wpb.Female</td><td>Mus musculus</td><td>CD-1</td><td>wild type genotype</td><td>kidney</td><td>postnatal</td><td>14</td><td>female</td><td>kidney</td><td>postnatal day 14</td><td>2652sTS.Mouse.Kidney.2wpb.Female</td></tr>\n",
       "\t<tr><td>2654sTS.Mouse.Kidney.2wpb.Female</td><td>Mus musculus</td><td>CD-1</td><td>wild type genotype</td><td>kidney</td><td>postnatal</td><td>14</td><td>female</td><td>kidney</td><td>postnatal day 14</td><td>2654sTS.Mouse.Kidney.2wpb.Female</td></tr>\n",
       "\t<tr><td>2656sTS.Mouse.Kidney.4wpb.Female</td><td>Mus musculus</td><td>CD-1</td><td>wild type genotype</td><td>kidney</td><td>postnatal</td><td>28</td><td>female</td><td>kidney</td><td>postnatal day 28</td><td>2656sTS.Mouse.Kidney.4wpb.Female</td></tr>\n",
       "\t<tr><td>2658sTS.Mouse.Kidney.4wpb.Female</td><td>Mus musculus</td><td>CD-1</td><td>wild type genotype</td><td>kidney</td><td>postnatal</td><td>28</td><td>female</td><td>kidney</td><td>postnatal day 28</td><td>2658sTS.Mouse.Kidney.4wpb.Female</td></tr>\n",
       "\t<tr><td>2660sTS.Mouse.Kidney.4wpb.Male  </td><td>Mus musculus</td><td>CD-1</td><td>wild type genotype</td><td>kidney</td><td>postnatal</td><td>28</td><td>male  </td><td>kidney</td><td>postnatal day 28</td><td>2660sTS.Mouse.Kidney.4wpb.Male  </td></tr>\n",
       "\t<tr><td>2662sTS.Mouse.Kidney.4wpb.Male  </td><td>Mus musculus</td><td>CD-1</td><td>wild type genotype</td><td>kidney</td><td>postnatal</td><td>28</td><td>male  </td><td>kidney</td><td>postnatal day 28</td><td>2662sTS.Mouse.Kidney.4wpb.Male  </td></tr>\n",
       "\t<tr><td>2664sTS.Mouse.Kidney.9wpb.Male  </td><td>Mus musculus</td><td>CD-1</td><td>wild type genotype</td><td>kidney</td><td>postnatal</td><td>63</td><td>male  </td><td>kidney</td><td>postnatal day 63</td><td>2664sTS.Mouse.Kidney.9wpb.Male  </td></tr>\n",
       "</tbody>\n",
       "</table>\n"
      ],
      "text/latex": [
       "A data.table: 10 × 11\n",
       "\\begin{tabular}{lllllllllll}\n",
       " Source Name & organism & strain & genotype & organism part & developmental stage & age & sex & organism part2 & developmental stage2 & Assay Name\\\\\n",
       " <chr> & <chr> & <chr> & <chr> & <chr> & <chr> & <dbl> & <chr> & <chr> & <chr> & <chr>\\\\\n",
       "\\hline\n",
       "\t 1951sTS.Mouse.Kidney.9wpb.Female & Mus musculus & CD-1 & wild type genotype & kidney & postnatal & 63 & female & kidney & postnatal day 63 & 1951sTS.Mouse.Kidney.9wpb.Female\\\\\n",
       "\t 2644sTS.Mouse.Kidney.2wpb.Male   & Mus musculus & CD-1 & wild type genotype & kidney & postnatal & 14 & male   & kidney & postnatal day 14 & 2644sTS.Mouse.Kidney.2wpb.Male  \\\\\n",
       "\t 2646sTS.Mouse.Kidney.2wpb.Male   & Mus musculus & CD-1 & wild type genotype & kidney & postnatal & 14 & male   & kidney & postnatal day 14 & 2646sTS.Mouse.Kidney.2wpb.Male  \\\\\n",
       "\t 2652sTS.Mouse.Kidney.2wpb.Female & Mus musculus & CD-1 & wild type genotype & kidney & postnatal & 14 & female & kidney & postnatal day 14 & 2652sTS.Mouse.Kidney.2wpb.Female\\\\\n",
       "\t 2654sTS.Mouse.Kidney.2wpb.Female & Mus musculus & CD-1 & wild type genotype & kidney & postnatal & 14 & female & kidney & postnatal day 14 & 2654sTS.Mouse.Kidney.2wpb.Female\\\\\n",
       "\t 2656sTS.Mouse.Kidney.4wpb.Female & Mus musculus & CD-1 & wild type genotype & kidney & postnatal & 28 & female & kidney & postnatal day 28 & 2656sTS.Mouse.Kidney.4wpb.Female\\\\\n",
       "\t 2658sTS.Mouse.Kidney.4wpb.Female & Mus musculus & CD-1 & wild type genotype & kidney & postnatal & 28 & female & kidney & postnatal day 28 & 2658sTS.Mouse.Kidney.4wpb.Female\\\\\n",
       "\t 2660sTS.Mouse.Kidney.4wpb.Male   & Mus musculus & CD-1 & wild type genotype & kidney & postnatal & 28 & male   & kidney & postnatal day 28 & 2660sTS.Mouse.Kidney.4wpb.Male  \\\\\n",
       "\t 2662sTS.Mouse.Kidney.4wpb.Male   & Mus musculus & CD-1 & wild type genotype & kidney & postnatal & 28 & male   & kidney & postnatal day 28 & 2662sTS.Mouse.Kidney.4wpb.Male  \\\\\n",
       "\t 2664sTS.Mouse.Kidney.9wpb.Male   & Mus musculus & CD-1 & wild type genotype & kidney & postnatal & 63 & male   & kidney & postnatal day 63 & 2664sTS.Mouse.Kidney.9wpb.Male  \\\\\n",
       "\\end{tabular}\n"
      ],
      "text/markdown": [
       "\n",
       "A data.table: 10 × 11\n",
       "\n",
       "| Source Name &lt;chr&gt; | organism &lt;chr&gt; | strain &lt;chr&gt; | genotype &lt;chr&gt; | organism part &lt;chr&gt; | developmental stage &lt;chr&gt; | age &lt;dbl&gt; | sex &lt;chr&gt; | organism part2 &lt;chr&gt; | developmental stage2 &lt;chr&gt; | Assay Name &lt;chr&gt; |\n",
       "|---|---|---|---|---|---|---|---|---|---|---|\n",
       "| 1951sTS.Mouse.Kidney.9wpb.Female | Mus musculus | CD-1 | wild type genotype | kidney | postnatal | 63 | female | kidney | postnatal day 63 | 1951sTS.Mouse.Kidney.9wpb.Female |\n",
       "| 2644sTS.Mouse.Kidney.2wpb.Male   | Mus musculus | CD-1 | wild type genotype | kidney | postnatal | 14 | male   | kidney | postnatal day 14 | 2644sTS.Mouse.Kidney.2wpb.Male   |\n",
       "| 2646sTS.Mouse.Kidney.2wpb.Male   | Mus musculus | CD-1 | wild type genotype | kidney | postnatal | 14 | male   | kidney | postnatal day 14 | 2646sTS.Mouse.Kidney.2wpb.Male   |\n",
       "| 2652sTS.Mouse.Kidney.2wpb.Female | Mus musculus | CD-1 | wild type genotype | kidney | postnatal | 14 | female | kidney | postnatal day 14 | 2652sTS.Mouse.Kidney.2wpb.Female |\n",
       "| 2654sTS.Mouse.Kidney.2wpb.Female | Mus musculus | CD-1 | wild type genotype | kidney | postnatal | 14 | female | kidney | postnatal day 14 | 2654sTS.Mouse.Kidney.2wpb.Female |\n",
       "| 2656sTS.Mouse.Kidney.4wpb.Female | Mus musculus | CD-1 | wild type genotype | kidney | postnatal | 28 | female | kidney | postnatal day 28 | 2656sTS.Mouse.Kidney.4wpb.Female |\n",
       "| 2658sTS.Mouse.Kidney.4wpb.Female | Mus musculus | CD-1 | wild type genotype | kidney | postnatal | 28 | female | kidney | postnatal day 28 | 2658sTS.Mouse.Kidney.4wpb.Female |\n",
       "| 2660sTS.Mouse.Kidney.4wpb.Male   | Mus musculus | CD-1 | wild type genotype | kidney | postnatal | 28 | male   | kidney | postnatal day 28 | 2660sTS.Mouse.Kidney.4wpb.Male   |\n",
       "| 2662sTS.Mouse.Kidney.4wpb.Male   | Mus musculus | CD-1 | wild type genotype | kidney | postnatal | 28 | male   | kidney | postnatal day 28 | 2662sTS.Mouse.Kidney.4wpb.Male   |\n",
       "| 2664sTS.Mouse.Kidney.9wpb.Male   | Mus musculus | CD-1 | wild type genotype | kidney | postnatal | 63 | male   | kidney | postnatal day 63 | 2664sTS.Mouse.Kidney.9wpb.Male   |\n",
       "\n"
      ],
      "text/plain": [
       "   Source Name                      organism     strain genotype          \n",
       "1  1951sTS.Mouse.Kidney.9wpb.Female Mus musculus CD-1   wild type genotype\n",
       "2  2644sTS.Mouse.Kidney.2wpb.Male   Mus musculus CD-1   wild type genotype\n",
       "3  2646sTS.Mouse.Kidney.2wpb.Male   Mus musculus CD-1   wild type genotype\n",
       "4  2652sTS.Mouse.Kidney.2wpb.Female Mus musculus CD-1   wild type genotype\n",
       "5  2654sTS.Mouse.Kidney.2wpb.Female Mus musculus CD-1   wild type genotype\n",
       "6  2656sTS.Mouse.Kidney.4wpb.Female Mus musculus CD-1   wild type genotype\n",
       "7  2658sTS.Mouse.Kidney.4wpb.Female Mus musculus CD-1   wild type genotype\n",
       "8  2660sTS.Mouse.Kidney.4wpb.Male   Mus musculus CD-1   wild type genotype\n",
       "9  2662sTS.Mouse.Kidney.4wpb.Male   Mus musculus CD-1   wild type genotype\n",
       "10 2664sTS.Mouse.Kidney.9wpb.Male   Mus musculus CD-1   wild type genotype\n",
       "   organism part developmental stage age sex    organism part2\n",
       "1  kidney        postnatal           63  female kidney        \n",
       "2  kidney        postnatal           14  male   kidney        \n",
       "3  kidney        postnatal           14  male   kidney        \n",
       "4  kidney        postnatal           14  female kidney        \n",
       "5  kidney        postnatal           14  female kidney        \n",
       "6  kidney        postnatal           28  female kidney        \n",
       "7  kidney        postnatal           28  female kidney        \n",
       "8  kidney        postnatal           28  male   kidney        \n",
       "9  kidney        postnatal           28  male   kidney        \n",
       "10 kidney        postnatal           63  male   kidney        \n",
       "   developmental stage2 Assay Name                      \n",
       "1  postnatal day 63     1951sTS.Mouse.Kidney.9wpb.Female\n",
       "2  postnatal day 14     2644sTS.Mouse.Kidney.2wpb.Male  \n",
       "3  postnatal day 14     2646sTS.Mouse.Kidney.2wpb.Male  \n",
       "4  postnatal day 14     2652sTS.Mouse.Kidney.2wpb.Female\n",
       "5  postnatal day 14     2654sTS.Mouse.Kidney.2wpb.Female\n",
       "6  postnatal day 28     2656sTS.Mouse.Kidney.4wpb.Female\n",
       "7  postnatal day 28     2658sTS.Mouse.Kidney.4wpb.Female\n",
       "8  postnatal day 28     2660sTS.Mouse.Kidney.4wpb.Male  \n",
       "9  postnatal day 28     2662sTS.Mouse.Kidney.4wpb.Male  \n",
       "10 postnatal day 63     2664sTS.Mouse.Kidney.9wpb.Male  "
      ]
     },
     "metadata": {},
     "output_type": "display_data"
    }
   ],
   "source": [
    "#mm\n",
    "kidney_samples[['mm']] = sample_info$mm[str_detect(`Source Name`, \"idney\") & str_detect(`developmental stage`, 'postnatal') & age > 3][1:10]\n",
    "kidney_samples[['mm']]"
   ]
  },
  {
   "cell_type": "code",
   "execution_count": 154,
   "id": "1f56b368",
   "metadata": {
    "vscode": {
     "languageId": "r"
    }
   },
   "outputs": [
    {
     "data": {
      "text/html": [
       "<table class=\"dataframe\">\n",
       "<caption>A data.table: 10 × 11</caption>\n",
       "<thead>\n",
       "\t<tr><th scope=col>Source Name</th><th scope=col>organism</th><th scope=col>strain</th><th scope=col>genotype</th><th scope=col>developmental stage</th><th scope=col>age</th><th scope=col>sex</th><th scope=col>organism part</th><th scope=col>developmental stage2</th><th scope=col>organism part2</th><th scope=col>Assay Name</th></tr>\n",
       "\t<tr><th scope=col>&lt;chr&gt;</th><th scope=col>&lt;chr&gt;</th><th scope=col>&lt;chr&gt;</th><th scope=col>&lt;chr&gt;</th><th scope=col>&lt;chr&gt;</th><th scope=col>&lt;dbl&gt;</th><th scope=col>&lt;chr&gt;</th><th scope=col>&lt;chr&gt;</th><th scope=col>&lt;chr&gt;</th><th scope=col>&lt;chr&gt;</th><th scope=col>&lt;chr&gt;</th></tr>\n",
       "</thead>\n",
       "<tbody>\n",
       "\t<tr><td>2725sTS.Rat.Kidney.1wpb.Female</td><td>Rattus norvegicus</td><td>Holtzman SD</td><td>wild type genotype</td><td>postnatal</td><td>  7</td><td>female</td><td>kidney</td><td>postnatal day 7  </td><td>kidney</td><td>2725sTS.Rat.Kidney.1wpb.Female</td></tr>\n",
       "\t<tr><td>2729sTS.Rat.Kidney.2wpb.Female</td><td>Rattus norvegicus</td><td>Holtzman SD</td><td>wild type genotype</td><td>postnatal</td><td> 14</td><td>female</td><td>kidney</td><td>postnatal day 14 </td><td>kidney</td><td>2729sTS.Rat.Kidney.2wpb.Female</td></tr>\n",
       "\t<tr><td>2730sTS.Rat.Kidney.2wpb.Male  </td><td>Rattus norvegicus</td><td>Holtzman SD</td><td>wild type genotype</td><td>postnatal</td><td> 14</td><td>male  </td><td>kidney</td><td>postnatal day 14 </td><td>kidney</td><td>2730sTS.Rat.Kidney.2wpb.Male  </td></tr>\n",
       "\t<tr><td>2733sTS.Rat.Kidney.1wpb.Female</td><td>Rattus norvegicus</td><td>Holtzman SD</td><td>wild type genotype</td><td>postnatal</td><td>  7</td><td>female</td><td>kidney</td><td>postnatal day 7  </td><td>kidney</td><td>2733sTS.Rat.Kidney.1wpb.Female</td></tr>\n",
       "\t<tr><td>2735sTS.Rat.Kidney.1wpb.Male  </td><td>Rattus norvegicus</td><td>Holtzman SD</td><td>wild type genotype</td><td>postnatal</td><td>  7</td><td>male  </td><td>kidney</td><td>postnatal day 7  </td><td>kidney</td><td>2735sTS.Rat.Kidney.1wpb.Male  </td></tr>\n",
       "\t<tr><td>2737sTS.Rat.Kidney.1wpb.Male  </td><td>Rattus norvegicus</td><td>Holtzman SD</td><td>wild type genotype</td><td>postnatal</td><td>  7</td><td>male  </td><td>kidney</td><td>postnatal day 7  </td><td>kidney</td><td>2737sTS.Rat.Kidney.1wpb.Male  </td></tr>\n",
       "\t<tr><td>2739sTS.Rat.Kidney.6wpb.Female</td><td>Rattus norvegicus</td><td>Holtzman SD</td><td>wild type genotype</td><td>postnatal</td><td> 42</td><td>female</td><td>kidney</td><td>postnatal day 42 </td><td>kidney</td><td>2739sTS.Rat.Kidney.6wpb.Female</td></tr>\n",
       "\t<tr><td>2741sTS.Rat.Kidney.6wpb.Female</td><td>Rattus norvegicus</td><td>Holtzman SD</td><td>wild type genotype</td><td>postnatal</td><td> 42</td><td>female</td><td>kidney</td><td>postnatal day 42 </td><td>kidney</td><td>2741sTS.Rat.Kidney.6wpb.Female</td></tr>\n",
       "\t<tr><td>2743sTS.Rat.Kidney.6wpb.Male  </td><td>Rattus norvegicus</td><td>Holtzman SD</td><td>wild type genotype</td><td>postnatal</td><td> 42</td><td>male  </td><td>kidney</td><td>postnatal day 42 </td><td>kidney</td><td>2743sTS.Rat.Kidney.6wpb.Male  </td></tr>\n",
       "\t<tr><td>2748sTS.Rat.Kidney.16wpb.Male </td><td>Rattus norvegicus</td><td>Holtzman SD</td><td>wild type genotype</td><td>postnatal</td><td>112</td><td>male  </td><td>kidney</td><td>postnatal day 112</td><td>kidney</td><td>2748sTS.Rat.Kidney.16wpb.Male </td></tr>\n",
       "</tbody>\n",
       "</table>\n"
      ],
      "text/latex": [
       "A data.table: 10 × 11\n",
       "\\begin{tabular}{lllllllllll}\n",
       " Source Name & organism & strain & genotype & developmental stage & age & sex & organism part & developmental stage2 & organism part2 & Assay Name\\\\\n",
       " <chr> & <chr> & <chr> & <chr> & <chr> & <dbl> & <chr> & <chr> & <chr> & <chr> & <chr>\\\\\n",
       "\\hline\n",
       "\t 2725sTS.Rat.Kidney.1wpb.Female & Rattus norvegicus & Holtzman SD & wild type genotype & postnatal &   7 & female & kidney & postnatal day 7   & kidney & 2725sTS.Rat.Kidney.1wpb.Female\\\\\n",
       "\t 2729sTS.Rat.Kidney.2wpb.Female & Rattus norvegicus & Holtzman SD & wild type genotype & postnatal &  14 & female & kidney & postnatal day 14  & kidney & 2729sTS.Rat.Kidney.2wpb.Female\\\\\n",
       "\t 2730sTS.Rat.Kidney.2wpb.Male   & Rattus norvegicus & Holtzman SD & wild type genotype & postnatal &  14 & male   & kidney & postnatal day 14  & kidney & 2730sTS.Rat.Kidney.2wpb.Male  \\\\\n",
       "\t 2733sTS.Rat.Kidney.1wpb.Female & Rattus norvegicus & Holtzman SD & wild type genotype & postnatal &   7 & female & kidney & postnatal day 7   & kidney & 2733sTS.Rat.Kidney.1wpb.Female\\\\\n",
       "\t 2735sTS.Rat.Kidney.1wpb.Male   & Rattus norvegicus & Holtzman SD & wild type genotype & postnatal &   7 & male   & kidney & postnatal day 7   & kidney & 2735sTS.Rat.Kidney.1wpb.Male  \\\\\n",
       "\t 2737sTS.Rat.Kidney.1wpb.Male   & Rattus norvegicus & Holtzman SD & wild type genotype & postnatal &   7 & male   & kidney & postnatal day 7   & kidney & 2737sTS.Rat.Kidney.1wpb.Male  \\\\\n",
       "\t 2739sTS.Rat.Kidney.6wpb.Female & Rattus norvegicus & Holtzman SD & wild type genotype & postnatal &  42 & female & kidney & postnatal day 42  & kidney & 2739sTS.Rat.Kidney.6wpb.Female\\\\\n",
       "\t 2741sTS.Rat.Kidney.6wpb.Female & Rattus norvegicus & Holtzman SD & wild type genotype & postnatal &  42 & female & kidney & postnatal day 42  & kidney & 2741sTS.Rat.Kidney.6wpb.Female\\\\\n",
       "\t 2743sTS.Rat.Kidney.6wpb.Male   & Rattus norvegicus & Holtzman SD & wild type genotype & postnatal &  42 & male   & kidney & postnatal day 42  & kidney & 2743sTS.Rat.Kidney.6wpb.Male  \\\\\n",
       "\t 2748sTS.Rat.Kidney.16wpb.Male  & Rattus norvegicus & Holtzman SD & wild type genotype & postnatal & 112 & male   & kidney & postnatal day 112 & kidney & 2748sTS.Rat.Kidney.16wpb.Male \\\\\n",
       "\\end{tabular}\n"
      ],
      "text/markdown": [
       "\n",
       "A data.table: 10 × 11\n",
       "\n",
       "| Source Name &lt;chr&gt; | organism &lt;chr&gt; | strain &lt;chr&gt; | genotype &lt;chr&gt; | developmental stage &lt;chr&gt; | age &lt;dbl&gt; | sex &lt;chr&gt; | organism part &lt;chr&gt; | developmental stage2 &lt;chr&gt; | organism part2 &lt;chr&gt; | Assay Name &lt;chr&gt; |\n",
       "|---|---|---|---|---|---|---|---|---|---|---|\n",
       "| 2725sTS.Rat.Kidney.1wpb.Female | Rattus norvegicus | Holtzman SD | wild type genotype | postnatal |   7 | female | kidney | postnatal day 7   | kidney | 2725sTS.Rat.Kidney.1wpb.Female |\n",
       "| 2729sTS.Rat.Kidney.2wpb.Female | Rattus norvegicus | Holtzman SD | wild type genotype | postnatal |  14 | female | kidney | postnatal day 14  | kidney | 2729sTS.Rat.Kidney.2wpb.Female |\n",
       "| 2730sTS.Rat.Kidney.2wpb.Male   | Rattus norvegicus | Holtzman SD | wild type genotype | postnatal |  14 | male   | kidney | postnatal day 14  | kidney | 2730sTS.Rat.Kidney.2wpb.Male   |\n",
       "| 2733sTS.Rat.Kidney.1wpb.Female | Rattus norvegicus | Holtzman SD | wild type genotype | postnatal |   7 | female | kidney | postnatal day 7   | kidney | 2733sTS.Rat.Kidney.1wpb.Female |\n",
       "| 2735sTS.Rat.Kidney.1wpb.Male   | Rattus norvegicus | Holtzman SD | wild type genotype | postnatal |   7 | male   | kidney | postnatal day 7   | kidney | 2735sTS.Rat.Kidney.1wpb.Male   |\n",
       "| 2737sTS.Rat.Kidney.1wpb.Male   | Rattus norvegicus | Holtzman SD | wild type genotype | postnatal |   7 | male   | kidney | postnatal day 7   | kidney | 2737sTS.Rat.Kidney.1wpb.Male   |\n",
       "| 2739sTS.Rat.Kidney.6wpb.Female | Rattus norvegicus | Holtzman SD | wild type genotype | postnatal |  42 | female | kidney | postnatal day 42  | kidney | 2739sTS.Rat.Kidney.6wpb.Female |\n",
       "| 2741sTS.Rat.Kidney.6wpb.Female | Rattus norvegicus | Holtzman SD | wild type genotype | postnatal |  42 | female | kidney | postnatal day 42  | kidney | 2741sTS.Rat.Kidney.6wpb.Female |\n",
       "| 2743sTS.Rat.Kidney.6wpb.Male   | Rattus norvegicus | Holtzman SD | wild type genotype | postnatal |  42 | male   | kidney | postnatal day 42  | kidney | 2743sTS.Rat.Kidney.6wpb.Male   |\n",
       "| 2748sTS.Rat.Kidney.16wpb.Male  | Rattus norvegicus | Holtzman SD | wild type genotype | postnatal | 112 | male   | kidney | postnatal day 112 | kidney | 2748sTS.Rat.Kidney.16wpb.Male  |\n",
       "\n"
      ],
      "text/plain": [
       "   Source Name                    organism          strain     \n",
       "1  2725sTS.Rat.Kidney.1wpb.Female Rattus norvegicus Holtzman SD\n",
       "2  2729sTS.Rat.Kidney.2wpb.Female Rattus norvegicus Holtzman SD\n",
       "3  2730sTS.Rat.Kidney.2wpb.Male   Rattus norvegicus Holtzman SD\n",
       "4  2733sTS.Rat.Kidney.1wpb.Female Rattus norvegicus Holtzman SD\n",
       "5  2735sTS.Rat.Kidney.1wpb.Male   Rattus norvegicus Holtzman SD\n",
       "6  2737sTS.Rat.Kidney.1wpb.Male   Rattus norvegicus Holtzman SD\n",
       "7  2739sTS.Rat.Kidney.6wpb.Female Rattus norvegicus Holtzman SD\n",
       "8  2741sTS.Rat.Kidney.6wpb.Female Rattus norvegicus Holtzman SD\n",
       "9  2743sTS.Rat.Kidney.6wpb.Male   Rattus norvegicus Holtzman SD\n",
       "10 2748sTS.Rat.Kidney.16wpb.Male  Rattus norvegicus Holtzman SD\n",
       "   genotype           developmental stage age sex    organism part\n",
       "1  wild type genotype postnatal             7 female kidney       \n",
       "2  wild type genotype postnatal            14 female kidney       \n",
       "3  wild type genotype postnatal            14 male   kidney       \n",
       "4  wild type genotype postnatal             7 female kidney       \n",
       "5  wild type genotype postnatal             7 male   kidney       \n",
       "6  wild type genotype postnatal             7 male   kidney       \n",
       "7  wild type genotype postnatal            42 female kidney       \n",
       "8  wild type genotype postnatal            42 female kidney       \n",
       "9  wild type genotype postnatal            42 male   kidney       \n",
       "10 wild type genotype postnatal           112 male   kidney       \n",
       "   developmental stage2 organism part2 Assay Name                    \n",
       "1  postnatal day 7      kidney         2725sTS.Rat.Kidney.1wpb.Female\n",
       "2  postnatal day 14     kidney         2729sTS.Rat.Kidney.2wpb.Female\n",
       "3  postnatal day 14     kidney         2730sTS.Rat.Kidney.2wpb.Male  \n",
       "4  postnatal day 7      kidney         2733sTS.Rat.Kidney.1wpb.Female\n",
       "5  postnatal day 7      kidney         2735sTS.Rat.Kidney.1wpb.Male  \n",
       "6  postnatal day 7      kidney         2737sTS.Rat.Kidney.1wpb.Male  \n",
       "7  postnatal day 42     kidney         2739sTS.Rat.Kidney.6wpb.Female\n",
       "8  postnatal day 42     kidney         2741sTS.Rat.Kidney.6wpb.Female\n",
       "9  postnatal day 42     kidney         2743sTS.Rat.Kidney.6wpb.Male  \n",
       "10 postnatal day 112    kidney         2748sTS.Rat.Kidney.16wpb.Male "
      ]
     },
     "metadata": {},
     "output_type": "display_data"
    }
   ],
   "source": [
    "#rat\n",
    "kidney_samples[['rat']] = sample_info$rat[str_detect(`Source Name`, \"idney\") & str_detect(`developmental stage`, 'postnatal') & age > 3][1:10]\n",
    "kidney_samples[['rat']]"
   ]
  },
  {
   "cell_type": "code",
   "execution_count": 155,
   "id": "9b3840cf",
   "metadata": {
    "vscode": {
     "languageId": "r"
    }
   },
   "outputs": [
    {
     "data": {
      "text/html": [
       "<table class=\"dataframe\">\n",
       "<caption>A data.table: 10 × 10</caption>\n",
       "<thead>\n",
       "\t<tr><th scope=col>Source Name</th><th scope=col>organism</th><th scope=col>genotype</th><th scope=col>developmental stage</th><th scope=col>age</th><th scope=col>organism part</th><th scope=col>sex</th><th scope=col>developmental stage2</th><th scope=col>organism part2</th><th scope=col>Assay Name</th></tr>\n",
       "\t<tr><th scope=col>&lt;chr&gt;</th><th scope=col>&lt;chr&gt;</th><th scope=col>&lt;chr&gt;</th><th scope=col>&lt;chr&gt;</th><th scope=col>&lt;chr&gt;</th><th scope=col>&lt;chr&gt;</th><th scope=col>&lt;chr&gt;</th><th scope=col>&lt;chr&gt;</th><th scope=col>&lt;chr&gt;</th><th scope=col>&lt;chr&gt;</th></tr>\n",
       "</thead>\n",
       "<tbody>\n",
       "\t<tr><td>5376sTS.Macaque.Kidney.14ypb.Male </td><td>Macaca mulatta</td><td>wild type genotype</td><td>postnatal</td><td>14 to 15</td><td>kidney</td><td>male  </td><td>14 to 15 years postnatal</td><td>kidney</td><td>5376sTS.Macaque.Kidney.14ypb.Male </td></tr>\n",
       "\t<tr><td>5380sTS.Macaque.Kidney.3ypb.Male  </td><td>Macaca mulatta</td><td>wild type genotype</td><td>postnatal</td><td>3       </td><td>kidney</td><td>male  </td><td>3 years postnatal       </td><td>kidney</td><td>5380sTS.Macaque.Kidney.3ypb.Male  </td></tr>\n",
       "\t<tr><td>5445sTS.Macaque.Kidney.15ypb.Male </td><td>Macaca mulatta</td><td>wild type genotype</td><td>postnatal</td><td>14 to 15</td><td>kidney</td><td>male  </td><td>14 to 15 years postnatal</td><td>kidney</td><td>5445sTS.Macaque.Kidney.15ypb.Male </td></tr>\n",
       "\t<tr><td>5476sTS.Macaque.Kidney.9ypb.Male  </td><td>Macaca mulatta</td><td>wild type genotype</td><td>postnatal</td><td>9       </td><td>kidney</td><td>male  </td><td>9 years postnatal       </td><td>kidney</td><td>5476sTS.Macaque.Kidney.9ypb.Male  </td></tr>\n",
       "\t<tr><td>5507sTS.Macaque.Kidney.3ypb.Male  </td><td>Macaca mulatta</td><td>wild type genotype</td><td>postnatal</td><td>3       </td><td>kidney</td><td>male  </td><td>3 years postnatal       </td><td>kidney</td><td>5507sTS.Macaque.Kidney.3ypb.Male  </td></tr>\n",
       "\t<tr><td>6079sTS.Macaque.Kidney.3ypb.Male  </td><td>Macaca mulatta</td><td>wild type genotype</td><td>postnatal</td><td>3       </td><td>kidney</td><td>male  </td><td>3 years postnatal       </td><td>kidney</td><td>6079sTS.Macaque.Kidney.3ypb.Male  </td></tr>\n",
       "\t<tr><td>6083sTS.Macaque.Kidney.3ypb.Male  </td><td>Macaca mulatta</td><td>wild type genotype</td><td>postnatal</td><td>3       </td><td>kidney</td><td>male  </td><td>3 years postnatal       </td><td>kidney</td><td>6083sTS.Macaque.Kidney.3ypb.Male  </td></tr>\n",
       "\t<tr><td>6087sTS.Macaque.Kidney.8ypb.Female</td><td>Macaca mulatta</td><td>wild type genotype</td><td>postnatal</td><td>8       </td><td>kidney</td><td>female</td><td>8 years postnatal       </td><td>kidney</td><td>6087sTS.Macaque.Kidney.8ypb.Female</td></tr>\n",
       "\t<tr><td>6091sTS.Macaque.Kidney.9ypb.Female</td><td>Macaca mulatta</td><td>wild type genotype</td><td>postnatal</td><td>9       </td><td>kidney</td><td>female</td><td>9 years postnatal       </td><td>kidney</td><td>6091sTS.Macaque.Kidney.9ypb.Female</td></tr>\n",
       "\t<tr><td>6125sTS.Macaque.Kidney.8ypb.Male  </td><td>Macaca mulatta</td><td>wild type genotype</td><td>postnatal</td><td>8       </td><td>kidney</td><td>male  </td><td>8 years postnatal       </td><td>kidney</td><td>6125sTS.Macaque.Kidney.8ypb.Male  </td></tr>\n",
       "</tbody>\n",
       "</table>\n"
      ],
      "text/latex": [
       "A data.table: 10 × 10\n",
       "\\begin{tabular}{llllllllll}\n",
       " Source Name & organism & genotype & developmental stage & age & organism part & sex & developmental stage2 & organism part2 & Assay Name\\\\\n",
       " <chr> & <chr> & <chr> & <chr> & <chr> & <chr> & <chr> & <chr> & <chr> & <chr>\\\\\n",
       "\\hline\n",
       "\t 5376sTS.Macaque.Kidney.14ypb.Male  & Macaca mulatta & wild type genotype & postnatal & 14 to 15 & kidney & male   & 14 to 15 years postnatal & kidney & 5376sTS.Macaque.Kidney.14ypb.Male \\\\\n",
       "\t 5380sTS.Macaque.Kidney.3ypb.Male   & Macaca mulatta & wild type genotype & postnatal & 3        & kidney & male   & 3 years postnatal        & kidney & 5380sTS.Macaque.Kidney.3ypb.Male  \\\\\n",
       "\t 5445sTS.Macaque.Kidney.15ypb.Male  & Macaca mulatta & wild type genotype & postnatal & 14 to 15 & kidney & male   & 14 to 15 years postnatal & kidney & 5445sTS.Macaque.Kidney.15ypb.Male \\\\\n",
       "\t 5476sTS.Macaque.Kidney.9ypb.Male   & Macaca mulatta & wild type genotype & postnatal & 9        & kidney & male   & 9 years postnatal        & kidney & 5476sTS.Macaque.Kidney.9ypb.Male  \\\\\n",
       "\t 5507sTS.Macaque.Kidney.3ypb.Male   & Macaca mulatta & wild type genotype & postnatal & 3        & kidney & male   & 3 years postnatal        & kidney & 5507sTS.Macaque.Kidney.3ypb.Male  \\\\\n",
       "\t 6079sTS.Macaque.Kidney.3ypb.Male   & Macaca mulatta & wild type genotype & postnatal & 3        & kidney & male   & 3 years postnatal        & kidney & 6079sTS.Macaque.Kidney.3ypb.Male  \\\\\n",
       "\t 6083sTS.Macaque.Kidney.3ypb.Male   & Macaca mulatta & wild type genotype & postnatal & 3        & kidney & male   & 3 years postnatal        & kidney & 6083sTS.Macaque.Kidney.3ypb.Male  \\\\\n",
       "\t 6087sTS.Macaque.Kidney.8ypb.Female & Macaca mulatta & wild type genotype & postnatal & 8        & kidney & female & 8 years postnatal        & kidney & 6087sTS.Macaque.Kidney.8ypb.Female\\\\\n",
       "\t 6091sTS.Macaque.Kidney.9ypb.Female & Macaca mulatta & wild type genotype & postnatal & 9        & kidney & female & 9 years postnatal        & kidney & 6091sTS.Macaque.Kidney.9ypb.Female\\\\\n",
       "\t 6125sTS.Macaque.Kidney.8ypb.Male   & Macaca mulatta & wild type genotype & postnatal & 8        & kidney & male   & 8 years postnatal        & kidney & 6125sTS.Macaque.Kidney.8ypb.Male  \\\\\n",
       "\\end{tabular}\n"
      ],
      "text/markdown": [
       "\n",
       "A data.table: 10 × 10\n",
       "\n",
       "| Source Name &lt;chr&gt; | organism &lt;chr&gt; | genotype &lt;chr&gt; | developmental stage &lt;chr&gt; | age &lt;chr&gt; | organism part &lt;chr&gt; | sex &lt;chr&gt; | developmental stage2 &lt;chr&gt; | organism part2 &lt;chr&gt; | Assay Name &lt;chr&gt; |\n",
       "|---|---|---|---|---|---|---|---|---|---|\n",
       "| 5376sTS.Macaque.Kidney.14ypb.Male  | Macaca mulatta | wild type genotype | postnatal | 14 to 15 | kidney | male   | 14 to 15 years postnatal | kidney | 5376sTS.Macaque.Kidney.14ypb.Male  |\n",
       "| 5380sTS.Macaque.Kidney.3ypb.Male   | Macaca mulatta | wild type genotype | postnatal | 3        | kidney | male   | 3 years postnatal        | kidney | 5380sTS.Macaque.Kidney.3ypb.Male   |\n",
       "| 5445sTS.Macaque.Kidney.15ypb.Male  | Macaca mulatta | wild type genotype | postnatal | 14 to 15 | kidney | male   | 14 to 15 years postnatal | kidney | 5445sTS.Macaque.Kidney.15ypb.Male  |\n",
       "| 5476sTS.Macaque.Kidney.9ypb.Male   | Macaca mulatta | wild type genotype | postnatal | 9        | kidney | male   | 9 years postnatal        | kidney | 5476sTS.Macaque.Kidney.9ypb.Male   |\n",
       "| 5507sTS.Macaque.Kidney.3ypb.Male   | Macaca mulatta | wild type genotype | postnatal | 3        | kidney | male   | 3 years postnatal        | kidney | 5507sTS.Macaque.Kidney.3ypb.Male   |\n",
       "| 6079sTS.Macaque.Kidney.3ypb.Male   | Macaca mulatta | wild type genotype | postnatal | 3        | kidney | male   | 3 years postnatal        | kidney | 6079sTS.Macaque.Kidney.3ypb.Male   |\n",
       "| 6083sTS.Macaque.Kidney.3ypb.Male   | Macaca mulatta | wild type genotype | postnatal | 3        | kidney | male   | 3 years postnatal        | kidney | 6083sTS.Macaque.Kidney.3ypb.Male   |\n",
       "| 6087sTS.Macaque.Kidney.8ypb.Female | Macaca mulatta | wild type genotype | postnatal | 8        | kidney | female | 8 years postnatal        | kidney | 6087sTS.Macaque.Kidney.8ypb.Female |\n",
       "| 6091sTS.Macaque.Kidney.9ypb.Female | Macaca mulatta | wild type genotype | postnatal | 9        | kidney | female | 9 years postnatal        | kidney | 6091sTS.Macaque.Kidney.9ypb.Female |\n",
       "| 6125sTS.Macaque.Kidney.8ypb.Male   | Macaca mulatta | wild type genotype | postnatal | 8        | kidney | male   | 8 years postnatal        | kidney | 6125sTS.Macaque.Kidney.8ypb.Male   |\n",
       "\n"
      ],
      "text/plain": [
       "   Source Name                        organism       genotype          \n",
       "1  5376sTS.Macaque.Kidney.14ypb.Male  Macaca mulatta wild type genotype\n",
       "2  5380sTS.Macaque.Kidney.3ypb.Male   Macaca mulatta wild type genotype\n",
       "3  5445sTS.Macaque.Kidney.15ypb.Male  Macaca mulatta wild type genotype\n",
       "4  5476sTS.Macaque.Kidney.9ypb.Male   Macaca mulatta wild type genotype\n",
       "5  5507sTS.Macaque.Kidney.3ypb.Male   Macaca mulatta wild type genotype\n",
       "6  6079sTS.Macaque.Kidney.3ypb.Male   Macaca mulatta wild type genotype\n",
       "7  6083sTS.Macaque.Kidney.3ypb.Male   Macaca mulatta wild type genotype\n",
       "8  6087sTS.Macaque.Kidney.8ypb.Female Macaca mulatta wild type genotype\n",
       "9  6091sTS.Macaque.Kidney.9ypb.Female Macaca mulatta wild type genotype\n",
       "10 6125sTS.Macaque.Kidney.8ypb.Male   Macaca mulatta wild type genotype\n",
       "   developmental stage age      organism part sex    developmental stage2    \n",
       "1  postnatal           14 to 15 kidney        male   14 to 15 years postnatal\n",
       "2  postnatal           3        kidney        male   3 years postnatal       \n",
       "3  postnatal           14 to 15 kidney        male   14 to 15 years postnatal\n",
       "4  postnatal           9        kidney        male   9 years postnatal       \n",
       "5  postnatal           3        kidney        male   3 years postnatal       \n",
       "6  postnatal           3        kidney        male   3 years postnatal       \n",
       "7  postnatal           3        kidney        male   3 years postnatal       \n",
       "8  postnatal           8        kidney        female 8 years postnatal       \n",
       "9  postnatal           9        kidney        female 9 years postnatal       \n",
       "10 postnatal           8        kidney        male   8 years postnatal       \n",
       "   organism part2 Assay Name                        \n",
       "1  kidney         5376sTS.Macaque.Kidney.14ypb.Male \n",
       "2  kidney         5380sTS.Macaque.Kidney.3ypb.Male  \n",
       "3  kidney         5445sTS.Macaque.Kidney.15ypb.Male \n",
       "4  kidney         5476sTS.Macaque.Kidney.9ypb.Male  \n",
       "5  kidney         5507sTS.Macaque.Kidney.3ypb.Male  \n",
       "6  kidney         6079sTS.Macaque.Kidney.3ypb.Male  \n",
       "7  kidney         6083sTS.Macaque.Kidney.3ypb.Male  \n",
       "8  kidney         6087sTS.Macaque.Kidney.8ypb.Female\n",
       "9  kidney         6091sTS.Macaque.Kidney.9ypb.Female\n",
       "10 kidney         6125sTS.Macaque.Kidney.8ypb.Male  "
      ]
     },
     "metadata": {},
     "output_type": "display_data"
    }
   ],
   "source": [
    "#rmac\n",
    "kidney_samples[['rmac']] = sample_info$rmac[str_detect(`Source Name`, \"idney\") & str_detect(`developmental stage`, 'postnatal') & str_detect(`Source Name`, 'ypb')][age != '1'][1:10]\n",
    "kidney_samples[['rmac']]"
   ]
  },
  {
   "cell_type": "markdown",
   "id": "08ae96b4",
   "metadata": {},
   "source": [
    "## Select Liver"
   ]
  },
  {
   "cell_type": "code",
   "execution_count": 156,
   "id": "ab770c3d",
   "metadata": {
    "vscode": {
     "languageId": "r"
    }
   },
   "outputs": [],
   "source": [
    "liver_samples = list(\n",
    "  'hs' = list(),\n",
    "  'mm' = list(),\n",
    "  'rat' = list(),\n",
    "  'rmac' = list()\n",
    ")"
   ]
  },
  {
   "cell_type": "code",
   "execution_count": 164,
   "id": "7907eb25",
   "metadata": {
    "vscode": {
     "languageId": "r"
    }
   },
   "outputs": [
    {
     "data": {
      "text/html": [
       "<table class=\"dataframe\">\n",
       "<caption>A data.table: 10 × 11</caption>\n",
       "<thead>\n",
       "\t<tr><th scope=col>Source Name</th><th scope=col>organism</th><th scope=col>disease</th><th scope=col>developmental stage</th><th scope=col>individual</th><th scope=col>age</th><th scope=col>sex</th><th scope=col>organism part</th><th scope=col>developmental stage2</th><th scope=col>organism part2</th><th scope=col>Assay Name</th></tr>\n",
       "\t<tr><th scope=col>&lt;chr&gt;</th><th scope=col>&lt;chr&gt;</th><th scope=col>&lt;chr&gt;</th><th scope=col>&lt;chr&gt;</th><th scope=col>&lt;chr&gt;</th><th scope=col>&lt;dbl&gt;</th><th scope=col>&lt;chr&gt;</th><th scope=col>&lt;chr&gt;</th><th scope=col>&lt;chr&gt;</th><th scope=col>&lt;chr&gt;</th><th scope=col>&lt;chr&gt;</th></tr>\n",
       "</thead>\n",
       "<tbody>\n",
       "\t<tr><td>5513sTS.Human.Liver.7ypb.Male   </td><td>Homo sapiens</td><td>normal</td><td>school age child</td><td>not available</td><td>  7</td><td>male  </td><td>liver</td><td>school age child</td><td>liver</td><td>5513sTS.Human.Liver.7ypb.Male   </td></tr>\n",
       "\t<tr><td>5528sTS.Human.Liver.221dpb.Male </td><td>Homo sapiens</td><td>normal</td><td>infant          </td><td>not available</td><td>221</td><td>male  </td><td>liver</td><td>infant          </td><td>liver</td><td>5528sTS.Human.Liver.221dpb.Male </td></tr>\n",
       "\t<tr><td>5536sTS.Human.Liver.29ypb.Male  </td><td>Homo sapiens</td><td>normal</td><td>young adult     </td><td>not available</td><td> 29</td><td>male  </td><td>liver</td><td>young adult     </td><td>liver</td><td>5536sTS.Human.Liver.29ypb.Male  </td></tr>\n",
       "\t<tr><td>5544sTS.Human.Liver.15dpb.Female</td><td>Homo sapiens</td><td>normal</td><td>neonate         </td><td>not available</td><td> 15</td><td>female</td><td>liver</td><td>neonate         </td><td>liver</td><td>5544sTS.Human.Liver.15dpb.Female</td></tr>\n",
       "\t<tr><td>5548sTS.Human.Liver.15dpb.Male  </td><td>Homo sapiens</td><td>normal</td><td>neonate         </td><td>not available</td><td> 15</td><td>male  </td><td>liver</td><td>neonate         </td><td>liver</td><td>5548sTS.Human.Liver.15dpb.Male  </td></tr>\n",
       "\t<tr><td>5551sTS.Human.Liver.39ypb.Male  </td><td>Homo sapiens</td><td>normal</td><td>young adult     </td><td>not available</td><td> 39</td><td>male  </td><td>liver</td><td>young adult     </td><td>liver</td><td>5551sTS.Human.Liver.39ypb.Male  </td></tr>\n",
       "\t<tr><td>5552sTS.Human.Liver.271dpb.Male </td><td>Homo sapiens</td><td>normal</td><td>infant          </td><td>not available</td><td>271</td><td>male  </td><td>liver</td><td>infant          </td><td>liver</td><td>5552sTS.Human.Liver.271dpb.Male </td></tr>\n",
       "\t<tr><td>5556sTS.Human.Liver.2ypb.Female </td><td>Homo sapiens</td><td>normal</td><td>toddler         </td><td>not available</td><td>  2</td><td>female</td><td>liver</td><td>toddler         </td><td>liver</td><td>5556sTS.Human.Liver.2ypb.Female </td></tr>\n",
       "\t<tr><td>5563sTS.Human.Liver.39ypb.Male  </td><td>Homo sapiens</td><td>normal</td><td>young adult     </td><td>not available</td><td> 39</td><td>male  </td><td>liver</td><td>young adult     </td><td>liver</td><td>5563sTS.Human.Liver.39ypb.Male  </td></tr>\n",
       "\t<tr><td>5575sTS.Human.Liver.17ypb.Male  </td><td>Homo sapiens</td><td>normal</td><td>adolescent      </td><td>not available</td><td> 17</td><td>male  </td><td>liver</td><td>adolescent      </td><td>liver</td><td>5575sTS.Human.Liver.17ypb.Male  </td></tr>\n",
       "</tbody>\n",
       "</table>\n"
      ],
      "text/latex": [
       "A data.table: 10 × 11\n",
       "\\begin{tabular}{lllllllllll}\n",
       " Source Name & organism & disease & developmental stage & individual & age & sex & organism part & developmental stage2 & organism part2 & Assay Name\\\\\n",
       " <chr> & <chr> & <chr> & <chr> & <chr> & <dbl> & <chr> & <chr> & <chr> & <chr> & <chr>\\\\\n",
       "\\hline\n",
       "\t 5513sTS.Human.Liver.7ypb.Male    & Homo sapiens & normal & school age child & not available &   7 & male   & liver & school age child & liver & 5513sTS.Human.Liver.7ypb.Male   \\\\\n",
       "\t 5528sTS.Human.Liver.221dpb.Male  & Homo sapiens & normal & infant           & not available & 221 & male   & liver & infant           & liver & 5528sTS.Human.Liver.221dpb.Male \\\\\n",
       "\t 5536sTS.Human.Liver.29ypb.Male   & Homo sapiens & normal & young adult      & not available &  29 & male   & liver & young adult      & liver & 5536sTS.Human.Liver.29ypb.Male  \\\\\n",
       "\t 5544sTS.Human.Liver.15dpb.Female & Homo sapiens & normal & neonate          & not available &  15 & female & liver & neonate          & liver & 5544sTS.Human.Liver.15dpb.Female\\\\\n",
       "\t 5548sTS.Human.Liver.15dpb.Male   & Homo sapiens & normal & neonate          & not available &  15 & male   & liver & neonate          & liver & 5548sTS.Human.Liver.15dpb.Male  \\\\\n",
       "\t 5551sTS.Human.Liver.39ypb.Male   & Homo sapiens & normal & young adult      & not available &  39 & male   & liver & young adult      & liver & 5551sTS.Human.Liver.39ypb.Male  \\\\\n",
       "\t 5552sTS.Human.Liver.271dpb.Male  & Homo sapiens & normal & infant           & not available & 271 & male   & liver & infant           & liver & 5552sTS.Human.Liver.271dpb.Male \\\\\n",
       "\t 5556sTS.Human.Liver.2ypb.Female  & Homo sapiens & normal & toddler          & not available &   2 & female & liver & toddler          & liver & 5556sTS.Human.Liver.2ypb.Female \\\\\n",
       "\t 5563sTS.Human.Liver.39ypb.Male   & Homo sapiens & normal & young adult      & not available &  39 & male   & liver & young adult      & liver & 5563sTS.Human.Liver.39ypb.Male  \\\\\n",
       "\t 5575sTS.Human.Liver.17ypb.Male   & Homo sapiens & normal & adolescent       & not available &  17 & male   & liver & adolescent       & liver & 5575sTS.Human.Liver.17ypb.Male  \\\\\n",
       "\\end{tabular}\n"
      ],
      "text/markdown": [
       "\n",
       "A data.table: 10 × 11\n",
       "\n",
       "| Source Name &lt;chr&gt; | organism &lt;chr&gt; | disease &lt;chr&gt; | developmental stage &lt;chr&gt; | individual &lt;chr&gt; | age &lt;dbl&gt; | sex &lt;chr&gt; | organism part &lt;chr&gt; | developmental stage2 &lt;chr&gt; | organism part2 &lt;chr&gt; | Assay Name &lt;chr&gt; |\n",
       "|---|---|---|---|---|---|---|---|---|---|---|\n",
       "| 5513sTS.Human.Liver.7ypb.Male    | Homo sapiens | normal | school age child | not available |   7 | male   | liver | school age child | liver | 5513sTS.Human.Liver.7ypb.Male    |\n",
       "| 5528sTS.Human.Liver.221dpb.Male  | Homo sapiens | normal | infant           | not available | 221 | male   | liver | infant           | liver | 5528sTS.Human.Liver.221dpb.Male  |\n",
       "| 5536sTS.Human.Liver.29ypb.Male   | Homo sapiens | normal | young adult      | not available |  29 | male   | liver | young adult      | liver | 5536sTS.Human.Liver.29ypb.Male   |\n",
       "| 5544sTS.Human.Liver.15dpb.Female | Homo sapiens | normal | neonate          | not available |  15 | female | liver | neonate          | liver | 5544sTS.Human.Liver.15dpb.Female |\n",
       "| 5548sTS.Human.Liver.15dpb.Male   | Homo sapiens | normal | neonate          | not available |  15 | male   | liver | neonate          | liver | 5548sTS.Human.Liver.15dpb.Male   |\n",
       "| 5551sTS.Human.Liver.39ypb.Male   | Homo sapiens | normal | young adult      | not available |  39 | male   | liver | young adult      | liver | 5551sTS.Human.Liver.39ypb.Male   |\n",
       "| 5552sTS.Human.Liver.271dpb.Male  | Homo sapiens | normal | infant           | not available | 271 | male   | liver | infant           | liver | 5552sTS.Human.Liver.271dpb.Male  |\n",
       "| 5556sTS.Human.Liver.2ypb.Female  | Homo sapiens | normal | toddler          | not available |   2 | female | liver | toddler          | liver | 5556sTS.Human.Liver.2ypb.Female  |\n",
       "| 5563sTS.Human.Liver.39ypb.Male   | Homo sapiens | normal | young adult      | not available |  39 | male   | liver | young adult      | liver | 5563sTS.Human.Liver.39ypb.Male   |\n",
       "| 5575sTS.Human.Liver.17ypb.Male   | Homo sapiens | normal | adolescent       | not available |  17 | male   | liver | adolescent       | liver | 5575sTS.Human.Liver.17ypb.Male   |\n",
       "\n"
      ],
      "text/plain": [
       "   Source Name                      organism     disease developmental stage\n",
       "1  5513sTS.Human.Liver.7ypb.Male    Homo sapiens normal  school age child   \n",
       "2  5528sTS.Human.Liver.221dpb.Male  Homo sapiens normal  infant             \n",
       "3  5536sTS.Human.Liver.29ypb.Male   Homo sapiens normal  young adult        \n",
       "4  5544sTS.Human.Liver.15dpb.Female Homo sapiens normal  neonate            \n",
       "5  5548sTS.Human.Liver.15dpb.Male   Homo sapiens normal  neonate            \n",
       "6  5551sTS.Human.Liver.39ypb.Male   Homo sapiens normal  young adult        \n",
       "7  5552sTS.Human.Liver.271dpb.Male  Homo sapiens normal  infant             \n",
       "8  5556sTS.Human.Liver.2ypb.Female  Homo sapiens normal  toddler            \n",
       "9  5563sTS.Human.Liver.39ypb.Male   Homo sapiens normal  young adult        \n",
       "10 5575sTS.Human.Liver.17ypb.Male   Homo sapiens normal  adolescent         \n",
       "   individual    age sex    organism part developmental stage2 organism part2\n",
       "1  not available   7 male   liver         school age child     liver         \n",
       "2  not available 221 male   liver         infant               liver         \n",
       "3  not available  29 male   liver         young adult          liver         \n",
       "4  not available  15 female liver         neonate              liver         \n",
       "5  not available  15 male   liver         neonate              liver         \n",
       "6  not available  39 male   liver         young adult          liver         \n",
       "7  not available 271 male   liver         infant               liver         \n",
       "8  not available   2 female liver         toddler              liver         \n",
       "9  not available  39 male   liver         young adult          liver         \n",
       "10 not available  17 male   liver         adolescent           liver         \n",
       "   Assay Name                      \n",
       "1  5513sTS.Human.Liver.7ypb.Male   \n",
       "2  5528sTS.Human.Liver.221dpb.Male \n",
       "3  5536sTS.Human.Liver.29ypb.Male  \n",
       "4  5544sTS.Human.Liver.15dpb.Female\n",
       "5  5548sTS.Human.Liver.15dpb.Male  \n",
       "6  5551sTS.Human.Liver.39ypb.Male  \n",
       "7  5552sTS.Human.Liver.271dpb.Male \n",
       "8  5556sTS.Human.Liver.2ypb.Female \n",
       "9  5563sTS.Human.Liver.39ypb.Male  \n",
       "10 5575sTS.Human.Liver.17ypb.Male  "
      ]
     },
     "metadata": {},
     "output_type": "display_data"
    }
   ],
   "source": [
    "#human\n",
    "liver_samples[['hs']] = sample_info$hs[str_detect(`Source Name`, \"iver\") & ! str_detect(`developmental stage`, 'conception')][!age %in% c(58, 55)][1:10]\n",
    "liver_samples[['hs']]"
   ]
  },
  {
   "cell_type": "code",
   "execution_count": 169,
   "id": "47715a49",
   "metadata": {
    "vscode": {
     "languageId": "r"
    }
   },
   "outputs": [
    {
     "data": {
      "text/html": [
       "<table class=\"dataframe\">\n",
       "<caption>A data.table: 10 × 11</caption>\n",
       "<thead>\n",
       "\t<tr><th scope=col>Source Name</th><th scope=col>organism</th><th scope=col>strain</th><th scope=col>genotype</th><th scope=col>organism part</th><th scope=col>developmental stage</th><th scope=col>age</th><th scope=col>sex</th><th scope=col>organism part2</th><th scope=col>developmental stage2</th><th scope=col>Assay Name</th></tr>\n",
       "\t<tr><th scope=col>&lt;chr&gt;</th><th scope=col>&lt;chr&gt;</th><th scope=col>&lt;chr&gt;</th><th scope=col>&lt;chr&gt;</th><th scope=col>&lt;chr&gt;</th><th scope=col>&lt;chr&gt;</th><th scope=col>&lt;dbl&gt;</th><th scope=col>&lt;chr&gt;</th><th scope=col>&lt;chr&gt;</th><th scope=col>&lt;chr&gt;</th><th scope=col>&lt;chr&gt;</th></tr>\n",
       "</thead>\n",
       "<tbody>\n",
       "\t<tr><td>1878sTS.Mouse.Liver.2wpb.Male  </td><td>Mus musculus</td><td>CD-1</td><td>wild type genotype</td><td>liver</td><td>postnatal</td><td>14</td><td>male  </td><td>liver</td><td>postnatal day 14</td><td>1878sTS.Mouse.Liver.2wpb.Male  </td></tr>\n",
       "\t<tr><td>1882sTS.Mouse.Liver.2wpb.Male  </td><td>Mus musculus</td><td>CD-1</td><td>wild type genotype</td><td>liver</td><td>postnatal</td><td>14</td><td>male  </td><td>liver</td><td>postnatal day 14</td><td>1882sTS.Mouse.Liver.2wpb.Male  </td></tr>\n",
       "\t<tr><td>1886sTS.Mouse.Liver.2wpb.Female</td><td>Mus musculus</td><td>CD-1</td><td>wild type genotype</td><td>liver</td><td>postnatal</td><td>14</td><td>female</td><td>liver</td><td>postnatal day 14</td><td>1886sTS.Mouse.Liver.2wpb.Female</td></tr>\n",
       "\t<tr><td>1890sTS.Mouse.Liver.2wpb.Female</td><td>Mus musculus</td><td>CD-1</td><td>wild type genotype</td><td>liver</td><td>postnatal</td><td>14</td><td>female</td><td>liver</td><td>postnatal day 14</td><td>1890sTS.Mouse.Liver.2wpb.Female</td></tr>\n",
       "\t<tr><td>1894sTS.Mouse.Liver.4wpb.Male  </td><td>Mus musculus</td><td>CD-1</td><td>wild type genotype</td><td>liver</td><td>postnatal</td><td>28</td><td>male  </td><td>liver</td><td>postnatal day 28</td><td>1894sTS.Mouse.Liver.4wpb.Male  </td></tr>\n",
       "\t<tr><td>1898sTS.Mouse.Liver.4wpb.Male  </td><td>Mus musculus</td><td>CD-1</td><td>wild type genotype</td><td>liver</td><td>postnatal</td><td>28</td><td>male  </td><td>liver</td><td>postnatal day 28</td><td>1898sTS.Mouse.Liver.4wpb.Male  </td></tr>\n",
       "\t<tr><td>1938sTS.Mouse.Liver.4wpb.Female</td><td>Mus musculus</td><td>CD-1</td><td>wild type genotype</td><td>liver</td><td>postnatal</td><td>28</td><td>female</td><td>liver</td><td>postnatal day 28</td><td>1938sTS.Mouse.Liver.4wpb.Female</td></tr>\n",
       "\t<tr><td>1942sTS.Mouse.Liver.4wpb.Female</td><td>Mus musculus</td><td>CD-1</td><td>wild type genotype</td><td>liver</td><td>postnatal</td><td>28</td><td>female</td><td>liver</td><td>postnatal day 28</td><td>1942sTS.Mouse.Liver.4wpb.Female</td></tr>\n",
       "\t<tr><td>1946sTS.Mouse.Liver.9wpb.Male  </td><td>Mus musculus</td><td>CD-1</td><td>wild type genotype</td><td>liver</td><td>postnatal</td><td>63</td><td>male  </td><td>liver</td><td>postnatal day 63</td><td>1946sTS.Mouse.Liver.9wpb.Male  </td></tr>\n",
       "\t<tr><td>1952sTS.Mouse.Liver.9wpb.Female</td><td>Mus musculus</td><td>CD-1</td><td>wild type genotype</td><td>liver</td><td>postnatal</td><td>63</td><td>female</td><td>liver</td><td>postnatal day 63</td><td>1952sTS.Mouse.Liver.9wpb.Female</td></tr>\n",
       "</tbody>\n",
       "</table>\n"
      ],
      "text/latex": [
       "A data.table: 10 × 11\n",
       "\\begin{tabular}{lllllllllll}\n",
       " Source Name & organism & strain & genotype & organism part & developmental stage & age & sex & organism part2 & developmental stage2 & Assay Name\\\\\n",
       " <chr> & <chr> & <chr> & <chr> & <chr> & <chr> & <dbl> & <chr> & <chr> & <chr> & <chr>\\\\\n",
       "\\hline\n",
       "\t 1878sTS.Mouse.Liver.2wpb.Male   & Mus musculus & CD-1 & wild type genotype & liver & postnatal & 14 & male   & liver & postnatal day 14 & 1878sTS.Mouse.Liver.2wpb.Male  \\\\\n",
       "\t 1882sTS.Mouse.Liver.2wpb.Male   & Mus musculus & CD-1 & wild type genotype & liver & postnatal & 14 & male   & liver & postnatal day 14 & 1882sTS.Mouse.Liver.2wpb.Male  \\\\\n",
       "\t 1886sTS.Mouse.Liver.2wpb.Female & Mus musculus & CD-1 & wild type genotype & liver & postnatal & 14 & female & liver & postnatal day 14 & 1886sTS.Mouse.Liver.2wpb.Female\\\\\n",
       "\t 1890sTS.Mouse.Liver.2wpb.Female & Mus musculus & CD-1 & wild type genotype & liver & postnatal & 14 & female & liver & postnatal day 14 & 1890sTS.Mouse.Liver.2wpb.Female\\\\\n",
       "\t 1894sTS.Mouse.Liver.4wpb.Male   & Mus musculus & CD-1 & wild type genotype & liver & postnatal & 28 & male   & liver & postnatal day 28 & 1894sTS.Mouse.Liver.4wpb.Male  \\\\\n",
       "\t 1898sTS.Mouse.Liver.4wpb.Male   & Mus musculus & CD-1 & wild type genotype & liver & postnatal & 28 & male   & liver & postnatal day 28 & 1898sTS.Mouse.Liver.4wpb.Male  \\\\\n",
       "\t 1938sTS.Mouse.Liver.4wpb.Female & Mus musculus & CD-1 & wild type genotype & liver & postnatal & 28 & female & liver & postnatal day 28 & 1938sTS.Mouse.Liver.4wpb.Female\\\\\n",
       "\t 1942sTS.Mouse.Liver.4wpb.Female & Mus musculus & CD-1 & wild type genotype & liver & postnatal & 28 & female & liver & postnatal day 28 & 1942sTS.Mouse.Liver.4wpb.Female\\\\\n",
       "\t 1946sTS.Mouse.Liver.9wpb.Male   & Mus musculus & CD-1 & wild type genotype & liver & postnatal & 63 & male   & liver & postnatal day 63 & 1946sTS.Mouse.Liver.9wpb.Male  \\\\\n",
       "\t 1952sTS.Mouse.Liver.9wpb.Female & Mus musculus & CD-1 & wild type genotype & liver & postnatal & 63 & female & liver & postnatal day 63 & 1952sTS.Mouse.Liver.9wpb.Female\\\\\n",
       "\\end{tabular}\n"
      ],
      "text/markdown": [
       "\n",
       "A data.table: 10 × 11\n",
       "\n",
       "| Source Name &lt;chr&gt; | organism &lt;chr&gt; | strain &lt;chr&gt; | genotype &lt;chr&gt; | organism part &lt;chr&gt; | developmental stage &lt;chr&gt; | age &lt;dbl&gt; | sex &lt;chr&gt; | organism part2 &lt;chr&gt; | developmental stage2 &lt;chr&gt; | Assay Name &lt;chr&gt; |\n",
       "|---|---|---|---|---|---|---|---|---|---|---|\n",
       "| 1878sTS.Mouse.Liver.2wpb.Male   | Mus musculus | CD-1 | wild type genotype | liver | postnatal | 14 | male   | liver | postnatal day 14 | 1878sTS.Mouse.Liver.2wpb.Male   |\n",
       "| 1882sTS.Mouse.Liver.2wpb.Male   | Mus musculus | CD-1 | wild type genotype | liver | postnatal | 14 | male   | liver | postnatal day 14 | 1882sTS.Mouse.Liver.2wpb.Male   |\n",
       "| 1886sTS.Mouse.Liver.2wpb.Female | Mus musculus | CD-1 | wild type genotype | liver | postnatal | 14 | female | liver | postnatal day 14 | 1886sTS.Mouse.Liver.2wpb.Female |\n",
       "| 1890sTS.Mouse.Liver.2wpb.Female | Mus musculus | CD-1 | wild type genotype | liver | postnatal | 14 | female | liver | postnatal day 14 | 1890sTS.Mouse.Liver.2wpb.Female |\n",
       "| 1894sTS.Mouse.Liver.4wpb.Male   | Mus musculus | CD-1 | wild type genotype | liver | postnatal | 28 | male   | liver | postnatal day 28 | 1894sTS.Mouse.Liver.4wpb.Male   |\n",
       "| 1898sTS.Mouse.Liver.4wpb.Male   | Mus musculus | CD-1 | wild type genotype | liver | postnatal | 28 | male   | liver | postnatal day 28 | 1898sTS.Mouse.Liver.4wpb.Male   |\n",
       "| 1938sTS.Mouse.Liver.4wpb.Female | Mus musculus | CD-1 | wild type genotype | liver | postnatal | 28 | female | liver | postnatal day 28 | 1938sTS.Mouse.Liver.4wpb.Female |\n",
       "| 1942sTS.Mouse.Liver.4wpb.Female | Mus musculus | CD-1 | wild type genotype | liver | postnatal | 28 | female | liver | postnatal day 28 | 1942sTS.Mouse.Liver.4wpb.Female |\n",
       "| 1946sTS.Mouse.Liver.9wpb.Male   | Mus musculus | CD-1 | wild type genotype | liver | postnatal | 63 | male   | liver | postnatal day 63 | 1946sTS.Mouse.Liver.9wpb.Male   |\n",
       "| 1952sTS.Mouse.Liver.9wpb.Female | Mus musculus | CD-1 | wild type genotype | liver | postnatal | 63 | female | liver | postnatal day 63 | 1952sTS.Mouse.Liver.9wpb.Female |\n",
       "\n"
      ],
      "text/plain": [
       "   Source Name                     organism     strain genotype          \n",
       "1  1878sTS.Mouse.Liver.2wpb.Male   Mus musculus CD-1   wild type genotype\n",
       "2  1882sTS.Mouse.Liver.2wpb.Male   Mus musculus CD-1   wild type genotype\n",
       "3  1886sTS.Mouse.Liver.2wpb.Female Mus musculus CD-1   wild type genotype\n",
       "4  1890sTS.Mouse.Liver.2wpb.Female Mus musculus CD-1   wild type genotype\n",
       "5  1894sTS.Mouse.Liver.4wpb.Male   Mus musculus CD-1   wild type genotype\n",
       "6  1898sTS.Mouse.Liver.4wpb.Male   Mus musculus CD-1   wild type genotype\n",
       "7  1938sTS.Mouse.Liver.4wpb.Female Mus musculus CD-1   wild type genotype\n",
       "8  1942sTS.Mouse.Liver.4wpb.Female Mus musculus CD-1   wild type genotype\n",
       "9  1946sTS.Mouse.Liver.9wpb.Male   Mus musculus CD-1   wild type genotype\n",
       "10 1952sTS.Mouse.Liver.9wpb.Female Mus musculus CD-1   wild type genotype\n",
       "   organism part developmental stage age sex    organism part2\n",
       "1  liver         postnatal           14  male   liver         \n",
       "2  liver         postnatal           14  male   liver         \n",
       "3  liver         postnatal           14  female liver         \n",
       "4  liver         postnatal           14  female liver         \n",
       "5  liver         postnatal           28  male   liver         \n",
       "6  liver         postnatal           28  male   liver         \n",
       "7  liver         postnatal           28  female liver         \n",
       "8  liver         postnatal           28  female liver         \n",
       "9  liver         postnatal           63  male   liver         \n",
       "10 liver         postnatal           63  female liver         \n",
       "   developmental stage2 Assay Name                     \n",
       "1  postnatal day 14     1878sTS.Mouse.Liver.2wpb.Male  \n",
       "2  postnatal day 14     1882sTS.Mouse.Liver.2wpb.Male  \n",
       "3  postnatal day 14     1886sTS.Mouse.Liver.2wpb.Female\n",
       "4  postnatal day 14     1890sTS.Mouse.Liver.2wpb.Female\n",
       "5  postnatal day 28     1894sTS.Mouse.Liver.4wpb.Male  \n",
       "6  postnatal day 28     1898sTS.Mouse.Liver.4wpb.Male  \n",
       "7  postnatal day 28     1938sTS.Mouse.Liver.4wpb.Female\n",
       "8  postnatal day 28     1942sTS.Mouse.Liver.4wpb.Female\n",
       "9  postnatal day 63     1946sTS.Mouse.Liver.9wpb.Male  \n",
       "10 postnatal day 63     1952sTS.Mouse.Liver.9wpb.Female"
      ]
     },
     "metadata": {},
     "output_type": "display_data"
    }
   ],
   "source": [
    "#mm\n",
    "liver_samples[['mm']] = sample_info$mm[str_detect(`Source Name`, \"iver\") & str_detect(`developmental stage`, 'postnatal')][age > 3][1:10]\n",
    "liver_samples[['mm']]"
   ]
  },
  {
   "cell_type": "code",
   "execution_count": 170,
   "id": "83ad4ec6",
   "metadata": {
    "vscode": {
     "languageId": "r"
    }
   },
   "outputs": [
    {
     "data": {
      "text/html": [
       "<table class=\"dataframe\">\n",
       "<caption>A data.table: 10 × 11</caption>\n",
       "<thead>\n",
       "\t<tr><th scope=col>Source Name</th><th scope=col>organism</th><th scope=col>strain</th><th scope=col>genotype</th><th scope=col>developmental stage</th><th scope=col>age</th><th scope=col>sex</th><th scope=col>organism part</th><th scope=col>developmental stage2</th><th scope=col>organism part2</th><th scope=col>Assay Name</th></tr>\n",
       "\t<tr><th scope=col>&lt;chr&gt;</th><th scope=col>&lt;chr&gt;</th><th scope=col>&lt;chr&gt;</th><th scope=col>&lt;chr&gt;</th><th scope=col>&lt;chr&gt;</th><th scope=col>&lt;dbl&gt;</th><th scope=col>&lt;chr&gt;</th><th scope=col>&lt;chr&gt;</th><th scope=col>&lt;chr&gt;</th><th scope=col>&lt;chr&gt;</th><th scope=col>&lt;chr&gt;</th></tr>\n",
       "</thead>\n",
       "<tbody>\n",
       "\t<tr><td>1969sTS.Rat.Liver.6wpb.Male   </td><td>Rattus norvegicus</td><td>Holtzman SD</td><td>wild type genotype</td><td>postnatal</td><td> 42</td><td>male  </td><td>liver</td><td>postnatal day 42 </td><td>liver</td><td>1969sTS.Rat.Liver.6wpb.Male   </td></tr>\n",
       "\t<tr><td>1973sTS.Rat.Liver.6wpb.Male   </td><td>Rattus norvegicus</td><td>Holtzman SD</td><td>wild type genotype</td><td>postnatal</td><td> 42</td><td>male  </td><td>liver</td><td>postnatal day 42 </td><td>liver</td><td>1973sTS.Rat.Liver.6wpb.Male   </td></tr>\n",
       "\t<tr><td>2287sTS.Rat.Liver.6wpb.Female </td><td>Rattus norvegicus</td><td>Holtzman SD</td><td>wild type genotype</td><td>postnatal</td><td> 42</td><td>female</td><td>liver</td><td>postnatal day 42 </td><td>liver</td><td>2287sTS.Rat.Liver.6wpb.Female </td></tr>\n",
       "\t<tr><td>2351sTS.Rat.Liver.16wpb.Female</td><td>Rattus norvegicus</td><td>Holtzman SD</td><td>wild type genotype</td><td>postnatal</td><td>112</td><td>female</td><td>liver</td><td>postnatal day 112</td><td>liver</td><td>2351sTS.Rat.Liver.16wpb.Female</td></tr>\n",
       "\t<tr><td>2355sTS.Rat.Liver.16wpb.Female</td><td>Rattus norvegicus</td><td>Holtzman SD</td><td>wild type genotype</td><td>postnatal</td><td>112</td><td>female</td><td>liver</td><td>postnatal day 112</td><td>liver</td><td>2355sTS.Rat.Liver.16wpb.Female</td></tr>\n",
       "\t<tr><td>2359sTS.Rat.Liver.16wpb.Male  </td><td>Rattus norvegicus</td><td>Holtzman SD</td><td>wild type genotype</td><td>postnatal</td><td>112</td><td>male  </td><td>liver</td><td>postnatal day 112</td><td>liver</td><td>2359sTS.Rat.Liver.16wpb.Male  </td></tr>\n",
       "\t<tr><td>2366sTS.Rat.Liver.6wpb.Female </td><td>Rattus norvegicus</td><td>Holtzman SD</td><td>wild type genotype</td><td>postnatal</td><td> 42</td><td>female</td><td>liver</td><td>postnatal day 42 </td><td>liver</td><td>2366sTS.Rat.Liver.6wpb.Female </td></tr>\n",
       "\t<tr><td>2370sTS.Rat.Liver.16wpb.Male  </td><td>Rattus norvegicus</td><td>Holtzman SD</td><td>wild type genotype</td><td>postnatal</td><td>112</td><td>male  </td><td>liver</td><td>postnatal day 112</td><td>liver</td><td>2370sTS.Rat.Liver.16wpb.Male  </td></tr>\n",
       "\t<tr><td>2521sTS.Rat.Liver.1wpb.Female </td><td>Rattus norvegicus</td><td>Holtzman SD</td><td>wild type genotype</td><td>postnatal</td><td>  7</td><td>female</td><td>liver</td><td>postnatal day 7  </td><td>liver</td><td>2521sTS.Rat.Liver.1wpb.Female </td></tr>\n",
       "\t<tr><td>2522sTS.Rat.Liver.1wpb.Female </td><td>Rattus norvegicus</td><td>Holtzman SD</td><td>wild type genotype</td><td>postnatal</td><td>  7</td><td>female</td><td>liver</td><td>postnatal day 7  </td><td>liver</td><td>2522sTS.Rat.Liver.1wpb.Female </td></tr>\n",
       "</tbody>\n",
       "</table>\n"
      ],
      "text/latex": [
       "A data.table: 10 × 11\n",
       "\\begin{tabular}{lllllllllll}\n",
       " Source Name & organism & strain & genotype & developmental stage & age & sex & organism part & developmental stage2 & organism part2 & Assay Name\\\\\n",
       " <chr> & <chr> & <chr> & <chr> & <chr> & <dbl> & <chr> & <chr> & <chr> & <chr> & <chr>\\\\\n",
       "\\hline\n",
       "\t 1969sTS.Rat.Liver.6wpb.Male    & Rattus norvegicus & Holtzman SD & wild type genotype & postnatal &  42 & male   & liver & postnatal day 42  & liver & 1969sTS.Rat.Liver.6wpb.Male   \\\\\n",
       "\t 1973sTS.Rat.Liver.6wpb.Male    & Rattus norvegicus & Holtzman SD & wild type genotype & postnatal &  42 & male   & liver & postnatal day 42  & liver & 1973sTS.Rat.Liver.6wpb.Male   \\\\\n",
       "\t 2287sTS.Rat.Liver.6wpb.Female  & Rattus norvegicus & Holtzman SD & wild type genotype & postnatal &  42 & female & liver & postnatal day 42  & liver & 2287sTS.Rat.Liver.6wpb.Female \\\\\n",
       "\t 2351sTS.Rat.Liver.16wpb.Female & Rattus norvegicus & Holtzman SD & wild type genotype & postnatal & 112 & female & liver & postnatal day 112 & liver & 2351sTS.Rat.Liver.16wpb.Female\\\\\n",
       "\t 2355sTS.Rat.Liver.16wpb.Female & Rattus norvegicus & Holtzman SD & wild type genotype & postnatal & 112 & female & liver & postnatal day 112 & liver & 2355sTS.Rat.Liver.16wpb.Female\\\\\n",
       "\t 2359sTS.Rat.Liver.16wpb.Male   & Rattus norvegicus & Holtzman SD & wild type genotype & postnatal & 112 & male   & liver & postnatal day 112 & liver & 2359sTS.Rat.Liver.16wpb.Male  \\\\\n",
       "\t 2366sTS.Rat.Liver.6wpb.Female  & Rattus norvegicus & Holtzman SD & wild type genotype & postnatal &  42 & female & liver & postnatal day 42  & liver & 2366sTS.Rat.Liver.6wpb.Female \\\\\n",
       "\t 2370sTS.Rat.Liver.16wpb.Male   & Rattus norvegicus & Holtzman SD & wild type genotype & postnatal & 112 & male   & liver & postnatal day 112 & liver & 2370sTS.Rat.Liver.16wpb.Male  \\\\\n",
       "\t 2521sTS.Rat.Liver.1wpb.Female  & Rattus norvegicus & Holtzman SD & wild type genotype & postnatal &   7 & female & liver & postnatal day 7   & liver & 2521sTS.Rat.Liver.1wpb.Female \\\\\n",
       "\t 2522sTS.Rat.Liver.1wpb.Female  & Rattus norvegicus & Holtzman SD & wild type genotype & postnatal &   7 & female & liver & postnatal day 7   & liver & 2522sTS.Rat.Liver.1wpb.Female \\\\\n",
       "\\end{tabular}\n"
      ],
      "text/markdown": [
       "\n",
       "A data.table: 10 × 11\n",
       "\n",
       "| Source Name &lt;chr&gt; | organism &lt;chr&gt; | strain &lt;chr&gt; | genotype &lt;chr&gt; | developmental stage &lt;chr&gt; | age &lt;dbl&gt; | sex &lt;chr&gt; | organism part &lt;chr&gt; | developmental stage2 &lt;chr&gt; | organism part2 &lt;chr&gt; | Assay Name &lt;chr&gt; |\n",
       "|---|---|---|---|---|---|---|---|---|---|---|\n",
       "| 1969sTS.Rat.Liver.6wpb.Male    | Rattus norvegicus | Holtzman SD | wild type genotype | postnatal |  42 | male   | liver | postnatal day 42  | liver | 1969sTS.Rat.Liver.6wpb.Male    |\n",
       "| 1973sTS.Rat.Liver.6wpb.Male    | Rattus norvegicus | Holtzman SD | wild type genotype | postnatal |  42 | male   | liver | postnatal day 42  | liver | 1973sTS.Rat.Liver.6wpb.Male    |\n",
       "| 2287sTS.Rat.Liver.6wpb.Female  | Rattus norvegicus | Holtzman SD | wild type genotype | postnatal |  42 | female | liver | postnatal day 42  | liver | 2287sTS.Rat.Liver.6wpb.Female  |\n",
       "| 2351sTS.Rat.Liver.16wpb.Female | Rattus norvegicus | Holtzman SD | wild type genotype | postnatal | 112 | female | liver | postnatal day 112 | liver | 2351sTS.Rat.Liver.16wpb.Female |\n",
       "| 2355sTS.Rat.Liver.16wpb.Female | Rattus norvegicus | Holtzman SD | wild type genotype | postnatal | 112 | female | liver | postnatal day 112 | liver | 2355sTS.Rat.Liver.16wpb.Female |\n",
       "| 2359sTS.Rat.Liver.16wpb.Male   | Rattus norvegicus | Holtzman SD | wild type genotype | postnatal | 112 | male   | liver | postnatal day 112 | liver | 2359sTS.Rat.Liver.16wpb.Male   |\n",
       "| 2366sTS.Rat.Liver.6wpb.Female  | Rattus norvegicus | Holtzman SD | wild type genotype | postnatal |  42 | female | liver | postnatal day 42  | liver | 2366sTS.Rat.Liver.6wpb.Female  |\n",
       "| 2370sTS.Rat.Liver.16wpb.Male   | Rattus norvegicus | Holtzman SD | wild type genotype | postnatal | 112 | male   | liver | postnatal day 112 | liver | 2370sTS.Rat.Liver.16wpb.Male   |\n",
       "| 2521sTS.Rat.Liver.1wpb.Female  | Rattus norvegicus | Holtzman SD | wild type genotype | postnatal |   7 | female | liver | postnatal day 7   | liver | 2521sTS.Rat.Liver.1wpb.Female  |\n",
       "| 2522sTS.Rat.Liver.1wpb.Female  | Rattus norvegicus | Holtzman SD | wild type genotype | postnatal |   7 | female | liver | postnatal day 7   | liver | 2522sTS.Rat.Liver.1wpb.Female  |\n",
       "\n"
      ],
      "text/plain": [
       "   Source Name                    organism          strain     \n",
       "1  1969sTS.Rat.Liver.6wpb.Male    Rattus norvegicus Holtzman SD\n",
       "2  1973sTS.Rat.Liver.6wpb.Male    Rattus norvegicus Holtzman SD\n",
       "3  2287sTS.Rat.Liver.6wpb.Female  Rattus norvegicus Holtzman SD\n",
       "4  2351sTS.Rat.Liver.16wpb.Female Rattus norvegicus Holtzman SD\n",
       "5  2355sTS.Rat.Liver.16wpb.Female Rattus norvegicus Holtzman SD\n",
       "6  2359sTS.Rat.Liver.16wpb.Male   Rattus norvegicus Holtzman SD\n",
       "7  2366sTS.Rat.Liver.6wpb.Female  Rattus norvegicus Holtzman SD\n",
       "8  2370sTS.Rat.Liver.16wpb.Male   Rattus norvegicus Holtzman SD\n",
       "9  2521sTS.Rat.Liver.1wpb.Female  Rattus norvegicus Holtzman SD\n",
       "10 2522sTS.Rat.Liver.1wpb.Female  Rattus norvegicus Holtzman SD\n",
       "   genotype           developmental stage age sex    organism part\n",
       "1  wild type genotype postnatal            42 male   liver        \n",
       "2  wild type genotype postnatal            42 male   liver        \n",
       "3  wild type genotype postnatal            42 female liver        \n",
       "4  wild type genotype postnatal           112 female liver        \n",
       "5  wild type genotype postnatal           112 female liver        \n",
       "6  wild type genotype postnatal           112 male   liver        \n",
       "7  wild type genotype postnatal            42 female liver        \n",
       "8  wild type genotype postnatal           112 male   liver        \n",
       "9  wild type genotype postnatal             7 female liver        \n",
       "10 wild type genotype postnatal             7 female liver        \n",
       "   developmental stage2 organism part2 Assay Name                    \n",
       "1  postnatal day 42     liver          1969sTS.Rat.Liver.6wpb.Male   \n",
       "2  postnatal day 42     liver          1973sTS.Rat.Liver.6wpb.Male   \n",
       "3  postnatal day 42     liver          2287sTS.Rat.Liver.6wpb.Female \n",
       "4  postnatal day 112    liver          2351sTS.Rat.Liver.16wpb.Female\n",
       "5  postnatal day 112    liver          2355sTS.Rat.Liver.16wpb.Female\n",
       "6  postnatal day 112    liver          2359sTS.Rat.Liver.16wpb.Male  \n",
       "7  postnatal day 42     liver          2366sTS.Rat.Liver.6wpb.Female \n",
       "8  postnatal day 112    liver          2370sTS.Rat.Liver.16wpb.Male  \n",
       "9  postnatal day 7      liver          2521sTS.Rat.Liver.1wpb.Female \n",
       "10 postnatal day 7      liver          2522sTS.Rat.Liver.1wpb.Female "
      ]
     },
     "metadata": {},
     "output_type": "display_data"
    }
   ],
   "source": [
    "#rat\n",
    "liver_samples[['rat']] = sample_info$rat[str_detect(`Source Name`, \"iver\") & str_detect(`developmental stage`, 'postnatal')][age > 3][1:10]\n",
    "liver_samples[['rat']]"
   ]
  },
  {
   "cell_type": "code",
   "execution_count": 174,
   "id": "542018d9",
   "metadata": {
    "vscode": {
     "languageId": "r"
    }
   },
   "outputs": [
    {
     "data": {
      "text/html": [
       "<table class=\"dataframe\">\n",
       "<caption>A data.table: 10 × 10</caption>\n",
       "<thead>\n",
       "\t<tr><th scope=col>Source Name</th><th scope=col>organism</th><th scope=col>genotype</th><th scope=col>developmental stage</th><th scope=col>age</th><th scope=col>organism part</th><th scope=col>sex</th><th scope=col>developmental stage2</th><th scope=col>organism part2</th><th scope=col>Assay Name</th></tr>\n",
       "\t<tr><th scope=col>&lt;chr&gt;</th><th scope=col>&lt;chr&gt;</th><th scope=col>&lt;chr&gt;</th><th scope=col>&lt;chr&gt;</th><th scope=col>&lt;chr&gt;</th><th scope=col>&lt;chr&gt;</th><th scope=col>&lt;chr&gt;</th><th scope=col>&lt;chr&gt;</th><th scope=col>&lt;chr&gt;</th><th scope=col>&lt;chr&gt;</th></tr>\n",
       "</thead>\n",
       "<tbody>\n",
       "\t<tr><td>5395sTS.Macaque.Liver.22ypb.Male </td><td>Macaca mulatta</td><td>wild type genotype</td><td>postnatal</td><td>20 to 26</td><td>liver</td><td>male  </td><td>20 to 26 years postnatal</td><td>liver</td><td>5395sTS.Macaque.Liver.22ypb.Male </td></tr>\n",
       "\t<tr><td>5404sTS.Macaque.Liver.21ypb.Male </td><td>Macaca mulatta</td><td>wild type genotype</td><td>postnatal</td><td>20 to 26</td><td>liver</td><td>male  </td><td>20 to 26 years postnatal</td><td>liver</td><td>5404sTS.Macaque.Liver.21ypb.Male </td></tr>\n",
       "\t<tr><td>5416sTS.Macaque.Liver.15ypb.Male </td><td>Macaca mulatta</td><td>wild type genotype</td><td>postnatal</td><td>14 to 15</td><td>liver</td><td>male  </td><td>14 to 15 years postnatal</td><td>liver</td><td>5416sTS.Macaque.Liver.15ypb.Male </td></tr>\n",
       "\t<tr><td>5425sTS.Macaque.Liver.9ypb.Male  </td><td>Macaca mulatta</td><td>wild type genotype</td><td>postnatal</td><td>9       </td><td>liver</td><td>male  </td><td>9 years postnatal       </td><td>liver</td><td>5425sTS.Macaque.Liver.9ypb.Male  </td></tr>\n",
       "\t<tr><td>5463sTS.Macaque.Liver.153dpb.Male</td><td>Macaca mulatta</td><td>wild type genotype</td><td>postnatal</td><td>6       </td><td>liver</td><td>male  </td><td>6 months postnatal      </td><td>liver</td><td>5463sTS.Macaque.Liver.153dpb.Male</td></tr>\n",
       "\t<tr><td>5482sTSm.Macaque.Liver.14ypb.Male</td><td>Macaca mulatta</td><td>wild type genotype</td><td>postnatal</td><td>14 to 15</td><td>liver</td><td>male  </td><td>14 to 15 years postnatal</td><td>liver</td><td>5482sTSm.Macaque.Liver.14ypb.Male</td></tr>\n",
       "\t<tr><td>5993sTS.Macaque.Liver.9ypb.Male  </td><td>Macaca mulatta</td><td>wild type genotype</td><td>postnatal</td><td>9       </td><td>liver</td><td>male  </td><td>9 years postnatal       </td><td>liver</td><td>5993sTS.Macaque.Liver.9ypb.Male  </td></tr>\n",
       "\t<tr><td>6059sTS.Macaque.Liver.6mpb.Male  </td><td>Macaca mulatta</td><td>wild type genotype</td><td>postnatal</td><td>6       </td><td>liver</td><td>male  </td><td>6 months postnatal      </td><td>liver</td><td>6059sTS.Macaque.Liver.6mpb.Male  </td></tr>\n",
       "\t<tr><td>6064sTS.Macaque.Liver.6mpb.Male  </td><td>Macaca mulatta</td><td>wild type genotype</td><td>postnatal</td><td>6       </td><td>liver</td><td>male  </td><td>6 months postnatal      </td><td>liver</td><td>6064sTS.Macaque.Liver.6mpb.Male  </td></tr>\n",
       "\t<tr><td>6086sTS.Macaque.Liver.8ypb.Female</td><td>Macaca mulatta</td><td>wild type genotype</td><td>postnatal</td><td>8       </td><td>liver</td><td>female</td><td>8 years postnatal       </td><td>liver</td><td>6086sTS.Macaque.Liver.8ypb.Female</td></tr>\n",
       "</tbody>\n",
       "</table>\n"
      ],
      "text/latex": [
       "A data.table: 10 × 10\n",
       "\\begin{tabular}{llllllllll}\n",
       " Source Name & organism & genotype & developmental stage & age & organism part & sex & developmental stage2 & organism part2 & Assay Name\\\\\n",
       " <chr> & <chr> & <chr> & <chr> & <chr> & <chr> & <chr> & <chr> & <chr> & <chr>\\\\\n",
       "\\hline\n",
       "\t 5395sTS.Macaque.Liver.22ypb.Male  & Macaca mulatta & wild type genotype & postnatal & 20 to 26 & liver & male   & 20 to 26 years postnatal & liver & 5395sTS.Macaque.Liver.22ypb.Male \\\\\n",
       "\t 5404sTS.Macaque.Liver.21ypb.Male  & Macaca mulatta & wild type genotype & postnatal & 20 to 26 & liver & male   & 20 to 26 years postnatal & liver & 5404sTS.Macaque.Liver.21ypb.Male \\\\\n",
       "\t 5416sTS.Macaque.Liver.15ypb.Male  & Macaca mulatta & wild type genotype & postnatal & 14 to 15 & liver & male   & 14 to 15 years postnatal & liver & 5416sTS.Macaque.Liver.15ypb.Male \\\\\n",
       "\t 5425sTS.Macaque.Liver.9ypb.Male   & Macaca mulatta & wild type genotype & postnatal & 9        & liver & male   & 9 years postnatal        & liver & 5425sTS.Macaque.Liver.9ypb.Male  \\\\\n",
       "\t 5463sTS.Macaque.Liver.153dpb.Male & Macaca mulatta & wild type genotype & postnatal & 6        & liver & male   & 6 months postnatal       & liver & 5463sTS.Macaque.Liver.153dpb.Male\\\\\n",
       "\t 5482sTSm.Macaque.Liver.14ypb.Male & Macaca mulatta & wild type genotype & postnatal & 14 to 15 & liver & male   & 14 to 15 years postnatal & liver & 5482sTSm.Macaque.Liver.14ypb.Male\\\\\n",
       "\t 5993sTS.Macaque.Liver.9ypb.Male   & Macaca mulatta & wild type genotype & postnatal & 9        & liver & male   & 9 years postnatal        & liver & 5993sTS.Macaque.Liver.9ypb.Male  \\\\\n",
       "\t 6059sTS.Macaque.Liver.6mpb.Male   & Macaca mulatta & wild type genotype & postnatal & 6        & liver & male   & 6 months postnatal       & liver & 6059sTS.Macaque.Liver.6mpb.Male  \\\\\n",
       "\t 6064sTS.Macaque.Liver.6mpb.Male   & Macaca mulatta & wild type genotype & postnatal & 6        & liver & male   & 6 months postnatal       & liver & 6064sTS.Macaque.Liver.6mpb.Male  \\\\\n",
       "\t 6086sTS.Macaque.Liver.8ypb.Female & Macaca mulatta & wild type genotype & postnatal & 8        & liver & female & 8 years postnatal        & liver & 6086sTS.Macaque.Liver.8ypb.Female\\\\\n",
       "\\end{tabular}\n"
      ],
      "text/markdown": [
       "\n",
       "A data.table: 10 × 10\n",
       "\n",
       "| Source Name &lt;chr&gt; | organism &lt;chr&gt; | genotype &lt;chr&gt; | developmental stage &lt;chr&gt; | age &lt;chr&gt; | organism part &lt;chr&gt; | sex &lt;chr&gt; | developmental stage2 &lt;chr&gt; | organism part2 &lt;chr&gt; | Assay Name &lt;chr&gt; |\n",
       "|---|---|---|---|---|---|---|---|---|---|\n",
       "| 5395sTS.Macaque.Liver.22ypb.Male  | Macaca mulatta | wild type genotype | postnatal | 20 to 26 | liver | male   | 20 to 26 years postnatal | liver | 5395sTS.Macaque.Liver.22ypb.Male  |\n",
       "| 5404sTS.Macaque.Liver.21ypb.Male  | Macaca mulatta | wild type genotype | postnatal | 20 to 26 | liver | male   | 20 to 26 years postnatal | liver | 5404sTS.Macaque.Liver.21ypb.Male  |\n",
       "| 5416sTS.Macaque.Liver.15ypb.Male  | Macaca mulatta | wild type genotype | postnatal | 14 to 15 | liver | male   | 14 to 15 years postnatal | liver | 5416sTS.Macaque.Liver.15ypb.Male  |\n",
       "| 5425sTS.Macaque.Liver.9ypb.Male   | Macaca mulatta | wild type genotype | postnatal | 9        | liver | male   | 9 years postnatal        | liver | 5425sTS.Macaque.Liver.9ypb.Male   |\n",
       "| 5463sTS.Macaque.Liver.153dpb.Male | Macaca mulatta | wild type genotype | postnatal | 6        | liver | male   | 6 months postnatal       | liver | 5463sTS.Macaque.Liver.153dpb.Male |\n",
       "| 5482sTSm.Macaque.Liver.14ypb.Male | Macaca mulatta | wild type genotype | postnatal | 14 to 15 | liver | male   | 14 to 15 years postnatal | liver | 5482sTSm.Macaque.Liver.14ypb.Male |\n",
       "| 5993sTS.Macaque.Liver.9ypb.Male   | Macaca mulatta | wild type genotype | postnatal | 9        | liver | male   | 9 years postnatal        | liver | 5993sTS.Macaque.Liver.9ypb.Male   |\n",
       "| 6059sTS.Macaque.Liver.6mpb.Male   | Macaca mulatta | wild type genotype | postnatal | 6        | liver | male   | 6 months postnatal       | liver | 6059sTS.Macaque.Liver.6mpb.Male   |\n",
       "| 6064sTS.Macaque.Liver.6mpb.Male   | Macaca mulatta | wild type genotype | postnatal | 6        | liver | male   | 6 months postnatal       | liver | 6064sTS.Macaque.Liver.6mpb.Male   |\n",
       "| 6086sTS.Macaque.Liver.8ypb.Female | Macaca mulatta | wild type genotype | postnatal | 8        | liver | female | 8 years postnatal        | liver | 6086sTS.Macaque.Liver.8ypb.Female |\n",
       "\n"
      ],
      "text/plain": [
       "   Source Name                       organism       genotype          \n",
       "1  5395sTS.Macaque.Liver.22ypb.Male  Macaca mulatta wild type genotype\n",
       "2  5404sTS.Macaque.Liver.21ypb.Male  Macaca mulatta wild type genotype\n",
       "3  5416sTS.Macaque.Liver.15ypb.Male  Macaca mulatta wild type genotype\n",
       "4  5425sTS.Macaque.Liver.9ypb.Male   Macaca mulatta wild type genotype\n",
       "5  5463sTS.Macaque.Liver.153dpb.Male Macaca mulatta wild type genotype\n",
       "6  5482sTSm.Macaque.Liver.14ypb.Male Macaca mulatta wild type genotype\n",
       "7  5993sTS.Macaque.Liver.9ypb.Male   Macaca mulatta wild type genotype\n",
       "8  6059sTS.Macaque.Liver.6mpb.Male   Macaca mulatta wild type genotype\n",
       "9  6064sTS.Macaque.Liver.6mpb.Male   Macaca mulatta wild type genotype\n",
       "10 6086sTS.Macaque.Liver.8ypb.Female Macaca mulatta wild type genotype\n",
       "   developmental stage age      organism part sex    developmental stage2    \n",
       "1  postnatal           20 to 26 liver         male   20 to 26 years postnatal\n",
       "2  postnatal           20 to 26 liver         male   20 to 26 years postnatal\n",
       "3  postnatal           14 to 15 liver         male   14 to 15 years postnatal\n",
       "4  postnatal           9        liver         male   9 years postnatal       \n",
       "5  postnatal           6        liver         male   6 months postnatal      \n",
       "6  postnatal           14 to 15 liver         male   14 to 15 years postnatal\n",
       "7  postnatal           9        liver         male   9 years postnatal       \n",
       "8  postnatal           6        liver         male   6 months postnatal      \n",
       "9  postnatal           6        liver         male   6 months postnatal      \n",
       "10 postnatal           8        liver         female 8 years postnatal       \n",
       "   organism part2 Assay Name                       \n",
       "1  liver          5395sTS.Macaque.Liver.22ypb.Male \n",
       "2  liver          5404sTS.Macaque.Liver.21ypb.Male \n",
       "3  liver          5416sTS.Macaque.Liver.15ypb.Male \n",
       "4  liver          5425sTS.Macaque.Liver.9ypb.Male  \n",
       "5  liver          5463sTS.Macaque.Liver.153dpb.Male\n",
       "6  liver          5482sTSm.Macaque.Liver.14ypb.Male\n",
       "7  liver          5993sTS.Macaque.Liver.9ypb.Male  \n",
       "8  liver          6059sTS.Macaque.Liver.6mpb.Male  \n",
       "9  liver          6064sTS.Macaque.Liver.6mpb.Male  \n",
       "10 liver          6086sTS.Macaque.Liver.8ypb.Female"
      ]
     },
     "metadata": {},
     "output_type": "display_data"
    }
   ],
   "source": [
    "#rmac\n",
    "liver_samples[['rmac']] = sample_info$rmac[str_detect(`Source Name`, \"iver\") & str_detect(`developmental stage`, 'postnatal')][! age %in% c('0', '1', '3')][1:10]\n",
    "liver_samples[['rmac']]"
   ]
  },
  {
   "cell_type": "markdown",
   "id": "682682a0",
   "metadata": {},
   "source": [
    "## Select Ovary"
   ]
  },
  {
   "cell_type": "code",
   "execution_count": 175,
   "id": "b941ab76",
   "metadata": {
    "vscode": {
     "languageId": "r"
    }
   },
   "outputs": [],
   "source": [
    "ovary_samples = list(\n",
    "  'hs' = list(),\n",
    "  'mm' = list(),\n",
    "  'rat' = list(),\n",
    "  'rmac' = list()\n",
    ")"
   ]
  },
  {
   "cell_type": "code",
   "execution_count": 179,
   "id": "5213d068",
   "metadata": {
    "vscode": {
     "languageId": "r"
    }
   },
   "outputs": [
    {
     "data": {
      "text/html": [
       "<table class=\"dataframe\">\n",
       "<caption>A data.table: 10 × 11</caption>\n",
       "<thead>\n",
       "\t<tr><th scope=col>Source Name</th><th scope=col>organism</th><th scope=col>disease</th><th scope=col>developmental stage</th><th scope=col>individual</th><th scope=col>age</th><th scope=col>sex</th><th scope=col>organism part</th><th scope=col>developmental stage2</th><th scope=col>organism part2</th><th scope=col>Assay Name</th></tr>\n",
       "\t<tr><th scope=col>&lt;chr&gt;</th><th scope=col>&lt;chr&gt;</th><th scope=col>&lt;chr&gt;</th><th scope=col>&lt;chr&gt;</th><th scope=col>&lt;chr&gt;</th><th scope=col>&lt;dbl&gt;</th><th scope=col>&lt;chr&gt;</th><th scope=col>&lt;chr&gt;</th><th scope=col>&lt;chr&gt;</th><th scope=col>&lt;chr&gt;</th><th scope=col>&lt;chr&gt;</th></tr>\n",
       "</thead>\n",
       "<tbody>\n",
       "\t<tr><td>5674sTS.Human.Ovary.18w.Female</td><td>Homo sapiens</td><td>normal</td><td>18 week post conception</td><td>12441</td><td>18</td><td>female</td><td>ovary</td><td>18 week post conception</td><td>ovary</td><td>5674sTS.Human.Ovary.18w.Female</td></tr>\n",
       "\t<tr><td>5949sTS.Human.Ovary.18w.Female</td><td>Homo sapiens</td><td>normal</td><td>18 week post conception</td><td>12663</td><td>18</td><td>female</td><td>ovary</td><td>18 week post conception</td><td>ovary</td><td>5949sTS.Human.Ovary.18w.Female</td></tr>\n",
       "\t<tr><td>5673sTS.Human.Ovary.16w.Female</td><td>Homo sapiens</td><td>normal</td><td>16 week post conception</td><td>12410</td><td>16</td><td>female</td><td>ovary</td><td>16 week post conception</td><td>ovary</td><td>5673sTS.Human.Ovary.16w.Female</td></tr>\n",
       "\t<tr><td>5944sTS.Human.Ovary.13w.Female</td><td>Homo sapiens</td><td>normal</td><td>13 week post conception</td><td>12760</td><td>13</td><td>female</td><td>ovary</td><td>13 week post conception</td><td>ovary</td><td>5944sTS.Human.Ovary.13w.Female</td></tr>\n",
       "\t<tr><td>3774sTS.Human.Ovary.12w.Female</td><td>Homo sapiens</td><td>normal</td><td>12 week post conception</td><td>1558 </td><td>12</td><td>female</td><td>ovary</td><td>12 week post conception</td><td>ovary</td><td>3774sTS.Human.Ovary.12w.Female</td></tr>\n",
       "\t<tr><td>5936sTS.Human.Ovary.12w.Female</td><td>Homo sapiens</td><td>normal</td><td>12 week post conception</td><td>12725</td><td>12</td><td>female</td><td>ovary</td><td>12 week post conception</td><td>ovary</td><td>5936sTS.Human.Ovary.12w.Female</td></tr>\n",
       "\t<tr><td>3644sTS.Human.Ovary.11w.Female</td><td>Homo sapiens</td><td>normal</td><td>11 week post conception</td><td>11930</td><td>11</td><td>female</td><td>ovary</td><td>11 week post conception</td><td>ovary</td><td>3644sTS.Human.Ovary.11w.Female</td></tr>\n",
       "\t<tr><td>2095sTS.Human.Ovary.10w.Female</td><td>Homo sapiens</td><td>normal</td><td>10 week post conception</td><td>11791</td><td>10</td><td>female</td><td>ovary</td><td>10 week post conception</td><td>ovary</td><td>2095sTS.Human.Ovary.10w.Female</td></tr>\n",
       "\t<tr><td>5677sTS.Human.Ovary.10w.Female</td><td>Homo sapiens</td><td>normal</td><td>10 week post conception</td><td>12149</td><td>10</td><td>female</td><td>ovary</td><td>10 week post conception</td><td>ovary</td><td>5677sTS.Human.Ovary.10w.Female</td></tr>\n",
       "\t<tr><td>2052sTSm.Human.Ovary.9w.Female</td><td>Homo sapiens</td><td>normal</td><td>9 week post conception </td><td>11758</td><td> 9</td><td>female</td><td>ovary</td><td>9 week post conception </td><td>ovary</td><td>2052sTSm.Human.Ovary.9w.Female</td></tr>\n",
       "</tbody>\n",
       "</table>\n"
      ],
      "text/latex": [
       "A data.table: 10 × 11\n",
       "\\begin{tabular}{lllllllllll}\n",
       " Source Name & organism & disease & developmental stage & individual & age & sex & organism part & developmental stage2 & organism part2 & Assay Name\\\\\n",
       " <chr> & <chr> & <chr> & <chr> & <chr> & <dbl> & <chr> & <chr> & <chr> & <chr> & <chr>\\\\\n",
       "\\hline\n",
       "\t 5674sTS.Human.Ovary.18w.Female & Homo sapiens & normal & 18 week post conception & 12441 & 18 & female & ovary & 18 week post conception & ovary & 5674sTS.Human.Ovary.18w.Female\\\\\n",
       "\t 5949sTS.Human.Ovary.18w.Female & Homo sapiens & normal & 18 week post conception & 12663 & 18 & female & ovary & 18 week post conception & ovary & 5949sTS.Human.Ovary.18w.Female\\\\\n",
       "\t 5673sTS.Human.Ovary.16w.Female & Homo sapiens & normal & 16 week post conception & 12410 & 16 & female & ovary & 16 week post conception & ovary & 5673sTS.Human.Ovary.16w.Female\\\\\n",
       "\t 5944sTS.Human.Ovary.13w.Female & Homo sapiens & normal & 13 week post conception & 12760 & 13 & female & ovary & 13 week post conception & ovary & 5944sTS.Human.Ovary.13w.Female\\\\\n",
       "\t 3774sTS.Human.Ovary.12w.Female & Homo sapiens & normal & 12 week post conception & 1558  & 12 & female & ovary & 12 week post conception & ovary & 3774sTS.Human.Ovary.12w.Female\\\\\n",
       "\t 5936sTS.Human.Ovary.12w.Female & Homo sapiens & normal & 12 week post conception & 12725 & 12 & female & ovary & 12 week post conception & ovary & 5936sTS.Human.Ovary.12w.Female\\\\\n",
       "\t 3644sTS.Human.Ovary.11w.Female & Homo sapiens & normal & 11 week post conception & 11930 & 11 & female & ovary & 11 week post conception & ovary & 3644sTS.Human.Ovary.11w.Female\\\\\n",
       "\t 2095sTS.Human.Ovary.10w.Female & Homo sapiens & normal & 10 week post conception & 11791 & 10 & female & ovary & 10 week post conception & ovary & 2095sTS.Human.Ovary.10w.Female\\\\\n",
       "\t 5677sTS.Human.Ovary.10w.Female & Homo sapiens & normal & 10 week post conception & 12149 & 10 & female & ovary & 10 week post conception & ovary & 5677sTS.Human.Ovary.10w.Female\\\\\n",
       "\t 2052sTSm.Human.Ovary.9w.Female & Homo sapiens & normal & 9 week post conception  & 11758 &  9 & female & ovary & 9 week post conception  & ovary & 2052sTSm.Human.Ovary.9w.Female\\\\\n",
       "\\end{tabular}\n"
      ],
      "text/markdown": [
       "\n",
       "A data.table: 10 × 11\n",
       "\n",
       "| Source Name &lt;chr&gt; | organism &lt;chr&gt; | disease &lt;chr&gt; | developmental stage &lt;chr&gt; | individual &lt;chr&gt; | age &lt;dbl&gt; | sex &lt;chr&gt; | organism part &lt;chr&gt; | developmental stage2 &lt;chr&gt; | organism part2 &lt;chr&gt; | Assay Name &lt;chr&gt; |\n",
       "|---|---|---|---|---|---|---|---|---|---|---|\n",
       "| 5674sTS.Human.Ovary.18w.Female | Homo sapiens | normal | 18 week post conception | 12441 | 18 | female | ovary | 18 week post conception | ovary | 5674sTS.Human.Ovary.18w.Female |\n",
       "| 5949sTS.Human.Ovary.18w.Female | Homo sapiens | normal | 18 week post conception | 12663 | 18 | female | ovary | 18 week post conception | ovary | 5949sTS.Human.Ovary.18w.Female |\n",
       "| 5673sTS.Human.Ovary.16w.Female | Homo sapiens | normal | 16 week post conception | 12410 | 16 | female | ovary | 16 week post conception | ovary | 5673sTS.Human.Ovary.16w.Female |\n",
       "| 5944sTS.Human.Ovary.13w.Female | Homo sapiens | normal | 13 week post conception | 12760 | 13 | female | ovary | 13 week post conception | ovary | 5944sTS.Human.Ovary.13w.Female |\n",
       "| 3774sTS.Human.Ovary.12w.Female | Homo sapiens | normal | 12 week post conception | 1558  | 12 | female | ovary | 12 week post conception | ovary | 3774sTS.Human.Ovary.12w.Female |\n",
       "| 5936sTS.Human.Ovary.12w.Female | Homo sapiens | normal | 12 week post conception | 12725 | 12 | female | ovary | 12 week post conception | ovary | 5936sTS.Human.Ovary.12w.Female |\n",
       "| 3644sTS.Human.Ovary.11w.Female | Homo sapiens | normal | 11 week post conception | 11930 | 11 | female | ovary | 11 week post conception | ovary | 3644sTS.Human.Ovary.11w.Female |\n",
       "| 2095sTS.Human.Ovary.10w.Female | Homo sapiens | normal | 10 week post conception | 11791 | 10 | female | ovary | 10 week post conception | ovary | 2095sTS.Human.Ovary.10w.Female |\n",
       "| 5677sTS.Human.Ovary.10w.Female | Homo sapiens | normal | 10 week post conception | 12149 | 10 | female | ovary | 10 week post conception | ovary | 5677sTS.Human.Ovary.10w.Female |\n",
       "| 2052sTSm.Human.Ovary.9w.Female | Homo sapiens | normal | 9 week post conception  | 11758 |  9 | female | ovary | 9 week post conception  | ovary | 2052sTSm.Human.Ovary.9w.Female |\n",
       "\n"
      ],
      "text/plain": [
       "   Source Name                    organism     disease developmental stage    \n",
       "1  5674sTS.Human.Ovary.18w.Female Homo sapiens normal  18 week post conception\n",
       "2  5949sTS.Human.Ovary.18w.Female Homo sapiens normal  18 week post conception\n",
       "3  5673sTS.Human.Ovary.16w.Female Homo sapiens normal  16 week post conception\n",
       "4  5944sTS.Human.Ovary.13w.Female Homo sapiens normal  13 week post conception\n",
       "5  3774sTS.Human.Ovary.12w.Female Homo sapiens normal  12 week post conception\n",
       "6  5936sTS.Human.Ovary.12w.Female Homo sapiens normal  12 week post conception\n",
       "7  3644sTS.Human.Ovary.11w.Female Homo sapiens normal  11 week post conception\n",
       "8  2095sTS.Human.Ovary.10w.Female Homo sapiens normal  10 week post conception\n",
       "9  5677sTS.Human.Ovary.10w.Female Homo sapiens normal  10 week post conception\n",
       "10 2052sTSm.Human.Ovary.9w.Female Homo sapiens normal  9 week post conception \n",
       "   individual age sex    organism part developmental stage2    organism part2\n",
       "1  12441      18  female ovary         18 week post conception ovary         \n",
       "2  12663      18  female ovary         18 week post conception ovary         \n",
       "3  12410      16  female ovary         16 week post conception ovary         \n",
       "4  12760      13  female ovary         13 week post conception ovary         \n",
       "5  1558       12  female ovary         12 week post conception ovary         \n",
       "6  12725      12  female ovary         12 week post conception ovary         \n",
       "7  11930      11  female ovary         11 week post conception ovary         \n",
       "8  11791      10  female ovary         10 week post conception ovary         \n",
       "9  12149      10  female ovary         10 week post conception ovary         \n",
       "10 11758       9  female ovary         9 week post conception  ovary         \n",
       "   Assay Name                    \n",
       "1  5674sTS.Human.Ovary.18w.Female\n",
       "2  5949sTS.Human.Ovary.18w.Female\n",
       "3  5673sTS.Human.Ovary.16w.Female\n",
       "4  5944sTS.Human.Ovary.13w.Female\n",
       "5  3774sTS.Human.Ovary.12w.Female\n",
       "6  5936sTS.Human.Ovary.12w.Female\n",
       "7  3644sTS.Human.Ovary.11w.Female\n",
       "8  2095sTS.Human.Ovary.10w.Female\n",
       "9  5677sTS.Human.Ovary.10w.Female\n",
       "10 2052sTSm.Human.Ovary.9w.Female"
      ]
     },
     "metadata": {},
     "output_type": "display_data"
    }
   ],
   "source": [
    "#human\n",
    "ovary_samples[['hs']] = sample_info$hs[str_detect(`Source Name`, \"vary\")][order(-age)][1:10]\n",
    "ovary_samples[['hs']]"
   ]
  },
  {
   "cell_type": "code",
   "execution_count": 188,
   "id": "4d5d535a",
   "metadata": {
    "vscode": {
     "languageId": "r"
    }
   },
   "outputs": [
    {
     "data": {
      "text/html": [
       "<table class=\"dataframe\">\n",
       "<caption>A data.table: 10 × 11</caption>\n",
       "<thead>\n",
       "\t<tr><th scope=col>Source Name</th><th scope=col>organism</th><th scope=col>strain</th><th scope=col>genotype</th><th scope=col>organism part</th><th scope=col>developmental stage</th><th scope=col>age</th><th scope=col>sex</th><th scope=col>organism part2</th><th scope=col>developmental stage2</th><th scope=col>Assay Name</th></tr>\n",
       "\t<tr><th scope=col>&lt;chr&gt;</th><th scope=col>&lt;chr&gt;</th><th scope=col>&lt;chr&gt;</th><th scope=col>&lt;chr&gt;</th><th scope=col>&lt;chr&gt;</th><th scope=col>&lt;chr&gt;</th><th scope=col>&lt;dbl&gt;</th><th scope=col>&lt;chr&gt;</th><th scope=col>&lt;chr&gt;</th><th scope=col>&lt;chr&gt;</th><th scope=col>&lt;chr&gt;</th></tr>\n",
       "</thead>\n",
       "<tbody>\n",
       "\t<tr><td>1953sTS.Mouse.Ovary.9wpb.Female</td><td>Mus musculus</td><td>CD-1</td><td>wild type genotype</td><td>ovary</td><td>postnatal</td><td>63</td><td>female</td><td>ovary</td><td>postnatal day 63</td><td>1953sTS.Mouse.Ovary.9wpb.Female</td></tr>\n",
       "\t<tr><td>1963sTS.Mouse.Ovary.9wpb.Female</td><td>Mus musculus</td><td>CD-1</td><td>wild type genotype</td><td>ovary</td><td>postnatal</td><td>63</td><td>female</td><td>ovary</td><td>postnatal day 63</td><td>1963sTS.Mouse.Ovary.9wpb.Female</td></tr>\n",
       "\t<tr><td>1939sTS.Mouse.Ovary.4wpb.Female</td><td>Mus musculus</td><td>CD-1</td><td>wild type genotype</td><td>ovary</td><td>postnatal</td><td>28</td><td>female</td><td>ovary</td><td>postnatal day 28</td><td>1939sTS.Mouse.Ovary.4wpb.Female</td></tr>\n",
       "\t<tr><td>1943sTS.Mouse.Ovary.4wpb.Female</td><td>Mus musculus</td><td>CD-1</td><td>wild type genotype</td><td>ovary</td><td>postnatal</td><td>28</td><td>female</td><td>ovary</td><td>postnatal day 28</td><td>1943sTS.Mouse.Ovary.4wpb.Female</td></tr>\n",
       "\t<tr><td>1887sTS.Mouse.Ovary.2wpb.Female</td><td>Mus musculus</td><td>CD-1</td><td>wild type genotype</td><td>ovary</td><td>postnatal</td><td>14</td><td>female</td><td>ovary</td><td>postnatal day 14</td><td>1887sTS.Mouse.Ovary.2wpb.Female</td></tr>\n",
       "\t<tr><td>1891sTS.Mouse.Ovary.2wpb.Female</td><td>Mus musculus</td><td>CD-1</td><td>wild type genotype</td><td>ovary</td><td>postnatal</td><td>14</td><td>female</td><td>ovary</td><td>postnatal day 14</td><td>1891sTS.Mouse.Ovary.2wpb.Female</td></tr>\n",
       "\t<tr><td>1923sTS.Mouse.Ovary.3dpb.Female</td><td>Mus musculus</td><td>CD-1</td><td>wild type genotype</td><td>ovary</td><td>postnatal</td><td> 3</td><td>female</td><td>ovary</td><td>postnatal day 3 </td><td>1923sTS.Mouse.Ovary.3dpb.Female</td></tr>\n",
       "\t<tr><td>1935sTS.Mouse.Ovary.3dpb.Female</td><td>Mus musculus</td><td>CD-1</td><td>wild type genotype</td><td>ovary</td><td>postnatal</td><td> 3</td><td>female</td><td>ovary</td><td>postnatal day 3 </td><td>1935sTS.Mouse.Ovary.3dpb.Female</td></tr>\n",
       "\t<tr><td>1745sTS.Mouse.Ovary.0dpb.Female</td><td>Mus musculus</td><td>CD-1</td><td>wild type genotype</td><td>ovary</td><td>postnatal</td><td> 0</td><td>female</td><td>ovary</td><td>postnatal day 0 </td><td>1745sTS.Mouse.Ovary.0dpb.Female</td></tr>\n",
       "\t<tr><td>1905sTS.Mouse.Ovary.0dpb.Female</td><td>Mus musculus</td><td>CD-1</td><td>wild type genotype</td><td>ovary</td><td>postnatal</td><td> 0</td><td>female</td><td>ovary</td><td>postnatal day 0 </td><td>1905sTS.Mouse.Ovary.0dpb.Female</td></tr>\n",
       "</tbody>\n",
       "</table>\n"
      ],
      "text/latex": [
       "A data.table: 10 × 11\n",
       "\\begin{tabular}{lllllllllll}\n",
       " Source Name & organism & strain & genotype & organism part & developmental stage & age & sex & organism part2 & developmental stage2 & Assay Name\\\\\n",
       " <chr> & <chr> & <chr> & <chr> & <chr> & <chr> & <dbl> & <chr> & <chr> & <chr> & <chr>\\\\\n",
       "\\hline\n",
       "\t 1953sTS.Mouse.Ovary.9wpb.Female & Mus musculus & CD-1 & wild type genotype & ovary & postnatal & 63 & female & ovary & postnatal day 63 & 1953sTS.Mouse.Ovary.9wpb.Female\\\\\n",
       "\t 1963sTS.Mouse.Ovary.9wpb.Female & Mus musculus & CD-1 & wild type genotype & ovary & postnatal & 63 & female & ovary & postnatal day 63 & 1963sTS.Mouse.Ovary.9wpb.Female\\\\\n",
       "\t 1939sTS.Mouse.Ovary.4wpb.Female & Mus musculus & CD-1 & wild type genotype & ovary & postnatal & 28 & female & ovary & postnatal day 28 & 1939sTS.Mouse.Ovary.4wpb.Female\\\\\n",
       "\t 1943sTS.Mouse.Ovary.4wpb.Female & Mus musculus & CD-1 & wild type genotype & ovary & postnatal & 28 & female & ovary & postnatal day 28 & 1943sTS.Mouse.Ovary.4wpb.Female\\\\\n",
       "\t 1887sTS.Mouse.Ovary.2wpb.Female & Mus musculus & CD-1 & wild type genotype & ovary & postnatal & 14 & female & ovary & postnatal day 14 & 1887sTS.Mouse.Ovary.2wpb.Female\\\\\n",
       "\t 1891sTS.Mouse.Ovary.2wpb.Female & Mus musculus & CD-1 & wild type genotype & ovary & postnatal & 14 & female & ovary & postnatal day 14 & 1891sTS.Mouse.Ovary.2wpb.Female\\\\\n",
       "\t 1923sTS.Mouse.Ovary.3dpb.Female & Mus musculus & CD-1 & wild type genotype & ovary & postnatal &  3 & female & ovary & postnatal day 3  & 1923sTS.Mouse.Ovary.3dpb.Female\\\\\n",
       "\t 1935sTS.Mouse.Ovary.3dpb.Female & Mus musculus & CD-1 & wild type genotype & ovary & postnatal &  3 & female & ovary & postnatal day 3  & 1935sTS.Mouse.Ovary.3dpb.Female\\\\\n",
       "\t 1745sTS.Mouse.Ovary.0dpb.Female & Mus musculus & CD-1 & wild type genotype & ovary & postnatal &  0 & female & ovary & postnatal day 0  & 1745sTS.Mouse.Ovary.0dpb.Female\\\\\n",
       "\t 1905sTS.Mouse.Ovary.0dpb.Female & Mus musculus & CD-1 & wild type genotype & ovary & postnatal &  0 & female & ovary & postnatal day 0  & 1905sTS.Mouse.Ovary.0dpb.Female\\\\\n",
       "\\end{tabular}\n"
      ],
      "text/markdown": [
       "\n",
       "A data.table: 10 × 11\n",
       "\n",
       "| Source Name &lt;chr&gt; | organism &lt;chr&gt; | strain &lt;chr&gt; | genotype &lt;chr&gt; | organism part &lt;chr&gt; | developmental stage &lt;chr&gt; | age &lt;dbl&gt; | sex &lt;chr&gt; | organism part2 &lt;chr&gt; | developmental stage2 &lt;chr&gt; | Assay Name &lt;chr&gt; |\n",
       "|---|---|---|---|---|---|---|---|---|---|---|\n",
       "| 1953sTS.Mouse.Ovary.9wpb.Female | Mus musculus | CD-1 | wild type genotype | ovary | postnatal | 63 | female | ovary | postnatal day 63 | 1953sTS.Mouse.Ovary.9wpb.Female |\n",
       "| 1963sTS.Mouse.Ovary.9wpb.Female | Mus musculus | CD-1 | wild type genotype | ovary | postnatal | 63 | female | ovary | postnatal day 63 | 1963sTS.Mouse.Ovary.9wpb.Female |\n",
       "| 1939sTS.Mouse.Ovary.4wpb.Female | Mus musculus | CD-1 | wild type genotype | ovary | postnatal | 28 | female | ovary | postnatal day 28 | 1939sTS.Mouse.Ovary.4wpb.Female |\n",
       "| 1943sTS.Mouse.Ovary.4wpb.Female | Mus musculus | CD-1 | wild type genotype | ovary | postnatal | 28 | female | ovary | postnatal day 28 | 1943sTS.Mouse.Ovary.4wpb.Female |\n",
       "| 1887sTS.Mouse.Ovary.2wpb.Female | Mus musculus | CD-1 | wild type genotype | ovary | postnatal | 14 | female | ovary | postnatal day 14 | 1887sTS.Mouse.Ovary.2wpb.Female |\n",
       "| 1891sTS.Mouse.Ovary.2wpb.Female | Mus musculus | CD-1 | wild type genotype | ovary | postnatal | 14 | female | ovary | postnatal day 14 | 1891sTS.Mouse.Ovary.2wpb.Female |\n",
       "| 1923sTS.Mouse.Ovary.3dpb.Female | Mus musculus | CD-1 | wild type genotype | ovary | postnatal |  3 | female | ovary | postnatal day 3  | 1923sTS.Mouse.Ovary.3dpb.Female |\n",
       "| 1935sTS.Mouse.Ovary.3dpb.Female | Mus musculus | CD-1 | wild type genotype | ovary | postnatal |  3 | female | ovary | postnatal day 3  | 1935sTS.Mouse.Ovary.3dpb.Female |\n",
       "| 1745sTS.Mouse.Ovary.0dpb.Female | Mus musculus | CD-1 | wild type genotype | ovary | postnatal |  0 | female | ovary | postnatal day 0  | 1745sTS.Mouse.Ovary.0dpb.Female |\n",
       "| 1905sTS.Mouse.Ovary.0dpb.Female | Mus musculus | CD-1 | wild type genotype | ovary | postnatal |  0 | female | ovary | postnatal day 0  | 1905sTS.Mouse.Ovary.0dpb.Female |\n",
       "\n"
      ],
      "text/plain": [
       "   Source Name                     organism     strain genotype          \n",
       "1  1953sTS.Mouse.Ovary.9wpb.Female Mus musculus CD-1   wild type genotype\n",
       "2  1963sTS.Mouse.Ovary.9wpb.Female Mus musculus CD-1   wild type genotype\n",
       "3  1939sTS.Mouse.Ovary.4wpb.Female Mus musculus CD-1   wild type genotype\n",
       "4  1943sTS.Mouse.Ovary.4wpb.Female Mus musculus CD-1   wild type genotype\n",
       "5  1887sTS.Mouse.Ovary.2wpb.Female Mus musculus CD-1   wild type genotype\n",
       "6  1891sTS.Mouse.Ovary.2wpb.Female Mus musculus CD-1   wild type genotype\n",
       "7  1923sTS.Mouse.Ovary.3dpb.Female Mus musculus CD-1   wild type genotype\n",
       "8  1935sTS.Mouse.Ovary.3dpb.Female Mus musculus CD-1   wild type genotype\n",
       "9  1745sTS.Mouse.Ovary.0dpb.Female Mus musculus CD-1   wild type genotype\n",
       "10 1905sTS.Mouse.Ovary.0dpb.Female Mus musculus CD-1   wild type genotype\n",
       "   organism part developmental stage age sex    organism part2\n",
       "1  ovary         postnatal           63  female ovary         \n",
       "2  ovary         postnatal           63  female ovary         \n",
       "3  ovary         postnatal           28  female ovary         \n",
       "4  ovary         postnatal           28  female ovary         \n",
       "5  ovary         postnatal           14  female ovary         \n",
       "6  ovary         postnatal           14  female ovary         \n",
       "7  ovary         postnatal            3  female ovary         \n",
       "8  ovary         postnatal            3  female ovary         \n",
       "9  ovary         postnatal            0  female ovary         \n",
       "10 ovary         postnatal            0  female ovary         \n",
       "   developmental stage2 Assay Name                     \n",
       "1  postnatal day 63     1953sTS.Mouse.Ovary.9wpb.Female\n",
       "2  postnatal day 63     1963sTS.Mouse.Ovary.9wpb.Female\n",
       "3  postnatal day 28     1939sTS.Mouse.Ovary.4wpb.Female\n",
       "4  postnatal day 28     1943sTS.Mouse.Ovary.4wpb.Female\n",
       "5  postnatal day 14     1887sTS.Mouse.Ovary.2wpb.Female\n",
       "6  postnatal day 14     1891sTS.Mouse.Ovary.2wpb.Female\n",
       "7  postnatal day 3      1923sTS.Mouse.Ovary.3dpb.Female\n",
       "8  postnatal day 3      1935sTS.Mouse.Ovary.3dpb.Female\n",
       "9  postnatal day 0      1745sTS.Mouse.Ovary.0dpb.Female\n",
       "10 postnatal day 0      1905sTS.Mouse.Ovary.0dpb.Female"
      ]
     },
     "metadata": {},
     "output_type": "display_data"
    }
   ],
   "source": [
    "#mm\n",
    "ovary_samples[['mm']] = sample_info$mm[str_detect(`Source Name`, \"vary\") & str_detect(`developmental stage`, 'postnatal')][order(-age)][1:10]\n",
    "ovary_samples[['mm']]"
   ]
  },
  {
   "cell_type": "code",
   "execution_count": 189,
   "id": "5342f042",
   "metadata": {
    "vscode": {
     "languageId": "r"
    }
   },
   "outputs": [
    {
     "data": {
      "text/html": [
       "<table class=\"dataframe\">\n",
       "<caption>A data.table: 10 × 11</caption>\n",
       "<thead>\n",
       "\t<tr><th scope=col>Source Name</th><th scope=col>organism</th><th scope=col>strain</th><th scope=col>genotype</th><th scope=col>developmental stage</th><th scope=col>age</th><th scope=col>sex</th><th scope=col>organism part</th><th scope=col>developmental stage2</th><th scope=col>organism part2</th><th scope=col>Assay Name</th></tr>\n",
       "\t<tr><th scope=col>&lt;chr&gt;</th><th scope=col>&lt;chr&gt;</th><th scope=col>&lt;chr&gt;</th><th scope=col>&lt;chr&gt;</th><th scope=col>&lt;chr&gt;</th><th scope=col>&lt;dbl&gt;</th><th scope=col>&lt;chr&gt;</th><th scope=col>&lt;chr&gt;</th><th scope=col>&lt;chr&gt;</th><th scope=col>&lt;chr&gt;</th><th scope=col>&lt;chr&gt;</th></tr>\n",
       "</thead>\n",
       "<tbody>\n",
       "\t<tr><td>2350sTS.Rat.Ovary.16wpb.Female</td><td>Rattus norvegicus</td><td>Holtzman SD</td><td>wild type genotype</td><td>postnatal</td><td>112</td><td>female</td><td>ovary</td><td>postnatal day 112</td><td>ovary</td><td>2350sTS.Rat.Ovary.16wpb.Female</td></tr>\n",
       "\t<tr><td>2354sTS.Rat.Ovary.16wpb.Female</td><td>Rattus norvegicus</td><td>Holtzman SD</td><td>wild type genotype</td><td>postnatal</td><td>112</td><td>female</td><td>ovary</td><td>postnatal day 112</td><td>ovary</td><td>2354sTS.Rat.Ovary.16wpb.Female</td></tr>\n",
       "\t<tr><td>2286sTS.Rat.Ovary.6wpb.Female </td><td>Rattus norvegicus</td><td>Holtzman SD</td><td>wild type genotype</td><td>postnatal</td><td> 42</td><td>female</td><td>ovary</td><td>postnatal day 42 </td><td>ovary</td><td>2286sTS.Rat.Ovary.6wpb.Female </td></tr>\n",
       "\t<tr><td>2365sTS.Rat.Ovary.6wpb.Female </td><td>Rattus norvegicus</td><td>Holtzman SD</td><td>wild type genotype</td><td>postnatal</td><td> 42</td><td>female</td><td>ovary</td><td>postnatal day 42 </td><td>ovary</td><td>2365sTS.Rat.Ovary.6wpb.Female </td></tr>\n",
       "\t<tr><td>2338sTS.Rat.Ovary.2wpb.Female </td><td>Rattus norvegicus</td><td>Holtzman SD</td><td>wild type genotype</td><td>postnatal</td><td> 14</td><td>female</td><td>ovary</td><td>postnatal day 14 </td><td>ovary</td><td>2338sTS.Rat.Ovary.2wpb.Female </td></tr>\n",
       "\t<tr><td>2341sTS.Rat.Ovary.2wpb.Female </td><td>Rattus norvegicus</td><td>Holtzman SD</td><td>wild type genotype</td><td>postnatal</td><td> 14</td><td>female</td><td>ovary</td><td>postnatal day 14 </td><td>ovary</td><td>2341sTS.Rat.Ovary.2wpb.Female </td></tr>\n",
       "\t<tr><td>2296sTS.Rat.Ovary.1wpb.Female </td><td>Rattus norvegicus</td><td>Holtzman SD</td><td>wild type genotype</td><td>postnatal</td><td>  7</td><td>female</td><td>ovary</td><td>postnatal day 7  </td><td>ovary</td><td>2296sTS.Rat.Ovary.1wpb.Female </td></tr>\n",
       "\t<tr><td>2300sTS.Rat.Ovary.1wpb.Female </td><td>Rattus norvegicus</td><td>Holtzman SD</td><td>wild type genotype</td><td>postnatal</td><td>  7</td><td>female</td><td>ovary</td><td>postnatal day 7  </td><td>ovary</td><td>2300sTS.Rat.Ovary.1wpb.Female </td></tr>\n",
       "\t<tr><td>4903sTS.Rat.Ovary.3dpb.Female </td><td>Rattus norvegicus</td><td>Holtzman SD</td><td>wild type genotype</td><td>postnatal</td><td>  3</td><td>female</td><td>ovary</td><td>postnatal day 3  </td><td>ovary</td><td>4903sTS.Rat.Ovary.3dpb.Female </td></tr>\n",
       "\t<tr><td>4969sTS.Rat.Ovary.3dpb.Female </td><td>Rattus norvegicus</td><td>Holtzman SD</td><td>wild type genotype</td><td>postnatal</td><td>  3</td><td>female</td><td>ovary</td><td>postnatal day 3  </td><td>ovary</td><td>4969sTS.Rat.Ovary.3dpb.Female </td></tr>\n",
       "</tbody>\n",
       "</table>\n"
      ],
      "text/latex": [
       "A data.table: 10 × 11\n",
       "\\begin{tabular}{lllllllllll}\n",
       " Source Name & organism & strain & genotype & developmental stage & age & sex & organism part & developmental stage2 & organism part2 & Assay Name\\\\\n",
       " <chr> & <chr> & <chr> & <chr> & <chr> & <dbl> & <chr> & <chr> & <chr> & <chr> & <chr>\\\\\n",
       "\\hline\n",
       "\t 2350sTS.Rat.Ovary.16wpb.Female & Rattus norvegicus & Holtzman SD & wild type genotype & postnatal & 112 & female & ovary & postnatal day 112 & ovary & 2350sTS.Rat.Ovary.16wpb.Female\\\\\n",
       "\t 2354sTS.Rat.Ovary.16wpb.Female & Rattus norvegicus & Holtzman SD & wild type genotype & postnatal & 112 & female & ovary & postnatal day 112 & ovary & 2354sTS.Rat.Ovary.16wpb.Female\\\\\n",
       "\t 2286sTS.Rat.Ovary.6wpb.Female  & Rattus norvegicus & Holtzman SD & wild type genotype & postnatal &  42 & female & ovary & postnatal day 42  & ovary & 2286sTS.Rat.Ovary.6wpb.Female \\\\\n",
       "\t 2365sTS.Rat.Ovary.6wpb.Female  & Rattus norvegicus & Holtzman SD & wild type genotype & postnatal &  42 & female & ovary & postnatal day 42  & ovary & 2365sTS.Rat.Ovary.6wpb.Female \\\\\n",
       "\t 2338sTS.Rat.Ovary.2wpb.Female  & Rattus norvegicus & Holtzman SD & wild type genotype & postnatal &  14 & female & ovary & postnatal day 14  & ovary & 2338sTS.Rat.Ovary.2wpb.Female \\\\\n",
       "\t 2341sTS.Rat.Ovary.2wpb.Female  & Rattus norvegicus & Holtzman SD & wild type genotype & postnatal &  14 & female & ovary & postnatal day 14  & ovary & 2341sTS.Rat.Ovary.2wpb.Female \\\\\n",
       "\t 2296sTS.Rat.Ovary.1wpb.Female  & Rattus norvegicus & Holtzman SD & wild type genotype & postnatal &   7 & female & ovary & postnatal day 7   & ovary & 2296sTS.Rat.Ovary.1wpb.Female \\\\\n",
       "\t 2300sTS.Rat.Ovary.1wpb.Female  & Rattus norvegicus & Holtzman SD & wild type genotype & postnatal &   7 & female & ovary & postnatal day 7   & ovary & 2300sTS.Rat.Ovary.1wpb.Female \\\\\n",
       "\t 4903sTS.Rat.Ovary.3dpb.Female  & Rattus norvegicus & Holtzman SD & wild type genotype & postnatal &   3 & female & ovary & postnatal day 3   & ovary & 4903sTS.Rat.Ovary.3dpb.Female \\\\\n",
       "\t 4969sTS.Rat.Ovary.3dpb.Female  & Rattus norvegicus & Holtzman SD & wild type genotype & postnatal &   3 & female & ovary & postnatal day 3   & ovary & 4969sTS.Rat.Ovary.3dpb.Female \\\\\n",
       "\\end{tabular}\n"
      ],
      "text/markdown": [
       "\n",
       "A data.table: 10 × 11\n",
       "\n",
       "| Source Name &lt;chr&gt; | organism &lt;chr&gt; | strain &lt;chr&gt; | genotype &lt;chr&gt; | developmental stage &lt;chr&gt; | age &lt;dbl&gt; | sex &lt;chr&gt; | organism part &lt;chr&gt; | developmental stage2 &lt;chr&gt; | organism part2 &lt;chr&gt; | Assay Name &lt;chr&gt; |\n",
       "|---|---|---|---|---|---|---|---|---|---|---|\n",
       "| 2350sTS.Rat.Ovary.16wpb.Female | Rattus norvegicus | Holtzman SD | wild type genotype | postnatal | 112 | female | ovary | postnatal day 112 | ovary | 2350sTS.Rat.Ovary.16wpb.Female |\n",
       "| 2354sTS.Rat.Ovary.16wpb.Female | Rattus norvegicus | Holtzman SD | wild type genotype | postnatal | 112 | female | ovary | postnatal day 112 | ovary | 2354sTS.Rat.Ovary.16wpb.Female |\n",
       "| 2286sTS.Rat.Ovary.6wpb.Female  | Rattus norvegicus | Holtzman SD | wild type genotype | postnatal |  42 | female | ovary | postnatal day 42  | ovary | 2286sTS.Rat.Ovary.6wpb.Female  |\n",
       "| 2365sTS.Rat.Ovary.6wpb.Female  | Rattus norvegicus | Holtzman SD | wild type genotype | postnatal |  42 | female | ovary | postnatal day 42  | ovary | 2365sTS.Rat.Ovary.6wpb.Female  |\n",
       "| 2338sTS.Rat.Ovary.2wpb.Female  | Rattus norvegicus | Holtzman SD | wild type genotype | postnatal |  14 | female | ovary | postnatal day 14  | ovary | 2338sTS.Rat.Ovary.2wpb.Female  |\n",
       "| 2341sTS.Rat.Ovary.2wpb.Female  | Rattus norvegicus | Holtzman SD | wild type genotype | postnatal |  14 | female | ovary | postnatal day 14  | ovary | 2341sTS.Rat.Ovary.2wpb.Female  |\n",
       "| 2296sTS.Rat.Ovary.1wpb.Female  | Rattus norvegicus | Holtzman SD | wild type genotype | postnatal |   7 | female | ovary | postnatal day 7   | ovary | 2296sTS.Rat.Ovary.1wpb.Female  |\n",
       "| 2300sTS.Rat.Ovary.1wpb.Female  | Rattus norvegicus | Holtzman SD | wild type genotype | postnatal |   7 | female | ovary | postnatal day 7   | ovary | 2300sTS.Rat.Ovary.1wpb.Female  |\n",
       "| 4903sTS.Rat.Ovary.3dpb.Female  | Rattus norvegicus | Holtzman SD | wild type genotype | postnatal |   3 | female | ovary | postnatal day 3   | ovary | 4903sTS.Rat.Ovary.3dpb.Female  |\n",
       "| 4969sTS.Rat.Ovary.3dpb.Female  | Rattus norvegicus | Holtzman SD | wild type genotype | postnatal |   3 | female | ovary | postnatal day 3   | ovary | 4969sTS.Rat.Ovary.3dpb.Female  |\n",
       "\n"
      ],
      "text/plain": [
       "   Source Name                    organism          strain     \n",
       "1  2350sTS.Rat.Ovary.16wpb.Female Rattus norvegicus Holtzman SD\n",
       "2  2354sTS.Rat.Ovary.16wpb.Female Rattus norvegicus Holtzman SD\n",
       "3  2286sTS.Rat.Ovary.6wpb.Female  Rattus norvegicus Holtzman SD\n",
       "4  2365sTS.Rat.Ovary.6wpb.Female  Rattus norvegicus Holtzman SD\n",
       "5  2338sTS.Rat.Ovary.2wpb.Female  Rattus norvegicus Holtzman SD\n",
       "6  2341sTS.Rat.Ovary.2wpb.Female  Rattus norvegicus Holtzman SD\n",
       "7  2296sTS.Rat.Ovary.1wpb.Female  Rattus norvegicus Holtzman SD\n",
       "8  2300sTS.Rat.Ovary.1wpb.Female  Rattus norvegicus Holtzman SD\n",
       "9  4903sTS.Rat.Ovary.3dpb.Female  Rattus norvegicus Holtzman SD\n",
       "10 4969sTS.Rat.Ovary.3dpb.Female  Rattus norvegicus Holtzman SD\n",
       "   genotype           developmental stage age sex    organism part\n",
       "1  wild type genotype postnatal           112 female ovary        \n",
       "2  wild type genotype postnatal           112 female ovary        \n",
       "3  wild type genotype postnatal            42 female ovary        \n",
       "4  wild type genotype postnatal            42 female ovary        \n",
       "5  wild type genotype postnatal            14 female ovary        \n",
       "6  wild type genotype postnatal            14 female ovary        \n",
       "7  wild type genotype postnatal             7 female ovary        \n",
       "8  wild type genotype postnatal             7 female ovary        \n",
       "9  wild type genotype postnatal             3 female ovary        \n",
       "10 wild type genotype postnatal             3 female ovary        \n",
       "   developmental stage2 organism part2 Assay Name                    \n",
       "1  postnatal day 112    ovary          2350sTS.Rat.Ovary.16wpb.Female\n",
       "2  postnatal day 112    ovary          2354sTS.Rat.Ovary.16wpb.Female\n",
       "3  postnatal day 42     ovary          2286sTS.Rat.Ovary.6wpb.Female \n",
       "4  postnatal day 42     ovary          2365sTS.Rat.Ovary.6wpb.Female \n",
       "5  postnatal day 14     ovary          2338sTS.Rat.Ovary.2wpb.Female \n",
       "6  postnatal day 14     ovary          2341sTS.Rat.Ovary.2wpb.Female \n",
       "7  postnatal day 7      ovary          2296sTS.Rat.Ovary.1wpb.Female \n",
       "8  postnatal day 7      ovary          2300sTS.Rat.Ovary.1wpb.Female \n",
       "9  postnatal day 3      ovary          4903sTS.Rat.Ovary.3dpb.Female \n",
       "10 postnatal day 3      ovary          4969sTS.Rat.Ovary.3dpb.Female "
      ]
     },
     "metadata": {},
     "output_type": "display_data"
    }
   ],
   "source": [
    "#rat\n",
    "ovary_samples[['rat']] = sample_info$rat[str_detect(`Source Name`, \"vary\") & str_detect(`developmental stage`, 'postnatal')][order(-age)][1:10]\n",
    "ovary_samples[['rat']]"
   ]
  },
  {
   "cell_type": "code",
   "execution_count": 192,
   "id": "1670cf1d",
   "metadata": {
    "vscode": {
     "languageId": "r"
    }
   },
   "outputs": [
    {
     "data": {
      "text/html": [
       "<table class=\"dataframe\">\n",
       "<caption>A data.table: 3 × 10</caption>\n",
       "<thead>\n",
       "\t<tr><th scope=col>Source Name</th><th scope=col>organism</th><th scope=col>genotype</th><th scope=col>developmental stage</th><th scope=col>age</th><th scope=col>organism part</th><th scope=col>sex</th><th scope=col>developmental stage2</th><th scope=col>organism part2</th><th scope=col>Assay Name</th></tr>\n",
       "\t<tr><th scope=col>&lt;chr&gt;</th><th scope=col>&lt;chr&gt;</th><th scope=col>&lt;chr&gt;</th><th scope=col>&lt;chr&gt;</th><th scope=col>&lt;chr&gt;</th><th scope=col>&lt;chr&gt;</th><th scope=col>&lt;chr&gt;</th><th scope=col>&lt;chr&gt;</th><th scope=col>&lt;chr&gt;</th><th scope=col>&lt;chr&gt;</th></tr>\n",
       "</thead>\n",
       "<tbody>\n",
       "\t<tr><td>6035sTS.Macaque.Ovary.93.Female   </td><td>Macaca mulatta</td><td>wild type genotype</td><td>embryo   </td><td>93</td><td>ovary</td><td>female</td><td>embryonic day 93  </td><td>ovary</td><td>6035sTS.Macaque.Ovary.93.Female   </td></tr>\n",
       "\t<tr><td>6092sTS.Macaque.Ovary.9ypb.Female </td><td>Macaca mulatta</td><td>wild type genotype</td><td>postnatal</td><td>9 </td><td>ovary</td><td>female</td><td>9 years postnatal </td><td>ovary</td><td>6092sTS.Macaque.Ovary.9ypb.Female </td></tr>\n",
       "\t<tr><td>6094sTS.Macaque.Ovary.11ypb.Female</td><td>Macaca mulatta</td><td>wild type genotype</td><td>postnatal</td><td>11</td><td>ovary</td><td>female</td><td>11 years postnatal</td><td>ovary</td><td>6094sTS.Macaque.Ovary.11ypb.Female</td></tr>\n",
       "</tbody>\n",
       "</table>\n"
      ],
      "text/latex": [
       "A data.table: 3 × 10\n",
       "\\begin{tabular}{llllllllll}\n",
       " Source Name & organism & genotype & developmental stage & age & organism part & sex & developmental stage2 & organism part2 & Assay Name\\\\\n",
       " <chr> & <chr> & <chr> & <chr> & <chr> & <chr> & <chr> & <chr> & <chr> & <chr>\\\\\n",
       "\\hline\n",
       "\t 6035sTS.Macaque.Ovary.93.Female    & Macaca mulatta & wild type genotype & embryo    & 93 & ovary & female & embryonic day 93   & ovary & 6035sTS.Macaque.Ovary.93.Female   \\\\\n",
       "\t 6092sTS.Macaque.Ovary.9ypb.Female  & Macaca mulatta & wild type genotype & postnatal & 9  & ovary & female & 9 years postnatal  & ovary & 6092sTS.Macaque.Ovary.9ypb.Female \\\\\n",
       "\t 6094sTS.Macaque.Ovary.11ypb.Female & Macaca mulatta & wild type genotype & postnatal & 11 & ovary & female & 11 years postnatal & ovary & 6094sTS.Macaque.Ovary.11ypb.Female\\\\\n",
       "\\end{tabular}\n"
      ],
      "text/markdown": [
       "\n",
       "A data.table: 3 × 10\n",
       "\n",
       "| Source Name &lt;chr&gt; | organism &lt;chr&gt; | genotype &lt;chr&gt; | developmental stage &lt;chr&gt; | age &lt;chr&gt; | organism part &lt;chr&gt; | sex &lt;chr&gt; | developmental stage2 &lt;chr&gt; | organism part2 &lt;chr&gt; | Assay Name &lt;chr&gt; |\n",
       "|---|---|---|---|---|---|---|---|---|---|\n",
       "| 6035sTS.Macaque.Ovary.93.Female    | Macaca mulatta | wild type genotype | embryo    | 93 | ovary | female | embryonic day 93   | ovary | 6035sTS.Macaque.Ovary.93.Female    |\n",
       "| 6092sTS.Macaque.Ovary.9ypb.Female  | Macaca mulatta | wild type genotype | postnatal | 9  | ovary | female | 9 years postnatal  | ovary | 6092sTS.Macaque.Ovary.9ypb.Female  |\n",
       "| 6094sTS.Macaque.Ovary.11ypb.Female | Macaca mulatta | wild type genotype | postnatal | 11 | ovary | female | 11 years postnatal | ovary | 6094sTS.Macaque.Ovary.11ypb.Female |\n",
       "\n"
      ],
      "text/plain": [
       "  Source Name                        organism       genotype          \n",
       "1 6035sTS.Macaque.Ovary.93.Female    Macaca mulatta wild type genotype\n",
       "2 6092sTS.Macaque.Ovary.9ypb.Female  Macaca mulatta wild type genotype\n",
       "3 6094sTS.Macaque.Ovary.11ypb.Female Macaca mulatta wild type genotype\n",
       "  developmental stage age organism part sex    developmental stage2\n",
       "1 embryo              93  ovary         female embryonic day 93    \n",
       "2 postnatal           9   ovary         female 9 years postnatal   \n",
       "3 postnatal           11  ovary         female 11 years postnatal  \n",
       "  organism part2 Assay Name                        \n",
       "1 ovary          6035sTS.Macaque.Ovary.93.Female   \n",
       "2 ovary          6092sTS.Macaque.Ovary.9ypb.Female \n",
       "3 ovary          6094sTS.Macaque.Ovary.11ypb.Female"
      ]
     },
     "metadata": {},
     "output_type": "display_data"
    }
   ],
   "source": [
    "#rmac\n",
    "ovary_samples[['rmac']] = sample_info$rmac[str_detect(`Source Name`, \"vary\") ]\n",
    "ovary_samples[['rmac']]"
   ]
  },
  {
   "cell_type": "markdown",
   "id": "a36b8f82",
   "metadata": {},
   "source": [
    "## Select testis"
   ]
  },
  {
   "cell_type": "code",
   "execution_count": 214,
   "id": "33c461a5",
   "metadata": {
    "vscode": {
     "languageId": "r"
    }
   },
   "outputs": [],
   "source": [
    "testis_samples = list(\n",
    "  'hs' = list(),\n",
    "  'mm' = list(),\n",
    "  'rat' = list(),\n",
    "  'rmac' = list()\n",
    ")"
   ]
  },
  {
   "cell_type": "code",
   "execution_count": 215,
   "id": "5dba26b6",
   "metadata": {
    "vscode": {
     "languageId": "r"
    }
   },
   "outputs": [
    {
     "data": {
      "text/html": [
       "<table class=\"dataframe\">\n",
       "<caption>A data.table: 10 × 11</caption>\n",
       "<thead>\n",
       "\t<tr><th scope=col>Source Name</th><th scope=col>organism</th><th scope=col>disease</th><th scope=col>developmental stage</th><th scope=col>individual</th><th scope=col>age</th><th scope=col>sex</th><th scope=col>organism part</th><th scope=col>developmental stage2</th><th scope=col>organism part2</th><th scope=col>Assay Name</th></tr>\n",
       "\t<tr><th scope=col>&lt;chr&gt;</th><th scope=col>&lt;chr&gt;</th><th scope=col>&lt;chr&gt;</th><th scope=col>&lt;chr&gt;</th><th scope=col>&lt;chr&gt;</th><th scope=col>&lt;dbl&gt;</th><th scope=col>&lt;chr&gt;</th><th scope=col>&lt;chr&gt;</th><th scope=col>&lt;chr&gt;</th><th scope=col>&lt;chr&gt;</th><th scope=col>&lt;chr&gt;</th></tr>\n",
       "</thead>\n",
       "<tbody>\n",
       "\t<tr><td>5523sTS.Human.Testis.270dpb.Male</td><td>Homo sapiens</td><td>normal</td><td>infant      </td><td>not available</td><td>270</td><td>male</td><td>testis</td><td>infant      </td><td>testis</td><td>5523sTS.Human.Testis.270dpb.Male</td></tr>\n",
       "\t<tr><td>5526sTS.Human.Testis.16ypb.Male </td><td>Homo sapiens</td><td>normal</td><td>adolescent  </td><td>not available</td><td> 16</td><td>male</td><td>testis</td><td>adolescent  </td><td>testis</td><td>5526sTS.Human.Testis.16ypb.Male </td></tr>\n",
       "\t<tr><td>5535sTS.Human.Testis.29ypb.Male </td><td>Homo sapiens</td><td>normal</td><td>young adult </td><td>not available</td><td> 29</td><td>male</td><td>testis</td><td>young adult </td><td>testis</td><td>5535sTS.Human.Testis.29ypb.Male </td></tr>\n",
       "\t<tr><td>5546sTS.Human.Testis.17ypb.Male </td><td>Homo sapiens</td><td>normal</td><td>adolescent  </td><td>not available</td><td> 17</td><td>male</td><td>testis</td><td>adolescent  </td><td>testis</td><td>5546sTS.Human.Testis.17ypb.Male </td></tr>\n",
       "\t<tr><td>5550sTS.Human.Testis.39ypb.Male </td><td>Homo sapiens</td><td>normal</td><td>young adult </td><td>not available</td><td> 39</td><td>male</td><td>testis</td><td>young adult </td><td>testis</td><td>5550sTS.Human.Testis.39ypb.Male </td></tr>\n",
       "\t<tr><td>5560sTS.Human.Testis.221dpb.Male</td><td>Homo sapiens</td><td>normal</td><td>infant      </td><td>not available</td><td>221</td><td>male</td><td>testis</td><td>infant      </td><td>testis</td><td>5560sTS.Human.Testis.221dpb.Male</td></tr>\n",
       "\t<tr><td>5561sTS.Human.Testis.14ypb.Male </td><td>Homo sapiens</td><td>normal</td><td>adolescent  </td><td>not available</td><td> 14</td><td>male</td><td>testis</td><td>adolescent  </td><td>testis</td><td>5561sTS.Human.Testis.14ypb.Male </td></tr>\n",
       "\t<tr><td>5564sTS.Human.Testis.14ypb.Male </td><td>Homo sapiens</td><td>normal</td><td>adolescent  </td><td>not available</td><td> 14</td><td>male</td><td>testis</td><td>adolescent  </td><td>testis</td><td>5564sTS.Human.Testis.14ypb.Male </td></tr>\n",
       "\t<tr><td>5566sTS.Human.Testis.29ypb.Male </td><td>Homo sapiens</td><td>normal</td><td>young adult </td><td>not available</td><td> 29</td><td>male</td><td>testis</td><td>young adult </td><td>testis</td><td>5566sTS.Human.Testis.29ypb.Male </td></tr>\n",
       "\t<tr><td>6095sTS.Human.Testis.46ypb.Male </td><td>Homo sapiens</td><td>normal</td><td>middle adult</td><td>not available</td><td> 46</td><td>male</td><td>testis</td><td>middle adult</td><td>testis</td><td>6095sTS.Human.Testis.46ypb.Male </td></tr>\n",
       "</tbody>\n",
       "</table>\n"
      ],
      "text/latex": [
       "A data.table: 10 × 11\n",
       "\\begin{tabular}{lllllllllll}\n",
       " Source Name & organism & disease & developmental stage & individual & age & sex & organism part & developmental stage2 & organism part2 & Assay Name\\\\\n",
       " <chr> & <chr> & <chr> & <chr> & <chr> & <dbl> & <chr> & <chr> & <chr> & <chr> & <chr>\\\\\n",
       "\\hline\n",
       "\t 5523sTS.Human.Testis.270dpb.Male & Homo sapiens & normal & infant       & not available & 270 & male & testis & infant       & testis & 5523sTS.Human.Testis.270dpb.Male\\\\\n",
       "\t 5526sTS.Human.Testis.16ypb.Male  & Homo sapiens & normal & adolescent   & not available &  16 & male & testis & adolescent   & testis & 5526sTS.Human.Testis.16ypb.Male \\\\\n",
       "\t 5535sTS.Human.Testis.29ypb.Male  & Homo sapiens & normal & young adult  & not available &  29 & male & testis & young adult  & testis & 5535sTS.Human.Testis.29ypb.Male \\\\\n",
       "\t 5546sTS.Human.Testis.17ypb.Male  & Homo sapiens & normal & adolescent   & not available &  17 & male & testis & adolescent   & testis & 5546sTS.Human.Testis.17ypb.Male \\\\\n",
       "\t 5550sTS.Human.Testis.39ypb.Male  & Homo sapiens & normal & young adult  & not available &  39 & male & testis & young adult  & testis & 5550sTS.Human.Testis.39ypb.Male \\\\\n",
       "\t 5560sTS.Human.Testis.221dpb.Male & Homo sapiens & normal & infant       & not available & 221 & male & testis & infant       & testis & 5560sTS.Human.Testis.221dpb.Male\\\\\n",
       "\t 5561sTS.Human.Testis.14ypb.Male  & Homo sapiens & normal & adolescent   & not available &  14 & male & testis & adolescent   & testis & 5561sTS.Human.Testis.14ypb.Male \\\\\n",
       "\t 5564sTS.Human.Testis.14ypb.Male  & Homo sapiens & normal & adolescent   & not available &  14 & male & testis & adolescent   & testis & 5564sTS.Human.Testis.14ypb.Male \\\\\n",
       "\t 5566sTS.Human.Testis.29ypb.Male  & Homo sapiens & normal & young adult  & not available &  29 & male & testis & young adult  & testis & 5566sTS.Human.Testis.29ypb.Male \\\\\n",
       "\t 6095sTS.Human.Testis.46ypb.Male  & Homo sapiens & normal & middle adult & not available &  46 & male & testis & middle adult & testis & 6095sTS.Human.Testis.46ypb.Male \\\\\n",
       "\\end{tabular}\n"
      ],
      "text/markdown": [
       "\n",
       "A data.table: 10 × 11\n",
       "\n",
       "| Source Name &lt;chr&gt; | organism &lt;chr&gt; | disease &lt;chr&gt; | developmental stage &lt;chr&gt; | individual &lt;chr&gt; | age &lt;dbl&gt; | sex &lt;chr&gt; | organism part &lt;chr&gt; | developmental stage2 &lt;chr&gt; | organism part2 &lt;chr&gt; | Assay Name &lt;chr&gt; |\n",
       "|---|---|---|---|---|---|---|---|---|---|---|\n",
       "| 5523sTS.Human.Testis.270dpb.Male | Homo sapiens | normal | infant       | not available | 270 | male | testis | infant       | testis | 5523sTS.Human.Testis.270dpb.Male |\n",
       "| 5526sTS.Human.Testis.16ypb.Male  | Homo sapiens | normal | adolescent   | not available |  16 | male | testis | adolescent   | testis | 5526sTS.Human.Testis.16ypb.Male  |\n",
       "| 5535sTS.Human.Testis.29ypb.Male  | Homo sapiens | normal | young adult  | not available |  29 | male | testis | young adult  | testis | 5535sTS.Human.Testis.29ypb.Male  |\n",
       "| 5546sTS.Human.Testis.17ypb.Male  | Homo sapiens | normal | adolescent   | not available |  17 | male | testis | adolescent   | testis | 5546sTS.Human.Testis.17ypb.Male  |\n",
       "| 5550sTS.Human.Testis.39ypb.Male  | Homo sapiens | normal | young adult  | not available |  39 | male | testis | young adult  | testis | 5550sTS.Human.Testis.39ypb.Male  |\n",
       "| 5560sTS.Human.Testis.221dpb.Male | Homo sapiens | normal | infant       | not available | 221 | male | testis | infant       | testis | 5560sTS.Human.Testis.221dpb.Male |\n",
       "| 5561sTS.Human.Testis.14ypb.Male  | Homo sapiens | normal | adolescent   | not available |  14 | male | testis | adolescent   | testis | 5561sTS.Human.Testis.14ypb.Male  |\n",
       "| 5564sTS.Human.Testis.14ypb.Male  | Homo sapiens | normal | adolescent   | not available |  14 | male | testis | adolescent   | testis | 5564sTS.Human.Testis.14ypb.Male  |\n",
       "| 5566sTS.Human.Testis.29ypb.Male  | Homo sapiens | normal | young adult  | not available |  29 | male | testis | young adult  | testis | 5566sTS.Human.Testis.29ypb.Male  |\n",
       "| 6095sTS.Human.Testis.46ypb.Male  | Homo sapiens | normal | middle adult | not available |  46 | male | testis | middle adult | testis | 6095sTS.Human.Testis.46ypb.Male  |\n",
       "\n"
      ],
      "text/plain": [
       "   Source Name                      organism     disease developmental stage\n",
       "1  5523sTS.Human.Testis.270dpb.Male Homo sapiens normal  infant             \n",
       "2  5526sTS.Human.Testis.16ypb.Male  Homo sapiens normal  adolescent         \n",
       "3  5535sTS.Human.Testis.29ypb.Male  Homo sapiens normal  young adult        \n",
       "4  5546sTS.Human.Testis.17ypb.Male  Homo sapiens normal  adolescent         \n",
       "5  5550sTS.Human.Testis.39ypb.Male  Homo sapiens normal  young adult        \n",
       "6  5560sTS.Human.Testis.221dpb.Male Homo sapiens normal  infant             \n",
       "7  5561sTS.Human.Testis.14ypb.Male  Homo sapiens normal  adolescent         \n",
       "8  5564sTS.Human.Testis.14ypb.Male  Homo sapiens normal  adolescent         \n",
       "9  5566sTS.Human.Testis.29ypb.Male  Homo sapiens normal  young adult        \n",
       "10 6095sTS.Human.Testis.46ypb.Male  Homo sapiens normal  middle adult       \n",
       "   individual    age sex  organism part developmental stage2 organism part2\n",
       "1  not available 270 male testis        infant               testis        \n",
       "2  not available  16 male testis        adolescent           testis        \n",
       "3  not available  29 male testis        young adult          testis        \n",
       "4  not available  17 male testis        adolescent           testis        \n",
       "5  not available  39 male testis        young adult          testis        \n",
       "6  not available 221 male testis        infant               testis        \n",
       "7  not available  14 male testis        adolescent           testis        \n",
       "8  not available  14 male testis        adolescent           testis        \n",
       "9  not available  29 male testis        young adult          testis        \n",
       "10 not available  46 male testis        middle adult         testis        \n",
       "   Assay Name                      \n",
       "1  5523sTS.Human.Testis.270dpb.Male\n",
       "2  5526sTS.Human.Testis.16ypb.Male \n",
       "3  5535sTS.Human.Testis.29ypb.Male \n",
       "4  5546sTS.Human.Testis.17ypb.Male \n",
       "5  5550sTS.Human.Testis.39ypb.Male \n",
       "6  5560sTS.Human.Testis.221dpb.Male\n",
       "7  5561sTS.Human.Testis.14ypb.Male \n",
       "8  5564sTS.Human.Testis.14ypb.Male \n",
       "9  5566sTS.Human.Testis.29ypb.Male \n",
       "10 6095sTS.Human.Testis.46ypb.Male "
      ]
     },
     "metadata": {},
     "output_type": "display_data"
    }
   ],
   "source": [
    "#human\n",
    "testis_samples[['hs']] = sample_info$hs[str_detect(`Source Name`, \"estis\") & !str_detect(`developmental stage`, 'conception')][!age %in% c(55, 1)][1:10]\n",
    "testis_samples[['hs']]\n"
   ]
  },
  {
   "cell_type": "code",
   "execution_count": 216,
   "id": "7be3d122",
   "metadata": {
    "vscode": {
     "languageId": "r"
    }
   },
   "outputs": [
    {
     "data": {
      "text/html": [
       "<table class=\"dataframe\">\n",
       "<caption>A data.table: 10 × 11</caption>\n",
       "<thead>\n",
       "\t<tr><th scope=col>Source Name</th><th scope=col>organism</th><th scope=col>strain</th><th scope=col>genotype</th><th scope=col>organism part</th><th scope=col>developmental stage</th><th scope=col>age</th><th scope=col>sex</th><th scope=col>organism part2</th><th scope=col>developmental stage2</th><th scope=col>Assay Name</th></tr>\n",
       "\t<tr><th scope=col>&lt;chr&gt;</th><th scope=col>&lt;chr&gt;</th><th scope=col>&lt;chr&gt;</th><th scope=col>&lt;chr&gt;</th><th scope=col>&lt;chr&gt;</th><th scope=col>&lt;chr&gt;</th><th scope=col>&lt;dbl&gt;</th><th scope=col>&lt;chr&gt;</th><th scope=col>&lt;chr&gt;</th><th scope=col>&lt;chr&gt;</th><th scope=col>&lt;chr&gt;</th></tr>\n",
       "</thead>\n",
       "<tbody>\n",
       "\t<tr><td>1879sTS.Mouse.Testis.2wpb.Male</td><td>Mus musculus</td><td>CD-1</td><td>wild type genotype</td><td>testis</td><td>postnatal</td><td>14</td><td>male</td><td>testis</td><td>postnatal day 14</td><td>1879sTS.Mouse.Testis.2wpb.Male</td></tr>\n",
       "\t<tr><td>1883sTS.Mouse.Testis.2wpb.Male</td><td>Mus musculus</td><td>CD-1</td><td>wild type genotype</td><td>testis</td><td>postnatal</td><td>14</td><td>male</td><td>testis</td><td>postnatal day 14</td><td>1883sTS.Mouse.Testis.2wpb.Male</td></tr>\n",
       "\t<tr><td>1895sTS.Mouse.Testis.4wpb.Male</td><td>Mus musculus</td><td>CD-1</td><td>wild type genotype</td><td>testis</td><td>postnatal</td><td>28</td><td>male</td><td>testis</td><td>postnatal day 28</td><td>1895sTS.Mouse.Testis.4wpb.Male</td></tr>\n",
       "\t<tr><td>1899sTS.Mouse.Testis.4wpb.Male</td><td>Mus musculus</td><td>CD-1</td><td>wild type genotype</td><td>testis</td><td>postnatal</td><td>28</td><td>male</td><td>testis</td><td>postnatal day 28</td><td>1899sTS.Mouse.Testis.4wpb.Male</td></tr>\n",
       "\t<tr><td>1911sTS.Mouse.Testis.0dpb.Male</td><td>Mus musculus</td><td>CD-1</td><td>wild type genotype</td><td>testis</td><td>postnatal</td><td> 0</td><td>male</td><td>testis</td><td>postnatal day 0 </td><td>1911sTS.Mouse.Testis.0dpb.Male</td></tr>\n",
       "\t<tr><td>1917sTS.Mouse.Testis.0dpb.Male</td><td>Mus musculus</td><td>CD-1</td><td>wild type genotype</td><td>testis</td><td>postnatal</td><td> 0</td><td>male</td><td>testis</td><td>postnatal day 0 </td><td>1917sTS.Mouse.Testis.0dpb.Male</td></tr>\n",
       "\t<tr><td>1929sTS.Mouse.Testis.3dpb.Male</td><td>Mus musculus</td><td>CD-1</td><td>wild type genotype</td><td>testis</td><td>postnatal</td><td> 3</td><td>male</td><td>testis</td><td>postnatal day 3 </td><td>1929sTS.Mouse.Testis.3dpb.Male</td></tr>\n",
       "\t<tr><td>1947sTS.Mouse.Testis.9wpb.Male</td><td>Mus musculus</td><td>CD-1</td><td>wild type genotype</td><td>testis</td><td>postnatal</td><td>63</td><td>male</td><td>testis</td><td>postnatal day 63</td><td>1947sTS.Mouse.Testis.9wpb.Male</td></tr>\n",
       "\t<tr><td>1959sTS.Mouse.Testis.9wpb.Male</td><td>Mus musculus</td><td>CD-1</td><td>wild type genotype</td><td>testis</td><td>postnatal</td><td>63</td><td>male</td><td>testis</td><td>postnatal day 63</td><td>1959sTS.Mouse.Testis.9wpb.Male</td></tr>\n",
       "\t<tr><td>1967sTS.Mouse.Testis.3dpb.Male</td><td>Mus musculus</td><td>CD-1</td><td>wild type genotype</td><td>testis</td><td>postnatal</td><td> 3</td><td>male</td><td>testis</td><td>postnatal day 3 </td><td>1967sTS.Mouse.Testis.3dpb.Male</td></tr>\n",
       "</tbody>\n",
       "</table>\n"
      ],
      "text/latex": [
       "A data.table: 10 × 11\n",
       "\\begin{tabular}{lllllllllll}\n",
       " Source Name & organism & strain & genotype & organism part & developmental stage & age & sex & organism part2 & developmental stage2 & Assay Name\\\\\n",
       " <chr> & <chr> & <chr> & <chr> & <chr> & <chr> & <dbl> & <chr> & <chr> & <chr> & <chr>\\\\\n",
       "\\hline\n",
       "\t 1879sTS.Mouse.Testis.2wpb.Male & Mus musculus & CD-1 & wild type genotype & testis & postnatal & 14 & male & testis & postnatal day 14 & 1879sTS.Mouse.Testis.2wpb.Male\\\\\n",
       "\t 1883sTS.Mouse.Testis.2wpb.Male & Mus musculus & CD-1 & wild type genotype & testis & postnatal & 14 & male & testis & postnatal day 14 & 1883sTS.Mouse.Testis.2wpb.Male\\\\\n",
       "\t 1895sTS.Mouse.Testis.4wpb.Male & Mus musculus & CD-1 & wild type genotype & testis & postnatal & 28 & male & testis & postnatal day 28 & 1895sTS.Mouse.Testis.4wpb.Male\\\\\n",
       "\t 1899sTS.Mouse.Testis.4wpb.Male & Mus musculus & CD-1 & wild type genotype & testis & postnatal & 28 & male & testis & postnatal day 28 & 1899sTS.Mouse.Testis.4wpb.Male\\\\\n",
       "\t 1911sTS.Mouse.Testis.0dpb.Male & Mus musculus & CD-1 & wild type genotype & testis & postnatal &  0 & male & testis & postnatal day 0  & 1911sTS.Mouse.Testis.0dpb.Male\\\\\n",
       "\t 1917sTS.Mouse.Testis.0dpb.Male & Mus musculus & CD-1 & wild type genotype & testis & postnatal &  0 & male & testis & postnatal day 0  & 1917sTS.Mouse.Testis.0dpb.Male\\\\\n",
       "\t 1929sTS.Mouse.Testis.3dpb.Male & Mus musculus & CD-1 & wild type genotype & testis & postnatal &  3 & male & testis & postnatal day 3  & 1929sTS.Mouse.Testis.3dpb.Male\\\\\n",
       "\t 1947sTS.Mouse.Testis.9wpb.Male & Mus musculus & CD-1 & wild type genotype & testis & postnatal & 63 & male & testis & postnatal day 63 & 1947sTS.Mouse.Testis.9wpb.Male\\\\\n",
       "\t 1959sTS.Mouse.Testis.9wpb.Male & Mus musculus & CD-1 & wild type genotype & testis & postnatal & 63 & male & testis & postnatal day 63 & 1959sTS.Mouse.Testis.9wpb.Male\\\\\n",
       "\t 1967sTS.Mouse.Testis.3dpb.Male & Mus musculus & CD-1 & wild type genotype & testis & postnatal &  3 & male & testis & postnatal day 3  & 1967sTS.Mouse.Testis.3dpb.Male\\\\\n",
       "\\end{tabular}\n"
      ],
      "text/markdown": [
       "\n",
       "A data.table: 10 × 11\n",
       "\n",
       "| Source Name &lt;chr&gt; | organism &lt;chr&gt; | strain &lt;chr&gt; | genotype &lt;chr&gt; | organism part &lt;chr&gt; | developmental stage &lt;chr&gt; | age &lt;dbl&gt; | sex &lt;chr&gt; | organism part2 &lt;chr&gt; | developmental stage2 &lt;chr&gt; | Assay Name &lt;chr&gt; |\n",
       "|---|---|---|---|---|---|---|---|---|---|---|\n",
       "| 1879sTS.Mouse.Testis.2wpb.Male | Mus musculus | CD-1 | wild type genotype | testis | postnatal | 14 | male | testis | postnatal day 14 | 1879sTS.Mouse.Testis.2wpb.Male |\n",
       "| 1883sTS.Mouse.Testis.2wpb.Male | Mus musculus | CD-1 | wild type genotype | testis | postnatal | 14 | male | testis | postnatal day 14 | 1883sTS.Mouse.Testis.2wpb.Male |\n",
       "| 1895sTS.Mouse.Testis.4wpb.Male | Mus musculus | CD-1 | wild type genotype | testis | postnatal | 28 | male | testis | postnatal day 28 | 1895sTS.Mouse.Testis.4wpb.Male |\n",
       "| 1899sTS.Mouse.Testis.4wpb.Male | Mus musculus | CD-1 | wild type genotype | testis | postnatal | 28 | male | testis | postnatal day 28 | 1899sTS.Mouse.Testis.4wpb.Male |\n",
       "| 1911sTS.Mouse.Testis.0dpb.Male | Mus musculus | CD-1 | wild type genotype | testis | postnatal |  0 | male | testis | postnatal day 0  | 1911sTS.Mouse.Testis.0dpb.Male |\n",
       "| 1917sTS.Mouse.Testis.0dpb.Male | Mus musculus | CD-1 | wild type genotype | testis | postnatal |  0 | male | testis | postnatal day 0  | 1917sTS.Mouse.Testis.0dpb.Male |\n",
       "| 1929sTS.Mouse.Testis.3dpb.Male | Mus musculus | CD-1 | wild type genotype | testis | postnatal |  3 | male | testis | postnatal day 3  | 1929sTS.Mouse.Testis.3dpb.Male |\n",
       "| 1947sTS.Mouse.Testis.9wpb.Male | Mus musculus | CD-1 | wild type genotype | testis | postnatal | 63 | male | testis | postnatal day 63 | 1947sTS.Mouse.Testis.9wpb.Male |\n",
       "| 1959sTS.Mouse.Testis.9wpb.Male | Mus musculus | CD-1 | wild type genotype | testis | postnatal | 63 | male | testis | postnatal day 63 | 1959sTS.Mouse.Testis.9wpb.Male |\n",
       "| 1967sTS.Mouse.Testis.3dpb.Male | Mus musculus | CD-1 | wild type genotype | testis | postnatal |  3 | male | testis | postnatal day 3  | 1967sTS.Mouse.Testis.3dpb.Male |\n",
       "\n"
      ],
      "text/plain": [
       "   Source Name                    organism     strain genotype          \n",
       "1  1879sTS.Mouse.Testis.2wpb.Male Mus musculus CD-1   wild type genotype\n",
       "2  1883sTS.Mouse.Testis.2wpb.Male Mus musculus CD-1   wild type genotype\n",
       "3  1895sTS.Mouse.Testis.4wpb.Male Mus musculus CD-1   wild type genotype\n",
       "4  1899sTS.Mouse.Testis.4wpb.Male Mus musculus CD-1   wild type genotype\n",
       "5  1911sTS.Mouse.Testis.0dpb.Male Mus musculus CD-1   wild type genotype\n",
       "6  1917sTS.Mouse.Testis.0dpb.Male Mus musculus CD-1   wild type genotype\n",
       "7  1929sTS.Mouse.Testis.3dpb.Male Mus musculus CD-1   wild type genotype\n",
       "8  1947sTS.Mouse.Testis.9wpb.Male Mus musculus CD-1   wild type genotype\n",
       "9  1959sTS.Mouse.Testis.9wpb.Male Mus musculus CD-1   wild type genotype\n",
       "10 1967sTS.Mouse.Testis.3dpb.Male Mus musculus CD-1   wild type genotype\n",
       "   organism part developmental stage age sex  organism part2\n",
       "1  testis        postnatal           14  male testis        \n",
       "2  testis        postnatal           14  male testis        \n",
       "3  testis        postnatal           28  male testis        \n",
       "4  testis        postnatal           28  male testis        \n",
       "5  testis        postnatal            0  male testis        \n",
       "6  testis        postnatal            0  male testis        \n",
       "7  testis        postnatal            3  male testis        \n",
       "8  testis        postnatal           63  male testis        \n",
       "9  testis        postnatal           63  male testis        \n",
       "10 testis        postnatal            3  male testis        \n",
       "   developmental stage2 Assay Name                    \n",
       "1  postnatal day 14     1879sTS.Mouse.Testis.2wpb.Male\n",
       "2  postnatal day 14     1883sTS.Mouse.Testis.2wpb.Male\n",
       "3  postnatal day 28     1895sTS.Mouse.Testis.4wpb.Male\n",
       "4  postnatal day 28     1899sTS.Mouse.Testis.4wpb.Male\n",
       "5  postnatal day 0      1911sTS.Mouse.Testis.0dpb.Male\n",
       "6  postnatal day 0      1917sTS.Mouse.Testis.0dpb.Male\n",
       "7  postnatal day 3      1929sTS.Mouse.Testis.3dpb.Male\n",
       "8  postnatal day 63     1947sTS.Mouse.Testis.9wpb.Male\n",
       "9  postnatal day 63     1959sTS.Mouse.Testis.9wpb.Male\n",
       "10 postnatal day 3      1967sTS.Mouse.Testis.3dpb.Male"
      ]
     },
     "metadata": {},
     "output_type": "display_data"
    }
   ],
   "source": [
    "#mm\n",
    "testis_samples[['mm']] = sample_info$mm[str_detect(`Source Name`, \"estis\") & str_detect(`developmental stage`, 'postnatal')][1:10]\n",
    "testis_samples[['mm']]"
   ]
  },
  {
   "cell_type": "code",
   "execution_count": 217,
   "id": "f940b863",
   "metadata": {
    "vscode": {
     "languageId": "r"
    }
   },
   "outputs": [
    {
     "data": {
      "text/html": [
       "<table class=\"dataframe\">\n",
       "<caption>A data.table: 10 × 11</caption>\n",
       "<thead>\n",
       "\t<tr><th scope=col>Source Name</th><th scope=col>organism</th><th scope=col>strain</th><th scope=col>genotype</th><th scope=col>developmental stage</th><th scope=col>age</th><th scope=col>sex</th><th scope=col>organism part</th><th scope=col>developmental stage2</th><th scope=col>organism part2</th><th scope=col>Assay Name</th></tr>\n",
       "\t<tr><th scope=col>&lt;chr&gt;</th><th scope=col>&lt;chr&gt;</th><th scope=col>&lt;chr&gt;</th><th scope=col>&lt;chr&gt;</th><th scope=col>&lt;chr&gt;</th><th scope=col>&lt;dbl&gt;</th><th scope=col>&lt;chr&gt;</th><th scope=col>&lt;chr&gt;</th><th scope=col>&lt;chr&gt;</th><th scope=col>&lt;chr&gt;</th><th scope=col>&lt;chr&gt;</th></tr>\n",
       "</thead>\n",
       "<tbody>\n",
       "\t<tr><td>1970sTS.Rat.Testis.6wpb.Male </td><td>Rattus norvegicus</td><td>Holtzman SD</td><td>wild type genotype</td><td>postnatal</td><td> 42</td><td>male</td><td>testis</td><td>postnatal day 42 </td><td>testis</td><td>1970sTS.Rat.Testis.6wpb.Male </td></tr>\n",
       "\t<tr><td>1974sTS.Rat.Testis.6wpb.Male </td><td>Rattus norvegicus</td><td>Holtzman SD</td><td>wild type genotype</td><td>postnatal</td><td> 42</td><td>male</td><td>testis</td><td>postnatal day 42 </td><td>testis</td><td>1974sTS.Rat.Testis.6wpb.Male </td></tr>\n",
       "\t<tr><td>2304sTS.Rat.Testis.1wpb.Male </td><td>Rattus norvegicus</td><td>Holtzman SD</td><td>wild type genotype</td><td>postnatal</td><td>  7</td><td>male</td><td>testis</td><td>postnatal day 7  </td><td>testis</td><td>2304sTS.Rat.Testis.1wpb.Male </td></tr>\n",
       "\t<tr><td>2344sTS.Rat.Testis.2wpb.Male </td><td>Rattus norvegicus</td><td>Holtzman SD</td><td>wild type genotype</td><td>postnatal</td><td> 14</td><td>male</td><td>testis</td><td>postnatal day 14 </td><td>testis</td><td>2344sTS.Rat.Testis.2wpb.Male </td></tr>\n",
       "\t<tr><td>2347sTS.Rat.Testis.2wpb.Male </td><td>Rattus norvegicus</td><td>Holtzman SD</td><td>wild type genotype</td><td>postnatal</td><td> 14</td><td>male</td><td>testis</td><td>postnatal day 14 </td><td>testis</td><td>2347sTS.Rat.Testis.2wpb.Male </td></tr>\n",
       "\t<tr><td>2358sTS.Rat.Testis.16wpb.Male</td><td>Rattus norvegicus</td><td>Holtzman SD</td><td>wild type genotype</td><td>postnatal</td><td>112</td><td>male</td><td>testis</td><td>postnatal day 112</td><td>testis</td><td>2358sTS.Rat.Testis.16wpb.Male</td></tr>\n",
       "\t<tr><td>2362sTS.Rat.Testis.1wpb.Male </td><td>Rattus norvegicus</td><td>Holtzman SD</td><td>wild type genotype</td><td>postnatal</td><td>  7</td><td>male</td><td>testis</td><td>postnatal day 7  </td><td>testis</td><td>2362sTS.Rat.Testis.1wpb.Male </td></tr>\n",
       "\t<tr><td>2369sTS.Rat.Testis.16wpb.Male</td><td>Rattus norvegicus</td><td>Holtzman SD</td><td>wild type genotype</td><td>postnatal</td><td>112</td><td>male</td><td>testis</td><td>postnatal day 112</td><td>testis</td><td>2369sTS.Rat.Testis.16wpb.Male</td></tr>\n",
       "\t<tr><td>4909sTS.Rat.Testis.3dpb.Male </td><td>Rattus norvegicus</td><td>Holtzman SD</td><td>wild type genotype</td><td>postnatal</td><td>  3</td><td>male</td><td>testis</td><td>postnatal day 3  </td><td>testis</td><td>4909sTS.Rat.Testis.3dpb.Male </td></tr>\n",
       "\t<tr><td>4963sTS.Rat.Testis.3dpb.Male </td><td>Rattus norvegicus</td><td>Holtzman SD</td><td>wild type genotype</td><td>postnatal</td><td>  3</td><td>male</td><td>testis</td><td>postnatal day 3  </td><td>testis</td><td>4963sTS.Rat.Testis.3dpb.Male </td></tr>\n",
       "</tbody>\n",
       "</table>\n"
      ],
      "text/latex": [
       "A data.table: 10 × 11\n",
       "\\begin{tabular}{lllllllllll}\n",
       " Source Name & organism & strain & genotype & developmental stage & age & sex & organism part & developmental stage2 & organism part2 & Assay Name\\\\\n",
       " <chr> & <chr> & <chr> & <chr> & <chr> & <dbl> & <chr> & <chr> & <chr> & <chr> & <chr>\\\\\n",
       "\\hline\n",
       "\t 1970sTS.Rat.Testis.6wpb.Male  & Rattus norvegicus & Holtzman SD & wild type genotype & postnatal &  42 & male & testis & postnatal day 42  & testis & 1970sTS.Rat.Testis.6wpb.Male \\\\\n",
       "\t 1974sTS.Rat.Testis.6wpb.Male  & Rattus norvegicus & Holtzman SD & wild type genotype & postnatal &  42 & male & testis & postnatal day 42  & testis & 1974sTS.Rat.Testis.6wpb.Male \\\\\n",
       "\t 2304sTS.Rat.Testis.1wpb.Male  & Rattus norvegicus & Holtzman SD & wild type genotype & postnatal &   7 & male & testis & postnatal day 7   & testis & 2304sTS.Rat.Testis.1wpb.Male \\\\\n",
       "\t 2344sTS.Rat.Testis.2wpb.Male  & Rattus norvegicus & Holtzman SD & wild type genotype & postnatal &  14 & male & testis & postnatal day 14  & testis & 2344sTS.Rat.Testis.2wpb.Male \\\\\n",
       "\t 2347sTS.Rat.Testis.2wpb.Male  & Rattus norvegicus & Holtzman SD & wild type genotype & postnatal &  14 & male & testis & postnatal day 14  & testis & 2347sTS.Rat.Testis.2wpb.Male \\\\\n",
       "\t 2358sTS.Rat.Testis.16wpb.Male & Rattus norvegicus & Holtzman SD & wild type genotype & postnatal & 112 & male & testis & postnatal day 112 & testis & 2358sTS.Rat.Testis.16wpb.Male\\\\\n",
       "\t 2362sTS.Rat.Testis.1wpb.Male  & Rattus norvegicus & Holtzman SD & wild type genotype & postnatal &   7 & male & testis & postnatal day 7   & testis & 2362sTS.Rat.Testis.1wpb.Male \\\\\n",
       "\t 2369sTS.Rat.Testis.16wpb.Male & Rattus norvegicus & Holtzman SD & wild type genotype & postnatal & 112 & male & testis & postnatal day 112 & testis & 2369sTS.Rat.Testis.16wpb.Male\\\\\n",
       "\t 4909sTS.Rat.Testis.3dpb.Male  & Rattus norvegicus & Holtzman SD & wild type genotype & postnatal &   3 & male & testis & postnatal day 3   & testis & 4909sTS.Rat.Testis.3dpb.Male \\\\\n",
       "\t 4963sTS.Rat.Testis.3dpb.Male  & Rattus norvegicus & Holtzman SD & wild type genotype & postnatal &   3 & male & testis & postnatal day 3   & testis & 4963sTS.Rat.Testis.3dpb.Male \\\\\n",
       "\\end{tabular}\n"
      ],
      "text/markdown": [
       "\n",
       "A data.table: 10 × 11\n",
       "\n",
       "| Source Name &lt;chr&gt; | organism &lt;chr&gt; | strain &lt;chr&gt; | genotype &lt;chr&gt; | developmental stage &lt;chr&gt; | age &lt;dbl&gt; | sex &lt;chr&gt; | organism part &lt;chr&gt; | developmental stage2 &lt;chr&gt; | organism part2 &lt;chr&gt; | Assay Name &lt;chr&gt; |\n",
       "|---|---|---|---|---|---|---|---|---|---|---|\n",
       "| 1970sTS.Rat.Testis.6wpb.Male  | Rattus norvegicus | Holtzman SD | wild type genotype | postnatal |  42 | male | testis | postnatal day 42  | testis | 1970sTS.Rat.Testis.6wpb.Male  |\n",
       "| 1974sTS.Rat.Testis.6wpb.Male  | Rattus norvegicus | Holtzman SD | wild type genotype | postnatal |  42 | male | testis | postnatal day 42  | testis | 1974sTS.Rat.Testis.6wpb.Male  |\n",
       "| 2304sTS.Rat.Testis.1wpb.Male  | Rattus norvegicus | Holtzman SD | wild type genotype | postnatal |   7 | male | testis | postnatal day 7   | testis | 2304sTS.Rat.Testis.1wpb.Male  |\n",
       "| 2344sTS.Rat.Testis.2wpb.Male  | Rattus norvegicus | Holtzman SD | wild type genotype | postnatal |  14 | male | testis | postnatal day 14  | testis | 2344sTS.Rat.Testis.2wpb.Male  |\n",
       "| 2347sTS.Rat.Testis.2wpb.Male  | Rattus norvegicus | Holtzman SD | wild type genotype | postnatal |  14 | male | testis | postnatal day 14  | testis | 2347sTS.Rat.Testis.2wpb.Male  |\n",
       "| 2358sTS.Rat.Testis.16wpb.Male | Rattus norvegicus | Holtzman SD | wild type genotype | postnatal | 112 | male | testis | postnatal day 112 | testis | 2358sTS.Rat.Testis.16wpb.Male |\n",
       "| 2362sTS.Rat.Testis.1wpb.Male  | Rattus norvegicus | Holtzman SD | wild type genotype | postnatal |   7 | male | testis | postnatal day 7   | testis | 2362sTS.Rat.Testis.1wpb.Male  |\n",
       "| 2369sTS.Rat.Testis.16wpb.Male | Rattus norvegicus | Holtzman SD | wild type genotype | postnatal | 112 | male | testis | postnatal day 112 | testis | 2369sTS.Rat.Testis.16wpb.Male |\n",
       "| 4909sTS.Rat.Testis.3dpb.Male  | Rattus norvegicus | Holtzman SD | wild type genotype | postnatal |   3 | male | testis | postnatal day 3   | testis | 4909sTS.Rat.Testis.3dpb.Male  |\n",
       "| 4963sTS.Rat.Testis.3dpb.Male  | Rattus norvegicus | Holtzman SD | wild type genotype | postnatal |   3 | male | testis | postnatal day 3   | testis | 4963sTS.Rat.Testis.3dpb.Male  |\n",
       "\n"
      ],
      "text/plain": [
       "   Source Name                   organism          strain     \n",
       "1  1970sTS.Rat.Testis.6wpb.Male  Rattus norvegicus Holtzman SD\n",
       "2  1974sTS.Rat.Testis.6wpb.Male  Rattus norvegicus Holtzman SD\n",
       "3  2304sTS.Rat.Testis.1wpb.Male  Rattus norvegicus Holtzman SD\n",
       "4  2344sTS.Rat.Testis.2wpb.Male  Rattus norvegicus Holtzman SD\n",
       "5  2347sTS.Rat.Testis.2wpb.Male  Rattus norvegicus Holtzman SD\n",
       "6  2358sTS.Rat.Testis.16wpb.Male Rattus norvegicus Holtzman SD\n",
       "7  2362sTS.Rat.Testis.1wpb.Male  Rattus norvegicus Holtzman SD\n",
       "8  2369sTS.Rat.Testis.16wpb.Male Rattus norvegicus Holtzman SD\n",
       "9  4909sTS.Rat.Testis.3dpb.Male  Rattus norvegicus Holtzman SD\n",
       "10 4963sTS.Rat.Testis.3dpb.Male  Rattus norvegicus Holtzman SD\n",
       "   genotype           developmental stage age sex  organism part\n",
       "1  wild type genotype postnatal            42 male testis       \n",
       "2  wild type genotype postnatal            42 male testis       \n",
       "3  wild type genotype postnatal             7 male testis       \n",
       "4  wild type genotype postnatal            14 male testis       \n",
       "5  wild type genotype postnatal            14 male testis       \n",
       "6  wild type genotype postnatal           112 male testis       \n",
       "7  wild type genotype postnatal             7 male testis       \n",
       "8  wild type genotype postnatal           112 male testis       \n",
       "9  wild type genotype postnatal             3 male testis       \n",
       "10 wild type genotype postnatal             3 male testis       \n",
       "   developmental stage2 organism part2 Assay Name                   \n",
       "1  postnatal day 42     testis         1970sTS.Rat.Testis.6wpb.Male \n",
       "2  postnatal day 42     testis         1974sTS.Rat.Testis.6wpb.Male \n",
       "3  postnatal day 7      testis         2304sTS.Rat.Testis.1wpb.Male \n",
       "4  postnatal day 14     testis         2344sTS.Rat.Testis.2wpb.Male \n",
       "5  postnatal day 14     testis         2347sTS.Rat.Testis.2wpb.Male \n",
       "6  postnatal day 112    testis         2358sTS.Rat.Testis.16wpb.Male\n",
       "7  postnatal day 7      testis         2362sTS.Rat.Testis.1wpb.Male \n",
       "8  postnatal day 112    testis         2369sTS.Rat.Testis.16wpb.Male\n",
       "9  postnatal day 3      testis         4909sTS.Rat.Testis.3dpb.Male \n",
       "10 postnatal day 3      testis         4963sTS.Rat.Testis.3dpb.Male "
      ]
     },
     "metadata": {},
     "output_type": "display_data"
    }
   ],
   "source": [
    "#rat\n",
    "testis_samples[['rat']] = sample_info$rat[str_detect(`Source Name`, \"estis\") & str_detect(`developmental stage`, 'postnatal')][age > 0][1:10]\n",
    "testis_samples[['rat']]"
   ]
  },
  {
   "cell_type": "code",
   "execution_count": 218,
   "id": "ac62d56b",
   "metadata": {
    "vscode": {
     "languageId": "r"
    }
   },
   "outputs": [
    {
     "data": {
      "text/html": [
       "<table class=\"dataframe\">\n",
       "<caption>A data.table: 10 × 10</caption>\n",
       "<thead>\n",
       "\t<tr><th scope=col>Source Name</th><th scope=col>organism</th><th scope=col>genotype</th><th scope=col>developmental stage</th><th scope=col>age</th><th scope=col>organism part</th><th scope=col>sex</th><th scope=col>developmental stage2</th><th scope=col>organism part2</th><th scope=col>Assay Name</th></tr>\n",
       "\t<tr><th scope=col>&lt;chr&gt;</th><th scope=col>&lt;chr&gt;</th><th scope=col>&lt;chr&gt;</th><th scope=col>&lt;chr&gt;</th><th scope=col>&lt;chr&gt;</th><th scope=col>&lt;chr&gt;</th><th scope=col>&lt;chr&gt;</th><th scope=col>&lt;chr&gt;</th><th scope=col>&lt;chr&gt;</th><th scope=col>&lt;chr&gt;</th></tr>\n",
       "</thead>\n",
       "<tbody>\n",
       "\t<tr><td>5371sTS.Macaque.Testis.151dpb.Male</td><td>Macaca mulatta</td><td>wild type genotype</td><td>postnatal</td><td>6       </td><td>testis</td><td>male</td><td>6 months postnatal      </td><td>testis</td><td>5371sTS.Macaque.Testis.151dpb.Male</td></tr>\n",
       "\t<tr><td>5373sTS.Macaque.Testis.9ypb.Male  </td><td>Macaca mulatta</td><td>wild type genotype</td><td>postnatal</td><td>9       </td><td>testis</td><td>male</td><td>9 years postnatal       </td><td>testis</td><td>5373sTS.Macaque.Testis.9ypb.Male  </td></tr>\n",
       "\t<tr><td>5383sTS.Macaque.Testis.21ypb.Male </td><td>Macaca mulatta</td><td>wild type genotype</td><td>postnatal</td><td>20 to 26</td><td>testis</td><td>male</td><td>20 to 26 years postnatal</td><td>testis</td><td>5383sTS.Macaque.Testis.21ypb.Male </td></tr>\n",
       "\t<tr><td>5410sTS.Macaque.Testis.15ypb.Male </td><td>Macaca mulatta</td><td>wild type genotype</td><td>postnatal</td><td>14 to 15</td><td>testis</td><td>male</td><td>14 to 15 years postnatal</td><td>testis</td><td>5410sTS.Macaque.Testis.15ypb.Male </td></tr>\n",
       "\t<tr><td>5412sTS.Macaque.Testis.22ypb.Male </td><td>Macaca mulatta</td><td>wild type genotype</td><td>postnatal</td><td>20 to 26</td><td>testis</td><td>male</td><td>20 to 26 years postnatal</td><td>testis</td><td>5412sTS.Macaque.Testis.22ypb.Male </td></tr>\n",
       "\t<tr><td>5414sTS.Macaque.Testis.9ypb.Male  </td><td>Macaca mulatta</td><td>wild type genotype</td><td>postnatal</td><td>9       </td><td>testis</td><td>male</td><td>9 years postnatal       </td><td>testis</td><td>5414sTS.Macaque.Testis.9ypb.Male  </td></tr>\n",
       "\t<tr><td>5435sTS.Macaque.Testis.14ypb.Male </td><td>Macaca mulatta</td><td>wild type genotype</td><td>postnatal</td><td>14 to 15</td><td>testis</td><td>male</td><td>14 to 15 years postnatal</td><td>testis</td><td>5435sTS.Macaque.Testis.14ypb.Male </td></tr>\n",
       "\t<tr><td>5440sTS.Macaque.Testis.3ypb.Male  </td><td>Macaca mulatta</td><td>wild type genotype</td><td>postnatal</td><td>3       </td><td>testis</td><td>male</td><td>3 years postnatal       </td><td>testis</td><td>5440sTS.Macaque.Testis.3ypb.Male  </td></tr>\n",
       "\t<tr><td>5443sTS.Macaque.Testis.3ypb.Male  </td><td>Macaca mulatta</td><td>wild type genotype</td><td>postnatal</td><td>3       </td><td>testis</td><td>male</td><td>3 years postnatal       </td><td>testis</td><td>5443sTS.Macaque.Testis.3ypb.Male  </td></tr>\n",
       "\t<tr><td>5456sTS.Macaque.Testis.153dpb.Male</td><td>Macaca mulatta</td><td>wild type genotype</td><td>postnatal</td><td>6       </td><td>testis</td><td>male</td><td>6 months postnatal      </td><td>testis</td><td>5456sTS.Macaque.Testis.153dpb.Male</td></tr>\n",
       "</tbody>\n",
       "</table>\n"
      ],
      "text/latex": [
       "A data.table: 10 × 10\n",
       "\\begin{tabular}{llllllllll}\n",
       " Source Name & organism & genotype & developmental stage & age & organism part & sex & developmental stage2 & organism part2 & Assay Name\\\\\n",
       " <chr> & <chr> & <chr> & <chr> & <chr> & <chr> & <chr> & <chr> & <chr> & <chr>\\\\\n",
       "\\hline\n",
       "\t 5371sTS.Macaque.Testis.151dpb.Male & Macaca mulatta & wild type genotype & postnatal & 6        & testis & male & 6 months postnatal       & testis & 5371sTS.Macaque.Testis.151dpb.Male\\\\\n",
       "\t 5373sTS.Macaque.Testis.9ypb.Male   & Macaca mulatta & wild type genotype & postnatal & 9        & testis & male & 9 years postnatal        & testis & 5373sTS.Macaque.Testis.9ypb.Male  \\\\\n",
       "\t 5383sTS.Macaque.Testis.21ypb.Male  & Macaca mulatta & wild type genotype & postnatal & 20 to 26 & testis & male & 20 to 26 years postnatal & testis & 5383sTS.Macaque.Testis.21ypb.Male \\\\\n",
       "\t 5410sTS.Macaque.Testis.15ypb.Male  & Macaca mulatta & wild type genotype & postnatal & 14 to 15 & testis & male & 14 to 15 years postnatal & testis & 5410sTS.Macaque.Testis.15ypb.Male \\\\\n",
       "\t 5412sTS.Macaque.Testis.22ypb.Male  & Macaca mulatta & wild type genotype & postnatal & 20 to 26 & testis & male & 20 to 26 years postnatal & testis & 5412sTS.Macaque.Testis.22ypb.Male \\\\\n",
       "\t 5414sTS.Macaque.Testis.9ypb.Male   & Macaca mulatta & wild type genotype & postnatal & 9        & testis & male & 9 years postnatal        & testis & 5414sTS.Macaque.Testis.9ypb.Male  \\\\\n",
       "\t 5435sTS.Macaque.Testis.14ypb.Male  & Macaca mulatta & wild type genotype & postnatal & 14 to 15 & testis & male & 14 to 15 years postnatal & testis & 5435sTS.Macaque.Testis.14ypb.Male \\\\\n",
       "\t 5440sTS.Macaque.Testis.3ypb.Male   & Macaca mulatta & wild type genotype & postnatal & 3        & testis & male & 3 years postnatal        & testis & 5440sTS.Macaque.Testis.3ypb.Male  \\\\\n",
       "\t 5443sTS.Macaque.Testis.3ypb.Male   & Macaca mulatta & wild type genotype & postnatal & 3        & testis & male & 3 years postnatal        & testis & 5443sTS.Macaque.Testis.3ypb.Male  \\\\\n",
       "\t 5456sTS.Macaque.Testis.153dpb.Male & Macaca mulatta & wild type genotype & postnatal & 6        & testis & male & 6 months postnatal       & testis & 5456sTS.Macaque.Testis.153dpb.Male\\\\\n",
       "\\end{tabular}\n"
      ],
      "text/markdown": [
       "\n",
       "A data.table: 10 × 10\n",
       "\n",
       "| Source Name &lt;chr&gt; | organism &lt;chr&gt; | genotype &lt;chr&gt; | developmental stage &lt;chr&gt; | age &lt;chr&gt; | organism part &lt;chr&gt; | sex &lt;chr&gt; | developmental stage2 &lt;chr&gt; | organism part2 &lt;chr&gt; | Assay Name &lt;chr&gt; |\n",
       "|---|---|---|---|---|---|---|---|---|---|\n",
       "| 5371sTS.Macaque.Testis.151dpb.Male | Macaca mulatta | wild type genotype | postnatal | 6        | testis | male | 6 months postnatal       | testis | 5371sTS.Macaque.Testis.151dpb.Male |\n",
       "| 5373sTS.Macaque.Testis.9ypb.Male   | Macaca mulatta | wild type genotype | postnatal | 9        | testis | male | 9 years postnatal        | testis | 5373sTS.Macaque.Testis.9ypb.Male   |\n",
       "| 5383sTS.Macaque.Testis.21ypb.Male  | Macaca mulatta | wild type genotype | postnatal | 20 to 26 | testis | male | 20 to 26 years postnatal | testis | 5383sTS.Macaque.Testis.21ypb.Male  |\n",
       "| 5410sTS.Macaque.Testis.15ypb.Male  | Macaca mulatta | wild type genotype | postnatal | 14 to 15 | testis | male | 14 to 15 years postnatal | testis | 5410sTS.Macaque.Testis.15ypb.Male  |\n",
       "| 5412sTS.Macaque.Testis.22ypb.Male  | Macaca mulatta | wild type genotype | postnatal | 20 to 26 | testis | male | 20 to 26 years postnatal | testis | 5412sTS.Macaque.Testis.22ypb.Male  |\n",
       "| 5414sTS.Macaque.Testis.9ypb.Male   | Macaca mulatta | wild type genotype | postnatal | 9        | testis | male | 9 years postnatal        | testis | 5414sTS.Macaque.Testis.9ypb.Male   |\n",
       "| 5435sTS.Macaque.Testis.14ypb.Male  | Macaca mulatta | wild type genotype | postnatal | 14 to 15 | testis | male | 14 to 15 years postnatal | testis | 5435sTS.Macaque.Testis.14ypb.Male  |\n",
       "| 5440sTS.Macaque.Testis.3ypb.Male   | Macaca mulatta | wild type genotype | postnatal | 3        | testis | male | 3 years postnatal        | testis | 5440sTS.Macaque.Testis.3ypb.Male   |\n",
       "| 5443sTS.Macaque.Testis.3ypb.Male   | Macaca mulatta | wild type genotype | postnatal | 3        | testis | male | 3 years postnatal        | testis | 5443sTS.Macaque.Testis.3ypb.Male   |\n",
       "| 5456sTS.Macaque.Testis.153dpb.Male | Macaca mulatta | wild type genotype | postnatal | 6        | testis | male | 6 months postnatal       | testis | 5456sTS.Macaque.Testis.153dpb.Male |\n",
       "\n"
      ],
      "text/plain": [
       "   Source Name                        organism       genotype          \n",
       "1  5371sTS.Macaque.Testis.151dpb.Male Macaca mulatta wild type genotype\n",
       "2  5373sTS.Macaque.Testis.9ypb.Male   Macaca mulatta wild type genotype\n",
       "3  5383sTS.Macaque.Testis.21ypb.Male  Macaca mulatta wild type genotype\n",
       "4  5410sTS.Macaque.Testis.15ypb.Male  Macaca mulatta wild type genotype\n",
       "5  5412sTS.Macaque.Testis.22ypb.Male  Macaca mulatta wild type genotype\n",
       "6  5414sTS.Macaque.Testis.9ypb.Male   Macaca mulatta wild type genotype\n",
       "7  5435sTS.Macaque.Testis.14ypb.Male  Macaca mulatta wild type genotype\n",
       "8  5440sTS.Macaque.Testis.3ypb.Male   Macaca mulatta wild type genotype\n",
       "9  5443sTS.Macaque.Testis.3ypb.Male   Macaca mulatta wild type genotype\n",
       "10 5456sTS.Macaque.Testis.153dpb.Male Macaca mulatta wild type genotype\n",
       "   developmental stage age      organism part sex  developmental stage2    \n",
       "1  postnatal           6        testis        male 6 months postnatal      \n",
       "2  postnatal           9        testis        male 9 years postnatal       \n",
       "3  postnatal           20 to 26 testis        male 20 to 26 years postnatal\n",
       "4  postnatal           14 to 15 testis        male 14 to 15 years postnatal\n",
       "5  postnatal           20 to 26 testis        male 20 to 26 years postnatal\n",
       "6  postnatal           9        testis        male 9 years postnatal       \n",
       "7  postnatal           14 to 15 testis        male 14 to 15 years postnatal\n",
       "8  postnatal           3        testis        male 3 years postnatal       \n",
       "9  postnatal           3        testis        male 3 years postnatal       \n",
       "10 postnatal           6        testis        male 6 months postnatal      \n",
       "   organism part2 Assay Name                        \n",
       "1  testis         5371sTS.Macaque.Testis.151dpb.Male\n",
       "2  testis         5373sTS.Macaque.Testis.9ypb.Male  \n",
       "3  testis         5383sTS.Macaque.Testis.21ypb.Male \n",
       "4  testis         5410sTS.Macaque.Testis.15ypb.Male \n",
       "5  testis         5412sTS.Macaque.Testis.22ypb.Male \n",
       "6  testis         5414sTS.Macaque.Testis.9ypb.Male  \n",
       "7  testis         5435sTS.Macaque.Testis.14ypb.Male \n",
       "8  testis         5440sTS.Macaque.Testis.3ypb.Male  \n",
       "9  testis         5443sTS.Macaque.Testis.3ypb.Male  \n",
       "10 testis         5456sTS.Macaque.Testis.153dpb.Male"
      ]
     },
     "metadata": {},
     "output_type": "display_data"
    }
   ],
   "source": [
    "#rmac\n",
    "testis_samples[['rmac']] = sample_info$rmac[str_detect(`Source Name`, \"estis\") & str_detect(`developmental stage`, 'postnatal')][!age %in% c('0', '1')][1:10]\n",
    "testis_samples[['rmac']]"
   ]
  },
  {
   "cell_type": "code",
   "execution_count": null,
   "id": "fadb6420",
   "metadata": {
    "vscode": {
     "languageId": "r"
    }
   },
   "outputs": [],
   "source": []
  },
  {
   "cell_type": "markdown",
   "id": "38dfab22",
   "metadata": {},
   "source": [
    "# section"
   ]
  },
  {
   "cell_type": "code",
   "execution_count": 328,
   "id": "97d64a5c",
   "metadata": {
    "vscode": {
     "languageId": "r"
    }
   },
   "outputs": [
    {
     "data": {
      "text/html": [
       "<table class=\"dataframe\">\n",
       "<caption>A data.table: 1 × 11</caption>\n",
       "<thead>\n",
       "\t<tr><th scope=col>Source Name</th><th scope=col>organism</th><th scope=col>strain</th><th scope=col>genotype</th><th scope=col>organism part</th><th scope=col>developmental stage</th><th scope=col>age</th><th scope=col>sex</th><th scope=col>organism part2</th><th scope=col>developmental stage2</th><th scope=col>Assay Name</th></tr>\n",
       "\t<tr><th scope=col>&lt;chr&gt;</th><th scope=col>&lt;chr&gt;</th><th scope=col>&lt;chr&gt;</th><th scope=col>&lt;chr&gt;</th><th scope=col>&lt;chr&gt;</th><th scope=col>&lt;chr&gt;</th><th scope=col>&lt;dbl&gt;</th><th scope=col>&lt;chr&gt;</th><th scope=col>&lt;chr&gt;</th><th scope=col>&lt;chr&gt;</th><th scope=col>&lt;chr&gt;</th></tr>\n",
       "</thead>\n",
       "<tbody>\n",
       "\t<tr><td>1929sTS.Mouse.Testis.3dpb.Male</td><td>Mus musculus</td><td>CD-1</td><td>wild type genotype</td><td>testis</td><td>postnatal</td><td>3</td><td>male</td><td>testis</td><td>postnatal day 3</td><td>1929sTS.Mouse.Testis.3dpb.Male</td></tr>\n",
       "</tbody>\n",
       "</table>\n"
      ],
      "text/latex": [
       "A data.table: 1 × 11\n",
       "\\begin{tabular}{lllllllllll}\n",
       " Source Name & organism & strain & genotype & organism part & developmental stage & age & sex & organism part2 & developmental stage2 & Assay Name\\\\\n",
       " <chr> & <chr> & <chr> & <chr> & <chr> & <chr> & <dbl> & <chr> & <chr> & <chr> & <chr>\\\\\n",
       "\\hline\n",
       "\t 1929sTS.Mouse.Testis.3dpb.Male & Mus musculus & CD-1 & wild type genotype & testis & postnatal & 3 & male & testis & postnatal day 3 & 1929sTS.Mouse.Testis.3dpb.Male\\\\\n",
       "\\end{tabular}\n"
      ],
      "text/markdown": [
       "\n",
       "A data.table: 1 × 11\n",
       "\n",
       "| Source Name &lt;chr&gt; | organism &lt;chr&gt; | strain &lt;chr&gt; | genotype &lt;chr&gt; | organism part &lt;chr&gt; | developmental stage &lt;chr&gt; | age &lt;dbl&gt; | sex &lt;chr&gt; | organism part2 &lt;chr&gt; | developmental stage2 &lt;chr&gt; | Assay Name &lt;chr&gt; |\n",
       "|---|---|---|---|---|---|---|---|---|---|---|\n",
       "| 1929sTS.Mouse.Testis.3dpb.Male | Mus musculus | CD-1 | wild type genotype | testis | postnatal | 3 | male | testis | postnatal day 3 | 1929sTS.Mouse.Testis.3dpb.Male |\n",
       "\n"
      ],
      "text/plain": [
       "  Source Name                    organism     strain genotype          \n",
       "1 1929sTS.Mouse.Testis.3dpb.Male Mus musculus CD-1   wild type genotype\n",
       "  organism part developmental stage age sex  organism part2\n",
       "1 testis        postnatal           3   male testis        \n",
       "  developmental stage2 Assay Name                    \n",
       "1 postnatal day 3      1929sTS.Mouse.Testis.3dpb.Male"
      ]
     },
     "metadata": {},
     "output_type": "display_data"
    }
   ],
   "source": [
    "testis_samples$mm[str_detect(`Source Name`, '1929s')]"
   ]
  },
  {
   "cell_type": "code",
   "execution_count": 281,
   "id": "74724f8d",
   "metadata": {
    "vscode": {
     "languageId": "r"
    }
   },
   "outputs": [],
   "source": [
    "url_prefix = list(\n",
    "  hs = 'https://www.ebi.ac.uk/biostudies/files/E-MTAB-6814',\n",
    "  mm = 'https://www.ebi.ac.uk/biostudies/files/E-MTAB-6798',\n",
    "  rat = 'https://www.ebi.ac.uk/biostudies/files/E-MTAB-6811',\n",
    "  rmac = 'https://www.ebi.ac.uk/biostudies/files/E-MTAB-6813'\n",
    ")\n",
    "url_suffix = '.sorted.bam'"
   ]
  },
  {
   "cell_type": "code",
   "execution_count": 286,
   "id": "b83fed60",
   "metadata": {
    "vscode": {
     "languageId": "r"
    }
   },
   "outputs": [
    {
     "data": {
      "text/html": [
       "<style>\n",
       ".list-inline {list-style: none; margin:0; padding: 0}\n",
       ".list-inline>li {display: inline-block}\n",
       ".list-inline>li:not(:last-child)::after {content: \"\\00b7\"; padding: 0 .5ex}\n",
       "</style>\n",
       "<ol class=list-inline><li>'hs'</li><li>'mm'</li><li>'rat'</li><li>'rmac'</li></ol>\n"
      ],
      "text/latex": [
       "\\begin{enumerate*}\n",
       "\\item 'hs'\n",
       "\\item 'mm'\n",
       "\\item 'rat'\n",
       "\\item 'rmac'\n",
       "\\end{enumerate*}\n"
      ],
      "text/markdown": [
       "1. 'hs'\n",
       "2. 'mm'\n",
       "3. 'rat'\n",
       "4. 'rmac'\n",
       "\n",
       "\n"
      ],
      "text/plain": [
       "[1] \"hs\"   \"mm\"   \"rat\"  \"rmac\""
      ]
     },
     "metadata": {},
     "output_type": "display_data"
    }
   ],
   "source": [
    "names(testis_samples)"
   ]
  },
  {
   "cell_type": "code",
   "execution_count": 322,
   "id": "ede8f9ff",
   "metadata": {
    "vscode": {
     "languageId": "r"
    }
   },
   "outputs": [],
   "source": [
    "# write all human samples I want to download (bam files)\n",
    "map(\n",
    "  list(brain_samples, heart_samples, kidney_samples, liver_samples, testis_samples), \n",
    "  \\(l) {\n",
    "    l[['hs']][, `Source Name`] \n",
    "  }\n",
    ") %>% unlist %>% \n",
    "glue(\"{a}.sorted.bam\", a = .) %>% \n",
    "write_lines('../code/resources/moreira/human/hs_filenames.txt')"
   ]
  },
  {
   "cell_type": "code",
   "execution_count": 323,
   "id": "799698b2",
   "metadata": {
    "vscode": {
     "languageId": "r"
    }
   },
   "outputs": [],
   "source": [
    "# write all mm samples I want to download (bam files)\n",
    "map(\n",
    "  list(brain_samples, heart_samples, kidney_samples, liver_samples, testis_samples), \n",
    "  \\(l) {\n",
    "    l[['mm']][, `Source Name`] \n",
    "  }\n",
    ") %>% unlist %>% \n",
    "glue(\"{a}.sorted.bam\", a = .) %>% \n",
    "write_lines('../code/resources/moreira/mm/mm_filenames.txt')"
   ]
  },
  {
   "cell_type": "code",
   "execution_count": 324,
   "id": "49342c11",
   "metadata": {
    "vscode": {
     "languageId": "r"
    }
   },
   "outputs": [],
   "source": [
    "# write all rat samples I want to download (bam files)\n",
    "map(\n",
    "  list(brain_samples, heart_samples, kidney_samples, liver_samples, testis_samples), \n",
    "  \\(l) {\n",
    "    l[['rat']][, `Source Name`] \n",
    "  }\n",
    ") %>% unlist %>% \n",
    "glue(\"{a}.sorted.bam\", a = .) %>% \n",
    "write_lines('../code/resources/moreira/rat/rat_filenames.txt')"
   ]
  },
  {
   "cell_type": "code",
   "execution_count": 325,
   "id": "a74faf44",
   "metadata": {
    "vscode": {
     "languageId": "r"
    }
   },
   "outputs": [],
   "source": [
    "# write all rmac samples I want to download (bam files)\n",
    "map(\n",
    "  list(brain_samples, heart_samples, kidney_samples, liver_samples, testis_samples), \n",
    "  \\(l) {\n",
    "    l[['rmac']][, `Source Name`] \n",
    "  }\n",
    ") %>% unlist %>% \n",
    "glue(\"{a}.sorted.bam\", a = .) %>% \n",
    "write_lines('../code/resources/moreira/rmac/rmac_filenames.txt')"
   ]
  },
  {
   "cell_type": "code",
   "execution_count": 279,
   "id": "4f76f2e7",
   "metadata": {
    "vscode": {
     "languageId": "r"
    }
   },
   "outputs": [
    {
     "data": {
      "text/html": [
       "'https://www.ebi.ac.uk/biostudies/files/E-MTAB-6814'"
      ],
      "text/latex": [
       "'https://www.ebi.ac.uk/biostudies/files/E-MTAB-6814'"
      ],
      "text/markdown": [
       "'https://www.ebi.ac.uk/biostudies/files/E-MTAB-6814'"
      ],
      "text/plain": [
       "[1] \"https://www.ebi.ac.uk/biostudies/files/E-MTAB-6814\""
      ]
     },
     "metadata": {},
     "output_type": "display_data"
    }
   ],
   "source": [
    "url_prefix$hs"
   ]
  },
  {
   "cell_type": "markdown",
   "id": "18fe6b25",
   "metadata": {},
   "source": [
    "globus link e.g. \n",
    "\n",
    "https://g-a8b222.dd271.03c0.data.globus.org/biostudies/fire/E-MTAB-/811/E-MTAB-6811/Files/1747sTSm.Rat.Cerebellum.0dpb.Male.sorted.bam\n",
    "\n",
    "globus transfer $ebiid:/biostudies/fire/E-MTAB-/811/E-MTAB-6811/Files/1748sTS.Rat.Heart.0dpb.Male.sorted.bam  $midway3id:/home/chaodai/Desktop/test.bam\n",
    "\n"
   ]
  },
  {
   "cell_type": "markdown",
   "id": "7e5e5baa",
   "metadata": {},
   "source": []
  }
 ],
 "metadata": {
  "kernelspec": {
   "display_name": "R",
   "language": "R",
   "name": "ir"
  },
  "language_info": {
   "codemirror_mode": "r",
   "file_extension": ".r",
   "mimetype": "text/x-r-source",
   "name": "R",
   "pygments_lexer": "r",
   "version": "4.3.1"
  }
 },
 "nbformat": 4,
 "nbformat_minor": 5
}
