{
 "cells": [
  {
   "cell_type": "code",
   "execution_count": 1,
   "id": "92b93617",
   "metadata": {},
   "outputs": [],
   "source": []
  },
  {
   "cell_type": "code",
   "execution_count": 2,
   "id": "75b27566",
   "metadata": {
    "vscode": {
     "languageId": "r"
    }
   },
   "outputs": [],
   "source": [
    "# use R to change path to ~/cdai/SpliFi/analysis if current working path is not\n",
    "\n",
    "setwd(\"~/cdai/SpliFi/analysis\")"
   ]
  },
  {
   "cell_type": "code",
   "execution_count": 3,
   "id": "308a5967",
   "metadata": {
    "vscode": {
     "languageId": "r"
    }
   },
   "outputs": [],
   "source": [
    "suppressMessages(library(tidyverse))\n",
    "suppressMessages(library(glue))\n",
    "suppressMessages(library(data.table))\n",
    "suppressMessages(library(cowplot))"
   ]
  },
  {
   "cell_type": "code",
   "execution_count": 4,
   "id": "2a47b782",
   "metadata": {
    "vscode": {
     "languageId": "r"
    }
   },
   "outputs": [],
   "source": [
    "theme_set(theme_cowplot())\n",
    "suppressMessages(library(patchwork))"
   ]
  },
  {
   "cell_type": "code",
   "execution_count": 5,
   "id": "c49b3955",
   "metadata": {
    "vscode": {
     "languageId": "r"
    }
   },
   "outputs": [
    {
     "name": "stderr",
     "output_type": "stream",
     "text": [
      "Loading required package: future\n",
      "\n"
     ]
    }
   ],
   "source": [
    "library(furrr)\n",
    "plan(multisession, workers = 6)"
   ]
  },
  {
   "cell_type": "code",
   "execution_count": 6,
   "id": "d4d6b96a",
   "metadata": {
    "vscode": {
     "languageId": "r"
    }
   },
   "outputs": [],
   "source": [
    "library(ggrepel)\n"
   ]
  },
  {
   "cell_type": "code",
   "execution_count": 7,
   "id": "f9a4637e",
   "metadata": {},
   "outputs": [],
   "source": [
    "glue::glue()\n"
   ]
  }
 ],
 "metadata": {
  "kernelspec": {
   "display_name": "R",
   "language": "R",
   "name": "ir"
  },
  "language_info": {
   "codemirror_mode": "r",
   "file_extension": ".r",
   "mimetype": "text/x-r-source",
   "name": "R",
   "pygments_lexer": "r",
   "version": "4.3.1"
  }
 },
 "nbformat": 4,
 "nbformat_minor": 5
}