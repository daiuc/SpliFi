{
 "cells": [
  {
   "cell_type": "code",
   "execution_count": 1,
   "id": "b3b193d2",
   "metadata": {},
   "outputs": [],
   "source": []
  },
  {
   "cell_type": "code",
   "execution_count": 2,
   "id": "b2ca5713",
   "metadata": {
    "vscode": {
     "languageId": "r"
    }
   },
   "outputs": [],
   "source": [
    "# setting up packages and stuff\n",
    "# use R to change path to ~/cdai/SpliFi/analysis if current working path is not\n",
    "\n",
    "setwd(\"~/cdai/SpliFi/analysis\")"
   ]
  },
  {
   "cell_type": "code",
   "execution_count": 3,
   "id": "3dc7c8cf",
   "metadata": {
    "vscode": {
     "languageId": "r"
    }
   },
   "outputs": [],
   "source": [
    "suppressMessages(library(tidyverse))\n",
    "suppressMessages(library(glue))\n",
    "suppressMessages(library(data.table))\n",
    "suppressMessages(library(cowplot))"
   ]
  },
  {
   "cell_type": "code",
   "execution_count": 4,
   "id": "6b685f31",
   "metadata": {
    "vscode": {
     "languageId": "r"
    }
   },
   "outputs": [],
   "source": [
    "theme_set(theme_cowplot())\n",
    "suppressMessages(library(patchwork))"
   ]
  },
  {
   "cell_type": "code",
   "execution_count": 5,
   "id": "d144e70e",
   "metadata": {
    "vscode": {
     "languageId": "r"
    }
   },
   "outputs": [],
   "source": [
    "library(furrr)\n",
    "plan(multisession, workers = 6)"
   ]
  },
  {
   "cell_type": "code",
   "execution_count": 6,
   "id": "7f406fa7",
   "metadata": {
    "vscode": {
     "languageId": "r"
    }
   },
   "outputs": [],
   "source": [
    "library(ggrepel)\n"
   ]
  },
  {
   "cell_type": "code",
   "execution_count": 7,
   "id": "4ff89bf6",
   "metadata": {},
   "outputs": [
    {
     "data": {
      "text/html": [
       "'/project2/yangili1/cdai/SpliFi/analysis'"
      ],
      "text/latex": [
       "'/project2/yangili1/cdai/SpliFi/analysis'"
      ],
      "text/markdown": [
       "'/project2/yangili1/cdai/SpliFi/analysis'"
      ],
      "text/plain": [
       "[1] \"/project2/yangili1/cdai/SpliFi/analysis\""
      ]
     },
     "metadata": {},
     "output_type": "display_data"
    }
   ],
   "source": [
    "getwd()"
   ]
  }
 ],
 "metadata": {
  "kernelspec": {
   "display_name": "R",
   "language": "R",
   "name": "ir"
  }
 },
 "nbformat": 4,
 "nbformat_minor": 5
}