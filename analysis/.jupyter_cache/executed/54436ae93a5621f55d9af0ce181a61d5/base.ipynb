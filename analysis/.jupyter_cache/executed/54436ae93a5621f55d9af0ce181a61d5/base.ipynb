{
 "cells": [
  {
   "cell_type": "code",
   "execution_count": 1,
   "id": "c1a32119",
   "metadata": {},
   "outputs": [],
   "source": []
  },
  {
   "cell_type": "code",
   "execution_count": 2,
   "id": "a9e8319e",
   "metadata": {},
   "outputs": [],
   "source": [
    "# setting up packages and stuff\n",
    "# use R to change path to ~/cdai/SpliFi/analysis if current working path is not\n",
    "\n",
    "setwd(\"~/cdai/SpliFi/analysis\")"
   ]
  },
  {
   "cell_type": "code",
   "execution_count": 3,
   "id": "30634086",
   "metadata": {
    "vscode": {
     "languageId": "r"
    }
   },
   "outputs": [],
   "source": [
    "suppressMessages(library(tidyverse))\n",
    "suppressMessages(library(glue))\n",
    "suppressMessages(library(data.table))\n",
    "suppressMessages(library(cowplot))"
   ]
  },
  {
   "cell_type": "code",
   "execution_count": 4,
   "id": "2fd49c2a",
   "metadata": {
    "vscode": {
     "languageId": "r"
    }
   },
   "outputs": [],
   "source": [
    "theme_set(theme_cowplot())\n",
    "suppressMessages(library(patchwork))"
   ]
  },
  {
   "cell_type": "code",
   "execution_count": 5,
   "id": "12d3f883",
   "metadata": {},
   "outputs": [],
   "source": [
    "suppressMessages(library(furrr))\n",
    "plan(multisession, workers = 6)"
   ]
  },
  {
   "cell_type": "code",
   "execution_count": 6,
   "id": "27deaeea",
   "metadata": {},
   "outputs": [],
   "source": [
    "suppressMessages(library(magrittr))\n",
    "suppressMessages(library(bedtoolsr))\n",
    "suppressMessages(library(GenomicRanges))"
   ]
  },
  {
   "cell_type": "code",
   "execution_count": 7,
   "id": "f13eebab",
   "metadata": {},
   "outputs": [],
   "source": [
    "genes <- fread('/project2/yangili1/cdai/annotations/hg38/gencode.v43.primary_assembly.annotation.csv.gz') %>%  \n",
    "  .[feature == \"gene\" & gene_type == \"protein_coding\", .(seqname, start, end, gene_name, gene_id, strand)] %>%\n",
    "  unique %>% \n",
    "  makeGRangesFromDataFrame(., keep.extra.columns = T, ignore.strand = F)"
   ]
  },
  {
   "cell_type": "code",
   "execution_count": 8,
   "id": "a94fe00d",
   "metadata": {
    "cache": true
   },
   "outputs": [
    {
     "data": {
      "text/html": [
       "20042"
      ],
      "text/latex": [
       "20042"
      ],
      "text/markdown": [
       "20042"
      ],
      "text/plain": [
       "[1] 20042"
      ]
     },
     "metadata": {},
     "output_type": "display_data"
    },
    {
     "data": {
      "text/plain": [
       "GRanges object with 6 ranges and 2 metadata columns:\n",
       "      seqnames        ranges strand |   gene_name            gene_id\n",
       "         <Rle>     <IRanges>  <Rle> | <character>        <character>\n",
       "  [1]     chr1   65419-71585      + |       OR4F5  ENSG00000186092.7\n",
       "  [2]     chr1 450740-451678      - |      OR4F29  ENSG00000284733.2\n",
       "  [3]     chr1 685716-686654      - |      OR4F16  ENSG00000284662.2\n",
       "  [4]     chr1 923923-944575      + |      SAMD11 ENSG00000187634.13\n",
       "  [5]     chr1 944203-959309      - |       NOC2L ENSG00000188976.11\n",
       "  [6]     chr1 960584-965719      + |      KLHL17 ENSG00000187961.15\n",
       "  -------\n",
       "  seqinfo: 25 sequences from an unspecified genome; no seqlengths"
      ]
     },
     "metadata": {},
     "output_type": "display_data"
    }
   ],
   "source": [
    "#| include: true\n",
    "length(genes)\n",
    "head(genes)"
   ]
  },
  {
   "cell_type": "code",
   "execution_count": 9,
   "id": "994d57f8",
   "metadata": {},
   "outputs": [],
   "source": [
    "comps <- c(\"Brain-Cerebellum_v_Cells-EBV-transformedlymphocytes\",\n",
    "            \"Brain-Cerebellum_v_Kidney-Cortex\",\n",
    "            \"Brain-Cerebellum_v_Liver\",\n",
    "            \"Liver_v_Kidney-Cortex\",\n",
    "            \"Liver_v_Muscle-Skeletal\",\n",
    "            \"Brain-Cortex_v_Brain-FrontalCortex_BA9_\",\n",
    "            \"WholeBlood_v_Muscle-Skeletal\"\n",
    ")\n",
    "pvals.f <- paste(\"../code/results/ds/GTEx/\", comps, \"/ds_cluster_significance.txt\", sep=\"\")\n",
    "betas.f <- paste(\"../code/results/ds/GTEx/\", comps, \"/ds_effect_sizes.txt\", sep=\"\")\n",
    "introns.f <- paste(\"../code/results/ds/GTEx/\", comps, \"/ds_perind.counts.noise_by_intron.gz\", sep=\"\")\n",
    "\n",
    "names(pvals.f) <- comps\n",
    "names(betas.f) <- comps\n",
    "names(introns.f) <- comps"
   ]
  },
  {
   "cell_type": "code",
   "execution_count": 10,
   "id": "dd2f73a7",
   "metadata": {},
   "outputs": [
    {
     "name": "stdout",
     "output_type": "stream",
     "text": [
      "[1] 7\n"
     ]
    },
    {
     "name": "stdout",
     "output_type": "stream",
     "text": [
      "NULL\n"
     ]
    }
   ],
   "source": [
    "#| include: true\n",
    "print(length(pvals.f))\n",
    "print(dim(pvals.f))"
   ]
  }
 ],
 "metadata": {
  "kernelspec": {
   "display_name": "R",
   "language": "R",
   "name": "ir"
  },
  "language_info": {
   "codemirror_mode": "r",
   "file_extension": ".r",
   "mimetype": "text/x-r-source",
   "name": "R",
   "pygments_lexer": "r",
   "version": "4.3.1"
  }
 },
 "nbformat": 4,
 "nbformat_minor": 5
}