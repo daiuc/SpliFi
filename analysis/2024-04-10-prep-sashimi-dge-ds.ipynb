{
 "cells": [
  {
   "cell_type": "markdown",
   "metadata": {},
   "source": [
    "# Prepare ini file for Sashimi plots for Differential splicing"
   ]
  },
  {
   "cell_type": "code",
   "execution_count": 2,
   "metadata": {
    "vscode": {
     "languageId": "r"
    }
   },
   "outputs": [
    {
     "ename": "ERROR",
     "evalue": "Error in parse(text = x, srcfile = src): <text>:1:8: unexpected symbol\n1: import os\n           ^\n",
     "output_type": "error",
     "traceback": [
      "Error in parse(text = x, srcfile = src): <text>:1:8: unexpected symbol\n1: import os\n           ^\nTraceback:\n"
     ]
    }
   ],
   "source": [
    "import os\n",
    "import gzip\n",
    "import numpy as np\n",
    "import pysam as ps\n",
    "import pandas as pd\n",
    "import pyBigWig as pw\n",
    "import glob"
   ]
  },
  {
   "cell_type": "code",
   "execution_count": null,
   "metadata": {
    "vscode": {
     "languageId": "r"
    }
   },
   "outputs": [],
   "source": []
  },
  {
   "cell_type": "code",
   "execution_count": null,
   "metadata": {
    "vscode": {
     "languageId": "r"
    }
   },
   "outputs": [],
   "source": []
  },
  {
   "cell_type": "markdown",
   "metadata": {},
   "source": [
    "## Input data\n",
    "\n",
    "Need these files: \n",
    "1. bigwig files: for each sample of two groups, average by group\n",
    "2. PSI files: probably can use the ds output files"
   ]
  },
  {
   "cell_type": "code",
   "execution_count": 2,
   "metadata": {
    "vscode": {
     "languageId": "r"
    }
   },
   "outputs": [],
   "source": [
    "os.chdir('/home/chaodai/cdai/SpliFi/analysis')"
   ]
  },
  {
   "cell_type": "code",
   "execution_count": 3,
   "metadata": {
    "vscode": {
     "languageId": "r"
    }
   },
   "outputs": [
    {
     "name": "stdout",
     "output_type": "stream",
     "text": [
      "/project2/yangili1/cdai/SpliFi/analysis\n"
     ]
    }
   ],
   "source": [
    "!pwd"
   ]
  },
  {
   "cell_type": "markdown",
   "metadata": {},
   "source": [
    "### Bigwig files"
   ]
  },
  {
   "cell_type": "code",
   "execution_count": 4,
   "metadata": {
    "vscode": {
     "languageId": "r"
    }
   },
   "outputs": [
    {
     "name": "stdout",
     "output_type": "stream",
     "text": [
      "../code/resources/GTEx/BigWig/Brain-Cortex/GTEX-1117F-3226-SM-5N9CT.bw\n",
      "../code/resources/GTEx/BigWig/Brain-Cortex/GTEX-111FC-3126-SM-5GZZ2.bw\n",
      "../code/resources/GTEx/BigWig/Brain-Cortex/GTEX-1128S-2726-SM-5H12C.bw\n",
      "ls: write error: Broken pipe\n",
      "../code/resources/GTEx/BigWig/Muscle-Skeletal/GTEX-1117F-0426-SM-5EGHI.bw\n",
      "../code/resources/GTEx/BigWig/Muscle-Skeletal/GTEX-111CU-2026-SM-5GZZC.bw\n",
      "../code/resources/GTEx/BigWig/Muscle-Skeletal/GTEX-111FC-0326-SM-5GZZ1.bw\n",
      "ls: write error: Broken pipe\n",
      "112\n",
      "112\n"
     ]
    }
   ],
   "source": [
    "!ls ../code/resources/GTEx/BigWig/Brain-Cortex/*.bw | head -3\n",
    "!ls ../code/resources/GTEx/BigWig/Muscle-Skeletal/*.bw | head -3\n",
    "\n",
    "\n",
    "!ls ../code/resources/GTEx/BigWig/Brain-Cortex/*.bw | wc -l\n",
    "!ls ../code/resources/GTEx/BigWig/Muscle-Skeletal/*.bw | wc -l"
   ]
  },
  {
   "cell_type": "markdown",
   "metadata": {},
   "source": [
    "### Samples names used in DS analysis:"
   ]
  },
  {
   "cell_type": "code",
   "execution_count": 31,
   "metadata": {
    "vscode": {
     "languageId": "r"
    }
   },
   "outputs": [
    {
     "name": "stdout",
     "output_type": "stream",
     "text": [
      "Muscle-Skeletal.GTEX-1117F.tsv.gz Muscle-Skeletal\n",
      "Muscle-Skeletal.GTEX-111CU.tsv.gz Muscle-Skeletal\n",
      "Muscle-Skeletal.GTEX-111FC.tsv.gz Muscle-Skeletal\n"
     ]
    },
    {
     "name": "stdout",
     "output_type": "stream",
     "text": [
      "Brain-Cortex.GTEX-14BMV.tsv.gz Brain-Cortex\n",
      "Brain-Cortex.GTEX-14C39.tsv.gz Brain-Cortex\n",
      "Brain-Cortex.GTEX-14C5O.tsv.gz Brain-Cortex"
     ]
    }
   ],
   "source": [
    "\n",
    "!head -3 ../code/results/ds/GTEx/Brain-Cortex_v_Muscle-Skeletal/ds_sample_group.txt\n",
    "!tail -3 ../code/results/ds/GTEx/Brain-Cortex_v_Muscle-Skeletal/ds_sample_group.txt"
   ]
  },
  {
   "cell_type": "markdown",
   "metadata": {},
   "source": [
    "### Intron junction PSI file"
   ]
  },
  {
   "cell_type": "code",
   "execution_count": 27,
   "metadata": {
    "vscode": {
     "languageId": "r"
    }
   },
   "outputs": [
    {
     "name": "stdout",
     "output_type": "stream",
     "text": [
      "status\tloglr\tdf\tp\tcluster\tp.adjust\n",
      "<=1 junction in cluster\tNA\tNA\tNA\tchr1:clu_10_+\tNA\n",
      "<=1 junction in cluster\tNA\tNA\tNA\tchr1:clu_1000_+\tNA\n"
     ]
    }
   ],
   "source": [
    "!head -3 ../code/results/ds/GTEx/Brain-Cortex_v_Muscle-Skeletal/ds_cluster_significance.txt"
   ]
  },
  {
   "cell_type": "code",
   "execution_count": 26,
   "metadata": {
    "vscode": {
     "languageId": "r"
    }
   },
   "outputs": [
    {
     "name": "stdout",
     "output_type": "stream",
     "text": [
      "intron\tlogef\tMuscle-Skeletal\tBrain-Cortex\tdeltapsi\n",
      "chr1:75724817:75728388:clu_1002_+\t-0.565955248841669\t0.0025053453582882\t0.00234306296179661\t-0.000162282396491587\n",
      "chr1:75724817:75728400:clu_1002_+\t-0.578350460709226\t0.445147405737144\t0.411184781360074\t-0.0339626243770698\n"
     ]
    }
   ],
   "source": [
    "!head -3 ../code/results/ds/GTEx/Brain-Cortex_v_Muscle-Skeletal/ds_effect_sizes.txt"
   ]
  },
  {
   "cell_type": "markdown",
   "metadata": {},
   "source": [
    "### Intron counts file\n",
    "\n",
    "used to get productive vs. unproductive introns"
   ]
  },
  {
   "cell_type": "code",
   "execution_count": 51,
   "metadata": {
    "vscode": {
     "languageId": "r"
    }
   },
   "outputs": [
    {
     "name": "stdout",
     "output_type": "stream",
     "text": [
      "../code/results/ds/GTEx/Brain-Cortex_v_Muscle-Skeletal/ds_perind_numers.counts.noise_by_intron.gz\n"
     ]
    },
    {
     "name": "stdout",
     "output_type": "stream",
     "text": [
      "chrom Muscle-Skeletal.GTEX-1117F.tsv.gz Muscle-Skeletal.GTEX-111CU.tsv.gz Muscle-Skeletal.GTEX-111FC.tsv.gz Muscle-Skeletal.GTEX-111VG.tsv.gz\n",
      "chr1:779092:781936:clu_3_+:IN 0 0 0 0\n",
      "chr1:779092:803918:clu_3_+:IN 0 0 0 0\n",
      "\n",
      "gzip: stdout: Broken pipe\n"
     ]
    }
   ],
   "source": [
    "!ls ../code/results/ds/GTEx/Brain-Cortex_v_Muscle-Skeletal/ds_perind_numers.counts.noise_by_intron.gz\n",
    "!zcat ../code/results/ds/GTEx/Brain-Cortex_v_Muscle-Skeletal/ds_perind_numers.counts.noise_by_intron.gz | head -3 | cut -d \" \" -f 1-5"
   ]
  },
  {
   "cell_type": "code",
   "execution_count": 89,
   "metadata": {
    "vscode": {
     "languageId": "r"
    }
   },
   "outputs": [],
   "source": [
    "# read in only the first 2 columns\n",
    "introns = pd.read_csv('../code/results/ds/GTEx/Brain-Cortex_v_Muscle-Skeletal/ds_perind_numers.counts.noise_by_intron.gz', sep=' ', usecols=[0])"
   ]
  },
  {
   "cell_type": "code",
   "execution_count": 90,
   "metadata": {
    "vscode": {
     "languageId": "r"
    }
   },
   "outputs": [],
   "source": [
    "introns = [(':'.join(x[:-1]), f'{x[0]}:{x[3]}', x[4]) for x in introns.chrom.str.split(':')]\n",
    "introns = {x[0]: x[2] for x in introns}"
   ]
  },
  {
   "cell_type": "code",
   "execution_count": 67,
   "metadata": {
    "vscode": {
     "languageId": "r"
    }
   },
   "outputs": [
    {
     "ename": "TypeError",
     "evalue": "'StringMethods' object is not iterable",
     "output_type": "error",
     "traceback": [
      "\u001b[0;31m---------------------------------------------------------------------------\u001b[0m",
      "\u001b[0;31mTypeError\u001b[0m                                 Traceback (most recent call last)",
      "Cell \u001b[0;32mIn[67], line 1\u001b[0m\n\u001b[0;32m----> 1\u001b[0m [x \u001b[38;5;28;01mfor\u001b[39;00m x \u001b[38;5;129;01min\u001b[39;00m introns\u001b[38;5;241m.\u001b[39mchrom[\u001b[38;5;241m0\u001b[39m:\u001b[38;5;241m5\u001b[39m]\u001b[38;5;241m.\u001b[39mstr]\n",
      "File \u001b[0;32m/scratch/midway3/chaodai/miniconda3/envs/sos/lib/python3.9/site-packages/pandas/core/strings/accessor.py:252\u001b[0m, in \u001b[0;36mStringMethods.__iter__\u001b[0;34m(self)\u001b[0m\n\u001b[1;32m    251\u001b[0m \u001b[38;5;28;01mdef\u001b[39;00m \u001b[38;5;21m__iter__\u001b[39m(\u001b[38;5;28mself\u001b[39m) \u001b[38;5;241m-\u001b[39m\u001b[38;5;241m>\u001b[39m Iterator:\n\u001b[0;32m--> 252\u001b[0m     \u001b[38;5;28;01mraise\u001b[39;00m \u001b[38;5;167;01mTypeError\u001b[39;00m(\u001b[38;5;124mf\u001b[39m\u001b[38;5;124m\"\u001b[39m\u001b[38;5;124m'\u001b[39m\u001b[38;5;132;01m{\u001b[39;00m\u001b[38;5;28mtype\u001b[39m(\u001b[38;5;28mself\u001b[39m)\u001b[38;5;241m.\u001b[39m\u001b[38;5;18m__name__\u001b[39m\u001b[38;5;132;01m}\u001b[39;00m\u001b[38;5;124m'\u001b[39m\u001b[38;5;124m object is not iterable\u001b[39m\u001b[38;5;124m\"\u001b[39m)\n",
      "\u001b[0;31mTypeError\u001b[0m: 'StringMethods' object is not iterable"
     ]
    }
   ],
   "source": []
  },
  {
   "cell_type": "code",
   "execution_count": 6,
   "metadata": {
    "vscode": {
     "languageId": "r"
    }
   },
   "outputs": [],
   "source": [
    "# get available bigwig files in each tissue\n",
    "\n",
    "tissue1 = 'Brain-Cortex'\n",
    "tissue2 = 'Muscle-Skeletal'"
   ]
  },
  {
   "cell_type": "code",
   "execution_count": 7,
   "metadata": {
    "vscode": {
     "languageId": "r"
    }
   },
   "outputs": [],
   "source": [
    "# Brain-Cortex bigwig files\n",
    "bw_files1 = glob.glob(f'../code/resources/GTEx/BigWig/{tissue1}/*.bw')\n",
    "# Muscle bigwig files\n",
    "bw_files2 = glob.glob(f'../code/resources/GTEx/BigWig/{tissue2}/*.bw')"
   ]
  },
  {
   "cell_type": "code",
   "execution_count": 8,
   "metadata": {
    "vscode": {
     "languageId": "r"
    }
   },
   "outputs": [],
   "source": [
    "# Extract sample names from bigwig file names, the second and third group after splitting by '-'\n",
    "bw_samples1 = [(f'{xx[0]}-{xx[1]}') for xx in [x.split('/')[-1].split('-') for x in bw_files1]]\n",
    "bw_samples2 = [(f'{xx[0]}-{xx[1]}') for xx in [x.split('/')[-1].split('-') for x in bw_files2]]"
   ]
  },
  {
   "cell_type": "code",
   "execution_count": 9,
   "metadata": {
    "vscode": {
     "languageId": "r"
    }
   },
   "outputs": [],
   "source": [
    "# make a dictionary with bw_samples as keys and bw_files as values\n",
    "bw_dict1 = dict(zip(bw_samples1, bw_files1))\n",
    "bw_dict2 = dict(zip(bw_samples2, bw_files2))"
   ]
  },
  {
   "cell_type": "code",
   "execution_count": 10,
   "metadata": {
    "vscode": {
     "languageId": "r"
    }
   },
   "outputs": [],
   "source": [
    "# samples from ds sample groups\n",
    "ds_samples = pd.read_csv(f'../code/results/ds/GTEx/{tissue1}_v_{tissue2}/ds_sample_group.txt',\n",
    "                         sep=' ', header=None, names=['fname', 'tissue'])"
   ]
  },
  {
   "cell_type": "code",
   "execution_count": 11,
   "metadata": {
    "vscode": {
     "languageId": "r"
    }
   },
   "outputs": [],
   "source": [
    "ds_samples['sname'] = [x.split('.')[1] for x in ds_samples['fname']]"
   ]
  },
  {
   "cell_type": "code",
   "execution_count": 12,
   "metadata": {
    "vscode": {
     "languageId": "r"
    }
   },
   "outputs": [],
   "source": [
    "ds_samples1 = ds_samples[ds_samples['tissue'] == tissue1].sname.to_list()\n",
    "ds_samples2 = ds_samples[ds_samples['tissue'] == tissue2].sname.to_list()"
   ]
  },
  {
   "cell_type": "code",
   "execution_count": 13,
   "metadata": {
    "vscode": {
     "languageId": "r"
    }
   },
   "outputs": [],
   "source": [
    "# plots are based on the intersect of bw samples and ds samples\n",
    "pl_samples1 = list(set(bw_samples1) & set(ds_samples1))\n",
    "pl_samples2 = list(set(bw_samples2) & set(ds_samples2))"
   ]
  },
  {
   "cell_type": "code",
   "execution_count": 14,
   "metadata": {
    "vscode": {
     "languageId": "r"
    }
   },
   "outputs": [],
   "source": [
    "# plots use these bw files\n",
    "pl_bw_files1 = [bw_dict1[x] for x in pl_samples1]\n",
    "pl_bw_files2 = [bw_dict2[x] for x in pl_samples2]"
   ]
  },
  {
   "cell_type": "code",
   "execution_count": 15,
   "metadata": {
    "vscode": {
     "languageId": "r"
    }
   },
   "outputs": [
    {
     "data": {
      "text/plain": [
       "(78, 78)"
      ]
     },
     "execution_count": 15,
     "metadata": {},
     "output_type": "execute_result"
    },
    {
     "data": {
      "text/plain": [
       "(80, 80)"
      ]
     },
     "execution_count": 15,
     "metadata": {},
     "output_type": "execute_result"
    },
    {
     "data": {
      "text/plain": [
       "(112, 112)"
      ]
     },
     "execution_count": 15,
     "metadata": {},
     "output_type": "execute_result"
    }
   ],
   "source": [
    "len(pl_samples1), len(pl_samples2)\n",
    "len(ds_samples1), len(ds_samples2)\n",
    "len(bw_files1),  len(bw_files2)"
   ]
  },
  {
   "cell_type": "code",
   "execution_count": 16,
   "metadata": {
    "vscode": {
     "languageId": "r"
    }
   },
   "outputs": [],
   "source": [
    "def avgBigwig(bwfiles, grange):\n",
    "    '''Average multiple bigwig files in a specific region\n",
    "    \n",
    "    bwfiles : list of bigwig files (path).\n",
    "    grange  : tuple. Genomic range, BED like 0-based coordinates, \n",
    "              eg. ('chr1', 25101, 27101)\n",
    "    \n",
    "    return  : a dictionary of keys: \n",
    "        - header, for pyBigWig to write as header\n",
    "        - values, for pyBigwig to addentries as values\n",
    "    '''\n",
    "    chrom, start, end = grange\n",
    "    values = []\n",
    "    bwo = {}\n",
    "    for bw in bwfiles:\n",
    "        if not os.path.isfile(bw): continue\n",
    "        with pw.open(bw, 'rt') as b:\n",
    "            header = list(b.chroms().items())\n",
    "            vals = b.values(chrom, start, end, numpy=True)\n",
    "            vals = np.nan_to_num(vals)\n",
    "            values.append(vals)\n",
    "    \n",
    "    if values != [] and header != []:\n",
    "        avgValues = np.mean(values, axis=0)\n",
    "        bwo = {'header': header, 'values': avgValues}\n",
    "    return bwo\n",
    "\n"
   ]
  },
  {
   "cell_type": "code",
   "execution_count": null,
   "metadata": {
    "vscode": {
     "languageId": "r"
    }
   },
   "outputs": [],
   "source": []
  },
  {
   "cell_type": "code",
   "execution_count": 17,
   "metadata": {
    "vscode": {
     "languageId": "r"
    }
   },
   "outputs": [
    {
     "data": {
      "text/plain": [
       "-231"
      ]
     },
     "execution_count": 17,
     "metadata": {},
     "output_type": "execute_result"
    }
   ],
   "source": [
    "20685020-20685251"
   ]
  },
  {
   "cell_type": "code",
   "execution_count": 18,
   "metadata": {
    "vscode": {
     "languageId": "r"
    }
   },
   "outputs": [],
   "source": [
    "extend = 10000\n",
    "grange = 'chr1:15651895:15656616:clu_261_+'\n",
    "c, s, e, clu = grange.split(':')\n",
    "c,s,e = c, int(s) - extend, int(e) + extend"
   ]
  },
  {
   "cell_type": "code",
   "execution_count": 19,
   "metadata": {
    "vscode": {
     "languageId": "r"
    }
   },
   "outputs": [
    {
     "data": {
      "text/plain": [
       "('chr1', 15641895, 15666616)"
      ]
     },
     "execution_count": 19,
     "metadata": {},
     "output_type": "execute_result"
    },
    {
     "data": {
      "text/plain": [
       "'clu_261_+'"
      ]
     },
     "execution_count": 19,
     "metadata": {},
     "output_type": "execute_result"
    }
   ],
   "source": [
    "c, s, e\n",
    "clu"
   ]
  },
  {
   "cell_type": "code",
   "execution_count": 20,
   "metadata": {
    "vscode": {
     "languageId": "r"
    }
   },
   "outputs": [],
   "source": [
    "avgBW1 = avgBigwig(pl_bw_files1, (c,s,e))\n",
    "avgBW2 = avgBigwig(pl_bw_files2, (c,s,e))"
   ]
  },
  {
   "cell_type": "code",
   "execution_count": 22,
   "metadata": {
    "vscode": {
     "languageId": "r"
    }
   },
   "outputs": [],
   "source": [
    "with pw.open(f'test-{tissue1}.bw', 'w') as b:\n",
    "  b.addHeader(avgBW1['header'])\n",
    "  b.addEntries(c, s, values=avgBW1['values'], span=1, step=1)"
   ]
  },
  {
   "cell_type": "code",
   "execution_count": 25,
   "metadata": {
    "vscode": {
     "languageId": "r"
    }
   },
   "outputs": [],
   "source": [
    "with pw.open(f'test-{tissue2}.bw', 'w') as b:\n",
    "  b.addHeader(avgBW2['header'])\n",
    "  b.addEntries(c, s, values=avgBW2['values'], span=1, step=1)"
   ]
  },
  {
   "cell_type": "code",
   "execution_count": 26,
   "metadata": {
    "vscode": {
     "languageId": "r"
    }
   },
   "outputs": [
    {
     "name": "stdout",
     "output_type": "stream",
     "text": [
      "-rw-rw-r-- 1 chaodai pi-yangili1 35K Apr 11 10:58 test-Brain-Cortex.bw\n",
      "-rw-rw-r-- 1 chaodai pi-yangili1 44K Apr 11 10:58 test-Muscle-Skeletal.bw\n"
     ]
    }
   ],
   "source": [
    "!ls -lah *bw"
   ]
  },
  {
   "cell_type": "code",
   "execution_count": null,
   "metadata": {
    "vscode": {
     "languageId": "r"
    }
   },
   "outputs": [],
   "source": []
  },
  {
   "cell_type": "code",
   "execution_count": 92,
   "metadata": {
    "vscode": {
     "languageId": "r"
    }
   },
   "outputs": [],
   "source": [
    "# get splicing links\n",
    "psi = pd.read_csv(f'../code/results/ds/GTEx/{tissue1}_v_{tissue2}/ds_effect_sizes.txt', sep= '\\t')\n",
    "psi['itype'] = [introns.get(x) for x in psi['intron']]"
   ]
  },
  {
   "cell_type": "code",
   "execution_count": 93,
   "metadata": {
    "vscode": {
     "languageId": "r"
    }
   },
   "outputs": [
    {
     "data": {
      "text/html": [
       "<div>\n",
       "<style scoped>\n",
       "    .dataframe tbody tr th:only-of-type {\n",
       "        vertical-align: middle;\n",
       "    }\n",
       "\n",
       "    .dataframe tbody tr th {\n",
       "        vertical-align: top;\n",
       "    }\n",
       "\n",
       "    .dataframe thead th {\n",
       "        text-align: right;\n",
       "    }\n",
       "</style>\n",
       "<table border=\"1\" class=\"dataframe\">\n",
       "  <thead>\n",
       "    <tr style=\"text-align: right;\">\n",
       "      <th></th>\n",
       "      <th>intron</th>\n",
       "      <th>logef</th>\n",
       "      <th>Muscle-Skeletal</th>\n",
       "      <th>Brain-Cortex</th>\n",
       "      <th>deltapsi</th>\n",
       "      <th>itype</th>\n",
       "    </tr>\n",
       "  </thead>\n",
       "  <tbody>\n",
       "    <tr>\n",
       "      <th>2875</th>\n",
       "      <td>chr1:15651895:15656420:clu_261_+</td>\n",
       "      <td>-2.090066</td>\n",
       "      <td>0.513989</td>\n",
       "      <td>0.01592</td>\n",
       "      <td>-0.498069</td>\n",
       "      <td>UP</td>\n",
       "    </tr>\n",
       "    <tr>\n",
       "      <th>2876</th>\n",
       "      <td>chr1:15651895:15656616:clu_261_+</td>\n",
       "      <td>2.090066</td>\n",
       "      <td>0.486011</td>\n",
       "      <td>0.98408</td>\n",
       "      <td>0.498069</td>\n",
       "      <td>PR</td>\n",
       "    </tr>\n",
       "  </tbody>\n",
       "</table>\n",
       "</div>"
      ],
      "text/plain": [
       "                                intron     logef  Muscle-Skeletal  \\\n",
       "2875  chr1:15651895:15656420:clu_261_+ -2.090066         0.513989   \n",
       "2876  chr1:15651895:15656616:clu_261_+  2.090066         0.486011   \n",
       "\n",
       "      Brain-Cortex  deltapsi itype  \n",
       "2875       0.01592 -0.498069    UP  \n",
       "2876       0.98408  0.498069    PR  "
      ]
     },
     "execution_count": 93,
     "metadata": {},
     "output_type": "execute_result"
    }
   ],
   "source": [
    "psi[psi.intron.str.contains(clu)]"
   ]
  },
  {
   "cell_type": "code",
   "execution_count": 94,
   "metadata": {
    "vscode": {
     "languageId": "r"
    }
   },
   "outputs": [],
   "source": [
    "lnk1 = psi[psi.intron.str.contains(clu)][['intron', tissue1, 'itype']]\n",
    "lnk2 = psi[psi.intron.str.contains(clu)][['intron', tissue2, 'itype']]"
   ]
  },
  {
   "cell_type": "code",
   "execution_count": 95,
   "metadata": {
    "vscode": {
     "languageId": "r"
    }
   },
   "outputs": [
    {
     "data": {
      "text/html": [
       "<div>\n",
       "<style scoped>\n",
       "    .dataframe tbody tr th:only-of-type {\n",
       "        vertical-align: middle;\n",
       "    }\n",
       "\n",
       "    .dataframe tbody tr th {\n",
       "        vertical-align: top;\n",
       "    }\n",
       "\n",
       "    .dataframe thead th {\n",
       "        text-align: right;\n",
       "    }\n",
       "</style>\n",
       "<table border=\"1\" class=\"dataframe\">\n",
       "  <thead>\n",
       "    <tr style=\"text-align: right;\">\n",
       "      <th></th>\n",
       "      <th>intron</th>\n",
       "      <th>Brain-Cortex</th>\n",
       "      <th>itype</th>\n",
       "    </tr>\n",
       "  </thead>\n",
       "  <tbody>\n",
       "    <tr>\n",
       "      <th>2875</th>\n",
       "      <td>chr1:15651895:15656420:clu_261_+</td>\n",
       "      <td>0.01592</td>\n",
       "      <td>UP</td>\n",
       "    </tr>\n",
       "    <tr>\n",
       "      <th>2876</th>\n",
       "      <td>chr1:15651895:15656616:clu_261_+</td>\n",
       "      <td>0.98408</td>\n",
       "      <td>PR</td>\n",
       "    </tr>\n",
       "  </tbody>\n",
       "</table>\n",
       "</div>"
      ],
      "text/plain": [
       "                                intron  Brain-Cortex itype\n",
       "2875  chr1:15651895:15656420:clu_261_+       0.01592    UP\n",
       "2876  chr1:15651895:15656616:clu_261_+       0.98408    PR"
      ]
     },
     "execution_count": 95,
     "metadata": {},
     "output_type": "execute_result"
    },
    {
     "data": {
      "text/html": [
       "<div>\n",
       "<style scoped>\n",
       "    .dataframe tbody tr th:only-of-type {\n",
       "        vertical-align: middle;\n",
       "    }\n",
       "\n",
       "    .dataframe tbody tr th {\n",
       "        vertical-align: top;\n",
       "    }\n",
       "\n",
       "    .dataframe thead th {\n",
       "        text-align: right;\n",
       "    }\n",
       "</style>\n",
       "<table border=\"1\" class=\"dataframe\">\n",
       "  <thead>\n",
       "    <tr style=\"text-align: right;\">\n",
       "      <th></th>\n",
       "      <th>intron</th>\n",
       "      <th>Muscle-Skeletal</th>\n",
       "      <th>itype</th>\n",
       "    </tr>\n",
       "  </thead>\n",
       "  <tbody>\n",
       "    <tr>\n",
       "      <th>2875</th>\n",
       "      <td>chr1:15651895:15656420:clu_261_+</td>\n",
       "      <td>0.513989</td>\n",
       "      <td>UP</td>\n",
       "    </tr>\n",
       "    <tr>\n",
       "      <th>2876</th>\n",
       "      <td>chr1:15651895:15656616:clu_261_+</td>\n",
       "      <td>0.486011</td>\n",
       "      <td>PR</td>\n",
       "    </tr>\n",
       "  </tbody>\n",
       "</table>\n",
       "</div>"
      ],
      "text/plain": [
       "                                intron  Muscle-Skeletal itype\n",
       "2875  chr1:15651895:15656420:clu_261_+         0.513989    UP\n",
       "2876  chr1:15651895:15656616:clu_261_+         0.486011    PR"
      ]
     },
     "execution_count": 95,
     "metadata": {},
     "output_type": "execute_result"
    }
   ],
   "source": [
    "lnk1\n",
    "lnk2"
   ]
  },
  {
   "cell_type": "code",
   "execution_count": 100,
   "metadata": {
    "vscode": {
     "languageId": "r"
    }
   },
   "outputs": [],
   "source": [
    "lnk1['chrom1'] = lnk1.intron.str.split(':').str[0]\n",
    "lnk1['start1'] = lnk1.intron.str.split(':').str[1]\n",
    "lnk1['start2'] = lnk1.start1\n",
    "lnk1['chrom2'] = lnk1.chrom1\n",
    "lnk1['end1'] = lnk1.intron.str.split(':').str[2]\n",
    "lnk1['end2'] = lnk1.end1"
   ]
  },
  {
   "cell_type": "code",
   "execution_count": 101,
   "metadata": {
    "vscode": {
     "languageId": "r"
    }
   },
   "outputs": [],
   "source": [
    "lnk2['chrom1'] = lnk2.intron.str.split(':').str[0]\n",
    "lnk2['start1'] = lnk2.intron.str.split(':').str[1]\n",
    "lnk2['start2'] = lnk2.start1\n",
    "lnk2['chrom2'] = lnk2.chrom1\n",
    "lnk2['end1'] = lnk2.intron.str.split(':').str[2]\n",
    "lnk2['end2'] = lnk2.end1"
   ]
  },
  {
   "cell_type": "code",
   "execution_count": 102,
   "metadata": {
    "vscode": {
     "languageId": "r"
    }
   },
   "outputs": [
    {
     "data": {
      "text/html": [
       "<div>\n",
       "<style scoped>\n",
       "    .dataframe tbody tr th:only-of-type {\n",
       "        vertical-align: middle;\n",
       "    }\n",
       "\n",
       "    .dataframe tbody tr th {\n",
       "        vertical-align: top;\n",
       "    }\n",
       "\n",
       "    .dataframe thead th {\n",
       "        text-align: right;\n",
       "    }\n",
       "</style>\n",
       "<table border=\"1\" class=\"dataframe\">\n",
       "  <thead>\n",
       "    <tr style=\"text-align: right;\">\n",
       "      <th></th>\n",
       "      <th>intron</th>\n",
       "      <th>Brain-Cortex</th>\n",
       "      <th>itype</th>\n",
       "      <th>chrom1</th>\n",
       "      <th>start1</th>\n",
       "      <th>start2</th>\n",
       "      <th>chrom2</th>\n",
       "      <th>end1</th>\n",
       "      <th>end2</th>\n",
       "    </tr>\n",
       "  </thead>\n",
       "  <tbody>\n",
       "    <tr>\n",
       "      <th>2875</th>\n",
       "      <td>chr1:15651895:15656420:clu_261_+</td>\n",
       "      <td>0.01592</td>\n",
       "      <td>UP</td>\n",
       "      <td>chr1</td>\n",
       "      <td>15651895</td>\n",
       "      <td>15651895</td>\n",
       "      <td>chr1</td>\n",
       "      <td>15656420</td>\n",
       "      <td>15656420</td>\n",
       "    </tr>\n",
       "    <tr>\n",
       "      <th>2876</th>\n",
       "      <td>chr1:15651895:15656616:clu_261_+</td>\n",
       "      <td>0.98408</td>\n",
       "      <td>PR</td>\n",
       "      <td>chr1</td>\n",
       "      <td>15651895</td>\n",
       "      <td>15651895</td>\n",
       "      <td>chr1</td>\n",
       "      <td>15656616</td>\n",
       "      <td>15656616</td>\n",
       "    </tr>\n",
       "  </tbody>\n",
       "</table>\n",
       "</div>"
      ],
      "text/plain": [
       "                                intron  Brain-Cortex itype chrom1    start1  \\\n",
       "2875  chr1:15651895:15656420:clu_261_+       0.01592    UP   chr1  15651895   \n",
       "2876  chr1:15651895:15656616:clu_261_+       0.98408    PR   chr1  15651895   \n",
       "\n",
       "        start2 chrom2      end1      end2  \n",
       "2875  15651895   chr1  15656420  15656420  \n",
       "2876  15651895   chr1  15656616  15656616  "
      ]
     },
     "execution_count": 102,
     "metadata": {},
     "output_type": "execute_result"
    }
   ],
   "source": [
    "lnk1"
   ]
  },
  {
   "cell_type": "code",
   "execution_count": 103,
   "metadata": {
    "vscode": {
     "languageId": "r"
    }
   },
   "outputs": [],
   "source": [
    "lnk1_o = lnk1[['chrom1', 'start1', 'start2', 'chrom2', 'end1', 'end2', tissue1]]\n",
    "lnk2_o = lnk2[['chrom1', 'start1', 'start2', 'chrom2', 'end1', 'end2', tissue2]]"
   ]
  },
  {
   "cell_type": "code",
   "execution_count": 206,
   "metadata": {
    "vscode": {
     "languageId": "r"
    }
   },
   "outputs": [
    {
     "data": {
      "text/html": [
       "<div>\n",
       "<style scoped>\n",
       "    .dataframe tbody tr th:only-of-type {\n",
       "        vertical-align: middle;\n",
       "    }\n",
       "\n",
       "    .dataframe tbody tr th {\n",
       "        vertical-align: top;\n",
       "    }\n",
       "\n",
       "    .dataframe thead th {\n",
       "        text-align: right;\n",
       "    }\n",
       "</style>\n",
       "<table border=\"1\" class=\"dataframe\">\n",
       "  <thead>\n",
       "    <tr style=\"text-align: right;\">\n",
       "      <th></th>\n",
       "      <th>chrom1</th>\n",
       "      <th>start1</th>\n",
       "      <th>start2</th>\n",
       "      <th>chrom2</th>\n",
       "      <th>end1</th>\n",
       "      <th>end2</th>\n",
       "      <th>Brain-Cortex</th>\n",
       "    </tr>\n",
       "  </thead>\n",
       "  <tbody>\n",
       "    <tr>\n",
       "      <th>2875</th>\n",
       "      <td>chr1</td>\n",
       "      <td>15651895</td>\n",
       "      <td>15651895</td>\n",
       "      <td>chr1</td>\n",
       "      <td>15656420</td>\n",
       "      <td>15656420</td>\n",
       "      <td>0.01592</td>\n",
       "    </tr>\n",
       "    <tr>\n",
       "      <th>2876</th>\n",
       "      <td>chr1</td>\n",
       "      <td>15651895</td>\n",
       "      <td>15651895</td>\n",
       "      <td>chr1</td>\n",
       "      <td>15656616</td>\n",
       "      <td>15656616</td>\n",
       "      <td>0.98408</td>\n",
       "    </tr>\n",
       "  </tbody>\n",
       "</table>\n",
       "</div>"
      ],
      "text/plain": [
       "     chrom1    start1    start2 chrom2      end1      end2  Brain-Cortex\n",
       "2875   chr1  15651895  15651895   chr1  15656420  15656420       0.01592\n",
       "2876   chr1  15651895  15651895   chr1  15656616  15656616       0.98408"
      ]
     },
     "execution_count": 206,
     "metadata": {},
     "output_type": "execute_result"
    },
    {
     "data": {
      "text/html": [
       "<div>\n",
       "<style scoped>\n",
       "    .dataframe tbody tr th:only-of-type {\n",
       "        vertical-align: middle;\n",
       "    }\n",
       "\n",
       "    .dataframe tbody tr th {\n",
       "        vertical-align: top;\n",
       "    }\n",
       "\n",
       "    .dataframe thead th {\n",
       "        text-align: right;\n",
       "    }\n",
       "</style>\n",
       "<table border=\"1\" class=\"dataframe\">\n",
       "  <thead>\n",
       "    <tr style=\"text-align: right;\">\n",
       "      <th></th>\n",
       "      <th>chrom1</th>\n",
       "      <th>start1</th>\n",
       "      <th>start2</th>\n",
       "      <th>chrom2</th>\n",
       "      <th>end1</th>\n",
       "      <th>end2</th>\n",
       "      <th>Muscle-Skeletal</th>\n",
       "    </tr>\n",
       "  </thead>\n",
       "  <tbody>\n",
       "    <tr>\n",
       "      <th>2875</th>\n",
       "      <td>chr1</td>\n",
       "      <td>15651895</td>\n",
       "      <td>15651895</td>\n",
       "      <td>chr1</td>\n",
       "      <td>15656420</td>\n",
       "      <td>15656420</td>\n",
       "      <td>0.513989</td>\n",
       "    </tr>\n",
       "    <tr>\n",
       "      <th>2876</th>\n",
       "      <td>chr1</td>\n",
       "      <td>15651895</td>\n",
       "      <td>15651895</td>\n",
       "      <td>chr1</td>\n",
       "      <td>15656616</td>\n",
       "      <td>15656616</td>\n",
       "      <td>0.486011</td>\n",
       "    </tr>\n",
       "  </tbody>\n",
       "</table>\n",
       "</div>"
      ],
      "text/plain": [
       "     chrom1    start1    start2 chrom2      end1      end2  Muscle-Skeletal\n",
       "2875   chr1  15651895  15651895   chr1  15656420  15656420         0.513989\n",
       "2876   chr1  15651895  15651895   chr1  15656616  15656616         0.486011"
      ]
     },
     "execution_count": 206,
     "metadata": {},
     "output_type": "execute_result"
    }
   ],
   "source": [
    "lnk1_o\n",
    "lnk2_o"
   ]
  },
  {
   "cell_type": "code",
   "execution_count": 39,
   "metadata": {
    "vscode": {
     "languageId": "r"
    }
   },
   "outputs": [],
   "source": [
    "lnk1_o.to_csv(f'test-lnk-{tissue1}.tsv', sep='\\t', index=False, header=False)\n",
    "lnk2_o.to_csv(f'test-lnk-{tissue2}.tsv', sep='\\t', index=False, header=False)"
   ]
  },
  {
   "cell_type": "code",
   "execution_count": 76,
   "metadata": {
    "vscode": {
     "languageId": "r"
    }
   },
   "outputs": [
    {
     "data": {
      "text/html": [
       "<div>\n",
       "<style scoped>\n",
       "    .dataframe tbody tr th:only-of-type {\n",
       "        vertical-align: middle;\n",
       "    }\n",
       "\n",
       "    .dataframe tbody tr th {\n",
       "        vertical-align: top;\n",
       "    }\n",
       "\n",
       "    .dataframe thead th {\n",
       "        text-align: right;\n",
       "    }\n",
       "</style>\n",
       "<table border=\"1\" class=\"dataframe\">\n",
       "  <thead>\n",
       "    <tr style=\"text-align: right;\">\n",
       "      <th></th>\n",
       "      <th>intron</th>\n",
       "      <th>Brain-Cortex</th>\n",
       "      <th>chrom1</th>\n",
       "      <th>start1</th>\n",
       "      <th>start2</th>\n",
       "      <th>chrom2</th>\n",
       "      <th>end1</th>\n",
       "      <th>end2</th>\n",
       "    </tr>\n",
       "  </thead>\n",
       "  <tbody>\n",
       "    <tr>\n",
       "      <th>2875</th>\n",
       "      <td>chr1:15651895:15656420:clu_261_+</td>\n",
       "      <td>0.01592</td>\n",
       "      <td>chr1</td>\n",
       "      <td>15651895</td>\n",
       "      <td>15651895</td>\n",
       "      <td>chr1</td>\n",
       "      <td>15656420</td>\n",
       "      <td>15656420</td>\n",
       "    </tr>\n",
       "    <tr>\n",
       "      <th>2876</th>\n",
       "      <td>chr1:15651895:15656616:clu_261_+</td>\n",
       "      <td>0.98408</td>\n",
       "      <td>chr1</td>\n",
       "      <td>15651895</td>\n",
       "      <td>15651895</td>\n",
       "      <td>chr1</td>\n",
       "      <td>15656616</td>\n",
       "      <td>15656616</td>\n",
       "    </tr>\n",
       "  </tbody>\n",
       "</table>\n",
       "</div>"
      ],
      "text/plain": [
       "                                intron  Brain-Cortex chrom1    start1  \\\n",
       "2875  chr1:15651895:15656420:clu_261_+       0.01592   chr1  15651895   \n",
       "2876  chr1:15651895:15656616:clu_261_+       0.98408   chr1  15651895   \n",
       "\n",
       "        start2 chrom2      end1      end2  \n",
       "2875  15651895   chr1  15656420  15656420  \n",
       "2876  15651895   chr1  15656616  15656616  "
      ]
     },
     "execution_count": 76,
     "metadata": {},
     "output_type": "execute_result"
    }
   ],
   "source": [
    "lnk1"
   ]
  },
  {
   "cell_type": "code",
   "execution_count": 104,
   "metadata": {
    "vscode": {
     "languageId": "r"
    }
   },
   "outputs": [],
   "source": [
    "# concatenate lnk1 and lnk2\n",
    "pd.concat([\n",
    "  lnk1[lnk1.itype == 'UP'][['chrom1', 'start1', 'start2', 'chrom2', 'end1', 'end2']],\n",
    "  lnk2[lnk2.itype == 'UP'][['chrom1', 'start1', 'start2', 'chrom2', 'end1', 'end2']]\n",
    "  ], axis=0).drop_duplicates().to_csv(f'test-lnk-UP.tsv', sep='\\t', index=False, header=False)"
   ]
  },
  {
   "cell_type": "code",
   "execution_count": 107,
   "metadata": {
    "vscode": {
     "languageId": "r"
    }
   },
   "outputs": [],
   "source": [
    "pd.concat([\n",
    "  lnk1[lnk1.itype == 'PR'][['chrom1', 'start1', 'start2', 'chrom2', 'end1', 'end2']],\n",
    "  lnk2[lnk2.itype == 'PR'][['chrom1', 'start1', 'start2', 'chrom2', 'end1', 'end2']]\n",
    "  ], axis=0).drop_duplicates().to_csv(f'test-lnk-PR.tsv', sep='\\t', index=False, header=False)"
   ]
  },
  {
   "cell_type": "code",
   "execution_count": null,
   "metadata": {
    "vscode": {
     "languageId": "r"
    }
   },
   "outputs": [],
   "source": []
  },
  {
   "cell_type": "code",
   "execution_count": null,
   "metadata": {
    "vscode": {
     "languageId": "r"
    }
   },
   "outputs": [],
   "source": []
  },
  {
   "cell_type": "markdown",
   "metadata": {},
   "source": [
    "### check: are my ds samples the same as my dge samples?"
   ]
  },
  {
   "cell_type": "code",
   "execution_count": null,
   "metadata": {
    "vscode": {
     "languageId": "r"
    }
   },
   "outputs": [],
   "source": []
  },
  {
   "cell_type": "code",
   "execution_count": null,
   "metadata": {
    "vscode": {
     "languageId": "r"
    }
   },
   "outputs": [],
   "source": []
  }
 ],
 "metadata": {
  "kernelspec": {
   "display_name": "R",
   "language": "R",
   "name": "ir"
  },
  "language_info": {
   "codemirror_mode": "r",
   "file_extension": ".r",
   "mimetype": "text/x-r-source",
   "name": "R",
   "pygments_lexer": "r",
   "version": "4.3.1"
  }
 },
 "nbformat": 4,
 "nbformat_minor": 2
}
