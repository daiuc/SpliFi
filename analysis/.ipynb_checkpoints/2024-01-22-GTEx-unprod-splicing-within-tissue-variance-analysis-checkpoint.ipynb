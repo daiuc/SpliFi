{
 "cells": [
  {
   "cell_type": "raw",
   "id": "4d8ac036",
   "metadata": {},
   "source": [
    "---\n",
    "title: \"Unproductive sQTLs in GTEx - by tissue\"\n",
    "date: 2024-01-12\n",
    "author: \"Chao Dai\"\n",
    "code-fold: true\n",
    "execute: \n",
    "  warning: false\n",
    "  message: false\n",
    "  echo: false\n",
    "  include: false\n",
    "categories:\n",
    "  - \"GTEx\"\n",
    "  - \"unproductive sQTLs\"\n",
    "jupyter:\n",
    "    language: r\n",
    "---"
   ]
  },
  {
   "cell_type": "code",
   "execution_count": 25,
   "id": "9a716e6d",
   "metadata": {
    "vscode": {
     "languageId": "r"
    }
   },
   "outputs": [],
   "source": [
    "suppressMessages(library(tidyverse))\n",
    "suppressMessages(library(glue))\n",
    "suppressMessages(library(data.table))"
   ]
  },
  {
   "cell_type": "code",
   "execution_count": 46,
   "id": "47cbcc73",
   "metadata": {
    "vscode": {
     "languageId": "r"
    }
   },
   "outputs": [],
   "source": [
    "suppressMessages(library(cowplot))\n",
    "options(repr.plot.width=10, repr.plot.height=5, repr.plot.res = 180)\n",
    "theme_set(theme_cowplot())"
   ]
  },
  {
   "cell_type": "code",
   "execution_count": 27,
   "id": "6d23a56a",
   "metadata": {
    "vscode": {
     "languageId": "r"
    }
   },
   "outputs": [],
   "source": [
    "setwd(\"~/cdai/SpliFi/analysis\")"
   ]
  },
  {
   "cell_type": "code",
   "execution_count": 28,
   "id": "1d070d9e",
   "metadata": {
    "vscode": {
     "languageId": "r"
    }
   },
   "outputs": [],
   "source": [
    "suppressMessages(library(furrr))\n",
    "plan(multisession, workers = 6)"
   ]
  },
  {
   "cell_type": "code",
   "execution_count": null,
   "id": "4d9afd0c",
   "metadata": {
    "vscode": {
     "languageId": "r"
    }
   },
   "outputs": [],
   "source": []
  }
 ],
 "metadata": {
  "kernelspec": {
   "display_name": "R",
   "language": "R",
   "name": "ir"
  },
  "language_info": {
   "codemirror_mode": "r",
   "file_extension": ".r",
   "mimetype": "text/x-r-source",
   "name": "R",
   "pygments_lexer": "r",
   "version": "4.3.1"
  }
 },
 "nbformat": 4,
 "nbformat_minor": 5
}
