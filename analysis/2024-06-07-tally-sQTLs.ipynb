{
 "cells": [
  {
   "cell_type": "raw",
   "metadata": {
    "vscode": {
     "languageId": "raw"
    }
   },
   "source": [
    "---\n",
    "title: \"Tally sQTLs\"\n",
    "---"
   ]
  },
  {
   "cell_type": "code",
   "execution_count": 1,
   "metadata": {
    "vscode": {
     "languageId": "r"
    }
   },
   "outputs": [],
   "source": [
    "suppressMessages(library(tidyverse))\n",
    "suppressMessages(library(data.table))\n",
    "suppressMessages(library(glue))"
   ]
  },
  {
   "cell_type": "code",
   "execution_count": 4,
   "metadata": {
    "vscode": {
     "languageId": "r"
    }
   },
   "outputs": [],
   "source": [
    "#| label: \"set dir\"\n",
    "#| eval: false\n",
    "setwd(\"/project/yangili1/cdai/SpliFi/analysis/\")"
   ]
  },
  {
   "cell_type": "code",
   "execution_count": 19,
   "metadata": {
    "vscode": {
     "languageId": "r"
    }
   },
   "outputs": [],
   "source": [
    "base_dir = \"/project/yangili1/cdai/SpliFi/code/\""
   ]
  },
  {
   "cell_type": "markdown",
   "metadata": {},
   "source": [
    "## GTEx"
   ]
  },
  {
   "cell_type": "code",
   "execution_count": 16,
   "metadata": {
    "vscode": {
     "languageId": "r"
    }
   },
   "outputs": [],
   "source": [
    "# tissues\n",
    "tissues <- dir(\"../code/results-naive-annotation/qtl/noisy/GTEx/\")\n",
    "tissues <- tissues[tissues != \"Bladder\"]"
   ]
  },
  {
   "cell_type": "code",
   "execution_count": 18,
   "metadata": {
    "vscode": {
     "languageId": "r"
    }
   },
   "outputs": [
    {
     "data": {
      "text/html": [
       "<style>\n",
       ".list-inline {list-style: none; margin:0; padding: 0}\n",
       ".list-inline>li {display: inline-block}\n",
       ".list-inline>li:not(:last-child)::after {content: \"\\00b7\"; padding: 0 .5ex}\n",
       "</style>\n",
       "<ol class=list-inline><li>'Adipose-Subcutaneous'</li><li>'Adipose-Visceral_Omentum_'</li><li>'AdrenalGland'</li><li>'Artery-Aorta'</li><li>'Artery-Coronary'</li><li>'Artery-Tibial'</li><li>'Brain-Amygdala'</li><li>'Brain-Anteriorcingulatecortex_BA24_'</li><li>'Brain-Caudate_basalganglia_'</li><li>'Brain-CerebellarHemisphere'</li><li>'Brain-Cerebellum'</li><li>'Brain-Cortex'</li><li>'Brain-FrontalCortex_BA9_'</li><li>'Brain-Hippocampus'</li><li>'Brain-Hypothalamus'</li><li>'Brain-Nucleusaccumbens_basalganglia_'</li><li>'Brain-Putamen_basalganglia_'</li><li>'Brain-Spinalcord_cervicalc-1_'</li><li>'Brain-Substantianigra'</li><li>'Breast-MammaryTissue'</li><li>'Cells-Culturedfibroblasts'</li><li>'Cells-EBV-transformedlymphocytes'</li><li>'Colon-Sigmoid'</li><li>'Colon-Transverse'</li><li>'Esophagus-GastroesophagealJunction'</li><li>'Esophagus-Mucosa'</li><li>'Esophagus-Muscularis'</li><li>'Heart-AtrialAppendage'</li><li>'Heart-LeftVentricle'</li><li>'Kidney-Cortex'</li><li>'Liver'</li><li>'Lung'</li><li>'MinorSalivaryGland'</li><li>'Muscle-Skeletal'</li><li>'Nerve-Tibial'</li><li>'Ovary'</li><li>'Pancreas'</li><li>'Pituitary'</li><li>'Prostate'</li><li>'Skin-NotSunExposed_Suprapubic_'</li><li>'Skin-SunExposed_Lowerleg_'</li><li>'SmallIntestine-TerminalIleum'</li><li>'Spleen'</li><li>'Stomach'</li><li>'Testis'</li><li>'Thyroid'</li><li>'Uterus'</li><li>'Vagina'</li><li>'WholeBlood'</li></ol>\n"
      ],
      "text/latex": [
       "\\begin{enumerate*}\n",
       "\\item 'Adipose-Subcutaneous'\n",
       "\\item 'Adipose-Visceral\\_Omentum\\_'\n",
       "\\item 'AdrenalGland'\n",
       "\\item 'Artery-Aorta'\n",
       "\\item 'Artery-Coronary'\n",
       "\\item 'Artery-Tibial'\n",
       "\\item 'Brain-Amygdala'\n",
       "\\item 'Brain-Anteriorcingulatecortex\\_BA24\\_'\n",
       "\\item 'Brain-Caudate\\_basalganglia\\_'\n",
       "\\item 'Brain-CerebellarHemisphere'\n",
       "\\item 'Brain-Cerebellum'\n",
       "\\item 'Brain-Cortex'\n",
       "\\item 'Brain-FrontalCortex\\_BA9\\_'\n",
       "\\item 'Brain-Hippocampus'\n",
       "\\item 'Brain-Hypothalamus'\n",
       "\\item 'Brain-Nucleusaccumbens\\_basalganglia\\_'\n",
       "\\item 'Brain-Putamen\\_basalganglia\\_'\n",
       "\\item 'Brain-Spinalcord\\_cervicalc-1\\_'\n",
       "\\item 'Brain-Substantianigra'\n",
       "\\item 'Breast-MammaryTissue'\n",
       "\\item 'Cells-Culturedfibroblasts'\n",
       "\\item 'Cells-EBV-transformedlymphocytes'\n",
       "\\item 'Colon-Sigmoid'\n",
       "\\item 'Colon-Transverse'\n",
       "\\item 'Esophagus-GastroesophagealJunction'\n",
       "\\item 'Esophagus-Mucosa'\n",
       "\\item 'Esophagus-Muscularis'\n",
       "\\item 'Heart-AtrialAppendage'\n",
       "\\item 'Heart-LeftVentricle'\n",
       "\\item 'Kidney-Cortex'\n",
       "\\item 'Liver'\n",
       "\\item 'Lung'\n",
       "\\item 'MinorSalivaryGland'\n",
       "\\item 'Muscle-Skeletal'\n",
       "\\item 'Nerve-Tibial'\n",
       "\\item 'Ovary'\n",
       "\\item 'Pancreas'\n",
       "\\item 'Pituitary'\n",
       "\\item 'Prostate'\n",
       "\\item 'Skin-NotSunExposed\\_Suprapubic\\_'\n",
       "\\item 'Skin-SunExposed\\_Lowerleg\\_'\n",
       "\\item 'SmallIntestine-TerminalIleum'\n",
       "\\item 'Spleen'\n",
       "\\item 'Stomach'\n",
       "\\item 'Testis'\n",
       "\\item 'Thyroid'\n",
       "\\item 'Uterus'\n",
       "\\item 'Vagina'\n",
       "\\item 'WholeBlood'\n",
       "\\end{enumerate*}\n"
      ],
      "text/markdown": [
       "1. 'Adipose-Subcutaneous'\n",
       "2. 'Adipose-Visceral_Omentum_'\n",
       "3. 'AdrenalGland'\n",
       "4. 'Artery-Aorta'\n",
       "5. 'Artery-Coronary'\n",
       "6. 'Artery-Tibial'\n",
       "7. 'Brain-Amygdala'\n",
       "8. 'Brain-Anteriorcingulatecortex_BA24_'\n",
       "9. 'Brain-Caudate_basalganglia_'\n",
       "10. 'Brain-CerebellarHemisphere'\n",
       "11. 'Brain-Cerebellum'\n",
       "12. 'Brain-Cortex'\n",
       "13. 'Brain-FrontalCortex_BA9_'\n",
       "14. 'Brain-Hippocampus'\n",
       "15. 'Brain-Hypothalamus'\n",
       "16. 'Brain-Nucleusaccumbens_basalganglia_'\n",
       "17. 'Brain-Putamen_basalganglia_'\n",
       "18. 'Brain-Spinalcord_cervicalc-1_'\n",
       "19. 'Brain-Substantianigra'\n",
       "20. 'Breast-MammaryTissue'\n",
       "21. 'Cells-Culturedfibroblasts'\n",
       "22. 'Cells-EBV-transformedlymphocytes'\n",
       "23. 'Colon-Sigmoid'\n",
       "24. 'Colon-Transverse'\n",
       "25. 'Esophagus-GastroesophagealJunction'\n",
       "26. 'Esophagus-Mucosa'\n",
       "27. 'Esophagus-Muscularis'\n",
       "28. 'Heart-AtrialAppendage'\n",
       "29. 'Heart-LeftVentricle'\n",
       "30. 'Kidney-Cortex'\n",
       "31. 'Liver'\n",
       "32. 'Lung'\n",
       "33. 'MinorSalivaryGland'\n",
       "34. 'Muscle-Skeletal'\n",
       "35. 'Nerve-Tibial'\n",
       "36. 'Ovary'\n",
       "37. 'Pancreas'\n",
       "38. 'Pituitary'\n",
       "39. 'Prostate'\n",
       "40. 'Skin-NotSunExposed_Suprapubic_'\n",
       "41. 'Skin-SunExposed_Lowerleg_'\n",
       "42. 'SmallIntestine-TerminalIleum'\n",
       "43. 'Spleen'\n",
       "44. 'Stomach'\n",
       "45. 'Testis'\n",
       "46. 'Thyroid'\n",
       "47. 'Uterus'\n",
       "48. 'Vagina'\n",
       "49. 'WholeBlood'\n",
       "\n",
       "\n"
      ],
      "text/plain": [
       " [1] \"Adipose-Subcutaneous\"                \n",
       " [2] \"Adipose-Visceral_Omentum_\"           \n",
       " [3] \"AdrenalGland\"                        \n",
       " [4] \"Artery-Aorta\"                        \n",
       " [5] \"Artery-Coronary\"                     \n",
       " [6] \"Artery-Tibial\"                       \n",
       " [7] \"Brain-Amygdala\"                      \n",
       " [8] \"Brain-Anteriorcingulatecortex_BA24_\" \n",
       " [9] \"Brain-Caudate_basalganglia_\"         \n",
       "[10] \"Brain-CerebellarHemisphere\"          \n",
       "[11] \"Brain-Cerebellum\"                    \n",
       "[12] \"Brain-Cortex\"                        \n",
       "[13] \"Brain-FrontalCortex_BA9_\"            \n",
       "[14] \"Brain-Hippocampus\"                   \n",
       "[15] \"Brain-Hypothalamus\"                  \n",
       "[16] \"Brain-Nucleusaccumbens_basalganglia_\"\n",
       "[17] \"Brain-Putamen_basalganglia_\"         \n",
       "[18] \"Brain-Spinalcord_cervicalc-1_\"       \n",
       "[19] \"Brain-Substantianigra\"               \n",
       "[20] \"Breast-MammaryTissue\"                \n",
       "[21] \"Cells-Culturedfibroblasts\"           \n",
       "[22] \"Cells-EBV-transformedlymphocytes\"    \n",
       "[23] \"Colon-Sigmoid\"                       \n",
       "[24] \"Colon-Transverse\"                    \n",
       "[25] \"Esophagus-GastroesophagealJunction\"  \n",
       "[26] \"Esophagus-Mucosa\"                    \n",
       "[27] \"Esophagus-Muscularis\"                \n",
       "[28] \"Heart-AtrialAppendage\"               \n",
       "[29] \"Heart-LeftVentricle\"                 \n",
       "[30] \"Kidney-Cortex\"                       \n",
       "[31] \"Liver\"                               \n",
       "[32] \"Lung\"                                \n",
       "[33] \"MinorSalivaryGland\"                  \n",
       "[34] \"Muscle-Skeletal\"                     \n",
       "[35] \"Nerve-Tibial\"                        \n",
       "[36] \"Ovary\"                               \n",
       "[37] \"Pancreas\"                            \n",
       "[38] \"Pituitary\"                           \n",
       "[39] \"Prostate\"                            \n",
       "[40] \"Skin-NotSunExposed_Suprapubic_\"      \n",
       "[41] \"Skin-SunExposed_Lowerleg_\"           \n",
       "[42] \"SmallIntestine-TerminalIleum\"        \n",
       "[43] \"Spleen\"                              \n",
       "[44] \"Stomach\"                             \n",
       "[45] \"Testis\"                              \n",
       "[46] \"Thyroid\"                             \n",
       "[47] \"Uterus\"                              \n",
       "[48] \"Vagina\"                              \n",
       "[49] \"WholeBlood\"                          "
      ]
     },
     "metadata": {},
     "output_type": "display_data"
    },
    {
     "data": {
      "text/html": [
       "49"
      ],
      "text/latex": [
       "49"
      ],
      "text/markdown": [
       "49"
      ],
      "text/plain": [
       "[1] 49"
      ]
     },
     "metadata": {},
     "output_type": "display_data"
    }
   ],
   "source": [
    "tissues\n",
    "length(tissues)"
   ]
  },
  {
   "cell_type": "code",
   "execution_count": 47,
   "metadata": {
    "vscode": {
     "languageId": "r"
    }
   },
   "outputs": [],
   "source": [
    "readQTLs <- function(tissue) {\n",
    "  base_dir <- \"../code/results-naive-annotation/qtl/noisy/GTEx\"\n",
    "  dir_suffix <- \"separateNoise/cis_100000/perm\"\n",
    "  folder <- glue(\"{base_dir}/{tissue}/{dir_suffix}\")\n",
    "  qtlfiles <- list.files(folder, pattern = \"*addQval.txt.gz\", full.names = TRUE)\n",
    "  qtls <- map_dfr(qtlfiles, fread)\n",
    "  return(qtls)\n",
    "}"
   ]
  },
  {
   "cell_type": "code",
   "execution_count": 66,
   "metadata": {
    "vscode": {
     "languageId": "r"
    }
   },
   "outputs": [],
   "source": [
    "filterQTLs <- function(qtls, fdr=0.1) {\n",
    "  qtls <- qtls[q < fdr][, .N, by = list(isUP = str_detect(phenotype_id, \".+\\\\:N\"))]\n",
    "  return(qtls)\n",
    "}"
   ]
  },
  {
   "cell_type": "code",
   "execution_count": 67,
   "metadata": {
    "vscode": {
     "languageId": "r"
    }
   },
   "outputs": [],
   "source": [
    "df <- readQTLs(\"Muscle-Skeletal\")"
   ]
  },
  {
   "cell_type": "code",
   "execution_count": null,
   "metadata": {
    "vscode": {
     "languageId": "r"
    }
   },
   "outputs": [],
   "source": []
  },
  {
   "cell_type": "code",
   "execution_count": 68,
   "metadata": {
    "vscode": {
     "languageId": "r"
    }
   },
   "outputs": [
    {
     "data": {
      "text/html": [
       "<style>\n",
       ".list-inline {list-style: none; margin:0; padding: 0}\n",
       ".list-inline>li {display: inline-block}\n",
       ".list-inline>li:not(:last-child)::after {content: \"\\00b7\"; padding: 0 .5ex}\n",
       "</style>\n",
       "<ol class=list-inline><li>79712</li><li>21</li></ol>\n"
      ],
      "text/latex": [
       "\\begin{enumerate*}\n",
       "\\item 79712\n",
       "\\item 21\n",
       "\\end{enumerate*}\n"
      ],
      "text/markdown": [
       "1. 79712\n",
       "2. 21\n",
       "\n",
       "\n"
      ],
      "text/plain": [
       "[1] 79712    21"
      ]
     },
     "metadata": {},
     "output_type": "display_data"
    }
   ],
   "source": [
    "df %>% dim\n"
   ]
  },
  {
   "cell_type": "code",
   "execution_count": 77,
   "metadata": {
    "vscode": {
     "languageId": "r"
    }
   },
   "outputs": [
    {
     "data": {
      "text/html": [
       "1673"
      ],
      "text/latex": [
       "1673"
      ],
      "text/markdown": [
       "1673"
      ],
      "text/plain": [
       "[1] 1673"
      ]
     },
     "metadata": {},
     "output_type": "display_data"
    }
   ],
   "source": [
    "readQTLs(\"Liver\") %>% filterQTLs %>% .[isUP == T] %>% .[, N]"
   ]
  },
  {
   "cell_type": "code",
   "execution_count": 79,
   "metadata": {
    "vscode": {
     "languageId": "r"
    }
   },
   "outputs": [],
   "source": [
    "names(tissues) <- tissues"
   ]
  },
  {
   "cell_type": "code",
   "execution_count": 81,
   "metadata": {
    "vscode": {
     "languageId": "r"
    }
   },
   "outputs": [],
   "source": [
    "tally <- map(tissues, \\(x) readQTLs(x) %>% filterQTLs %>% .[isUP == T] %>% .[, N])"
   ]
  },
  {
   "cell_type": "code",
   "execution_count": 82,
   "metadata": {
    "vscode": {
     "languageId": "r"
    }
   },
   "outputs": [
    {
     "data": {
      "text/html": [
       "49"
      ],
      "text/latex": [
       "49"
      ],
      "text/markdown": [
       "49"
      ],
      "text/plain": [
       "[1] 49"
      ]
     },
     "metadata": {},
     "output_type": "display_data"
    }
   ],
   "source": [
    "length(tally)"
   ]
  },
  {
   "cell_type": "code",
   "execution_count": 83,
   "metadata": {
    "vscode": {
     "languageId": "r"
    }
   },
   "outputs": [
    {
     "data": {
      "text/html": [
       "<dl>\n",
       "\t<dt>$`Adipose-Subcutaneous`</dt>\n",
       "\t\t<dd>5788</dd>\n",
       "\t<dt>$`Adipose-Visceral_Omentum_`</dt>\n",
       "\t\t<dd>4851</dd>\n",
       "\t<dt>$AdrenalGland</dt>\n",
       "\t\t<dd>2730</dd>\n",
       "</dl>\n"
      ],
      "text/latex": [
       "\\begin{description}\n",
       "\\item[\\$`Adipose-Subcutaneous`] 5788\n",
       "\\item[\\$`Adipose-Visceral\\_Omentum\\_`] 4851\n",
       "\\item[\\$AdrenalGland] 2730\n",
       "\\end{description}\n"
      ],
      "text/markdown": [
       "$`Adipose-Subcutaneous`\n",
       ":   5788\n",
       "$`Adipose-Visceral_Omentum_`\n",
       ":   4851\n",
       "$AdrenalGland\n",
       ":   2730\n",
       "\n",
       "\n"
      ],
      "text/plain": [
       "$`Adipose-Subcutaneous`\n",
       "[1] 5788\n",
       "\n",
       "$`Adipose-Visceral_Omentum_`\n",
       "[1] 4851\n",
       "\n",
       "$AdrenalGland\n",
       "[1] 2730\n"
      ]
     },
     "metadata": {},
     "output_type": "display_data"
    }
   ],
   "source": [
    "tally[1:3]"
   ]
  },
  {
   "cell_type": "code",
   "execution_count": 102,
   "metadata": {
    "vscode": {
     "languageId": "r"
    }
   },
   "outputs": [
    {
     "data": {
      "text/html": [
       "185065"
      ],
      "text/latex": [
       "185065"
      ],
      "text/markdown": [
       "185065"
      ],
      "text/plain": [
       "[1] 185065"
      ]
     },
     "metadata": {},
     "output_type": "display_data"
    }
   ],
   "source": [
    "unlist(tally) %>% enframe(name = \"tissue\", value = \"N\")  %>%  pull(N)  %>%  sum %>% `+`(., 26501)\n",
    "\n",
    "# used this number to compute total GTEx + ROSMAP u-sQTLs"
   ]
  },
  {
   "cell_type": "code",
   "execution_count": 94,
   "metadata": {
    "vscode": {
     "languageId": "r"
    }
   },
   "outputs": [
    {
     "data": {
      "image/png": "[encoded data removed]",
      "text/plain": [
       "plot without title"
      ]
     },
     "metadata": {
      "image/png": {
       "height": 420,
       "width": 420
      }
     },
     "output_type": "display_data"
    }
   ],
   "source": [
    "unlist(tally) %>% enframe(name = \"tissue\", value = \"N\") %>% arrange(desc(N)) %>% \n",
    "  ggplot() + geom_col(aes(x = forcats::fct_reorder(tissue, -N), y = N), fill = \"navy\", color = \"#836868\") +\n",
    "    theme(axis.text.x = element_text(angle = 90, hjust = 1))"
   ]
  },
  {
   "cell_type": "code",
   "execution_count": 37,
   "metadata": {
    "vscode": {
     "languageId": "r"
    }
   },
   "outputs": [
    {
     "data": {
      "text/html": [
       "<style>\n",
       ".list-inline {list-style: none; margin:0; padding: 0}\n",
       ".list-inline>li {display: inline-block}\n",
       ".list-inline>li:not(:last-child)::after {content: \"\\00b7\"; padding: 0 .5ex}\n",
       "</style>\n",
       "<ol class=list-inline><li>'chr1.addQval.txt.gz'</li><li>'chr10.addQval.txt.gz'</li><li>'chr11.addQval.txt.gz'</li><li>'chr12.addQval.txt.gz'</li><li>'chr13.addQval.txt.gz'</li><li>'chr14.addQval.txt.gz'</li><li>'chr15.addQval.txt.gz'</li><li>'chr16.addQval.txt.gz'</li><li>'chr17.addQval.txt.gz'</li><li>'chr18.addQval.txt.gz'</li><li>'chr19.addQval.txt.gz'</li><li>'chr2.addQval.txt.gz'</li><li>'chr20.addQval.txt.gz'</li><li>'chr21.addQval.txt.gz'</li><li>'chr22.addQval.txt.gz'</li><li>'chr3.addQval.txt.gz'</li><li>'chr4.addQval.txt.gz'</li><li>'chr5.addQval.txt.gz'</li><li>'chr6.addQval.txt.gz'</li><li>'chr7.addQval.txt.gz'</li><li>'chr8.addQval.txt.gz'</li><li>'chr9.addQval.txt.gz'</li></ol>\n"
      ],
      "text/latex": [
       "\\begin{enumerate*}\n",
       "\\item 'chr1.addQval.txt.gz'\n",
       "\\item 'chr10.addQval.txt.gz'\n",
       "\\item 'chr11.addQval.txt.gz'\n",
       "\\item 'chr12.addQval.txt.gz'\n",
       "\\item 'chr13.addQval.txt.gz'\n",
       "\\item 'chr14.addQval.txt.gz'\n",
       "\\item 'chr15.addQval.txt.gz'\n",
       "\\item 'chr16.addQval.txt.gz'\n",
       "\\item 'chr17.addQval.txt.gz'\n",
       "\\item 'chr18.addQval.txt.gz'\n",
       "\\item 'chr19.addQval.txt.gz'\n",
       "\\item 'chr2.addQval.txt.gz'\n",
       "\\item 'chr20.addQval.txt.gz'\n",
       "\\item 'chr21.addQval.txt.gz'\n",
       "\\item 'chr22.addQval.txt.gz'\n",
       "\\item 'chr3.addQval.txt.gz'\n",
       "\\item 'chr4.addQval.txt.gz'\n",
       "\\item 'chr5.addQval.txt.gz'\n",
       "\\item 'chr6.addQval.txt.gz'\n",
       "\\item 'chr7.addQval.txt.gz'\n",
       "\\item 'chr8.addQval.txt.gz'\n",
       "\\item 'chr9.addQval.txt.gz'\n",
       "\\end{enumerate*}\n"
      ],
      "text/markdown": [
       "1. 'chr1.addQval.txt.gz'\n",
       "2. 'chr10.addQval.txt.gz'\n",
       "3. 'chr11.addQval.txt.gz'\n",
       "4. 'chr12.addQval.txt.gz'\n",
       "5. 'chr13.addQval.txt.gz'\n",
       "6. 'chr14.addQval.txt.gz'\n",
       "7. 'chr15.addQval.txt.gz'\n",
       "8. 'chr16.addQval.txt.gz'\n",
       "9. 'chr17.addQval.txt.gz'\n",
       "10. 'chr18.addQval.txt.gz'\n",
       "11. 'chr19.addQval.txt.gz'\n",
       "12. 'chr2.addQval.txt.gz'\n",
       "13. 'chr20.addQval.txt.gz'\n",
       "14. 'chr21.addQval.txt.gz'\n",
       "15. 'chr22.addQval.txt.gz'\n",
       "16. 'chr3.addQval.txt.gz'\n",
       "17. 'chr4.addQval.txt.gz'\n",
       "18. 'chr5.addQval.txt.gz'\n",
       "19. 'chr6.addQval.txt.gz'\n",
       "20. 'chr7.addQval.txt.gz'\n",
       "21. 'chr8.addQval.txt.gz'\n",
       "22. 'chr9.addQval.txt.gz'\n",
       "\n",
       "\n"
      ],
      "text/plain": [
       " [1] \"chr1.addQval.txt.gz\"  \"chr10.addQval.txt.gz\" \"chr11.addQval.txt.gz\"\n",
       " [4] \"chr12.addQval.txt.gz\" \"chr13.addQval.txt.gz\" \"chr14.addQval.txt.gz\"\n",
       " [7] \"chr15.addQval.txt.gz\" \"chr16.addQval.txt.gz\" \"chr17.addQval.txt.gz\"\n",
       "[10] \"chr18.addQval.txt.gz\" \"chr19.addQval.txt.gz\" \"chr2.addQval.txt.gz\" \n",
       "[13] \"chr20.addQval.txt.gz\" \"chr21.addQval.txt.gz\" \"chr22.addQval.txt.gz\"\n",
       "[16] \"chr3.addQval.txt.gz\"  \"chr4.addQval.txt.gz\"  \"chr5.addQval.txt.gz\" \n",
       "[19] \"chr6.addQval.txt.gz\"  \"chr7.addQval.txt.gz\"  \"chr8.addQval.txt.gz\" \n",
       "[22] \"chr9.addQval.txt.gz\" "
      ]
     },
     "metadata": {},
     "output_type": "display_data"
    }
   ],
   "source": [
    "list.files(\"../code/results-naive-annotation/qtl/noisy/GTEx/Liver/separateNoise/cis_100000/perm\")"
   ]
  },
  {
   "cell_type": "code",
   "execution_count": 10,
   "metadata": {
    "vscode": {
     "languageId": "r"
    }
   },
   "outputs": [
    {
     "data": {
      "text/html": [
       "<style>\n",
       ".list-inline {list-style: none; margin:0; padding: 0}\n",
       ".list-inline>li {display: inline-block}\n",
       ".list-inline>li:not(:last-child)::after {content: \"\\00b7\"; padding: 0 .5ex}\n",
       "</style>\n",
       "<ol class=list-inline><li>'chr1.addQval.txt.gz'</li><li>'chr10.addQval.txt.gz'</li><li>'chr11.addQval.txt.gz'</li><li>'chr12.addQval.txt.gz'</li><li>'chr13.addQval.txt.gz'</li><li>'chr14.addQval.txt.gz'</li><li>'chr15.addQval.txt.gz'</li><li>'chr16.addQval.txt.gz'</li><li>'chr17.addQval.txt.gz'</li><li>'chr18.addQval.txt.gz'</li><li>'chr19.addQval.txt.gz'</li><li>'chr2.addQval.txt.gz'</li><li>'chr20.addQval.txt.gz'</li><li>'chr21.addQval.txt.gz'</li><li>'chr22.addQval.txt.gz'</li><li>'chr3.addQval.txt.gz'</li><li>'chr4.addQval.txt.gz'</li><li>'chr5.addQval.txt.gz'</li><li>'chr6.addQval.txt.gz'</li><li>'chr7.addQval.txt.gz'</li><li>'chr8.addQval.txt.gz'</li><li>'chr9.addQval.txt.gz'</li></ol>\n"
      ],
      "text/latex": [
       "\\begin{enumerate*}\n",
       "\\item 'chr1.addQval.txt.gz'\n",
       "\\item 'chr10.addQval.txt.gz'\n",
       "\\item 'chr11.addQval.txt.gz'\n",
       "\\item 'chr12.addQval.txt.gz'\n",
       "\\item 'chr13.addQval.txt.gz'\n",
       "\\item 'chr14.addQval.txt.gz'\n",
       "\\item 'chr15.addQval.txt.gz'\n",
       "\\item 'chr16.addQval.txt.gz'\n",
       "\\item 'chr17.addQval.txt.gz'\n",
       "\\item 'chr18.addQval.txt.gz'\n",
       "\\item 'chr19.addQval.txt.gz'\n",
       "\\item 'chr2.addQval.txt.gz'\n",
       "\\item 'chr20.addQval.txt.gz'\n",
       "\\item 'chr21.addQval.txt.gz'\n",
       "\\item 'chr22.addQval.txt.gz'\n",
       "\\item 'chr3.addQval.txt.gz'\n",
       "\\item 'chr4.addQval.txt.gz'\n",
       "\\item 'chr5.addQval.txt.gz'\n",
       "\\item 'chr6.addQval.txt.gz'\n",
       "\\item 'chr7.addQval.txt.gz'\n",
       "\\item 'chr8.addQval.txt.gz'\n",
       "\\item 'chr9.addQval.txt.gz'\n",
       "\\end{enumerate*}\n"
      ],
      "text/markdown": [
       "1. 'chr1.addQval.txt.gz'\n",
       "2. 'chr10.addQval.txt.gz'\n",
       "3. 'chr11.addQval.txt.gz'\n",
       "4. 'chr12.addQval.txt.gz'\n",
       "5. 'chr13.addQval.txt.gz'\n",
       "6. 'chr14.addQval.txt.gz'\n",
       "7. 'chr15.addQval.txt.gz'\n",
       "8. 'chr16.addQval.txt.gz'\n",
       "9. 'chr17.addQval.txt.gz'\n",
       "10. 'chr18.addQval.txt.gz'\n",
       "11. 'chr19.addQval.txt.gz'\n",
       "12. 'chr2.addQval.txt.gz'\n",
       "13. 'chr20.addQval.txt.gz'\n",
       "14. 'chr21.addQval.txt.gz'\n",
       "15. 'chr22.addQval.txt.gz'\n",
       "16. 'chr3.addQval.txt.gz'\n",
       "17. 'chr4.addQval.txt.gz'\n",
       "18. 'chr5.addQval.txt.gz'\n",
       "19. 'chr6.addQval.txt.gz'\n",
       "20. 'chr7.addQval.txt.gz'\n",
       "21. 'chr8.addQval.txt.gz'\n",
       "22. 'chr9.addQval.txt.gz'\n",
       "\n",
       "\n"
      ],
      "text/plain": [
       " [1] \"chr1.addQval.txt.gz\"  \"chr10.addQval.txt.gz\" \"chr11.addQval.txt.gz\"\n",
       " [4] \"chr12.addQval.txt.gz\" \"chr13.addQval.txt.gz\" \"chr14.addQval.txt.gz\"\n",
       " [7] \"chr15.addQval.txt.gz\" \"chr16.addQval.txt.gz\" \"chr17.addQval.txt.gz\"\n",
       "[10] \"chr18.addQval.txt.gz\" \"chr19.addQval.txt.gz\" \"chr2.addQval.txt.gz\" \n",
       "[13] \"chr20.addQval.txt.gz\" \"chr21.addQval.txt.gz\" \"chr22.addQval.txt.gz\"\n",
       "[16] \"chr3.addQval.txt.gz\"  \"chr4.addQval.txt.gz\"  \"chr5.addQval.txt.gz\" \n",
       "[19] \"chr6.addQval.txt.gz\"  \"chr7.addQval.txt.gz\"  \"chr8.addQval.txt.gz\" \n",
       "[22] \"chr9.addQval.txt.gz\" "
      ]
     },
     "metadata": {},
     "output_type": "display_data"
    }
   ],
   "source": [
    "dir(\"../code/results-naive-annotation/qtl/noisy/GTEx/Liver/separateNoise/cis_100000/perm\")"
   ]
  },
  {
   "cell_type": "code",
   "execution_count": null,
   "metadata": {
    "vscode": {
     "languageId": "r"
    }
   },
   "outputs": [],
   "source": []
  },
  {
   "cell_type": "code",
   "execution_count": null,
   "metadata": {
    "vscode": {
     "languageId": "r"
    }
   },
   "outputs": [],
   "source": []
  },
  {
   "cell_type": "code",
   "execution_count": null,
   "metadata": {
    "vscode": {
     "languageId": "r"
    }
   },
   "outputs": [],
   "source": []
  },
  {
   "cell_type": "code",
   "execution_count": null,
   "metadata": {
    "vscode": {
     "languageId": "r"
    }
   },
   "outputs": [],
   "source": []
  },
  {
   "cell_type": "code",
   "execution_count": null,
   "metadata": {
    "vscode": {
     "languageId": "r"
    }
   },
   "outputs": [],
   "source": []
  },
  {
   "cell_type": "code",
   "execution_count": null,
   "metadata": {
    "vscode": {
     "languageId": "r"
    }
   },
   "outputs": [],
   "source": []
  }
 ],
 "metadata": {
  "kernelspec": {
   "display_name": "R",
   "language": "R",
   "name": "ir"
  },
  "language_info": {
   "codemirror_mode": "r",
   "file_extension": ".r",
   "mimetype": "text/x-r-source",
   "name": "R",
   "pygments_lexer": "r",
   "version": "4.3.1"
  }
 },
 "nbformat": 4,
 "nbformat_minor": 2
}
