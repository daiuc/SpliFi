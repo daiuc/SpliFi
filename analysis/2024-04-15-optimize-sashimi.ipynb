{
 "cells": [
  {
   "cell_type": "raw",
   "metadata": {
    "vscode": {
     "languageId": "raw"
    }
   },
   "source": [
    "---\n",
    "title: Optimize individual sashimi plot\n",
    "date: 2024-4-15\n",
    "author: Chao Dai\n",
    "code-fold: true\n",
    "execute:\n",
    "  warning: false\n",
    "  message: false\n",
    "  echo: true\n",
    "  include: true\n",
    "categories:\n",
    "  - sashimi\n",
    "---"
   ]
  },
  {
   "cell_type": "code",
   "execution_count": 24,
   "metadata": {},
   "outputs": [],
   "source": [
    "import glob\n",
    "import os\n",
    "import sys\n",
    "import numpy as np\n",
    "import pandas as pd\n",
    "import pyBigWig as pw\n",
    "from jinja2 import Template\n"
   ]
  },
  {
   "cell_type": "code",
   "execution_count": 25,
   "metadata": {},
   "outputs": [],
   "source": [
    "os.chdir('/home/chaodai/cdai/SpliFi/analysis')"
   ]
  },
  {
   "cell_type": "raw",
   "metadata": {
    "vscode": {
     "languageId": "raw"
    }
   },
   "source": [
    "sys.path.insert(0, os.path.realpath('../code/workflow/scripts'))\n",
    "from prepSashimi import *"
   ]
  },
  {
   "cell_type": "markdown",
   "metadata": {},
   "source": [
    "# Brain-Cortex_v_Muscle-Skeletal"
   ]
  },
  {
   "cell_type": "markdown",
   "metadata": {},
   "source": [
    "## Bigwig files"
   ]
  },
  {
   "cell_type": "code",
   "execution_count": 4,
   "metadata": {},
   "outputs": [
    {
     "name": "stdout",
     "output_type": "stream",
     "text": [
      "Brain-Anteriorcingulatecortex_BA24_  Liver\n",
      "Brain-Cortex\t\t\t     Lung\n",
      "Brain-FrontalCortex_BA9_\t     Muscle-Skeletal\n",
      "Brain-Putamen_basalganglia_\t     Skin-NotSunExposed_Suprapubic_\n",
      "Heart-AtrialAppendage\t\t     WholeBlood\n"
     ]
    }
   ],
   "source": [
    "!ls ../code/resources/GTEx/BigWig/"
   ]
  },
  {
   "cell_type": "code",
   "execution_count": 5,
   "metadata": {},
   "outputs": [],
   "source": [
    "bwDirs = {'Muscle-Skeletal': '../code/resources/GTEx/BigWig/Muscle-Skeletal',\n",
    "          'Brain-Cortex': '../code/resources/GTEx/BigWig/Brain-Cortex',\n",
    "          'Brain-Putamen_basalganglia_': '../code/resources/GTEx/BigWig/Brain-Putamen_basalganglia_',\n",
    "          'Liver': '../code/resources/GTEx/BigWig/Liver',\n",
    "          'Lung': '../code/resources/GTEx/BigWig/Lung',\n",
    "          'WholeBlood': '../code/resources/GTEx/BigWig/WholeBlood',\n",
    "          'Skin-NotSunExposed_Suprapubic_': '../code/resources/GTEx/BigWig/Skin-NotSunExposed_Suprapubic_',\n",
    "          }\n"
   ]
  },
  {
   "cell_type": "code",
   "execution_count": 10,
   "metadata": {},
   "outputs": [],
   "source": [
    "all_contrasts = glob.glob('../code/results/ds/GTEx/*')\n",
    "all_contrasts = [os.path.basename(x) for x in all_contrasts]\n",
    "\n",
    "contrasts = []\n",
    "for c in all_contrasts:\n",
    "  groups = c.split('_v_')\n",
    "  if all([g in bwDirs for g in groups]):\n",
    "    contrasts.append(c)\n",
    "\n",
    "    \n",
    "    "
   ]
  },
  {
   "cell_type": "code",
   "execution_count": 11,
   "metadata": {},
   "outputs": [
    {
     "data": {
      "text/plain": [
       "['Brain-Cortex_v_Liver',\n",
       " 'Brain-Cortex_v_Lung',\n",
       " 'Brain-Cortex_v_Muscle-Skeletal',\n",
       " 'Brain-Cortex_v_Skin-NotSunExposed_Suprapubic_',\n",
       " 'Brain-Cortex_v_WholeBlood',\n",
       " 'Brain-Putamen_basalganglia__v_Liver']"
      ]
     },
     "execution_count": 11,
     "metadata": {},
     "output_type": "execute_result"
    }
   ],
   "source": [
    "contrasts.sort()\n",
    "contrasts = contrasts[:6]\n",
    "contrasts"
   ]
  },
  {
   "cell_type": "code",
   "execution_count": null,
   "metadata": {},
   "outputs": [],
   "source": []
  },
  {
   "cell_type": "code",
   "execution_count": null,
   "metadata": {},
   "outputs": [],
   "source": []
  },
  {
   "cell_type": "code",
   "execution_count": 37,
   "metadata": {},
   "outputs": [
    {
     "name": "stdout",
     "output_type": "stream",
     "text": [
      "adding Brain-Cortex to bwPlotFiles from Brain-Cortex_v_Liver\n",
      "adding Liver to bwPlotFiles from Brain-Cortex_v_Liver\n",
      "adding Lung to bwPlotFiles from Brain-Cortex_v_Lung\n",
      "adding Muscle-Skeletal to bwPlotFiles from Brain-Cortex_v_Muscle-Skeletal\n",
      "adding Skin-NotSunExposed_Suprapubic_ to bwPlotFiles from Brain-Cortex_v_Skin-NotSunExposed_Suprapubic_\n",
      "adding WholeBlood to bwPlotFiles from Brain-Cortex_v_WholeBlood\n",
      "adding Brain-Putamen_basalganglia_ to bwPlotFiles from Brain-Putamen_basalganglia__v_Liver\n"
     ]
    }
   ],
   "source": [
    "# store bw file paths for each tissue\n",
    "bwPlotFiles = {}\n",
    "for c in contrasts:\n",
    "  grps = c.split('_v_')\n",
    "  sample_f = f'../code/results/ds/GTEx/{c}/ds_sample_group.txt'\n",
    "  dsSamples = getSamplesByGroup(sample_f, grps)\n",
    "  bwDir= {g: bwDirs[g] for g in grps} # available bw file dir by tissue\n",
    "  bwFiles = {x: getBigWigFiles(bwDir[x]) for x in grps} # available bw files by tissue\n",
    "  # plot bw files are sampels intersect the previous two\n",
    "  bwTemp = {x: getPlottableBigWig(bwFiles[x], dsSamples[x]) for x in grps}\n",
    "\n",
    "  for t in bwTemp:\n",
    "    if t not in bwPlotFiles:\n",
    "      print(f'adding {t} to bwPlotFiles from {c}')\n",
    "      bwPlotFiles[t] = bwTemp[t]"
   ]
  },
  {
   "cell_type": "code",
   "execution_count": 38,
   "metadata": {},
   "outputs": [
    {
     "name": "stdout",
     "output_type": "stream",
     "text": [
      "Brain-Cortex: 78\n",
      "Liver: 79\n",
      "Lung: 77\n",
      "Muscle-Skeletal: 78\n",
      "Skin-NotSunExposed_Suprapubic_: 80\n",
      "WholeBlood: 80\n",
      "Brain-Putamen_basalganglia_: 75\n"
     ]
    }
   ],
   "source": [
    "for t in bwPlotFiles:\n",
    "  print(f'{t}: {len(bwPlotFiles[t].values())}')"
   ]
  },
  {
   "cell_type": "markdown",
   "metadata": {},
   "source": [
    "clu_13984_+:chr5:181048869-181054699\n",
    "\n",
    "\n",
    "\n",
    "clu_14941_-:chr5:177489646-177493904\n",
    "\n",
    "clu_3411_-:chr1:94538868-94543036\n",
    "\n",
    "clu_3531_-:chr1:113698299-113702293\n",
    "\n",
    "clu_6632_-:chr2:27490978-27494888\n",
    "\n"
   ]
  },
  {
   "cell_type": "code",
   "execution_count": null,
   "metadata": {},
   "outputs": [],
   "source": [
    "target = 'chr5:177489646-177493904'\n",
    "plotclu = target.split(':')[0]\n",
    "\n",
    "bwRange = 'chr5', 177389646, 177593904"
   ]
  },
  {
   "cell_type": "code",
   "execution_count": null,
   "metadata": {},
   "outputs": [
    {
     "data": {
      "text/plain": [
       "4258"
      ]
     },
     "metadata": {},
     "output_type": "display_data"
    }
   ],
   "source": [
    "177493904-177489646"
   ]
  },
  {
   "cell_type": "code",
   "execution_count": 39,
   "metadata": {},
   "outputs": [
    {
     "data": {
      "text/plain": [
       "('chr5', 177389646, 177593904)"
      ]
     },
     "execution_count": 39,
     "metadata": {},
     "output_type": "execute_result"
    }
   ],
   "source": [
    "bwRange"
   ]
  },
  {
   "cell_type": "code",
   "execution_count": 40,
   "metadata": {},
   "outputs": [
    {
     "name": "stdout",
     "output_type": "stream",
     "text": [
      "computing average bigwig for Brain-Cortex in chr5:177389646-177593904\n",
      "Bigwig file written: ../data/ex1_Brain-Cortex.bw\n",
      "computing average bigwig for Liver in chr5:177389646-177593904\n",
      "Bigwig file written: ../data/ex1_Liver.bw\n",
      "computing average bigwig for Lung in chr5:177389646-177593904\n",
      "Bigwig file written: ../data/ex1_Lung.bw\n",
      "computing average bigwig for Muscle-Skeletal in chr5:177389646-177593904\n",
      "Bigwig file written: ../data/ex1_Muscle-Skeletal.bw\n",
      "computing average bigwig for Skin-NotSunExposed_Suprapubic_ in chr5:177389646-177593904\n",
      "Bigwig file written: ../data/ex1_Skin-NotSunExposed_Suprapubic_.bw\n",
      "computing average bigwig for WholeBlood in chr5:177389646-177593904\n",
      "Bigwig file written: ../data/ex1_WholeBlood.bw\n",
      "computing average bigwig for Brain-Putamen_basalganglia_ in chr5:177389646-177593904\n",
      "Bigwig file written: ../data/ex1_Brain-Putamen_basalganglia_.bw\n"
     ]
    }
   ],
   "source": [
    "# average bigwig files\n",
    "outBwInfo = {}\n",
    "for grp in bwPlotFiles:\n",
    "  print(f'computing average bigwig for {grp} in {bwRange[0]}:{str(bwRange[1])}-{str(bwRange[2])}')\n",
    "  avgBW = avgBigwig(bwPlotFiles[grp].values(), bwRange)\n",
    "  outBWFile = f'../data/sashimi/GTEx/ex1_{grp}.bw'\n",
    "  writeBigwig(outBWFile, avgBW, bwRange)\n",
    "\n",
    "  if grp not in outBwInfo:\n",
    "    outBwInfo[grp] = os.path.basename(outBWFile)"
   ]
  },
  {
   "cell_type": "code",
   "execution_count": null,
   "metadata": {},
   "outputs": [],
   "source": []
  },
  {
   "cell_type": "code",
   "execution_count": 31,
   "metadata": {},
   "outputs": [
    {
     "data": {
      "text/plain": [
       "{'Brain-Cortex': 'ex1_Brain-Cortex.bw',\n",
       " 'Liver': 'ex1_Liver.bw',\n",
       " 'Lung': 'ex1_Lung.bw',\n",
       " 'Muscle-Skeletal': 'ex1_Muscle-Skeletal.bw',\n",
       " 'Skin-NotSunExposed_Suprapubic_': 'ex1_Skin-NotSunExposed_Suprapubic_.bw',\n",
       " 'WholeBlood': 'ex1_WholeBlood.bw',\n",
       " 'Brain-Putamen_basalganglia_': 'ex1_Brain-Putamen_basalganglia_.bw'}"
      ]
     },
     "execution_count": 31,
     "metadata": {},
     "output_type": "execute_result"
    }
   ],
   "source": [
    "outBwInfo"
   ]
  },
  {
   "cell_type": "code",
   "execution_count": 32,
   "metadata": {},
   "outputs": [
    {
     "name": "stdout",
     "output_type": "stream",
     "text": [
      "Working on Brain-Cortex_v_Liver\n",
      "Working on Brain-Cortex_v_Lung\n",
      "Working on Brain-Cortex_v_Muscle-Skeletal\n",
      "Working on Brain-Cortex_v_Skin-NotSunExposed_Suprapubic_\n",
      "Working on Brain-Cortex_v_WholeBlood\n",
      "Working on Brain-Putamen_basalganglia__v_Liver\n"
     ]
    }
   ],
   "source": [
    "# get PSI values for each tissue\n",
    "allLinks = {'sashimiLinks': {}, 'upLinks': {}}\n",
    "for c in contrasts:\n",
    "  print(f'Working on {c}')\n",
    "  grps = c.split('_v_')\n",
    "  dsEffectFile = f'../code/results/ds/GTEx/{c}/ds_effect_sizes.txt'\n",
    "  EfSize = pd.read_csv(dsEffectFile, sep='\\t')\n",
    "  Introns = readIntronTable(f'../code/results/ds/GTEx/{c}/ds_perind_numers.counts.noise_by_intron.gz')\n",
    "  links = getPSI(EfSize, plotclu, Introns, grps)\n",
    "  \n",
    "  for g in grps:\n",
    "    if g not in allLinks['sashimiLinks']:\n",
    "      allLinks['sashimiLinks'][g] = links['sashimiLinks'][g]\n",
    "    if g not in allLinks['upLinks']:\n",
    "      allLinks['upLinks'][g] = links['upLinks']\n",
    "  \n",
    "# row concatenate all allLinks['upLinks']\n",
    "allLinks['upLinks'] = pd.concat(allLinks['upLinks'], axis=0, ignore_index=True).drop_duplicates()\n"
   ]
  },
  {
   "cell_type": "code",
   "execution_count": 33,
   "metadata": {},
   "outputs": [],
   "source": [
    "# write sashimi links\n",
    "sashimiLinkInfo = {}\n",
    "for g in allLinks['sashimiLinks']:\n",
    "  outSashimi = f'../data/sashimi/GTEx/ex1_{g}_sashimi.links'\n",
    "  allLinks['sashimiLinks'][g].to_csv(outSashimi, sep='\\t', header=False, index=False)\n",
    "  if g not in sashimiLinkInfo:\n",
    "    sashimiLinkInfo[g] = os.path.basename(outSashimi)\n",
    "\n",
    "# write upLinks\n",
    "outUpLinks = f'../data/sashimi/GTEx/ex1_up.links'\n",
    "allLinks['upLinks'].to_csv(outUpLinks, sep='\\t', header=False, index=False)\n",
    "upLinkInfo = os.path.basename(outUpLinks)"
   ]
  },
  {
   "cell_type": "code",
   "execution_count": null,
   "metadata": {},
   "outputs": [],
   "source": []
  },
  {
   "cell_type": "markdown",
   "metadata": {},
   "source": [
    "## Link files"
   ]
  },
  {
   "cell_type": "code",
   "execution_count": 34,
   "metadata": {},
   "outputs": [
    {
     "data": {
      "text/plain": [
       "{'Brain-Cortex': 'ex1_Brain-Cortex.bw',\n",
       " 'Liver': 'ex1_Liver.bw',\n",
       " 'Lung': 'ex1_Lung.bw',\n",
       " 'Muscle-Skeletal': 'ex1_Muscle-Skeletal.bw',\n",
       " 'Skin-NotSunExposed_Suprapubic_': 'ex1_Skin-NotSunExposed_Suprapubic_.bw',\n",
       " 'WholeBlood': 'ex1_WholeBlood.bw',\n",
       " 'Brain-Putamen_basalganglia_': 'ex1_Brain-Putamen_basalganglia_.bw'}"
      ]
     },
     "execution_count": 34,
     "metadata": {},
     "output_type": "execute_result"
    },
    {
     "data": {
      "text/plain": [
       "{'Brain-Cortex': 'ex1_Brain-Cortex_sashimi.links',\n",
       " 'Liver': 'ex1_Liver_sashimi.links',\n",
       " 'Lung': 'ex1_Lung_sashimi.links',\n",
       " 'Muscle-Skeletal': 'ex1_Muscle-Skeletal_sashimi.links',\n",
       " 'Skin-NotSunExposed_Suprapubic_': 'ex1_Skin-NotSunExposed_Suprapubic__sashimi.links',\n",
       " 'WholeBlood': 'ex1_WholeBlood_sashimi.links',\n",
       " 'Brain-Putamen_basalganglia_': 'ex1_Brain-Putamen_basalganglia__sashimi.links'}"
      ]
     },
     "execution_count": 34,
     "metadata": {},
     "output_type": "execute_result"
    },
    {
     "data": {
      "text/plain": [
       "'ex1_up.links'"
      ]
     },
     "execution_count": 34,
     "metadata": {},
     "output_type": "execute_result"
    }
   ],
   "source": [
    "outBwInfo\n",
    "\n",
    "sashimiLinkInfo\n",
    "\n",
    "upLinkInfo"
   ]
  },
  {
   "cell_type": "code",
   "execution_count": 1,
   "metadata": {},
   "outputs": [
    {
     "ename": "NameError",
     "evalue": "name 'os' is not defined",
     "output_type": "error",
     "traceback": [
      "\u001b[0;31m---------------------------------------------------------------------------\u001b[0m",
      "\u001b[0;31mNameError\u001b[0m                                 Traceback (most recent call last)",
      "Cell \u001b[0;32mIn[1], line 1\u001b[0m\n\u001b[0;32m----> 1\u001b[0m \u001b[43mos\u001b[49m\u001b[38;5;241m.\u001b[39mgetcwd()\n",
      "\u001b[0;31mNameError\u001b[0m: name 'os' is not defined"
     ]
    }
   ],
   "source": []
  },
  {
   "cell_type": "markdown",
   "metadata": {},
   "source": [
    "## clu_13984_+:chr5:181048869-181054699\n",
    "chr5:181052833:181053199:clu_13984_+"
   ]
  },
  {
   "cell_type": "code",
   "execution_count": 93,
   "metadata": {},
   "outputs": [
    {
     "data": {
      "text/plain": [
       "'chr5:181048869-181054699'"
      ]
     },
     "execution_count": 93,
     "metadata": {},
     "output_type": "execute_result"
    }
   ],
   "source": [
    "plotRange"
   ]
  },
  {
   "cell_type": "code",
   "execution_count": null,
   "metadata": {},
   "outputs": [],
   "source": []
  },
  {
   "cell_type": "code",
   "execution_count": null,
   "metadata": {},
   "outputs": [],
   "source": []
  },
  {
   "cell_type": "code",
   "execution_count": null,
   "metadata": {},
   "outputs": [],
   "source": []
  },
  {
   "cell_type": "code",
   "execution_count": null,
   "metadata": {},
   "outputs": [],
   "source": []
  },
  {
   "cell_type": "code",
   "execution_count": null,
   "metadata": {},
   "outputs": [],
   "source": []
  },
  {
   "cell_type": "code",
   "execution_count": null,
   "metadata": {},
   "outputs": [],
   "source": []
  },
  {
   "cell_type": "code",
   "execution_count": null,
   "metadata": {},
   "outputs": [],
   "source": []
  },
  {
   "cell_type": "code",
   "execution_count": null,
   "metadata": {},
   "outputs": [],
   "source": []
  },
  {
   "cell_type": "code",
   "execution_count": null,
   "metadata": {},
   "outputs": [],
   "source": []
  },
  {
   "cell_type": "code",
   "execution_count": null,
   "metadata": {},
   "outputs": [],
   "source": []
  },
  {
   "cell_type": "code",
   "execution_count": null,
   "metadata": {},
   "outputs": [],
   "source": []
  },
  {
   "cell_type": "code",
   "execution_count": null,
   "metadata": {},
   "outputs": [],
   "source": []
  },
  {
   "cell_type": "code",
   "execution_count": null,
   "metadata": {},
   "outputs": [],
   "source": []
  },
  {
   "cell_type": "code",
   "execution_count": null,
   "metadata": {},
   "outputs": [],
   "source": []
  },
  {
   "cell_type": "code",
   "execution_count": null,
   "metadata": {},
   "outputs": [],
   "source": []
  },
  {
   "cell_type": "code",
   "execution_count": null,
   "metadata": {},
   "outputs": [],
   "source": []
  },
  {
   "cell_type": "markdown",
   "metadata": {},
   "source": [
    "\n",
    "<br>\n",
    "<br>\n",
    "\n",
    "--------------------------------------------------------------------------------\n",
    "\n",
    "<br>\n",
    "<br>\n",
    "\n"
   ]
  },
  {
   "cell_type": "code",
   "execution_count": 29,
   "metadata": {},
   "outputs": [
    {
     "data": {
      "text/plain": [
       "'\\nPrepare dataset required for plotting sashimi plots using pyGenomeTracks\\n'"
      ]
     },
     "execution_count": 29,
     "metadata": {},
     "output_type": "execute_result"
    }
   ],
   "source": [
    "# %load ../code/workflow/scripts/prepSashimi.py\n",
    "\n",
    "def avgBigwig(bwfiles, grange):\n",
    "    \"\"\"Average multiple bigwig files in a specific region\n",
    "\n",
    "    bwfiles : list of bigwig files (path).\n",
    "    grange  : tuple. Genomic range, BED like 0-based coordinates,\n",
    "              eg. ('chr1', 25101, 27101)\n",
    "\n",
    "    return  : a dictionary of keys:\n",
    "        - header, for pyBigWig to write as header\n",
    "        - values, for pyBigwig to addentries as values\n",
    "    \"\"\"\n",
    "    chrom, start, end = grange\n",
    "    values = []\n",
    "    bwo = {}\n",
    "    for bw in bwfiles:\n",
    "        if not os.path.isfile(bw):\n",
    "            continue\n",
    "        with pw.open(bw, \"rt\") as b:\n",
    "            header = list(b.chroms().items())\n",
    "            vals = b.values(chrom, start, end, numpy=True)\n",
    "            vals = np.nan_to_num(vals)\n",
    "            values.append(vals)\n",
    "\n",
    "    if values != [] and header != []:\n",
    "        avgValues = np.mean(values, axis=0)\n",
    "        bwo = {\"header\": header, \"values\": avgValues}\n",
    "    return bwo\n",
    "\n",
    "\n",
    "def writeBigwig(outFile, bigwig, grange):\n",
    "    \"\"\"Write a bigwig file\n",
    "\n",
    "    outFile : str. Output bigwig file path\n",
    "    bigwig  : dict. Dictionary with keys: header, values of a bigwig object\n",
    "    grange  : tuple. Genomic range, BED like 0-based coordinates,\n",
    "                eg. ('chr1', 25101, 27101)\n",
    "    \"\"\"\n",
    "  \n",
    "    chrom, start, end = grange\n",
    "    with pw.open(outFile, \"w\") as b:\n",
    "        b.addHeader(bigwig[\"header\"])\n",
    "        b.addEntries(chrom, start, values=bigwig[\"values\"], span=1, step=1)\n",
    "    print(f\"Bigwig file written: {outFile}\")\n",
    "\n",
    "\n",
    "def readIntronTable(intronTableFile, sep=\" \", SelectCols=[0]):\n",
    "    \"\"\"Read intron table file\n",
    "\n",
    "    intronTableFile : str. Path to intron table file\n",
    "                      eg. 'ds_perind_numers.counts.noise_by_intron.gz'\n",
    "\n",
    "    return : pandas.DataFrame\n",
    "    \"\"\"\n",
    "    introns = pd.read_csv(intronTableFile, sep=sep, usecols=SelectCols)\n",
    "    introns = [\n",
    "        (\":\".join(x[:-1]), f\"{x[0]}:{x[3]}\", x[4])\n",
    "        for x in introns[\"chrom\"].str.split(\":\")\n",
    "    ]\n",
    "    introns = {x[0]: x[2] for x in introns}\n",
    "\n",
    "    return introns\n",
    "\n",
    "\n",
    "def getSamplesByGroup(\n",
    "    sampleGroupFile,\n",
    "    groups,\n",
    "    sep=\" \",\n",
    "    cols=[\"fname\", \"group\"],\n",
    "    header=None,\n",
    "    splitBy=\".\",\n",
    "    splitCapture=[1],\n",
    "):\n",
    "    \"\"\"Read sample group file from diff splicing\n",
    "\n",
    "    sampleGroupFile : str. Path to sample group file\n",
    "                      eg. 'ds_sample_group.txt'\n",
    "    sep             : str. Separator used in the file\n",
    "    cols            : list. Column names to read from the file\n",
    "    header          : int. Row number to use as header\n",
    "    splitBy         : str. Split the file name by this character\n",
    "    splitCapture    : list. Index to capture after splitting\n",
    "    groups          : list. List of groups to select, eg. ['Liver', 'Kidney']\n",
    "\n",
    "\n",
    "    return : dict. Dictionary of sample groups\n",
    "    \"\"\"\n",
    "    samples = pd.read_csv(sampleGroupFile, sep=sep, header=header, names=cols)\n",
    "    samples[\"sname\"] = [x.split(splitBy)[splitCapture[0]] for x in samples[\"fname\"]]\n",
    "\n",
    "    group1, group2 = groups\n",
    "    samples1 = samples[samples[\"group\"] == group1][\"sname\"].tolist()\n",
    "    samples2 = samples[samples[\"group\"] == group2][\"sname\"].tolist()\n",
    "\n",
    "    return {group1: samples1, group2: samples2}\n",
    "\n",
    "\n",
    "def getBigWigFiles(bwDir, filePattern=\"*.bw\"):\n",
    "    \"\"\"Get bigwig files from a directory\n",
    "\n",
    "    bwDir      : str. Path to the directory containing bigwig files\n",
    "    filePattern: str. File pattern to search for, eg: '*.bw'\n",
    "\n",
    "    return     : dict. Dictionary of sample names and bigwig files\n",
    "    \"\"\"\n",
    "    bwFiles = glob.glob(os.path.join(bwDir, filePattern))\n",
    "    bwSamples = [\"-\".join(x.split(\"/\")[-1].split(\"-\")[:2]) for x in bwFiles]\n",
    "\n",
    "    return {x[0]: x[1] for x in zip(bwSamples, bwFiles)}\n",
    "\n",
    "\n",
    "def getPlottableBigWig(bw, ds):\n",
    "    \"\"\"Get plottable bigwig files\n",
    "    bw : dict. key = sample name, value = bigwig file path\n",
    "    ds : list. List of sample names in differential splicing.\n",
    "\n",
    "    return: dict. Key = sample names in both bw and ds, value = bigwig file path\n",
    "    \"\"\"\n",
    "    shared = set(bw.keys()).intersection(ds)\n",
    "    return {x: bw[x] for x in shared}\n",
    "\n",
    "\n",
    "def getPSI(effects, clu, introns, groups, minPSI=0.05):\n",
    "    \"\"\"Get PSI values from a file\n",
    "\n",
    "    effects : dataframe.\n",
    "    clu     : str. cluster id, eg. 'clu_261_+'\n",
    "    introns: dict. Dictionary of introns\n",
    "    groups  : list. List of groups, eg. ['Liver', 'Kidney']\n",
    "    minPSI  : float. Minimum PSI value to output\n",
    "\n",
    "    return : dict. Dictionary of links\n",
    "    \"\"\"\n",
    "    effects[\"itype\"] = [introns[x] for x in effects[\"intron\"]]\n",
    "    effects = effects[\n",
    "        effects.intron.str.contains(clu)\n",
    "    ].copy()  # use copy() to avoid SettingWithCopyWarning\n",
    "\n",
    "    # make pyGenomeTracks compatible link tables\n",
    "    effects.loc[:, \"chrom1\"] = effects.intron.str.split(\":\").str[0]\n",
    "    effects.loc[:, \"start1\"] = effects.intron.str.split(\":\").str[1]\n",
    "    effects.loc[:, \"end1\"] = effects[\"start1\"]\n",
    "    effects.loc[:, \"chrom2\"] = effects[\"chrom1\"]\n",
    "    effects.loc[:, \"start2\"] = effects.intron.str.split(\":\").str[2]\n",
    "    effects.loc[:, \"end2\"] = effects[\"start2\"]\n",
    "\n",
    "    grp1, grp2 = groups\n",
    "    outdfs = {\n",
    "        grp1: effects[[\"chrom1\", \"start1\", \"end1\", \"chrom2\", \"start2\", \"end2\", grp1]][\n",
    "            effects[grp1] > minPSI\n",
    "        ],\n",
    "        grp2: effects[[\"chrom1\", \"start1\", \"end1\", \"chrom2\", \"start2\", \"end2\", grp2]][\n",
    "            effects[grp2] > minPSI\n",
    "        ],\n",
    "    }\n",
    "\n",
    "    # links for UP junctions only\n",
    "    upLinks = effects[effects.itype == \"UP\"].drop_duplicates()[\n",
    "        [\"chrom1\", \"start1\", \"end1\", \"chrom2\", \"start2\", \"end2\"]\n",
    "    ]\n",
    "\n",
    "    return {\"sashimiLinks\": outdfs, \"upLinks\": upLinks}\n",
    "\n",
    "\n"
   ]
  },
  {
   "cell_type": "code",
   "execution_count": null,
   "metadata": {},
   "outputs": [],
   "source": []
  },
  {
   "cell_type": "code",
   "execution_count": 29,
   "metadata": {},
   "outputs": [
    {
     "name": "stdout",
     "output_type": "stream",
     "text": [
      "../data/sashimi/GTEx/ex1_Brain-Cortex_sashimi.links\n",
      "../data/sashimi/GTEx/ex1_Brain-Putamen_basalganglia__sashimi.links\n",
      "../data/sashimi/GTEx/ex1_Liver_sashimi.links\n",
      "../data/sashimi/GTEx/ex1_Lung_sashimi.links\n",
      "../data/sashimi/GTEx/ex1_Muscle-Skeletal_sashimi.links\n",
      "../data/sashimi/GTEx/ex1_Skin-NotSunExposed_Suprapubic__sashimi.links\n",
      "../data/sashimi/GTEx/ex1_up.links\n",
      "../data/sashimi/GTEx/ex1_WholeBlood_sashimi.links\n"
     ]
    }
   ],
   "source": [
    "!ls ../data/sashimi/GTEx/*links"
   ]
  },
  {
   "cell_type": "code",
   "execution_count": 34,
   "metadata": {},
   "outputs": [],
   "source": [
    "bc_links = pd.read_csv('../data/sashimi/GTEx/ex1_Brain-Cortex_sashimi.links', sep='\\t', header=None, names=['chrom1', 'start1', 'end1', 'chrom2', 'start2', 'end2', 'PSI'])\n",
    "muscle_links = pd.read_csv('../data/sashimi/GTEx/ex1_Muscle-Skeletal_sashimi.links', sep='\\t', header=None, names=['chrom1', 'start1', 'end1', 'chrom2', 'start2', 'end2', 'PSI'])"
   ]
  },
  {
   "cell_type": "code",
   "execution_count": 35,
   "metadata": {},
   "outputs": [
    {
     "data": {
      "text/html": [
       "<div>\n",
       "<style scoped>\n",
       "    .dataframe tbody tr th:only-of-type {\n",
       "        vertical-align: middle;\n",
       "    }\n",
       "\n",
       "    .dataframe tbody tr th {\n",
       "        vertical-align: top;\n",
       "    }\n",
       "\n",
       "    .dataframe thead th {\n",
       "        text-align: right;\n",
       "    }\n",
       "</style>\n",
       "<table border=\"1\" class=\"dataframe\">\n",
       "  <thead>\n",
       "    <tr style=\"text-align: right;\">\n",
       "      <th></th>\n",
       "      <th>chrom1</th>\n",
       "      <th>start1</th>\n",
       "      <th>end1</th>\n",
       "      <th>chrom2</th>\n",
       "      <th>start2</th>\n",
       "      <th>end2</th>\n",
       "      <th>PSI</th>\n",
       "    </tr>\n",
       "  </thead>\n",
       "  <tbody>\n",
       "    <tr>\n",
       "      <th>0</th>\n",
       "      <td>chr5</td>\n",
       "      <td>181050369</td>\n",
       "      <td>181050369</td>\n",
       "      <td>chr5</td>\n",
       "      <td>181053199</td>\n",
       "      <td>181053199</td>\n",
       "      <td>0.681562</td>\n",
       "    </tr>\n",
       "    <tr>\n",
       "      <th>1</th>\n",
       "      <td>chr5</td>\n",
       "      <td>181052833</td>\n",
       "      <td>181052833</td>\n",
       "      <td>chr5</td>\n",
       "      <td>181053199</td>\n",
       "      <td>181053199</td>\n",
       "      <td>0.318438</td>\n",
       "    </tr>\n",
       "  </tbody>\n",
       "</table>\n",
       "</div>"
      ],
      "text/plain": [
       "  chrom1     start1       end1 chrom2     start2       end2       PSI\n",
       "0   chr5  181050369  181050369   chr5  181053199  181053199  0.681562\n",
       "1   chr5  181052833  181052833   chr5  181053199  181053199  0.318438"
      ]
     },
     "execution_count": 35,
     "metadata": {},
     "output_type": "execute_result"
    },
    {
     "data": {
      "text/html": [
       "<div>\n",
       "<style scoped>\n",
       "    .dataframe tbody tr th:only-of-type {\n",
       "        vertical-align: middle;\n",
       "    }\n",
       "\n",
       "    .dataframe tbody tr th {\n",
       "        vertical-align: top;\n",
       "    }\n",
       "\n",
       "    .dataframe thead th {\n",
       "        text-align: right;\n",
       "    }\n",
       "</style>\n",
       "<table border=\"1\" class=\"dataframe\">\n",
       "  <thead>\n",
       "    <tr style=\"text-align: right;\">\n",
       "      <th></th>\n",
       "      <th>chrom1</th>\n",
       "      <th>start1</th>\n",
       "      <th>end1</th>\n",
       "      <th>chrom2</th>\n",
       "      <th>start2</th>\n",
       "      <th>end2</th>\n",
       "      <th>PSI</th>\n",
       "    </tr>\n",
       "  </thead>\n",
       "  <tbody>\n",
       "    <tr>\n",
       "      <th>0</th>\n",
       "      <td>chr5</td>\n",
       "      <td>181050369</td>\n",
       "      <td>181050369</td>\n",
       "      <td>chr5</td>\n",
       "      <td>181053199</td>\n",
       "      <td>181053199</td>\n",
       "      <td>0.979715</td>\n",
       "    </tr>\n",
       "  </tbody>\n",
       "</table>\n",
       "</div>"
      ],
      "text/plain": [
       "  chrom1     start1       end1 chrom2     start2       end2       PSI\n",
       "0   chr5  181050369  181050369   chr5  181053199  181053199  0.979715"
      ]
     },
     "execution_count": 35,
     "metadata": {},
     "output_type": "execute_result"
    }
   ],
   "source": [
    "bc_links\n",
    "muscle_links"
   ]
  },
  {
   "cell_type": "code",
   "execution_count": 54,
   "metadata": {},
   "outputs": [],
   "source": [
    "bc_bed = bc_links[['chrom1', 'start1', 'start2']].copy()\n",
    "muscle_bed = muscle_links[['chrom1', 'start1', 'start2']].copy()\n",
    "\n",
    "bc_bed['param'] = ['motif=GT/AG;annotated_junction=true', 'motif=GT/AG;annotated_junction=true']\n",
    "bc_bed['score'] = (bc_links['PSI'] * 1000).astype(int)\n",
    "bc_bed['strand'] = ['+' for _ in range(bc_bed.shape[0])]\n",
    "\n",
    "\n",
    "muscle_bed['param'] = ['motif=GT/AG;annotated_junction=true']\n",
    "muscle_bed['score'] = (muscle_links['PSI'] * 1000).astype(int)\n",
    "muscle_bed['strand'] = ['+' for _ in range(muscle_bed.shape[0])]"
   ]
  },
  {
   "cell_type": "code",
   "execution_count": 55,
   "metadata": {},
   "outputs": [
    {
     "data": {
      "text/html": [
       "<div>\n",
       "<style scoped>\n",
       "    .dataframe tbody tr th:only-of-type {\n",
       "        vertical-align: middle;\n",
       "    }\n",
       "\n",
       "    .dataframe tbody tr th {\n",
       "        vertical-align: top;\n",
       "    }\n",
       "\n",
       "    .dataframe thead th {\n",
       "        text-align: right;\n",
       "    }\n",
       "</style>\n",
       "<table border=\"1\" class=\"dataframe\">\n",
       "  <thead>\n",
       "    <tr style=\"text-align: right;\">\n",
       "      <th></th>\n",
       "      <th>chrom1</th>\n",
       "      <th>start1</th>\n",
       "      <th>start2</th>\n",
       "      <th>param</th>\n",
       "      <th>score</th>\n",
       "      <th>strand</th>\n",
       "    </tr>\n",
       "  </thead>\n",
       "  <tbody>\n",
       "    <tr>\n",
       "      <th>0</th>\n",
       "      <td>chr5</td>\n",
       "      <td>181050369</td>\n",
       "      <td>181053199</td>\n",
       "      <td>motif=GT/AG;annotated_junction=true</td>\n",
       "      <td>681</td>\n",
       "      <td>+</td>\n",
       "    </tr>\n",
       "    <tr>\n",
       "      <th>1</th>\n",
       "      <td>chr5</td>\n",
       "      <td>181052833</td>\n",
       "      <td>181053199</td>\n",
       "      <td>motif=GT/AG;annotated_junction=true</td>\n",
       "      <td>318</td>\n",
       "      <td>+</td>\n",
       "    </tr>\n",
       "  </tbody>\n",
       "</table>\n",
       "</div>"
      ],
      "text/plain": [
       "  chrom1     start1     start2                                param  score  \\\n",
       "0   chr5  181050369  181053199  motif=GT/AG;annotated_junction=true    681   \n",
       "1   chr5  181052833  181053199  motif=GT/AG;annotated_junction=true    318   \n",
       "\n",
       "  strand  \n",
       "0      +  \n",
       "1      +  "
      ]
     },
     "execution_count": 55,
     "metadata": {},
     "output_type": "execute_result"
    },
    {
     "data": {
      "text/html": [
       "<div>\n",
       "<style scoped>\n",
       "    .dataframe tbody tr th:only-of-type {\n",
       "        vertical-align: middle;\n",
       "    }\n",
       "\n",
       "    .dataframe tbody tr th {\n",
       "        vertical-align: top;\n",
       "    }\n",
       "\n",
       "    .dataframe thead th {\n",
       "        text-align: right;\n",
       "    }\n",
       "</style>\n",
       "<table border=\"1\" class=\"dataframe\">\n",
       "  <thead>\n",
       "    <tr style=\"text-align: right;\">\n",
       "      <th></th>\n",
       "      <th>chrom1</th>\n",
       "      <th>start1</th>\n",
       "      <th>start2</th>\n",
       "      <th>param</th>\n",
       "      <th>score</th>\n",
       "      <th>strand</th>\n",
       "    </tr>\n",
       "  </thead>\n",
       "  <tbody>\n",
       "    <tr>\n",
       "      <th>0</th>\n",
       "      <td>chr5</td>\n",
       "      <td>181050369</td>\n",
       "      <td>181053199</td>\n",
       "      <td>motif=GT/AG;annotated_junction=true</td>\n",
       "      <td>979</td>\n",
       "      <td>+</td>\n",
       "    </tr>\n",
       "  </tbody>\n",
       "</table>\n",
       "</div>"
      ],
      "text/plain": [
       "  chrom1     start1     start2                                param  score  \\\n",
       "0   chr5  181050369  181053199  motif=GT/AG;annotated_junction=true    979   \n",
       "\n",
       "  strand  \n",
       "0      +  "
      ]
     },
     "execution_count": 55,
     "metadata": {},
     "output_type": "execute_result"
    }
   ],
   "source": [
    "bc_bed\n",
    "muscle_bed"
   ]
  },
  {
   "cell_type": "code",
   "execution_count": 56,
   "metadata": {},
   "outputs": [],
   "source": [
    "bc_bed.to_csv('../data/sashimi/GTEx/ex1_Brain-Cortex_sashimi.bed', sep='\\t', header=False, index=False)\n",
    "muscle_bed.to_csv('../data/sashimi/GTEx/ex1_Muscle-Skeletal_sashimi.bed', sep='\\t', header=False, index=False)"
   ]
  },
  {
   "cell_type": "code",
   "execution_count": null,
   "metadata": {},
   "outputs": [],
   "source": []
  }
 ],
 "metadata": {
  "kernelspec": {
   "display_name": "Python 3 (ipykernel)",
   "language": "python",
   "name": "python3"
  },
  "language_info": {
   "codemirror_mode": {
    "name": "ipython",
    "version": 3
   },
   "file_extension": ".py",
   "mimetype": "text/x-python",
   "name": "python",
   "nbconvert_exporter": "python",
   "pygments_lexer": "ipython3",
   "version": "3.9.17"
  }
 },
 "nbformat": 4,
 "nbformat_minor": 4
}
