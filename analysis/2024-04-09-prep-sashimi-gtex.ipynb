{
 "cells": [
  {
   "cell_type": "raw",
   "metadata": {
    "vscode": {
     "languageId": "raw"
    }
   },
   "source": [
    "---\n",
    "title: Prep sashimi plot\n",
    "date: 2024-4-9\n",
    "author: Chao Dai\n",
    "code-fold: true\n",
    "execute:\n",
    "  warning: false\n",
    "  message: false\n",
    "  echo: true\n",
    "  include: true\n",
    "categories:\n",
    "  - sashimi\n",
    "---"
   ]
  },
  {
   "cell_type": "code",
   "execution_count": 1,
   "metadata": {
    "execution": {
     "iopub.execute_input": "2024-04-07T20:44:57.622206Z",
     "iopub.status.busy": "2024-04-07T20:44:57.591474Z",
     "iopub.status.idle": "2024-04-07T20:44:57.635340Z",
     "shell.execute_reply": "2024-04-07T20:44:57.633740Z"
    },
    "vscode": {
     "languageId": "r"
    }
   },
   "outputs": [],
   "source": [
    "suppressMessages(library(tidyverse))\n",
    "suppressMessages(library(data.table))\n",
    "suppressMessages(library(glue))\n",
    "suppressMessages(library(ggpointdensity))\n",
    "suppressMessages(library(magrittr))"
   ]
  },
  {
   "cell_type": "code",
   "execution_count": 2,
   "metadata": {
    "execution": {
     "iopub.execute_input": "2024-04-07T20:44:57.831086Z",
     "iopub.status.busy": "2024-04-07T20:44:57.829563Z",
     "iopub.status.idle": "2024-04-07T20:44:57.840839Z",
     "shell.execute_reply": "2024-04-07T20:44:57.839337Z"
    },
    "vscode": {
     "languageId": "r"
    }
   },
   "outputs": [],
   "source": [
    "options(repr.plot.width=5, repr.plot.height=5, repr.plot.res=180)"
   ]
  },
  {
   "cell_type": "code",
   "execution_count": 3,
   "metadata": {
    "execution": {
     "iopub.execute_input": "2024-04-07T20:44:59.122915Z",
     "iopub.status.busy": "2024-04-07T20:44:59.121561Z",
     "iopub.status.idle": "2024-04-07T20:44:59.174593Z",
     "shell.execute_reply": "2024-04-07T20:44:59.172811Z"
    },
    "vscode": {
     "languageId": "r"
    }
   },
   "outputs": [],
   "source": [
    "suppressMessages(library(cowplot))\n",
    "theme_set(theme_cowplot(font_size = 14))"
   ]
  },
  {
   "cell_type": "code",
   "execution_count": 4,
   "metadata": {
    "vscode": {
     "languageId": "r"
    }
   },
   "outputs": [],
   "source": [
    "suppressMessages(library(patchwork))\n",
    "suppressMessages(library(ggrepel))"
   ]
  },
  {
   "cell_type": "code",
   "execution_count": 5,
   "metadata": {
    "execution": {
     "iopub.execute_input": "2024-04-07T20:45:04.282495Z",
     "iopub.status.busy": "2024-04-07T20:45:04.281184Z",
     "iopub.status.idle": "2024-04-07T20:45:04.296092Z",
     "shell.execute_reply": "2024-04-07T20:45:04.294626Z"
    },
    "vscode": {
     "languageId": "r"
    }
   },
   "outputs": [
    {
     "data": {
      "text/html": [
       "'/home/chaodai'"
      ],
      "text/latex": [
       "'/home/chaodai'"
      ],
      "text/markdown": [
       "'/home/chaodai'"
      ],
      "text/plain": [
       "[1] \"/home/chaodai\""
      ]
     },
     "metadata": {},
     "output_type": "display_data"
    }
   ],
   "source": [
    "getwd()"
   ]
  },
  {
   "cell_type": "code",
   "execution_count": 6,
   "metadata": {
    "vscode": {
     "languageId": "r"
    }
   },
   "outputs": [],
   "source": [
    "setwd(\"~/cdai/SpliFi/analysis\")"
   ]
  },
  {
   "cell_type": "code",
   "execution_count": null,
   "metadata": {
    "vscode": {
     "languageId": "r"
    }
   },
   "outputs": [],
   "source": []
  },
  {
   "cell_type": "code",
   "execution_count": 7,
   "metadata": {
    "vscode": {
     "languageId": "r"
    }
   },
   "outputs": [],
   "source": [
    "contr = 'Brain-Cortex_v_Muscle-Skeletal'\n",
    "rds = paste0('../data/ds_v_dge/', contr, '_data.rds')"
   ]
  },
  {
   "cell_type": "code",
   "execution_count": 8,
   "metadata": {
    "vscode": {
     "languageId": "r"
    }
   },
   "outputs": [],
   "source": [
    "data <- readRDS(rds)"
   ]
  },
  {
   "cell_type": "code",
   "execution_count": 9,
   "metadata": {
    "vscode": {
     "languageId": "r"
    }
   },
   "outputs": [
    {
     "data": {
      "text/html": [
       "<style>\n",
       ".list-inline {list-style: none; margin:0; padding: 0}\n",
       ".list-inline>li {display: inline-block}\n",
       ".list-inline>li:not(:last-child)::after {content: \"\\00b7\"; padding: 0 .5ex}\n",
       "</style>\n",
       "<ol class=list-inline><li>'ds'</li><li>'dge'</li><li>'dge_dsc'</li></ol>\n"
      ],
      "text/latex": [
       "\\begin{enumerate*}\n",
       "\\item 'ds'\n",
       "\\item 'dge'\n",
       "\\item 'dge\\_dsc'\n",
       "\\end{enumerate*}\n"
      ],
      "text/markdown": [
       "1. 'ds'\n",
       "2. 'dge'\n",
       "3. 'dge_dsc'\n",
       "\n",
       "\n"
      ],
      "text/plain": [
       "[1] \"ds\"      \"dge\"     \"dge_dsc\""
      ]
     },
     "metadata": {},
     "output_type": "display_data"
    }
   ],
   "source": [
    "names(data)"
   ]
  },
  {
   "cell_type": "code",
   "execution_count": 10,
   "metadata": {
    "vscode": {
     "languageId": "r"
    }
   },
   "outputs": [],
   "source": [
    "ds <- data$ds\n",
    "dge <- data$dge"
   ]
  },
  {
   "cell_type": "code",
   "execution_count": 11,
   "metadata": {
    "vscode": {
     "languageId": "r"
    }
   },
   "outputs": [
    {
     "data": {
      "text/html": [
       "<table class=\"dataframe\">\n",
       "<caption>A data.table: 5 × 15</caption>\n",
       "<thead>\n",
       "\t<tr><th scope=col>intron</th><th scope=col>cluster</th><th scope=col>itype</th><th scope=col>ctype</th><th scope=col>gene_name</th><th scope=col>gene_id</th><th scope=col>logef</th><th scope=col>Muscle-Skeletal</th><th scope=col>Brain-Cortex</th><th scope=col>deltapsi</th><th scope=col>status</th><th scope=col>loglr</th><th scope=col>df</th><th scope=col>p</th><th scope=col>p.adjust</th></tr>\n",
       "\t<tr><th scope=col>&lt;chr&gt;</th><th scope=col>&lt;chr&gt;</th><th scope=col>&lt;chr&gt;</th><th scope=col>&lt;chr&gt;</th><th scope=col>&lt;chr&gt;</th><th scope=col>&lt;chr&gt;</th><th scope=col>&lt;dbl&gt;</th><th scope=col>&lt;dbl&gt;</th><th scope=col>&lt;dbl&gt;</th><th scope=col>&lt;dbl&gt;</th><th scope=col>&lt;chr&gt;</th><th scope=col>&lt;dbl&gt;</th><th scope=col>&lt;int&gt;</th><th scope=col>&lt;dbl&gt;</th><th scope=col>&lt;dbl&gt;</th></tr>\n",
       "</thead>\n",
       "<tbody>\n",
       "\t<tr><td>chr1:930336:931038:clu_11_+</td><td>chr1:clu_11_+</td><td>PR</td><td>PR</td><td>SAMD11</td><td>ENSG00000187634.11</td><td> 0.001370763</td><td>0.5276685</td><td>0.5283518</td><td> 0.0006832305</td><td>Success</td><td>0.0001028596</td><td>1</td><td>0.9885564</td><td>0.9923067</td></tr>\n",
       "\t<tr><td>chr1:931089:935771:clu_11_+</td><td>chr1:clu_11_+</td><td>PR</td><td>PR</td><td>SAMD11</td><td>ENSG00000187634.11</td><td>-0.001370763</td><td>0.4723315</td><td>0.4716482</td><td>-0.0006832305</td><td>Success</td><td>0.0001028596</td><td>1</td><td>0.9885564</td><td>0.9923067</td></tr>\n",
       "\t<tr><td>chr1:939129:939271:clu_12_+</td><td>chr1:clu_12_+</td><td>PR</td><td>PR</td><td>SAMD11</td><td>ENSG00000187634.11</td><td> 0.033612392</td><td>0.3507898</td><td>0.3662486</td><td> 0.0154587644</td><td>Success</td><td>0.0288890045</td><td>1</td><td>0.8100430</td><td>0.8467780</td></tr>\n",
       "\t<tr><td>chr1:939129:939274:clu_12_+</td><td>chr1:clu_12_+</td><td>PR</td><td>PR</td><td>SAMD11</td><td>ENSG00000187634.11</td><td>-0.033612392</td><td>0.6492102</td><td>0.6337514</td><td>-0.0154587644</td><td>Success</td><td>0.0288890045</td><td>1</td><td>0.8100430</td><td>0.8467780</td></tr>\n",
       "\t<tr><td>chr1:939412:941143:clu_13_+</td><td>chr1:clu_13_+</td><td>PR</td><td>PR</td><td>SAMD11</td><td>ENSG00000187634.11</td><td>-0.022419411</td><td>0.2376936</td><td>0.2324409</td><td>-0.0052526823</td><td>Success</td><td>1.3652655309</td><td>2</td><td>0.2553129</td><td>0.3191507</td></tr>\n",
       "</tbody>\n",
       "</table>\n"
      ],
      "text/latex": [
       "A data.table: 5 × 15\n",
       "\\begin{tabular}{lllllllllllllll}\n",
       " intron & cluster & itype & ctype & gene\\_name & gene\\_id & logef & Muscle-Skeletal & Brain-Cortex & deltapsi & status & loglr & df & p & p.adjust\\\\\n",
       " <chr> & <chr> & <chr> & <chr> & <chr> & <chr> & <dbl> & <dbl> & <dbl> & <dbl> & <chr> & <dbl> & <int> & <dbl> & <dbl>\\\\\n",
       "\\hline\n",
       "\t chr1:930336:931038:clu\\_11\\_+ & chr1:clu\\_11\\_+ & PR & PR & SAMD11 & ENSG00000187634.11 &  0.001370763 & 0.5276685 & 0.5283518 &  0.0006832305 & Success & 0.0001028596 & 1 & 0.9885564 & 0.9923067\\\\\n",
       "\t chr1:931089:935771:clu\\_11\\_+ & chr1:clu\\_11\\_+ & PR & PR & SAMD11 & ENSG00000187634.11 & -0.001370763 & 0.4723315 & 0.4716482 & -0.0006832305 & Success & 0.0001028596 & 1 & 0.9885564 & 0.9923067\\\\\n",
       "\t chr1:939129:939271:clu\\_12\\_+ & chr1:clu\\_12\\_+ & PR & PR & SAMD11 & ENSG00000187634.11 &  0.033612392 & 0.3507898 & 0.3662486 &  0.0154587644 & Success & 0.0288890045 & 1 & 0.8100430 & 0.8467780\\\\\n",
       "\t chr1:939129:939274:clu\\_12\\_+ & chr1:clu\\_12\\_+ & PR & PR & SAMD11 & ENSG00000187634.11 & -0.033612392 & 0.6492102 & 0.6337514 & -0.0154587644 & Success & 0.0288890045 & 1 & 0.8100430 & 0.8467780\\\\\n",
       "\t chr1:939412:941143:clu\\_13\\_+ & chr1:clu\\_13\\_+ & PR & PR & SAMD11 & ENSG00000187634.11 & -0.022419411 & 0.2376936 & 0.2324409 & -0.0052526823 & Success & 1.3652655309 & 2 & 0.2553129 & 0.3191507\\\\\n",
       "\\end{tabular}\n"
      ],
      "text/markdown": [
       "\n",
       "A data.table: 5 × 15\n",
       "\n",
       "| intron &lt;chr&gt; | cluster &lt;chr&gt; | itype &lt;chr&gt; | ctype &lt;chr&gt; | gene_name &lt;chr&gt; | gene_id &lt;chr&gt; | logef &lt;dbl&gt; | Muscle-Skeletal &lt;dbl&gt; | Brain-Cortex &lt;dbl&gt; | deltapsi &lt;dbl&gt; | status &lt;chr&gt; | loglr &lt;dbl&gt; | df &lt;int&gt; | p &lt;dbl&gt; | p.adjust &lt;dbl&gt; |\n",
       "|---|---|---|---|---|---|---|---|---|---|---|---|---|---|---|\n",
       "| chr1:930336:931038:clu_11_+ | chr1:clu_11_+ | PR | PR | SAMD11 | ENSG00000187634.11 |  0.001370763 | 0.5276685 | 0.5283518 |  0.0006832305 | Success | 0.0001028596 | 1 | 0.9885564 | 0.9923067 |\n",
       "| chr1:931089:935771:clu_11_+ | chr1:clu_11_+ | PR | PR | SAMD11 | ENSG00000187634.11 | -0.001370763 | 0.4723315 | 0.4716482 | -0.0006832305 | Success | 0.0001028596 | 1 | 0.9885564 | 0.9923067 |\n",
       "| chr1:939129:939271:clu_12_+ | chr1:clu_12_+ | PR | PR | SAMD11 | ENSG00000187634.11 |  0.033612392 | 0.3507898 | 0.3662486 |  0.0154587644 | Success | 0.0288890045 | 1 | 0.8100430 | 0.8467780 |\n",
       "| chr1:939129:939274:clu_12_+ | chr1:clu_12_+ | PR | PR | SAMD11 | ENSG00000187634.11 | -0.033612392 | 0.6492102 | 0.6337514 | -0.0154587644 | Success | 0.0288890045 | 1 | 0.8100430 | 0.8467780 |\n",
       "| chr1:939412:941143:clu_13_+ | chr1:clu_13_+ | PR | PR | SAMD11 | ENSG00000187634.11 | -0.022419411 | 0.2376936 | 0.2324409 | -0.0052526823 | Success | 1.3652655309 | 2 | 0.2553129 | 0.3191507 |\n",
       "\n"
      ],
      "text/plain": [
       "  intron                      cluster       itype ctype gene_name\n",
       "1 chr1:930336:931038:clu_11_+ chr1:clu_11_+ PR    PR    SAMD11   \n",
       "2 chr1:931089:935771:clu_11_+ chr1:clu_11_+ PR    PR    SAMD11   \n",
       "3 chr1:939129:939271:clu_12_+ chr1:clu_12_+ PR    PR    SAMD11   \n",
       "4 chr1:939129:939274:clu_12_+ chr1:clu_12_+ PR    PR    SAMD11   \n",
       "5 chr1:939412:941143:clu_13_+ chr1:clu_13_+ PR    PR    SAMD11   \n",
       "  gene_id            logef        Muscle-Skeletal Brain-Cortex deltapsi     \n",
       "1 ENSG00000187634.11  0.001370763 0.5276685       0.5283518     0.0006832305\n",
       "2 ENSG00000187634.11 -0.001370763 0.4723315       0.4716482    -0.0006832305\n",
       "3 ENSG00000187634.11  0.033612392 0.3507898       0.3662486     0.0154587644\n",
       "4 ENSG00000187634.11 -0.033612392 0.6492102       0.6337514    -0.0154587644\n",
       "5 ENSG00000187634.11 -0.022419411 0.2376936       0.2324409    -0.0052526823\n",
       "  status  loglr        df p         p.adjust \n",
       "1 Success 0.0001028596 1  0.9885564 0.9923067\n",
       "2 Success 0.0001028596 1  0.9885564 0.9923067\n",
       "3 Success 0.0288890045 1  0.8100430 0.8467780\n",
       "4 Success 0.0288890045 1  0.8100430 0.8467780\n",
       "5 Success 1.3652655309 2  0.2553129 0.3191507"
      ]
     },
     "metadata": {},
     "output_type": "display_data"
    },
    {
     "data": {
      "text/html": [
       "<table class=\"dataframe\">\n",
       "<caption>A data.table: 5 × 7</caption>\n",
       "<thead>\n",
       "\t<tr><th scope=col>gene_id</th><th scope=col>baseMean</th><th scope=col>log2FoldChange</th><th scope=col>lfcSE</th><th scope=col>stat</th><th scope=col>pvalue</th><th scope=col>padj</th></tr>\n",
       "\t<tr><th scope=col>&lt;chr&gt;</th><th scope=col>&lt;dbl&gt;</th><th scope=col>&lt;dbl&gt;</th><th scope=col>&lt;dbl&gt;</th><th scope=col>&lt;dbl&gt;</th><th scope=col>&lt;dbl&gt;</th><th scope=col>&lt;dbl&gt;</th></tr>\n",
       "</thead>\n",
       "<tbody>\n",
       "\t<tr><td>ENSG00000168530.15</td><td>105416.002</td><td>-13.50923</td><td>0.2121247</td><td>-63.68533</td><td>0</td><td>0</td></tr>\n",
       "\t<tr><td>ENSG00000109061.9 </td><td>245404.863</td><td>-13.50200</td><td>0.2338176</td><td>-57.74586</td><td>0</td><td>0</td></tr>\n",
       "\t<tr><td>ENSG00000125414.18</td><td>184805.529</td><td>-13.45354</td><td>0.2456384</td><td>-54.76969</td><td>0</td><td>0</td></tr>\n",
       "\t<tr><td>ENSG00000240045.1 </td><td> 18618.845</td><td>-13.41900</td><td>0.1741738</td><td>-77.04373</td><td>0</td><td>0</td></tr>\n",
       "\t<tr><td>ENSG00000250978.5 </td><td>  2387.255</td><td>-13.38848</td><td>0.3289347</td><td>-40.70254</td><td>0</td><td>0</td></tr>\n",
       "</tbody>\n",
       "</table>\n"
      ],
      "text/latex": [
       "A data.table: 5 × 7\n",
       "\\begin{tabular}{lllllll}\n",
       " gene\\_id & baseMean & log2FoldChange & lfcSE & stat & pvalue & padj\\\\\n",
       " <chr> & <dbl> & <dbl> & <dbl> & <dbl> & <dbl> & <dbl>\\\\\n",
       "\\hline\n",
       "\t ENSG00000168530.15 & 105416.002 & -13.50923 & 0.2121247 & -63.68533 & 0 & 0\\\\\n",
       "\t ENSG00000109061.9  & 245404.863 & -13.50200 & 0.2338176 & -57.74586 & 0 & 0\\\\\n",
       "\t ENSG00000125414.18 & 184805.529 & -13.45354 & 0.2456384 & -54.76969 & 0 & 0\\\\\n",
       "\t ENSG00000240045.1  &  18618.845 & -13.41900 & 0.1741738 & -77.04373 & 0 & 0\\\\\n",
       "\t ENSG00000250978.5  &   2387.255 & -13.38848 & 0.3289347 & -40.70254 & 0 & 0\\\\\n",
       "\\end{tabular}\n"
      ],
      "text/markdown": [
       "\n",
       "A data.table: 5 × 7\n",
       "\n",
       "| gene_id &lt;chr&gt; | baseMean &lt;dbl&gt; | log2FoldChange &lt;dbl&gt; | lfcSE &lt;dbl&gt; | stat &lt;dbl&gt; | pvalue &lt;dbl&gt; | padj &lt;dbl&gt; |\n",
       "|---|---|---|---|---|---|---|\n",
       "| ENSG00000168530.15 | 105416.002 | -13.50923 | 0.2121247 | -63.68533 | 0 | 0 |\n",
       "| ENSG00000109061.9  | 245404.863 | -13.50200 | 0.2338176 | -57.74586 | 0 | 0 |\n",
       "| ENSG00000125414.18 | 184805.529 | -13.45354 | 0.2456384 | -54.76969 | 0 | 0 |\n",
       "| ENSG00000240045.1  |  18618.845 | -13.41900 | 0.1741738 | -77.04373 | 0 | 0 |\n",
       "| ENSG00000250978.5  |   2387.255 | -13.38848 | 0.3289347 | -40.70254 | 0 | 0 |\n",
       "\n"
      ],
      "text/plain": [
       "  gene_id            baseMean   log2FoldChange lfcSE     stat      pvalue padj\n",
       "1 ENSG00000168530.15 105416.002 -13.50923      0.2121247 -63.68533 0      0   \n",
       "2 ENSG00000109061.9  245404.863 -13.50200      0.2338176 -57.74586 0      0   \n",
       "3 ENSG00000125414.18 184805.529 -13.45354      0.2456384 -54.76969 0      0   \n",
       "4 ENSG00000240045.1   18618.845 -13.41900      0.1741738 -77.04373 0      0   \n",
       "5 ENSG00000250978.5    2387.255 -13.38848      0.3289347 -40.70254 0      0   "
      ]
     },
     "metadata": {},
     "output_type": "display_data"
    }
   ],
   "source": [
    "ds[1:5]\n",
    "dge[1:5]"
   ]
  },
  {
   "cell_type": "code",
   "execution_count": 12,
   "metadata": {
    "vscode": {
     "languageId": "r"
    }
   },
   "outputs": [
    {
     "data": {
      "text/html": [
       "<table class=\"dataframe\">\n",
       "<caption>A data.table: 5 × 7</caption>\n",
       "<thead>\n",
       "\t<tr><th scope=col>gene_id</th><th scope=col>baseMean</th><th scope=col>log2FoldChange</th><th scope=col>lfcSE</th><th scope=col>stat</th><th scope=col>pvalue</th><th scope=col>padj</th></tr>\n",
       "\t<tr><th scope=col>&lt;chr&gt;</th><th scope=col>&lt;dbl&gt;</th><th scope=col>&lt;dbl&gt;</th><th scope=col>&lt;dbl&gt;</th><th scope=col>&lt;dbl&gt;</th><th scope=col>&lt;dbl&gt;</th><th scope=col>&lt;dbl&gt;</th></tr>\n",
       "</thead>\n",
       "<tbody>\n",
       "\t<tr><td>ENSG00000168530.15</td><td>105416.002</td><td>-13.50923</td><td>0.2121247</td><td>-63.68533</td><td>0</td><td>0</td></tr>\n",
       "\t<tr><td>ENSG00000109061.9 </td><td>245404.863</td><td>-13.50200</td><td>0.2338176</td><td>-57.74586</td><td>0</td><td>0</td></tr>\n",
       "\t<tr><td>ENSG00000125414.18</td><td>184805.529</td><td>-13.45354</td><td>0.2456384</td><td>-54.76969</td><td>0</td><td>0</td></tr>\n",
       "\t<tr><td>ENSG00000240045.1 </td><td> 18618.845</td><td>-13.41900</td><td>0.1741738</td><td>-77.04373</td><td>0</td><td>0</td></tr>\n",
       "\t<tr><td>ENSG00000250978.5 </td><td>  2387.255</td><td>-13.38848</td><td>0.3289347</td><td>-40.70254</td><td>0</td><td>0</td></tr>\n",
       "</tbody>\n",
       "</table>\n"
      ],
      "text/latex": [
       "A data.table: 5 × 7\n",
       "\\begin{tabular}{lllllll}\n",
       " gene\\_id & baseMean & log2FoldChange & lfcSE & stat & pvalue & padj\\\\\n",
       " <chr> & <dbl> & <dbl> & <dbl> & <dbl> & <dbl> & <dbl>\\\\\n",
       "\\hline\n",
       "\t ENSG00000168530.15 & 105416.002 & -13.50923 & 0.2121247 & -63.68533 & 0 & 0\\\\\n",
       "\t ENSG00000109061.9  & 245404.863 & -13.50200 & 0.2338176 & -57.74586 & 0 & 0\\\\\n",
       "\t ENSG00000125414.18 & 184805.529 & -13.45354 & 0.2456384 & -54.76969 & 0 & 0\\\\\n",
       "\t ENSG00000240045.1  &  18618.845 & -13.41900 & 0.1741738 & -77.04373 & 0 & 0\\\\\n",
       "\t ENSG00000250978.5  &   2387.255 & -13.38848 & 0.3289347 & -40.70254 & 0 & 0\\\\\n",
       "\\end{tabular}\n"
      ],
      "text/markdown": [
       "\n",
       "A data.table: 5 × 7\n",
       "\n",
       "| gene_id &lt;chr&gt; | baseMean &lt;dbl&gt; | log2FoldChange &lt;dbl&gt; | lfcSE &lt;dbl&gt; | stat &lt;dbl&gt; | pvalue &lt;dbl&gt; | padj &lt;dbl&gt; |\n",
       "|---|---|---|---|---|---|---|\n",
       "| ENSG00000168530.15 | 105416.002 | -13.50923 | 0.2121247 | -63.68533 | 0 | 0 |\n",
       "| ENSG00000109061.9  | 245404.863 | -13.50200 | 0.2338176 | -57.74586 | 0 | 0 |\n",
       "| ENSG00000125414.18 | 184805.529 | -13.45354 | 0.2456384 | -54.76969 | 0 | 0 |\n",
       "| ENSG00000240045.1  |  18618.845 | -13.41900 | 0.1741738 | -77.04373 | 0 | 0 |\n",
       "| ENSG00000250978.5  |   2387.255 | -13.38848 | 0.3289347 | -40.70254 | 0 | 0 |\n",
       "\n"
      ],
      "text/plain": [
       "  gene_id            baseMean   log2FoldChange lfcSE     stat      pvalue padj\n",
       "1 ENSG00000168530.15 105416.002 -13.50923      0.2121247 -63.68533 0      0   \n",
       "2 ENSG00000109061.9  245404.863 -13.50200      0.2338176 -57.74586 0      0   \n",
       "3 ENSG00000125414.18 184805.529 -13.45354      0.2456384 -54.76969 0      0   \n",
       "4 ENSG00000240045.1   18618.845 -13.41900      0.1741738 -77.04373 0      0   \n",
       "5 ENSG00000250978.5    2387.255 -13.38848      0.3289347 -40.70254 0      0   "
      ]
     },
     "metadata": {},
     "output_type": "display_data"
    }
   ],
   "source": [
    "dge[1:5]"
   ]
  },
  {
   "cell_type": "code",
   "execution_count": 13,
   "metadata": {
    "vscode": {
     "languageId": "r"
    }
   },
   "outputs": [
    {
     "data": {
      "text/html": [
       "<table class=\"dataframe\">\n",
       "<caption>A data.table: 2 × 15</caption>\n",
       "<thead>\n",
       "\t<tr><th scope=col>intron</th><th scope=col>cluster</th><th scope=col>itype</th><th scope=col>ctype</th><th scope=col>gene_name</th><th scope=col>gene_id</th><th scope=col>logef</th><th scope=col>Muscle-Skeletal</th><th scope=col>Brain-Cortex</th><th scope=col>deltapsi</th><th scope=col>status</th><th scope=col>loglr</th><th scope=col>df</th><th scope=col>p</th><th scope=col>p.adjust</th></tr>\n",
       "\t<tr><th scope=col>&lt;chr&gt;</th><th scope=col>&lt;chr&gt;</th><th scope=col>&lt;chr&gt;</th><th scope=col>&lt;chr&gt;</th><th scope=col>&lt;chr&gt;</th><th scope=col>&lt;chr&gt;</th><th scope=col>&lt;dbl&gt;</th><th scope=col>&lt;dbl&gt;</th><th scope=col>&lt;dbl&gt;</th><th scope=col>&lt;dbl&gt;</th><th scope=col>&lt;chr&gt;</th><th scope=col>&lt;dbl&gt;</th><th scope=col>&lt;int&gt;</th><th scope=col>&lt;dbl&gt;</th><th scope=col>&lt;dbl&gt;</th></tr>\n",
       "</thead>\n",
       "<tbody>\n",
       "\t<tr><td>chr1:15651895:15656420:clu_261_+</td><td>chr1:clu_261_+</td><td>UP</td><td>PR,UP</td><td>DDI2</td><td>ENSG00000197312.11</td><td>-2.090066</td><td>0.513989</td><td>0.01591951</td><td>-0.4980695</td><td>Success</td><td>34.69655</td><td>1</td><td>8.067068e-17</td><td>3.546202e-16</td></tr>\n",
       "\t<tr><td>chr1:15651895:15656616:clu_261_+</td><td>chr1:clu_261_+</td><td>PR</td><td>PR,UP</td><td>DDI2</td><td>ENSG00000197312.11</td><td> 2.090066</td><td>0.486011</td><td>0.98408049</td><td> 0.4980695</td><td>Success</td><td>34.69655</td><td>1</td><td>8.067068e-17</td><td>3.546202e-16</td></tr>\n",
       "</tbody>\n",
       "</table>\n"
      ],
      "text/latex": [
       "A data.table: 2 × 15\n",
       "\\begin{tabular}{lllllllllllllll}\n",
       " intron & cluster & itype & ctype & gene\\_name & gene\\_id & logef & Muscle-Skeletal & Brain-Cortex & deltapsi & status & loglr & df & p & p.adjust\\\\\n",
       " <chr> & <chr> & <chr> & <chr> & <chr> & <chr> & <dbl> & <dbl> & <dbl> & <dbl> & <chr> & <dbl> & <int> & <dbl> & <dbl>\\\\\n",
       "\\hline\n",
       "\t chr1:15651895:15656420:clu\\_261\\_+ & chr1:clu\\_261\\_+ & UP & PR,UP & DDI2 & ENSG00000197312.11 & -2.090066 & 0.513989 & 0.01591951 & -0.4980695 & Success & 34.69655 & 1 & 8.067068e-17 & 3.546202e-16\\\\\n",
       "\t chr1:15651895:15656616:clu\\_261\\_+ & chr1:clu\\_261\\_+ & PR & PR,UP & DDI2 & ENSG00000197312.11 &  2.090066 & 0.486011 & 0.98408049 &  0.4980695 & Success & 34.69655 & 1 & 8.067068e-17 & 3.546202e-16\\\\\n",
       "\\end{tabular}\n"
      ],
      "text/markdown": [
       "\n",
       "A data.table: 2 × 15\n",
       "\n",
       "| intron &lt;chr&gt; | cluster &lt;chr&gt; | itype &lt;chr&gt; | ctype &lt;chr&gt; | gene_name &lt;chr&gt; | gene_id &lt;chr&gt; | logef &lt;dbl&gt; | Muscle-Skeletal &lt;dbl&gt; | Brain-Cortex &lt;dbl&gt; | deltapsi &lt;dbl&gt; | status &lt;chr&gt; | loglr &lt;dbl&gt; | df &lt;int&gt; | p &lt;dbl&gt; | p.adjust &lt;dbl&gt; |\n",
       "|---|---|---|---|---|---|---|---|---|---|---|---|---|---|---|\n",
       "| chr1:15651895:15656420:clu_261_+ | chr1:clu_261_+ | UP | PR,UP | DDI2 | ENSG00000197312.11 | -2.090066 | 0.513989 | 0.01591951 | -0.4980695 | Success | 34.69655 | 1 | 8.067068e-17 | 3.546202e-16 |\n",
       "| chr1:15651895:15656616:clu_261_+ | chr1:clu_261_+ | PR | PR,UP | DDI2 | ENSG00000197312.11 |  2.090066 | 0.486011 | 0.98408049 |  0.4980695 | Success | 34.69655 | 1 | 8.067068e-17 | 3.546202e-16 |\n",
       "\n"
      ],
      "text/plain": [
       "  intron                           cluster        itype ctype gene_name\n",
       "1 chr1:15651895:15656420:clu_261_+ chr1:clu_261_+ UP    PR,UP DDI2     \n",
       "2 chr1:15651895:15656616:clu_261_+ chr1:clu_261_+ PR    PR,UP DDI2     \n",
       "  gene_id            logef     Muscle-Skeletal Brain-Cortex deltapsi   status \n",
       "1 ENSG00000197312.11 -2.090066 0.513989        0.01591951   -0.4980695 Success\n",
       "2 ENSG00000197312.11  2.090066 0.486011        0.98408049    0.4980695 Success\n",
       "  loglr    df p            p.adjust    \n",
       "1 34.69655 1  8.067068e-17 3.546202e-16\n",
       "2 34.69655 1  8.067068e-17 3.546202e-16"
      ]
     },
     "metadata": {},
     "output_type": "display_data"
    }
   ],
   "source": [
    "ds[cluster == 'chr1:clu_261_+']"
   ]
  },
  {
   "cell_type": "code",
   "execution_count": 15,
   "metadata": {
    "vscode": {
     "languageId": "r"
    }
   },
   "outputs": [
    {
     "data": {
      "text/html": [
       "<table class=\"dataframe\">\n",
       "<caption>A data.table: 76 × 12</caption>\n",
       "<thead>\n",
       "\t<tr><th scope=col>intron</th><th scope=col>cluster</th><th scope=col>itype</th><th scope=col>ctype</th><th scope=col>gene_name</th><th scope=col>gene_id</th><th scope=col>deltapsi</th><th scope=col>p</th><th scope=col>p.adjust</th><th scope=col>log2FoldChange</th><th scope=col>dge_p</th><th scope=col>dge_padj</th></tr>\n",
       "\t<tr><th scope=col>&lt;chr&gt;</th><th scope=col>&lt;chr&gt;</th><th scope=col>&lt;chr&gt;</th><th scope=col>&lt;chr&gt;</th><th scope=col>&lt;chr&gt;</th><th scope=col>&lt;chr&gt;</th><th scope=col>&lt;dbl&gt;</th><th scope=col>&lt;dbl&gt;</th><th scope=col>&lt;dbl&gt;</th><th scope=col>&lt;dbl&gt;</th><th scope=col>&lt;dbl&gt;</th><th scope=col>&lt;dbl&gt;</th></tr>\n",
       "</thead>\n",
       "<tbody>\n",
       "\t<tr><td>chr1:6212903:6213065:clu_111_+      </td><td>chr1:clu_111_+  </td><td>UP</td><td>PR,UP</td><td>RNF207 </td><td>ENSG00000158286.12</td><td> 0.7185528</td><td> 1.446719e-43</td><td> 1.414418e-42</td><td> 1.766427</td><td> 1.430305e-50</td><td> 3.664874e-50</td></tr>\n",
       "\t<tr><td>chr1:15651895:15656420:clu_261_+    </td><td>chr1:clu_261_+  </td><td>UP</td><td>PR,UP</td><td>DDI2   </td><td>ENSG00000197312.11</td><td>-0.4980695</td><td> 8.067068e-17</td><td> 3.546202e-16</td><td>-2.509378</td><td>1.466086e-259</td><td>1.525591e-258</td></tr>\n",
       "\t<tr><td>chr1:43583093:43588730:clu_690_+    </td><td>chr1:clu_690_+  </td><td>UP</td><td>PR,UP</td><td>PTPRF  </td><td>ENSG00000142949.16</td><td>-0.3574384</td><td> 1.787567e-24</td><td> 1.032042e-23</td><td> 3.701421</td><td>5.925958e-171</td><td>3.860454e-170</td></tr>\n",
       "\t<tr><td>chr1:109485509:109486056:clu_1179_+ </td><td>chr1:clu_1179_+ </td><td>UP</td><td>PR,UP</td><td>ATXN7L2</td><td>ENSG00000162650.16</td><td>-0.3559785</td><td> 5.613616e-20</td><td> 2.780204e-19</td><td>-1.245866</td><td> 3.844560e-38</td><td> 8.511333e-38</td></tr>\n",
       "\t<tr><td>chr1:109621266:109625661:clu_1187_+ </td><td>chr1:clu_1187_+ </td><td>UP</td><td>PR,UP</td><td>AMPD2  </td><td>ENSG00000116337.15</td><td> 0.3965847</td><td>6.430093e-114</td><td>2.265287e-112</td><td> 3.732341</td><td> 0.000000e+00</td><td> 0.000000e+00</td></tr>\n",
       "\t<tr><td>chr1:151728463:151728765:clu_1455_+ </td><td>chr1:clu_1455_+ </td><td>UP</td><td>PR,UP</td><td>RIIAD1 </td><td>ENSG00000178796.12</td><td>-0.4157512</td><td> 1.047935e-90</td><td> 2.596041e-89</td><td> 3.300104</td><td> 4.750008e-91</td><td> 1.803052e-90</td></tr>\n",
       "\t<tr><td>chr1:180073908:180075021:clu_1855_+ </td><td>chr1:clu_1855_+ </td><td>UP</td><td>PR,UP</td><td>CEP350 </td><td>ENSG00000135837.15</td><td>-0.7107416</td><td> 2.178390e-57</td><td> 2.830769e-56</td><td>-1.862379</td><td>9.326018e-129</td><td>4.643086e-128</td></tr>\n",
       "\t<tr><td>chr1:31655502:31656097:clu_2854_-   </td><td>chr1:clu_2854_- </td><td>UP</td><td>PR,UP</td><td>COL16A1</td><td>ENSG00000084636.17</td><td> 0.3513873</td><td> 1.337340e-48</td><td> 1.458874e-47</td><td> 2.060926</td><td> 1.897270e-78</td><td> 6.426671e-78</td></tr>\n",
       "\t<tr><td>chr1:66921401:66924661:clu_3262_-   </td><td>chr1:clu_3262_- </td><td>UP</td><td>PR,UP</td><td>WDR78  </td><td>ENSG00000152763.16</td><td>-0.5675298</td><td> 1.084076e-20</td><td> 5.498192e-20</td><td> 1.619790</td><td>6.253355e-117</td><td>2.880485e-116</td></tr>\n",
       "\t<tr><td>chr1:113700243:113700793:clu_3531_- </td><td>chr1:clu_3531_- </td><td>UP</td><td>PR,UP</td><td>PHTF1  </td><td>ENSG00000116793.15</td><td>-0.3926263</td><td> 7.493384e-29</td><td> 4.979307e-28</td><td> 1.430844</td><td> 3.361694e-54</td><td> 8.969951e-54</td></tr>\n",
       "\t<tr><td>chr1:223802344:223802428:clu_4376_- </td><td>chr1:clu_4376_- </td><td>UP</td><td>PR,UP</td><td>TP53BP2</td><td>ENSG00000143514.16</td><td> 0.4312962</td><td> 1.422730e-87</td><td> 3.341467e-86</td><td> 1.573735</td><td> 1.728222e-83</td><td> 6.144499e-83</td></tr>\n",
       "\t<tr><td>chr2:42709014:42718987:clu_4862_+   </td><td>chr2:clu_4862_+ </td><td>UP</td><td>PR,UP</td><td>MTA3   </td><td>ENSG00000057935.13</td><td>-0.5818017</td><td> 2.198723e-56</td><td> 2.803006e-55</td><td> 2.368540</td><td> 0.000000e+00</td><td> 0.000000e+00</td></tr>\n",
       "\t<tr><td>chr2:54964733:54966722:clu_4946_+   </td><td>chr2:clu_4946_+ </td><td>UP</td><td>PR,UP</td><td>EML6   </td><td>ENSG00000214595.11</td><td>-0.4565634</td><td> 1.005086e-27</td><td> 6.424700e-27</td><td> 1.712118</td><td> 6.639257e-21</td><td> 1.143939e-20</td></tr>\n",
       "\t<tr><td>chr2:56342955:56384265:clu_4955_+   </td><td>chr2:clu_4955_+ </td><td>UP</td><td>PR,UP</td><td>CCDC85A</td><td>ENSG00000055813.5 </td><td>-0.7925179</td><td>4.519771e-107</td><td>1.426596e-105</td><td> 2.130281</td><td>9.287196e-122</td><td>4.410693e-121</td></tr>\n",
       "\t<tr><td>chr2:131035288:131038852:clu_5509_+ </td><td>chr2:clu_5509_+ </td><td>UP</td><td>PR,UP</td><td>ARHGEF4</td><td>ENSG00000136002.18</td><td>-0.4032690</td><td> 1.161837e-62</td><td> 1.683987e-61</td><td> 4.886374</td><td> 0.000000e+00</td><td> 0.000000e+00</td></tr>\n",
       "\t<tr><td>chr2:233419421:233434379:clu_6268_+ </td><td>chr2:clu_6268_+ </td><td>UP</td><td>PR,UP</td><td>DGKD   </td><td>ENSG00000077044.10</td><td>-0.7036405</td><td>5.071091e-117</td><td>1.885324e-115</td><td>-2.685104</td><td>1.713992e-172</td><td>1.126505e-171</td></tr>\n",
       "\t<tr><td>chr2:238163999:238164269:clu_6328_+ </td><td>chr2:clu_6328_+ </td><td>UP</td><td>PR,UP</td><td>ERFE   </td><td>ENSG00000178752.15</td><td> 0.5871435</td><td> 4.162363e-47</td><td> 4.394155e-46</td><td>-2.844885</td><td> 9.317076e-40</td><td> 2.107032e-39</td></tr>\n",
       "\t<tr><td>chr2:241035675:241036789:clu_6355_+ </td><td>chr2:clu_6355_+ </td><td>UP</td><td>PR,UP</td><td>SNED1  </td><td>ENSG00000162804.13</td><td> 0.3496512</td><td> 8.390165e-40</td><td> 7.444887e-39</td><td>-1.456367</td><td> 2.670660e-48</td><td> 6.679618e-48</td></tr>\n",
       "\t<tr><td>chr2:101188123:101188233:clu_7180_- </td><td>chr2:clu_7180_- </td><td>UP</td><td>PR,UP</td><td>TBC1D8 </td><td>ENSG00000204634.12</td><td> 0.3960292</td><td> 2.275164e-67</td><td> 3.613530e-66</td><td>-3.960348</td><td>2.691296e-222</td><td>2.335496e-221</td></tr>\n",
       "\t<tr><td>chr2:217849087:217858491:clu_7862_- </td><td>chr2:clu_7862_- </td><td>UP</td><td>PR,UP</td><td>TNS1   </td><td>ENSG00000079308.16</td><td>-0.5931597</td><td> 2.502560e-71</td><td> 4.295629e-70</td><td>-3.221612</td><td>1.656677e-206</td><td>1.319070e-205</td></tr>\n",
       "\t<tr><td>chr2:241108300:241108466:clu_8068_- </td><td>chr2:clu_8068_- </td><td>UP</td><td>PR,UP</td><td>PASK   </td><td>ENSG00000115687.13</td><td>-0.3140136</td><td> 2.502695e-35</td><td> 1.985551e-34</td><td> 2.668196</td><td>2.647844e-185</td><td>1.867423e-184</td></tr>\n",
       "\t<tr><td>chr3:12148691:12151236:clu_8208_+   </td><td>chr3:clu_8208_+ </td><td>UP</td><td>PR,UP</td><td>SYN2   </td><td>ENSG00000157152.16</td><td>-0.9194806</td><td> 8.500784e-49</td><td> 9.281453e-48</td><td> 5.679330</td><td> 0.000000e+00</td><td> 0.000000e+00</td></tr>\n",
       "\t<tr><td>chr3:148856788:148857456:clu_9117_+ </td><td>chr3:clu_9117_+ </td><td>UP</td><td>PR,UP</td><td>CPB1   </td><td>ENSG00000153002.11</td><td>-0.4085138</td><td> 1.543156e-14</td><td> 6.106822e-14</td><td>-1.452101</td><td> 9.633461e-06</td><td> 1.215352e-05</td></tr>\n",
       "\t<tr><td>chr3:152299254:152299404:clu_9152_+ </td><td>chr3:clu_9152_+ </td><td>UP</td><td>PR,UP</td><td>MBNL1  </td><td>ENSG00000152601.17</td><td>-0.4182497</td><td> 9.768167e-33</td><td> 7.217880e-32</td><td>-3.206711</td><td> 0.000000e+00</td><td> 0.000000e+00</td></tr>\n",
       "\t<tr><td>chr3:12941865:12995023:clu_9543_-   </td><td>chr3:clu_9543_- </td><td>UP</td><td>PR,UP</td><td>IQSEC1 </td><td>ENSG00000144711.13</td><td> 0.3209242</td><td> 1.239596e-14</td><td> 4.936946e-14</td><td> 2.164799</td><td>4.401591e-158</td><td>2.675394e-157</td></tr>\n",
       "\t<tr><td>chr3:14503953:14505614:clu_9551_-   </td><td>chr3:clu_9551_- </td><td>UP</td><td>PR,UP</td><td>GRIP2  </td><td>ENSG00000144596.12</td><td>-0.3292909</td><td> 1.216471e-26</td><td> 7.530131e-26</td><td>-1.674324</td><td> 1.204937e-35</td><td> 2.581837e-35</td></tr>\n",
       "\t<tr><td>chr3:42713316:42732886:clu_9726_-   </td><td>chr3:clu_9726_- </td><td>UP</td><td>PR,UP</td><td>CCDC13 </td><td>ENSG00000244607.5 </td><td> 0.4761473</td><td> 1.463815e-10</td><td> 4.746805e-10</td><td> 1.480981</td><td> 1.040850e-32</td><td> 2.145307e-32</td></tr>\n",
       "\t<tr><td>chr3:53243622:53255835:clu_10004_-  </td><td>chr3:clu_10004_-</td><td>UP</td><td>PR,UP</td><td>TKT    </td><td>ENSG00000163931.15</td><td>-0.3045772</td><td>7.070183e-130</td><td>3.174180e-128</td><td> 2.451944</td><td>1.704663e-208</td><td>1.371204e-207</td></tr>\n",
       "\t<tr><td>chr3:183231212:183276871:clu_10749_-</td><td>chr3:clu_10749_-</td><td>UP</td><td>PR,UP</td><td>MCF2L2 </td><td>ENSG00000053524.12</td><td>-0.3227714</td><td> 1.606374e-40</td><td> 1.453920e-39</td><td> 5.841294</td><td> 0.000000e+00</td><td> 0.000000e+00</td></tr>\n",
       "\t<tr><td>chr3:197748445:197749268:clu_10935_-</td><td>chr3:clu_10935_-</td><td>UP</td><td>PR,UP</td><td>RUBCN  </td><td>ENSG00000145016.15</td><td>-0.3896103</td><td> 9.637546e-56</td><td> 1.216160e-54</td><td> 1.298379</td><td>2.943880e-140</td><td>1.590211e-139</td></tr>\n",
       "\t<tr><td>⋮</td><td>⋮</td><td>⋮</td><td>⋮</td><td>⋮</td><td>⋮</td><td>⋮</td><td>⋮</td><td>⋮</td><td>⋮</td><td>⋮</td><td>⋮</td></tr>\n",
       "\t<tr><td>chr10:26734723:26735239:clu_23110_+  </td><td>chr10:clu_23110_+</td><td>UP</td><td>PR,UP</td><td>PDSS1   </td><td>ENSG00000148459.15</td><td> 0.3919310</td><td> 7.588810e-44</td><td> 7.481128e-43</td><td>-1.161600</td><td> 1.960016e-52</td><td> 5.130391e-52</td></tr>\n",
       "\t<tr><td>chr10:124605515:124613263:clu_23762_+</td><td>chr10:clu_23762_+</td><td>UP</td><td>PR,UP</td><td>LHPP    </td><td>ENSG00000107902.13</td><td> 0.3789529</td><td> 1.318091e-33</td><td> 9.979774e-33</td><td> 3.001612</td><td>2.678336e-211</td><td>2.180172e-210</td></tr>\n",
       "\t<tr><td>chr11:12862314:12864685:clu_24944_+  </td><td>chr11:clu_24944_+</td><td>UP</td><td>PR,UP</td><td>TEAD1   </td><td>ENSG00000187079.16</td><td>-0.5963854</td><td> 9.192192e-37</td><td> 7.590578e-36</td><td>-3.193505</td><td> 0.000000e+00</td><td> 0.000000e+00</td></tr>\n",
       "\t<tr><td>chr12:6830770:6830869:clu_27604_+    </td><td>chr12:clu_27604_+</td><td>UP</td><td>PR,UP</td><td>P3H3    </td><td>ENSG00000110811.19</td><td> 0.4563334</td><td>2.905148e-148</td><td>1.696170e-146</td><td> 2.120731</td><td>1.114787e-123</td><td>5.353337e-123</td></tr>\n",
       "\t<tr><td>chr12:6831033:6831215:clu_27604_+    </td><td>chr12:clu_27604_+</td><td>UP</td><td>PR,UP</td><td>P3H3    </td><td>ENSG00000110811.19</td><td> 0.4766943</td><td>2.905148e-148</td><td>1.696170e-146</td><td> 2.120731</td><td>1.114787e-123</td><td>5.353337e-123</td></tr>\n",
       "\t<tr><td>chr12:131845449:131849938:clu_28790_+</td><td>chr12:clu_28790_+</td><td>UP</td><td>PR,UP</td><td>MMP17   </td><td>ENSG00000198598.6 </td><td>-0.3148093</td><td> 4.473595e-14</td><td> 1.727752e-13</td><td> 5.209661</td><td> 0.000000e+00</td><td> 0.000000e+00</td></tr>\n",
       "\t<tr><td>chr12:50201324:50204551:clu_29357_-  </td><td>chr12:clu_29357_-</td><td>UP</td><td>PR,UP</td><td>LIMA1   </td><td>ENSG00000050405.13</td><td>-0.4720100</td><td> 1.856073e-57</td><td> 2.416976e-56</td><td>-1.168673</td><td> 4.437660e-38</td><td> 9.819334e-38</td></tr>\n",
       "\t<tr><td>chr12:118235671:118235794:clu_30050_-</td><td>chr12:clu_30050_-</td><td>UP</td><td>PR,UP</td><td>TAOK3   </td><td>ENSG00000135090.13</td><td> 0.4152363</td><td>6.070144e-100</td><td> 1.725447e-98</td><td> 1.188090</td><td> 2.158046e-99</td><td> 8.761219e-99</td></tr>\n",
       "\t<tr><td>chr13:110893263:110900529:clu_30970_-</td><td>chr13:clu_30970_-</td><td>UP</td><td>PR,UP</td><td>ANKRD10 </td><td>ENSG00000088448.14</td><td> 0.4119932</td><td> 6.278220e-90</td><td> 1.529401e-88</td><td>-1.573181</td><td>9.327832e-125</td><td>4.514531e-124</td></tr>\n",
       "\t<tr><td>chr14:23565701:23566063:clu_31963_-  </td><td>chr14:clu_31963_-</td><td>UP</td><td>PR,UP</td><td>AP1G2   </td><td>ENSG00000213983.11</td><td> 0.6741990</td><td> 7.910868e-98</td><td> 2.181365e-96</td><td> 3.773681</td><td> 0.000000e+00</td><td> 0.000000e+00</td></tr>\n",
       "\t<tr><td>chr15:42276410:42278024:clu_32851_+  </td><td>chr15:clu_32851_+</td><td>UP</td><td>PR,UP</td><td>GANC    </td><td>ENSG00000214013.9 </td><td> 0.3059517</td><td> 3.148833e-54</td><td> 3.844760e-53</td><td>-1.604013</td><td>1.707443e-105</td><td>7.245709e-105</td></tr>\n",
       "\t<tr><td>chr16:1745103:1747028:clu_34607_+    </td><td>chr16:clu_34607_+</td><td>UP</td><td>PR,UP</td><td>MAPK8IP3</td><td>ENSG00000138834.12</td><td>-0.6286815</td><td> 1.498295e-59</td><td> 2.040832e-58</td><td> 2.409699</td><td> 0.000000e+00</td><td> 0.000000e+00</td></tr>\n",
       "\t<tr><td>chr16:8629110:8635167:clu_34771_+    </td><td>chr16:clu_34771_+</td><td>UP</td><td>PR,UP</td><td>METTL22 </td><td>ENSG00000067365.14</td><td> 0.3626871</td><td>1.684488e-135</td><td>8.263627e-134</td><td>-2.068522</td><td>2.027310e-275</td><td>2.300197e-274</td></tr>\n",
       "\t<tr><td>chr16:22854781:22914943:clu_34952_+  </td><td>chr16:clu_34952_+</td><td>UP</td><td>PR,UP</td><td>HS3ST2  </td><td>ENSG00000122254.6 </td><td>-0.3063183</td><td> 2.641617e-08</td><td> 7.408084e-08</td><td> 4.969614</td><td>1.003582e-121</td><td>4.762732e-121</td></tr>\n",
       "\t<tr><td>chr16:23562730:23564038:clu_34960_+  </td><td>chr16:clu_34960_+</td><td>UP</td><td>PR,UP</td><td>UBFD1   </td><td>ENSG00000103353.15</td><td>-0.3480821</td><td> 2.841152e-88</td><td> 6.762214e-87</td><td>-2.106924</td><td>1.172839e-205</td><td>9.301097e-205</td></tr>\n",
       "\t<tr><td>chr16:66963084:66963178:clu_35373_+  </td><td>chr16:clu_35373_+</td><td>UP</td><td>PR,UP</td><td>CES3    </td><td>ENSG00000172828.12</td><td> 0.4258275</td><td> 2.003805e-50</td><td> 2.280945e-49</td><td>-3.178171</td><td> 0.000000e+00</td><td> 0.000000e+00</td></tr>\n",
       "\t<tr><td>chr16:78109835:78111819:clu_35567_+  </td><td>chr16:clu_35567_+</td><td>UP</td><td>PR,UP</td><td>WWOX    </td><td>ENSG00000186153.16</td><td>-0.3106447</td><td> 3.125758e-87</td><td> 7.293045e-86</td><td> 2.433935</td><td>9.406926e-265</td><td>1.005154e-263</td></tr>\n",
       "\t<tr><td>chr16:48085706:48086191:clu_36314_-  </td><td>chr16:clu_36314_-</td><td>UP</td><td>PR,UP</td><td>ABCC12  </td><td>ENSG00000140798.15</td><td>-0.8891784</td><td>9.062515e-107</td><td>2.842407e-105</td><td> 2.625395</td><td> 1.323377e-30</td><td> 2.655891e-30</td></tr>\n",
       "\t<tr><td>chr16:67236434:67236556:clu_36495_-  </td><td>chr16:clu_36495_-</td><td>UP</td><td>PR,UP</td><td>FHOD1   </td><td>ENSG00000135723.13</td><td>-0.5110055</td><td>9.873681e-111</td><td>3.323115e-109</td><td>-4.121374</td><td> 0.000000e+00</td><td> 0.000000e+00</td></tr>\n",
       "\t<tr><td>chr17:32035639:32047760:clu_37360_+  </td><td>chr17:clu_37360_+</td><td>UP</td><td>PR,UP</td><td>LRRC37B </td><td>ENSG00000185158.12</td><td>-0.4857374</td><td>1.056884e-131</td><td>4.867929e-130</td><td> 1.414836</td><td>2.909165e-134</td><td>1.503941e-133</td></tr>\n",
       "\t<tr><td>chr17:76538507:76540504:clu_38111_+  </td><td>chr17:clu_38111_+</td><td>UP</td><td>PR,UP</td><td>PRCD    </td><td>ENSG00000214140.10</td><td>-0.4541889</td><td> 9.738561e-20</td><td> 4.781237e-19</td><td> 1.259635</td><td> 3.962572e-43</td><td> 9.320584e-43</td></tr>\n",
       "\t<tr><td>chr17:76545636:76553108:clu_38112_+  </td><td>chr17:clu_38112_+</td><td>UP</td><td>PR,UP</td><td>PRCD    </td><td>ENSG00000214140.10</td><td> 0.3106905</td><td> 2.404378e-30</td><td> 1.663006e-29</td><td> 1.259635</td><td> 3.962572e-43</td><td> 9.320584e-43</td></tr>\n",
       "\t<tr><td>chr17:29617042:29617241:clu_38861_-  </td><td>chr17:clu_38861_-</td><td>UP</td><td>PR,UP</td><td>CORO6   </td><td>ENSG00000167549.18</td><td> 0.5553389</td><td>1.792202e-100</td><td> 5.117754e-99</td><td>-2.823690</td><td> 0.000000e+00</td><td> 0.000000e+00</td></tr>\n",
       "\t<tr><td>chr17:43816079:43818045:clu_39147_-  </td><td>chr17:clu_39147_-</td><td>UP</td><td>PR,UP</td><td>MPP3    </td><td>ENSG00000161647.18</td><td>-0.8651043</td><td> 1.467484e-70</td><td> 2.479570e-69</td><td> 1.313712</td><td> 5.653551e-38</td><td> 1.247881e-37</td></tr>\n",
       "\t<tr><td>chr18:77066385:77087345:clu_40712_-  </td><td>chr18:clu_40712_-</td><td>UP</td><td>PR,UP</td><td>MBP     </td><td>ENSG00000197971.14</td><td> 0.3537032</td><td> 9.779230e-36</td><td> 7.835986e-35</td><td> 5.370053</td><td>2.281303e-215</td><td>1.902483e-214</td></tr>\n",
       "\t<tr><td>chr19:35784317:35784494:clu_41528_+  </td><td>chr19:clu_41528_+</td><td>UP</td><td>PR,UP</td><td>ARHGAP33</td><td>ENSG00000004777.18</td><td>-0.5611789</td><td> 2.453378e-56</td><td> 3.124445e-55</td><td> 3.734450</td><td> 0.000000e+00</td><td> 0.000000e+00</td></tr>\n",
       "\t<tr><td>chr21:46348325:46349011:clu_45147_+  </td><td>chr21:clu_45147_+</td><td>UP</td><td>PR,UP</td><td>PCNT    </td><td>ENSG00000160299.16</td><td>-0.8911860</td><td> 1.234434e-89</td><td> 2.995399e-88</td><td>-3.723203</td><td> 0.000000e+00</td><td> 0.000000e+00</td></tr>\n",
       "\t<tr><td>chr22:43937272:43939335:clu_45897_+  </td><td>chr22:clu_45897_+</td><td>UP</td><td>PR,UP</td><td>PNPLA3  </td><td>ENSG00000100344.10</td><td>-0.5560683</td><td> 9.077510e-24</td><td> 5.120795e-23</td><td>-1.579530</td><td> 2.900662e-13</td><td> 4.355287e-13</td></tr>\n",
       "\t<tr><td>chrX:15827372:15840496:clu_47313_-   </td><td>chrX:clu_47313_- </td><td>UP</td><td>PR,UP</td><td>AP1S2   </td><td>ENSG00000182287.13</td><td>-0.4621030</td><td> 0.000000e+00</td><td> 0.000000e+00</td><td>-1.261800</td><td> 8.905555e-64</td><td> 2.626286e-63</td></tr>\n",
       "\t<tr><td>chrX:15840591:15845378:clu_47313_-   </td><td>chrX:clu_47313_- </td><td>UP</td><td>PR,UP</td><td>AP1S2   </td><td>ENSG00000182287.13</td><td>-0.4672837</td><td> 0.000000e+00</td><td> 0.000000e+00</td><td>-1.261800</td><td> 8.905555e-64</td><td> 2.626286e-63</td></tr>\n",
       "</tbody>\n",
       "</table>\n"
      ],
      "text/latex": [
       "A data.table: 76 × 12\n",
       "\\begin{tabular}{llllllllllll}\n",
       " intron & cluster & itype & ctype & gene\\_name & gene\\_id & deltapsi & p & p.adjust & log2FoldChange & dge\\_p & dge\\_padj\\\\\n",
       " <chr> & <chr> & <chr> & <chr> & <chr> & <chr> & <dbl> & <dbl> & <dbl> & <dbl> & <dbl> & <dbl>\\\\\n",
       "\\hline\n",
       "\t chr1:6212903:6213065:clu\\_111\\_+       & chr1:clu\\_111\\_+   & UP & PR,UP & RNF207  & ENSG00000158286.12 &  0.7185528 &  1.446719e-43 &  1.414418e-42 &  1.766427 &  1.430305e-50 &  3.664874e-50\\\\\n",
       "\t chr1:15651895:15656420:clu\\_261\\_+     & chr1:clu\\_261\\_+   & UP & PR,UP & DDI2    & ENSG00000197312.11 & -0.4980695 &  8.067068e-17 &  3.546202e-16 & -2.509378 & 1.466086e-259 & 1.525591e-258\\\\\n",
       "\t chr1:43583093:43588730:clu\\_690\\_+     & chr1:clu\\_690\\_+   & UP & PR,UP & PTPRF   & ENSG00000142949.16 & -0.3574384 &  1.787567e-24 &  1.032042e-23 &  3.701421 & 5.925958e-171 & 3.860454e-170\\\\\n",
       "\t chr1:109485509:109486056:clu\\_1179\\_+  & chr1:clu\\_1179\\_+  & UP & PR,UP & ATXN7L2 & ENSG00000162650.16 & -0.3559785 &  5.613616e-20 &  2.780204e-19 & -1.245866 &  3.844560e-38 &  8.511333e-38\\\\\n",
       "\t chr1:109621266:109625661:clu\\_1187\\_+  & chr1:clu\\_1187\\_+  & UP & PR,UP & AMPD2   & ENSG00000116337.15 &  0.3965847 & 6.430093e-114 & 2.265287e-112 &  3.732341 &  0.000000e+00 &  0.000000e+00\\\\\n",
       "\t chr1:151728463:151728765:clu\\_1455\\_+  & chr1:clu\\_1455\\_+  & UP & PR,UP & RIIAD1  & ENSG00000178796.12 & -0.4157512 &  1.047935e-90 &  2.596041e-89 &  3.300104 &  4.750008e-91 &  1.803052e-90\\\\\n",
       "\t chr1:180073908:180075021:clu\\_1855\\_+  & chr1:clu\\_1855\\_+  & UP & PR,UP & CEP350  & ENSG00000135837.15 & -0.7107416 &  2.178390e-57 &  2.830769e-56 & -1.862379 & 9.326018e-129 & 4.643086e-128\\\\\n",
       "\t chr1:31655502:31656097:clu\\_2854\\_-    & chr1:clu\\_2854\\_-  & UP & PR,UP & COL16A1 & ENSG00000084636.17 &  0.3513873 &  1.337340e-48 &  1.458874e-47 &  2.060926 &  1.897270e-78 &  6.426671e-78\\\\\n",
       "\t chr1:66921401:66924661:clu\\_3262\\_-    & chr1:clu\\_3262\\_-  & UP & PR,UP & WDR78   & ENSG00000152763.16 & -0.5675298 &  1.084076e-20 &  5.498192e-20 &  1.619790 & 6.253355e-117 & 2.880485e-116\\\\\n",
       "\t chr1:113700243:113700793:clu\\_3531\\_-  & chr1:clu\\_3531\\_-  & UP & PR,UP & PHTF1   & ENSG00000116793.15 & -0.3926263 &  7.493384e-29 &  4.979307e-28 &  1.430844 &  3.361694e-54 &  8.969951e-54\\\\\n",
       "\t chr1:223802344:223802428:clu\\_4376\\_-  & chr1:clu\\_4376\\_-  & UP & PR,UP & TP53BP2 & ENSG00000143514.16 &  0.4312962 &  1.422730e-87 &  3.341467e-86 &  1.573735 &  1.728222e-83 &  6.144499e-83\\\\\n",
       "\t chr2:42709014:42718987:clu\\_4862\\_+    & chr2:clu\\_4862\\_+  & UP & PR,UP & MTA3    & ENSG00000057935.13 & -0.5818017 &  2.198723e-56 &  2.803006e-55 &  2.368540 &  0.000000e+00 &  0.000000e+00\\\\\n",
       "\t chr2:54964733:54966722:clu\\_4946\\_+    & chr2:clu\\_4946\\_+  & UP & PR,UP & EML6    & ENSG00000214595.11 & -0.4565634 &  1.005086e-27 &  6.424700e-27 &  1.712118 &  6.639257e-21 &  1.143939e-20\\\\\n",
       "\t chr2:56342955:56384265:clu\\_4955\\_+    & chr2:clu\\_4955\\_+  & UP & PR,UP & CCDC85A & ENSG00000055813.5  & -0.7925179 & 4.519771e-107 & 1.426596e-105 &  2.130281 & 9.287196e-122 & 4.410693e-121\\\\\n",
       "\t chr2:131035288:131038852:clu\\_5509\\_+  & chr2:clu\\_5509\\_+  & UP & PR,UP & ARHGEF4 & ENSG00000136002.18 & -0.4032690 &  1.161837e-62 &  1.683987e-61 &  4.886374 &  0.000000e+00 &  0.000000e+00\\\\\n",
       "\t chr2:233419421:233434379:clu\\_6268\\_+  & chr2:clu\\_6268\\_+  & UP & PR,UP & DGKD    & ENSG00000077044.10 & -0.7036405 & 5.071091e-117 & 1.885324e-115 & -2.685104 & 1.713992e-172 & 1.126505e-171\\\\\n",
       "\t chr2:238163999:238164269:clu\\_6328\\_+  & chr2:clu\\_6328\\_+  & UP & PR,UP & ERFE    & ENSG00000178752.15 &  0.5871435 &  4.162363e-47 &  4.394155e-46 & -2.844885 &  9.317076e-40 &  2.107032e-39\\\\\n",
       "\t chr2:241035675:241036789:clu\\_6355\\_+  & chr2:clu\\_6355\\_+  & UP & PR,UP & SNED1   & ENSG00000162804.13 &  0.3496512 &  8.390165e-40 &  7.444887e-39 & -1.456367 &  2.670660e-48 &  6.679618e-48\\\\\n",
       "\t chr2:101188123:101188233:clu\\_7180\\_-  & chr2:clu\\_7180\\_-  & UP & PR,UP & TBC1D8  & ENSG00000204634.12 &  0.3960292 &  2.275164e-67 &  3.613530e-66 & -3.960348 & 2.691296e-222 & 2.335496e-221\\\\\n",
       "\t chr2:217849087:217858491:clu\\_7862\\_-  & chr2:clu\\_7862\\_-  & UP & PR,UP & TNS1    & ENSG00000079308.16 & -0.5931597 &  2.502560e-71 &  4.295629e-70 & -3.221612 & 1.656677e-206 & 1.319070e-205\\\\\n",
       "\t chr2:241108300:241108466:clu\\_8068\\_-  & chr2:clu\\_8068\\_-  & UP & PR,UP & PASK    & ENSG00000115687.13 & -0.3140136 &  2.502695e-35 &  1.985551e-34 &  2.668196 & 2.647844e-185 & 1.867423e-184\\\\\n",
       "\t chr3:12148691:12151236:clu\\_8208\\_+    & chr3:clu\\_8208\\_+  & UP & PR,UP & SYN2    & ENSG00000157152.16 & -0.9194806 &  8.500784e-49 &  9.281453e-48 &  5.679330 &  0.000000e+00 &  0.000000e+00\\\\\n",
       "\t chr3:148856788:148857456:clu\\_9117\\_+  & chr3:clu\\_9117\\_+  & UP & PR,UP & CPB1    & ENSG00000153002.11 & -0.4085138 &  1.543156e-14 &  6.106822e-14 & -1.452101 &  9.633461e-06 &  1.215352e-05\\\\\n",
       "\t chr3:152299254:152299404:clu\\_9152\\_+  & chr3:clu\\_9152\\_+  & UP & PR,UP & MBNL1   & ENSG00000152601.17 & -0.4182497 &  9.768167e-33 &  7.217880e-32 & -3.206711 &  0.000000e+00 &  0.000000e+00\\\\\n",
       "\t chr3:12941865:12995023:clu\\_9543\\_-    & chr3:clu\\_9543\\_-  & UP & PR,UP & IQSEC1  & ENSG00000144711.13 &  0.3209242 &  1.239596e-14 &  4.936946e-14 &  2.164799 & 4.401591e-158 & 2.675394e-157\\\\\n",
       "\t chr3:14503953:14505614:clu\\_9551\\_-    & chr3:clu\\_9551\\_-  & UP & PR,UP & GRIP2   & ENSG00000144596.12 & -0.3292909 &  1.216471e-26 &  7.530131e-26 & -1.674324 &  1.204937e-35 &  2.581837e-35\\\\\n",
       "\t chr3:42713316:42732886:clu\\_9726\\_-    & chr3:clu\\_9726\\_-  & UP & PR,UP & CCDC13  & ENSG00000244607.5  &  0.4761473 &  1.463815e-10 &  4.746805e-10 &  1.480981 &  1.040850e-32 &  2.145307e-32\\\\\n",
       "\t chr3:53243622:53255835:clu\\_10004\\_-   & chr3:clu\\_10004\\_- & UP & PR,UP & TKT     & ENSG00000163931.15 & -0.3045772 & 7.070183e-130 & 3.174180e-128 &  2.451944 & 1.704663e-208 & 1.371204e-207\\\\\n",
       "\t chr3:183231212:183276871:clu\\_10749\\_- & chr3:clu\\_10749\\_- & UP & PR,UP & MCF2L2  & ENSG00000053524.12 & -0.3227714 &  1.606374e-40 &  1.453920e-39 &  5.841294 &  0.000000e+00 &  0.000000e+00\\\\\n",
       "\t chr3:197748445:197749268:clu\\_10935\\_- & chr3:clu\\_10935\\_- & UP & PR,UP & RUBCN   & ENSG00000145016.15 & -0.3896103 &  9.637546e-56 &  1.216160e-54 &  1.298379 & 2.943880e-140 & 1.590211e-139\\\\\n",
       "\t ⋮ & ⋮ & ⋮ & ⋮ & ⋮ & ⋮ & ⋮ & ⋮ & ⋮ & ⋮ & ⋮ & ⋮\\\\\n",
       "\t chr10:26734723:26735239:clu\\_23110\\_+   & chr10:clu\\_23110\\_+ & UP & PR,UP & PDSS1    & ENSG00000148459.15 &  0.3919310 &  7.588810e-44 &  7.481128e-43 & -1.161600 &  1.960016e-52 &  5.130391e-52\\\\\n",
       "\t chr10:124605515:124613263:clu\\_23762\\_+ & chr10:clu\\_23762\\_+ & UP & PR,UP & LHPP     & ENSG00000107902.13 &  0.3789529 &  1.318091e-33 &  9.979774e-33 &  3.001612 & 2.678336e-211 & 2.180172e-210\\\\\n",
       "\t chr11:12862314:12864685:clu\\_24944\\_+   & chr11:clu\\_24944\\_+ & UP & PR,UP & TEAD1    & ENSG00000187079.16 & -0.5963854 &  9.192192e-37 &  7.590578e-36 & -3.193505 &  0.000000e+00 &  0.000000e+00\\\\\n",
       "\t chr12:6830770:6830869:clu\\_27604\\_+     & chr12:clu\\_27604\\_+ & UP & PR,UP & P3H3     & ENSG00000110811.19 &  0.4563334 & 2.905148e-148 & 1.696170e-146 &  2.120731 & 1.114787e-123 & 5.353337e-123\\\\\n",
       "\t chr12:6831033:6831215:clu\\_27604\\_+     & chr12:clu\\_27604\\_+ & UP & PR,UP & P3H3     & ENSG00000110811.19 &  0.4766943 & 2.905148e-148 & 1.696170e-146 &  2.120731 & 1.114787e-123 & 5.353337e-123\\\\\n",
       "\t chr12:131845449:131849938:clu\\_28790\\_+ & chr12:clu\\_28790\\_+ & UP & PR,UP & MMP17    & ENSG00000198598.6  & -0.3148093 &  4.473595e-14 &  1.727752e-13 &  5.209661 &  0.000000e+00 &  0.000000e+00\\\\\n",
       "\t chr12:50201324:50204551:clu\\_29357\\_-   & chr12:clu\\_29357\\_- & UP & PR,UP & LIMA1    & ENSG00000050405.13 & -0.4720100 &  1.856073e-57 &  2.416976e-56 & -1.168673 &  4.437660e-38 &  9.819334e-38\\\\\n",
       "\t chr12:118235671:118235794:clu\\_30050\\_- & chr12:clu\\_30050\\_- & UP & PR,UP & TAOK3    & ENSG00000135090.13 &  0.4152363 & 6.070144e-100 &  1.725447e-98 &  1.188090 &  2.158046e-99 &  8.761219e-99\\\\\n",
       "\t chr13:110893263:110900529:clu\\_30970\\_- & chr13:clu\\_30970\\_- & UP & PR,UP & ANKRD10  & ENSG00000088448.14 &  0.4119932 &  6.278220e-90 &  1.529401e-88 & -1.573181 & 9.327832e-125 & 4.514531e-124\\\\\n",
       "\t chr14:23565701:23566063:clu\\_31963\\_-   & chr14:clu\\_31963\\_- & UP & PR,UP & AP1G2    & ENSG00000213983.11 &  0.6741990 &  7.910868e-98 &  2.181365e-96 &  3.773681 &  0.000000e+00 &  0.000000e+00\\\\\n",
       "\t chr15:42276410:42278024:clu\\_32851\\_+   & chr15:clu\\_32851\\_+ & UP & PR,UP & GANC     & ENSG00000214013.9  &  0.3059517 &  3.148833e-54 &  3.844760e-53 & -1.604013 & 1.707443e-105 & 7.245709e-105\\\\\n",
       "\t chr16:1745103:1747028:clu\\_34607\\_+     & chr16:clu\\_34607\\_+ & UP & PR,UP & MAPK8IP3 & ENSG00000138834.12 & -0.6286815 &  1.498295e-59 &  2.040832e-58 &  2.409699 &  0.000000e+00 &  0.000000e+00\\\\\n",
       "\t chr16:8629110:8635167:clu\\_34771\\_+     & chr16:clu\\_34771\\_+ & UP & PR,UP & METTL22  & ENSG00000067365.14 &  0.3626871 & 1.684488e-135 & 8.263627e-134 & -2.068522 & 2.027310e-275 & 2.300197e-274\\\\\n",
       "\t chr16:22854781:22914943:clu\\_34952\\_+   & chr16:clu\\_34952\\_+ & UP & PR,UP & HS3ST2   & ENSG00000122254.6  & -0.3063183 &  2.641617e-08 &  7.408084e-08 &  4.969614 & 1.003582e-121 & 4.762732e-121\\\\\n",
       "\t chr16:23562730:23564038:clu\\_34960\\_+   & chr16:clu\\_34960\\_+ & UP & PR,UP & UBFD1    & ENSG00000103353.15 & -0.3480821 &  2.841152e-88 &  6.762214e-87 & -2.106924 & 1.172839e-205 & 9.301097e-205\\\\\n",
       "\t chr16:66963084:66963178:clu\\_35373\\_+   & chr16:clu\\_35373\\_+ & UP & PR,UP & CES3     & ENSG00000172828.12 &  0.4258275 &  2.003805e-50 &  2.280945e-49 & -3.178171 &  0.000000e+00 &  0.000000e+00\\\\\n",
       "\t chr16:78109835:78111819:clu\\_35567\\_+   & chr16:clu\\_35567\\_+ & UP & PR,UP & WWOX     & ENSG00000186153.16 & -0.3106447 &  3.125758e-87 &  7.293045e-86 &  2.433935 & 9.406926e-265 & 1.005154e-263\\\\\n",
       "\t chr16:48085706:48086191:clu\\_36314\\_-   & chr16:clu\\_36314\\_- & UP & PR,UP & ABCC12   & ENSG00000140798.15 & -0.8891784 & 9.062515e-107 & 2.842407e-105 &  2.625395 &  1.323377e-30 &  2.655891e-30\\\\\n",
       "\t chr16:67236434:67236556:clu\\_36495\\_-   & chr16:clu\\_36495\\_- & UP & PR,UP & FHOD1    & ENSG00000135723.13 & -0.5110055 & 9.873681e-111 & 3.323115e-109 & -4.121374 &  0.000000e+00 &  0.000000e+00\\\\\n",
       "\t chr17:32035639:32047760:clu\\_37360\\_+   & chr17:clu\\_37360\\_+ & UP & PR,UP & LRRC37B  & ENSG00000185158.12 & -0.4857374 & 1.056884e-131 & 4.867929e-130 &  1.414836 & 2.909165e-134 & 1.503941e-133\\\\\n",
       "\t chr17:76538507:76540504:clu\\_38111\\_+   & chr17:clu\\_38111\\_+ & UP & PR,UP & PRCD     & ENSG00000214140.10 & -0.4541889 &  9.738561e-20 &  4.781237e-19 &  1.259635 &  3.962572e-43 &  9.320584e-43\\\\\n",
       "\t chr17:76545636:76553108:clu\\_38112\\_+   & chr17:clu\\_38112\\_+ & UP & PR,UP & PRCD     & ENSG00000214140.10 &  0.3106905 &  2.404378e-30 &  1.663006e-29 &  1.259635 &  3.962572e-43 &  9.320584e-43\\\\\n",
       "\t chr17:29617042:29617241:clu\\_38861\\_-   & chr17:clu\\_38861\\_- & UP & PR,UP & CORO6    & ENSG00000167549.18 &  0.5553389 & 1.792202e-100 &  5.117754e-99 & -2.823690 &  0.000000e+00 &  0.000000e+00\\\\\n",
       "\t chr17:43816079:43818045:clu\\_39147\\_-   & chr17:clu\\_39147\\_- & UP & PR,UP & MPP3     & ENSG00000161647.18 & -0.8651043 &  1.467484e-70 &  2.479570e-69 &  1.313712 &  5.653551e-38 &  1.247881e-37\\\\\n",
       "\t chr18:77066385:77087345:clu\\_40712\\_-   & chr18:clu\\_40712\\_- & UP & PR,UP & MBP      & ENSG00000197971.14 &  0.3537032 &  9.779230e-36 &  7.835986e-35 &  5.370053 & 2.281303e-215 & 1.902483e-214\\\\\n",
       "\t chr19:35784317:35784494:clu\\_41528\\_+   & chr19:clu\\_41528\\_+ & UP & PR,UP & ARHGAP33 & ENSG00000004777.18 & -0.5611789 &  2.453378e-56 &  3.124445e-55 &  3.734450 &  0.000000e+00 &  0.000000e+00\\\\\n",
       "\t chr21:46348325:46349011:clu\\_45147\\_+   & chr21:clu\\_45147\\_+ & UP & PR,UP & PCNT     & ENSG00000160299.16 & -0.8911860 &  1.234434e-89 &  2.995399e-88 & -3.723203 &  0.000000e+00 &  0.000000e+00\\\\\n",
       "\t chr22:43937272:43939335:clu\\_45897\\_+   & chr22:clu\\_45897\\_+ & UP & PR,UP & PNPLA3   & ENSG00000100344.10 & -0.5560683 &  9.077510e-24 &  5.120795e-23 & -1.579530 &  2.900662e-13 &  4.355287e-13\\\\\n",
       "\t chrX:15827372:15840496:clu\\_47313\\_-    & chrX:clu\\_47313\\_-  & UP & PR,UP & AP1S2    & ENSG00000182287.13 & -0.4621030 &  0.000000e+00 &  0.000000e+00 & -1.261800 &  8.905555e-64 &  2.626286e-63\\\\\n",
       "\t chrX:15840591:15845378:clu\\_47313\\_-    & chrX:clu\\_47313\\_-  & UP & PR,UP & AP1S2    & ENSG00000182287.13 & -0.4672837 &  0.000000e+00 &  0.000000e+00 & -1.261800 &  8.905555e-64 &  2.626286e-63\\\\\n",
       "\\end{tabular}\n"
      ],
      "text/markdown": [
       "\n",
       "A data.table: 76 × 12\n",
       "\n",
       "| intron &lt;chr&gt; | cluster &lt;chr&gt; | itype &lt;chr&gt; | ctype &lt;chr&gt; | gene_name &lt;chr&gt; | gene_id &lt;chr&gt; | deltapsi &lt;dbl&gt; | p &lt;dbl&gt; | p.adjust &lt;dbl&gt; | log2FoldChange &lt;dbl&gt; | dge_p &lt;dbl&gt; | dge_padj &lt;dbl&gt; |\n",
       "|---|---|---|---|---|---|---|---|---|---|---|---|\n",
       "| chr1:6212903:6213065:clu_111_+       | chr1:clu_111_+   | UP | PR,UP | RNF207  | ENSG00000158286.12 |  0.7185528 |  1.446719e-43 |  1.414418e-42 |  1.766427 |  1.430305e-50 |  3.664874e-50 |\n",
       "| chr1:15651895:15656420:clu_261_+     | chr1:clu_261_+   | UP | PR,UP | DDI2    | ENSG00000197312.11 | -0.4980695 |  8.067068e-17 |  3.546202e-16 | -2.509378 | 1.466086e-259 | 1.525591e-258 |\n",
       "| chr1:43583093:43588730:clu_690_+     | chr1:clu_690_+   | UP | PR,UP | PTPRF   | ENSG00000142949.16 | -0.3574384 |  1.787567e-24 |  1.032042e-23 |  3.701421 | 5.925958e-171 | 3.860454e-170 |\n",
       "| chr1:109485509:109486056:clu_1179_+  | chr1:clu_1179_+  | UP | PR,UP | ATXN7L2 | ENSG00000162650.16 | -0.3559785 |  5.613616e-20 |  2.780204e-19 | -1.245866 |  3.844560e-38 |  8.511333e-38 |\n",
       "| chr1:109621266:109625661:clu_1187_+  | chr1:clu_1187_+  | UP | PR,UP | AMPD2   | ENSG00000116337.15 |  0.3965847 | 6.430093e-114 | 2.265287e-112 |  3.732341 |  0.000000e+00 |  0.000000e+00 |\n",
       "| chr1:151728463:151728765:clu_1455_+  | chr1:clu_1455_+  | UP | PR,UP | RIIAD1  | ENSG00000178796.12 | -0.4157512 |  1.047935e-90 |  2.596041e-89 |  3.300104 |  4.750008e-91 |  1.803052e-90 |\n",
       "| chr1:180073908:180075021:clu_1855_+  | chr1:clu_1855_+  | UP | PR,UP | CEP350  | ENSG00000135837.15 | -0.7107416 |  2.178390e-57 |  2.830769e-56 | -1.862379 | 9.326018e-129 | 4.643086e-128 |\n",
       "| chr1:31655502:31656097:clu_2854_-    | chr1:clu_2854_-  | UP | PR,UP | COL16A1 | ENSG00000084636.17 |  0.3513873 |  1.337340e-48 |  1.458874e-47 |  2.060926 |  1.897270e-78 |  6.426671e-78 |\n",
       "| chr1:66921401:66924661:clu_3262_-    | chr1:clu_3262_-  | UP | PR,UP | WDR78   | ENSG00000152763.16 | -0.5675298 |  1.084076e-20 |  5.498192e-20 |  1.619790 | 6.253355e-117 | 2.880485e-116 |\n",
       "| chr1:113700243:113700793:clu_3531_-  | chr1:clu_3531_-  | UP | PR,UP | PHTF1   | ENSG00000116793.15 | -0.3926263 |  7.493384e-29 |  4.979307e-28 |  1.430844 |  3.361694e-54 |  8.969951e-54 |\n",
       "| chr1:223802344:223802428:clu_4376_-  | chr1:clu_4376_-  | UP | PR,UP | TP53BP2 | ENSG00000143514.16 |  0.4312962 |  1.422730e-87 |  3.341467e-86 |  1.573735 |  1.728222e-83 |  6.144499e-83 |\n",
       "| chr2:42709014:42718987:clu_4862_+    | chr2:clu_4862_+  | UP | PR,UP | MTA3    | ENSG00000057935.13 | -0.5818017 |  2.198723e-56 |  2.803006e-55 |  2.368540 |  0.000000e+00 |  0.000000e+00 |\n",
       "| chr2:54964733:54966722:clu_4946_+    | chr2:clu_4946_+  | UP | PR,UP | EML6    | ENSG00000214595.11 | -0.4565634 |  1.005086e-27 |  6.424700e-27 |  1.712118 |  6.639257e-21 |  1.143939e-20 |\n",
       "| chr2:56342955:56384265:clu_4955_+    | chr2:clu_4955_+  | UP | PR,UP | CCDC85A | ENSG00000055813.5  | -0.7925179 | 4.519771e-107 | 1.426596e-105 |  2.130281 | 9.287196e-122 | 4.410693e-121 |\n",
       "| chr2:131035288:131038852:clu_5509_+  | chr2:clu_5509_+  | UP | PR,UP | ARHGEF4 | ENSG00000136002.18 | -0.4032690 |  1.161837e-62 |  1.683987e-61 |  4.886374 |  0.000000e+00 |  0.000000e+00 |\n",
       "| chr2:233419421:233434379:clu_6268_+  | chr2:clu_6268_+  | UP | PR,UP | DGKD    | ENSG00000077044.10 | -0.7036405 | 5.071091e-117 | 1.885324e-115 | -2.685104 | 1.713992e-172 | 1.126505e-171 |\n",
       "| chr2:238163999:238164269:clu_6328_+  | chr2:clu_6328_+  | UP | PR,UP | ERFE    | ENSG00000178752.15 |  0.5871435 |  4.162363e-47 |  4.394155e-46 | -2.844885 |  9.317076e-40 |  2.107032e-39 |\n",
       "| chr2:241035675:241036789:clu_6355_+  | chr2:clu_6355_+  | UP | PR,UP | SNED1   | ENSG00000162804.13 |  0.3496512 |  8.390165e-40 |  7.444887e-39 | -1.456367 |  2.670660e-48 |  6.679618e-48 |\n",
       "| chr2:101188123:101188233:clu_7180_-  | chr2:clu_7180_-  | UP | PR,UP | TBC1D8  | ENSG00000204634.12 |  0.3960292 |  2.275164e-67 |  3.613530e-66 | -3.960348 | 2.691296e-222 | 2.335496e-221 |\n",
       "| chr2:217849087:217858491:clu_7862_-  | chr2:clu_7862_-  | UP | PR,UP | TNS1    | ENSG00000079308.16 | -0.5931597 |  2.502560e-71 |  4.295629e-70 | -3.221612 | 1.656677e-206 | 1.319070e-205 |\n",
       "| chr2:241108300:241108466:clu_8068_-  | chr2:clu_8068_-  | UP | PR,UP | PASK    | ENSG00000115687.13 | -0.3140136 |  2.502695e-35 |  1.985551e-34 |  2.668196 | 2.647844e-185 | 1.867423e-184 |\n",
       "| chr3:12148691:12151236:clu_8208_+    | chr3:clu_8208_+  | UP | PR,UP | SYN2    | ENSG00000157152.16 | -0.9194806 |  8.500784e-49 |  9.281453e-48 |  5.679330 |  0.000000e+00 |  0.000000e+00 |\n",
       "| chr3:148856788:148857456:clu_9117_+  | chr3:clu_9117_+  | UP | PR,UP | CPB1    | ENSG00000153002.11 | -0.4085138 |  1.543156e-14 |  6.106822e-14 | -1.452101 |  9.633461e-06 |  1.215352e-05 |\n",
       "| chr3:152299254:152299404:clu_9152_+  | chr3:clu_9152_+  | UP | PR,UP | MBNL1   | ENSG00000152601.17 | -0.4182497 |  9.768167e-33 |  7.217880e-32 | -3.206711 |  0.000000e+00 |  0.000000e+00 |\n",
       "| chr3:12941865:12995023:clu_9543_-    | chr3:clu_9543_-  | UP | PR,UP | IQSEC1  | ENSG00000144711.13 |  0.3209242 |  1.239596e-14 |  4.936946e-14 |  2.164799 | 4.401591e-158 | 2.675394e-157 |\n",
       "| chr3:14503953:14505614:clu_9551_-    | chr3:clu_9551_-  | UP | PR,UP | GRIP2   | ENSG00000144596.12 | -0.3292909 |  1.216471e-26 |  7.530131e-26 | -1.674324 |  1.204937e-35 |  2.581837e-35 |\n",
       "| chr3:42713316:42732886:clu_9726_-    | chr3:clu_9726_-  | UP | PR,UP | CCDC13  | ENSG00000244607.5  |  0.4761473 |  1.463815e-10 |  4.746805e-10 |  1.480981 |  1.040850e-32 |  2.145307e-32 |\n",
       "| chr3:53243622:53255835:clu_10004_-   | chr3:clu_10004_- | UP | PR,UP | TKT     | ENSG00000163931.15 | -0.3045772 | 7.070183e-130 | 3.174180e-128 |  2.451944 | 1.704663e-208 | 1.371204e-207 |\n",
       "| chr3:183231212:183276871:clu_10749_- | chr3:clu_10749_- | UP | PR,UP | MCF2L2  | ENSG00000053524.12 | -0.3227714 |  1.606374e-40 |  1.453920e-39 |  5.841294 |  0.000000e+00 |  0.000000e+00 |\n",
       "| chr3:197748445:197749268:clu_10935_- | chr3:clu_10935_- | UP | PR,UP | RUBCN   | ENSG00000145016.15 | -0.3896103 |  9.637546e-56 |  1.216160e-54 |  1.298379 | 2.943880e-140 | 1.590211e-139 |\n",
       "| ⋮ | ⋮ | ⋮ | ⋮ | ⋮ | ⋮ | ⋮ | ⋮ | ⋮ | ⋮ | ⋮ | ⋮ |\n",
       "| chr10:26734723:26735239:clu_23110_+   | chr10:clu_23110_+ | UP | PR,UP | PDSS1    | ENSG00000148459.15 |  0.3919310 |  7.588810e-44 |  7.481128e-43 | -1.161600 |  1.960016e-52 |  5.130391e-52 |\n",
       "| chr10:124605515:124613263:clu_23762_+ | chr10:clu_23762_+ | UP | PR,UP | LHPP     | ENSG00000107902.13 |  0.3789529 |  1.318091e-33 |  9.979774e-33 |  3.001612 | 2.678336e-211 | 2.180172e-210 |\n",
       "| chr11:12862314:12864685:clu_24944_+   | chr11:clu_24944_+ | UP | PR,UP | TEAD1    | ENSG00000187079.16 | -0.5963854 |  9.192192e-37 |  7.590578e-36 | -3.193505 |  0.000000e+00 |  0.000000e+00 |\n",
       "| chr12:6830770:6830869:clu_27604_+     | chr12:clu_27604_+ | UP | PR,UP | P3H3     | ENSG00000110811.19 |  0.4563334 | 2.905148e-148 | 1.696170e-146 |  2.120731 | 1.114787e-123 | 5.353337e-123 |\n",
       "| chr12:6831033:6831215:clu_27604_+     | chr12:clu_27604_+ | UP | PR,UP | P3H3     | ENSG00000110811.19 |  0.4766943 | 2.905148e-148 | 1.696170e-146 |  2.120731 | 1.114787e-123 | 5.353337e-123 |\n",
       "| chr12:131845449:131849938:clu_28790_+ | chr12:clu_28790_+ | UP | PR,UP | MMP17    | ENSG00000198598.6  | -0.3148093 |  4.473595e-14 |  1.727752e-13 |  5.209661 |  0.000000e+00 |  0.000000e+00 |\n",
       "| chr12:50201324:50204551:clu_29357_-   | chr12:clu_29357_- | UP | PR,UP | LIMA1    | ENSG00000050405.13 | -0.4720100 |  1.856073e-57 |  2.416976e-56 | -1.168673 |  4.437660e-38 |  9.819334e-38 |\n",
       "| chr12:118235671:118235794:clu_30050_- | chr12:clu_30050_- | UP | PR,UP | TAOK3    | ENSG00000135090.13 |  0.4152363 | 6.070144e-100 |  1.725447e-98 |  1.188090 |  2.158046e-99 |  8.761219e-99 |\n",
       "| chr13:110893263:110900529:clu_30970_- | chr13:clu_30970_- | UP | PR,UP | ANKRD10  | ENSG00000088448.14 |  0.4119932 |  6.278220e-90 |  1.529401e-88 | -1.573181 | 9.327832e-125 | 4.514531e-124 |\n",
       "| chr14:23565701:23566063:clu_31963_-   | chr14:clu_31963_- | UP | PR,UP | AP1G2    | ENSG00000213983.11 |  0.6741990 |  7.910868e-98 |  2.181365e-96 |  3.773681 |  0.000000e+00 |  0.000000e+00 |\n",
       "| chr15:42276410:42278024:clu_32851_+   | chr15:clu_32851_+ | UP | PR,UP | GANC     | ENSG00000214013.9  |  0.3059517 |  3.148833e-54 |  3.844760e-53 | -1.604013 | 1.707443e-105 | 7.245709e-105 |\n",
       "| chr16:1745103:1747028:clu_34607_+     | chr16:clu_34607_+ | UP | PR,UP | MAPK8IP3 | ENSG00000138834.12 | -0.6286815 |  1.498295e-59 |  2.040832e-58 |  2.409699 |  0.000000e+00 |  0.000000e+00 |\n",
       "| chr16:8629110:8635167:clu_34771_+     | chr16:clu_34771_+ | UP | PR,UP | METTL22  | ENSG00000067365.14 |  0.3626871 | 1.684488e-135 | 8.263627e-134 | -2.068522 | 2.027310e-275 | 2.300197e-274 |\n",
       "| chr16:22854781:22914943:clu_34952_+   | chr16:clu_34952_+ | UP | PR,UP | HS3ST2   | ENSG00000122254.6  | -0.3063183 |  2.641617e-08 |  7.408084e-08 |  4.969614 | 1.003582e-121 | 4.762732e-121 |\n",
       "| chr16:23562730:23564038:clu_34960_+   | chr16:clu_34960_+ | UP | PR,UP | UBFD1    | ENSG00000103353.15 | -0.3480821 |  2.841152e-88 |  6.762214e-87 | -2.106924 | 1.172839e-205 | 9.301097e-205 |\n",
       "| chr16:66963084:66963178:clu_35373_+   | chr16:clu_35373_+ | UP | PR,UP | CES3     | ENSG00000172828.12 |  0.4258275 |  2.003805e-50 |  2.280945e-49 | -3.178171 |  0.000000e+00 |  0.000000e+00 |\n",
       "| chr16:78109835:78111819:clu_35567_+   | chr16:clu_35567_+ | UP | PR,UP | WWOX     | ENSG00000186153.16 | -0.3106447 |  3.125758e-87 |  7.293045e-86 |  2.433935 | 9.406926e-265 | 1.005154e-263 |\n",
       "| chr16:48085706:48086191:clu_36314_-   | chr16:clu_36314_- | UP | PR,UP | ABCC12   | ENSG00000140798.15 | -0.8891784 | 9.062515e-107 | 2.842407e-105 |  2.625395 |  1.323377e-30 |  2.655891e-30 |\n",
       "| chr16:67236434:67236556:clu_36495_-   | chr16:clu_36495_- | UP | PR,UP | FHOD1    | ENSG00000135723.13 | -0.5110055 | 9.873681e-111 | 3.323115e-109 | -4.121374 |  0.000000e+00 |  0.000000e+00 |\n",
       "| chr17:32035639:32047760:clu_37360_+   | chr17:clu_37360_+ | UP | PR,UP | LRRC37B  | ENSG00000185158.12 | -0.4857374 | 1.056884e-131 | 4.867929e-130 |  1.414836 | 2.909165e-134 | 1.503941e-133 |\n",
       "| chr17:76538507:76540504:clu_38111_+   | chr17:clu_38111_+ | UP | PR,UP | PRCD     | ENSG00000214140.10 | -0.4541889 |  9.738561e-20 |  4.781237e-19 |  1.259635 |  3.962572e-43 |  9.320584e-43 |\n",
       "| chr17:76545636:76553108:clu_38112_+   | chr17:clu_38112_+ | UP | PR,UP | PRCD     | ENSG00000214140.10 |  0.3106905 |  2.404378e-30 |  1.663006e-29 |  1.259635 |  3.962572e-43 |  9.320584e-43 |\n",
       "| chr17:29617042:29617241:clu_38861_-   | chr17:clu_38861_- | UP | PR,UP | CORO6    | ENSG00000167549.18 |  0.5553389 | 1.792202e-100 |  5.117754e-99 | -2.823690 |  0.000000e+00 |  0.000000e+00 |\n",
       "| chr17:43816079:43818045:clu_39147_-   | chr17:clu_39147_- | UP | PR,UP | MPP3     | ENSG00000161647.18 | -0.8651043 |  1.467484e-70 |  2.479570e-69 |  1.313712 |  5.653551e-38 |  1.247881e-37 |\n",
       "| chr18:77066385:77087345:clu_40712_-   | chr18:clu_40712_- | UP | PR,UP | MBP      | ENSG00000197971.14 |  0.3537032 |  9.779230e-36 |  7.835986e-35 |  5.370053 | 2.281303e-215 | 1.902483e-214 |\n",
       "| chr19:35784317:35784494:clu_41528_+   | chr19:clu_41528_+ | UP | PR,UP | ARHGAP33 | ENSG00000004777.18 | -0.5611789 |  2.453378e-56 |  3.124445e-55 |  3.734450 |  0.000000e+00 |  0.000000e+00 |\n",
       "| chr21:46348325:46349011:clu_45147_+   | chr21:clu_45147_+ | UP | PR,UP | PCNT     | ENSG00000160299.16 | -0.8911860 |  1.234434e-89 |  2.995399e-88 | -3.723203 |  0.000000e+00 |  0.000000e+00 |\n",
       "| chr22:43937272:43939335:clu_45897_+   | chr22:clu_45897_+ | UP | PR,UP | PNPLA3   | ENSG00000100344.10 | -0.5560683 |  9.077510e-24 |  5.120795e-23 | -1.579530 |  2.900662e-13 |  4.355287e-13 |\n",
       "| chrX:15827372:15840496:clu_47313_-    | chrX:clu_47313_-  | UP | PR,UP | AP1S2    | ENSG00000182287.13 | -0.4621030 |  0.000000e+00 |  0.000000e+00 | -1.261800 |  8.905555e-64 |  2.626286e-63 |\n",
       "| chrX:15840591:15845378:clu_47313_-    | chrX:clu_47313_-  | UP | PR,UP | AP1S2    | ENSG00000182287.13 | -0.4672837 |  0.000000e+00 |  0.000000e+00 | -1.261800 |  8.905555e-64 |  2.626286e-63 |\n",
       "\n"
      ],
      "text/plain": [
       "   intron                                cluster           itype ctype\n",
       "1  chr1:6212903:6213065:clu_111_+        chr1:clu_111_+    UP    PR,UP\n",
       "2  chr1:15651895:15656420:clu_261_+      chr1:clu_261_+    UP    PR,UP\n",
       "3  chr1:43583093:43588730:clu_690_+      chr1:clu_690_+    UP    PR,UP\n",
       "4  chr1:109485509:109486056:clu_1179_+   chr1:clu_1179_+   UP    PR,UP\n",
       "5  chr1:109621266:109625661:clu_1187_+   chr1:clu_1187_+   UP    PR,UP\n",
       "6  chr1:151728463:151728765:clu_1455_+   chr1:clu_1455_+   UP    PR,UP\n",
       "7  chr1:180073908:180075021:clu_1855_+   chr1:clu_1855_+   UP    PR,UP\n",
       "8  chr1:31655502:31656097:clu_2854_-     chr1:clu_2854_-   UP    PR,UP\n",
       "9  chr1:66921401:66924661:clu_3262_-     chr1:clu_3262_-   UP    PR,UP\n",
       "10 chr1:113700243:113700793:clu_3531_-   chr1:clu_3531_-   UP    PR,UP\n",
       "11 chr1:223802344:223802428:clu_4376_-   chr1:clu_4376_-   UP    PR,UP\n",
       "12 chr2:42709014:42718987:clu_4862_+     chr2:clu_4862_+   UP    PR,UP\n",
       "13 chr2:54964733:54966722:clu_4946_+     chr2:clu_4946_+   UP    PR,UP\n",
       "14 chr2:56342955:56384265:clu_4955_+     chr2:clu_4955_+   UP    PR,UP\n",
       "15 chr2:131035288:131038852:clu_5509_+   chr2:clu_5509_+   UP    PR,UP\n",
       "16 chr2:233419421:233434379:clu_6268_+   chr2:clu_6268_+   UP    PR,UP\n",
       "17 chr2:238163999:238164269:clu_6328_+   chr2:clu_6328_+   UP    PR,UP\n",
       "18 chr2:241035675:241036789:clu_6355_+   chr2:clu_6355_+   UP    PR,UP\n",
       "19 chr2:101188123:101188233:clu_7180_-   chr2:clu_7180_-   UP    PR,UP\n",
       "20 chr2:217849087:217858491:clu_7862_-   chr2:clu_7862_-   UP    PR,UP\n",
       "21 chr2:241108300:241108466:clu_8068_-   chr2:clu_8068_-   UP    PR,UP\n",
       "22 chr3:12148691:12151236:clu_8208_+     chr3:clu_8208_+   UP    PR,UP\n",
       "23 chr3:148856788:148857456:clu_9117_+   chr3:clu_9117_+   UP    PR,UP\n",
       "24 chr3:152299254:152299404:clu_9152_+   chr3:clu_9152_+   UP    PR,UP\n",
       "25 chr3:12941865:12995023:clu_9543_-     chr3:clu_9543_-   UP    PR,UP\n",
       "26 chr3:14503953:14505614:clu_9551_-     chr3:clu_9551_-   UP    PR,UP\n",
       "27 chr3:42713316:42732886:clu_9726_-     chr3:clu_9726_-   UP    PR,UP\n",
       "28 chr3:53243622:53255835:clu_10004_-    chr3:clu_10004_-  UP    PR,UP\n",
       "29 chr3:183231212:183276871:clu_10749_-  chr3:clu_10749_-  UP    PR,UP\n",
       "30 chr3:197748445:197749268:clu_10935_-  chr3:clu_10935_-  UP    PR,UP\n",
       "⋮  ⋮                                     ⋮                 ⋮     ⋮    \n",
       "47 chr10:26734723:26735239:clu_23110_+   chr10:clu_23110_+ UP    PR,UP\n",
       "48 chr10:124605515:124613263:clu_23762_+ chr10:clu_23762_+ UP    PR,UP\n",
       "49 chr11:12862314:12864685:clu_24944_+   chr11:clu_24944_+ UP    PR,UP\n",
       "50 chr12:6830770:6830869:clu_27604_+     chr12:clu_27604_+ UP    PR,UP\n",
       "51 chr12:6831033:6831215:clu_27604_+     chr12:clu_27604_+ UP    PR,UP\n",
       "52 chr12:131845449:131849938:clu_28790_+ chr12:clu_28790_+ UP    PR,UP\n",
       "53 chr12:50201324:50204551:clu_29357_-   chr12:clu_29357_- UP    PR,UP\n",
       "54 chr12:118235671:118235794:clu_30050_- chr12:clu_30050_- UP    PR,UP\n",
       "55 chr13:110893263:110900529:clu_30970_- chr13:clu_30970_- UP    PR,UP\n",
       "56 chr14:23565701:23566063:clu_31963_-   chr14:clu_31963_- UP    PR,UP\n",
       "57 chr15:42276410:42278024:clu_32851_+   chr15:clu_32851_+ UP    PR,UP\n",
       "58 chr16:1745103:1747028:clu_34607_+     chr16:clu_34607_+ UP    PR,UP\n",
       "59 chr16:8629110:8635167:clu_34771_+     chr16:clu_34771_+ UP    PR,UP\n",
       "60 chr16:22854781:22914943:clu_34952_+   chr16:clu_34952_+ UP    PR,UP\n",
       "61 chr16:23562730:23564038:clu_34960_+   chr16:clu_34960_+ UP    PR,UP\n",
       "62 chr16:66963084:66963178:clu_35373_+   chr16:clu_35373_+ UP    PR,UP\n",
       "63 chr16:78109835:78111819:clu_35567_+   chr16:clu_35567_+ UP    PR,UP\n",
       "64 chr16:48085706:48086191:clu_36314_-   chr16:clu_36314_- UP    PR,UP\n",
       "65 chr16:67236434:67236556:clu_36495_-   chr16:clu_36495_- UP    PR,UP\n",
       "66 chr17:32035639:32047760:clu_37360_+   chr17:clu_37360_+ UP    PR,UP\n",
       "67 chr17:76538507:76540504:clu_38111_+   chr17:clu_38111_+ UP    PR,UP\n",
       "68 chr17:76545636:76553108:clu_38112_+   chr17:clu_38112_+ UP    PR,UP\n",
       "69 chr17:29617042:29617241:clu_38861_-   chr17:clu_38861_- UP    PR,UP\n",
       "70 chr17:43816079:43818045:clu_39147_-   chr17:clu_39147_- UP    PR,UP\n",
       "71 chr18:77066385:77087345:clu_40712_-   chr18:clu_40712_- UP    PR,UP\n",
       "72 chr19:35784317:35784494:clu_41528_+   chr19:clu_41528_+ UP    PR,UP\n",
       "73 chr21:46348325:46349011:clu_45147_+   chr21:clu_45147_+ UP    PR,UP\n",
       "74 chr22:43937272:43939335:clu_45897_+   chr22:clu_45897_+ UP    PR,UP\n",
       "75 chrX:15827372:15840496:clu_47313_-    chrX:clu_47313_-  UP    PR,UP\n",
       "76 chrX:15840591:15845378:clu_47313_-    chrX:clu_47313_-  UP    PR,UP\n",
       "   gene_name gene_id            deltapsi   p             p.adjust     \n",
       "1  RNF207    ENSG00000158286.12  0.7185528  1.446719e-43  1.414418e-42\n",
       "2  DDI2      ENSG00000197312.11 -0.4980695  8.067068e-17  3.546202e-16\n",
       "3  PTPRF     ENSG00000142949.16 -0.3574384  1.787567e-24  1.032042e-23\n",
       "4  ATXN7L2   ENSG00000162650.16 -0.3559785  5.613616e-20  2.780204e-19\n",
       "5  AMPD2     ENSG00000116337.15  0.3965847 6.430093e-114 2.265287e-112\n",
       "6  RIIAD1    ENSG00000178796.12 -0.4157512  1.047935e-90  2.596041e-89\n",
       "7  CEP350    ENSG00000135837.15 -0.7107416  2.178390e-57  2.830769e-56\n",
       "8  COL16A1   ENSG00000084636.17  0.3513873  1.337340e-48  1.458874e-47\n",
       "9  WDR78     ENSG00000152763.16 -0.5675298  1.084076e-20  5.498192e-20\n",
       "10 PHTF1     ENSG00000116793.15 -0.3926263  7.493384e-29  4.979307e-28\n",
       "11 TP53BP2   ENSG00000143514.16  0.4312962  1.422730e-87  3.341467e-86\n",
       "12 MTA3      ENSG00000057935.13 -0.5818017  2.198723e-56  2.803006e-55\n",
       "13 EML6      ENSG00000214595.11 -0.4565634  1.005086e-27  6.424700e-27\n",
       "14 CCDC85A   ENSG00000055813.5  -0.7925179 4.519771e-107 1.426596e-105\n",
       "15 ARHGEF4   ENSG00000136002.18 -0.4032690  1.161837e-62  1.683987e-61\n",
       "16 DGKD      ENSG00000077044.10 -0.7036405 5.071091e-117 1.885324e-115\n",
       "17 ERFE      ENSG00000178752.15  0.5871435  4.162363e-47  4.394155e-46\n",
       "18 SNED1     ENSG00000162804.13  0.3496512  8.390165e-40  7.444887e-39\n",
       "19 TBC1D8    ENSG00000204634.12  0.3960292  2.275164e-67  3.613530e-66\n",
       "20 TNS1      ENSG00000079308.16 -0.5931597  2.502560e-71  4.295629e-70\n",
       "21 PASK      ENSG00000115687.13 -0.3140136  2.502695e-35  1.985551e-34\n",
       "22 SYN2      ENSG00000157152.16 -0.9194806  8.500784e-49  9.281453e-48\n",
       "23 CPB1      ENSG00000153002.11 -0.4085138  1.543156e-14  6.106822e-14\n",
       "24 MBNL1     ENSG00000152601.17 -0.4182497  9.768167e-33  7.217880e-32\n",
       "25 IQSEC1    ENSG00000144711.13  0.3209242  1.239596e-14  4.936946e-14\n",
       "26 GRIP2     ENSG00000144596.12 -0.3292909  1.216471e-26  7.530131e-26\n",
       "27 CCDC13    ENSG00000244607.5   0.4761473  1.463815e-10  4.746805e-10\n",
       "28 TKT       ENSG00000163931.15 -0.3045772 7.070183e-130 3.174180e-128\n",
       "29 MCF2L2    ENSG00000053524.12 -0.3227714  1.606374e-40  1.453920e-39\n",
       "30 RUBCN     ENSG00000145016.15 -0.3896103  9.637546e-56  1.216160e-54\n",
       "⋮  ⋮         ⋮                  ⋮          ⋮             ⋮            \n",
       "47 PDSS1     ENSG00000148459.15  0.3919310  7.588810e-44  7.481128e-43\n",
       "48 LHPP      ENSG00000107902.13  0.3789529  1.318091e-33  9.979774e-33\n",
       "49 TEAD1     ENSG00000187079.16 -0.5963854  9.192192e-37  7.590578e-36\n",
       "50 P3H3      ENSG00000110811.19  0.4563334 2.905148e-148 1.696170e-146\n",
       "51 P3H3      ENSG00000110811.19  0.4766943 2.905148e-148 1.696170e-146\n",
       "52 MMP17     ENSG00000198598.6  -0.3148093  4.473595e-14  1.727752e-13\n",
       "53 LIMA1     ENSG00000050405.13 -0.4720100  1.856073e-57  2.416976e-56\n",
       "54 TAOK3     ENSG00000135090.13  0.4152363 6.070144e-100  1.725447e-98\n",
       "55 ANKRD10   ENSG00000088448.14  0.4119932  6.278220e-90  1.529401e-88\n",
       "56 AP1G2     ENSG00000213983.11  0.6741990  7.910868e-98  2.181365e-96\n",
       "57 GANC      ENSG00000214013.9   0.3059517  3.148833e-54  3.844760e-53\n",
       "58 MAPK8IP3  ENSG00000138834.12 -0.6286815  1.498295e-59  2.040832e-58\n",
       "59 METTL22   ENSG00000067365.14  0.3626871 1.684488e-135 8.263627e-134\n",
       "60 HS3ST2    ENSG00000122254.6  -0.3063183  2.641617e-08  7.408084e-08\n",
       "61 UBFD1     ENSG00000103353.15 -0.3480821  2.841152e-88  6.762214e-87\n",
       "62 CES3      ENSG00000172828.12  0.4258275  2.003805e-50  2.280945e-49\n",
       "63 WWOX      ENSG00000186153.16 -0.3106447  3.125758e-87  7.293045e-86\n",
       "64 ABCC12    ENSG00000140798.15 -0.8891784 9.062515e-107 2.842407e-105\n",
       "65 FHOD1     ENSG00000135723.13 -0.5110055 9.873681e-111 3.323115e-109\n",
       "66 LRRC37B   ENSG00000185158.12 -0.4857374 1.056884e-131 4.867929e-130\n",
       "67 PRCD      ENSG00000214140.10 -0.4541889  9.738561e-20  4.781237e-19\n",
       "68 PRCD      ENSG00000214140.10  0.3106905  2.404378e-30  1.663006e-29\n",
       "69 CORO6     ENSG00000167549.18  0.5553389 1.792202e-100  5.117754e-99\n",
       "70 MPP3      ENSG00000161647.18 -0.8651043  1.467484e-70  2.479570e-69\n",
       "71 MBP       ENSG00000197971.14  0.3537032  9.779230e-36  7.835986e-35\n",
       "72 ARHGAP33  ENSG00000004777.18 -0.5611789  2.453378e-56  3.124445e-55\n",
       "73 PCNT      ENSG00000160299.16 -0.8911860  1.234434e-89  2.995399e-88\n",
       "74 PNPLA3    ENSG00000100344.10 -0.5560683  9.077510e-24  5.120795e-23\n",
       "75 AP1S2     ENSG00000182287.13 -0.4621030  0.000000e+00  0.000000e+00\n",
       "76 AP1S2     ENSG00000182287.13 -0.4672837  0.000000e+00  0.000000e+00\n",
       "   log2FoldChange dge_p         dge_padj     \n",
       "1   1.766427       1.430305e-50  3.664874e-50\n",
       "2  -2.509378      1.466086e-259 1.525591e-258\n",
       "3   3.701421      5.925958e-171 3.860454e-170\n",
       "4  -1.245866       3.844560e-38  8.511333e-38\n",
       "5   3.732341       0.000000e+00  0.000000e+00\n",
       "6   3.300104       4.750008e-91  1.803052e-90\n",
       "7  -1.862379      9.326018e-129 4.643086e-128\n",
       "8   2.060926       1.897270e-78  6.426671e-78\n",
       "9   1.619790      6.253355e-117 2.880485e-116\n",
       "10  1.430844       3.361694e-54  8.969951e-54\n",
       "11  1.573735       1.728222e-83  6.144499e-83\n",
       "12  2.368540       0.000000e+00  0.000000e+00\n",
       "13  1.712118       6.639257e-21  1.143939e-20\n",
       "14  2.130281      9.287196e-122 4.410693e-121\n",
       "15  4.886374       0.000000e+00  0.000000e+00\n",
       "16 -2.685104      1.713992e-172 1.126505e-171\n",
       "17 -2.844885       9.317076e-40  2.107032e-39\n",
       "18 -1.456367       2.670660e-48  6.679618e-48\n",
       "19 -3.960348      2.691296e-222 2.335496e-221\n",
       "20 -3.221612      1.656677e-206 1.319070e-205\n",
       "21  2.668196      2.647844e-185 1.867423e-184\n",
       "22  5.679330       0.000000e+00  0.000000e+00\n",
       "23 -1.452101       9.633461e-06  1.215352e-05\n",
       "24 -3.206711       0.000000e+00  0.000000e+00\n",
       "25  2.164799      4.401591e-158 2.675394e-157\n",
       "26 -1.674324       1.204937e-35  2.581837e-35\n",
       "27  1.480981       1.040850e-32  2.145307e-32\n",
       "28  2.451944      1.704663e-208 1.371204e-207\n",
       "29  5.841294       0.000000e+00  0.000000e+00\n",
       "30  1.298379      2.943880e-140 1.590211e-139\n",
       "⋮  ⋮              ⋮             ⋮            \n",
       "47 -1.161600       1.960016e-52  5.130391e-52\n",
       "48  3.001612      2.678336e-211 2.180172e-210\n",
       "49 -3.193505       0.000000e+00  0.000000e+00\n",
       "50  2.120731      1.114787e-123 5.353337e-123\n",
       "51  2.120731      1.114787e-123 5.353337e-123\n",
       "52  5.209661       0.000000e+00  0.000000e+00\n",
       "53 -1.168673       4.437660e-38  9.819334e-38\n",
       "54  1.188090       2.158046e-99  8.761219e-99\n",
       "55 -1.573181      9.327832e-125 4.514531e-124\n",
       "56  3.773681       0.000000e+00  0.000000e+00\n",
       "57 -1.604013      1.707443e-105 7.245709e-105\n",
       "58  2.409699       0.000000e+00  0.000000e+00\n",
       "59 -2.068522      2.027310e-275 2.300197e-274\n",
       "60  4.969614      1.003582e-121 4.762732e-121\n",
       "61 -2.106924      1.172839e-205 9.301097e-205\n",
       "62 -3.178171       0.000000e+00  0.000000e+00\n",
       "63  2.433935      9.406926e-265 1.005154e-263\n",
       "64  2.625395       1.323377e-30  2.655891e-30\n",
       "65 -4.121374       0.000000e+00  0.000000e+00\n",
       "66  1.414836      2.909165e-134 1.503941e-133\n",
       "67  1.259635       3.962572e-43  9.320584e-43\n",
       "68  1.259635       3.962572e-43  9.320584e-43\n",
       "69 -2.823690       0.000000e+00  0.000000e+00\n",
       "70  1.313712       5.653551e-38  1.247881e-37\n",
       "71  5.370053      2.281303e-215 1.902483e-214\n",
       "72  3.734450       0.000000e+00  0.000000e+00\n",
       "73 -3.723203       0.000000e+00  0.000000e+00\n",
       "74 -1.579530       2.900662e-13  4.355287e-13\n",
       "75 -1.261800       8.905555e-64  2.626286e-63\n",
       "76 -1.261800       8.905555e-64  2.626286e-63"
      ]
     },
     "metadata": {},
     "output_type": "display_data"
    }
   ],
   "source": [
    "inner_join(\n",
    "  x = ds[ctype == 'PR,UP' & itype == 'UP', -c(7:9, 11:13)],\n",
    "  y = dge[, .(gene_id, log2FoldChange, dge_p = pvalue, dge_padj = padj)],\n",
    "  by = 'gene_id'\n",
    ") %>% \n",
    ".[`p.adjust` < 1e-5 & abs(deltapsi) > .3 & abs(log2FoldChange) > 1 & dge_padj < 1e-3]"
   ]
  },
  {
   "cell_type": "code",
   "execution_count": 17,
   "metadata": {
    "vscode": {
     "languageId": "r"
    }
   },
   "outputs": [],
   "source": [
    "inner_join(\n",
    "  x = ds[ctype == 'PR,UP' & itype == 'UP', -c(7:9, 11:13)],\n",
    "  y = dge[, .(gene_id, log2FoldChange, dge_p = pvalue, dge_padj = padj)],\n",
    "  by = 'gene_id'\n",
    ") %>% \n",
    ".[`p.adjust` < 1e-5 & abs(deltapsi) > .3 & abs(log2FoldChange) > 1 & dge_padj < 1e-3] %>% \n",
    ".[, intron] %>% writeLines('2024-04-09-prep-sashimi-intronsList-toPlot.txt')"
   ]
  },
  {
   "cell_type": "markdown",
   "metadata": {
    "vscode": {
     "languageId": "r"
    }
   },
   "source": [
    "## Bam files"
   ]
  },
  {
   "cell_type": "code",
   "execution_count": 22,
   "metadata": {
    "vscode": {
     "languageId": "r"
    }
   },
   "outputs": [
    {
     "data": {
      "text/html": [
       "<style>\n",
       ".list-inline {list-style: none; margin:0; padding: 0}\n",
       ".list-inline>li {display: inline-block}\n",
       ".list-inline>li:not(:last-child)::after {content: \"\\00b7\"; padding: 0 .5ex}\n",
       "</style>\n",
       "<ol class=list-inline><li>'Brain-Anteriorcingulatecortex_BA24_'</li><li>'Brain-Cortex'</li><li>'Brain-FrontalCortex_BA9_'</li><li>'Brain-Putamen_basalganglia_'</li><li>'Heart-AtrialAppendage'</li><li>'Liver'</li><li>'Lung'</li><li>'Muscle-Skeletal'</li><li>'Skin-NotSunExposed_Suprapubic_'</li><li>'WholeBlood'</li></ol>\n"
      ],
      "text/latex": [
       "\\begin{enumerate*}\n",
       "\\item 'Brain-Anteriorcingulatecortex\\_BA24\\_'\n",
       "\\item 'Brain-Cortex'\n",
       "\\item 'Brain-FrontalCortex\\_BA9\\_'\n",
       "\\item 'Brain-Putamen\\_basalganglia\\_'\n",
       "\\item 'Heart-AtrialAppendage'\n",
       "\\item 'Liver'\n",
       "\\item 'Lung'\n",
       "\\item 'Muscle-Skeletal'\n",
       "\\item 'Skin-NotSunExposed\\_Suprapubic\\_'\n",
       "\\item 'WholeBlood'\n",
       "\\end{enumerate*}\n"
      ],
      "text/markdown": [
       "1. 'Brain-Anteriorcingulatecortex_BA24_'\n",
       "2. 'Brain-Cortex'\n",
       "3. 'Brain-FrontalCortex_BA9_'\n",
       "4. 'Brain-Putamen_basalganglia_'\n",
       "5. 'Heart-AtrialAppendage'\n",
       "6. 'Liver'\n",
       "7. 'Lung'\n",
       "8. 'Muscle-Skeletal'\n",
       "9. 'Skin-NotSunExposed_Suprapubic_'\n",
       "10. 'WholeBlood'\n",
       "\n",
       "\n"
      ],
      "text/plain": [
       " [1] \"Brain-Anteriorcingulatecortex_BA24_\" \"Brain-Cortex\"                       \n",
       " [3] \"Brain-FrontalCortex_BA9_\"            \"Brain-Putamen_basalganglia_\"        \n",
       " [5] \"Heart-AtrialAppendage\"               \"Liver\"                              \n",
       " [7] \"Lung\"                                \"Muscle-Skeletal\"                    \n",
       " [9] \"Skin-NotSunExposed_Suprapubic_\"      \"WholeBlood\"                         "
      ]
     },
     "metadata": {},
     "output_type": "display_data"
    },
    {
     "data": {
      "text/html": [
       "<style>\n",
       ".list-inline {list-style: none; margin:0; padding: 0}\n",
       ".list-inline>li {display: inline-block}\n",
       ".list-inline>li:not(:last-child)::after {content: \"\\00b7\"; padding: 0 .5ex}\n",
       "</style>\n",
       "<ol class=list-inline><li>'GTEX-1117F-3226-SM-5N9CT.bw'</li><li>'GTEX-111FC-3126-SM-5GZZ2.bw'</li><li>'GTEX-1128S-2726-SM-5H12C.bw'</li><li>'GTEX-117XS-3026-SM-5N9CA.bw'</li><li>'GTEX-1192X-3126-SM-5N9BY.bw'</li><li>'GTEX-11DXW-1126-SM-5H12Q.bw'</li></ol>\n"
      ],
      "text/latex": [
       "\\begin{enumerate*}\n",
       "\\item 'GTEX-1117F-3226-SM-5N9CT.bw'\n",
       "\\item 'GTEX-111FC-3126-SM-5GZZ2.bw'\n",
       "\\item 'GTEX-1128S-2726-SM-5H12C.bw'\n",
       "\\item 'GTEX-117XS-3026-SM-5N9CA.bw'\n",
       "\\item 'GTEX-1192X-3126-SM-5N9BY.bw'\n",
       "\\item 'GTEX-11DXW-1126-SM-5H12Q.bw'\n",
       "\\end{enumerate*}\n"
      ],
      "text/markdown": [
       "1. 'GTEX-1117F-3226-SM-5N9CT.bw'\n",
       "2. 'GTEX-111FC-3126-SM-5GZZ2.bw'\n",
       "3. 'GTEX-1128S-2726-SM-5H12C.bw'\n",
       "4. 'GTEX-117XS-3026-SM-5N9CA.bw'\n",
       "5. 'GTEX-1192X-3126-SM-5N9BY.bw'\n",
       "6. 'GTEX-11DXW-1126-SM-5H12Q.bw'\n",
       "\n",
       "\n"
      ],
      "text/plain": [
       "[1] \"GTEX-1117F-3226-SM-5N9CT.bw\" \"GTEX-111FC-3126-SM-5GZZ2.bw\"\n",
       "[3] \"GTEX-1128S-2726-SM-5H12C.bw\" \"GTEX-117XS-3026-SM-5N9CA.bw\"\n",
       "[5] \"GTEX-1192X-3126-SM-5N9BY.bw\" \"GTEX-11DXW-1126-SM-5H12Q.bw\""
      ]
     },
     "metadata": {},
     "output_type": "display_data"
    },
    {
     "data": {
      "text/html": [
       "112"
      ],
      "text/latex": [
       "112"
      ],
      "text/markdown": [
       "112"
      ],
      "text/plain": [
       "[1] 112"
      ]
     },
     "metadata": {},
     "output_type": "display_data"
    }
   ],
   "source": [
    "dir('../code/resources/GTEx/BigWig')\n",
    "\n",
    "dir('../code/resources/GTEx/BigWig/Brain-Cortex', '*.bw')  %>% head()\n",
    "dir('../code/resources/GTEx/BigWig/Brain-Cortex', '*.bw')  %>% length()"
   ]
  },
  {
   "cell_type": "markdown",
   "metadata": {},
   "source": [
    "## count / PSI files"
   ]
  },
  {
   "cell_type": "code",
   "execution_count": 40,
   "metadata": {
    "vscode": {
     "languageId": "r"
    }
   },
   "outputs": [
    {
     "data": {
      "text/html": [
       "'leafcutter_perind.counts.noise_by_intron.gz'"
      ],
      "text/latex": [
       "'leafcutter\\_perind.counts.noise\\_by\\_intron.gz'"
      ],
      "text/markdown": [
       "'leafcutter_perind.counts.noise_by_intron.gz'"
      ],
      "text/plain": [
       "[1] \"leafcutter_perind.counts.noise_by_intron.gz\""
      ]
     },
     "metadata": {},
     "output_type": "display_data"
    },
    {
     "name": "stdout",
     "output_type": "stream",
     "text": [
      " [1] \"chrom GTEX-1117F.tsv.gz GTEX-111FC.tsv.gz GTEX-1128S.tsv.gz GTEX-117XS.tsv.gz\"\n",
      " [2] \"chr1:779092:803918:clu_1_+:IN 0/0 1/1 0/0 1/2\"                                \n",
      " [3] \"chr1:804222:804775:clu_2_+:IN 1/2 0/0 1/1 0/0\"                                \n",
      " [4] \"chr1:804222:807216:clu_2_+:IN 0/2 0/0 0/1 0/0\"                                \n",
      " [5] \"chr1:804966:807216:clu_2_+:IN 1/2 0/0 0/1 0/0\"                                \n",
      " [6] \"chr1:807323:809657:clu_3_+:IN 0/0 1/1 0/0 1/1\"                                \n",
      " [7] \"chr1:829104:841199:clu_4_+:IN 1/12 0/28 1/36 3/37\"                            \n",
      " [8] \"chr1:829104:847653:clu_4_+:IN 2/12 7/28 9/36 10/37\"                           \n",
      " [9] \"chr1:829104:851926:clu_4_+:IN 4/12 7/28 2/36 3/37\"                            \n",
      "[10] \"chr1:847806:849483:clu_4_+:IN 1/12 1/28 6/36 2/37\"                            \n"
     ]
    }
   ],
   "source": [
    "dir('../code/results/pheno/noisy/GTEx/Brain-Cortex') %>% .[str_detect(., 'leafcutter.+perind\\\\.counts\\\\.noise_by_intron*')]\n",
    "glue('zcat ../code/results/pheno/noisy/GTEx/Brain-Cortex/', 'leafcutter_perind.counts.noise_by_intron.gz', ' | head | cut -d \" \" -f 1-5 ') %>% \n",
    "  system(intern = T)  %>%\n",
    "  print"
   ]
  },
  {
   "cell_type": "code",
   "execution_count": null,
   "metadata": {
    "vscode": {
     "languageId": "r"
    }
   },
   "outputs": [],
   "source": []
  }
 ],
 "metadata": {
  "kernelspec": {
   "display_name": "R",
   "language": "R",
   "name": "ir"
  },
  "language_info": {
   "codemirror_mode": "r",
   "file_extension": ".r",
   "mimetype": "text/x-r-source",
   "name": "R",
   "pygments_lexer": "r",
   "version": "4.3.1"
  }
 },
 "nbformat": 4,
 "nbformat_minor": 4
}
