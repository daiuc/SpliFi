{
 "cells": [
  {
   "cell_type": "raw",
   "id": "4d8ac036",
   "metadata": {},
   "source": [
    "---\n",
    "title: \"GTEx unproductive splicing reads\"\n",
    "date: 2023-11-09\n",
    "author: \"Chao Dai\"\n",
    "code-fold: true\n",
    "execute: \n",
    "  warning: false\n",
    "  message: false\n",
    "  echo: false\n",
    "  include: false\n",
    "categories:\n",
    "  - \"GTEx\"\n",
    "jupyter:\n",
    "    language: r\n",
    "---"
   ]
  },
  {
   "cell_type": "code",
   "execution_count": 15,
   "id": "da38932e",
   "metadata": {
    "execution": {
     "iopub.execute_input": "2023-11-15T21:55:39.156281Z",
     "iopub.status.busy": "2023-11-15T21:55:39.154210Z",
     "iopub.status.idle": "2023-11-15T21:55:39.193926Z",
     "shell.execute_reply": "2023-11-15T21:55:39.177638Z"
    },
    "vscode": {
     "languageId": "r"
    }
   },
   "outputs": [],
   "source": [
    "# use R to change path to ~/cdai/SpliFi/analysis if current working path is not\n",
    "\n",
    "setwd(\"~/cdai/SpliFi/analysis\")\n"
   ]
  },
  {
   "cell_type": "code",
   "execution_count": 16,
   "id": "d485b16a",
   "metadata": {
    "execution": {
     "iopub.execute_input": "2023-11-15T21:55:39.372053Z",
     "iopub.status.busy": "2023-11-15T21:55:39.370424Z",
     "iopub.status.idle": "2023-11-15T21:55:39.393810Z",
     "shell.execute_reply": "2023-11-15T21:55:39.391779Z"
    },
    "vscode": {
     "languageId": "r"
    }
   },
   "outputs": [],
   "source": [
    "suppressMessages(library(tidyverse))\n",
    "suppressMessages(library(glue))\n",
    "suppressMessages(library(data.table))\n",
    "suppressMessages(library(cowplot))"
   ]
  },
  {
   "cell_type": "code",
   "execution_count": 17,
   "id": "daa17ad5",
   "metadata": {
    "execution": {
     "iopub.execute_input": "2023-11-15T21:55:40.249108Z",
     "iopub.status.busy": "2023-11-15T21:55:40.246383Z",
     "iopub.status.idle": "2023-11-15T21:55:42.046355Z",
     "shell.execute_reply": "2023-11-15T21:55:42.041779Z"
    },
    "vscode": {
     "languageId": "r"
    }
   },
   "outputs": [],
   "source": [
    "suppressMessages(library(furrr))\n",
    "plan(multisession, workers = 6)"
   ]
  },
  {
   "cell_type": "code",
   "execution_count": 18,
   "id": "1004a2bc",
   "metadata": {
    "execution": {
     "iopub.execute_input": "2023-11-15T21:55:44.641997Z",
     "iopub.status.busy": "2023-11-15T21:55:44.638661Z",
     "iopub.status.idle": "2023-11-15T21:55:44.685938Z",
     "shell.execute_reply": "2023-11-15T21:55:44.682910Z"
    },
    "vscode": {
     "languageId": "r"
    }
   },
   "outputs": [],
   "source": [
    "theme_set(theme_cowplot())"
   ]
  },
  {
   "cell_type": "code",
   "execution_count": 75,
   "id": "7695f2ba-f7f5-4956-84b5-0fdbddefc3ff",
   "metadata": {
    "execution": {
     "iopub.execute_input": "2023-11-15T23:19:38.795301Z",
     "iopub.status.busy": "2023-11-15T23:19:38.792525Z",
     "iopub.status.idle": "2023-11-15T23:19:38.814044Z",
     "shell.execute_reply": "2023-11-15T23:19:38.811089Z"
    },
    "vscode": {
     "languageId": "r"
    }
   },
   "outputs": [],
   "source": [
    "options(repr.plot.width = 8, repr.plot.height=6, repr.plot.res = 180)"
   ]
  },
  {
   "cell_type": "code",
   "execution_count": 19,
   "id": "166673fc",
   "metadata": {
    "execution": {
     "iopub.execute_input": "2023-11-15T21:55:45.347061Z",
     "iopub.status.busy": "2023-11-15T21:55:45.343930Z",
     "iopub.status.idle": "2023-11-15T21:55:45.367774Z",
     "shell.execute_reply": "2023-11-15T21:55:45.364577Z"
    },
    "vscode": {
     "languageId": "r"
    }
   },
   "outputs": [],
   "source": [
    "splitFrac <- function(x) {\n",
    "    x  <- str_split(x, \"/\")\n",
    "    return(as.integer(map(x, ~.x[1])))\n",
    "}"
   ]
  },
  {
   "cell_type": "code",
   "execution_count": 20,
   "id": "6e53dd3a",
   "metadata": {
    "execution": {
     "iopub.execute_input": "2023-11-15T21:55:47.181099Z",
     "iopub.status.busy": "2023-11-15T21:55:47.177975Z",
     "iopub.status.idle": "2023-11-15T21:55:47.202050Z",
     "shell.execute_reply": "2023-11-15T21:55:47.198887Z"
    },
    "vscode": {
     "languageId": "r"
    }
   },
   "outputs": [],
   "source": [
    "processDT <- function(dt) {\n",
    "    chroms <- dt$chrom\n",
    "    datacols <- names(dt)[-c(1)]\n",
    "    dt <- dt[, -c('chrom')][, map(.SD, ~splitFrac(.x))]\n",
    "    dt$chrom <- chroms\n",
    "    dt$intron_type = str_extract(dt$chrom, '[FN]')\n",
    "    dt$clu = str_extract(dt$chrom, 'clu_\\\\d+')\n",
    "    dt[, clu_type := paste(unique(intron_type), collapse = \",\"), by = clu]\n",
    "    cols <- c('chrom', 'clu', 'clu_type', 'intron_type', datacols)\n",
    "\n",
    "    return(dt[, ..cols])\n",
    "\n",
    "}"
   ]
  },
  {
   "cell_type": "code",
   "execution_count": null,
   "id": "f8331cb5",
   "metadata": {
    "vscode": {
     "languageId": "r"
    }
   },
   "outputs": [],
   "source": []
  },
  {
   "cell_type": "code",
   "execution_count": 22,
   "id": "2da8bb7a",
   "metadata": {
    "execution": {
     "iopub.execute_input": "2023-11-15T21:56:09.182655Z",
     "iopub.status.busy": "2023-11-15T21:56:09.179314Z",
     "iopub.status.idle": "2023-11-15T21:56:09.209228Z",
     "shell.execute_reply": "2023-11-15T21:56:09.205873Z"
    },
    "vscode": {
     "languageId": "r"
    }
   },
   "outputs": [],
   "source": [
    "tissues = c('Brain_-_Cortex', 'Muscle', 'Kidney')\n",
    "noise_by_intron_files = glue('../code/results/pheno/noisy/GTEx/{tissues}/leafcutter_perind.counts.noise_by_intron.gz')"
   ]
  },
  {
   "cell_type": "code",
   "execution_count": 23,
   "id": "31d968f6-2ce4-40c8-98a8-f1ffc355e1d1",
   "metadata": {
    "execution": {
     "iopub.execute_input": "2023-11-15T21:56:09.804992Z",
     "iopub.status.busy": "2023-11-15T21:56:09.801928Z",
     "iopub.status.idle": "2023-11-15T21:56:09.836421Z",
     "shell.execute_reply": "2023-11-15T21:56:09.833420Z"
    },
    "vscode": {
     "languageId": "r"
    }
   },
   "outputs": [
    {
     "data": {
      "text/html": [
       "<style>\n",
       ".list-inline {list-style: none; margin:0; padding: 0}\n",
       ".list-inline>li {display: inline-block}\n",
       ".list-inline>li:not(:last-child)::after {content: \"\\00b7\"; padding: 0 .5ex}\n",
       "</style>\n",
       "<ol class=list-inline><li>'../code/results/pheno/noisy/GTEx/Brain_-_Cortex/leafcutter_perind.counts.noise_by_intron.gz'</li><li>'../code/results/pheno/noisy/GTEx/Muscle/leafcutter_perind.counts.noise_by_intron.gz'</li><li>'../code/results/pheno/noisy/GTEx/Kidney/leafcutter_perind.counts.noise_by_intron.gz'</li></ol>\n"
      ],
      "text/latex": [
       "\\begin{enumerate*}\n",
       "\\item '../code/results/pheno/noisy/GTEx/Brain\\_-\\_Cortex/leafcutter\\_perind.counts.noise\\_by\\_intron.gz'\n",
       "\\item '../code/results/pheno/noisy/GTEx/Muscle/leafcutter\\_perind.counts.noise\\_by\\_intron.gz'\n",
       "\\item '../code/results/pheno/noisy/GTEx/Kidney/leafcutter\\_perind.counts.noise\\_by\\_intron.gz'\n",
       "\\end{enumerate*}\n"
      ],
      "text/markdown": [
       "1. '../code/results/pheno/noisy/GTEx/Brain_-_Cortex/leafcutter_perind.counts.noise_by_intron.gz'\n",
       "2. '../code/results/pheno/noisy/GTEx/Muscle/leafcutter_perind.counts.noise_by_intron.gz'\n",
       "3. '../code/results/pheno/noisy/GTEx/Kidney/leafcutter_perind.counts.noise_by_intron.gz'\n",
       "\n",
       "\n"
      ],
      "text/plain": [
       "../code/results/pheno/noisy/GTEx/Brain_-_Cortex/leafcutter_perind.counts.noise_by_intron.gz\n",
       "../code/results/pheno/noisy/GTEx/Muscle/leafcutter_perind.counts.noise_by_intron.gz\n",
       "../code/results/pheno/noisy/GTEx/Kidney/leafcutter_perind.counts.noise_by_intron.gz"
      ]
     },
     "metadata": {},
     "output_type": "display_data"
    }
   ],
   "source": [
    "noise_by_intron_files"
   ]
  },
  {
   "cell_type": "code",
   "execution_count": null,
   "id": "c87ea789-2f3d-438b-9d7e-427a88aea6ae",
   "metadata": {
    "vscode": {
     "languageId": "r"
    }
   },
   "outputs": [],
   "source": []
  },
  {
   "cell_type": "code",
   "execution_count": null,
   "id": "65c3a3b9-2d65-45aa-8736-5eaebad48a78",
   "metadata": {
    "vscode": {
     "languageId": "r"
    }
   },
   "outputs": [],
   "source": []
  },
  {
   "cell_type": "code",
   "execution_count": 24,
   "id": "767a1931",
   "metadata": {
    "execution": {
     "iopub.execute_input": "2023-11-15T21:56:12.474260Z",
     "iopub.status.busy": "2023-11-15T21:56:12.471056Z",
     "iopub.status.idle": "2023-11-15T21:56:46.016516Z",
     "shell.execute_reply": "2023-11-15T21:56:46.014539Z"
    },
    "vscode": {
     "languageId": "r"
    }
   },
   "outputs": [],
   "source": [
    "introns = future_map(noise_by_intron_files, fread)"
   ]
  },
  {
   "cell_type": "code",
   "execution_count": 25,
   "id": "070bc9a1",
   "metadata": {
    "execution": {
     "iopub.execute_input": "2023-11-15T21:56:52.618091Z",
     "iopub.status.busy": "2023-11-15T21:56:52.614695Z",
     "iopub.status.idle": "2023-11-15T21:56:52.640287Z",
     "shell.execute_reply": "2023-11-15T21:56:52.636812Z"
    },
    "vscode": {
     "languageId": "r"
    }
   },
   "outputs": [],
   "source": [
    "names(introns) <- c('Brain', 'Muscle', 'Kidney')"
   ]
  },
  {
   "cell_type": "code",
   "execution_count": 26,
   "id": "830235b2-b93a-4d78-ba4d-3b50bea211ee",
   "metadata": {
    "execution": {
     "iopub.execute_input": "2023-11-15T21:56:52.953218Z",
     "iopub.status.busy": "2023-11-15T21:56:52.950087Z",
     "iopub.status.idle": "2023-11-15T21:56:52.982703Z",
     "shell.execute_reply": "2023-11-15T21:56:52.979557Z"
    },
    "vscode": {
     "languageId": "r"
    }
   },
   "outputs": [
    {
     "data": {
      "text/html": [
       "<dl>\n",
       "\t<dt>$Brain</dt>\n",
       "\t\t<dd><style>\n",
       ".list-inline {list-style: none; margin:0; padding: 0}\n",
       ".list-inline>li {display: inline-block}\n",
       ".list-inline>li:not(:last-child)::after {content: \"\\00b7\"; padding: 0 .5ex}\n",
       "</style>\n",
       "<ol class=list-inline><li>103113</li><li>256</li></ol>\n",
       "</dd>\n",
       "\t<dt>$Muscle</dt>\n",
       "\t\t<dd><style>\n",
       ".list-inline {list-style: none; margin:0; padding: 0}\n",
       ".list-inline>li {display: inline-block}\n",
       ".list-inline>li:not(:last-child)::after {content: \"\\00b7\"; padding: 0 .5ex}\n",
       "</style>\n",
       "<ol class=list-inline><li>95357</li><li>804</li></ol>\n",
       "</dd>\n",
       "\t<dt>$Kidney</dt>\n",
       "\t\t<dd><style>\n",
       ".list-inline {list-style: none; margin:0; padding: 0}\n",
       ".list-inline>li {display: inline-block}\n",
       ".list-inline>li:not(:last-child)::after {content: \"\\00b7\"; padding: 0 .5ex}\n",
       "</style>\n",
       "<ol class=list-inline><li>101844</li><li>89</li></ol>\n",
       "</dd>\n",
       "</dl>\n"
      ],
      "text/latex": [
       "\\begin{description}\n",
       "\\item[\\$Brain] \\begin{enumerate*}\n",
       "\\item 103113\n",
       "\\item 256\n",
       "\\end{enumerate*}\n",
       "\n",
       "\\item[\\$Muscle] \\begin{enumerate*}\n",
       "\\item 95357\n",
       "\\item 804\n",
       "\\end{enumerate*}\n",
       "\n",
       "\\item[\\$Kidney] \\begin{enumerate*}\n",
       "\\item 101844\n",
       "\\item 89\n",
       "\\end{enumerate*}\n",
       "\n",
       "\\end{description}\n"
      ],
      "text/markdown": [
       "$Brain\n",
       ":   1. 103113\n",
       "2. 256\n",
       "\n",
       "\n",
       "\n",
       "$Muscle\n",
       ":   1. 95357\n",
       "2. 804\n",
       "\n",
       "\n",
       "\n",
       "$Kidney\n",
       ":   1. 101844\n",
       "2. 89\n",
       "\n",
       "\n",
       "\n",
       "\n",
       "\n"
      ],
      "text/plain": [
       "$Brain\n",
       "[1] 103113    256\n",
       "\n",
       "$Muscle\n",
       "[1] 95357   804\n",
       "\n",
       "$Kidney\n",
       "[1] 101844     89\n"
      ]
     },
     "metadata": {},
     "output_type": "display_data"
    }
   ],
   "source": [
    "map(introns, dim)"
   ]
  },
  {
   "cell_type": "code",
   "execution_count": 27,
   "id": "b743f6da",
   "metadata": {
    "execution": {
     "iopub.execute_input": "2023-11-15T21:57:02.430908Z",
     "iopub.status.busy": "2023-11-15T21:57:02.427457Z",
     "iopub.status.idle": "2023-11-15T22:01:09.968772Z",
     "shell.execute_reply": "2023-11-15T22:01:09.966560Z"
    },
    "vscode": {
     "languageId": "r"
    }
   },
   "outputs": [],
   "source": [
    "# process each tissue data.table\n",
    "introns = future_map(introns, processDT)"
   ]
  },
  {
   "cell_type": "code",
   "execution_count": 28,
   "id": "5d90a6ab",
   "metadata": {
    "execution": {
     "iopub.execute_input": "2023-11-15T22:04:47.166042Z",
     "iopub.status.busy": "2023-11-15T22:04:47.163096Z",
     "iopub.status.idle": "2023-11-15T22:04:47.266909Z",
     "shell.execute_reply": "2023-11-15T22:04:47.264814Z"
    },
    "vscode": {
     "languageId": "r"
    }
   },
   "outputs": [
    {
     "data": {
      "text/html": [
       "<dl>\n",
       "\t<dt>$Brain</dt>\n",
       "\t\t<dd><style>\n",
       ".list-inline {list-style: none; margin:0; padding: 0}\n",
       ".list-inline>li {display: inline-block}\n",
       ".list-inline>li:not(:last-child)::after {content: \"\\00b7\"; padding: 0 .5ex}\n",
       "</style>\n",
       "<ol class=list-inline><li>103113</li><li>259</li></ol>\n",
       "</dd>\n",
       "\t<dt>$Muscle</dt>\n",
       "\t\t<dd><style>\n",
       ".list-inline {list-style: none; margin:0; padding: 0}\n",
       ".list-inline>li {display: inline-block}\n",
       ".list-inline>li:not(:last-child)::after {content: \"\\00b7\"; padding: 0 .5ex}\n",
       "</style>\n",
       "<ol class=list-inline><li>95357</li><li>807</li></ol>\n",
       "</dd>\n",
       "\t<dt>$Kidney</dt>\n",
       "\t\t<dd><style>\n",
       ".list-inline {list-style: none; margin:0; padding: 0}\n",
       ".list-inline>li {display: inline-block}\n",
       ".list-inline>li:not(:last-child)::after {content: \"\\00b7\"; padding: 0 .5ex}\n",
       "</style>\n",
       "<ol class=list-inline><li>101844</li><li>92</li></ol>\n",
       "</dd>\n",
       "</dl>\n"
      ],
      "text/latex": [
       "\\begin{description}\n",
       "\\item[\\$Brain] \\begin{enumerate*}\n",
       "\\item 103113\n",
       "\\item 259\n",
       "\\end{enumerate*}\n",
       "\n",
       "\\item[\\$Muscle] \\begin{enumerate*}\n",
       "\\item 95357\n",
       "\\item 807\n",
       "\\end{enumerate*}\n",
       "\n",
       "\\item[\\$Kidney] \\begin{enumerate*}\n",
       "\\item 101844\n",
       "\\item 92\n",
       "\\end{enumerate*}\n",
       "\n",
       "\\end{description}\n"
      ],
      "text/markdown": [
       "$Brain\n",
       ":   1. 103113\n",
       "2. 259\n",
       "\n",
       "\n",
       "\n",
       "$Muscle\n",
       ":   1. 95357\n",
       "2. 807\n",
       "\n",
       "\n",
       "\n",
       "$Kidney\n",
       ":   1. 101844\n",
       "2. 92\n",
       "\n",
       "\n",
       "\n",
       "\n",
       "\n"
      ],
      "text/plain": [
       "$Brain\n",
       "[1] 103113    259\n",
       "\n",
       "$Muscle\n",
       "[1] 95357   807\n",
       "\n",
       "$Kidney\n",
       "[1] 101844     92\n"
      ]
     },
     "metadata": {},
     "output_type": "display_data"
    },
    {
     "data": {
      "text/html": [
       "<dl>\n",
       "\t<dt>$Brain</dt>\n",
       "\t\t<dd><table class=\"dataframe\">\n",
       "<caption>A data.table: 3 × 7</caption>\n",
       "<thead>\n",
       "\t<tr><th scope=col>chrom</th><th scope=col>clu</th><th scope=col>clu_type</th><th scope=col>intron_type</th><th scope=col>GTEX-1117F</th><th scope=col>GTEX-111FC</th><th scope=col>GTEX-1128S</th></tr>\n",
       "\t<tr><th scope=col>&lt;chr&gt;</th><th scope=col>&lt;chr&gt;</th><th scope=col>&lt;chr&gt;</th><th scope=col>&lt;chr&gt;</th><th scope=col>&lt;int&gt;</th><th scope=col>&lt;int&gt;</th><th scope=col>&lt;int&gt;</th></tr>\n",
       "</thead>\n",
       "<tbody>\n",
       "\t<tr><td>chr1:779092:803918:clu_1_+:N</td><td>clu_1</td><td>N</td><td>N</td><td>0</td><td>1</td><td>0</td></tr>\n",
       "\t<tr><td>chr1:804222:804775:clu_2_+:N</td><td>clu_2</td><td>N</td><td>N</td><td>1</td><td>0</td><td>1</td></tr>\n",
       "\t<tr><td>chr1:804222:807216:clu_2_+:N</td><td>clu_2</td><td>N</td><td>N</td><td>0</td><td>0</td><td>0</td></tr>\n",
       "</tbody>\n",
       "</table>\n",
       "</dd>\n",
       "\t<dt>$Muscle</dt>\n",
       "\t\t<dd><table class=\"dataframe\">\n",
       "<caption>A data.table: 3 × 7</caption>\n",
       "<thead>\n",
       "\t<tr><th scope=col>chrom</th><th scope=col>clu</th><th scope=col>clu_type</th><th scope=col>intron_type</th><th scope=col>GTEX-1117F</th><th scope=col>GTEX-111CU</th><th scope=col>GTEX-111FC</th></tr>\n",
       "\t<tr><th scope=col>&lt;chr&gt;</th><th scope=col>&lt;chr&gt;</th><th scope=col>&lt;chr&gt;</th><th scope=col>&lt;chr&gt;</th><th scope=col>&lt;int&gt;</th><th scope=col>&lt;int&gt;</th><th scope=col>&lt;int&gt;</th></tr>\n",
       "</thead>\n",
       "<tbody>\n",
       "\t<tr><td>chr1:804222:804775:clu_2_+:N</td><td>clu_2</td><td>N</td><td>N</td><td>2</td><td>0</td><td>0</td></tr>\n",
       "\t<tr><td>chr1:804222:807216:clu_2_+:N</td><td>clu_2</td><td>N</td><td>N</td><td>0</td><td>0</td><td>0</td></tr>\n",
       "\t<tr><td>chr1:829104:841199:clu_4_+:N</td><td>clu_4</td><td>N</td><td>N</td><td>5</td><td>9</td><td>2</td></tr>\n",
       "</tbody>\n",
       "</table>\n",
       "</dd>\n",
       "\t<dt>$Kidney</dt>\n",
       "\t\t<dd><table class=\"dataframe\">\n",
       "<caption>A data.table: 3 × 7</caption>\n",
       "<thead>\n",
       "\t<tr><th scope=col>chrom</th><th scope=col>clu</th><th scope=col>clu_type</th><th scope=col>intron_type</th><th scope=col>GTEX-11GS4</th><th scope=col>GTEX-11OF3</th><th scope=col>GTEX-11TTK</th></tr>\n",
       "\t<tr><th scope=col>&lt;chr&gt;</th><th scope=col>&lt;chr&gt;</th><th scope=col>&lt;chr&gt;</th><th scope=col>&lt;chr&gt;</th><th scope=col>&lt;int&gt;</th><th scope=col>&lt;int&gt;</th><th scope=col>&lt;int&gt;</th></tr>\n",
       "</thead>\n",
       "<tbody>\n",
       "\t<tr><td>chr1:804222:804775:clu_1_+:N</td><td>clu_1</td><td>N</td><td>N</td><td>2</td><td>0</td><td>0</td></tr>\n",
       "\t<tr><td>chr1:804222:807216:clu_1_+:N</td><td>clu_1</td><td>N</td><td>N</td><td>0</td><td>0</td><td>0</td></tr>\n",
       "\t<tr><td>chr1:804966:807216:clu_1_+:N</td><td>clu_1</td><td>N</td><td>N</td><td>0</td><td>0</td><td>4</td></tr>\n",
       "</tbody>\n",
       "</table>\n",
       "</dd>\n",
       "</dl>\n"
      ],
      "text/latex": [
       "\\begin{description}\n",
       "\\item[\\$Brain] A data.table: 3 × 7\n",
       "\\begin{tabular}{lllllll}\n",
       " chrom & clu & clu\\_type & intron\\_type & GTEX-1117F & GTEX-111FC & GTEX-1128S\\\\\n",
       " <chr> & <chr> & <chr> & <chr> & <int> & <int> & <int>\\\\\n",
       "\\hline\n",
       "\t chr1:779092:803918:clu\\_1\\_+:N & clu\\_1 & N & N & 0 & 1 & 0\\\\\n",
       "\t chr1:804222:804775:clu\\_2\\_+:N & clu\\_2 & N & N & 1 & 0 & 1\\\\\n",
       "\t chr1:804222:807216:clu\\_2\\_+:N & clu\\_2 & N & N & 0 & 0 & 0\\\\\n",
       "\\end{tabular}\n",
       "\n",
       "\\item[\\$Muscle] A data.table: 3 × 7\n",
       "\\begin{tabular}{lllllll}\n",
       " chrom & clu & clu\\_type & intron\\_type & GTEX-1117F & GTEX-111CU & GTEX-111FC\\\\\n",
       " <chr> & <chr> & <chr> & <chr> & <int> & <int> & <int>\\\\\n",
       "\\hline\n",
       "\t chr1:804222:804775:clu\\_2\\_+:N & clu\\_2 & N & N & 2 & 0 & 0\\\\\n",
       "\t chr1:804222:807216:clu\\_2\\_+:N & clu\\_2 & N & N & 0 & 0 & 0\\\\\n",
       "\t chr1:829104:841199:clu\\_4\\_+:N & clu\\_4 & N & N & 5 & 9 & 2\\\\\n",
       "\\end{tabular}\n",
       "\n",
       "\\item[\\$Kidney] A data.table: 3 × 7\n",
       "\\begin{tabular}{lllllll}\n",
       " chrom & clu & clu\\_type & intron\\_type & GTEX-11GS4 & GTEX-11OF3 & GTEX-11TTK\\\\\n",
       " <chr> & <chr> & <chr> & <chr> & <int> & <int> & <int>\\\\\n",
       "\\hline\n",
       "\t chr1:804222:804775:clu\\_1\\_+:N & clu\\_1 & N & N & 2 & 0 & 0\\\\\n",
       "\t chr1:804222:807216:clu\\_1\\_+:N & clu\\_1 & N & N & 0 & 0 & 0\\\\\n",
       "\t chr1:804966:807216:clu\\_1\\_+:N & clu\\_1 & N & N & 0 & 0 & 4\\\\\n",
       "\\end{tabular}\n",
       "\n",
       "\\end{description}\n"
      ],
      "text/markdown": [
       "$Brain\n",
       ":   \n",
       "A data.table: 3 × 7\n",
       "\n",
       "| chrom &lt;chr&gt; | clu &lt;chr&gt; | clu_type &lt;chr&gt; | intron_type &lt;chr&gt; | GTEX-1117F &lt;int&gt; | GTEX-111FC &lt;int&gt; | GTEX-1128S &lt;int&gt; |\n",
       "|---|---|---|---|---|---|---|\n",
       "| chr1:779092:803918:clu_1_+:N | clu_1 | N | N | 0 | 1 | 0 |\n",
       "| chr1:804222:804775:clu_2_+:N | clu_2 | N | N | 1 | 0 | 1 |\n",
       "| chr1:804222:807216:clu_2_+:N | clu_2 | N | N | 0 | 0 | 0 |\n",
       "\n",
       "\n",
       "$Muscle\n",
       ":   \n",
       "A data.table: 3 × 7\n",
       "\n",
       "| chrom &lt;chr&gt; | clu &lt;chr&gt; | clu_type &lt;chr&gt; | intron_type &lt;chr&gt; | GTEX-1117F &lt;int&gt; | GTEX-111CU &lt;int&gt; | GTEX-111FC &lt;int&gt; |\n",
       "|---|---|---|---|---|---|---|\n",
       "| chr1:804222:804775:clu_2_+:N | clu_2 | N | N | 2 | 0 | 0 |\n",
       "| chr1:804222:807216:clu_2_+:N | clu_2 | N | N | 0 | 0 | 0 |\n",
       "| chr1:829104:841199:clu_4_+:N | clu_4 | N | N | 5 | 9 | 2 |\n",
       "\n",
       "\n",
       "$Kidney\n",
       ":   \n",
       "A data.table: 3 × 7\n",
       "\n",
       "| chrom &lt;chr&gt; | clu &lt;chr&gt; | clu_type &lt;chr&gt; | intron_type &lt;chr&gt; | GTEX-11GS4 &lt;int&gt; | GTEX-11OF3 &lt;int&gt; | GTEX-11TTK &lt;int&gt; |\n",
       "|---|---|---|---|---|---|---|\n",
       "| chr1:804222:804775:clu_1_+:N | clu_1 | N | N | 2 | 0 | 0 |\n",
       "| chr1:804222:807216:clu_1_+:N | clu_1 | N | N | 0 | 0 | 0 |\n",
       "| chr1:804966:807216:clu_1_+:N | clu_1 | N | N | 0 | 0 | 4 |\n",
       "\n",
       "\n",
       "\n",
       "\n"
      ],
      "text/plain": [
       "$Brain\n",
       "                          chrom   clu clu_type intron_type GTEX-1117F\n",
       "1: chr1:779092:803918:clu_1_+:N clu_1        N           N          0\n",
       "2: chr1:804222:804775:clu_2_+:N clu_2        N           N          1\n",
       "3: chr1:804222:807216:clu_2_+:N clu_2        N           N          0\n",
       "   GTEX-111FC GTEX-1128S\n",
       "1:          1          0\n",
       "2:          0          1\n",
       "3:          0          0\n",
       "\n",
       "$Muscle\n",
       "                          chrom   clu clu_type intron_type GTEX-1117F\n",
       "1: chr1:804222:804775:clu_2_+:N clu_2        N           N          2\n",
       "2: chr1:804222:807216:clu_2_+:N clu_2        N           N          0\n",
       "3: chr1:829104:841199:clu_4_+:N clu_4        N           N          5\n",
       "   GTEX-111CU GTEX-111FC\n",
       "1:          0          0\n",
       "2:          0          0\n",
       "3:          9          2\n",
       "\n",
       "$Kidney\n",
       "                          chrom   clu clu_type intron_type GTEX-11GS4\n",
       "1: chr1:804222:804775:clu_1_+:N clu_1        N           N          2\n",
       "2: chr1:804222:807216:clu_1_+:N clu_1        N           N          0\n",
       "3: chr1:804966:807216:clu_1_+:N clu_1        N           N          0\n",
       "   GTEX-11OF3 GTEX-11TTK\n",
       "1:          0          0\n",
       "2:          0          0\n",
       "3:          0          4\n"
      ]
     },
     "metadata": {},
     "output_type": "display_data"
    }
   ],
   "source": [
    "map(introns, dim)\n",
    "map(introns, ~.x[1:3, 1:7])"
   ]
  },
  {
   "cell_type": "raw",
   "id": "054aed6c-b993-4441-9f1d-557acfdf4e61",
   "metadata": {
    "execution": {
     "iopub.execute_input": "2023-11-15T22:51:16.698443Z",
     "iopub.status.busy": "2023-11-15T22:51:16.695482Z",
     "iopub.status.idle": "2023-11-15T22:52:08.097754Z",
     "shell.execute_reply": "2023-11-15T22:52:08.096084Z"
    }
   },
   "source": [
    "saveRDS(introns, \"2023-11-09-GTEx-introns.rds\")"
   ]
  },
  {
   "cell_type": "markdown",
   "id": "31805a73-5950-4a10-9423-87921f18706e",
   "metadata": {},
   "source": [
    "### geuvadis"
   ]
  },
  {
   "cell_type": "code",
   "execution_count": null,
   "id": "9c036924-f160-44a9-906f-dad5b609c052",
   "metadata": {
    "execution": {
     "iopub.execute_input": "2023-11-15T21:22:22.886073Z",
     "iopub.status.busy": "2023-11-15T21:22:22.882563Z",
     "iopub.status.idle": "2023-11-15T21:22:22.908716Z",
     "shell.execute_reply": "2023-11-15T21:22:22.905126Z"
    },
    "vscode": {
     "languageId": "r"
    }
   },
   "outputs": [],
   "source": [
    "geuvadis = '../code/results/pheno/noisy/Geuvadis/EUR/leafcutter_wo_precluster_perind.counts.noise_by_intron.gz'"
   ]
  },
  {
   "cell_type": "code",
   "execution_count": 40,
   "id": "fdaaefbf-9231-4daf-a203-0fdb523bd227",
   "metadata": {
    "execution": {
     "iopub.execute_input": "2023-11-15T22:07:17.693269Z",
     "iopub.status.busy": "2023-11-15T22:07:17.690565Z",
     "iopub.status.idle": "2023-11-15T22:07:44.528316Z",
     "shell.execute_reply": "2023-11-15T22:07:44.524857Z"
    },
    "vscode": {
     "languageId": "r"
    }
   },
   "outputs": [],
   "source": [
    "geuv = fread(geuvadis)"
   ]
  },
  {
   "cell_type": "code",
   "execution_count": 41,
   "id": "77cea66a-e391-4eb2-8af4-30b0fd85203a",
   "metadata": {
    "execution": {
     "iopub.execute_input": "2023-11-15T22:07:53.036070Z",
     "iopub.status.busy": "2023-11-15T22:07:53.032377Z",
     "iopub.status.idle": "2023-11-15T22:08:40.527604Z",
     "shell.execute_reply": "2023-11-15T22:08:40.525428Z"
    },
    "vscode": {
     "languageId": "r"
    }
   },
   "outputs": [
    {
     "data": {
      "text/plain": [
       "1.53 GB"
      ]
     },
     "metadata": {},
     "output_type": "display_data"
    }
   ],
   "source": [
    "pryr::object_size(geuv)"
   ]
  },
  {
   "cell_type": "code",
   "execution_count": 42,
   "id": "f1247d24-9cd0-4710-86b4-cb6e349280ad",
   "metadata": {
    "execution": {
     "iopub.execute_input": "2023-11-15T22:09:15.797341Z",
     "iopub.status.busy": "2023-11-15T22:09:15.794390Z",
     "iopub.status.idle": "2023-11-15T22:09:15.845003Z",
     "shell.execute_reply": "2023-11-15T22:09:15.842274Z"
    },
    "vscode": {
     "languageId": "r"
    }
   },
   "outputs": [
    {
     "data": {
      "text/html": [
       "<table class=\"dataframe\">\n",
       "<caption>A data.table: 5 × 10</caption>\n",
       "<thead>\n",
       "\t<tr><th scope=col>chrom</th><th scope=col>HG00096</th><th scope=col>HG00097</th><th scope=col>HG00099</th><th scope=col>HG00100</th><th scope=col>HG00101</th><th scope=col>HG00102</th><th scope=col>HG00103</th><th scope=col>HG00104</th><th scope=col>HG00105</th></tr>\n",
       "\t<tr><th scope=col>&lt;chr&gt;</th><th scope=col>&lt;chr&gt;</th><th scope=col>&lt;chr&gt;</th><th scope=col>&lt;chr&gt;</th><th scope=col>&lt;chr&gt;</th><th scope=col>&lt;chr&gt;</th><th scope=col>&lt;chr&gt;</th><th scope=col>&lt;chr&gt;</th><th scope=col>&lt;chr&gt;</th><th scope=col>&lt;chr&gt;</th></tr>\n",
       "</thead>\n",
       "<tbody>\n",
       "\t<tr><td>chr1:779092:781936:clu_1_+:N</td><td>0/0</td><td>0/1</td><td>0/2</td><td>0/1</td><td>0/1</td><td>0/0</td><td>0/0</td><td>0/0</td><td>0/0</td></tr>\n",
       "\t<tr><td>chr1:779092:786392:clu_1_+:N</td><td>0/0</td><td>0/1</td><td>0/2</td><td>0/1</td><td>0/1</td><td>0/0</td><td>0/0</td><td>0/0</td><td>0/0</td></tr>\n",
       "\t<tr><td>chr1:779092:803918:clu_1_+:N</td><td>0/0</td><td>1/1</td><td>2/2</td><td>1/1</td><td>1/1</td><td>0/0</td><td>0/0</td><td>0/0</td><td>0/0</td></tr>\n",
       "\t<tr><td>chr1:779092:803921:clu_1_+:N</td><td>0/0</td><td>0/1</td><td>0/2</td><td>0/1</td><td>0/1</td><td>0/0</td><td>0/0</td><td>0/0</td><td>0/0</td></tr>\n",
       "\t<tr><td>chr1:779092:803950:clu_1_+:N</td><td>0/0</td><td>0/1</td><td>0/2</td><td>0/1</td><td>0/1</td><td>0/0</td><td>0/0</td><td>0/0</td><td>0/0</td></tr>\n",
       "</tbody>\n",
       "</table>\n"
      ],
      "text/latex": [
       "A data.table: 5 × 10\n",
       "\\begin{tabular}{llllllllll}\n",
       " chrom & HG00096 & HG00097 & HG00099 & HG00100 & HG00101 & HG00102 & HG00103 & HG00104 & HG00105\\\\\n",
       " <chr> & <chr> & <chr> & <chr> & <chr> & <chr> & <chr> & <chr> & <chr> & <chr>\\\\\n",
       "\\hline\n",
       "\t chr1:779092:781936:clu\\_1\\_+:N & 0/0 & 0/1 & 0/2 & 0/1 & 0/1 & 0/0 & 0/0 & 0/0 & 0/0\\\\\n",
       "\t chr1:779092:786392:clu\\_1\\_+:N & 0/0 & 0/1 & 0/2 & 0/1 & 0/1 & 0/0 & 0/0 & 0/0 & 0/0\\\\\n",
       "\t chr1:779092:803918:clu\\_1\\_+:N & 0/0 & 1/1 & 2/2 & 1/1 & 1/1 & 0/0 & 0/0 & 0/0 & 0/0\\\\\n",
       "\t chr1:779092:803921:clu\\_1\\_+:N & 0/0 & 0/1 & 0/2 & 0/1 & 0/1 & 0/0 & 0/0 & 0/0 & 0/0\\\\\n",
       "\t chr1:779092:803950:clu\\_1\\_+:N & 0/0 & 0/1 & 0/2 & 0/1 & 0/1 & 0/0 & 0/0 & 0/0 & 0/0\\\\\n",
       "\\end{tabular}\n"
      ],
      "text/markdown": [
       "\n",
       "A data.table: 5 × 10\n",
       "\n",
       "| chrom &lt;chr&gt; | HG00096 &lt;chr&gt; | HG00097 &lt;chr&gt; | HG00099 &lt;chr&gt; | HG00100 &lt;chr&gt; | HG00101 &lt;chr&gt; | HG00102 &lt;chr&gt; | HG00103 &lt;chr&gt; | HG00104 &lt;chr&gt; | HG00105 &lt;chr&gt; |\n",
       "|---|---|---|---|---|---|---|---|---|---|\n",
       "| chr1:779092:781936:clu_1_+:N | 0/0 | 0/1 | 0/2 | 0/1 | 0/1 | 0/0 | 0/0 | 0/0 | 0/0 |\n",
       "| chr1:779092:786392:clu_1_+:N | 0/0 | 0/1 | 0/2 | 0/1 | 0/1 | 0/0 | 0/0 | 0/0 | 0/0 |\n",
       "| chr1:779092:803918:clu_1_+:N | 0/0 | 1/1 | 2/2 | 1/1 | 1/1 | 0/0 | 0/0 | 0/0 | 0/0 |\n",
       "| chr1:779092:803921:clu_1_+:N | 0/0 | 0/1 | 0/2 | 0/1 | 0/1 | 0/0 | 0/0 | 0/0 | 0/0 |\n",
       "| chr1:779092:803950:clu_1_+:N | 0/0 | 0/1 | 0/2 | 0/1 | 0/1 | 0/0 | 0/0 | 0/0 | 0/0 |\n",
       "\n"
      ],
      "text/plain": [
       "  chrom                        HG00096 HG00097 HG00099 HG00100 HG00101 HG00102\n",
       "1 chr1:779092:781936:clu_1_+:N 0/0     0/1     0/2     0/1     0/1     0/0    \n",
       "2 chr1:779092:786392:clu_1_+:N 0/0     0/1     0/2     0/1     0/1     0/0    \n",
       "3 chr1:779092:803918:clu_1_+:N 0/0     1/1     2/2     1/1     1/1     0/0    \n",
       "4 chr1:779092:803921:clu_1_+:N 0/0     0/1     0/2     0/1     0/1     0/0    \n",
       "5 chr1:779092:803950:clu_1_+:N 0/0     0/1     0/2     0/1     0/1     0/0    \n",
       "  HG00103 HG00104 HG00105\n",
       "1 0/0     0/0     0/0    \n",
       "2 0/0     0/0     0/0    \n",
       "3 0/0     0/0     0/0    \n",
       "4 0/0     0/0     0/0    \n",
       "5 0/0     0/0     0/0    "
      ]
     },
     "metadata": {},
     "output_type": "display_data"
    }
   ],
   "source": [
    "geuv[1:5, 1:10]"
   ]
  },
  {
   "cell_type": "code",
   "execution_count": 47,
   "id": "ecaccf20-4787-4009-a703-84fc4033bf6b",
   "metadata": {
    "execution": {
     "iopub.execute_input": "2023-11-15T22:12:29.877038Z",
     "iopub.status.busy": "2023-11-15T22:12:29.874105Z",
     "iopub.status.idle": "2023-11-15T22:23:03.113207Z",
     "shell.execute_reply": "2023-11-15T22:23:03.111507Z"
    },
    "vscode": {
     "languageId": "r"
    }
   },
   "outputs": [],
   "source": [
    "geuv.introns = processDT(geuv)"
   ]
  },
  {
   "cell_type": "code",
   "execution_count": 50,
   "id": "ac506357-5818-4b9b-9c52-0ef037704048",
   "metadata": {
    "execution": {
     "iopub.execute_input": "2023-11-15T22:53:20.360762Z",
     "iopub.status.busy": "2023-11-15T22:53:20.358147Z",
     "iopub.status.idle": "2023-11-15T22:53:51.630946Z",
     "shell.execute_reply": "2023-11-15T22:53:51.628530Z"
    },
    "vscode": {
     "languageId": "r"
    }
   },
   "outputs": [],
   "source": [
    "saveRDS(geuv.introns, \"2023-11-09-Geuvadis-EUR-introns.rds\")"
   ]
  },
  {
   "cell_type": "code",
   "execution_count": 52,
   "id": "457ca673-2a17-477a-9911-a3a265697b3b",
   "metadata": {
    "execution": {
     "iopub.execute_input": "2023-11-15T23:09:51.113147Z",
     "iopub.status.busy": "2023-11-15T23:09:51.110431Z",
     "iopub.status.idle": "2023-11-15T23:09:51.178573Z",
     "shell.execute_reply": "2023-11-15T23:09:51.176226Z"
    },
    "vscode": {
     "languageId": "r"
    }
   },
   "outputs": [
    {
     "data": {
      "text/html": [
       "<table class=\"dataframe\">\n",
       "<caption>A data.table: 5 × 20</caption>\n",
       "<thead>\n",
       "\t<tr><th scope=col>chrom</th><th scope=col>clu</th><th scope=col>clu_type</th><th scope=col>intron_type</th><th scope=col>HG00096</th><th scope=col>HG00097</th><th scope=col>HG00099</th><th scope=col>HG00100</th><th scope=col>HG00101</th><th scope=col>HG00102</th><th scope=col>HG00103</th><th scope=col>HG00104</th><th scope=col>HG00105</th><th scope=col>HG00106</th><th scope=col>HG00108</th><th scope=col>HG00109</th><th scope=col>HG00110</th><th scope=col>HG00111</th><th scope=col>HG00112</th><th scope=col>HG00114</th></tr>\n",
       "\t<tr><th scope=col>&lt;chr&gt;</th><th scope=col>&lt;chr&gt;</th><th scope=col>&lt;chr&gt;</th><th scope=col>&lt;chr&gt;</th><th scope=col>&lt;int&gt;</th><th scope=col>&lt;int&gt;</th><th scope=col>&lt;int&gt;</th><th scope=col>&lt;int&gt;</th><th scope=col>&lt;int&gt;</th><th scope=col>&lt;int&gt;</th><th scope=col>&lt;int&gt;</th><th scope=col>&lt;int&gt;</th><th scope=col>&lt;int&gt;</th><th scope=col>&lt;int&gt;</th><th scope=col>&lt;int&gt;</th><th scope=col>&lt;int&gt;</th><th scope=col>&lt;int&gt;</th><th scope=col>&lt;int&gt;</th><th scope=col>&lt;int&gt;</th><th scope=col>&lt;int&gt;</th></tr>\n",
       "</thead>\n",
       "<tbody>\n",
       "\t<tr><td>chr1:779092:781936:clu_1_+:N</td><td>clu_1</td><td>N</td><td>N</td><td>0</td><td>0</td><td>0</td><td>0</td><td>0</td><td>0</td><td>0</td><td>0</td><td>0</td><td>0</td><td>1</td><td>0</td><td>0</td><td>0</td><td>0</td><td>0</td></tr>\n",
       "\t<tr><td>chr1:779092:786392:clu_1_+:N</td><td>clu_1</td><td>N</td><td>N</td><td>0</td><td>0</td><td>0</td><td>0</td><td>0</td><td>0</td><td>0</td><td>0</td><td>0</td><td>0</td><td>0</td><td>0</td><td>0</td><td>0</td><td>0</td><td>0</td></tr>\n",
       "\t<tr><td>chr1:779092:803918:clu_1_+:N</td><td>clu_1</td><td>N</td><td>N</td><td>0</td><td>1</td><td>2</td><td>1</td><td>1</td><td>0</td><td>0</td><td>0</td><td>0</td><td>0</td><td>0</td><td>0</td><td>0</td><td>0</td><td>0</td><td>1</td></tr>\n",
       "\t<tr><td>chr1:779092:803921:clu_1_+:N</td><td>clu_1</td><td>N</td><td>N</td><td>0</td><td>0</td><td>0</td><td>0</td><td>0</td><td>0</td><td>0</td><td>0</td><td>0</td><td>0</td><td>0</td><td>0</td><td>0</td><td>0</td><td>0</td><td>0</td></tr>\n",
       "\t<tr><td>chr1:779092:803950:clu_1_+:N</td><td>clu_1</td><td>N</td><td>N</td><td>0</td><td>0</td><td>0</td><td>0</td><td>0</td><td>0</td><td>0</td><td>0</td><td>0</td><td>0</td><td>0</td><td>0</td><td>0</td><td>0</td><td>0</td><td>0</td></tr>\n",
       "</tbody>\n",
       "</table>\n"
      ],
      "text/latex": [
       "A data.table: 5 × 20\n",
       "\\begin{tabular}{llllllllllllllllllll}\n",
       " chrom & clu & clu\\_type & intron\\_type & HG00096 & HG00097 & HG00099 & HG00100 & HG00101 & HG00102 & HG00103 & HG00104 & HG00105 & HG00106 & HG00108 & HG00109 & HG00110 & HG00111 & HG00112 & HG00114\\\\\n",
       " <chr> & <chr> & <chr> & <chr> & <int> & <int> & <int> & <int> & <int> & <int> & <int> & <int> & <int> & <int> & <int> & <int> & <int> & <int> & <int> & <int>\\\\\n",
       "\\hline\n",
       "\t chr1:779092:781936:clu\\_1\\_+:N & clu\\_1 & N & N & 0 & 0 & 0 & 0 & 0 & 0 & 0 & 0 & 0 & 0 & 1 & 0 & 0 & 0 & 0 & 0\\\\\n",
       "\t chr1:779092:786392:clu\\_1\\_+:N & clu\\_1 & N & N & 0 & 0 & 0 & 0 & 0 & 0 & 0 & 0 & 0 & 0 & 0 & 0 & 0 & 0 & 0 & 0\\\\\n",
       "\t chr1:779092:803918:clu\\_1\\_+:N & clu\\_1 & N & N & 0 & 1 & 2 & 1 & 1 & 0 & 0 & 0 & 0 & 0 & 0 & 0 & 0 & 0 & 0 & 1\\\\\n",
       "\t chr1:779092:803921:clu\\_1\\_+:N & clu\\_1 & N & N & 0 & 0 & 0 & 0 & 0 & 0 & 0 & 0 & 0 & 0 & 0 & 0 & 0 & 0 & 0 & 0\\\\\n",
       "\t chr1:779092:803950:clu\\_1\\_+:N & clu\\_1 & N & N & 0 & 0 & 0 & 0 & 0 & 0 & 0 & 0 & 0 & 0 & 0 & 0 & 0 & 0 & 0 & 0\\\\\n",
       "\\end{tabular}\n"
      ],
      "text/markdown": [
       "\n",
       "A data.table: 5 × 20\n",
       "\n",
       "| chrom &lt;chr&gt; | clu &lt;chr&gt; | clu_type &lt;chr&gt; | intron_type &lt;chr&gt; | HG00096 &lt;int&gt; | HG00097 &lt;int&gt; | HG00099 &lt;int&gt; | HG00100 &lt;int&gt; | HG00101 &lt;int&gt; | HG00102 &lt;int&gt; | HG00103 &lt;int&gt; | HG00104 &lt;int&gt; | HG00105 &lt;int&gt; | HG00106 &lt;int&gt; | HG00108 &lt;int&gt; | HG00109 &lt;int&gt; | HG00110 &lt;int&gt; | HG00111 &lt;int&gt; | HG00112 &lt;int&gt; | HG00114 &lt;int&gt; |\n",
       "|---|---|---|---|---|---|---|---|---|---|---|---|---|---|---|---|---|---|---|---|\n",
       "| chr1:779092:781936:clu_1_+:N | clu_1 | N | N | 0 | 0 | 0 | 0 | 0 | 0 | 0 | 0 | 0 | 0 | 1 | 0 | 0 | 0 | 0 | 0 |\n",
       "| chr1:779092:786392:clu_1_+:N | clu_1 | N | N | 0 | 0 | 0 | 0 | 0 | 0 | 0 | 0 | 0 | 0 | 0 | 0 | 0 | 0 | 0 | 0 |\n",
       "| chr1:779092:803918:clu_1_+:N | clu_1 | N | N | 0 | 1 | 2 | 1 | 1 | 0 | 0 | 0 | 0 | 0 | 0 | 0 | 0 | 0 | 0 | 1 |\n",
       "| chr1:779092:803921:clu_1_+:N | clu_1 | N | N | 0 | 0 | 0 | 0 | 0 | 0 | 0 | 0 | 0 | 0 | 0 | 0 | 0 | 0 | 0 | 0 |\n",
       "| chr1:779092:803950:clu_1_+:N | clu_1 | N | N | 0 | 0 | 0 | 0 | 0 | 0 | 0 | 0 | 0 | 0 | 0 | 0 | 0 | 0 | 0 | 0 |\n",
       "\n"
      ],
      "text/plain": [
       "  chrom                        clu   clu_type intron_type HG00096 HG00097\n",
       "1 chr1:779092:781936:clu_1_+:N clu_1 N        N           0       0      \n",
       "2 chr1:779092:786392:clu_1_+:N clu_1 N        N           0       0      \n",
       "3 chr1:779092:803918:clu_1_+:N clu_1 N        N           0       1      \n",
       "4 chr1:779092:803921:clu_1_+:N clu_1 N        N           0       0      \n",
       "5 chr1:779092:803950:clu_1_+:N clu_1 N        N           0       0      \n",
       "  HG00099 HG00100 HG00101 HG00102 HG00103 HG00104 HG00105 HG00106 HG00108\n",
       "1 0       0       0       0       0       0       0       0       1      \n",
       "2 0       0       0       0       0       0       0       0       0      \n",
       "3 2       1       1       0       0       0       0       0       0      \n",
       "4 0       0       0       0       0       0       0       0       0      \n",
       "5 0       0       0       0       0       0       0       0       0      \n",
       "  HG00109 HG00110 HG00111 HG00112 HG00114\n",
       "1 0       0       0       0       0      \n",
       "2 0       0       0       0       0      \n",
       "3 0       0       0       0       1      \n",
       "4 0       0       0       0       0      \n",
       "5 0       0       0       0       0      "
      ]
     },
     "metadata": {},
     "output_type": "display_data"
    },
    {
     "data": {
      "text/html": [
       "<style>\n",
       ".list-inline {list-style: none; margin:0; padding: 0}\n",
       ".list-inline>li {display: inline-block}\n",
       ".list-inline>li:not(:last-child)::after {content: \"\\00b7\"; padding: 0 .5ex}\n",
       "</style>\n",
       "<ol class=list-inline><li>'chrom'</li><li>'clu'</li><li>'clu_type'</li><li>'intron_type'</li><li>'HG00096'</li><li>'HG00097'</li><li>'HG00099'</li><li>'HG00100'</li><li>'HG00101'</li><li>'HG00102'</li><li>'HG00103'</li><li>'HG00104'</li><li>'HG00105'</li><li>'HG00106'</li><li>'HG00108'</li><li>'HG00109'</li><li>'HG00110'</li><li>'HG00111'</li><li>'HG00112'</li><li>'HG00114'</li><li>'HG00115'</li><li>'HG00116'</li><li>'HG00117'</li><li>'HG00118'</li><li>'HG00119'</li><li>'HG00120'</li><li>'HG00121'</li><li>'HG00122'</li><li>'HG00123'</li><li>'HG00124'</li><li>'HG00125'</li><li>'HG00126'</li><li>'HG00127'</li><li>'HG00128'</li><li>'HG00129'</li><li>'HG00130'</li><li>'HG00131'</li><li>'HG00132'</li><li>'HG00133'</li><li>'HG00134'</li><li>'HG00135'</li><li>'HG00136'</li><li>'HG00137'</li><li>'HG00138'</li><li>'HG00139'</li><li>'HG00141'</li><li>'HG00142'</li><li>'HG00143'</li><li>'HG00145'</li><li>'HG00146'</li><li>'HG00148'</li><li>'HG00149'</li><li>'HG00150'</li><li>'HG00151'</li><li>'HG00152'</li><li>'HG00154'</li><li>'HG00155'</li><li>'HG00156'</li><li>'HG00157'</li><li>'HG00158'</li><li>'HG00159'</li><li>'HG00160'</li><li>'HG00171'</li><li>'HG00173'</li><li>'HG00174'</li><li>'HG00176'</li><li>'HG00177'</li><li>'HG00178'</li><li>'HG00179'</li><li>'HG00180'</li><li>'HG00181'</li><li>'HG00182'</li><li>'HG00183'</li><li>'HG00185'</li><li>'HG00186'</li><li>'HG00187'</li><li>'HG00188'</li><li>'HG00189'</li><li>'HG00231'</li><li>'HG00232'</li><li>'HG00233'</li><li>'HG00234'</li><li>'HG00235'</li><li>'HG00236'</li><li>'HG00238'</li><li>'HG00239'</li><li>'HG00240'</li><li>'HG00242'</li><li>'HG00243'</li><li>'HG00244'</li><li>'HG00245'</li><li>'HG00246'</li><li>'HG00247'</li><li>'HG00249'</li><li>'HG00250'</li><li>'HG00251'</li><li>'HG00252'</li><li>'HG00253'</li><li>'HG00255'</li><li>'HG00256'</li><li>'HG00257'</li><li>'HG00258'</li><li>'HG00259'</li><li>'HG00260'</li><li>'HG00261'</li><li>'HG00262'</li><li>'HG00263'</li><li>'HG00264'</li><li>'HG00265'</li><li>'HG00266'</li><li>'HG00267'</li><li>'HG00268'</li><li>'HG00269'</li><li>'HG00271'</li><li>'HG00272'</li><li>'HG00273'</li><li>'HG00274'</li><li>'HG00275'</li><li>'HG00276'</li><li>'HG00277'</li><li>'HG00278'</li><li>'HG00280'</li><li>'HG00281'</li><li>'HG00282'</li><li>'HG00284'</li><li>'HG00285'</li><li>'HG00306'</li><li>'HG00308'</li><li>'HG00309'</li><li>'HG00310'</li><li>'HG00311'</li><li>'HG00312'</li><li>'HG00313'</li><li>'HG00315'</li><li>'HG00319'</li><li>'HG00320'</li><li>'HG00321'</li><li>'HG00323'</li><li>'HG00324'</li><li>'HG00325'</li><li>'HG00326'</li><li>'HG00327'</li><li>'HG00328'</li><li>'HG00329'</li><li>'HG00330'</li><li>'HG00331'</li><li>'HG00332'</li><li>'HG00334'</li><li>'HG00335'</li><li>'HG00336'</li><li>'HG00337'</li><li>'HG00338'</li><li>'HG00339'</li><li>'HG00341'</li><li>'HG00342'</li><li>'HG00343'</li><li>'HG00344'</li><li>'HG00345'</li><li>'HG00346'</li><li>'HG00349'</li><li>'HG00350'</li><li>'HG00351'</li><li>'HG00353'</li><li>'HG00355'</li><li>'HG00356'</li><li>'HG00358'</li><li>'HG00359'</li><li>'HG00360'</li><li>'HG00361'</li><li>'HG00362'</li><li>'HG00364'</li><li>'HG00365'</li><li>'HG00366'</li><li>'HG00367'</li><li>'HG00369'</li><li>'HG00371'</li><li>'HG00372'</li><li>'HG00373'</li><li>'HG00375'</li><li>'HG00376'</li><li>'HG00377'</li><li>'HG00378'</li><li>'HG00379'</li><li>'HG00380'</li><li>'HG00381'</li><li>'HG00382'</li><li>'HG00383'</li><li>'HG00384'</li><li>'HG01334'</li><li>'HG01789'</li><li>'HG01790'</li><li>'HG01791'</li><li>'HG02215'</li><li>'NA06984'</li><li>'NA06985'</li><li>'NA06986'</li><li>'NA06989'</li><li>'NA06994'</li><li>'NA07037'</li><li>'NA07048'</li><li>'NA07051'</li><li>'NA07056'</li><li>'NA07346'</li><li>'NA07347'</li><li>'NA07357'</li><li>'NA10847'</li><li>'NA10851'</li><li>'NA11829'</li><li>'NA11830'</li><li>'NA11831'</li><li>'NA11832'</li><li>'NA11840'</li><li>'NA11843'</li><li>'NA11881'</li><li>'NA11892'</li><li>'NA11893'</li><li>'NA11894'</li><li>'NA11918'</li><li>'NA11920'</li><li>'NA11930'</li><li>'NA11931'</li><li>'NA11992'</li><li>'NA11993'</li><li>'NA11994'</li><li>'NA11995'</li><li>'NA12004'</li><li>'NA12005'</li><li>'NA12006'</li><li>'NA12043'</li><li>'NA12044'</li><li>'NA12045'</li><li>'NA12058'</li><li>'NA12144'</li><li>'NA12154'</li><li>'NA12155'</li><li>'NA12156'</li><li>'NA12234'</li><li>'NA12249'</li><li>'NA12272'</li><li>'NA12273'</li><li>'NA12275'</li><li>'NA12282'</li><li>'NA12283'</li><li>'NA12286'</li><li>'NA12287'</li><li>'NA12340'</li><li>'NA12341'</li><li>'NA12342'</li><li>'NA12347'</li><li>'NA12348'</li><li>'NA12383'</li><li>'NA12399'</li><li>'NA12400'</li><li>'NA12413'</li><li>'NA12489'</li><li>'NA12546'</li><li>'NA12716'</li><li>'NA12717'</li><li>'NA12718'</li><li>'NA12749'</li><li>'NA12750'</li><li>'NA12751'</li><li>'NA12760'</li><li>'NA12761'</li><li>'NA12762'</li><li>'NA12763'</li><li>'NA12775'</li><li>'NA12776'</li><li>'NA12777'</li><li>'NA12778'</li><li>'NA12812'</li><li>'NA12813'</li><li>'NA12814'</li><li>'NA12815'</li><li>'NA12827'</li><li>'NA12829'</li><li>'NA12830'</li><li>'NA12842'</li><li>'NA12843'</li><li>'NA12872'</li><li>'NA12873'</li><li>'NA12874'</li><li>'NA12889'</li><li>'NA12890'</li><li>'NA20502'</li><li>'NA20503'</li><li>'NA20504'</li><li>'NA20505'</li><li>'NA20506'</li><li>'NA20507'</li><li>'NA20508'</li><li>'NA20509'</li><li>'NA20510'</li><li>'NA20512'</li><li>'NA20513'</li><li>'NA20514'</li><li>'NA20515'</li><li>'NA20516'</li><li>'NA20517'</li><li>'NA20518'</li><li>'NA20519'</li><li>'NA20520'</li><li>'NA20521'</li><li>'NA20524'</li><li>'NA20525'</li><li>'NA20527'</li><li>'NA20528'</li><li>'NA20529'</li><li>'NA20530'</li><li>'NA20531'</li><li>'NA20532'</li><li>'NA20534'</li><li>'NA20535'</li><li>'NA20536'</li><li>'NA20537'</li><li>'NA20538'</li><li>'NA20539'</li><li>'NA20540'</li><li>'NA20541'</li><li>'NA20542'</li><li>'NA20543'</li><li>'NA20544'</li><li>'NA20581'</li><li>'NA20582'</li><li>'NA20585'</li><li>'NA20586'</li><li>'NA20588'</li><li>'NA20589'</li><li>'NA20752'</li><li>'NA20754'</li><li>'NA20756'</li><li>'NA20757'</li><li>'NA20758'</li><li>'NA20759'</li><li>'NA20760'</li><li>'NA20761'</li><li>'NA20765'</li><li>'NA20766'</li><li>'NA20768'</li><li>'NA20769'</li><li>'NA20770'</li><li>'NA20771'</li><li>'NA20772'</li><li>'NA20773'</li><li>'NA20774'</li><li>'NA20778'</li><li>'NA20783'</li><li>'NA20785'</li><li>'NA20786'</li><li>'NA20787'</li><li>'NA20790'</li><li>'NA20792'</li><li>'NA20795'</li><li>'NA20796'</li><li>'NA20797'</li><li>'NA20798'</li><li>'NA20799'</li><li>'NA20800'</li><li>'NA20801'</li><li>'NA20802'</li><li>'NA20803'</li><li>'NA20804'</li><li>'NA20805'</li><li>'NA20806'</li><li>'NA20807'</li><li>'NA20808'</li><li>'NA20809'</li><li>'NA20810'</li><li>'NA20811'</li><li>'NA20812'</li><li>'NA20813'</li><li>'NA20814'</li><li>'NA20815'</li><li>'NA20816'</li><li>'NA20819'</li><li>'NA20826'</li><li>'NA20828'</li></ol>\n"
      ],
      "text/latex": [
       "\\begin{enumerate*}\n",
       "\\item 'chrom'\n",
       "\\item 'clu'\n",
       "\\item 'clu\\_type'\n",
       "\\item 'intron\\_type'\n",
       "\\item 'HG00096'\n",
       "\\item 'HG00097'\n",
       "\\item 'HG00099'\n",
       "\\item 'HG00100'\n",
       "\\item 'HG00101'\n",
       "\\item 'HG00102'\n",
       "\\item 'HG00103'\n",
       "\\item 'HG00104'\n",
       "\\item 'HG00105'\n",
       "\\item 'HG00106'\n",
       "\\item 'HG00108'\n",
       "\\item 'HG00109'\n",
       "\\item 'HG00110'\n",
       "\\item 'HG00111'\n",
       "\\item 'HG00112'\n",
       "\\item 'HG00114'\n",
       "\\item 'HG00115'\n",
       "\\item 'HG00116'\n",
       "\\item 'HG00117'\n",
       "\\item 'HG00118'\n",
       "\\item 'HG00119'\n",
       "\\item 'HG00120'\n",
       "\\item 'HG00121'\n",
       "\\item 'HG00122'\n",
       "\\item 'HG00123'\n",
       "\\item 'HG00124'\n",
       "\\item 'HG00125'\n",
       "\\item 'HG00126'\n",
       "\\item 'HG00127'\n",
       "\\item 'HG00128'\n",
       "\\item 'HG00129'\n",
       "\\item 'HG00130'\n",
       "\\item 'HG00131'\n",
       "\\item 'HG00132'\n",
       "\\item 'HG00133'\n",
       "\\item 'HG00134'\n",
       "\\item 'HG00135'\n",
       "\\item 'HG00136'\n",
       "\\item 'HG00137'\n",
       "\\item 'HG00138'\n",
       "\\item 'HG00139'\n",
       "\\item 'HG00141'\n",
       "\\item 'HG00142'\n",
       "\\item 'HG00143'\n",
       "\\item 'HG00145'\n",
       "\\item 'HG00146'\n",
       "\\item 'HG00148'\n",
       "\\item 'HG00149'\n",
       "\\item 'HG00150'\n",
       "\\item 'HG00151'\n",
       "\\item 'HG00152'\n",
       "\\item 'HG00154'\n",
       "\\item 'HG00155'\n",
       "\\item 'HG00156'\n",
       "\\item 'HG00157'\n",
       "\\item 'HG00158'\n",
       "\\item 'HG00159'\n",
       "\\item 'HG00160'\n",
       "\\item 'HG00171'\n",
       "\\item 'HG00173'\n",
       "\\item 'HG00174'\n",
       "\\item 'HG00176'\n",
       "\\item 'HG00177'\n",
       "\\item 'HG00178'\n",
       "\\item 'HG00179'\n",
       "\\item 'HG00180'\n",
       "\\item 'HG00181'\n",
       "\\item 'HG00182'\n",
       "\\item 'HG00183'\n",
       "\\item 'HG00185'\n",
       "\\item 'HG00186'\n",
       "\\item 'HG00187'\n",
       "\\item 'HG00188'\n",
       "\\item 'HG00189'\n",
       "\\item 'HG00231'\n",
       "\\item 'HG00232'\n",
       "\\item 'HG00233'\n",
       "\\item 'HG00234'\n",
       "\\item 'HG00235'\n",
       "\\item 'HG00236'\n",
       "\\item 'HG00238'\n",
       "\\item 'HG00239'\n",
       "\\item 'HG00240'\n",
       "\\item 'HG00242'\n",
       "\\item 'HG00243'\n",
       "\\item 'HG00244'\n",
       "\\item 'HG00245'\n",
       "\\item 'HG00246'\n",
       "\\item 'HG00247'\n",
       "\\item 'HG00249'\n",
       "\\item 'HG00250'\n",
       "\\item 'HG00251'\n",
       "\\item 'HG00252'\n",
       "\\item 'HG00253'\n",
       "\\item 'HG00255'\n",
       "\\item 'HG00256'\n",
       "\\item 'HG00257'\n",
       "\\item 'HG00258'\n",
       "\\item 'HG00259'\n",
       "\\item 'HG00260'\n",
       "\\item 'HG00261'\n",
       "\\item 'HG00262'\n",
       "\\item 'HG00263'\n",
       "\\item 'HG00264'\n",
       "\\item 'HG00265'\n",
       "\\item 'HG00266'\n",
       "\\item 'HG00267'\n",
       "\\item 'HG00268'\n",
       "\\item 'HG00269'\n",
       "\\item 'HG00271'\n",
       "\\item 'HG00272'\n",
       "\\item 'HG00273'\n",
       "\\item 'HG00274'\n",
       "\\item 'HG00275'\n",
       "\\item 'HG00276'\n",
       "\\item 'HG00277'\n",
       "\\item 'HG00278'\n",
       "\\item 'HG00280'\n",
       "\\item 'HG00281'\n",
       "\\item 'HG00282'\n",
       "\\item 'HG00284'\n",
       "\\item 'HG00285'\n",
       "\\item 'HG00306'\n",
       "\\item 'HG00308'\n",
       "\\item 'HG00309'\n",
       "\\item 'HG00310'\n",
       "\\item 'HG00311'\n",
       "\\item 'HG00312'\n",
       "\\item 'HG00313'\n",
       "\\item 'HG00315'\n",
       "\\item 'HG00319'\n",
       "\\item 'HG00320'\n",
       "\\item 'HG00321'\n",
       "\\item 'HG00323'\n",
       "\\item 'HG00324'\n",
       "\\item 'HG00325'\n",
       "\\item 'HG00326'\n",
       "\\item 'HG00327'\n",
       "\\item 'HG00328'\n",
       "\\item 'HG00329'\n",
       "\\item 'HG00330'\n",
       "\\item 'HG00331'\n",
       "\\item 'HG00332'\n",
       "\\item 'HG00334'\n",
       "\\item 'HG00335'\n",
       "\\item 'HG00336'\n",
       "\\item 'HG00337'\n",
       "\\item 'HG00338'\n",
       "\\item 'HG00339'\n",
       "\\item 'HG00341'\n",
       "\\item 'HG00342'\n",
       "\\item 'HG00343'\n",
       "\\item 'HG00344'\n",
       "\\item 'HG00345'\n",
       "\\item 'HG00346'\n",
       "\\item 'HG00349'\n",
       "\\item 'HG00350'\n",
       "\\item 'HG00351'\n",
       "\\item 'HG00353'\n",
       "\\item 'HG00355'\n",
       "\\item 'HG00356'\n",
       "\\item 'HG00358'\n",
       "\\item 'HG00359'\n",
       "\\item 'HG00360'\n",
       "\\item 'HG00361'\n",
       "\\item 'HG00362'\n",
       "\\item 'HG00364'\n",
       "\\item 'HG00365'\n",
       "\\item 'HG00366'\n",
       "\\item 'HG00367'\n",
       "\\item 'HG00369'\n",
       "\\item 'HG00371'\n",
       "\\item 'HG00372'\n",
       "\\item 'HG00373'\n",
       "\\item 'HG00375'\n",
       "\\item 'HG00376'\n",
       "\\item 'HG00377'\n",
       "\\item 'HG00378'\n",
       "\\item 'HG00379'\n",
       "\\item 'HG00380'\n",
       "\\item 'HG00381'\n",
       "\\item 'HG00382'\n",
       "\\item 'HG00383'\n",
       "\\item 'HG00384'\n",
       "\\item 'HG01334'\n",
       "\\item 'HG01789'\n",
       "\\item 'HG01790'\n",
       "\\item 'HG01791'\n",
       "\\item 'HG02215'\n",
       "\\item 'NA06984'\n",
       "\\item 'NA06985'\n",
       "\\item 'NA06986'\n",
       "\\item 'NA06989'\n",
       "\\item 'NA06994'\n",
       "\\item 'NA07037'\n",
       "\\item 'NA07048'\n",
       "\\item 'NA07051'\n",
       "\\item 'NA07056'\n",
       "\\item 'NA07346'\n",
       "\\item 'NA07347'\n",
       "\\item 'NA07357'\n",
       "\\item 'NA10847'\n",
       "\\item 'NA10851'\n",
       "\\item 'NA11829'\n",
       "\\item 'NA11830'\n",
       "\\item 'NA11831'\n",
       "\\item 'NA11832'\n",
       "\\item 'NA11840'\n",
       "\\item 'NA11843'\n",
       "\\item 'NA11881'\n",
       "\\item 'NA11892'\n",
       "\\item 'NA11893'\n",
       "\\item 'NA11894'\n",
       "\\item 'NA11918'\n",
       "\\item 'NA11920'\n",
       "\\item 'NA11930'\n",
       "\\item 'NA11931'\n",
       "\\item 'NA11992'\n",
       "\\item 'NA11993'\n",
       "\\item 'NA11994'\n",
       "\\item 'NA11995'\n",
       "\\item 'NA12004'\n",
       "\\item 'NA12005'\n",
       "\\item 'NA12006'\n",
       "\\item 'NA12043'\n",
       "\\item 'NA12044'\n",
       "\\item 'NA12045'\n",
       "\\item 'NA12058'\n",
       "\\item 'NA12144'\n",
       "\\item 'NA12154'\n",
       "\\item 'NA12155'\n",
       "\\item 'NA12156'\n",
       "\\item 'NA12234'\n",
       "\\item 'NA12249'\n",
       "\\item 'NA12272'\n",
       "\\item 'NA12273'\n",
       "\\item 'NA12275'\n",
       "\\item 'NA12282'\n",
       "\\item 'NA12283'\n",
       "\\item 'NA12286'\n",
       "\\item 'NA12287'\n",
       "\\item 'NA12340'\n",
       "\\item 'NA12341'\n",
       "\\item 'NA12342'\n",
       "\\item 'NA12347'\n",
       "\\item 'NA12348'\n",
       "\\item 'NA12383'\n",
       "\\item 'NA12399'\n",
       "\\item 'NA12400'\n",
       "\\item 'NA12413'\n",
       "\\item 'NA12489'\n",
       "\\item 'NA12546'\n",
       "\\item 'NA12716'\n",
       "\\item 'NA12717'\n",
       "\\item 'NA12718'\n",
       "\\item 'NA12749'\n",
       "\\item 'NA12750'\n",
       "\\item 'NA12751'\n",
       "\\item 'NA12760'\n",
       "\\item 'NA12761'\n",
       "\\item 'NA12762'\n",
       "\\item 'NA12763'\n",
       "\\item 'NA12775'\n",
       "\\item 'NA12776'\n",
       "\\item 'NA12777'\n",
       "\\item 'NA12778'\n",
       "\\item 'NA12812'\n",
       "\\item 'NA12813'\n",
       "\\item 'NA12814'\n",
       "\\item 'NA12815'\n",
       "\\item 'NA12827'\n",
       "\\item 'NA12829'\n",
       "\\item 'NA12830'\n",
       "\\item 'NA12842'\n",
       "\\item 'NA12843'\n",
       "\\item 'NA12872'\n",
       "\\item 'NA12873'\n",
       "\\item 'NA12874'\n",
       "\\item 'NA12889'\n",
       "\\item 'NA12890'\n",
       "\\item 'NA20502'\n",
       "\\item 'NA20503'\n",
       "\\item 'NA20504'\n",
       "\\item 'NA20505'\n",
       "\\item 'NA20506'\n",
       "\\item 'NA20507'\n",
       "\\item 'NA20508'\n",
       "\\item 'NA20509'\n",
       "\\item 'NA20510'\n",
       "\\item 'NA20512'\n",
       "\\item 'NA20513'\n",
       "\\item 'NA20514'\n",
       "\\item 'NA20515'\n",
       "\\item 'NA20516'\n",
       "\\item 'NA20517'\n",
       "\\item 'NA20518'\n",
       "\\item 'NA20519'\n",
       "\\item 'NA20520'\n",
       "\\item 'NA20521'\n",
       "\\item 'NA20524'\n",
       "\\item 'NA20525'\n",
       "\\item 'NA20527'\n",
       "\\item 'NA20528'\n",
       "\\item 'NA20529'\n",
       "\\item 'NA20530'\n",
       "\\item 'NA20531'\n",
       "\\item 'NA20532'\n",
       "\\item 'NA20534'\n",
       "\\item 'NA20535'\n",
       "\\item 'NA20536'\n",
       "\\item 'NA20537'\n",
       "\\item 'NA20538'\n",
       "\\item 'NA20539'\n",
       "\\item 'NA20540'\n",
       "\\item 'NA20541'\n",
       "\\item 'NA20542'\n",
       "\\item 'NA20543'\n",
       "\\item 'NA20544'\n",
       "\\item 'NA20581'\n",
       "\\item 'NA20582'\n",
       "\\item 'NA20585'\n",
       "\\item 'NA20586'\n",
       "\\item 'NA20588'\n",
       "\\item 'NA20589'\n",
       "\\item 'NA20752'\n",
       "\\item 'NA20754'\n",
       "\\item 'NA20756'\n",
       "\\item 'NA20757'\n",
       "\\item 'NA20758'\n",
       "\\item 'NA20759'\n",
       "\\item 'NA20760'\n",
       "\\item 'NA20761'\n",
       "\\item 'NA20765'\n",
       "\\item 'NA20766'\n",
       "\\item 'NA20768'\n",
       "\\item 'NA20769'\n",
       "\\item 'NA20770'\n",
       "\\item 'NA20771'\n",
       "\\item 'NA20772'\n",
       "\\item 'NA20773'\n",
       "\\item 'NA20774'\n",
       "\\item 'NA20778'\n",
       "\\item 'NA20783'\n",
       "\\item 'NA20785'\n",
       "\\item 'NA20786'\n",
       "\\item 'NA20787'\n",
       "\\item 'NA20790'\n",
       "\\item 'NA20792'\n",
       "\\item 'NA20795'\n",
       "\\item 'NA20796'\n",
       "\\item 'NA20797'\n",
       "\\item 'NA20798'\n",
       "\\item 'NA20799'\n",
       "\\item 'NA20800'\n",
       "\\item 'NA20801'\n",
       "\\item 'NA20802'\n",
       "\\item 'NA20803'\n",
       "\\item 'NA20804'\n",
       "\\item 'NA20805'\n",
       "\\item 'NA20806'\n",
       "\\item 'NA20807'\n",
       "\\item 'NA20808'\n",
       "\\item 'NA20809'\n",
       "\\item 'NA20810'\n",
       "\\item 'NA20811'\n",
       "\\item 'NA20812'\n",
       "\\item 'NA20813'\n",
       "\\item 'NA20814'\n",
       "\\item 'NA20815'\n",
       "\\item 'NA20816'\n",
       "\\item 'NA20819'\n",
       "\\item 'NA20826'\n",
       "\\item 'NA20828'\n",
       "\\end{enumerate*}\n"
      ],
      "text/markdown": [
       "1. 'chrom'\n",
       "2. 'clu'\n",
       "3. 'clu_type'\n",
       "4. 'intron_type'\n",
       "5. 'HG00096'\n",
       "6. 'HG00097'\n",
       "7. 'HG00099'\n",
       "8. 'HG00100'\n",
       "9. 'HG00101'\n",
       "10. 'HG00102'\n",
       "11. 'HG00103'\n",
       "12. 'HG00104'\n",
       "13. 'HG00105'\n",
       "14. 'HG00106'\n",
       "15. 'HG00108'\n",
       "16. 'HG00109'\n",
       "17. 'HG00110'\n",
       "18. 'HG00111'\n",
       "19. 'HG00112'\n",
       "20. 'HG00114'\n",
       "21. 'HG00115'\n",
       "22. 'HG00116'\n",
       "23. 'HG00117'\n",
       "24. 'HG00118'\n",
       "25. 'HG00119'\n",
       "26. 'HG00120'\n",
       "27. 'HG00121'\n",
       "28. 'HG00122'\n",
       "29. 'HG00123'\n",
       "30. 'HG00124'\n",
       "31. 'HG00125'\n",
       "32. 'HG00126'\n",
       "33. 'HG00127'\n",
       "34. 'HG00128'\n",
       "35. 'HG00129'\n",
       "36. 'HG00130'\n",
       "37. 'HG00131'\n",
       "38. 'HG00132'\n",
       "39. 'HG00133'\n",
       "40. 'HG00134'\n",
       "41. 'HG00135'\n",
       "42. 'HG00136'\n",
       "43. 'HG00137'\n",
       "44. 'HG00138'\n",
       "45. 'HG00139'\n",
       "46. 'HG00141'\n",
       "47. 'HG00142'\n",
       "48. 'HG00143'\n",
       "49. 'HG00145'\n",
       "50. 'HG00146'\n",
       "51. 'HG00148'\n",
       "52. 'HG00149'\n",
       "53. 'HG00150'\n",
       "54. 'HG00151'\n",
       "55. 'HG00152'\n",
       "56. 'HG00154'\n",
       "57. 'HG00155'\n",
       "58. 'HG00156'\n",
       "59. 'HG00157'\n",
       "60. 'HG00158'\n",
       "61. 'HG00159'\n",
       "62. 'HG00160'\n",
       "63. 'HG00171'\n",
       "64. 'HG00173'\n",
       "65. 'HG00174'\n",
       "66. 'HG00176'\n",
       "67. 'HG00177'\n",
       "68. 'HG00178'\n",
       "69. 'HG00179'\n",
       "70. 'HG00180'\n",
       "71. 'HG00181'\n",
       "72. 'HG00182'\n",
       "73. 'HG00183'\n",
       "74. 'HG00185'\n",
       "75. 'HG00186'\n",
       "76. 'HG00187'\n",
       "77. 'HG00188'\n",
       "78. 'HG00189'\n",
       "79. 'HG00231'\n",
       "80. 'HG00232'\n",
       "81. 'HG00233'\n",
       "82. 'HG00234'\n",
       "83. 'HG00235'\n",
       "84. 'HG00236'\n",
       "85. 'HG00238'\n",
       "86. 'HG00239'\n",
       "87. 'HG00240'\n",
       "88. 'HG00242'\n",
       "89. 'HG00243'\n",
       "90. 'HG00244'\n",
       "91. 'HG00245'\n",
       "92. 'HG00246'\n",
       "93. 'HG00247'\n",
       "94. 'HG00249'\n",
       "95. 'HG00250'\n",
       "96. 'HG00251'\n",
       "97. 'HG00252'\n",
       "98. 'HG00253'\n",
       "99. 'HG00255'\n",
       "100. 'HG00256'\n",
       "101. 'HG00257'\n",
       "102. 'HG00258'\n",
       "103. 'HG00259'\n",
       "104. 'HG00260'\n",
       "105. 'HG00261'\n",
       "106. 'HG00262'\n",
       "107. 'HG00263'\n",
       "108. 'HG00264'\n",
       "109. 'HG00265'\n",
       "110. 'HG00266'\n",
       "111. 'HG00267'\n",
       "112. 'HG00268'\n",
       "113. 'HG00269'\n",
       "114. 'HG00271'\n",
       "115. 'HG00272'\n",
       "116. 'HG00273'\n",
       "117. 'HG00274'\n",
       "118. 'HG00275'\n",
       "119. 'HG00276'\n",
       "120. 'HG00277'\n",
       "121. 'HG00278'\n",
       "122. 'HG00280'\n",
       "123. 'HG00281'\n",
       "124. 'HG00282'\n",
       "125. 'HG00284'\n",
       "126. 'HG00285'\n",
       "127. 'HG00306'\n",
       "128. 'HG00308'\n",
       "129. 'HG00309'\n",
       "130. 'HG00310'\n",
       "131. 'HG00311'\n",
       "132. 'HG00312'\n",
       "133. 'HG00313'\n",
       "134. 'HG00315'\n",
       "135. 'HG00319'\n",
       "136. 'HG00320'\n",
       "137. 'HG00321'\n",
       "138. 'HG00323'\n",
       "139. 'HG00324'\n",
       "140. 'HG00325'\n",
       "141. 'HG00326'\n",
       "142. 'HG00327'\n",
       "143. 'HG00328'\n",
       "144. 'HG00329'\n",
       "145. 'HG00330'\n",
       "146. 'HG00331'\n",
       "147. 'HG00332'\n",
       "148. 'HG00334'\n",
       "149. 'HG00335'\n",
       "150. 'HG00336'\n",
       "151. 'HG00337'\n",
       "152. 'HG00338'\n",
       "153. 'HG00339'\n",
       "154. 'HG00341'\n",
       "155. 'HG00342'\n",
       "156. 'HG00343'\n",
       "157. 'HG00344'\n",
       "158. 'HG00345'\n",
       "159. 'HG00346'\n",
       "160. 'HG00349'\n",
       "161. 'HG00350'\n",
       "162. 'HG00351'\n",
       "163. 'HG00353'\n",
       "164. 'HG00355'\n",
       "165. 'HG00356'\n",
       "166. 'HG00358'\n",
       "167. 'HG00359'\n",
       "168. 'HG00360'\n",
       "169. 'HG00361'\n",
       "170. 'HG00362'\n",
       "171. 'HG00364'\n",
       "172. 'HG00365'\n",
       "173. 'HG00366'\n",
       "174. 'HG00367'\n",
       "175. 'HG00369'\n",
       "176. 'HG00371'\n",
       "177. 'HG00372'\n",
       "178. 'HG00373'\n",
       "179. 'HG00375'\n",
       "180. 'HG00376'\n",
       "181. 'HG00377'\n",
       "182. 'HG00378'\n",
       "183. 'HG00379'\n",
       "184. 'HG00380'\n",
       "185. 'HG00381'\n",
       "186. 'HG00382'\n",
       "187. 'HG00383'\n",
       "188. 'HG00384'\n",
       "189. 'HG01334'\n",
       "190. 'HG01789'\n",
       "191. 'HG01790'\n",
       "192. 'HG01791'\n",
       "193. 'HG02215'\n",
       "194. 'NA06984'\n",
       "195. 'NA06985'\n",
       "196. 'NA06986'\n",
       "197. 'NA06989'\n",
       "198. 'NA06994'\n",
       "199. 'NA07037'\n",
       "200. 'NA07048'\n",
       "201. 'NA07051'\n",
       "202. 'NA07056'\n",
       "203. 'NA07346'\n",
       "204. 'NA07347'\n",
       "205. 'NA07357'\n",
       "206. 'NA10847'\n",
       "207. 'NA10851'\n",
       "208. 'NA11829'\n",
       "209. 'NA11830'\n",
       "210. 'NA11831'\n",
       "211. 'NA11832'\n",
       "212. 'NA11840'\n",
       "213. 'NA11843'\n",
       "214. 'NA11881'\n",
       "215. 'NA11892'\n",
       "216. 'NA11893'\n",
       "217. 'NA11894'\n",
       "218. 'NA11918'\n",
       "219. 'NA11920'\n",
       "220. 'NA11930'\n",
       "221. 'NA11931'\n",
       "222. 'NA11992'\n",
       "223. 'NA11993'\n",
       "224. 'NA11994'\n",
       "225. 'NA11995'\n",
       "226. 'NA12004'\n",
       "227. 'NA12005'\n",
       "228. 'NA12006'\n",
       "229. 'NA12043'\n",
       "230. 'NA12044'\n",
       "231. 'NA12045'\n",
       "232. 'NA12058'\n",
       "233. 'NA12144'\n",
       "234. 'NA12154'\n",
       "235. 'NA12155'\n",
       "236. 'NA12156'\n",
       "237. 'NA12234'\n",
       "238. 'NA12249'\n",
       "239. 'NA12272'\n",
       "240. 'NA12273'\n",
       "241. 'NA12275'\n",
       "242. 'NA12282'\n",
       "243. 'NA12283'\n",
       "244. 'NA12286'\n",
       "245. 'NA12287'\n",
       "246. 'NA12340'\n",
       "247. 'NA12341'\n",
       "248. 'NA12342'\n",
       "249. 'NA12347'\n",
       "250. 'NA12348'\n",
       "251. 'NA12383'\n",
       "252. 'NA12399'\n",
       "253. 'NA12400'\n",
       "254. 'NA12413'\n",
       "255. 'NA12489'\n",
       "256. 'NA12546'\n",
       "257. 'NA12716'\n",
       "258. 'NA12717'\n",
       "259. 'NA12718'\n",
       "260. 'NA12749'\n",
       "261. 'NA12750'\n",
       "262. 'NA12751'\n",
       "263. 'NA12760'\n",
       "264. 'NA12761'\n",
       "265. 'NA12762'\n",
       "266. 'NA12763'\n",
       "267. 'NA12775'\n",
       "268. 'NA12776'\n",
       "269. 'NA12777'\n",
       "270. 'NA12778'\n",
       "271. 'NA12812'\n",
       "272. 'NA12813'\n",
       "273. 'NA12814'\n",
       "274. 'NA12815'\n",
       "275. 'NA12827'\n",
       "276. 'NA12829'\n",
       "277. 'NA12830'\n",
       "278. 'NA12842'\n",
       "279. 'NA12843'\n",
       "280. 'NA12872'\n",
       "281. 'NA12873'\n",
       "282. 'NA12874'\n",
       "283. 'NA12889'\n",
       "284. 'NA12890'\n",
       "285. 'NA20502'\n",
       "286. 'NA20503'\n",
       "287. 'NA20504'\n",
       "288. 'NA20505'\n",
       "289. 'NA20506'\n",
       "290. 'NA20507'\n",
       "291. 'NA20508'\n",
       "292. 'NA20509'\n",
       "293. 'NA20510'\n",
       "294. 'NA20512'\n",
       "295. 'NA20513'\n",
       "296. 'NA20514'\n",
       "297. 'NA20515'\n",
       "298. 'NA20516'\n",
       "299. 'NA20517'\n",
       "300. 'NA20518'\n",
       "301. 'NA20519'\n",
       "302. 'NA20520'\n",
       "303. 'NA20521'\n",
       "304. 'NA20524'\n",
       "305. 'NA20525'\n",
       "306. 'NA20527'\n",
       "307. 'NA20528'\n",
       "308. 'NA20529'\n",
       "309. 'NA20530'\n",
       "310. 'NA20531'\n",
       "311. 'NA20532'\n",
       "312. 'NA20534'\n",
       "313. 'NA20535'\n",
       "314. 'NA20536'\n",
       "315. 'NA20537'\n",
       "316. 'NA20538'\n",
       "317. 'NA20539'\n",
       "318. 'NA20540'\n",
       "319. 'NA20541'\n",
       "320. 'NA20542'\n",
       "321. 'NA20543'\n",
       "322. 'NA20544'\n",
       "323. 'NA20581'\n",
       "324. 'NA20582'\n",
       "325. 'NA20585'\n",
       "326. 'NA20586'\n",
       "327. 'NA20588'\n",
       "328. 'NA20589'\n",
       "329. 'NA20752'\n",
       "330. 'NA20754'\n",
       "331. 'NA20756'\n",
       "332. 'NA20757'\n",
       "333. 'NA20758'\n",
       "334. 'NA20759'\n",
       "335. 'NA20760'\n",
       "336. 'NA20761'\n",
       "337. 'NA20765'\n",
       "338. 'NA20766'\n",
       "339. 'NA20768'\n",
       "340. 'NA20769'\n",
       "341. 'NA20770'\n",
       "342. 'NA20771'\n",
       "343. 'NA20772'\n",
       "344. 'NA20773'\n",
       "345. 'NA20774'\n",
       "346. 'NA20778'\n",
       "347. 'NA20783'\n",
       "348. 'NA20785'\n",
       "349. 'NA20786'\n",
       "350. 'NA20787'\n",
       "351. 'NA20790'\n",
       "352. 'NA20792'\n",
       "353. 'NA20795'\n",
       "354. 'NA20796'\n",
       "355. 'NA20797'\n",
       "356. 'NA20798'\n",
       "357. 'NA20799'\n",
       "358. 'NA20800'\n",
       "359. 'NA20801'\n",
       "360. 'NA20802'\n",
       "361. 'NA20803'\n",
       "362. 'NA20804'\n",
       "363. 'NA20805'\n",
       "364. 'NA20806'\n",
       "365. 'NA20807'\n",
       "366. 'NA20808'\n",
       "367. 'NA20809'\n",
       "368. 'NA20810'\n",
       "369. 'NA20811'\n",
       "370. 'NA20812'\n",
       "371. 'NA20813'\n",
       "372. 'NA20814'\n",
       "373. 'NA20815'\n",
       "374. 'NA20816'\n",
       "375. 'NA20819'\n",
       "376. 'NA20826'\n",
       "377. 'NA20828'\n",
       "\n",
       "\n"
      ],
      "text/plain": [
       "  [1] \"chrom\"       \"clu\"         \"clu_type\"    \"intron_type\" \"HG00096\"    \n",
       "  [6] \"HG00097\"     \"HG00099\"     \"HG00100\"     \"HG00101\"     \"HG00102\"    \n",
       " [11] \"HG00103\"     \"HG00104\"     \"HG00105\"     \"HG00106\"     \"HG00108\"    \n",
       " [16] \"HG00109\"     \"HG00110\"     \"HG00111\"     \"HG00112\"     \"HG00114\"    \n",
       " [21] \"HG00115\"     \"HG00116\"     \"HG00117\"     \"HG00118\"     \"HG00119\"    \n",
       " [26] \"HG00120\"     \"HG00121\"     \"HG00122\"     \"HG00123\"     \"HG00124\"    \n",
       " [31] \"HG00125\"     \"HG00126\"     \"HG00127\"     \"HG00128\"     \"HG00129\"    \n",
       " [36] \"HG00130\"     \"HG00131\"     \"HG00132\"     \"HG00133\"     \"HG00134\"    \n",
       " [41] \"HG00135\"     \"HG00136\"     \"HG00137\"     \"HG00138\"     \"HG00139\"    \n",
       " [46] \"HG00141\"     \"HG00142\"     \"HG00143\"     \"HG00145\"     \"HG00146\"    \n",
       " [51] \"HG00148\"     \"HG00149\"     \"HG00150\"     \"HG00151\"     \"HG00152\"    \n",
       " [56] \"HG00154\"     \"HG00155\"     \"HG00156\"     \"HG00157\"     \"HG00158\"    \n",
       " [61] \"HG00159\"     \"HG00160\"     \"HG00171\"     \"HG00173\"     \"HG00174\"    \n",
       " [66] \"HG00176\"     \"HG00177\"     \"HG00178\"     \"HG00179\"     \"HG00180\"    \n",
       " [71] \"HG00181\"     \"HG00182\"     \"HG00183\"     \"HG00185\"     \"HG00186\"    \n",
       " [76] \"HG00187\"     \"HG00188\"     \"HG00189\"     \"HG00231\"     \"HG00232\"    \n",
       " [81] \"HG00233\"     \"HG00234\"     \"HG00235\"     \"HG00236\"     \"HG00238\"    \n",
       " [86] \"HG00239\"     \"HG00240\"     \"HG00242\"     \"HG00243\"     \"HG00244\"    \n",
       " [91] \"HG00245\"     \"HG00246\"     \"HG00247\"     \"HG00249\"     \"HG00250\"    \n",
       " [96] \"HG00251\"     \"HG00252\"     \"HG00253\"     \"HG00255\"     \"HG00256\"    \n",
       "[101] \"HG00257\"     \"HG00258\"     \"HG00259\"     \"HG00260\"     \"HG00261\"    \n",
       "[106] \"HG00262\"     \"HG00263\"     \"HG00264\"     \"HG00265\"     \"HG00266\"    \n",
       "[111] \"HG00267\"     \"HG00268\"     \"HG00269\"     \"HG00271\"     \"HG00272\"    \n",
       "[116] \"HG00273\"     \"HG00274\"     \"HG00275\"     \"HG00276\"     \"HG00277\"    \n",
       "[121] \"HG00278\"     \"HG00280\"     \"HG00281\"     \"HG00282\"     \"HG00284\"    \n",
       "[126] \"HG00285\"     \"HG00306\"     \"HG00308\"     \"HG00309\"     \"HG00310\"    \n",
       "[131] \"HG00311\"     \"HG00312\"     \"HG00313\"     \"HG00315\"     \"HG00319\"    \n",
       "[136] \"HG00320\"     \"HG00321\"     \"HG00323\"     \"HG00324\"     \"HG00325\"    \n",
       "[141] \"HG00326\"     \"HG00327\"     \"HG00328\"     \"HG00329\"     \"HG00330\"    \n",
       "[146] \"HG00331\"     \"HG00332\"     \"HG00334\"     \"HG00335\"     \"HG00336\"    \n",
       "[151] \"HG00337\"     \"HG00338\"     \"HG00339\"     \"HG00341\"     \"HG00342\"    \n",
       "[156] \"HG00343\"     \"HG00344\"     \"HG00345\"     \"HG00346\"     \"HG00349\"    \n",
       "[161] \"HG00350\"     \"HG00351\"     \"HG00353\"     \"HG00355\"     \"HG00356\"    \n",
       "[166] \"HG00358\"     \"HG00359\"     \"HG00360\"     \"HG00361\"     \"HG00362\"    \n",
       "[171] \"HG00364\"     \"HG00365\"     \"HG00366\"     \"HG00367\"     \"HG00369\"    \n",
       "[176] \"HG00371\"     \"HG00372\"     \"HG00373\"     \"HG00375\"     \"HG00376\"    \n",
       "[181] \"HG00377\"     \"HG00378\"     \"HG00379\"     \"HG00380\"     \"HG00381\"    \n",
       "[186] \"HG00382\"     \"HG00383\"     \"HG00384\"     \"HG01334\"     \"HG01789\"    \n",
       "[191] \"HG01790\"     \"HG01791\"     \"HG02215\"     \"NA06984\"     \"NA06985\"    \n",
       "[196] \"NA06986\"     \"NA06989\"     \"NA06994\"     \"NA07037\"     \"NA07048\"    \n",
       "[201] \"NA07051\"     \"NA07056\"     \"NA07346\"     \"NA07347\"     \"NA07357\"    \n",
       "[206] \"NA10847\"     \"NA10851\"     \"NA11829\"     \"NA11830\"     \"NA11831\"    \n",
       "[211] \"NA11832\"     \"NA11840\"     \"NA11843\"     \"NA11881\"     \"NA11892\"    \n",
       "[216] \"NA11893\"     \"NA11894\"     \"NA11918\"     \"NA11920\"     \"NA11930\"    \n",
       "[221] \"NA11931\"     \"NA11992\"     \"NA11993\"     \"NA11994\"     \"NA11995\"    \n",
       "[226] \"NA12004\"     \"NA12005\"     \"NA12006\"     \"NA12043\"     \"NA12044\"    \n",
       "[231] \"NA12045\"     \"NA12058\"     \"NA12144\"     \"NA12154\"     \"NA12155\"    \n",
       "[236] \"NA12156\"     \"NA12234\"     \"NA12249\"     \"NA12272\"     \"NA12273\"    \n",
       "[241] \"NA12275\"     \"NA12282\"     \"NA12283\"     \"NA12286\"     \"NA12287\"    \n",
       "[246] \"NA12340\"     \"NA12341\"     \"NA12342\"     \"NA12347\"     \"NA12348\"    \n",
       "[251] \"NA12383\"     \"NA12399\"     \"NA12400\"     \"NA12413\"     \"NA12489\"    \n",
       "[256] \"NA12546\"     \"NA12716\"     \"NA12717\"     \"NA12718\"     \"NA12749\"    \n",
       "[261] \"NA12750\"     \"NA12751\"     \"NA12760\"     \"NA12761\"     \"NA12762\"    \n",
       "[266] \"NA12763\"     \"NA12775\"     \"NA12776\"     \"NA12777\"     \"NA12778\"    \n",
       "[271] \"NA12812\"     \"NA12813\"     \"NA12814\"     \"NA12815\"     \"NA12827\"    \n",
       "[276] \"NA12829\"     \"NA12830\"     \"NA12842\"     \"NA12843\"     \"NA12872\"    \n",
       "[281] \"NA12873\"     \"NA12874\"     \"NA12889\"     \"NA12890\"     \"NA20502\"    \n",
       "[286] \"NA20503\"     \"NA20504\"     \"NA20505\"     \"NA20506\"     \"NA20507\"    \n",
       "[291] \"NA20508\"     \"NA20509\"     \"NA20510\"     \"NA20512\"     \"NA20513\"    \n",
       "[296] \"NA20514\"     \"NA20515\"     \"NA20516\"     \"NA20517\"     \"NA20518\"    \n",
       "[301] \"NA20519\"     \"NA20520\"     \"NA20521\"     \"NA20524\"     \"NA20525\"    \n",
       "[306] \"NA20527\"     \"NA20528\"     \"NA20529\"     \"NA20530\"     \"NA20531\"    \n",
       "[311] \"NA20532\"     \"NA20534\"     \"NA20535\"     \"NA20536\"     \"NA20537\"    \n",
       "[316] \"NA20538\"     \"NA20539\"     \"NA20540\"     \"NA20541\"     \"NA20542\"    \n",
       "[321] \"NA20543\"     \"NA20544\"     \"NA20581\"     \"NA20582\"     \"NA20585\"    \n",
       "[326] \"NA20586\"     \"NA20588\"     \"NA20589\"     \"NA20752\"     \"NA20754\"    \n",
       "[331] \"NA20756\"     \"NA20757\"     \"NA20758\"     \"NA20759\"     \"NA20760\"    \n",
       "[336] \"NA20761\"     \"NA20765\"     \"NA20766\"     \"NA20768\"     \"NA20769\"    \n",
       "[341] \"NA20770\"     \"NA20771\"     \"NA20772\"     \"NA20773\"     \"NA20774\"    \n",
       "[346] \"NA20778\"     \"NA20783\"     \"NA20785\"     \"NA20786\"     \"NA20787\"    \n",
       "[351] \"NA20790\"     \"NA20792\"     \"NA20795\"     \"NA20796\"     \"NA20797\"    \n",
       "[356] \"NA20798\"     \"NA20799\"     \"NA20800\"     \"NA20801\"     \"NA20802\"    \n",
       "[361] \"NA20803\"     \"NA20804\"     \"NA20805\"     \"NA20806\"     \"NA20807\"    \n",
       "[366] \"NA20808\"     \"NA20809\"     \"NA20810\"     \"NA20811\"     \"NA20812\"    \n",
       "[371] \"NA20813\"     \"NA20814\"     \"NA20815\"     \"NA20816\"     \"NA20819\"    \n",
       "[376] \"NA20826\"     \"NA20828\"    "
      ]
     },
     "metadata": {},
     "output_type": "display_data"
    }
   ],
   "source": [
    "geuv.introns[1:5, 1:20]\n",
    "geuv.introns %>% names"
   ]
  },
  {
   "cell_type": "code",
   "execution_count": null,
   "id": "723532ad-2399-4a18-ac9f-6d94986192b1",
   "metadata": {
    "vscode": {
     "languageId": "r"
    }
   },
   "outputs": [],
   "source": []
  },
  {
   "cell_type": "code",
   "execution_count": null,
   "id": "9ffb9b21-5f0d-474f-bba3-2a255f67b134",
   "metadata": {
    "vscode": {
     "languageId": "r"
    }
   },
   "outputs": [],
   "source": []
  },
  {
   "cell_type": "code",
   "execution_count": 55,
   "id": "f1292ef7",
   "metadata": {
    "execution": {
     "iopub.execute_input": "2023-11-15T23:11:34.769903Z",
     "iopub.status.busy": "2023-11-15T23:11:34.766975Z",
     "iopub.status.idle": "2023-11-15T23:11:34.799028Z",
     "shell.execute_reply": "2023-11-15T23:11:34.796083Z"
    },
    "vscode": {
     "languageId": "r"
    }
   },
   "outputs": [],
   "source": [
    "# get data columns\n",
    "datacols <- map(introns, ~names(.x)[-c(1:4)])\n",
    "datacols.geuv <- names(geuv.introns)[-c(1:4)]\n",
    "\n",
    "datacols <- c(datacols, list(Geuvadis_EUR = datacols.geuv))"
   ]
  },
  {
   "cell_type": "code",
   "execution_count": 57,
   "id": "cbd25f88",
   "metadata": {
    "execution": {
     "iopub.execute_input": "2023-11-15T23:11:46.816594Z",
     "iopub.status.busy": "2023-11-15T23:11:46.813670Z",
     "iopub.status.idle": "2023-11-15T23:11:46.858022Z",
     "shell.execute_reply": "2023-11-15T23:11:46.855385Z"
    },
    "vscode": {
     "languageId": "r"
    }
   },
   "outputs": [
    {
     "data": {
      "text/html": [
       "<dl>\n",
       "\t<dt>$Brain</dt>\n",
       "\t\t<dd><style>\n",
       ".list-inline {list-style: none; margin:0; padding: 0}\n",
       ".list-inline>li {display: inline-block}\n",
       ".list-inline>li:not(:last-child)::after {content: \"\\00b7\"; padding: 0 .5ex}\n",
       "</style>\n",
       "<ol class=list-inline><li>'GTEX-1117F'</li><li>'GTEX-111FC'</li><li>'GTEX-1128S'</li><li>'GTEX-117XS'</li><li>'GTEX-1192X'</li><li>'GTEX-11DXW'</li></ol>\n",
       "</dd>\n",
       "\t<dt>$Muscle</dt>\n",
       "\t\t<dd><style>\n",
       ".list-inline {list-style: none; margin:0; padding: 0}\n",
       ".list-inline>li {display: inline-block}\n",
       ".list-inline>li:not(:last-child)::after {content: \"\\00b7\"; padding: 0 .5ex}\n",
       "</style>\n",
       "<ol class=list-inline><li>'GTEX-1117F'</li><li>'GTEX-111CU'</li><li>'GTEX-111FC'</li><li>'GTEX-111VG'</li><li>'GTEX-111YS'</li><li>'GTEX-1122O'</li></ol>\n",
       "</dd>\n",
       "\t<dt>$Kidney</dt>\n",
       "\t\t<dd><style>\n",
       ".list-inline {list-style: none; margin:0; padding: 0}\n",
       ".list-inline>li {display: inline-block}\n",
       ".list-inline>li:not(:last-child)::after {content: \"\\00b7\"; padding: 0 .5ex}\n",
       "</style>\n",
       "<ol class=list-inline><li>'GTEX-11GS4'</li><li>'GTEX-11OF3'</li><li>'GTEX-11TTK'</li><li>'GTEX-12696'</li><li>'GTEX-12WSG'</li><li>'GTEX-13112'</li></ol>\n",
       "</dd>\n",
       "\t<dt>$Geuvadis_EUR</dt>\n",
       "\t\t<dd><style>\n",
       ".list-inline {list-style: none; margin:0; padding: 0}\n",
       ".list-inline>li {display: inline-block}\n",
       ".list-inline>li:not(:last-child)::after {content: \"\\00b7\"; padding: 0 .5ex}\n",
       "</style>\n",
       "<ol class=list-inline><li>'HG00096'</li><li>'HG00097'</li><li>'HG00099'</li><li>'HG00100'</li><li>'HG00101'</li><li>'HG00102'</li></ol>\n",
       "</dd>\n",
       "</dl>\n"
      ],
      "text/latex": [
       "\\begin{description}\n",
       "\\item[\\$Brain] \\begin{enumerate*}\n",
       "\\item 'GTEX-1117F'\n",
       "\\item 'GTEX-111FC'\n",
       "\\item 'GTEX-1128S'\n",
       "\\item 'GTEX-117XS'\n",
       "\\item 'GTEX-1192X'\n",
       "\\item 'GTEX-11DXW'\n",
       "\\end{enumerate*}\n",
       "\n",
       "\\item[\\$Muscle] \\begin{enumerate*}\n",
       "\\item 'GTEX-1117F'\n",
       "\\item 'GTEX-111CU'\n",
       "\\item 'GTEX-111FC'\n",
       "\\item 'GTEX-111VG'\n",
       "\\item 'GTEX-111YS'\n",
       "\\item 'GTEX-1122O'\n",
       "\\end{enumerate*}\n",
       "\n",
       "\\item[\\$Kidney] \\begin{enumerate*}\n",
       "\\item 'GTEX-11GS4'\n",
       "\\item 'GTEX-11OF3'\n",
       "\\item 'GTEX-11TTK'\n",
       "\\item 'GTEX-12696'\n",
       "\\item 'GTEX-12WSG'\n",
       "\\item 'GTEX-13112'\n",
       "\\end{enumerate*}\n",
       "\n",
       "\\item[\\$Geuvadis\\_EUR] \\begin{enumerate*}\n",
       "\\item 'HG00096'\n",
       "\\item 'HG00097'\n",
       "\\item 'HG00099'\n",
       "\\item 'HG00100'\n",
       "\\item 'HG00101'\n",
       "\\item 'HG00102'\n",
       "\\end{enumerate*}\n",
       "\n",
       "\\end{description}\n"
      ],
      "text/markdown": [
       "$Brain\n",
       ":   1. 'GTEX-1117F'\n",
       "2. 'GTEX-111FC'\n",
       "3. 'GTEX-1128S'\n",
       "4. 'GTEX-117XS'\n",
       "5. 'GTEX-1192X'\n",
       "6. 'GTEX-11DXW'\n",
       "\n",
       "\n",
       "\n",
       "$Muscle\n",
       ":   1. 'GTEX-1117F'\n",
       "2. 'GTEX-111CU'\n",
       "3. 'GTEX-111FC'\n",
       "4. 'GTEX-111VG'\n",
       "5. 'GTEX-111YS'\n",
       "6. 'GTEX-1122O'\n",
       "\n",
       "\n",
       "\n",
       "$Kidney\n",
       ":   1. 'GTEX-11GS4'\n",
       "2. 'GTEX-11OF3'\n",
       "3. 'GTEX-11TTK'\n",
       "4. 'GTEX-12696'\n",
       "5. 'GTEX-12WSG'\n",
       "6. 'GTEX-13112'\n",
       "\n",
       "\n",
       "\n",
       "$Geuvadis_EUR\n",
       ":   1. 'HG00096'\n",
       "2. 'HG00097'\n",
       "3. 'HG00099'\n",
       "4. 'HG00100'\n",
       "5. 'HG00101'\n",
       "6. 'HG00102'\n",
       "\n",
       "\n",
       "\n",
       "\n",
       "\n"
      ],
      "text/plain": [
       "$Brain\n",
       "[1] \"GTEX-1117F\" \"GTEX-111FC\" \"GTEX-1128S\" \"GTEX-117XS\" \"GTEX-1192X\"\n",
       "[6] \"GTEX-11DXW\"\n",
       "\n",
       "$Muscle\n",
       "[1] \"GTEX-1117F\" \"GTEX-111CU\" \"GTEX-111FC\" \"GTEX-111VG\" \"GTEX-111YS\"\n",
       "[6] \"GTEX-1122O\"\n",
       "\n",
       "$Kidney\n",
       "[1] \"GTEX-11GS4\" \"GTEX-11OF3\" \"GTEX-11TTK\" \"GTEX-12696\" \"GTEX-12WSG\"\n",
       "[6] \"GTEX-13112\"\n",
       "\n",
       "$Geuvadis_EUR\n",
       "[1] \"HG00096\" \"HG00097\" \"HG00099\" \"HG00100\" \"HG00101\" \"HG00102\"\n"
      ]
     },
     "metadata": {},
     "output_type": "display_data"
    },
    {
     "data": {
      "text/html": [
       "<dl>\n",
       "\t<dt>$Brain</dt>\n",
       "\t\t<dd>255</dd>\n",
       "\t<dt>$Muscle</dt>\n",
       "\t\t<dd>803</dd>\n",
       "\t<dt>$Kidney</dt>\n",
       "\t\t<dd>88</dd>\n",
       "\t<dt>$Geuvadis_EUR</dt>\n",
       "\t\t<dd>373</dd>\n",
       "</dl>\n"
      ],
      "text/latex": [
       "\\begin{description}\n",
       "\\item[\\$Brain] 255\n",
       "\\item[\\$Muscle] 803\n",
       "\\item[\\$Kidney] 88\n",
       "\\item[\\$Geuvadis\\_EUR] 373\n",
       "\\end{description}\n"
      ],
      "text/markdown": [
       "$Brain\n",
       ":   255\n",
       "$Muscle\n",
       ":   803\n",
       "$Kidney\n",
       ":   88\n",
       "$Geuvadis_EUR\n",
       ":   373\n",
       "\n",
       "\n"
      ],
      "text/plain": [
       "$Brain\n",
       "[1] 255\n",
       "\n",
       "$Muscle\n",
       "[1] 803\n",
       "\n",
       "$Kidney\n",
       "[1] 88\n",
       "\n",
       "$Geuvadis_EUR\n",
       "[1] 373\n"
      ]
     },
     "metadata": {},
     "output_type": "display_data"
    }
   ],
   "source": [
    "map(datacols, head)\n",
    "map(datacols, length)"
   ]
  },
  {
   "cell_type": "code",
   "execution_count": null,
   "id": "4f7e001f-631f-4f8c-b7c5-489a47aa4303",
   "metadata": {
    "vscode": {
     "languageId": "r"
    }
   },
   "outputs": [],
   "source": []
  },
  {
   "cell_type": "code",
   "execution_count": 59,
   "id": "79d03dae-0544-40db-82d4-59206ff01a0d",
   "metadata": {
    "execution": {
     "iopub.execute_input": "2023-11-15T23:13:04.337365Z",
     "iopub.status.busy": "2023-11-15T23:13:04.334439Z",
     "iopub.status.idle": "2023-11-15T23:13:04.377979Z",
     "shell.execute_reply": "2023-11-15T23:13:04.375241Z"
    },
    "vscode": {
     "languageId": "r"
    }
   },
   "outputs": [
    {
     "data": {
      "text/html": [
       "<table class=\"dataframe\">\n",
       "<caption>A data.table: 5 × 5</caption>\n",
       "<thead>\n",
       "\t<tr><th scope=col>chrom</th><th scope=col>clu</th><th scope=col>clu_type</th><th scope=col>intron_type</th><th scope=col>HG00096</th></tr>\n",
       "\t<tr><th scope=col>&lt;chr&gt;</th><th scope=col>&lt;chr&gt;</th><th scope=col>&lt;chr&gt;</th><th scope=col>&lt;chr&gt;</th><th scope=col>&lt;int&gt;</th></tr>\n",
       "</thead>\n",
       "<tbody>\n",
       "\t<tr><td>chr1:779092:781936:clu_1_+:N</td><td>clu_1</td><td>N</td><td>N</td><td>0</td></tr>\n",
       "\t<tr><td>chr1:779092:786392:clu_1_+:N</td><td>clu_1</td><td>N</td><td>N</td><td>0</td></tr>\n",
       "\t<tr><td>chr1:779092:803918:clu_1_+:N</td><td>clu_1</td><td>N</td><td>N</td><td>0</td></tr>\n",
       "\t<tr><td>chr1:779092:803921:clu_1_+:N</td><td>clu_1</td><td>N</td><td>N</td><td>0</td></tr>\n",
       "\t<tr><td>chr1:779092:803950:clu_1_+:N</td><td>clu_1</td><td>N</td><td>N</td><td>0</td></tr>\n",
       "</tbody>\n",
       "</table>\n"
      ],
      "text/latex": [
       "A data.table: 5 × 5\n",
       "\\begin{tabular}{lllll}\n",
       " chrom & clu & clu\\_type & intron\\_type & HG00096\\\\\n",
       " <chr> & <chr> & <chr> & <chr> & <int>\\\\\n",
       "\\hline\n",
       "\t chr1:779092:781936:clu\\_1\\_+:N & clu\\_1 & N & N & 0\\\\\n",
       "\t chr1:779092:786392:clu\\_1\\_+:N & clu\\_1 & N & N & 0\\\\\n",
       "\t chr1:779092:803918:clu\\_1\\_+:N & clu\\_1 & N & N & 0\\\\\n",
       "\t chr1:779092:803921:clu\\_1\\_+:N & clu\\_1 & N & N & 0\\\\\n",
       "\t chr1:779092:803950:clu\\_1\\_+:N & clu\\_1 & N & N & 0\\\\\n",
       "\\end{tabular}\n"
      ],
      "text/markdown": [
       "\n",
       "A data.table: 5 × 5\n",
       "\n",
       "| chrom &lt;chr&gt; | clu &lt;chr&gt; | clu_type &lt;chr&gt; | intron_type &lt;chr&gt; | HG00096 &lt;int&gt; |\n",
       "|---|---|---|---|---|\n",
       "| chr1:779092:781936:clu_1_+:N | clu_1 | N | N | 0 |\n",
       "| chr1:779092:786392:clu_1_+:N | clu_1 | N | N | 0 |\n",
       "| chr1:779092:803918:clu_1_+:N | clu_1 | N | N | 0 |\n",
       "| chr1:779092:803921:clu_1_+:N | clu_1 | N | N | 0 |\n",
       "| chr1:779092:803950:clu_1_+:N | clu_1 | N | N | 0 |\n",
       "\n"
      ],
      "text/plain": [
       "  chrom                        clu   clu_type intron_type HG00096\n",
       "1 chr1:779092:781936:clu_1_+:N clu_1 N        N           0      \n",
       "2 chr1:779092:786392:clu_1_+:N clu_1 N        N           0      \n",
       "3 chr1:779092:803918:clu_1_+:N clu_1 N        N           0      \n",
       "4 chr1:779092:803921:clu_1_+:N clu_1 N        N           0      \n",
       "5 chr1:779092:803950:clu_1_+:N clu_1 N        N           0      "
      ]
     },
     "metadata": {},
     "output_type": "display_data"
    }
   ],
   "source": [
    "geuv.introns[1:5, 1:5]"
   ]
  },
  {
   "cell_type": "code",
   "execution_count": 60,
   "id": "2464e7a0-82aa-49a1-9bf5-e66ebaad329e",
   "metadata": {
    "execution": {
     "iopub.execute_input": "2023-11-15T23:13:35.413259Z",
     "iopub.status.busy": "2023-11-15T23:13:35.410282Z",
     "iopub.status.idle": "2023-11-15T23:13:35.433135Z",
     "shell.execute_reply": "2023-11-15T23:13:35.430126Z"
    },
    "vscode": {
     "languageId": "r"
    }
   },
   "outputs": [],
   "source": [
    "introns <- c(introns, list(Geuvadis_EUR = geuv.introns))"
   ]
  },
  {
   "cell_type": "code",
   "execution_count": 65,
   "id": "2bf85849-0226-4d7b-b5a3-5a7aafba400c",
   "metadata": {
    "execution": {
     "iopub.execute_input": "2023-11-15T23:17:42.089020Z",
     "iopub.status.busy": "2023-11-15T23:17:42.086463Z",
     "iopub.status.idle": "2023-11-15T23:17:42.302659Z",
     "shell.execute_reply": "2023-11-15T23:17:42.300588Z"
    },
    "vscode": {
     "languageId": "r"
    }
   },
   "outputs": [],
   "source": [
    "# for each tissue, keep only rows where clu_type is not N (only has unproductive introns)\n",
    "introns <- map(introns, ~.x[clu_type != 'N'])"
   ]
  },
  {
   "cell_type": "code",
   "execution_count": 66,
   "id": "718463ac-d09a-41b9-9c80-ea5eb598ce31",
   "metadata": {
    "execution": {
     "iopub.execute_input": "2023-11-15T23:17:44.872105Z",
     "iopub.status.busy": "2023-11-15T23:17:44.869436Z",
     "iopub.status.idle": "2023-11-15T23:17:44.960490Z",
     "shell.execute_reply": "2023-11-15T23:17:44.958265Z"
    },
    "vscode": {
     "languageId": "r"
    }
   },
   "outputs": [
    {
     "data": {
      "text/html": [
       "<dl>\n",
       "\t<dt>$Brain</dt>\n",
       "\t\t<dd><table class=\"dataframe\">\n",
       "<caption>A data.table: 3 × 8</caption>\n",
       "<thead>\n",
       "\t<tr><th scope=col>chrom</th><th scope=col>clu</th><th scope=col>clu_type</th><th scope=col>intron_type</th><th scope=col>GTEX-1117F</th><th scope=col>GTEX-111FC</th><th scope=col>GTEX-1128S</th><th scope=col>GTEX-117XS</th></tr>\n",
       "\t<tr><th scope=col>&lt;chr&gt;</th><th scope=col>&lt;chr&gt;</th><th scope=col>&lt;chr&gt;</th><th scope=col>&lt;chr&gt;</th><th scope=col>&lt;int&gt;</th><th scope=col>&lt;int&gt;</th><th scope=col>&lt;int&gt;</th><th scope=col>&lt;int&gt;</th></tr>\n",
       "</thead>\n",
       "<tbody>\n",
       "\t<tr><td>chr1:924948:925921:clu_7_+:F</td><td>clu_7</td><td>F</td><td>F</td><td>0</td><td>0</td><td>1</td><td>0</td></tr>\n",
       "\t<tr><td>chr1:939129:939271:clu_8_+:F</td><td>clu_8</td><td>F</td><td>F</td><td>0</td><td>1</td><td>4</td><td>3</td></tr>\n",
       "\t<tr><td>chr1:939129:939274:clu_8_+:F</td><td>clu_8</td><td>F</td><td>F</td><td>0</td><td>0</td><td>1</td><td>0</td></tr>\n",
       "</tbody>\n",
       "</table>\n",
       "</dd>\n",
       "\t<dt>$Muscle</dt>\n",
       "\t\t<dd><table class=\"dataframe\">\n",
       "<caption>A data.table: 3 × 8</caption>\n",
       "<thead>\n",
       "\t<tr><th scope=col>chrom</th><th scope=col>clu</th><th scope=col>clu_type</th><th scope=col>intron_type</th><th scope=col>GTEX-1117F</th><th scope=col>GTEX-111CU</th><th scope=col>GTEX-111FC</th><th scope=col>GTEX-111VG</th></tr>\n",
       "\t<tr><th scope=col>&lt;chr&gt;</th><th scope=col>&lt;chr&gt;</th><th scope=col>&lt;chr&gt;</th><th scope=col>&lt;chr&gt;</th><th scope=col>&lt;int&gt;</th><th scope=col>&lt;int&gt;</th><th scope=col>&lt;int&gt;</th><th scope=col>&lt;int&gt;</th></tr>\n",
       "</thead>\n",
       "<tbody>\n",
       "\t<tr><td>chr1:924948:925921:clu_7_+:F</td><td>clu_7</td><td>F</td><td>F</td><td>0</td><td>0</td><td>1</td><td>0</td></tr>\n",
       "\t<tr><td>chr1:939129:939271:clu_8_+:F</td><td>clu_8</td><td>F</td><td>F</td><td>0</td><td>0</td><td>2</td><td>0</td></tr>\n",
       "\t<tr><td>chr1:939129:939274:clu_8_+:F</td><td>clu_8</td><td>F</td><td>F</td><td>0</td><td>0</td><td>0</td><td>0</td></tr>\n",
       "</tbody>\n",
       "</table>\n",
       "</dd>\n",
       "\t<dt>$Kidney</dt>\n",
       "\t\t<dd><table class=\"dataframe\">\n",
       "<caption>A data.table: 3 × 8</caption>\n",
       "<thead>\n",
       "\t<tr><th scope=col>chrom</th><th scope=col>clu</th><th scope=col>clu_type</th><th scope=col>intron_type</th><th scope=col>GTEX-11GS4</th><th scope=col>GTEX-11OF3</th><th scope=col>GTEX-11TTK</th><th scope=col>GTEX-12696</th></tr>\n",
       "\t<tr><th scope=col>&lt;chr&gt;</th><th scope=col>&lt;chr&gt;</th><th scope=col>&lt;chr&gt;</th><th scope=col>&lt;chr&gt;</th><th scope=col>&lt;int&gt;</th><th scope=col>&lt;int&gt;</th><th scope=col>&lt;int&gt;</th><th scope=col>&lt;int&gt;</th></tr>\n",
       "</thead>\n",
       "<tbody>\n",
       "\t<tr><td>chr1:924948:925921:clu_5_+:F</td><td>clu_5</td><td>F</td><td>F</td><td>24</td><td>8</td><td>20</td><td>11</td></tr>\n",
       "\t<tr><td>chr1:925189:925921:clu_5_+:F</td><td>clu_5</td><td>F</td><td>F</td><td> 0</td><td>1</td><td> 4</td><td> 0</td></tr>\n",
       "\t<tr><td>chr1:925800:925921:clu_5_+:F</td><td>clu_5</td><td>F</td><td>F</td><td> 2</td><td>1</td><td> 2</td><td> 1</td></tr>\n",
       "</tbody>\n",
       "</table>\n",
       "</dd>\n",
       "\t<dt>$Geuvadis_EUR</dt>\n",
       "\t\t<dd><table class=\"dataframe\">\n",
       "<caption>A data.table: 3 × 8</caption>\n",
       "<thead>\n",
       "\t<tr><th scope=col>chrom</th><th scope=col>clu</th><th scope=col>clu_type</th><th scope=col>intron_type</th><th scope=col>HG00096</th><th scope=col>HG00097</th><th scope=col>HG00099</th><th scope=col>HG00100</th></tr>\n",
       "\t<tr><th scope=col>&lt;chr&gt;</th><th scope=col>&lt;chr&gt;</th><th scope=col>&lt;chr&gt;</th><th scope=col>&lt;chr&gt;</th><th scope=col>&lt;int&gt;</th><th scope=col>&lt;int&gt;</th><th scope=col>&lt;int&gt;</th><th scope=col>&lt;int&gt;</th></tr>\n",
       "</thead>\n",
       "<tbody>\n",
       "\t<tr><td>chr1:960800:961292:clu_7_+:F</td><td>clu_7</td><td>F,N</td><td>F</td><td>1</td><td>0</td><td>0</td><td>0</td></tr>\n",
       "\t<tr><td>chr1:960800:961628:clu_7_+:N</td><td>clu_7</td><td>F,N</td><td>N</td><td>0</td><td>0</td><td>0</td><td>0</td></tr>\n",
       "\t<tr><td>chr1:960921:961292:clu_7_+:N</td><td>clu_7</td><td>F,N</td><td>N</td><td>0</td><td>0</td><td>0</td><td>0</td></tr>\n",
       "</tbody>\n",
       "</table>\n",
       "</dd>\n",
       "</dl>\n"
      ],
      "text/latex": [
       "\\begin{description}\n",
       "\\item[\\$Brain] A data.table: 3 × 8\n",
       "\\begin{tabular}{llllllll}\n",
       " chrom & clu & clu\\_type & intron\\_type & GTEX-1117F & GTEX-111FC & GTEX-1128S & GTEX-117XS\\\\\n",
       " <chr> & <chr> & <chr> & <chr> & <int> & <int> & <int> & <int>\\\\\n",
       "\\hline\n",
       "\t chr1:924948:925921:clu\\_7\\_+:F & clu\\_7 & F & F & 0 & 0 & 1 & 0\\\\\n",
       "\t chr1:939129:939271:clu\\_8\\_+:F & clu\\_8 & F & F & 0 & 1 & 4 & 3\\\\\n",
       "\t chr1:939129:939274:clu\\_8\\_+:F & clu\\_8 & F & F & 0 & 0 & 1 & 0\\\\\n",
       "\\end{tabular}\n",
       "\n",
       "\\item[\\$Muscle] A data.table: 3 × 8\n",
       "\\begin{tabular}{llllllll}\n",
       " chrom & clu & clu\\_type & intron\\_type & GTEX-1117F & GTEX-111CU & GTEX-111FC & GTEX-111VG\\\\\n",
       " <chr> & <chr> & <chr> & <chr> & <int> & <int> & <int> & <int>\\\\\n",
       "\\hline\n",
       "\t chr1:924948:925921:clu\\_7\\_+:F & clu\\_7 & F & F & 0 & 0 & 1 & 0\\\\\n",
       "\t chr1:939129:939271:clu\\_8\\_+:F & clu\\_8 & F & F & 0 & 0 & 2 & 0\\\\\n",
       "\t chr1:939129:939274:clu\\_8\\_+:F & clu\\_8 & F & F & 0 & 0 & 0 & 0\\\\\n",
       "\\end{tabular}\n",
       "\n",
       "\\item[\\$Kidney] A data.table: 3 × 8\n",
       "\\begin{tabular}{llllllll}\n",
       " chrom & clu & clu\\_type & intron\\_type & GTEX-11GS4 & GTEX-11OF3 & GTEX-11TTK & GTEX-12696\\\\\n",
       " <chr> & <chr> & <chr> & <chr> & <int> & <int> & <int> & <int>\\\\\n",
       "\\hline\n",
       "\t chr1:924948:925921:clu\\_5\\_+:F & clu\\_5 & F & F & 24 & 8 & 20 & 11\\\\\n",
       "\t chr1:925189:925921:clu\\_5\\_+:F & clu\\_5 & F & F &  0 & 1 &  4 &  0\\\\\n",
       "\t chr1:925800:925921:clu\\_5\\_+:F & clu\\_5 & F & F &  2 & 1 &  2 &  1\\\\\n",
       "\\end{tabular}\n",
       "\n",
       "\\item[\\$Geuvadis\\_EUR] A data.table: 3 × 8\n",
       "\\begin{tabular}{llllllll}\n",
       " chrom & clu & clu\\_type & intron\\_type & HG00096 & HG00097 & HG00099 & HG00100\\\\\n",
       " <chr> & <chr> & <chr> & <chr> & <int> & <int> & <int> & <int>\\\\\n",
       "\\hline\n",
       "\t chr1:960800:961292:clu\\_7\\_+:F & clu\\_7 & F,N & F & 1 & 0 & 0 & 0\\\\\n",
       "\t chr1:960800:961628:clu\\_7\\_+:N & clu\\_7 & F,N & N & 0 & 0 & 0 & 0\\\\\n",
       "\t chr1:960921:961292:clu\\_7\\_+:N & clu\\_7 & F,N & N & 0 & 0 & 0 & 0\\\\\n",
       "\\end{tabular}\n",
       "\n",
       "\\end{description}\n"
      ],
      "text/markdown": [
       "$Brain\n",
       ":   \n",
       "A data.table: 3 × 8\n",
       "\n",
       "| chrom &lt;chr&gt; | clu &lt;chr&gt; | clu_type &lt;chr&gt; | intron_type &lt;chr&gt; | GTEX-1117F &lt;int&gt; | GTEX-111FC &lt;int&gt; | GTEX-1128S &lt;int&gt; | GTEX-117XS &lt;int&gt; |\n",
       "|---|---|---|---|---|---|---|---|\n",
       "| chr1:924948:925921:clu_7_+:F | clu_7 | F | F | 0 | 0 | 1 | 0 |\n",
       "| chr1:939129:939271:clu_8_+:F | clu_8 | F | F | 0 | 1 | 4 | 3 |\n",
       "| chr1:939129:939274:clu_8_+:F | clu_8 | F | F | 0 | 0 | 1 | 0 |\n",
       "\n",
       "\n",
       "$Muscle\n",
       ":   \n",
       "A data.table: 3 × 8\n",
       "\n",
       "| chrom &lt;chr&gt; | clu &lt;chr&gt; | clu_type &lt;chr&gt; | intron_type &lt;chr&gt; | GTEX-1117F &lt;int&gt; | GTEX-111CU &lt;int&gt; | GTEX-111FC &lt;int&gt; | GTEX-111VG &lt;int&gt; |\n",
       "|---|---|---|---|---|---|---|---|\n",
       "| chr1:924948:925921:clu_7_+:F | clu_7 | F | F | 0 | 0 | 1 | 0 |\n",
       "| chr1:939129:939271:clu_8_+:F | clu_8 | F | F | 0 | 0 | 2 | 0 |\n",
       "| chr1:939129:939274:clu_8_+:F | clu_8 | F | F | 0 | 0 | 0 | 0 |\n",
       "\n",
       "\n",
       "$Kidney\n",
       ":   \n",
       "A data.table: 3 × 8\n",
       "\n",
       "| chrom &lt;chr&gt; | clu &lt;chr&gt; | clu_type &lt;chr&gt; | intron_type &lt;chr&gt; | GTEX-11GS4 &lt;int&gt; | GTEX-11OF3 &lt;int&gt; | GTEX-11TTK &lt;int&gt; | GTEX-12696 &lt;int&gt; |\n",
       "|---|---|---|---|---|---|---|---|\n",
       "| chr1:924948:925921:clu_5_+:F | clu_5 | F | F | 24 | 8 | 20 | 11 |\n",
       "| chr1:925189:925921:clu_5_+:F | clu_5 | F | F |  0 | 1 |  4 |  0 |\n",
       "| chr1:925800:925921:clu_5_+:F | clu_5 | F | F |  2 | 1 |  2 |  1 |\n",
       "\n",
       "\n",
       "$Geuvadis_EUR\n",
       ":   \n",
       "A data.table: 3 × 8\n",
       "\n",
       "| chrom &lt;chr&gt; | clu &lt;chr&gt; | clu_type &lt;chr&gt; | intron_type &lt;chr&gt; | HG00096 &lt;int&gt; | HG00097 &lt;int&gt; | HG00099 &lt;int&gt; | HG00100 &lt;int&gt; |\n",
       "|---|---|---|---|---|---|---|---|\n",
       "| chr1:960800:961292:clu_7_+:F | clu_7 | F,N | F | 1 | 0 | 0 | 0 |\n",
       "| chr1:960800:961628:clu_7_+:N | clu_7 | F,N | N | 0 | 0 | 0 | 0 |\n",
       "| chr1:960921:961292:clu_7_+:N | clu_7 | F,N | N | 0 | 0 | 0 | 0 |\n",
       "\n",
       "\n",
       "\n",
       "\n"
      ],
      "text/plain": [
       "$Brain\n",
       "                          chrom   clu clu_type intron_type GTEX-1117F\n",
       "1: chr1:924948:925921:clu_7_+:F clu_7        F           F          0\n",
       "2: chr1:939129:939271:clu_8_+:F clu_8        F           F          0\n",
       "3: chr1:939129:939274:clu_8_+:F clu_8        F           F          0\n",
       "   GTEX-111FC GTEX-1128S GTEX-117XS\n",
       "1:          0          1          0\n",
       "2:          1          4          3\n",
       "3:          0          1          0\n",
       "\n",
       "$Muscle\n",
       "                          chrom   clu clu_type intron_type GTEX-1117F\n",
       "1: chr1:924948:925921:clu_7_+:F clu_7        F           F          0\n",
       "2: chr1:939129:939271:clu_8_+:F clu_8        F           F          0\n",
       "3: chr1:939129:939274:clu_8_+:F clu_8        F           F          0\n",
       "   GTEX-111CU GTEX-111FC GTEX-111VG\n",
       "1:          0          1          0\n",
       "2:          0          2          0\n",
       "3:          0          0          0\n",
       "\n",
       "$Kidney\n",
       "                          chrom   clu clu_type intron_type GTEX-11GS4\n",
       "1: chr1:924948:925921:clu_5_+:F clu_5        F           F         24\n",
       "2: chr1:925189:925921:clu_5_+:F clu_5        F           F          0\n",
       "3: chr1:925800:925921:clu_5_+:F clu_5        F           F          2\n",
       "   GTEX-11OF3 GTEX-11TTK GTEX-12696\n",
       "1:          8         20         11\n",
       "2:          1          4          0\n",
       "3:          1          2          1\n",
       "\n",
       "$Geuvadis_EUR\n",
       "                          chrom   clu clu_type intron_type HG00096 HG00097\n",
       "1: chr1:960800:961292:clu_7_+:F clu_7      F,N           F       1       0\n",
       "2: chr1:960800:961628:clu_7_+:N clu_7      F,N           N       0       0\n",
       "3: chr1:960921:961292:clu_7_+:N clu_7      F,N           N       0       0\n",
       "   HG00099 HG00100\n",
       "1:       0       0\n",
       "2:       0       0\n",
       "3:       0       0\n"
      ]
     },
     "metadata": {},
     "output_type": "display_data"
    }
   ],
   "source": [
    "map(introns, ~.x[1:3,1:8])"
   ]
  },
  {
   "cell_type": "code",
   "execution_count": 67,
   "id": "84abc67b-f8ca-4f2b-a2a5-ec939623faf2",
   "metadata": {
    "execution": {
     "iopub.execute_input": "2023-11-15T23:17:53.815589Z",
     "iopub.status.busy": "2023-11-15T23:17:53.812753Z",
     "iopub.status.idle": "2023-11-15T23:17:53.893327Z",
     "shell.execute_reply": "2023-11-15T23:17:53.891133Z"
    },
    "vscode": {
     "languageId": "r"
    }
   },
   "outputs": [
    {
     "data": {
      "text/html": [
       "<dl>\n",
       "\t<dt>$Brain</dt>\n",
       "\t\t<dd><table class=\"dataframe\">\n",
       "<caption>A data.table: 3 × 2</caption>\n",
       "<thead>\n",
       "\t<tr><th scope=col>clu_type</th><th scope=col>N</th></tr>\n",
       "\t<tr><th scope=col>&lt;chr&gt;</th><th scope=col>&lt;int&gt;</th></tr>\n",
       "</thead>\n",
       "<tbody>\n",
       "\t<tr><td>F  </td><td>50303</td></tr>\n",
       "\t<tr><td>N,F</td><td>17124</td></tr>\n",
       "\t<tr><td>F,N</td><td>28175</td></tr>\n",
       "</tbody>\n",
       "</table>\n",
       "</dd>\n",
       "\t<dt>$Muscle</dt>\n",
       "\t\t<dd><table class=\"dataframe\">\n",
       "<caption>A data.table: 3 × 2</caption>\n",
       "<thead>\n",
       "\t<tr><th scope=col>clu_type</th><th scope=col>N</th></tr>\n",
       "\t<tr><th scope=col>&lt;chr&gt;</th><th scope=col>&lt;int&gt;</th></tr>\n",
       "</thead>\n",
       "<tbody>\n",
       "\t<tr><td>F  </td><td>48480</td></tr>\n",
       "\t<tr><td>N,F</td><td>15794</td></tr>\n",
       "\t<tr><td>F,N</td><td>25269</td></tr>\n",
       "</tbody>\n",
       "</table>\n",
       "</dd>\n",
       "\t<dt>$Kidney</dt>\n",
       "\t\t<dd><table class=\"dataframe\">\n",
       "<caption>A data.table: 3 × 2</caption>\n",
       "<thead>\n",
       "\t<tr><th scope=col>clu_type</th><th scope=col>N</th></tr>\n",
       "\t<tr><th scope=col>&lt;chr&gt;</th><th scope=col>&lt;int&gt;</th></tr>\n",
       "</thead>\n",
       "<tbody>\n",
       "\t<tr><td>F  </td><td>46462</td></tr>\n",
       "\t<tr><td>F,N</td><td>29566</td></tr>\n",
       "\t<tr><td>N,F</td><td>18578</td></tr>\n",
       "</tbody>\n",
       "</table>\n",
       "</dd>\n",
       "\t<dt>$Geuvadis_EUR</dt>\n",
       "\t\t<dd><table class=\"dataframe\">\n",
       "<caption>A data.table: 3 × 2</caption>\n",
       "<thead>\n",
       "\t<tr><th scope=col>clu_type</th><th scope=col>N</th></tr>\n",
       "\t<tr><th scope=col>&lt;chr&gt;</th><th scope=col>&lt;int&gt;</th></tr>\n",
       "</thead>\n",
       "<tbody>\n",
       "\t<tr><td>F,N</td><td> 86805</td></tr>\n",
       "\t<tr><td>N,F</td><td>300544</td></tr>\n",
       "\t<tr><td>F  </td><td>  4490</td></tr>\n",
       "</tbody>\n",
       "</table>\n",
       "</dd>\n",
       "</dl>\n"
      ],
      "text/latex": [
       "\\begin{description}\n",
       "\\item[\\$Brain] A data.table: 3 × 2\n",
       "\\begin{tabular}{ll}\n",
       " clu\\_type & N\\\\\n",
       " <chr> & <int>\\\\\n",
       "\\hline\n",
       "\t F   & 50303\\\\\n",
       "\t N,F & 17124\\\\\n",
       "\t F,N & 28175\\\\\n",
       "\\end{tabular}\n",
       "\n",
       "\\item[\\$Muscle] A data.table: 3 × 2\n",
       "\\begin{tabular}{ll}\n",
       " clu\\_type & N\\\\\n",
       " <chr> & <int>\\\\\n",
       "\\hline\n",
       "\t F   & 48480\\\\\n",
       "\t N,F & 15794\\\\\n",
       "\t F,N & 25269\\\\\n",
       "\\end{tabular}\n",
       "\n",
       "\\item[\\$Kidney] A data.table: 3 × 2\n",
       "\\begin{tabular}{ll}\n",
       " clu\\_type & N\\\\\n",
       " <chr> & <int>\\\\\n",
       "\\hline\n",
       "\t F   & 46462\\\\\n",
       "\t F,N & 29566\\\\\n",
       "\t N,F & 18578\\\\\n",
       "\\end{tabular}\n",
       "\n",
       "\\item[\\$Geuvadis\\_EUR] A data.table: 3 × 2\n",
       "\\begin{tabular}{ll}\n",
       " clu\\_type & N\\\\\n",
       " <chr> & <int>\\\\\n",
       "\\hline\n",
       "\t F,N &  86805\\\\\n",
       "\t N,F & 300544\\\\\n",
       "\t F   &   4490\\\\\n",
       "\\end{tabular}\n",
       "\n",
       "\\end{description}\n"
      ],
      "text/markdown": [
       "$Brain\n",
       ":   \n",
       "A data.table: 3 × 2\n",
       "\n",
       "| clu_type &lt;chr&gt; | N &lt;int&gt; |\n",
       "|---|---|\n",
       "| F   | 50303 |\n",
       "| N,F | 17124 |\n",
       "| F,N | 28175 |\n",
       "\n",
       "\n",
       "$Muscle\n",
       ":   \n",
       "A data.table: 3 × 2\n",
       "\n",
       "| clu_type &lt;chr&gt; | N &lt;int&gt; |\n",
       "|---|---|\n",
       "| F   | 48480 |\n",
       "| N,F | 15794 |\n",
       "| F,N | 25269 |\n",
       "\n",
       "\n",
       "$Kidney\n",
       ":   \n",
       "A data.table: 3 × 2\n",
       "\n",
       "| clu_type &lt;chr&gt; | N &lt;int&gt; |\n",
       "|---|---|\n",
       "| F   | 46462 |\n",
       "| F,N | 29566 |\n",
       "| N,F | 18578 |\n",
       "\n",
       "\n",
       "$Geuvadis_EUR\n",
       ":   \n",
       "A data.table: 3 × 2\n",
       "\n",
       "| clu_type &lt;chr&gt; | N &lt;int&gt; |\n",
       "|---|---|\n",
       "| F,N |  86805 |\n",
       "| N,F | 300544 |\n",
       "| F   |   4490 |\n",
       "\n",
       "\n",
       "\n",
       "\n"
      ],
      "text/plain": [
       "$Brain\n",
       "   clu_type     N\n",
       "1:        F 50303\n",
       "2:      N,F 17124\n",
       "3:      F,N 28175\n",
       "\n",
       "$Muscle\n",
       "   clu_type     N\n",
       "1:        F 48480\n",
       "2:      N,F 15794\n",
       "3:      F,N 25269\n",
       "\n",
       "$Kidney\n",
       "   clu_type     N\n",
       "1:        F 46462\n",
       "2:      F,N 29566\n",
       "3:      N,F 18578\n",
       "\n",
       "$Geuvadis_EUR\n",
       "   clu_type      N\n",
       "1:      F,N  86805\n",
       "2:      N,F 300544\n",
       "3:        F   4490\n"
      ]
     },
     "metadata": {},
     "output_type": "display_data"
    }
   ],
   "source": [
    "map(introns, ~.x[, .N, by = clu_type])"
   ]
  },
  {
   "cell_type": "code",
   "execution_count": 68,
   "id": "7893ecda",
   "metadata": {
    "execution": {
     "iopub.execute_input": "2023-11-15T23:18:01.477104Z",
     "iopub.status.busy": "2023-11-15T23:18:01.474340Z",
     "iopub.status.idle": "2023-11-15T23:18:01.911372Z",
     "shell.execute_reply": "2023-11-15T23:18:01.909256Z"
    },
    "vscode": {
     "languageId": "r"
    }
   },
   "outputs": [],
   "source": [
    "# compute total number of reads by sample\n",
    "totals <- map2(introns, datacols, ~.x[, map(.SD, sum), .SDcols = .y]) %>% \n",
    "    map(~t(.x) %>% as.data.table(keep.rownames = TRUE)  %>% setnames(c('sample', 'total_reads')))"
   ]
  },
  {
   "cell_type": "code",
   "execution_count": 69,
   "id": "9c8f9179",
   "metadata": {
    "execution": {
     "iopub.execute_input": "2023-11-15T23:18:05.181415Z",
     "iopub.status.busy": "2023-11-15T23:18:05.178605Z",
     "iopub.status.idle": "2023-11-15T23:18:06.869223Z",
     "shell.execute_reply": "2023-11-15T23:18:06.867521Z"
    },
    "vscode": {
     "languageId": "r"
    }
   },
   "outputs": [],
   "source": [
    "# compute total number unproductive reads by sample\n",
    "unprod <- map2(introns, datacols, ~.x[intron_type == \"N\"][, map(.SD, sum), .SDcols = .y]) %>% \n",
    "    map(~t(.x) %>% as.data.table(keep.rownames = TRUE)  %>% setnames(c('sample', 'unprod_reads')))"
   ]
  },
  {
   "cell_type": "code",
   "execution_count": 70,
   "id": "3adbc547",
   "metadata": {
    "execution": {
     "iopub.execute_input": "2023-11-15T23:18:21.921698Z",
     "iopub.status.busy": "2023-11-15T23:18:21.918792Z",
     "iopub.status.idle": "2023-11-15T23:18:21.957230Z",
     "shell.execute_reply": "2023-11-15T23:18:21.954383Z"
    },
    "vscode": {
     "languageId": "r"
    }
   },
   "outputs": [],
   "source": [
    "if (all(map2_lgl(totals, unprod, ~all(.x$sample == .y$sample)))) {\n",
    "    dt_summary  <- map2(totals, unprod, ~left_join(.x, .y, by = 'sample') %>% as.data.table)\n",
    "}"
   ]
  },
  {
   "cell_type": "code",
   "execution_count": 71,
   "id": "60c6c3c2",
   "metadata": {
    "execution": {
     "iopub.execute_input": "2023-11-15T23:18:27.055726Z",
     "iopub.status.busy": "2023-11-15T23:18:27.052657Z",
     "iopub.status.idle": "2023-11-15T23:18:27.079721Z",
     "shell.execute_reply": "2023-11-15T23:18:27.076658Z"
    },
    "vscode": {
     "languageId": "r"
    }
   },
   "outputs": [],
   "source": [
    "dt_summary <- imap(dt_summary, ~.x[, ds := .y][]) %>% rbindlist"
   ]
  },
  {
   "cell_type": "code",
   "execution_count": 72,
   "id": "2faa14fb",
   "metadata": {
    "execution": {
     "iopub.execute_input": "2023-11-15T23:18:29.668745Z",
     "iopub.status.busy": "2023-11-15T23:18:29.666127Z",
     "iopub.status.idle": "2023-11-15T23:18:29.687999Z",
     "shell.execute_reply": "2023-11-15T23:18:29.685160Z"
    },
    "vscode": {
     "languageId": "r"
    }
   },
   "outputs": [],
   "source": [
    "dt_summary[, frac_unprod := unprod_reads / total_reads]"
   ]
  },
  {
   "cell_type": "code",
   "execution_count": 73,
   "id": "4cec13ad",
   "metadata": {
    "execution": {
     "iopub.execute_input": "2023-11-15T23:18:30.505209Z",
     "iopub.status.busy": "2023-11-15T23:18:30.502419Z",
     "iopub.status.idle": "2023-11-15T23:18:30.546442Z",
     "shell.execute_reply": "2023-11-15T23:18:30.543466Z"
    },
    "vscode": {
     "languageId": "r"
    }
   },
   "outputs": [
    {
     "data": {
      "text/html": [
       "<table class=\"dataframe\">\n",
       "<caption>A data.table: 6 × 5</caption>\n",
       "<thead>\n",
       "\t<tr><th scope=col>sample</th><th scope=col>total_reads</th><th scope=col>unprod_reads</th><th scope=col>ds</th><th scope=col>frac_unprod</th></tr>\n",
       "\t<tr><th scope=col>&lt;chr&gt;</th><th scope=col>&lt;int&gt;</th><th scope=col>&lt;int&gt;</th><th scope=col>&lt;chr&gt;</th><th scope=col>&lt;dbl&gt;</th></tr>\n",
       "</thead>\n",
       "<tbody>\n",
       "\t<tr><td>GTEX-1117F</td><td>3129779</td><td>61168</td><td>Brain</td><td>0.01954387</td></tr>\n",
       "\t<tr><td>GTEX-111FC</td><td>4170093</td><td>78595</td><td>Brain</td><td>0.01884730</td></tr>\n",
       "\t<tr><td>GTEX-1128S</td><td>3621123</td><td>57987</td><td>Brain</td><td>0.01601354</td></tr>\n",
       "\t<tr><td>GTEX-117XS</td><td>4525966</td><td>75392</td><td>Brain</td><td>0.01665766</td></tr>\n",
       "\t<tr><td>GTEX-1192X</td><td>3674188</td><td>66291</td><td>Brain</td><td>0.01804235</td></tr>\n",
       "\t<tr><td>GTEX-11DXW</td><td>3818893</td><td>66650</td><td>Brain</td><td>0.01745270</td></tr>\n",
       "</tbody>\n",
       "</table>\n"
      ],
      "text/latex": [
       "A data.table: 6 × 5\n",
       "\\begin{tabular}{lllll}\n",
       " sample & total\\_reads & unprod\\_reads & ds & frac\\_unprod\\\\\n",
       " <chr> & <int> & <int> & <chr> & <dbl>\\\\\n",
       "\\hline\n",
       "\t GTEX-1117F & 3129779 & 61168 & Brain & 0.01954387\\\\\n",
       "\t GTEX-111FC & 4170093 & 78595 & Brain & 0.01884730\\\\\n",
       "\t GTEX-1128S & 3621123 & 57987 & Brain & 0.01601354\\\\\n",
       "\t GTEX-117XS & 4525966 & 75392 & Brain & 0.01665766\\\\\n",
       "\t GTEX-1192X & 3674188 & 66291 & Brain & 0.01804235\\\\\n",
       "\t GTEX-11DXW & 3818893 & 66650 & Brain & 0.01745270\\\\\n",
       "\\end{tabular}\n"
      ],
      "text/markdown": [
       "\n",
       "A data.table: 6 × 5\n",
       "\n",
       "| sample &lt;chr&gt; | total_reads &lt;int&gt; | unprod_reads &lt;int&gt; | ds &lt;chr&gt; | frac_unprod &lt;dbl&gt; |\n",
       "|---|---|---|---|---|\n",
       "| GTEX-1117F | 3129779 | 61168 | Brain | 0.01954387 |\n",
       "| GTEX-111FC | 4170093 | 78595 | Brain | 0.01884730 |\n",
       "| GTEX-1128S | 3621123 | 57987 | Brain | 0.01601354 |\n",
       "| GTEX-117XS | 4525966 | 75392 | Brain | 0.01665766 |\n",
       "| GTEX-1192X | 3674188 | 66291 | Brain | 0.01804235 |\n",
       "| GTEX-11DXW | 3818893 | 66650 | Brain | 0.01745270 |\n",
       "\n"
      ],
      "text/plain": [
       "  sample     total_reads unprod_reads ds    frac_unprod\n",
       "1 GTEX-1117F 3129779     61168        Brain 0.01954387 \n",
       "2 GTEX-111FC 4170093     78595        Brain 0.01884730 \n",
       "3 GTEX-1128S 3621123     57987        Brain 0.01601354 \n",
       "4 GTEX-117XS 4525966     75392        Brain 0.01665766 \n",
       "5 GTEX-1192X 3674188     66291        Brain 0.01804235 \n",
       "6 GTEX-11DXW 3818893     66650        Brain 0.01745270 "
      ]
     },
     "metadata": {},
     "output_type": "display_data"
    }
   ],
   "source": [
    "dt_summary %>% head"
   ]
  },
  {
   "cell_type": "markdown",
   "id": "8105226c-aacd-498e-b276-32e1927214cd",
   "metadata": {},
   "source": [
    "## Fraction of unprodcutive reads by tissue\n",
    "\n",
    "Using Geuvadis EUR for LCLs."
   ]
  },
  {
   "cell_type": "code",
   "execution_count": 79,
   "id": "aef6fc56",
   "metadata": {
    "execution": {
     "iopub.execute_input": "2023-11-15T23:21:35.985931Z",
     "iopub.status.busy": "2023-11-15T23:21:35.983332Z",
     "iopub.status.idle": "2023-11-15T23:21:36.620455Z",
     "shell.execute_reply": "2023-11-15T23:21:36.618613Z"
    },
    "vscode": {
     "languageId": "r"
    }
   },
   "outputs": [
    {
     "data": {
      "image/png": "[encoded data removed]",
      "text/plain": [
       "plot without title"
      ]
     },
     "metadata": {
      "image/png": {
       "height": 540,
       "width": 720
      }
     },
     "output_type": "display_data"
    }
   ],
   "source": [
    "#| label: fig-boxplot-unprod-ratios\n",
    "#| fig-cap: \"Fraction of unproductive reads by tissue\"\n",
    "#| include: true\n",
    "\n",
    "dt_summary %>% \n",
    "    ggplot() + geom_boxplot(aes(x = ds, y = frac_unprod, col = ds), width = .2) +\n",
    "        scale_y_continuous(labels = scales::percent_format(accuracy = .1)) +\n",
    "        labs(x = NULL, y = \"Fraction of unproductive reads\", title = \"Fraction of unproductive reads by tissue\",\n",
    "             subtitle = \"clusters with ONLY unprod. introns are excluded from both numerators and denominators.\\n(Brain=Brain-Cortex)\",\n",
    "            caption = (dt_summary[, .N, by = ds] %>% deframe() %>% imap_chr(~glue(\"{.y}:{.x}\")) %>% paste(collapse = \", \")),\n",
    "             color = NULL\n",
    "            )"
   ]
  },
  {
   "cell_type": "code",
   "execution_count": 61,
   "id": "daedec43",
   "metadata": {
    "vscode": {
     "languageId": "r"
    }
   },
   "outputs": [
    {
     "data": {
      "text/html": [
       "<style>\n",
       ".dl-inline {width: auto; margin:0; padding: 0}\n",
       ".dl-inline>dt, .dl-inline>dd {float: none; width: auto; display: inline-block}\n",
       ".dl-inline>dt::after {content: \":\\0020\"; padding-right: .5ex}\n",
       ".dl-inline>dt:not(:first-of-type) {padding-left: .5ex}\n",
       "</style><dl class=dl-inline><dt>Brain</dt><dd>255</dd><dt>Muscle</dt><dd>803</dd><dt>Kidney</dt><dd>88</dd></dl>\n"
      ],
      "text/latex": [
       "\\begin{description*}\n",
       "\\item[Brain] 255\n",
       "\\item[Muscle] 803\n",
       "\\item[Kidney] 88\n",
       "\\end{description*}\n"
      ],
      "text/markdown": [
       "Brain\n",
       ":   255Muscle\n",
       ":   803Kidney\n",
       ":   88\n",
       "\n"
      ],
      "text/plain": [
       " Brain Muscle Kidney \n",
       "   255    803     88 "
      ]
     },
     "metadata": {},
     "output_type": "display_data"
    }
   ],
   "source": [
    "dt_summary[, .N, by = ds] %>% deframe()"
   ]
  },
  {
   "cell_type": "code",
   "execution_count": 72,
   "id": "37d7532f",
   "metadata": {
    "vscode": {
     "languageId": "r"
    }
   },
   "outputs": [
    {
     "data": {
      "text/html": [
       "'Brain:255, Muscle:803, Kidney:88'"
      ],
      "text/latex": [
       "'Brain:255, Muscle:803, Kidney:88'"
      ],
      "text/markdown": [
       "'Brain:255, Muscle:803, Kidney:88'"
      ],
      "text/plain": [
       "[1] \"Brain:255, Muscle:803, Kidney:88\""
      ]
     },
     "metadata": {},
     "output_type": "display_data"
    }
   ],
   "source": [
    "dt_summary[, .N, by = ds] %>% deframe() %>% imap_chr(~glue(\"{.y}:{.x}\")) %>% paste(collapse = \", \")"
   ]
  },
  {
   "cell_type": "code",
   "execution_count": null,
   "id": "40a97efb",
   "metadata": {
    "vscode": {
     "languageId": "r"
    }
   },
   "outputs": [],
   "source": []
  },
  {
   "cell_type": "code",
   "execution_count": null,
   "id": "895791d6",
   "metadata": {
    "vscode": {
     "languageId": "r"
    }
   },
   "outputs": [],
   "source": []
  },
  {
   "cell_type": "code",
   "execution_count": null,
   "id": "622243fc",
   "metadata": {
    "vscode": {
     "languageId": "r"
    }
   },
   "outputs": [],
   "source": []
  },
  {
   "cell_type": "code",
   "execution_count": null,
   "id": "d74d74d6",
   "metadata": {
    "vscode": {
     "languageId": "r"
    }
   },
   "outputs": [],
   "source": []
  },
  {
   "cell_type": "code",
   "execution_count": null,
   "id": "c1bfe6af",
   "metadata": {
    "vscode": {
     "languageId": "r"
    }
   },
   "outputs": [],
   "source": []
  }
 ],
 "metadata": {
  "kernelspec": {
   "display_name": "R",
   "language": "R",
   "name": "ir"
  },
  "language_info": {
   "codemirror_mode": "r",
   "file_extension": ".r",
   "mimetype": "text/x-r-source",
   "name": "R",
   "pygments_lexer": "r",
   "version": "4.3.1"
  }
 },
 "nbformat": 4,
 "nbformat_minor": 5
}
