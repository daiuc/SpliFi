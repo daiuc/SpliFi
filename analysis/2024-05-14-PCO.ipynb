{
 "cells": [
  {
   "cell_type": "raw",
   "id": "4d8ac036",
   "metadata": {
    "vscode": {
     "languageId": "raw"
    }
   },
   "source": [
    "---\n",
    "title: \"Try PCO\"\n",
    "date: 2024-5-14\n",
    "author: \"Chao Dai\"\n",
    "code-fold: true\n",
    "execute: \n",
    "  warning: false\n",
    "  message: false\n",
    "  echo: false\n",
    "  include: false\n",
    "categories:\n",
    "  - \"GTEx\"\n",
    "jupyter:\n",
    "    language: r\n",
    "---"
   ]
  },
  {
   "cell_type": "code",
   "execution_count": 1,
   "id": "da38932e",
   "metadata": {
    "execution": {
     "iopub.execute_input": "2024-05-20T17:24:41.753732Z",
     "iopub.status.busy": "2024-05-20T17:24:41.746438Z",
     "iopub.status.idle": "2024-05-20T17:24:46.341995Z",
     "shell.execute_reply": "2024-05-20T17:24:46.338557Z"
    },
    "vscode": {
     "languageId": "r"
    }
   },
   "outputs": [],
   "source": [
    "# use R to change path to ~/cdai/SpliFi/analysis if current working path is not\n",
    "setwd(\"~/cdai/SpliFi/analysis\")"
   ]
  },
  {
   "cell_type": "code",
   "execution_count": 2,
   "id": "d485b16a",
   "metadata": {
    "execution": {
     "iopub.execute_input": "2024-05-20T17:24:46.398784Z",
     "iopub.status.busy": "2024-05-20T17:24:46.346929Z",
     "iopub.status.idle": "2024-05-20T17:24:47.290809Z",
     "shell.execute_reply": "2024-05-20T17:24:47.289168Z"
    },
    "vscode": {
     "languageId": "r"
    }
   },
   "outputs": [],
   "source": [
    "suppressMessages(library(tidyverse))\n",
    "suppressMessages(library(glue))\n",
    "suppressMessages(library(data.table))\n",
    "suppressMessages(library(cowplot))\n",
    "suppressMessages(library(ggrastr))\n"
   ]
  },
  {
   "cell_type": "code",
   "execution_count": 3,
   "id": "1004a2bc",
   "metadata": {
    "execution": {
     "iopub.execute_input": "2024-05-20T17:24:47.294916Z",
     "iopub.status.busy": "2024-05-20T17:24:47.293337Z",
     "iopub.status.idle": "2024-05-20T17:24:47.319390Z",
     "shell.execute_reply": "2024-05-20T17:24:47.317995Z"
    },
    "vscode": {
     "languageId": "r"
    }
   },
   "outputs": [],
   "source": [
    "theme_set(theme_cowplot())\n"
   ]
  },
  {
   "cell_type": "code",
   "execution_count": 4,
   "id": "7695f2ba-f7f5-4956-84b5-0fdbddefc3ff",
   "metadata": {
    "execution": {
     "iopub.execute_input": "2024-05-20T17:24:47.326864Z",
     "iopub.status.busy": "2024-05-20T17:24:47.325494Z",
     "iopub.status.idle": "2024-05-20T17:24:47.336458Z",
     "shell.execute_reply": "2024-05-20T17:24:47.335042Z"
    },
    "vscode": {
     "languageId": "r"
    }
   },
   "outputs": [],
   "source": [
    "options(repr.plot.width = 10, repr.plot.height = 7, repr.plot.res = 180)\n"
   ]
  },
  {
   "cell_type": "code",
   "execution_count": 5,
   "id": "2eafaaee",
   "metadata": {
    "execution": {
     "iopub.execute_input": "2024-05-20T17:24:47.339978Z",
     "iopub.status.busy": "2024-05-20T17:24:47.338819Z",
     "iopub.status.idle": "2024-05-20T17:24:49.512712Z",
     "shell.execute_reply": "2024-05-20T17:24:49.508616Z"
    },
    "vscode": {
     "languageId": "r"
    }
   },
   "outputs": [],
   "source": [
    "suppressMessages(library(furrr))\n",
    "plan(multisession, workers = 6)\n"
   ]
  },
  {
   "cell_type": "code",
   "execution_count": null,
   "id": "b0471e7d-dd28-4d57-a185-e7be659e568b",
   "metadata": {},
   "outputs": [],
   "source": []
  },
  {
   "cell_type": "markdown",
   "id": "399c0ca0-1f29-4e5c-8623-af9f12293be1",
   "metadata": {},
   "source": [
    "# Data prep"
   ]
  },
  {
   "cell_type": "code",
   "execution_count": 6,
   "id": "45ce9ba2-e86e-4255-867d-82559935cb29",
   "metadata": {
    "execution": {
     "iopub.execute_input": "2024-05-20T17:24:49.520765Z",
     "iopub.status.busy": "2024-05-20T17:24:49.518048Z",
     "iopub.status.idle": "2024-05-20T17:24:50.632116Z",
     "shell.execute_reply": "2024-05-20T17:24:50.629331Z"
    }
   },
   "outputs": [],
   "source": [
    "permStats = fread(\"../code/results/qtl/noisy/Geuvadis/EUR/separateNoise/cis_100000/perm/chr22.addQval.txt.gz\")"
   ]
  },
  {
   "cell_type": "code",
   "execution_count": 7,
   "id": "d74778ca-3906-46aa-8588-746406d4771d",
   "metadata": {
    "execution": {
     "iopub.execute_input": "2024-05-20T17:24:50.638578Z",
     "iopub.status.busy": "2024-05-20T17:24:50.636192Z",
     "iopub.status.idle": "2024-05-20T17:24:52.642753Z",
     "shell.execute_reply": "2024-05-20T17:24:52.641037Z"
    }
   },
   "outputs": [],
   "source": [
    "nomStats = fread(\"../code/results/qtl/noisy/Geuvadis/EUR/separateNoise/cis_100000/nom/chr22.txt.gz\")"
   ]
  },
  {
   "cell_type": "code",
   "execution_count": 8,
   "id": "46f5c853-d599-4287-b774-d9b6cff3681a",
   "metadata": {
    "execution": {
     "iopub.execute_input": "2024-05-20T17:24:52.646484Z",
     "iopub.status.busy": "2024-05-20T17:24:52.645133Z",
     "iopub.status.idle": "2024-05-20T17:24:52.693740Z",
     "shell.execute_reply": "2024-05-20T17:24:52.692165Z"
    }
   },
   "outputs": [
    {
     "data": {
      "text/html": [
       "<style>\n",
       ".list-inline {list-style: none; margin:0; padding: 0}\n",
       ".list-inline>li {display: inline-block}\n",
       ".list-inline>li:not(:last-child)::after {content: \"\\00b7\"; padding: 0 .5ex}\n",
       "</style>\n",
       "<ol class=list-inline><li>3399</li><li>21</li></ol>\n"
      ],
      "text/latex": [
       "\\begin{enumerate*}\n",
       "\\item 3399\n",
       "\\item 21\n",
       "\\end{enumerate*}\n"
      ],
      "text/markdown": [
       "1. 3399\n",
       "2. 21\n",
       "\n",
       "\n"
      ],
      "text/plain": [
       "[1] 3399   21"
      ]
     },
     "metadata": {},
     "output_type": "display_data"
    },
    {
     "data": {
      "text/html": [
       "<table class=\"dataframe\">\n",
       "<caption>A data.table: 6 × 21</caption>\n",
       "<thead>\n",
       "\t<tr><th scope=col>phenotype_id</th><th scope=col>phenotype_chr</th><th scope=col>phenotype_start</th><th scope=col>phenotype_end</th><th scope=col>phenotype_strand</th><th scope=col>num_variants</th><th scope=col>best_nom_dist</th><th scope=col>best_genotype_id</th><th scope=col>best_genotype_chr</th><th scope=col>best_genotype_start</th><th scope=col>⋯</th><th scope=col>dof_true</th><th scope=col>dof_est</th><th scope=col>beta_ml1</th><th scope=col>beta_ml2</th><th scope=col>pval_nom</th><th scope=col>pval_r2</th><th scope=col>slope</th><th scope=col>pval_emp</th><th scope=col>pval_adj</th><th scope=col>q</th></tr>\n",
       "\t<tr><th scope=col>&lt;chr&gt;</th><th scope=col>&lt;chr&gt;</th><th scope=col>&lt;int&gt;</th><th scope=col>&lt;int&gt;</th><th scope=col>&lt;chr&gt;</th><th scope=col>&lt;int&gt;</th><th scope=col>&lt;int&gt;</th><th scope=col>&lt;chr&gt;</th><th scope=col>&lt;chr&gt;</th><th scope=col>&lt;int&gt;</th><th scope=col>⋯</th><th scope=col>&lt;int&gt;</th><th scope=col>&lt;dbl&gt;</th><th scope=col>&lt;dbl&gt;</th><th scope=col>&lt;dbl&gt;</th><th scope=col>&lt;dbl&gt;</th><th scope=col>&lt;dbl&gt;</th><th scope=col>&lt;dbl&gt;</th><th scope=col>&lt;dbl&gt;</th><th scope=col>&lt;dbl&gt;</th><th scope=col>&lt;dbl&gt;</th></tr>\n",
       "</thead>\n",
       "<tbody>\n",
       "\t<tr><td>chr22:17045000:17046345:clu_60424_+:IN</td><td>chr22</td><td>17045001</td><td>17046345</td><td>+</td><td>463</td><td> -1688</td><td>22:17043313:T:C</td><td>chr22</td><td>17043313</td><td>⋯</td><td>358</td><td>322.969</td><td>0.971850</td><td>56.7786</td><td>1.42367e-08</td><td>0.0860162</td><td> 0.615162</td><td>0.000999001</td><td>5.88156e-06</td><td>8.0306e-05</td></tr>\n",
       "\t<tr><td>chr22:17045000:17047323:clu_60424_+:IN</td><td>chr22</td><td>17045001</td><td>17047323</td><td>+</td><td>463</td><td>     0</td><td>22:17045642:G:A</td><td>chr22</td><td>17045642</td><td>⋯</td><td>358</td><td>309.002</td><td>0.964383</td><td>49.8923</td><td>1.72142e-31</td><td>0.3169740</td><td>-1.258290</td><td>0.000999001</td><td>8.26831e-25</td><td>6.5620e-23</td></tr>\n",
       "\t<tr><td>chr22:17047426:17050160:clu_60425_+:IN</td><td>chr22</td><td>17047427</td><td>17050160</td><td>+</td><td>468</td><td>-36114</td><td>22:17011313:G:A</td><td>chr22</td><td>17011313</td><td>⋯</td><td>358</td><td>298.671</td><td>0.952559</td><td>47.6652</td><td>1.18160e-02</td><td>0.0175732</td><td>-0.140319</td><td>0.653347000</td><td>6.64944e-01</td><td>6.7322e-01</td></tr>\n",
       "\t<tr><td>chr22:17047426:17051574:clu_60425_+:IN</td><td>chr22</td><td>17047427</td><td>17051574</td><td>+</td><td>477</td><td>-21048</td><td>22:17026379:C:A</td><td>chr22</td><td>17026379</td><td>⋯</td><td>358</td><td>327.497</td><td>0.985805</td><td>56.7487</td><td>1.08313e-05</td><td>0.0527103</td><td> 0.371827</td><td>0.003996000</td><td>1.61235e-03</td><td>1.3338e-02</td></tr>\n",
       "\t<tr><td>chr22:17047426:17055564:clu_60425_+:IN</td><td>chr22</td><td>17047427</td><td>17055564</td><td>+</td><td>501</td><td>     0</td><td>22:17049480:A:G</td><td>chr22</td><td>17049480</td><td>⋯</td><td>358</td><td>294.389</td><td>0.927213</td><td>44.2685</td><td>1.40749e-19</td><td>0.2048130</td><td>-0.690923</td><td>0.000999001</td><td>1.07851e-13</td><td>2.9772e-12</td></tr>\n",
       "\t<tr><td>chr22:17047426:17057072:clu_60425_+:IN</td><td>chr22</td><td>17047427</td><td>17057072</td><td>+</td><td>508</td><td>     0</td><td>22:17055054:G:A</td><td>chr22</td><td>17055054</td><td>⋯</td><td>358</td><td>292.029</td><td>1.072360</td><td>46.5298</td><td>2.01417e-12</td><td>0.1292280</td><td> 0.892701</td><td>0.000999001</td><td>2.53412e-09</td><td>4.8389e-08</td></tr>\n",
       "</tbody>\n",
       "</table>\n"
      ],
      "text/latex": [
       "A data.table: 6 × 21\n",
       "\\begin{tabular}{lllllllllllllllllllll}\n",
       " phenotype\\_id & phenotype\\_chr & phenotype\\_start & phenotype\\_end & phenotype\\_strand & num\\_variants & best\\_nom\\_dist & best\\_genotype\\_id & best\\_genotype\\_chr & best\\_genotype\\_start & ⋯ & dof\\_true & dof\\_est & beta\\_ml1 & beta\\_ml2 & pval\\_nom & pval\\_r2 & slope & pval\\_emp & pval\\_adj & q\\\\\n",
       " <chr> & <chr> & <int> & <int> & <chr> & <int> & <int> & <chr> & <chr> & <int> & ⋯ & <int> & <dbl> & <dbl> & <dbl> & <dbl> & <dbl> & <dbl> & <dbl> & <dbl> & <dbl>\\\\\n",
       "\\hline\n",
       "\t chr22:17045000:17046345:clu\\_60424\\_+:IN & chr22 & 17045001 & 17046345 & + & 463 &  -1688 & 22:17043313:T:C & chr22 & 17043313 & ⋯ & 358 & 322.969 & 0.971850 & 56.7786 & 1.42367e-08 & 0.0860162 &  0.615162 & 0.000999001 & 5.88156e-06 & 8.0306e-05\\\\\n",
       "\t chr22:17045000:17047323:clu\\_60424\\_+:IN & chr22 & 17045001 & 17047323 & + & 463 &      0 & 22:17045642:G:A & chr22 & 17045642 & ⋯ & 358 & 309.002 & 0.964383 & 49.8923 & 1.72142e-31 & 0.3169740 & -1.258290 & 0.000999001 & 8.26831e-25 & 6.5620e-23\\\\\n",
       "\t chr22:17047426:17050160:clu\\_60425\\_+:IN & chr22 & 17047427 & 17050160 & + & 468 & -36114 & 22:17011313:G:A & chr22 & 17011313 & ⋯ & 358 & 298.671 & 0.952559 & 47.6652 & 1.18160e-02 & 0.0175732 & -0.140319 & 0.653347000 & 6.64944e-01 & 6.7322e-01\\\\\n",
       "\t chr22:17047426:17051574:clu\\_60425\\_+:IN & chr22 & 17047427 & 17051574 & + & 477 & -21048 & 22:17026379:C:A & chr22 & 17026379 & ⋯ & 358 & 327.497 & 0.985805 & 56.7487 & 1.08313e-05 & 0.0527103 &  0.371827 & 0.003996000 & 1.61235e-03 & 1.3338e-02\\\\\n",
       "\t chr22:17047426:17055564:clu\\_60425\\_+:IN & chr22 & 17047427 & 17055564 & + & 501 &      0 & 22:17049480:A:G & chr22 & 17049480 & ⋯ & 358 & 294.389 & 0.927213 & 44.2685 & 1.40749e-19 & 0.2048130 & -0.690923 & 0.000999001 & 1.07851e-13 & 2.9772e-12\\\\\n",
       "\t chr22:17047426:17057072:clu\\_60425\\_+:IN & chr22 & 17047427 & 17057072 & + & 508 &      0 & 22:17055054:G:A & chr22 & 17055054 & ⋯ & 358 & 292.029 & 1.072360 & 46.5298 & 2.01417e-12 & 0.1292280 &  0.892701 & 0.000999001 & 2.53412e-09 & 4.8389e-08\\\\\n",
       "\\end{tabular}\n"
      ],
      "text/markdown": [
       "\n",
       "A data.table: 6 × 21\n",
       "\n",
       "| phenotype_id &lt;chr&gt; | phenotype_chr &lt;chr&gt; | phenotype_start &lt;int&gt; | phenotype_end &lt;int&gt; | phenotype_strand &lt;chr&gt; | num_variants &lt;int&gt; | best_nom_dist &lt;int&gt; | best_genotype_id &lt;chr&gt; | best_genotype_chr &lt;chr&gt; | best_genotype_start &lt;int&gt; | ⋯ ⋯ | dof_true &lt;int&gt; | dof_est &lt;dbl&gt; | beta_ml1 &lt;dbl&gt; | beta_ml2 &lt;dbl&gt; | pval_nom &lt;dbl&gt; | pval_r2 &lt;dbl&gt; | slope &lt;dbl&gt; | pval_emp &lt;dbl&gt; | pval_adj &lt;dbl&gt; | q &lt;dbl&gt; |\n",
       "|---|---|---|---|---|---|---|---|---|---|---|---|---|---|---|---|---|---|---|---|---|\n",
       "| chr22:17045000:17046345:clu_60424_+:IN | chr22 | 17045001 | 17046345 | + | 463 |  -1688 | 22:17043313:T:C | chr22 | 17043313 | ⋯ | 358 | 322.969 | 0.971850 | 56.7786 | 1.42367e-08 | 0.0860162 |  0.615162 | 0.000999001 | 5.88156e-06 | 8.0306e-05 |\n",
       "| chr22:17045000:17047323:clu_60424_+:IN | chr22 | 17045001 | 17047323 | + | 463 |      0 | 22:17045642:G:A | chr22 | 17045642 | ⋯ | 358 | 309.002 | 0.964383 | 49.8923 | 1.72142e-31 | 0.3169740 | -1.258290 | 0.000999001 | 8.26831e-25 | 6.5620e-23 |\n",
       "| chr22:17047426:17050160:clu_60425_+:IN | chr22 | 17047427 | 17050160 | + | 468 | -36114 | 22:17011313:G:A | chr22 | 17011313 | ⋯ | 358 | 298.671 | 0.952559 | 47.6652 | 1.18160e-02 | 0.0175732 | -0.140319 | 0.653347000 | 6.64944e-01 | 6.7322e-01 |\n",
       "| chr22:17047426:17051574:clu_60425_+:IN | chr22 | 17047427 | 17051574 | + | 477 | -21048 | 22:17026379:C:A | chr22 | 17026379 | ⋯ | 358 | 327.497 | 0.985805 | 56.7487 | 1.08313e-05 | 0.0527103 |  0.371827 | 0.003996000 | 1.61235e-03 | 1.3338e-02 |\n",
       "| chr22:17047426:17055564:clu_60425_+:IN | chr22 | 17047427 | 17055564 | + | 501 |      0 | 22:17049480:A:G | chr22 | 17049480 | ⋯ | 358 | 294.389 | 0.927213 | 44.2685 | 1.40749e-19 | 0.2048130 | -0.690923 | 0.000999001 | 1.07851e-13 | 2.9772e-12 |\n",
       "| chr22:17047426:17057072:clu_60425_+:IN | chr22 | 17047427 | 17057072 | + | 508 |      0 | 22:17055054:G:A | chr22 | 17055054 | ⋯ | 358 | 292.029 | 1.072360 | 46.5298 | 2.01417e-12 | 0.1292280 |  0.892701 | 0.000999001 | 2.53412e-09 | 4.8389e-08 |\n",
       "\n"
      ],
      "text/plain": [
       "  phenotype_id                           phenotype_chr phenotype_start\n",
       "1 chr22:17045000:17046345:clu_60424_+:IN chr22         17045001       \n",
       "2 chr22:17045000:17047323:clu_60424_+:IN chr22         17045001       \n",
       "3 chr22:17047426:17050160:clu_60425_+:IN chr22         17047427       \n",
       "4 chr22:17047426:17051574:clu_60425_+:IN chr22         17047427       \n",
       "5 chr22:17047426:17055564:clu_60425_+:IN chr22         17047427       \n",
       "6 chr22:17047426:17057072:clu_60425_+:IN chr22         17047427       \n",
       "  phenotype_end phenotype_strand num_variants best_nom_dist best_genotype_id\n",
       "1 17046345      +                463           -1688        22:17043313:T:C \n",
       "2 17047323      +                463               0        22:17045642:G:A \n",
       "3 17050160      +                468          -36114        22:17011313:G:A \n",
       "4 17051574      +                477          -21048        22:17026379:C:A \n",
       "5 17055564      +                501               0        22:17049480:A:G \n",
       "6 17057072      +                508               0        22:17055054:G:A \n",
       "  best_genotype_chr best_genotype_start ⋯ dof_true dof_est beta_ml1 beta_ml2\n",
       "1 chr22             17043313            ⋯ 358      322.969 0.971850 56.7786 \n",
       "2 chr22             17045642            ⋯ 358      309.002 0.964383 49.8923 \n",
       "3 chr22             17011313            ⋯ 358      298.671 0.952559 47.6652 \n",
       "4 chr22             17026379            ⋯ 358      327.497 0.985805 56.7487 \n",
       "5 chr22             17049480            ⋯ 358      294.389 0.927213 44.2685 \n",
       "6 chr22             17055054            ⋯ 358      292.029 1.072360 46.5298 \n",
       "  pval_nom    pval_r2   slope     pval_emp    pval_adj    q         \n",
       "1 1.42367e-08 0.0860162  0.615162 0.000999001 5.88156e-06 8.0306e-05\n",
       "2 1.72142e-31 0.3169740 -1.258290 0.000999001 8.26831e-25 6.5620e-23\n",
       "3 1.18160e-02 0.0175732 -0.140319 0.653347000 6.64944e-01 6.7322e-01\n",
       "4 1.08313e-05 0.0527103  0.371827 0.003996000 1.61235e-03 1.3338e-02\n",
       "5 1.40749e-19 0.2048130 -0.690923 0.000999001 1.07851e-13 2.9772e-12\n",
       "6 2.01417e-12 0.1292280  0.892701 0.000999001 2.53412e-09 4.8389e-08"
      ]
     },
     "metadata": {},
     "output_type": "display_data"
    }
   ],
   "source": [
    "dim(permStats)\n",
    "head(permStats)"
   ]
  },
  {
   "cell_type": "code",
   "execution_count": 9,
   "id": "7150da1b-7582-45b4-9e52-636f89adf8ca",
   "metadata": {
    "execution": {
     "iopub.execute_input": "2024-05-20T17:24:52.697344Z",
     "iopub.status.busy": "2024-05-20T17:24:52.696079Z",
     "iopub.status.idle": "2024-05-20T17:24:52.729338Z",
     "shell.execute_reply": "2024-05-20T17:24:52.727523Z"
    }
   },
   "outputs": [
    {
     "data": {
      "text/html": [
       "<style>\n",
       ".list-inline {list-style: none; margin:0; padding: 0}\n",
       ".list-inline>li {display: inline-block}\n",
       ".list-inline>li:not(:last-child)::after {content: \"\\00b7\"; padding: 0 .5ex}\n",
       "</style>\n",
       "<ol class=list-inline><li>1466565</li><li>15</li></ol>\n"
      ],
      "text/latex": [
       "\\begin{enumerate*}\n",
       "\\item 1466565\n",
       "\\item 15\n",
       "\\end{enumerate*}\n"
      ],
      "text/markdown": [
       "1. 1466565\n",
       "2. 15\n",
       "\n",
       "\n"
      ],
      "text/plain": [
       "[1] 1466565      15"
      ]
     },
     "metadata": {},
     "output_type": "display_data"
    },
    {
     "data": {
      "text/html": [
       "<table class=\"dataframe\">\n",
       "<caption>A data.table: 6 × 15</caption>\n",
       "<thead>\n",
       "\t<tr><th scope=col>V1</th><th scope=col>V2</th><th scope=col>V3</th><th scope=col>V4</th><th scope=col>V5</th><th scope=col>V6</th><th scope=col>V7</th><th scope=col>V8</th><th scope=col>V9</th><th scope=col>V10</th><th scope=col>V11</th><th scope=col>V12</th><th scope=col>V13</th><th scope=col>V14</th><th scope=col>V15</th></tr>\n",
       "\t<tr><th scope=col>&lt;chr&gt;</th><th scope=col>&lt;chr&gt;</th><th scope=col>&lt;int&gt;</th><th scope=col>&lt;int&gt;</th><th scope=col>&lt;chr&gt;</th><th scope=col>&lt;int&gt;</th><th scope=col>&lt;int&gt;</th><th scope=col>&lt;chr&gt;</th><th scope=col>&lt;chr&gt;</th><th scope=col>&lt;int&gt;</th><th scope=col>&lt;int&gt;</th><th scope=col>&lt;dbl&gt;</th><th scope=col>&lt;dbl&gt;</th><th scope=col>&lt;dbl&gt;</th><th scope=col>&lt;int&gt;</th></tr>\n",
       "</thead>\n",
       "<tbody>\n",
       "\t<tr><td>chr22:17045000:17047323:clu_60424_+:IN</td><td>chr22</td><td>17045001</td><td>17047323</td><td>+</td><td>463</td><td>-99791</td><td>22:16945210:A:G</td><td>chr22</td><td>16945210</td><td>16945210</td><td>0.4349770</td><td>0.001703430</td><td> 0.5992200</td><td>0</td></tr>\n",
       "\t<tr><td>chr22:17045000:17046345:clu_60424_+:IN</td><td>chr22</td><td>17045001</td><td>17046345</td><td>+</td><td>463</td><td>-99791</td><td>22:16945210:A:G</td><td>chr22</td><td>16945210</td><td>16945210</td><td>0.7634780</td><td>0.000253257</td><td>-0.2162240</td><td>0</td></tr>\n",
       "\t<tr><td>chr22:17045000:17047323:clu_60424_+:IN</td><td>chr22</td><td>17045001</td><td>17047323</td><td>+</td><td>463</td><td>-98854</td><td>22:16946147:G:A</td><td>chr22</td><td>16946147</td><td>16946147</td><td>0.0757452</td><td>0.008783310</td><td>-0.2421950</td><td>0</td></tr>\n",
       "\t<tr><td>chr22:17045000:17046345:clu_60424_+:IN</td><td>chr22</td><td>17045001</td><td>17046345</td><td>+</td><td>463</td><td>-98854</td><td>22:16946147:G:A</td><td>chr22</td><td>16946147</td><td>16946147</td><td>0.8394060</td><td>0.000114870</td><td>-0.0259201</td><td>0</td></tr>\n",
       "\t<tr><td>chr22:17045000:17046345:clu_60424_+:IN</td><td>chr22</td><td>17045001</td><td>17046345</td><td>+</td><td>463</td><td>-98227</td><td>22:16946774:A:C</td><td>chr22</td><td>16946774</td><td>16946774</td><td>0.1265570</td><td>0.006508040</td><td> 0.1270690</td><td>0</td></tr>\n",
       "\t<tr><td>chr22:17045000:17047323:clu_60424_+:IN</td><td>chr22</td><td>17045001</td><td>17047323</td><td>+</td><td>463</td><td>-98227</td><td>22:16946774:A:C</td><td>chr22</td><td>16946774</td><td>16946774</td><td>0.2353010</td><td>0.003932190</td><td>-0.1055440</td><td>0</td></tr>\n",
       "</tbody>\n",
       "</table>\n"
      ],
      "text/latex": [
       "A data.table: 6 × 15\n",
       "\\begin{tabular}{lllllllllllllll}\n",
       " V1 & V2 & V3 & V4 & V5 & V6 & V7 & V8 & V9 & V10 & V11 & V12 & V13 & V14 & V15\\\\\n",
       " <chr> & <chr> & <int> & <int> & <chr> & <int> & <int> & <chr> & <chr> & <int> & <int> & <dbl> & <dbl> & <dbl> & <int>\\\\\n",
       "\\hline\n",
       "\t chr22:17045000:17047323:clu\\_60424\\_+:IN & chr22 & 17045001 & 17047323 & + & 463 & -99791 & 22:16945210:A:G & chr22 & 16945210 & 16945210 & 0.4349770 & 0.001703430 &  0.5992200 & 0\\\\\n",
       "\t chr22:17045000:17046345:clu\\_60424\\_+:IN & chr22 & 17045001 & 17046345 & + & 463 & -99791 & 22:16945210:A:G & chr22 & 16945210 & 16945210 & 0.7634780 & 0.000253257 & -0.2162240 & 0\\\\\n",
       "\t chr22:17045000:17047323:clu\\_60424\\_+:IN & chr22 & 17045001 & 17047323 & + & 463 & -98854 & 22:16946147:G:A & chr22 & 16946147 & 16946147 & 0.0757452 & 0.008783310 & -0.2421950 & 0\\\\\n",
       "\t chr22:17045000:17046345:clu\\_60424\\_+:IN & chr22 & 17045001 & 17046345 & + & 463 & -98854 & 22:16946147:G:A & chr22 & 16946147 & 16946147 & 0.8394060 & 0.000114870 & -0.0259201 & 0\\\\\n",
       "\t chr22:17045000:17046345:clu\\_60424\\_+:IN & chr22 & 17045001 & 17046345 & + & 463 & -98227 & 22:16946774:A:C & chr22 & 16946774 & 16946774 & 0.1265570 & 0.006508040 &  0.1270690 & 0\\\\\n",
       "\t chr22:17045000:17047323:clu\\_60424\\_+:IN & chr22 & 17045001 & 17047323 & + & 463 & -98227 & 22:16946774:A:C & chr22 & 16946774 & 16946774 & 0.2353010 & 0.003932190 & -0.1055440 & 0\\\\\n",
       "\\end{tabular}\n"
      ],
      "text/markdown": [
       "\n",
       "A data.table: 6 × 15\n",
       "\n",
       "| V1 &lt;chr&gt; | V2 &lt;chr&gt; | V3 &lt;int&gt; | V4 &lt;int&gt; | V5 &lt;chr&gt; | V6 &lt;int&gt; | V7 &lt;int&gt; | V8 &lt;chr&gt; | V9 &lt;chr&gt; | V10 &lt;int&gt; | V11 &lt;int&gt; | V12 &lt;dbl&gt; | V13 &lt;dbl&gt; | V14 &lt;dbl&gt; | V15 &lt;int&gt; |\n",
       "|---|---|---|---|---|---|---|---|---|---|---|---|---|---|---|\n",
       "| chr22:17045000:17047323:clu_60424_+:IN | chr22 | 17045001 | 17047323 | + | 463 | -99791 | 22:16945210:A:G | chr22 | 16945210 | 16945210 | 0.4349770 | 0.001703430 |  0.5992200 | 0 |\n",
       "| chr22:17045000:17046345:clu_60424_+:IN | chr22 | 17045001 | 17046345 | + | 463 | -99791 | 22:16945210:A:G | chr22 | 16945210 | 16945210 | 0.7634780 | 0.000253257 | -0.2162240 | 0 |\n",
       "| chr22:17045000:17047323:clu_60424_+:IN | chr22 | 17045001 | 17047323 | + | 463 | -98854 | 22:16946147:G:A | chr22 | 16946147 | 16946147 | 0.0757452 | 0.008783310 | -0.2421950 | 0 |\n",
       "| chr22:17045000:17046345:clu_60424_+:IN | chr22 | 17045001 | 17046345 | + | 463 | -98854 | 22:16946147:G:A | chr22 | 16946147 | 16946147 | 0.8394060 | 0.000114870 | -0.0259201 | 0 |\n",
       "| chr22:17045000:17046345:clu_60424_+:IN | chr22 | 17045001 | 17046345 | + | 463 | -98227 | 22:16946774:A:C | chr22 | 16946774 | 16946774 | 0.1265570 | 0.006508040 |  0.1270690 | 0 |\n",
       "| chr22:17045000:17047323:clu_60424_+:IN | chr22 | 17045001 | 17047323 | + | 463 | -98227 | 22:16946774:A:C | chr22 | 16946774 | 16946774 | 0.2353010 | 0.003932190 | -0.1055440 | 0 |\n",
       "\n"
      ],
      "text/plain": [
       "  V1                                     V2    V3       V4       V5 V6  V7    \n",
       "1 chr22:17045000:17047323:clu_60424_+:IN chr22 17045001 17047323 +  463 -99791\n",
       "2 chr22:17045000:17046345:clu_60424_+:IN chr22 17045001 17046345 +  463 -99791\n",
       "3 chr22:17045000:17047323:clu_60424_+:IN chr22 17045001 17047323 +  463 -98854\n",
       "4 chr22:17045000:17046345:clu_60424_+:IN chr22 17045001 17046345 +  463 -98854\n",
       "5 chr22:17045000:17046345:clu_60424_+:IN chr22 17045001 17046345 +  463 -98227\n",
       "6 chr22:17045000:17047323:clu_60424_+:IN chr22 17045001 17047323 +  463 -98227\n",
       "  V8              V9    V10      V11      V12       V13         V14        V15\n",
       "1 22:16945210:A:G chr22 16945210 16945210 0.4349770 0.001703430  0.5992200 0  \n",
       "2 22:16945210:A:G chr22 16945210 16945210 0.7634780 0.000253257 -0.2162240 0  \n",
       "3 22:16946147:G:A chr22 16946147 16946147 0.0757452 0.008783310 -0.2421950 0  \n",
       "4 22:16946147:G:A chr22 16946147 16946147 0.8394060 0.000114870 -0.0259201 0  \n",
       "5 22:16946774:A:C chr22 16946774 16946774 0.1265570 0.006508040  0.1270690 0  \n",
       "6 22:16946774:A:C chr22 16946774 16946774 0.2353010 0.003932190 -0.1055440 0  "
      ]
     },
     "metadata": {},
     "output_type": "display_data"
    }
   ],
   "source": [
    "dim(nomStats)\n",
    "head(nomStats)"
   ]
  },
  {
   "cell_type": "markdown",
   "id": "419325cd-838f-4cdf-81ea-5acee44b3c21",
   "metadata": {},
   "source": [
    "## step 1, select phenotypes"
   ]
  },
  {
   "cell_type": "code",
   "execution_count": 10,
   "id": "bdf18570-6dd8-4e2e-9af4-99a0a2aae589",
   "metadata": {
    "execution": {
     "iopub.execute_input": "2024-05-20T17:24:52.733620Z",
     "iopub.status.busy": "2024-05-20T17:24:52.732183Z",
     "iopub.status.idle": "2024-05-20T17:24:52.750786Z",
     "shell.execute_reply": "2024-05-20T17:24:52.749248Z"
    }
   },
   "outputs": [],
   "source": [
    "permStats[, `:=`(clu = str_extract(phenotype_id, \"clu_\\\\d+_[\\\\+\\\\-]\"), itype = str_extract(phenotype_id, \"[A-Z]{2}$\"))]"
   ]
  },
  {
   "cell_type": "code",
   "execution_count": 11,
   "id": "4b421cdc-bddb-4d1a-924e-e5cf966e6705",
   "metadata": {
    "execution": {
     "iopub.execute_input": "2024-05-20T17:24:52.754656Z",
     "iopub.status.busy": "2024-05-20T17:24:52.753268Z",
     "iopub.status.idle": "2024-05-20T17:24:52.789356Z",
     "shell.execute_reply": "2024-05-20T17:24:52.787831Z"
    }
   },
   "outputs": [],
   "source": [
    "qualClu = permStats[, .(phenotype_id, itype, Nintron = uniqueN(phenotype_id)), by = .(clu)][Nintron > 1, clu] %>% unique"
   ]
  },
  {
   "cell_type": "code",
   "execution_count": 12,
   "id": "14728649-c4f3-4ae1-b787-afed64435874",
   "metadata": {
    "execution": {
     "iopub.execute_input": "2024-05-20T17:24:52.793353Z",
     "iopub.status.busy": "2024-05-20T17:24:52.791883Z",
     "iopub.status.idle": "2024-05-20T17:24:52.821997Z",
     "shell.execute_reply": "2024-05-20T17:24:52.810415Z"
    }
   },
   "outputs": [],
   "source": [
    "permStats = permStats[clu %in% qualClu]"
   ]
  },
  {
   "cell_type": "code",
   "execution_count": 13,
   "id": "f70dcd83-d053-427f-876f-6a8084d8f8dc",
   "metadata": {
    "execution": {
     "iopub.execute_input": "2024-05-20T17:24:52.825516Z",
     "iopub.status.busy": "2024-05-20T17:24:52.824295Z",
     "iopub.status.idle": "2024-05-20T17:24:52.861768Z",
     "shell.execute_reply": "2024-05-20T17:24:52.860244Z"
    }
   },
   "outputs": [
    {
     "data": {
      "text/html": [
       "<style>\n",
       ".list-inline {list-style: none; margin:0; padding: 0}\n",
       ".list-inline>li {display: inline-block}\n",
       ".list-inline>li:not(:last-child)::after {content: \"\\00b7\"; padding: 0 .5ex}\n",
       "</style>\n",
       "<ol class=list-inline><li>3135</li><li>23</li></ol>\n"
      ],
      "text/latex": [
       "\\begin{enumerate*}\n",
       "\\item 3135\n",
       "\\item 23\n",
       "\\end{enumerate*}\n"
      ],
      "text/markdown": [
       "1. 3135\n",
       "2. 23\n",
       "\n",
       "\n"
      ],
      "text/plain": [
       "[1] 3135   23"
      ]
     },
     "metadata": {},
     "output_type": "display_data"
    },
    {
     "data": {
      "text/html": [
       "<table class=\"dataframe\">\n",
       "<caption>A data.table: 6 × 23</caption>\n",
       "<thead>\n",
       "\t<tr><th scope=col>phenotype_id</th><th scope=col>phenotype_chr</th><th scope=col>phenotype_start</th><th scope=col>phenotype_end</th><th scope=col>phenotype_strand</th><th scope=col>num_variants</th><th scope=col>best_nom_dist</th><th scope=col>best_genotype_id</th><th scope=col>best_genotype_chr</th><th scope=col>best_genotype_start</th><th scope=col>⋯</th><th scope=col>beta_ml1</th><th scope=col>beta_ml2</th><th scope=col>pval_nom</th><th scope=col>pval_r2</th><th scope=col>slope</th><th scope=col>pval_emp</th><th scope=col>pval_adj</th><th scope=col>q</th><th scope=col>clu</th><th scope=col>itype</th></tr>\n",
       "\t<tr><th scope=col>&lt;chr&gt;</th><th scope=col>&lt;chr&gt;</th><th scope=col>&lt;int&gt;</th><th scope=col>&lt;int&gt;</th><th scope=col>&lt;chr&gt;</th><th scope=col>&lt;int&gt;</th><th scope=col>&lt;int&gt;</th><th scope=col>&lt;chr&gt;</th><th scope=col>&lt;chr&gt;</th><th scope=col>&lt;int&gt;</th><th scope=col>⋯</th><th scope=col>&lt;dbl&gt;</th><th scope=col>&lt;dbl&gt;</th><th scope=col>&lt;dbl&gt;</th><th scope=col>&lt;dbl&gt;</th><th scope=col>&lt;dbl&gt;</th><th scope=col>&lt;dbl&gt;</th><th scope=col>&lt;dbl&gt;</th><th scope=col>&lt;dbl&gt;</th><th scope=col>&lt;chr&gt;</th><th scope=col>&lt;chr&gt;</th></tr>\n",
       "</thead>\n",
       "<tbody>\n",
       "\t<tr><td>chr22:17045000:17046345:clu_60424_+:IN</td><td>chr22</td><td>17045001</td><td>17046345</td><td>+</td><td>463</td><td> -1688</td><td>22:17043313:T:C</td><td>chr22</td><td>17043313</td><td>⋯</td><td>0.971850</td><td>56.7786</td><td>1.42367e-08</td><td>0.0860162</td><td> 0.615162</td><td>0.000999001</td><td>5.88156e-06</td><td>8.0306e-05</td><td>clu_60424_+</td><td>IN</td></tr>\n",
       "\t<tr><td>chr22:17045000:17047323:clu_60424_+:IN</td><td>chr22</td><td>17045001</td><td>17047323</td><td>+</td><td>463</td><td>     0</td><td>22:17045642:G:A</td><td>chr22</td><td>17045642</td><td>⋯</td><td>0.964383</td><td>49.8923</td><td>1.72142e-31</td><td>0.3169740</td><td>-1.258290</td><td>0.000999001</td><td>8.26831e-25</td><td>6.5620e-23</td><td>clu_60424_+</td><td>IN</td></tr>\n",
       "\t<tr><td>chr22:17047426:17050160:clu_60425_+:IN</td><td>chr22</td><td>17047427</td><td>17050160</td><td>+</td><td>468</td><td>-36114</td><td>22:17011313:G:A</td><td>chr22</td><td>17011313</td><td>⋯</td><td>0.952559</td><td>47.6652</td><td>1.18160e-02</td><td>0.0175732</td><td>-0.140319</td><td>0.653347000</td><td>6.64944e-01</td><td>6.7322e-01</td><td>clu_60425_+</td><td>IN</td></tr>\n",
       "\t<tr><td>chr22:17047426:17051574:clu_60425_+:IN</td><td>chr22</td><td>17047427</td><td>17051574</td><td>+</td><td>477</td><td>-21048</td><td>22:17026379:C:A</td><td>chr22</td><td>17026379</td><td>⋯</td><td>0.985805</td><td>56.7487</td><td>1.08313e-05</td><td>0.0527103</td><td> 0.371827</td><td>0.003996000</td><td>1.61235e-03</td><td>1.3338e-02</td><td>clu_60425_+</td><td>IN</td></tr>\n",
       "\t<tr><td>chr22:17047426:17055564:clu_60425_+:IN</td><td>chr22</td><td>17047427</td><td>17055564</td><td>+</td><td>501</td><td>     0</td><td>22:17049480:A:G</td><td>chr22</td><td>17049480</td><td>⋯</td><td>0.927213</td><td>44.2685</td><td>1.40749e-19</td><td>0.2048130</td><td>-0.690923</td><td>0.000999001</td><td>1.07851e-13</td><td>2.9772e-12</td><td>clu_60425_+</td><td>IN</td></tr>\n",
       "\t<tr><td>chr22:17047426:17057072:clu_60425_+:IN</td><td>chr22</td><td>17047427</td><td>17057072</td><td>+</td><td>508</td><td>     0</td><td>22:17055054:G:A</td><td>chr22</td><td>17055054</td><td>⋯</td><td>1.072360</td><td>46.5298</td><td>2.01417e-12</td><td>0.1292280</td><td> 0.892701</td><td>0.000999001</td><td>2.53412e-09</td><td>4.8389e-08</td><td>clu_60425_+</td><td>IN</td></tr>\n",
       "</tbody>\n",
       "</table>\n"
      ],
      "text/latex": [
       "A data.table: 6 × 23\n",
       "\\begin{tabular}{lllllllllllllllllllll}\n",
       " phenotype\\_id & phenotype\\_chr & phenotype\\_start & phenotype\\_end & phenotype\\_strand & num\\_variants & best\\_nom\\_dist & best\\_genotype\\_id & best\\_genotype\\_chr & best\\_genotype\\_start & ⋯ & beta\\_ml1 & beta\\_ml2 & pval\\_nom & pval\\_r2 & slope & pval\\_emp & pval\\_adj & q & clu & itype\\\\\n",
       " <chr> & <chr> & <int> & <int> & <chr> & <int> & <int> & <chr> & <chr> & <int> & ⋯ & <dbl> & <dbl> & <dbl> & <dbl> & <dbl> & <dbl> & <dbl> & <dbl> & <chr> & <chr>\\\\\n",
       "\\hline\n",
       "\t chr22:17045000:17046345:clu\\_60424\\_+:IN & chr22 & 17045001 & 17046345 & + & 463 &  -1688 & 22:17043313:T:C & chr22 & 17043313 & ⋯ & 0.971850 & 56.7786 & 1.42367e-08 & 0.0860162 &  0.615162 & 0.000999001 & 5.88156e-06 & 8.0306e-05 & clu\\_60424\\_+ & IN\\\\\n",
       "\t chr22:17045000:17047323:clu\\_60424\\_+:IN & chr22 & 17045001 & 17047323 & + & 463 &      0 & 22:17045642:G:A & chr22 & 17045642 & ⋯ & 0.964383 & 49.8923 & 1.72142e-31 & 0.3169740 & -1.258290 & 0.000999001 & 8.26831e-25 & 6.5620e-23 & clu\\_60424\\_+ & IN\\\\\n",
       "\t chr22:17047426:17050160:clu\\_60425\\_+:IN & chr22 & 17047427 & 17050160 & + & 468 & -36114 & 22:17011313:G:A & chr22 & 17011313 & ⋯ & 0.952559 & 47.6652 & 1.18160e-02 & 0.0175732 & -0.140319 & 0.653347000 & 6.64944e-01 & 6.7322e-01 & clu\\_60425\\_+ & IN\\\\\n",
       "\t chr22:17047426:17051574:clu\\_60425\\_+:IN & chr22 & 17047427 & 17051574 & + & 477 & -21048 & 22:17026379:C:A & chr22 & 17026379 & ⋯ & 0.985805 & 56.7487 & 1.08313e-05 & 0.0527103 &  0.371827 & 0.003996000 & 1.61235e-03 & 1.3338e-02 & clu\\_60425\\_+ & IN\\\\\n",
       "\t chr22:17047426:17055564:clu\\_60425\\_+:IN & chr22 & 17047427 & 17055564 & + & 501 &      0 & 22:17049480:A:G & chr22 & 17049480 & ⋯ & 0.927213 & 44.2685 & 1.40749e-19 & 0.2048130 & -0.690923 & 0.000999001 & 1.07851e-13 & 2.9772e-12 & clu\\_60425\\_+ & IN\\\\\n",
       "\t chr22:17047426:17057072:clu\\_60425\\_+:IN & chr22 & 17047427 & 17057072 & + & 508 &      0 & 22:17055054:G:A & chr22 & 17055054 & ⋯ & 1.072360 & 46.5298 & 2.01417e-12 & 0.1292280 &  0.892701 & 0.000999001 & 2.53412e-09 & 4.8389e-08 & clu\\_60425\\_+ & IN\\\\\n",
       "\\end{tabular}\n"
      ],
      "text/markdown": [
       "\n",
       "A data.table: 6 × 23\n",
       "\n",
       "| phenotype_id &lt;chr&gt; | phenotype_chr &lt;chr&gt; | phenotype_start &lt;int&gt; | phenotype_end &lt;int&gt; | phenotype_strand &lt;chr&gt; | num_variants &lt;int&gt; | best_nom_dist &lt;int&gt; | best_genotype_id &lt;chr&gt; | best_genotype_chr &lt;chr&gt; | best_genotype_start &lt;int&gt; | ⋯ ⋯ | beta_ml1 &lt;dbl&gt; | beta_ml2 &lt;dbl&gt; | pval_nom &lt;dbl&gt; | pval_r2 &lt;dbl&gt; | slope &lt;dbl&gt; | pval_emp &lt;dbl&gt; | pval_adj &lt;dbl&gt; | q &lt;dbl&gt; | clu &lt;chr&gt; | itype &lt;chr&gt; |\n",
       "|---|---|---|---|---|---|---|---|---|---|---|---|---|---|---|---|---|---|---|---|---|\n",
       "| chr22:17045000:17046345:clu_60424_+:IN | chr22 | 17045001 | 17046345 | + | 463 |  -1688 | 22:17043313:T:C | chr22 | 17043313 | ⋯ | 0.971850 | 56.7786 | 1.42367e-08 | 0.0860162 |  0.615162 | 0.000999001 | 5.88156e-06 | 8.0306e-05 | clu_60424_+ | IN |\n",
       "| chr22:17045000:17047323:clu_60424_+:IN | chr22 | 17045001 | 17047323 | + | 463 |      0 | 22:17045642:G:A | chr22 | 17045642 | ⋯ | 0.964383 | 49.8923 | 1.72142e-31 | 0.3169740 | -1.258290 | 0.000999001 | 8.26831e-25 | 6.5620e-23 | clu_60424_+ | IN |\n",
       "| chr22:17047426:17050160:clu_60425_+:IN | chr22 | 17047427 | 17050160 | + | 468 | -36114 | 22:17011313:G:A | chr22 | 17011313 | ⋯ | 0.952559 | 47.6652 | 1.18160e-02 | 0.0175732 | -0.140319 | 0.653347000 | 6.64944e-01 | 6.7322e-01 | clu_60425_+ | IN |\n",
       "| chr22:17047426:17051574:clu_60425_+:IN | chr22 | 17047427 | 17051574 | + | 477 | -21048 | 22:17026379:C:A | chr22 | 17026379 | ⋯ | 0.985805 | 56.7487 | 1.08313e-05 | 0.0527103 |  0.371827 | 0.003996000 | 1.61235e-03 | 1.3338e-02 | clu_60425_+ | IN |\n",
       "| chr22:17047426:17055564:clu_60425_+:IN | chr22 | 17047427 | 17055564 | + | 501 |      0 | 22:17049480:A:G | chr22 | 17049480 | ⋯ | 0.927213 | 44.2685 | 1.40749e-19 | 0.2048130 | -0.690923 | 0.000999001 | 1.07851e-13 | 2.9772e-12 | clu_60425_+ | IN |\n",
       "| chr22:17047426:17057072:clu_60425_+:IN | chr22 | 17047427 | 17057072 | + | 508 |      0 | 22:17055054:G:A | chr22 | 17055054 | ⋯ | 1.072360 | 46.5298 | 2.01417e-12 | 0.1292280 |  0.892701 | 0.000999001 | 2.53412e-09 | 4.8389e-08 | clu_60425_+ | IN |\n",
       "\n"
      ],
      "text/plain": [
       "  phenotype_id                           phenotype_chr phenotype_start\n",
       "1 chr22:17045000:17046345:clu_60424_+:IN chr22         17045001       \n",
       "2 chr22:17045000:17047323:clu_60424_+:IN chr22         17045001       \n",
       "3 chr22:17047426:17050160:clu_60425_+:IN chr22         17047427       \n",
       "4 chr22:17047426:17051574:clu_60425_+:IN chr22         17047427       \n",
       "5 chr22:17047426:17055564:clu_60425_+:IN chr22         17047427       \n",
       "6 chr22:17047426:17057072:clu_60425_+:IN chr22         17047427       \n",
       "  phenotype_end phenotype_strand num_variants best_nom_dist best_genotype_id\n",
       "1 17046345      +                463           -1688        22:17043313:T:C \n",
       "2 17047323      +                463               0        22:17045642:G:A \n",
       "3 17050160      +                468          -36114        22:17011313:G:A \n",
       "4 17051574      +                477          -21048        22:17026379:C:A \n",
       "5 17055564      +                501               0        22:17049480:A:G \n",
       "6 17057072      +                508               0        22:17055054:G:A \n",
       "  best_genotype_chr best_genotype_start ⋯ beta_ml1 beta_ml2 pval_nom   \n",
       "1 chr22             17043313            ⋯ 0.971850 56.7786  1.42367e-08\n",
       "2 chr22             17045642            ⋯ 0.964383 49.8923  1.72142e-31\n",
       "3 chr22             17011313            ⋯ 0.952559 47.6652  1.18160e-02\n",
       "4 chr22             17026379            ⋯ 0.985805 56.7487  1.08313e-05\n",
       "5 chr22             17049480            ⋯ 0.927213 44.2685  1.40749e-19\n",
       "6 chr22             17055054            ⋯ 1.072360 46.5298  2.01417e-12\n",
       "  pval_r2   slope     pval_emp    pval_adj    q          clu         itype\n",
       "1 0.0860162  0.615162 0.000999001 5.88156e-06 8.0306e-05 clu_60424_+ IN   \n",
       "2 0.3169740 -1.258290 0.000999001 8.26831e-25 6.5620e-23 clu_60424_+ IN   \n",
       "3 0.0175732 -0.140319 0.653347000 6.64944e-01 6.7322e-01 clu_60425_+ IN   \n",
       "4 0.0527103  0.371827 0.003996000 1.61235e-03 1.3338e-02 clu_60425_+ IN   \n",
       "5 0.2048130 -0.690923 0.000999001 1.07851e-13 2.9772e-12 clu_60425_+ IN   \n",
       "6 0.1292280  0.892701 0.000999001 2.53412e-09 4.8389e-08 clu_60425_+ IN   "
      ]
     },
     "metadata": {},
     "output_type": "display_data"
    }
   ],
   "source": [
    "dim(permStats)\n",
    "head(permStats)"
   ]
  },
  {
   "cell_type": "markdown",
   "id": "c7d5668d-29f7-4921-b7a2-e90e84c1f325",
   "metadata": {},
   "source": [
    "## Step2, use perm pass phenotypes to filter nominal pass phenotype's pvalues"
   ]
  },
  {
   "cell_type": "code",
   "execution_count": 14,
   "id": "5a262c8f-aedb-4b09-babd-0cff71226ea4",
   "metadata": {
    "execution": {
     "iopub.execute_input": "2024-05-20T17:24:52.865307Z",
     "iopub.status.busy": "2024-05-20T17:24:52.864074Z",
     "iopub.status.idle": "2024-05-20T17:24:52.876484Z",
     "shell.execute_reply": "2024-05-20T17:24:52.875044Z"
    }
   },
   "outputs": [
    {
     "data": {
      "text/html": [
       "<style>\n",
       ".list-inline {list-style: none; margin:0; padding: 0}\n",
       ".list-inline>li {display: inline-block}\n",
       ".list-inline>li:not(:last-child)::after {content: \"\\00b7\"; padding: 0 .5ex}\n",
       "</style>\n",
       "<ol class=list-inline><li>1466565</li><li>15</li></ol>\n"
      ],
      "text/latex": [
       "\\begin{enumerate*}\n",
       "\\item 1466565\n",
       "\\item 15\n",
       "\\end{enumerate*}\n"
      ],
      "text/markdown": [
       "1. 1466565\n",
       "2. 15\n",
       "\n",
       "\n"
      ],
      "text/plain": [
       "[1] 1466565      15"
      ]
     },
     "metadata": {},
     "output_type": "display_data"
    }
   ],
   "source": [
    "dim(nomStats)"
   ]
  },
  {
   "cell_type": "code",
   "execution_count": 15,
   "id": "60fa29c6-36eb-4f06-a5db-58bdb1e055c9",
   "metadata": {
    "execution": {
     "iopub.execute_input": "2024-05-20T17:24:52.880019Z",
     "iopub.status.busy": "2024-05-20T17:24:52.878735Z",
     "iopub.status.idle": "2024-05-20T17:24:52.903207Z",
     "shell.execute_reply": "2024-05-20T17:24:52.901578Z"
    }
   },
   "outputs": [
    {
     "data": {
      "text/html": [
       "<table class=\"dataframe\">\n",
       "<caption>A data.table: 2 × 15</caption>\n",
       "<thead>\n",
       "\t<tr><th scope=col>V1</th><th scope=col>V2</th><th scope=col>V3</th><th scope=col>V4</th><th scope=col>V5</th><th scope=col>V6</th><th scope=col>V7</th><th scope=col>V8</th><th scope=col>V9</th><th scope=col>V10</th><th scope=col>V11</th><th scope=col>V12</th><th scope=col>V13</th><th scope=col>V14</th><th scope=col>V15</th></tr>\n",
       "\t<tr><th scope=col>&lt;chr&gt;</th><th scope=col>&lt;chr&gt;</th><th scope=col>&lt;int&gt;</th><th scope=col>&lt;int&gt;</th><th scope=col>&lt;chr&gt;</th><th scope=col>&lt;int&gt;</th><th scope=col>&lt;int&gt;</th><th scope=col>&lt;chr&gt;</th><th scope=col>&lt;chr&gt;</th><th scope=col>&lt;int&gt;</th><th scope=col>&lt;int&gt;</th><th scope=col>&lt;dbl&gt;</th><th scope=col>&lt;dbl&gt;</th><th scope=col>&lt;dbl&gt;</th><th scope=col>&lt;int&gt;</th></tr>\n",
       "</thead>\n",
       "<tbody>\n",
       "\t<tr><td>chr22:17045000:17047323:clu_60424_+:IN</td><td>chr22</td><td>17045001</td><td>17047323</td><td>+</td><td>463</td><td>-99791</td><td>22:16945210:A:G</td><td>chr22</td><td>16945210</td><td>16945210</td><td>0.434977</td><td>0.001703430</td><td> 0.599220</td><td>0</td></tr>\n",
       "\t<tr><td>chr22:17045000:17046345:clu_60424_+:IN</td><td>chr22</td><td>17045001</td><td>17046345</td><td>+</td><td>463</td><td>-99791</td><td>22:16945210:A:G</td><td>chr22</td><td>16945210</td><td>16945210</td><td>0.763478</td><td>0.000253257</td><td>-0.216224</td><td>0</td></tr>\n",
       "</tbody>\n",
       "</table>\n"
      ],
      "text/latex": [
       "A data.table: 2 × 15\n",
       "\\begin{tabular}{lllllllllllllll}\n",
       " V1 & V2 & V3 & V4 & V5 & V6 & V7 & V8 & V9 & V10 & V11 & V12 & V13 & V14 & V15\\\\\n",
       " <chr> & <chr> & <int> & <int> & <chr> & <int> & <int> & <chr> & <chr> & <int> & <int> & <dbl> & <dbl> & <dbl> & <int>\\\\\n",
       "\\hline\n",
       "\t chr22:17045000:17047323:clu\\_60424\\_+:IN & chr22 & 17045001 & 17047323 & + & 463 & -99791 & 22:16945210:A:G & chr22 & 16945210 & 16945210 & 0.434977 & 0.001703430 &  0.599220 & 0\\\\\n",
       "\t chr22:17045000:17046345:clu\\_60424\\_+:IN & chr22 & 17045001 & 17046345 & + & 463 & -99791 & 22:16945210:A:G & chr22 & 16945210 & 16945210 & 0.763478 & 0.000253257 & -0.216224 & 0\\\\\n",
       "\\end{tabular}\n"
      ],
      "text/markdown": [
       "\n",
       "A data.table: 2 × 15\n",
       "\n",
       "| V1 &lt;chr&gt; | V2 &lt;chr&gt; | V3 &lt;int&gt; | V4 &lt;int&gt; | V5 &lt;chr&gt; | V6 &lt;int&gt; | V7 &lt;int&gt; | V8 &lt;chr&gt; | V9 &lt;chr&gt; | V10 &lt;int&gt; | V11 &lt;int&gt; | V12 &lt;dbl&gt; | V13 &lt;dbl&gt; | V14 &lt;dbl&gt; | V15 &lt;int&gt; |\n",
       "|---|---|---|---|---|---|---|---|---|---|---|---|---|---|---|\n",
       "| chr22:17045000:17047323:clu_60424_+:IN | chr22 | 17045001 | 17047323 | + | 463 | -99791 | 22:16945210:A:G | chr22 | 16945210 | 16945210 | 0.434977 | 0.001703430 |  0.599220 | 0 |\n",
       "| chr22:17045000:17046345:clu_60424_+:IN | chr22 | 17045001 | 17046345 | + | 463 | -99791 | 22:16945210:A:G | chr22 | 16945210 | 16945210 | 0.763478 | 0.000253257 | -0.216224 | 0 |\n",
       "\n"
      ],
      "text/plain": [
       "  V1                                     V2    V3       V4       V5 V6  V7    \n",
       "1 chr22:17045000:17047323:clu_60424_+:IN chr22 17045001 17047323 +  463 -99791\n",
       "2 chr22:17045000:17046345:clu_60424_+:IN chr22 17045001 17046345 +  463 -99791\n",
       "  V8              V9    V10      V11      V12      V13         V14       V15\n",
       "1 22:16945210:A:G chr22 16945210 16945210 0.434977 0.001703430  0.599220 0  \n",
       "2 22:16945210:A:G chr22 16945210 16945210 0.763478 0.000253257 -0.216224 0  "
      ]
     },
     "metadata": {},
     "output_type": "display_data"
    }
   ],
   "source": [
    "nomStats[1:2]"
   ]
  },
  {
   "cell_type": "code",
   "execution_count": 16,
   "id": "67d42da7-c993-4aee-ba21-c21fcfdc2355",
   "metadata": {
    "execution": {
     "iopub.execute_input": "2024-05-20T17:24:52.906862Z",
     "iopub.status.busy": "2024-05-20T17:24:52.905602Z",
     "iopub.status.idle": "2024-05-20T17:24:53.354315Z",
     "shell.execute_reply": "2024-05-20T17:24:53.352508Z"
    }
   },
   "outputs": [],
   "source": [
    "nomStats = nomStats[V1 %in% permStats$phenotype_id]"
   ]
  },
  {
   "cell_type": "code",
   "execution_count": 17,
   "id": "7855408e-bfd2-410d-921d-90a2f4694291",
   "metadata": {
    "execution": {
     "iopub.execute_input": "2024-05-20T17:24:53.358088Z",
     "iopub.status.busy": "2024-05-20T17:24:53.356809Z",
     "iopub.status.idle": "2024-05-20T17:24:53.370296Z",
     "shell.execute_reply": "2024-05-20T17:24:53.368707Z"
    }
   },
   "outputs": [
    {
     "data": {
      "text/html": [
       "<style>\n",
       ".list-inline {list-style: none; margin:0; padding: 0}\n",
       ".list-inline>li {display: inline-block}\n",
       ".list-inline>li:not(:last-child)::after {content: \"\\00b7\"; padding: 0 .5ex}\n",
       "</style>\n",
       "<ol class=list-inline><li>1352866</li><li>15</li></ol>\n"
      ],
      "text/latex": [
       "\\begin{enumerate*}\n",
       "\\item 1352866\n",
       "\\item 15\n",
       "\\end{enumerate*}\n"
      ],
      "text/markdown": [
       "1. 1352866\n",
       "2. 15\n",
       "\n",
       "\n"
      ],
      "text/plain": [
       "[1] 1352866      15"
      ]
     },
     "metadata": {},
     "output_type": "display_data"
    }
   ],
   "source": [
    "dim(nomStats)"
   ]
  },
  {
   "cell_type": "code",
   "execution_count": 18,
   "id": "b0386336-4891-4612-955b-13d35c97e793",
   "metadata": {
    "execution": {
     "iopub.execute_input": "2024-05-20T17:24:53.374057Z",
     "iopub.status.busy": "2024-05-20T17:24:53.372693Z",
     "iopub.status.idle": "2024-05-20T17:24:53.398656Z",
     "shell.execute_reply": "2024-05-20T17:24:53.397048Z"
    }
   },
   "outputs": [
    {
     "data": {
      "text/html": [
       "<table class=\"dataframe\">\n",
       "<caption>A data.table: 2 × 15</caption>\n",
       "<thead>\n",
       "\t<tr><th scope=col>V1</th><th scope=col>V2</th><th scope=col>V3</th><th scope=col>V4</th><th scope=col>V5</th><th scope=col>V6</th><th scope=col>V7</th><th scope=col>V8</th><th scope=col>V9</th><th scope=col>V10</th><th scope=col>V11</th><th scope=col>V12</th><th scope=col>V13</th><th scope=col>V14</th><th scope=col>V15</th></tr>\n",
       "\t<tr><th scope=col>&lt;chr&gt;</th><th scope=col>&lt;chr&gt;</th><th scope=col>&lt;int&gt;</th><th scope=col>&lt;int&gt;</th><th scope=col>&lt;chr&gt;</th><th scope=col>&lt;int&gt;</th><th scope=col>&lt;int&gt;</th><th scope=col>&lt;chr&gt;</th><th scope=col>&lt;chr&gt;</th><th scope=col>&lt;int&gt;</th><th scope=col>&lt;int&gt;</th><th scope=col>&lt;dbl&gt;</th><th scope=col>&lt;dbl&gt;</th><th scope=col>&lt;dbl&gt;</th><th scope=col>&lt;int&gt;</th></tr>\n",
       "</thead>\n",
       "<tbody>\n",
       "\t<tr><td>chr22:17045000:17047323:clu_60424_+:IN</td><td>chr22</td><td>17045001</td><td>17047323</td><td>+</td><td>463</td><td>-99791</td><td>22:16945210:A:G</td><td>chr22</td><td>16945210</td><td>16945210</td><td>0.434977</td><td>0.001703430</td><td> 0.599220</td><td>0</td></tr>\n",
       "\t<tr><td>chr22:17045000:17046345:clu_60424_+:IN</td><td>chr22</td><td>17045001</td><td>17046345</td><td>+</td><td>463</td><td>-99791</td><td>22:16945210:A:G</td><td>chr22</td><td>16945210</td><td>16945210</td><td>0.763478</td><td>0.000253257</td><td>-0.216224</td><td>0</td></tr>\n",
       "</tbody>\n",
       "</table>\n"
      ],
      "text/latex": [
       "A data.table: 2 × 15\n",
       "\\begin{tabular}{lllllllllllllll}\n",
       " V1 & V2 & V3 & V4 & V5 & V6 & V7 & V8 & V9 & V10 & V11 & V12 & V13 & V14 & V15\\\\\n",
       " <chr> & <chr> & <int> & <int> & <chr> & <int> & <int> & <chr> & <chr> & <int> & <int> & <dbl> & <dbl> & <dbl> & <int>\\\\\n",
       "\\hline\n",
       "\t chr22:17045000:17047323:clu\\_60424\\_+:IN & chr22 & 17045001 & 17047323 & + & 463 & -99791 & 22:16945210:A:G & chr22 & 16945210 & 16945210 & 0.434977 & 0.001703430 &  0.599220 & 0\\\\\n",
       "\t chr22:17045000:17046345:clu\\_60424\\_+:IN & chr22 & 17045001 & 17046345 & + & 463 & -99791 & 22:16945210:A:G & chr22 & 16945210 & 16945210 & 0.763478 & 0.000253257 & -0.216224 & 0\\\\\n",
       "\\end{tabular}\n"
      ],
      "text/markdown": [
       "\n",
       "A data.table: 2 × 15\n",
       "\n",
       "| V1 &lt;chr&gt; | V2 &lt;chr&gt; | V3 &lt;int&gt; | V4 &lt;int&gt; | V5 &lt;chr&gt; | V6 &lt;int&gt; | V7 &lt;int&gt; | V8 &lt;chr&gt; | V9 &lt;chr&gt; | V10 &lt;int&gt; | V11 &lt;int&gt; | V12 &lt;dbl&gt; | V13 &lt;dbl&gt; | V14 &lt;dbl&gt; | V15 &lt;int&gt; |\n",
       "|---|---|---|---|---|---|---|---|---|---|---|---|---|---|---|\n",
       "| chr22:17045000:17047323:clu_60424_+:IN | chr22 | 17045001 | 17047323 | + | 463 | -99791 | 22:16945210:A:G | chr22 | 16945210 | 16945210 | 0.434977 | 0.001703430 |  0.599220 | 0 |\n",
       "| chr22:17045000:17046345:clu_60424_+:IN | chr22 | 17045001 | 17046345 | + | 463 | -99791 | 22:16945210:A:G | chr22 | 16945210 | 16945210 | 0.763478 | 0.000253257 | -0.216224 | 0 |\n",
       "\n"
      ],
      "text/plain": [
       "  V1                                     V2    V3       V4       V5 V6  V7    \n",
       "1 chr22:17045000:17047323:clu_60424_+:IN chr22 17045001 17047323 +  463 -99791\n",
       "2 chr22:17045000:17046345:clu_60424_+:IN chr22 17045001 17046345 +  463 -99791\n",
       "  V8              V9    V10      V11      V12      V13         V14       V15\n",
       "1 22:16945210:A:G chr22 16945210 16945210 0.434977 0.001703430  0.599220 0  \n",
       "2 22:16945210:A:G chr22 16945210 16945210 0.763478 0.000253257 -0.216224 0  "
      ]
     },
     "metadata": {},
     "output_type": "display_data"
    }
   ],
   "source": [
    "nomStats[1:2]"
   ]
  },
  {
   "cell_type": "markdown",
   "id": "82487e12-2bde-4924-9d90-b230325d9aea",
   "metadata": {},
   "source": [
    "## phenotype matrix"
   ]
  },
  {
   "cell_type": "code",
   "execution_count": 19,
   "id": "0a2d83ca-3e40-4e1e-bcec-86ad6d5337b9",
   "metadata": {
    "execution": {
     "iopub.execute_input": "2024-05-20T17:24:53.402557Z",
     "iopub.status.busy": "2024-05-20T17:24:53.401251Z",
     "iopub.status.idle": "2024-05-20T17:25:10.379328Z",
     "shell.execute_reply": "2024-05-20T17:25:10.377216Z"
    }
   },
   "outputs": [],
   "source": [
    "pheno = fread('../code/results/pheno/noisy//Geuvadis//EUR/leafcutter_perind.counts.noise_by_intron.gz')"
   ]
  },
  {
   "cell_type": "markdown",
   "id": "ca121e51-3eca-45a0-9fc3-ccefe05a3867",
   "metadata": {},
   "source": [
    "### subset phenotypes using perm pass results"
   ]
  },
  {
   "cell_type": "code",
   "execution_count": 20,
   "id": "89acda21-2a0d-413a-8b29-1eb6963d8911",
   "metadata": {
    "execution": {
     "iopub.execute_input": "2024-05-20T17:25:10.383795Z",
     "iopub.status.busy": "2024-05-20T17:25:10.382299Z",
     "iopub.status.idle": "2024-05-20T17:25:10.566390Z",
     "shell.execute_reply": "2024-05-20T17:25:10.564288Z"
    }
   },
   "outputs": [],
   "source": [
    "pheno = pheno[chrom %in% permStats$phenotype_id]"
   ]
  },
  {
   "cell_type": "code",
   "execution_count": 21,
   "id": "e915f0ff-2705-46db-b1b2-5ac1c5b297f2",
   "metadata": {
    "execution": {
     "iopub.execute_input": "2024-05-20T17:25:10.570730Z",
     "iopub.status.busy": "2024-05-20T17:25:10.569221Z",
     "iopub.status.idle": "2024-05-20T17:25:10.595733Z",
     "shell.execute_reply": "2024-05-20T17:25:10.593923Z"
    }
   },
   "outputs": [
    {
     "data": {
      "text/html": [
       "<table class=\"dataframe\">\n",
       "<caption>A data.table: 5 × 5</caption>\n",
       "<thead>\n",
       "\t<tr><th scope=col>chrom</th><th scope=col>HG00096</th><th scope=col>HG00097</th><th scope=col>HG00099</th><th scope=col>HG00100</th></tr>\n",
       "\t<tr><th scope=col>&lt;chr&gt;</th><th scope=col>&lt;chr&gt;</th><th scope=col>&lt;chr&gt;</th><th scope=col>&lt;chr&gt;</th><th scope=col>&lt;chr&gt;</th></tr>\n",
       "</thead>\n",
       "<tbody>\n",
       "\t<tr><td>chr22:17045000:17046345:clu_60424_+:IN</td><td>0/3 </td><td>0/14 </td><td>0/0 </td><td>0/3 </td></tr>\n",
       "\t<tr><td>chr22:17045000:17047323:clu_60424_+:IN</td><td>3/3 </td><td>12/14</td><td>0/0 </td><td>3/3 </td></tr>\n",
       "\t<tr><td>chr22:17047426:17050160:clu_60425_+:IN</td><td>0/24</td><td>1/38 </td><td>0/24</td><td>0/12</td></tr>\n",
       "\t<tr><td>chr22:17047426:17051574:clu_60425_+:IN</td><td>0/24</td><td>1/38 </td><td>0/24</td><td>3/12</td></tr>\n",
       "\t<tr><td>chr22:17047426:17055564:clu_60425_+:IN</td><td>0/24</td><td>3/38 </td><td>0/24</td><td>0/12</td></tr>\n",
       "</tbody>\n",
       "</table>\n"
      ],
      "text/latex": [
       "A data.table: 5 × 5\n",
       "\\begin{tabular}{lllll}\n",
       " chrom & HG00096 & HG00097 & HG00099 & HG00100\\\\\n",
       " <chr> & <chr> & <chr> & <chr> & <chr>\\\\\n",
       "\\hline\n",
       "\t chr22:17045000:17046345:clu\\_60424\\_+:IN & 0/3  & 0/14  & 0/0  & 0/3 \\\\\n",
       "\t chr22:17045000:17047323:clu\\_60424\\_+:IN & 3/3  & 12/14 & 0/0  & 3/3 \\\\\n",
       "\t chr22:17047426:17050160:clu\\_60425\\_+:IN & 0/24 & 1/38  & 0/24 & 0/12\\\\\n",
       "\t chr22:17047426:17051574:clu\\_60425\\_+:IN & 0/24 & 1/38  & 0/24 & 3/12\\\\\n",
       "\t chr22:17047426:17055564:clu\\_60425\\_+:IN & 0/24 & 3/38  & 0/24 & 0/12\\\\\n",
       "\\end{tabular}\n"
      ],
      "text/markdown": [
       "\n",
       "A data.table: 5 × 5\n",
       "\n",
       "| chrom &lt;chr&gt; | HG00096 &lt;chr&gt; | HG00097 &lt;chr&gt; | HG00099 &lt;chr&gt; | HG00100 &lt;chr&gt; |\n",
       "|---|---|---|---|---|\n",
       "| chr22:17045000:17046345:clu_60424_+:IN | 0/3  | 0/14  | 0/0  | 0/3  |\n",
       "| chr22:17045000:17047323:clu_60424_+:IN | 3/3  | 12/14 | 0/0  | 3/3  |\n",
       "| chr22:17047426:17050160:clu_60425_+:IN | 0/24 | 1/38  | 0/24 | 0/12 |\n",
       "| chr22:17047426:17051574:clu_60425_+:IN | 0/24 | 1/38  | 0/24 | 3/12 |\n",
       "| chr22:17047426:17055564:clu_60425_+:IN | 0/24 | 3/38  | 0/24 | 0/12 |\n",
       "\n"
      ],
      "text/plain": [
       "  chrom                                  HG00096 HG00097 HG00099 HG00100\n",
       "1 chr22:17045000:17046345:clu_60424_+:IN 0/3     0/14    0/0     0/3    \n",
       "2 chr22:17045000:17047323:clu_60424_+:IN 3/3     12/14   0/0     3/3    \n",
       "3 chr22:17047426:17050160:clu_60425_+:IN 0/24    1/38    0/24    0/12   \n",
       "4 chr22:17047426:17051574:clu_60425_+:IN 0/24    1/38    0/24    3/12   \n",
       "5 chr22:17047426:17055564:clu_60425_+:IN 0/24    3/38    0/24    0/12   "
      ]
     },
     "metadata": {},
     "output_type": "display_data"
    }
   ],
   "source": [
    "pheno[1:5, 1:5]"
   ]
  },
  {
   "cell_type": "code",
   "execution_count": 22,
   "id": "38adfa65-67a9-4ecd-a5c6-0898261db4d9",
   "metadata": {
    "execution": {
     "iopub.execute_input": "2024-05-20T17:25:10.599874Z",
     "iopub.status.busy": "2024-05-20T17:25:10.598387Z",
     "iopub.status.idle": "2024-05-20T17:25:10.613868Z",
     "shell.execute_reply": "2024-05-20T17:25:10.612087Z"
    }
   },
   "outputs": [
    {
     "data": {
      "text/html": [
       "<style>\n",
       ".list-inline {list-style: none; margin:0; padding: 0}\n",
       ".list-inline>li {display: inline-block}\n",
       ".list-inline>li:not(:last-child)::after {content: \"\\00b7\"; padding: 0 .5ex}\n",
       "</style>\n",
       "<ol class=list-inline><li>3135</li><li>374</li></ol>\n"
      ],
      "text/latex": [
       "\\begin{enumerate*}\n",
       "\\item 3135\n",
       "\\item 374\n",
       "\\end{enumerate*}\n"
      ],
      "text/markdown": [
       "1. 3135\n",
       "2. 374\n",
       "\n",
       "\n"
      ],
      "text/plain": [
       "[1] 3135  374"
      ]
     },
     "metadata": {},
     "output_type": "display_data"
    }
   ],
   "source": [
    "dim(pheno)"
   ]
  },
  {
   "cell_type": "markdown",
   "id": "d2b2dad7-fd9c-4337-b6f6-f63393218711",
   "metadata": {},
   "source": [
    "## Covariance matrix"
   ]
  },
  {
   "cell_type": "code",
   "execution_count": 23,
   "id": "cbcccaff-0519-4afa-846f-75d6868b1ca4",
   "metadata": {
    "execution": {
     "iopub.execute_input": "2024-05-20T17:25:10.618008Z",
     "iopub.status.busy": "2024-05-20T17:25:10.616531Z",
     "iopub.status.idle": "2024-05-20T17:25:10.690778Z",
     "shell.execute_reply": "2024-05-20T17:25:10.687835Z"
    }
   },
   "outputs": [
    {
     "name": "stderr",
     "output_type": "stream",
     "text": [
      "Warning message in fread(\"../code/results/pheno/noisy/Geuvadis/EUR/separateNoise/chr22_CovMatrix.txt\", :\n",
      "“Stopped early on line 12. Expected 361 fields but found 1. Consider fill=TRUE and comment.char=. First discarded non-empty line: <<results/geno/Geuvadis/EUR/chr22_1_1_svd_PC1 34.1111 3.51292 -5.51009 31.3804 -25.9536 0.0285756 -32.878 -13.3678 17.655 -31.8691 -25.3536 44.2846 -31.9805 17.0618 9.40957 -35.1204 3.40283 -15.6494 -18.8231 12.2061 14.8133 45.7659 37.9913 39.0765 21.4015 30.3026 -11.9687 -29.2904 -72.8368 13.7287 33.4088 23.4695 7.12361 -82.9163 -35.3239 -76.8404 4.99847 31.5853 21.725 40.4732 25.4272 33.6207 -88.6218 10.6636 13.2809 39.2139 -31.2517 -16.1241 27.6947 8.5363 16.5472 -55.5176 -27.2203 31.42 19.4819>>”\n"
     ]
    }
   ],
   "source": [
    "covmx = fread(\"../code/results/pheno/noisy/Geuvadis/EUR/separateNoise/chr22_CovMatrix.txt\", sep = \"\\t\", header = T)"
   ]
  },
  {
   "cell_type": "code",
   "execution_count": 24,
   "id": "52044528-d731-4512-85ce-da7888babf12",
   "metadata": {
    "execution": {
     "iopub.execute_input": "2024-05-20T17:25:10.698004Z",
     "iopub.status.busy": "2024-05-20T17:25:10.695100Z",
     "iopub.status.idle": "2024-05-20T17:25:10.721607Z",
     "shell.execute_reply": "2024-05-20T17:25:10.718606Z"
    }
   },
   "outputs": [
    {
     "data": {
      "text/html": [
       "<style>\n",
       ".list-inline {list-style: none; margin:0; padding: 0}\n",
       ".list-inline>li {display: inline-block}\n",
       ".list-inline>li:not(:last-child)::after {content: \"\\00b7\"; padding: 0 .5ex}\n",
       "</style>\n",
       "<ol class=list-inline><li>10</li><li>361</li></ol>\n"
      ],
      "text/latex": [
       "\\begin{enumerate*}\n",
       "\\item 10\n",
       "\\item 361\n",
       "\\end{enumerate*}\n"
      ],
      "text/markdown": [
       "1. 10\n",
       "2. 361\n",
       "\n",
       "\n"
      ],
      "text/plain": [
       "[1]  10 361"
      ]
     },
     "metadata": {},
     "output_type": "display_data"
    }
   ],
   "source": [
    "dim(covmx)"
   ]
  },
  {
   "cell_type": "code",
   "execution_count": 25,
   "id": "6d3456d3-30d3-4518-800a-96a7d2f27aec",
   "metadata": {
    "execution": {
     "iopub.execute_input": "2024-05-20T17:25:10.728558Z",
     "iopub.status.busy": "2024-05-20T17:25:10.726077Z",
     "iopub.status.idle": "2024-05-20T17:25:11.600764Z",
     "shell.execute_reply": "2024-05-20T17:25:11.599068Z"
    }
   },
   "outputs": [
    {
     "data": {
      "text/html": [
       "<table class=\"dataframe\">\n",
       "<caption>A data.table: 6 × 361</caption>\n",
       "<thead>\n",
       "\t<tr><th scope=col>id</th><th scope=col>HG00096</th><th scope=col>HG00097</th><th scope=col>HG00099</th><th scope=col>HG00100</th><th scope=col>HG00101</th><th scope=col>HG00102</th><th scope=col>HG00103</th><th scope=col>HG00105</th><th scope=col>HG00106</th><th scope=col>⋯</th><th scope=col>NA20809</th><th scope=col>NA20810</th><th scope=col>NA20811</th><th scope=col>NA20812</th><th scope=col>NA20813</th><th scope=col>NA20814</th><th scope=col>NA20815</th><th scope=col>NA20819</th><th scope=col>NA20826</th><th scope=col>NA20828</th></tr>\n",
       "\t<tr><th scope=col>&lt;int&gt;</th><th scope=col>&lt;dbl&gt;</th><th scope=col>&lt;dbl&gt;</th><th scope=col>&lt;dbl&gt;</th><th scope=col>&lt;dbl&gt;</th><th scope=col>&lt;dbl&gt;</th><th scope=col>&lt;dbl&gt;</th><th scope=col>&lt;dbl&gt;</th><th scope=col>&lt;dbl&gt;</th><th scope=col>&lt;dbl&gt;</th><th scope=col>⋯</th><th scope=col>&lt;dbl&gt;</th><th scope=col>&lt;dbl&gt;</th><th scope=col>&lt;dbl&gt;</th><th scope=col>&lt;dbl&gt;</th><th scope=col>&lt;dbl&gt;</th><th scope=col>&lt;dbl&gt;</th><th scope=col>&lt;dbl&gt;</th><th scope=col>&lt;dbl&gt;</th><th scope=col>&lt;dbl&gt;</th><th scope=col>&lt;dbl&gt;</th></tr>\n",
       "</thead>\n",
       "<tbody>\n",
       "\t<tr><td>1</td><td> 0.052002532</td><td> 0.03549744</td><td>-0.04058394</td><td>-0.059506099</td><td> 0.05659947</td><td>-0.08367559</td><td> 0.028197871</td><td>-0.059123241</td><td> 0.028157609</td><td>⋯</td><td> 0.027445648</td><td>-0.021767492</td><td> 0.077721655</td><td>-0.0364216732</td><td>-0.007382174</td><td>-0.090896457</td><td>-0.049096492</td><td>-0.031754888</td><td> 0.0574405600</td><td>-0.102963819</td></tr>\n",
       "\t<tr><td>2</td><td> 0.031956302</td><td> 0.11333963</td><td> 0.03892355</td><td> 0.025699965</td><td> 0.01730131</td><td>-0.03031228</td><td>-0.107646208</td><td> 0.018796886</td><td>-0.011472904</td><td>⋯</td><td> 0.027333068</td><td>-0.037250882</td><td>-0.017823709</td><td> 0.0790063192</td><td> 0.041431736</td><td> 0.021678750</td><td> 0.049079922</td><td>-0.012251446</td><td>-0.0065807816</td><td>-0.027776086</td></tr>\n",
       "\t<tr><td>3</td><td>-0.015324303</td><td>-0.03794721</td><td> 0.04506368</td><td> 0.011587173</td><td> 0.02384883</td><td> 0.09082147</td><td>-0.005677723</td><td> 0.020886161</td><td> 0.006835743</td><td>⋯</td><td>-0.090320732</td><td>-0.002160437</td><td> 0.071765261</td><td> 0.0003069108</td><td>-0.039408949</td><td> 0.062663530</td><td> 0.057752203</td><td>-0.028684991</td><td>-0.0008910074</td><td> 0.015542673</td></tr>\n",
       "\t<tr><td>4</td><td>-0.006351606</td><td>-0.02959577</td><td> 0.04033815</td><td>-0.002787945</td><td> 0.03800583</td><td>-0.02930297</td><td>-0.048555237</td><td> 0.108755238</td><td> 0.008147912</td><td>⋯</td><td> 0.088831799</td><td> 0.105649047</td><td> 0.003233582</td><td> 0.0646933099</td><td> 0.045549885</td><td> 0.059800425</td><td> 0.092713141</td><td>-0.015458700</td><td> 0.0770652530</td><td>-0.089512007</td></tr>\n",
       "\t<tr><td>5</td><td>-0.004501859</td><td> 0.01323356</td><td>-0.00961876</td><td>-0.022923347</td><td>-0.08088199</td><td>-0.06006002</td><td>-0.058159624</td><td> 0.002608612</td><td>-0.050560689</td><td>⋯</td><td>-0.031223067</td><td>-0.027364625</td><td>-0.019950411</td><td>-0.0003064266</td><td>-0.015568071</td><td>-0.049961947</td><td>-0.005414727</td><td>-0.040648685</td><td> 0.0099870705</td><td> 0.008180909</td></tr>\n",
       "\t<tr><td>6</td><td>-0.023295145</td><td>-0.01468692</td><td>-0.01446826</td><td> 0.003969463</td><td>-0.08092704</td><td>-0.07369791</td><td> 0.129542842</td><td> 0.030557664</td><td> 0.117094034</td><td>⋯</td><td>-0.007720113</td><td> 0.096013446</td><td>-0.034838134</td><td> 0.0083657346</td><td> 0.031140311</td><td>-0.001699893</td><td> 0.004656594</td><td> 0.005161383</td><td>-0.0176313210</td><td> 0.062005267</td></tr>\n",
       "</tbody>\n",
       "</table>\n"
      ],
      "text/latex": [
       "A data.table: 6 × 361\n",
       "\\begin{tabular}{lllllllllllllllllllll}\n",
       " id & HG00096 & HG00097 & HG00099 & HG00100 & HG00101 & HG00102 & HG00103 & HG00105 & HG00106 & ⋯ & NA20809 & NA20810 & NA20811 & NA20812 & NA20813 & NA20814 & NA20815 & NA20819 & NA20826 & NA20828\\\\\n",
       " <int> & <dbl> & <dbl> & <dbl> & <dbl> & <dbl> & <dbl> & <dbl> & <dbl> & <dbl> & ⋯ & <dbl> & <dbl> & <dbl> & <dbl> & <dbl> & <dbl> & <dbl> & <dbl> & <dbl> & <dbl>\\\\\n",
       "\\hline\n",
       "\t 1 &  0.052002532 &  0.03549744 & -0.04058394 & -0.059506099 &  0.05659947 & -0.08367559 &  0.028197871 & -0.059123241 &  0.028157609 & ⋯ &  0.027445648 & -0.021767492 &  0.077721655 & -0.0364216732 & -0.007382174 & -0.090896457 & -0.049096492 & -0.031754888 &  0.0574405600 & -0.102963819\\\\\n",
       "\t 2 &  0.031956302 &  0.11333963 &  0.03892355 &  0.025699965 &  0.01730131 & -0.03031228 & -0.107646208 &  0.018796886 & -0.011472904 & ⋯ &  0.027333068 & -0.037250882 & -0.017823709 &  0.0790063192 &  0.041431736 &  0.021678750 &  0.049079922 & -0.012251446 & -0.0065807816 & -0.027776086\\\\\n",
       "\t 3 & -0.015324303 & -0.03794721 &  0.04506368 &  0.011587173 &  0.02384883 &  0.09082147 & -0.005677723 &  0.020886161 &  0.006835743 & ⋯ & -0.090320732 & -0.002160437 &  0.071765261 &  0.0003069108 & -0.039408949 &  0.062663530 &  0.057752203 & -0.028684991 & -0.0008910074 &  0.015542673\\\\\n",
       "\t 4 & -0.006351606 & -0.02959577 &  0.04033815 & -0.002787945 &  0.03800583 & -0.02930297 & -0.048555237 &  0.108755238 &  0.008147912 & ⋯ &  0.088831799 &  0.105649047 &  0.003233582 &  0.0646933099 &  0.045549885 &  0.059800425 &  0.092713141 & -0.015458700 &  0.0770652530 & -0.089512007\\\\\n",
       "\t 5 & -0.004501859 &  0.01323356 & -0.00961876 & -0.022923347 & -0.08088199 & -0.06006002 & -0.058159624 &  0.002608612 & -0.050560689 & ⋯ & -0.031223067 & -0.027364625 & -0.019950411 & -0.0003064266 & -0.015568071 & -0.049961947 & -0.005414727 & -0.040648685 &  0.0099870705 &  0.008180909\\\\\n",
       "\t 6 & -0.023295145 & -0.01468692 & -0.01446826 &  0.003969463 & -0.08092704 & -0.07369791 &  0.129542842 &  0.030557664 &  0.117094034 & ⋯ & -0.007720113 &  0.096013446 & -0.034838134 &  0.0083657346 &  0.031140311 & -0.001699893 &  0.004656594 &  0.005161383 & -0.0176313210 &  0.062005267\\\\\n",
       "\\end{tabular}\n"
      ],
      "text/markdown": [
       "\n",
       "A data.table: 6 × 361\n",
       "\n",
       "| id &lt;int&gt; | HG00096 &lt;dbl&gt; | HG00097 &lt;dbl&gt; | HG00099 &lt;dbl&gt; | HG00100 &lt;dbl&gt; | HG00101 &lt;dbl&gt; | HG00102 &lt;dbl&gt; | HG00103 &lt;dbl&gt; | HG00105 &lt;dbl&gt; | HG00106 &lt;dbl&gt; | ⋯ ⋯ | NA20809 &lt;dbl&gt; | NA20810 &lt;dbl&gt; | NA20811 &lt;dbl&gt; | NA20812 &lt;dbl&gt; | NA20813 &lt;dbl&gt; | NA20814 &lt;dbl&gt; | NA20815 &lt;dbl&gt; | NA20819 &lt;dbl&gt; | NA20826 &lt;dbl&gt; | NA20828 &lt;dbl&gt; |\n",
       "|---|---|---|---|---|---|---|---|---|---|---|---|---|---|---|---|---|---|---|---|---|\n",
       "| 1 |  0.052002532 |  0.03549744 | -0.04058394 | -0.059506099 |  0.05659947 | -0.08367559 |  0.028197871 | -0.059123241 |  0.028157609 | ⋯ |  0.027445648 | -0.021767492 |  0.077721655 | -0.0364216732 | -0.007382174 | -0.090896457 | -0.049096492 | -0.031754888 |  0.0574405600 | -0.102963819 |\n",
       "| 2 |  0.031956302 |  0.11333963 |  0.03892355 |  0.025699965 |  0.01730131 | -0.03031228 | -0.107646208 |  0.018796886 | -0.011472904 | ⋯ |  0.027333068 | -0.037250882 | -0.017823709 |  0.0790063192 |  0.041431736 |  0.021678750 |  0.049079922 | -0.012251446 | -0.0065807816 | -0.027776086 |\n",
       "| 3 | -0.015324303 | -0.03794721 |  0.04506368 |  0.011587173 |  0.02384883 |  0.09082147 | -0.005677723 |  0.020886161 |  0.006835743 | ⋯ | -0.090320732 | -0.002160437 |  0.071765261 |  0.0003069108 | -0.039408949 |  0.062663530 |  0.057752203 | -0.028684991 | -0.0008910074 |  0.015542673 |\n",
       "| 4 | -0.006351606 | -0.02959577 |  0.04033815 | -0.002787945 |  0.03800583 | -0.02930297 | -0.048555237 |  0.108755238 |  0.008147912 | ⋯ |  0.088831799 |  0.105649047 |  0.003233582 |  0.0646933099 |  0.045549885 |  0.059800425 |  0.092713141 | -0.015458700 |  0.0770652530 | -0.089512007 |\n",
       "| 5 | -0.004501859 |  0.01323356 | -0.00961876 | -0.022923347 | -0.08088199 | -0.06006002 | -0.058159624 |  0.002608612 | -0.050560689 | ⋯ | -0.031223067 | -0.027364625 | -0.019950411 | -0.0003064266 | -0.015568071 | -0.049961947 | -0.005414727 | -0.040648685 |  0.0099870705 |  0.008180909 |\n",
       "| 6 | -0.023295145 | -0.01468692 | -0.01446826 |  0.003969463 | -0.08092704 | -0.07369791 |  0.129542842 |  0.030557664 |  0.117094034 | ⋯ | -0.007720113 |  0.096013446 | -0.034838134 |  0.0083657346 |  0.031140311 | -0.001699893 |  0.004656594 |  0.005161383 | -0.0176313210 |  0.062005267 |\n",
       "\n"
      ],
      "text/plain": [
       "  id HG00096      HG00097     HG00099     HG00100      HG00101     HG00102    \n",
       "1 1   0.052002532  0.03549744 -0.04058394 -0.059506099  0.05659947 -0.08367559\n",
       "2 2   0.031956302  0.11333963  0.03892355  0.025699965  0.01730131 -0.03031228\n",
       "3 3  -0.015324303 -0.03794721  0.04506368  0.011587173  0.02384883  0.09082147\n",
       "4 4  -0.006351606 -0.02959577  0.04033815 -0.002787945  0.03800583 -0.02930297\n",
       "5 5  -0.004501859  0.01323356 -0.00961876 -0.022923347 -0.08088199 -0.06006002\n",
       "6 6  -0.023295145 -0.01468692 -0.01446826  0.003969463 -0.08092704 -0.07369791\n",
       "  HG00103      HG00105      HG00106      ⋯ NA20809      NA20810     \n",
       "1  0.028197871 -0.059123241  0.028157609 ⋯  0.027445648 -0.021767492\n",
       "2 -0.107646208  0.018796886 -0.011472904 ⋯  0.027333068 -0.037250882\n",
       "3 -0.005677723  0.020886161  0.006835743 ⋯ -0.090320732 -0.002160437\n",
       "4 -0.048555237  0.108755238  0.008147912 ⋯  0.088831799  0.105649047\n",
       "5 -0.058159624  0.002608612 -0.050560689 ⋯ -0.031223067 -0.027364625\n",
       "6  0.129542842  0.030557664  0.117094034 ⋯ -0.007720113  0.096013446\n",
       "  NA20811      NA20812       NA20813      NA20814      NA20815     \n",
       "1  0.077721655 -0.0364216732 -0.007382174 -0.090896457 -0.049096492\n",
       "2 -0.017823709  0.0790063192  0.041431736  0.021678750  0.049079922\n",
       "3  0.071765261  0.0003069108 -0.039408949  0.062663530  0.057752203\n",
       "4  0.003233582  0.0646933099  0.045549885  0.059800425  0.092713141\n",
       "5 -0.019950411 -0.0003064266 -0.015568071 -0.049961947 -0.005414727\n",
       "6 -0.034838134  0.0083657346  0.031140311 -0.001699893  0.004656594\n",
       "  NA20819      NA20826       NA20828     \n",
       "1 -0.031754888  0.0574405600 -0.102963819\n",
       "2 -0.012251446 -0.0065807816 -0.027776086\n",
       "3 -0.028684991 -0.0008910074  0.015542673\n",
       "4 -0.015458700  0.0770652530 -0.089512007\n",
       "5 -0.040648685  0.0099870705  0.008180909\n",
       "6  0.005161383 -0.0176313210  0.062005267"
      ]
     },
     "metadata": {},
     "output_type": "display_data"
    },
    {
     "data": {
      "text/html": [
       "<table class=\"dataframe\">\n",
       "<caption>A data.table: 6 × 361</caption>\n",
       "<thead>\n",
       "\t<tr><th scope=col>id</th><th scope=col>HG00096</th><th scope=col>HG00097</th><th scope=col>HG00099</th><th scope=col>HG00100</th><th scope=col>HG00101</th><th scope=col>HG00102</th><th scope=col>HG00103</th><th scope=col>HG00105</th><th scope=col>HG00106</th><th scope=col>⋯</th><th scope=col>NA20809</th><th scope=col>NA20810</th><th scope=col>NA20811</th><th scope=col>NA20812</th><th scope=col>NA20813</th><th scope=col>NA20814</th><th scope=col>NA20815</th><th scope=col>NA20819</th><th scope=col>NA20826</th><th scope=col>NA20828</th></tr>\n",
       "\t<tr><th scope=col>&lt;int&gt;</th><th scope=col>&lt;dbl&gt;</th><th scope=col>&lt;dbl&gt;</th><th scope=col>&lt;dbl&gt;</th><th scope=col>&lt;dbl&gt;</th><th scope=col>&lt;dbl&gt;</th><th scope=col>&lt;dbl&gt;</th><th scope=col>&lt;dbl&gt;</th><th scope=col>&lt;dbl&gt;</th><th scope=col>&lt;dbl&gt;</th><th scope=col>⋯</th><th scope=col>&lt;dbl&gt;</th><th scope=col>&lt;dbl&gt;</th><th scope=col>&lt;dbl&gt;</th><th scope=col>&lt;dbl&gt;</th><th scope=col>&lt;dbl&gt;</th><th scope=col>&lt;dbl&gt;</th><th scope=col>&lt;dbl&gt;</th><th scope=col>&lt;dbl&gt;</th><th scope=col>&lt;dbl&gt;</th><th scope=col>&lt;dbl&gt;</th></tr>\n",
       "</thead>\n",
       "<tbody>\n",
       "\t<tr><td> 5</td><td>-0.004501859</td><td> 1.323356e-02</td><td>-0.00961876</td><td>-0.022923347</td><td>-0.080881988</td><td>-0.06006002</td><td>-0.05815962</td><td>0.002608612</td><td>-0.05056069</td><td>⋯</td><td>-0.0312230671</td><td>-0.02736462</td><td>-0.019950411</td><td>-0.0003064266</td><td>-0.01556807</td><td>-0.049961947</td><td>-0.0054147273</td><td>-0.040648685</td><td> 0.009987070</td><td> 0.008180909</td></tr>\n",
       "\t<tr><td> 6</td><td>-0.023295145</td><td>-1.468692e-02</td><td>-0.01446826</td><td> 0.003969463</td><td>-0.080927035</td><td>-0.07369791</td><td> 0.12954284</td><td>0.030557664</td><td> 0.11709403</td><td>⋯</td><td>-0.0077201132</td><td> 0.09601345</td><td>-0.034838134</td><td> 0.0083657346</td><td> 0.03114031</td><td>-0.001699893</td><td> 0.0046565938</td><td> 0.005161383</td><td>-0.017631321</td><td> 0.062005267</td></tr>\n",
       "\t<tr><td> 7</td><td> 0.030611979</td><td> 7.201404e-05</td><td>-0.03860097</td><td> 0.028583303</td><td> 0.066349438</td><td>-0.08569148</td><td> 0.01617997</td><td>0.030159065</td><td>-0.04851200</td><td>⋯</td><td> 0.0010664170</td><td> 0.08533024</td><td> 0.094449506</td><td> 0.0230581257</td><td> 0.02369542</td><td> 0.043643273</td><td>-0.0416550231</td><td> 0.041249599</td><td> 0.028860497</td><td> 0.022762574</td></tr>\n",
       "\t<tr><td> 8</td><td> 0.043248845</td><td> 7.453086e-02</td><td>-0.01857910</td><td>-0.052708963</td><td> 0.031844244</td><td> 0.14795226</td><td> 0.03084668</td><td>0.059306137</td><td> 0.02785151</td><td>⋯</td><td>-0.0183149664</td><td>-0.04103611</td><td> 0.002088982</td><td>-0.0770301791</td><td> 0.01501864</td><td> 0.039670088</td><td> 0.0153114058</td><td>-0.024755726</td><td> 0.053973489</td><td> 0.141984425</td></tr>\n",
       "\t<tr><td> 9</td><td> 0.087997583</td><td>-1.969591e-02</td><td> 0.08500863</td><td> 0.020144099</td><td> 0.035754699</td><td>-0.02311829</td><td> 0.06595065</td><td>0.065532310</td><td> 0.03085318</td><td>⋯</td><td>-0.0007569028</td><td> 0.10543511</td><td> 0.042705490</td><td> 0.0804110737</td><td> 0.07924265</td><td> 0.038344618</td><td> 0.0764582260</td><td> 0.040646186</td><td> 0.068287711</td><td> 0.094831351</td></tr>\n",
       "\t<tr><td>10</td><td> 0.017677869</td><td>-7.410055e-02</td><td> 0.02013663</td><td>-0.008438359</td><td> 0.001343738</td><td>-0.03030285</td><td>-0.02404158</td><td>0.048178229</td><td> 0.04913980</td><td>⋯</td><td> 0.0162267903</td><td> 0.02413531</td><td> 0.033408012</td><td> 0.1006196151</td><td>-0.05623039</td><td>-0.045415865</td><td>-0.0003372282</td><td> 0.002720623</td><td> 0.008716437</td><td>-0.029952265</td></tr>\n",
       "</tbody>\n",
       "</table>\n"
      ],
      "text/latex": [
       "A data.table: 6 × 361\n",
       "\\begin{tabular}{lllllllllllllllllllll}\n",
       " id & HG00096 & HG00097 & HG00099 & HG00100 & HG00101 & HG00102 & HG00103 & HG00105 & HG00106 & ⋯ & NA20809 & NA20810 & NA20811 & NA20812 & NA20813 & NA20814 & NA20815 & NA20819 & NA20826 & NA20828\\\\\n",
       " <int> & <dbl> & <dbl> & <dbl> & <dbl> & <dbl> & <dbl> & <dbl> & <dbl> & <dbl> & ⋯ & <dbl> & <dbl> & <dbl> & <dbl> & <dbl> & <dbl> & <dbl> & <dbl> & <dbl> & <dbl>\\\\\n",
       "\\hline\n",
       "\t  5 & -0.004501859 &  1.323356e-02 & -0.00961876 & -0.022923347 & -0.080881988 & -0.06006002 & -0.05815962 & 0.002608612 & -0.05056069 & ⋯ & -0.0312230671 & -0.02736462 & -0.019950411 & -0.0003064266 & -0.01556807 & -0.049961947 & -0.0054147273 & -0.040648685 &  0.009987070 &  0.008180909\\\\\n",
       "\t  6 & -0.023295145 & -1.468692e-02 & -0.01446826 &  0.003969463 & -0.080927035 & -0.07369791 &  0.12954284 & 0.030557664 &  0.11709403 & ⋯ & -0.0077201132 &  0.09601345 & -0.034838134 &  0.0083657346 &  0.03114031 & -0.001699893 &  0.0046565938 &  0.005161383 & -0.017631321 &  0.062005267\\\\\n",
       "\t  7 &  0.030611979 &  7.201404e-05 & -0.03860097 &  0.028583303 &  0.066349438 & -0.08569148 &  0.01617997 & 0.030159065 & -0.04851200 & ⋯ &  0.0010664170 &  0.08533024 &  0.094449506 &  0.0230581257 &  0.02369542 &  0.043643273 & -0.0416550231 &  0.041249599 &  0.028860497 &  0.022762574\\\\\n",
       "\t  8 &  0.043248845 &  7.453086e-02 & -0.01857910 & -0.052708963 &  0.031844244 &  0.14795226 &  0.03084668 & 0.059306137 &  0.02785151 & ⋯ & -0.0183149664 & -0.04103611 &  0.002088982 & -0.0770301791 &  0.01501864 &  0.039670088 &  0.0153114058 & -0.024755726 &  0.053973489 &  0.141984425\\\\\n",
       "\t  9 &  0.087997583 & -1.969591e-02 &  0.08500863 &  0.020144099 &  0.035754699 & -0.02311829 &  0.06595065 & 0.065532310 &  0.03085318 & ⋯ & -0.0007569028 &  0.10543511 &  0.042705490 &  0.0804110737 &  0.07924265 &  0.038344618 &  0.0764582260 &  0.040646186 &  0.068287711 &  0.094831351\\\\\n",
       "\t 10 &  0.017677869 & -7.410055e-02 &  0.02013663 & -0.008438359 &  0.001343738 & -0.03030285 & -0.02404158 & 0.048178229 &  0.04913980 & ⋯ &  0.0162267903 &  0.02413531 &  0.033408012 &  0.1006196151 & -0.05623039 & -0.045415865 & -0.0003372282 &  0.002720623 &  0.008716437 & -0.029952265\\\\\n",
       "\\end{tabular}\n"
      ],
      "text/markdown": [
       "\n",
       "A data.table: 6 × 361\n",
       "\n",
       "| id &lt;int&gt; | HG00096 &lt;dbl&gt; | HG00097 &lt;dbl&gt; | HG00099 &lt;dbl&gt; | HG00100 &lt;dbl&gt; | HG00101 &lt;dbl&gt; | HG00102 &lt;dbl&gt; | HG00103 &lt;dbl&gt; | HG00105 &lt;dbl&gt; | HG00106 &lt;dbl&gt; | ⋯ ⋯ | NA20809 &lt;dbl&gt; | NA20810 &lt;dbl&gt; | NA20811 &lt;dbl&gt; | NA20812 &lt;dbl&gt; | NA20813 &lt;dbl&gt; | NA20814 &lt;dbl&gt; | NA20815 &lt;dbl&gt; | NA20819 &lt;dbl&gt; | NA20826 &lt;dbl&gt; | NA20828 &lt;dbl&gt; |\n",
       "|---|---|---|---|---|---|---|---|---|---|---|---|---|---|---|---|---|---|---|---|---|\n",
       "|  5 | -0.004501859 |  1.323356e-02 | -0.00961876 | -0.022923347 | -0.080881988 | -0.06006002 | -0.05815962 | 0.002608612 | -0.05056069 | ⋯ | -0.0312230671 | -0.02736462 | -0.019950411 | -0.0003064266 | -0.01556807 | -0.049961947 | -0.0054147273 | -0.040648685 |  0.009987070 |  0.008180909 |\n",
       "|  6 | -0.023295145 | -1.468692e-02 | -0.01446826 |  0.003969463 | -0.080927035 | -0.07369791 |  0.12954284 | 0.030557664 |  0.11709403 | ⋯ | -0.0077201132 |  0.09601345 | -0.034838134 |  0.0083657346 |  0.03114031 | -0.001699893 |  0.0046565938 |  0.005161383 | -0.017631321 |  0.062005267 |\n",
       "|  7 |  0.030611979 |  7.201404e-05 | -0.03860097 |  0.028583303 |  0.066349438 | -0.08569148 |  0.01617997 | 0.030159065 | -0.04851200 | ⋯ |  0.0010664170 |  0.08533024 |  0.094449506 |  0.0230581257 |  0.02369542 |  0.043643273 | -0.0416550231 |  0.041249599 |  0.028860497 |  0.022762574 |\n",
       "|  8 |  0.043248845 |  7.453086e-02 | -0.01857910 | -0.052708963 |  0.031844244 |  0.14795226 |  0.03084668 | 0.059306137 |  0.02785151 | ⋯ | -0.0183149664 | -0.04103611 |  0.002088982 | -0.0770301791 |  0.01501864 |  0.039670088 |  0.0153114058 | -0.024755726 |  0.053973489 |  0.141984425 |\n",
       "|  9 |  0.087997583 | -1.969591e-02 |  0.08500863 |  0.020144099 |  0.035754699 | -0.02311829 |  0.06595065 | 0.065532310 |  0.03085318 | ⋯ | -0.0007569028 |  0.10543511 |  0.042705490 |  0.0804110737 |  0.07924265 |  0.038344618 |  0.0764582260 |  0.040646186 |  0.068287711 |  0.094831351 |\n",
       "| 10 |  0.017677869 | -7.410055e-02 |  0.02013663 | -0.008438359 |  0.001343738 | -0.03030285 | -0.02404158 | 0.048178229 |  0.04913980 | ⋯ |  0.0162267903 |  0.02413531 |  0.033408012 |  0.1006196151 | -0.05623039 | -0.045415865 | -0.0003372282 |  0.002720623 |  0.008716437 | -0.029952265 |\n",
       "\n"
      ],
      "text/plain": [
       "  id HG00096      HG00097       HG00099     HG00100      HG00101     \n",
       "1  5 -0.004501859  1.323356e-02 -0.00961876 -0.022923347 -0.080881988\n",
       "2  6 -0.023295145 -1.468692e-02 -0.01446826  0.003969463 -0.080927035\n",
       "3  7  0.030611979  7.201404e-05 -0.03860097  0.028583303  0.066349438\n",
       "4  8  0.043248845  7.453086e-02 -0.01857910 -0.052708963  0.031844244\n",
       "5  9  0.087997583 -1.969591e-02  0.08500863  0.020144099  0.035754699\n",
       "6 10  0.017677869 -7.410055e-02  0.02013663 -0.008438359  0.001343738\n",
       "  HG00102     HG00103     HG00105     HG00106     ⋯ NA20809       NA20810    \n",
       "1 -0.06006002 -0.05815962 0.002608612 -0.05056069 ⋯ -0.0312230671 -0.02736462\n",
       "2 -0.07369791  0.12954284 0.030557664  0.11709403 ⋯ -0.0077201132  0.09601345\n",
       "3 -0.08569148  0.01617997 0.030159065 -0.04851200 ⋯  0.0010664170  0.08533024\n",
       "4  0.14795226  0.03084668 0.059306137  0.02785151 ⋯ -0.0183149664 -0.04103611\n",
       "5 -0.02311829  0.06595065 0.065532310  0.03085318 ⋯ -0.0007569028  0.10543511\n",
       "6 -0.03030285 -0.02404158 0.048178229  0.04913980 ⋯  0.0162267903  0.02413531\n",
       "  NA20811      NA20812       NA20813     NA20814      NA20815      \n",
       "1 -0.019950411 -0.0003064266 -0.01556807 -0.049961947 -0.0054147273\n",
       "2 -0.034838134  0.0083657346  0.03114031 -0.001699893  0.0046565938\n",
       "3  0.094449506  0.0230581257  0.02369542  0.043643273 -0.0416550231\n",
       "4  0.002088982 -0.0770301791  0.01501864  0.039670088  0.0153114058\n",
       "5  0.042705490  0.0804110737  0.07924265  0.038344618  0.0764582260\n",
       "6  0.033408012  0.1006196151 -0.05623039 -0.045415865 -0.0003372282\n",
       "  NA20819      NA20826      NA20828     \n",
       "1 -0.040648685  0.009987070  0.008180909\n",
       "2  0.005161383 -0.017631321  0.062005267\n",
       "3  0.041249599  0.028860497  0.022762574\n",
       "4 -0.024755726  0.053973489  0.141984425\n",
       "5  0.040646186  0.068287711  0.094831351\n",
       "6  0.002720623  0.008716437 -0.029952265"
      ]
     },
     "metadata": {},
     "output_type": "display_data"
    }
   ],
   "source": [
    "head(covmx)\n",
    "tail(covmx)"
   ]
  },
  {
   "cell_type": "code",
   "execution_count": null,
   "id": "112458a6-0725-4c64-a58e-9232dbadd18c",
   "metadata": {},
   "outputs": [],
   "source": []
  },
  {
   "cell_type": "code",
   "execution_count": null,
   "id": "774e29e2-338b-4419-a2da-bf216287ed2f",
   "metadata": {},
   "outputs": [],
   "source": []
  },
  {
   "cell_type": "code",
   "execution_count": null,
   "id": "5a07655f-b7bc-43c1-aa91-ec32460ffe00",
   "metadata": {},
   "outputs": [],
   "source": []
  }
 ],
 "metadata": {
  "kernelspec": {
   "display_name": "R",
   "language": "R",
   "name": "ir"
  },
  "language_info": {
   "codemirror_mode": "r",
   "file_extension": ".r",
   "mimetype": "text/x-r-source",
   "name": "R",
   "pygments_lexer": "r",
   "version": "4.3.1"
  }
 },
 "nbformat": 4,
 "nbformat_minor": 5
}
