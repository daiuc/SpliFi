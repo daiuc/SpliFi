{
 "cells": [
  {
   "cell_type": "raw",
   "id": "4d8ac036",
   "metadata": {
    "vscode": {
     "languageId": "raw"
    }
   },
   "source": [
    "---\n",
    "title: \"Unproductive splicing features - in Geuvadis\"\n",
    "date: 2024-06-01\n",
    "author: \"Chao Dai\"\n",
    "code-fold: true\n",
    "execute: \n",
    "  warning: false\n",
    "  message: false\n",
    "  echo: false\n",
    "  include: false\n",
    "categories:\n",
    "  - Geuvadis\n",
    "jupyter:\n",
    "    language: r\n",
    "---"
   ]
  },
  {
   "cell_type": "code",
   "execution_count": 1,
   "id": "9a716e6d",
   "metadata": {
    "execution": {
     "iopub.execute_input": "2024-02-12T05:43:55.097522Z",
     "iopub.status.busy": "2024-02-12T05:43:55.094544Z",
     "iopub.status.idle": "2024-02-12T05:43:56.197500Z",
     "shell.execute_reply": "2024-02-12T05:43:56.191918Z"
    },
    "vscode": {
     "languageId": "r"
    }
   },
   "outputs": [],
   "source": [
    "suppressMessages(library(tidyverse))\n",
    "suppressMessages(library(glue))\n",
    "suppressMessages(library(data.table))"
   ]
  },
  {
   "cell_type": "code",
   "execution_count": 2,
   "id": "47cbcc73",
   "metadata": {
    "execution": {
     "iopub.execute_input": "2024-02-12T05:43:56.225270Z",
     "iopub.status.busy": "2024-02-12T05:43:56.199794Z",
     "iopub.status.idle": "2024-02-12T05:43:56.267646Z",
     "shell.execute_reply": "2024-02-12T05:43:56.266074Z"
    },
    "vscode": {
     "languageId": "r"
    }
   },
   "outputs": [],
   "source": [
    "suppressMessages(library(cowplot))\n",
    "options(repr.plot.width=10, repr.plot.height=5, repr.plot.res = 180)\n",
    "theme_set(theme_cowplot())"
   ]
  },
  {
   "cell_type": "code",
   "execution_count": 3,
   "id": "6d23a56a",
   "metadata": {
    "execution": {
     "iopub.execute_input": "2024-02-12T05:43:56.275022Z",
     "iopub.status.busy": "2024-02-12T05:43:56.273920Z",
     "iopub.status.idle": "2024-02-12T05:43:56.283571Z",
     "shell.execute_reply": "2024-02-12T05:43:56.282203Z"
    },
    "vscode": {
     "languageId": "r"
    }
   },
   "outputs": [],
   "source": [
    "setwd(\"~/cdai3/SpliFi/analysis\")"
   ]
  },
  {
   "cell_type": "code",
   "execution_count": 4,
   "id": "9b21f4c5-fc2f-4e58-9da1-efdc8b31a77f",
   "metadata": {
    "execution": {
     "iopub.execute_input": "2024-02-12T05:43:56.286736Z",
     "iopub.status.busy": "2024-02-12T05:43:56.285626Z",
     "iopub.status.idle": "2024-02-12T05:43:56.333028Z",
     "shell.execute_reply": "2024-02-12T05:43:56.331583Z"
    },
    "vscode": {
     "languageId": "r"
    }
   },
   "outputs": [
    {
     "name": "stderr",
     "output_type": "stream",
     "text": [
      "\n",
      "Attaching package: ‘patchwork’\n",
      "\n",
      "\n",
      "The following object is masked from ‘package:cowplot’:\n",
      "\n",
      "    align_plots\n",
      "\n",
      "\n",
      "\n",
      "Attaching package: ‘magrittr’\n",
      "\n",
      "\n"
     ]
    },
    {
     "name": "stderr",
     "output_type": "stream",
     "text": [
      "The following object is masked from ‘package:purrr’:\n",
      "\n",
      "    set_names\n",
      "\n",
      "\n",
      "The following object is masked from ‘package:tidyr’:\n",
      "\n",
      "    extract\n",
      "\n",
      "\n"
     ]
    }
   ],
   "source": [
    "library(patchwork)\n",
    "library(magrittr)"
   ]
  },
  {
   "cell_type": "code",
   "execution_count": 5,
   "id": "1d070d9e",
   "metadata": {
    "execution": {
     "iopub.execute_input": "2024-02-12T05:43:56.336221Z",
     "iopub.status.busy": "2024-02-12T05:43:56.335112Z",
     "iopub.status.idle": "2024-02-12T05:43:57.503455Z",
     "shell.execute_reply": "2024-02-12T05:43:57.501477Z"
    },
    "vscode": {
     "languageId": "r"
    }
   },
   "outputs": [],
   "source": [
    "suppressMessages(library(furrr))\n",
    "plan(multisession, workers = 6)"
   ]
  },
  {
   "cell_type": "code",
   "execution_count": 6,
   "id": "c6dd05f7",
   "metadata": {
    "execution": {
     "iopub.execute_input": "2024-02-12T05:43:57.507554Z",
     "iopub.status.busy": "2024-02-12T05:43:57.506263Z",
     "iopub.status.idle": "2024-02-12T05:43:57.518800Z",
     "shell.execute_reply": "2024-02-12T05:43:57.517257Z"
    },
    "vscode": {
     "languageId": "r"
    }
   },
   "outputs": [],
   "source": [
    "# support functions\n",
    "\n",
    "computeUnprodRatio <- function(tissue_rds) {\n",
    "\n",
    "    introns <- readRDS(tissue_rds)\n",
    "    datacols <- names(introns)[5:ncol(introns)]\n",
    "    # remove clu_type == N, clusters with only unproductive introns\n",
    "    introns  <- introns[str_detect(clu_type, 'PR')]\n",
    "    # total reads (by sample)\n",
    "    totals <- colSums(introns[, ..datacols])\n",
    "    # unproudctive reads (by sample)\n",
    "    unprod <- introns[intron_type == 'UP', ..datacols] %>% colSums\n",
    "    # unproductive reads / total reads\n",
    "    if (all(names(totals) == names(unprod))) {\n",
    "        unprod_ratio <- round(unprod / totals, 5)\n",
    "    } else {\n",
    "        stop('samples of totals and unprod are not the same')\n",
    "    }\n",
    "\n",
    "    return(unprod_ratio)\n",
    "\n",
    "}\n"
   ]
  },
  {
   "cell_type": "markdown",
   "id": "f0dc568d",
   "metadata": {},
   "source": [
    "# Load input\n",
    "\n",
    "1. numerators from leafcutter output with constitutive introns\n",
    "2. junction classifier, a by product of leafcutter\n",
    "3. gene code annotation (mainly gene length)\n",
    "4. APPRIS1 introns"
   ]
  },
  {
   "cell_type": "code",
   "execution_count": 66,
   "id": "4d9afd0c",
   "metadata": {
    "execution": {
     "iopub.execute_input": "2024-02-12T05:43:57.522303Z",
     "iopub.status.busy": "2024-02-12T05:43:57.521104Z",
     "iopub.status.idle": "2024-02-12T05:44:01.217754Z",
     "shell.execute_reply": "2024-02-12T05:44:01.216131Z"
    },
    "vscode": {
     "languageId": "r"
    }
   },
   "outputs": [],
   "source": [
    "cts = readRDS('../data/ExtractFractions/Geuvadis/EUR.numerators_constcounts.noise_by_intron.rds')\n"
   ]
  },
  {
   "cell_type": "code",
   "execution_count": 67,
   "id": "ee4580f5",
   "metadata": {
    "vscode": {
     "languageId": "r"
    }
   },
   "outputs": [
    {
     "data": {
      "text/html": [
       "<table class=\"dataframe\">\n",
       "<caption>A data.table: 5 × 8</caption>\n",
       "<thead>\n",
       "\t<tr><th scope=col>chrom</th><th scope=col>clu</th><th scope=col>clu_type</th><th scope=col>intron_type</th><th scope=col>HG00096</th><th scope=col>HG00097</th><th scope=col>HG00099</th><th scope=col>HG00100</th></tr>\n",
       "\t<tr><th scope=col>&lt;chr&gt;</th><th scope=col>&lt;chr&gt;</th><th scope=col>&lt;chr&gt;</th><th scope=col>&lt;chr&gt;</th><th scope=col>&lt;int&gt;</th><th scope=col>&lt;int&gt;</th><th scope=col>&lt;int&gt;</th><th scope=col>&lt;int&gt;</th></tr>\n",
       "</thead>\n",
       "<tbody>\n",
       "\t<tr><td>chr1:779092:803918:clu_1_+:IN</td><td>clu_1</td><td>IN</td><td>IN</td><td> 0</td><td> 1</td><td>2</td><td> 1</td></tr>\n",
       "\t<tr><td>chr1:804222:804775:clu_2_+:IN</td><td>clu_2</td><td>IN</td><td>IN</td><td> 0</td><td> 0</td><td>0</td><td> 2</td></tr>\n",
       "\t<tr><td>chr1:804222:807216:clu_2_+:IN</td><td>clu_2</td><td>IN</td><td>IN</td><td> 0</td><td> 3</td><td>0</td><td> 0</td></tr>\n",
       "\t<tr><td>chr1:807323:809657:clu_3_+:IN</td><td>clu_3</td><td>IN</td><td>IN</td><td> 0</td><td> 0</td><td>0</td><td> 0</td></tr>\n",
       "\t<tr><td>chr1:827775:829002:clu_4_+:IN</td><td>clu_4</td><td>IN</td><td>IN</td><td>12</td><td>25</td><td>8</td><td>15</td></tr>\n",
       "</tbody>\n",
       "</table>\n"
      ],
      "text/latex": [
       "A data.table: 5 × 8\n",
       "\\begin{tabular}{llllllll}\n",
       " chrom & clu & clu\\_type & intron\\_type & HG00096 & HG00097 & HG00099 & HG00100\\\\\n",
       " <chr> & <chr> & <chr> & <chr> & <int> & <int> & <int> & <int>\\\\\n",
       "\\hline\n",
       "\t chr1:779092:803918:clu\\_1\\_+:IN & clu\\_1 & IN & IN &  0 &  1 & 2 &  1\\\\\n",
       "\t chr1:804222:804775:clu\\_2\\_+:IN & clu\\_2 & IN & IN &  0 &  0 & 0 &  2\\\\\n",
       "\t chr1:804222:807216:clu\\_2\\_+:IN & clu\\_2 & IN & IN &  0 &  3 & 0 &  0\\\\\n",
       "\t chr1:807323:809657:clu\\_3\\_+:IN & clu\\_3 & IN & IN &  0 &  0 & 0 &  0\\\\\n",
       "\t chr1:827775:829002:clu\\_4\\_+:IN & clu\\_4 & IN & IN & 12 & 25 & 8 & 15\\\\\n",
       "\\end{tabular}\n"
      ],
      "text/markdown": [
       "\n",
       "A data.table: 5 × 8\n",
       "\n",
       "| chrom &lt;chr&gt; | clu &lt;chr&gt; | clu_type &lt;chr&gt; | intron_type &lt;chr&gt; | HG00096 &lt;int&gt; | HG00097 &lt;int&gt; | HG00099 &lt;int&gt; | HG00100 &lt;int&gt; |\n",
       "|---|---|---|---|---|---|---|---|\n",
       "| chr1:779092:803918:clu_1_+:IN | clu_1 | IN | IN |  0 |  1 | 2 |  1 |\n",
       "| chr1:804222:804775:clu_2_+:IN | clu_2 | IN | IN |  0 |  0 | 0 |  2 |\n",
       "| chr1:804222:807216:clu_2_+:IN | clu_2 | IN | IN |  0 |  3 | 0 |  0 |\n",
       "| chr1:807323:809657:clu_3_+:IN | clu_3 | IN | IN |  0 |  0 | 0 |  0 |\n",
       "| chr1:827775:829002:clu_4_+:IN | clu_4 | IN | IN | 12 | 25 | 8 | 15 |\n",
       "\n"
      ],
      "text/plain": [
       "  chrom                         clu   clu_type intron_type HG00096 HG00097\n",
       "1 chr1:779092:803918:clu_1_+:IN clu_1 IN       IN           0       1     \n",
       "2 chr1:804222:804775:clu_2_+:IN clu_2 IN       IN           0       0     \n",
       "3 chr1:804222:807216:clu_2_+:IN clu_2 IN       IN           0       3     \n",
       "4 chr1:807323:809657:clu_3_+:IN clu_3 IN       IN           0       0     \n",
       "5 chr1:827775:829002:clu_4_+:IN clu_4 IN       IN          12      25     \n",
       "  HG00099 HG00100\n",
       "1 2        1     \n",
       "2 0        2     \n",
       "3 0        0     \n",
       "4 0        0     \n",
       "5 8       15     "
      ]
     },
     "metadata": {},
     "output_type": "display_data"
    }
   ],
   "source": [
    "cts[1:5, 1:8]"
   ]
  },
  {
   "cell_type": "raw",
   "id": "dbcaa806",
   "metadata": {
    "execution": {
     "iopub.execute_input": "2024-02-12T05:44:01.220972Z",
     "iopub.status.busy": "2024-02-12T05:44:01.219884Z",
     "iopub.status.idle": "2024-02-12T05:44:05.172185Z",
     "shell.execute_reply": "2024-02-12T05:44:05.170577Z"
    },
    "vscode": {
     "languageId": "raw"
    }
   },
   "source": [
    "ratios <- computeUnprodRatio('../data/ExtractFractions/Geuvadis/EUR.numerators_constcounts.noise_by_intron.rds')"
   ]
  },
  {
   "cell_type": "markdown",
   "id": "10fe1f07",
   "metadata": {},
   "source": [
    "Junction classifer output from leafcutter2 run"
   ]
  },
  {
   "cell_type": "code",
   "execution_count": 68,
   "id": "69c60e4f",
   "metadata": {
    "execution": {
     "iopub.execute_input": "2024-02-12T05:44:05.192429Z",
     "iopub.status.busy": "2024-02-12T05:44:05.191365Z",
     "iopub.status.idle": "2024-02-12T05:44:05.488721Z",
     "shell.execute_reply": "2024-02-12T05:44:05.487126Z"
    },
    "vscode": {
     "languageId": "r"
    }
   },
   "outputs": [],
   "source": [
    "juncClass <- fread('../code/results/pheno/noisy/Geuvadis/EUR/wConst_junction_classifications.txt')"
   ]
  },
  {
   "cell_type": "code",
   "execution_count": 70,
   "id": "7dc4f868",
   "metadata": {
    "execution": {
     "iopub.execute_input": "2024-02-12T05:44:05.491952Z",
     "iopub.status.busy": "2024-02-12T05:44:05.490851Z",
     "iopub.status.idle": "2024-02-12T05:44:06.578319Z",
     "shell.execute_reply": "2024-02-12T05:44:06.576781Z"
    },
    "vscode": {
     "languageId": "r"
    }
   },
   "outputs": [],
   "source": [
    "# make intron coordinates same format as in leafcutter\n",
    "juncClass[, Intron_coord := str_replace(Intron_coord, '\\\\-', ':')]"
   ]
  },
  {
   "cell_type": "code",
   "execution_count": 71,
   "id": "f8d7dd6c",
   "metadata": {
    "execution": {
     "iopub.execute_input": "2024-02-12T05:44:06.581568Z",
     "iopub.status.busy": "2024-02-12T05:44:06.580469Z",
     "iopub.status.idle": "2024-02-12T05:44:06.597624Z",
     "shell.execute_reply": "2024-02-12T05:44:06.596281Z"
    },
    "vscode": {
     "languageId": "r"
    }
   },
   "outputs": [
    {
     "name": "stdout",
     "output_type": "stream",
     "text": [
      "   Gene_name       Intron_coord Annot Coding   UTR\n",
      "1:    KLHL17 chr1:964530:964962  TRUE   TRUE FALSE\n",
      "2:    KLHL17 chr1:964530:964934 FALSE  FALSE FALSE\n",
      "3:    KLHL17 chr1:964180:964348  TRUE   TRUE FALSE\n"
     ]
    },
    {
     "data": {
      "text/html": [
       "<style>\n",
       ".list-inline {list-style: none; margin:0; padding: 0}\n",
       ".list-inline>li {display: inline-block}\n",
       ".list-inline>li:not(:last-child)::after {content: \"\\00b7\"; padding: 0 .5ex}\n",
       "</style>\n",
       "<ol class=list-inline><li>569118</li><li>5</li></ol>\n"
      ],
      "text/latex": [
       "\\begin{enumerate*}\n",
       "\\item 569118\n",
       "\\item 5\n",
       "\\end{enumerate*}\n"
      ],
      "text/markdown": [
       "1. 569118\n",
       "2. 5\n",
       "\n",
       "\n"
      ],
      "text/plain": [
       "[1] 569118      5"
      ]
     },
     "metadata": {},
     "output_type": "display_data"
    }
   ],
   "source": [
    "juncClass[1:3,] %>% print\n",
    "dim(juncClass)"
   ]
  },
  {
   "cell_type": "code",
   "execution_count": 72,
   "id": "24142e0f",
   "metadata": {
    "execution": {
     "iopub.execute_input": "2024-02-12T05:44:06.600714Z",
     "iopub.status.busy": "2024-02-12T05:44:06.599647Z",
     "iopub.status.idle": "2024-02-12T05:44:17.567529Z",
     "shell.execute_reply": "2024-02-12T05:44:17.565918Z"
    },
    "vscode": {
     "languageId": "r"
    }
   },
   "outputs": [],
   "source": [
    "gtf <- fread('../../annotations/hg38/gencode.v43.primary_assembly.annotation.csv.gz') %>% \n",
    "    .[feature == 'gene', .(seqname, start, end, strand, feature, gene_name, gene_type)]"
   ]
  },
  {
   "cell_type": "code",
   "execution_count": 73,
   "id": "9edee8cd-1037-448d-bae9-6663e67791c9",
   "metadata": {
    "execution": {
     "iopub.execute_input": "2024-02-12T05:44:17.570817Z",
     "iopub.status.busy": "2024-02-12T05:44:17.569706Z",
     "iopub.status.idle": "2024-02-12T05:44:17.580833Z",
     "shell.execute_reply": "2024-02-12T05:44:17.579445Z"
    },
    "vscode": {
     "languageId": "r"
    }
   },
   "outputs": [],
   "source": [
    "gtf[, gene_len := end - start]"
   ]
  },
  {
   "cell_type": "code",
   "execution_count": 74,
   "id": "35ad240d-534f-4d27-9f6f-47e47ac4710a",
   "metadata": {
    "execution": {
     "iopub.execute_input": "2024-02-12T05:44:17.583994Z",
     "iopub.status.busy": "2024-02-12T05:44:17.582905Z",
     "iopub.status.idle": "2024-02-12T05:44:17.604544Z",
     "shell.execute_reply": "2024-02-12T05:44:17.603166Z"
    },
    "vscode": {
     "languageId": "r"
    }
   },
   "outputs": [
    {
     "data": {
      "text/html": [
       "<table class=\"dataframe\">\n",
       "<caption>A data.table: 2 × 8</caption>\n",
       "<thead>\n",
       "\t<tr><th scope=col>seqname</th><th scope=col>start</th><th scope=col>end</th><th scope=col>strand</th><th scope=col>feature</th><th scope=col>gene_name</th><th scope=col>gene_type</th><th scope=col>gene_len</th></tr>\n",
       "\t<tr><th scope=col>&lt;chr&gt;</th><th scope=col>&lt;int&gt;</th><th scope=col>&lt;int&gt;</th><th scope=col>&lt;chr&gt;</th><th scope=col>&lt;chr&gt;</th><th scope=col>&lt;chr&gt;</th><th scope=col>&lt;chr&gt;</th><th scope=col>&lt;int&gt;</th></tr>\n",
       "</thead>\n",
       "<tbody>\n",
       "\t<tr><td>chr1</td><td>11869</td><td>14409</td><td>+</td><td>gene</td><td>DDX11L2</td><td>lncRNA                            </td><td>2540</td></tr>\n",
       "\t<tr><td>chr1</td><td>12010</td><td>13670</td><td>+</td><td>gene</td><td>DDX11L1</td><td>transcribed_unprocessed_pseudogene</td><td>1660</td></tr>\n",
       "</tbody>\n",
       "</table>\n"
      ],
      "text/latex": [
       "A data.table: 2 × 8\n",
       "\\begin{tabular}{llllllll}\n",
       " seqname & start & end & strand & feature & gene\\_name & gene\\_type & gene\\_len\\\\\n",
       " <chr> & <int> & <int> & <chr> & <chr> & <chr> & <chr> & <int>\\\\\n",
       "\\hline\n",
       "\t chr1 & 11869 & 14409 & + & gene & DDX11L2 & lncRNA                             & 2540\\\\\n",
       "\t chr1 & 12010 & 13670 & + & gene & DDX11L1 & transcribed\\_unprocessed\\_pseudogene & 1660\\\\\n",
       "\\end{tabular}\n"
      ],
      "text/markdown": [
       "\n",
       "A data.table: 2 × 8\n",
       "\n",
       "| seqname &lt;chr&gt; | start &lt;int&gt; | end &lt;int&gt; | strand &lt;chr&gt; | feature &lt;chr&gt; | gene_name &lt;chr&gt; | gene_type &lt;chr&gt; | gene_len &lt;int&gt; |\n",
       "|---|---|---|---|---|---|---|---|\n",
       "| chr1 | 11869 | 14409 | + | gene | DDX11L2 | lncRNA                             | 2540 |\n",
       "| chr1 | 12010 | 13670 | + | gene | DDX11L1 | transcribed_unprocessed_pseudogene | 1660 |\n",
       "\n"
      ],
      "text/plain": [
       "  seqname start end   strand feature gene_name\n",
       "1 chr1    11869 14409 +      gene    DDX11L2  \n",
       "2 chr1    12010 13670 +      gene    DDX11L1  \n",
       "  gene_type                          gene_len\n",
       "1 lncRNA                             2540    \n",
       "2 transcribed_unprocessed_pseudogene 1660    "
      ]
     },
     "metadata": {},
     "output_type": "display_data"
    }
   ],
   "source": [
    "gtf[1:2]"
   ]
  },
  {
   "cell_type": "markdown",
   "id": "bd3848a4",
   "metadata": {},
   "source": [
    "Appris_principal_1 introns"
   ]
  },
  {
   "cell_type": "code",
   "execution_count": 75,
   "id": "4da98c8b",
   "metadata": {
    "execution": {
     "iopub.execute_input": "2024-02-12T05:44:17.607661Z",
     "iopub.status.busy": "2024-02-12T05:44:17.606591Z",
     "iopub.status.idle": "2024-02-12T05:44:17.659894Z",
     "shell.execute_reply": "2024-02-12T05:44:17.658322Z"
    },
    "vscode": {
     "languageId": "r"
    }
   },
   "outputs": [],
   "source": [
    "app1_introns <- fread('../code/resources/gencode.v43.primary.appris1-introns.bed')"
   ]
  },
  {
   "cell_type": "code",
   "execution_count": 76,
   "id": "fddc1a62-8de5-476f-92e9-b2054e039fad",
   "metadata": {
    "execution": {
     "iopub.execute_input": "2024-02-12T05:44:17.663040Z",
     "iopub.status.busy": "2024-02-12T05:44:17.661955Z",
     "iopub.status.idle": "2024-02-12T05:44:17.671771Z",
     "shell.execute_reply": "2024-02-12T05:44:17.670442Z"
    },
    "vscode": {
     "languageId": "r"
    }
   },
   "outputs": [],
   "source": [
    "app1_introns <- setNames(app1_introns, c(\"seqname\", \"start\", \"end\", \"name\", \"indx\", \"strand\"))"
   ]
  },
  {
   "cell_type": "code",
   "execution_count": 77,
   "id": "18224a8d-6d62-4f37-a55a-36f64624dbf5",
   "metadata": {
    "execution": {
     "iopub.execute_input": "2024-02-12T05:44:18.200183Z",
     "iopub.status.busy": "2024-02-12T05:44:18.199137Z",
     "iopub.status.idle": "2024-02-12T05:44:18.463018Z",
     "shell.execute_reply": "2024-02-12T05:44:18.461468Z"
    },
    "vscode": {
     "languageId": "r"
    }
   },
   "outputs": [],
   "source": [
    "app1_introns[, Intron_coord := paste(seqname, start, end, sep=\":\")]"
   ]
  },
  {
   "cell_type": "code",
   "execution_count": 78,
   "id": "60e2d2e7-b245-470d-8150-a42c3c4f4348",
   "metadata": {
    "execution": {
     "iopub.execute_input": "2024-02-12T05:44:18.466169Z",
     "iopub.status.busy": "2024-02-12T05:44:18.465094Z",
     "iopub.status.idle": "2024-02-12T05:44:18.489285Z",
     "shell.execute_reply": "2024-02-12T05:44:18.487802Z"
    },
    "vscode": {
     "languageId": "r"
    }
   },
   "outputs": [
    {
     "data": {
      "text/html": [
       "<style>\n",
       ".list-inline {list-style: none; margin:0; padding: 0}\n",
       ".list-inline>li {display: inline-block}\n",
       ".list-inline>li:not(:last-child)::after {content: \"\\00b7\"; padding: 0 .5ex}\n",
       "</style>\n",
       "<ol class=list-inline><li>190872</li><li>7</li></ol>\n"
      ],
      "text/latex": [
       "\\begin{enumerate*}\n",
       "\\item 190872\n",
       "\\item 7\n",
       "\\end{enumerate*}\n"
      ],
      "text/markdown": [
       "1. 190872\n",
       "2. 7\n",
       "\n",
       "\n"
      ],
      "text/plain": [
       "[1] 190872      7"
      ]
     },
     "metadata": {},
     "output_type": "display_data"
    },
    {
     "data": {
      "text/html": [
       "<table class=\"dataframe\">\n",
       "<caption>A data.table: 6 × 7</caption>\n",
       "<thead>\n",
       "\t<tr><th scope=col>seqname</th><th scope=col>start</th><th scope=col>end</th><th scope=col>name</th><th scope=col>indx</th><th scope=col>strand</th><th scope=col>Intron_coord</th></tr>\n",
       "\t<tr><th scope=col>&lt;chr&gt;</th><th scope=col>&lt;int&gt;</th><th scope=col>&lt;int&gt;</th><th scope=col>&lt;chr&gt;</th><th scope=col>&lt;int&gt;</th><th scope=col>&lt;chr&gt;</th><th scope=col>&lt;chr&gt;</th></tr>\n",
       "</thead>\n",
       "<tbody>\n",
       "\t<tr><td>chr1</td><td> 65433</td><td> 65519</td><td>intron|OR4F5|ENST00000641515.2</td><td> 1</td><td>+</td><td>chr1:65433:65519  </td></tr>\n",
       "\t<tr><td>chr1</td><td> 65573</td><td> 69036</td><td>intron|OR4F5|ENST00000641515.2</td><td> 2</td><td>+</td><td>chr1:65573:69036  </td></tr>\n",
       "\t<tr><td>chr1</td><td>944800</td><td>945056</td><td>intron|NOC2L|ENST00000327044.7</td><td>18</td><td>-</td><td>chr1:944800:945056</td></tr>\n",
       "\t<tr><td>chr1</td><td>945146</td><td>945517</td><td>intron|NOC2L|ENST00000327044.7</td><td>17</td><td>-</td><td>chr1:945146:945517</td></tr>\n",
       "\t<tr><td>chr1</td><td>945653</td><td>946172</td><td>intron|NOC2L|ENST00000327044.7</td><td>16</td><td>-</td><td>chr1:945653:946172</td></tr>\n",
       "\t<tr><td>chr1</td><td>946286</td><td>946401</td><td>intron|NOC2L|ENST00000327044.7</td><td>15</td><td>-</td><td>chr1:946286:946401</td></tr>\n",
       "</tbody>\n",
       "</table>\n"
      ],
      "text/latex": [
       "A data.table: 6 × 7\n",
       "\\begin{tabular}{lllllll}\n",
       " seqname & start & end & name & indx & strand & Intron\\_coord\\\\\n",
       " <chr> & <int> & <int> & <chr> & <int> & <chr> & <chr>\\\\\n",
       "\\hline\n",
       "\t chr1 &  65433 &  65519 & intron\\textbar{}OR4F5\\textbar{}ENST00000641515.2 &  1 & + & chr1:65433:65519  \\\\\n",
       "\t chr1 &  65573 &  69036 & intron\\textbar{}OR4F5\\textbar{}ENST00000641515.2 &  2 & + & chr1:65573:69036  \\\\\n",
       "\t chr1 & 944800 & 945056 & intron\\textbar{}NOC2L\\textbar{}ENST00000327044.7 & 18 & - & chr1:944800:945056\\\\\n",
       "\t chr1 & 945146 & 945517 & intron\\textbar{}NOC2L\\textbar{}ENST00000327044.7 & 17 & - & chr1:945146:945517\\\\\n",
       "\t chr1 & 945653 & 946172 & intron\\textbar{}NOC2L\\textbar{}ENST00000327044.7 & 16 & - & chr1:945653:946172\\\\\n",
       "\t chr1 & 946286 & 946401 & intron\\textbar{}NOC2L\\textbar{}ENST00000327044.7 & 15 & - & chr1:946286:946401\\\\\n",
       "\\end{tabular}\n"
      ],
      "text/markdown": [
       "\n",
       "A data.table: 6 × 7\n",
       "\n",
       "| seqname &lt;chr&gt; | start &lt;int&gt; | end &lt;int&gt; | name &lt;chr&gt; | indx &lt;int&gt; | strand &lt;chr&gt; | Intron_coord &lt;chr&gt; |\n",
       "|---|---|---|---|---|---|---|\n",
       "| chr1 |  65433 |  65519 | intron|OR4F5|ENST00000641515.2 |  1 | + | chr1:65433:65519   |\n",
       "| chr1 |  65573 |  69036 | intron|OR4F5|ENST00000641515.2 |  2 | + | chr1:65573:69036   |\n",
       "| chr1 | 944800 | 945056 | intron|NOC2L|ENST00000327044.7 | 18 | - | chr1:944800:945056 |\n",
       "| chr1 | 945146 | 945517 | intron|NOC2L|ENST00000327044.7 | 17 | - | chr1:945146:945517 |\n",
       "| chr1 | 945653 | 946172 | intron|NOC2L|ENST00000327044.7 | 16 | - | chr1:945653:946172 |\n",
       "| chr1 | 946286 | 946401 | intron|NOC2L|ENST00000327044.7 | 15 | - | chr1:946286:946401 |\n",
       "\n"
      ],
      "text/plain": [
       "  seqname start  end    name                           indx strand\n",
       "1 chr1     65433  65519 intron|OR4F5|ENST00000641515.2  1   +     \n",
       "2 chr1     65573  69036 intron|OR4F5|ENST00000641515.2  2   +     \n",
       "3 chr1    944800 945056 intron|NOC2L|ENST00000327044.7 18   -     \n",
       "4 chr1    945146 945517 intron|NOC2L|ENST00000327044.7 17   -     \n",
       "5 chr1    945653 946172 intron|NOC2L|ENST00000327044.7 16   -     \n",
       "6 chr1    946286 946401 intron|NOC2L|ENST00000327044.7 15   -     \n",
       "  Intron_coord      \n",
       "1 chr1:65433:65519  \n",
       "2 chr1:65573:69036  \n",
       "3 chr1:944800:945056\n",
       "4 chr1:945146:945517\n",
       "5 chr1:945653:946172\n",
       "6 chr1:946286:946401"
      ]
     },
     "metadata": {},
     "output_type": "display_data"
    }
   ],
   "source": [
    "dim(app1_introns)\n",
    "app1_introns %>% head"
   ]
  },
  {
   "cell_type": "markdown",
   "id": "6fa5c092",
   "metadata": {},
   "source": [
    "# Annotate introns"
   ]
  },
  {
   "cell_type": "markdown",
   "id": "ca931166",
   "metadata": {},
   "source": [
    "Get the non-data columns separately from cts"
   ]
  },
  {
   "cell_type": "code",
   "execution_count": 80,
   "id": "558b6172",
   "metadata": {
    "execution": {
     "iopub.execute_input": "2024-02-12T05:44:18.516594Z",
     "iopub.status.busy": "2024-02-12T05:44:18.515513Z",
     "iopub.status.idle": "2024-02-12T05:44:18.526204Z",
     "shell.execute_reply": "2024-02-12T05:44:18.524867Z"
    },
    "vscode": {
     "languageId": "r"
    }
   },
   "outputs": [],
   "source": [
    "datcols <- names(cts)[5:ncol(cts)]\n",
    "idcols <- names(cts)[1:4]"
   ]
  },
  {
   "cell_type": "code",
   "execution_count": 82,
   "id": "1bcb9647",
   "metadata": {
    "execution": {
     "iopub.execute_input": "2024-02-12T05:44:18.529306Z",
     "iopub.status.busy": "2024-02-12T05:44:18.528236Z",
     "iopub.status.idle": "2024-02-12T05:44:20.315376Z",
     "shell.execute_reply": "2024-02-12T05:44:20.313958Z"
    },
    "vscode": {
     "languageId": "r"
    }
   },
   "outputs": [
    {
     "data": {
      "text/html": [
       "<table class=\"dataframe\">\n",
       "<caption>A data.table: 5 × 5</caption>\n",
       "<thead>\n",
       "\t<tr><th scope=col>chrom</th><th scope=col>clu</th><th scope=col>clu_type</th><th scope=col>intron_type</th><th scope=col>Intron_coord</th></tr>\n",
       "\t<tr><th scope=col>&lt;chr&gt;</th><th scope=col>&lt;chr&gt;</th><th scope=col>&lt;chr&gt;</th><th scope=col>&lt;chr&gt;</th><th scope=col>&lt;chr&gt;</th></tr>\n",
       "</thead>\n",
       "<tbody>\n",
       "\t<tr><td>chr1:779092:803918:clu_1_+:IN</td><td>clu_1</td><td>IN</td><td>IN</td><td>chr1:779092:803918</td></tr>\n",
       "\t<tr><td>chr1:804222:804775:clu_2_+:IN</td><td>clu_2</td><td>IN</td><td>IN</td><td>chr1:804222:804775</td></tr>\n",
       "\t<tr><td>chr1:804222:807216:clu_2_+:IN</td><td>clu_2</td><td>IN</td><td>IN</td><td>chr1:804222:807216</td></tr>\n",
       "\t<tr><td>chr1:807323:809657:clu_3_+:IN</td><td>clu_3</td><td>IN</td><td>IN</td><td>chr1:807323:809657</td></tr>\n",
       "\t<tr><td>chr1:827775:829002:clu_4_+:IN</td><td>clu_4</td><td>IN</td><td>IN</td><td>chr1:827775:829002</td></tr>\n",
       "</tbody>\n",
       "</table>\n"
      ],
      "text/latex": [
       "A data.table: 5 × 5\n",
       "\\begin{tabular}{lllll}\n",
       " chrom & clu & clu\\_type & intron\\_type & Intron\\_coord\\\\\n",
       " <chr> & <chr> & <chr> & <chr> & <chr>\\\\\n",
       "\\hline\n",
       "\t chr1:779092:803918:clu\\_1\\_+:IN & clu\\_1 & IN & IN & chr1:779092:803918\\\\\n",
       "\t chr1:804222:804775:clu\\_2\\_+:IN & clu\\_2 & IN & IN & chr1:804222:804775\\\\\n",
       "\t chr1:804222:807216:clu\\_2\\_+:IN & clu\\_2 & IN & IN & chr1:804222:807216\\\\\n",
       "\t chr1:807323:809657:clu\\_3\\_+:IN & clu\\_3 & IN & IN & chr1:807323:809657\\\\\n",
       "\t chr1:827775:829002:clu\\_4\\_+:IN & clu\\_4 & IN & IN & chr1:827775:829002\\\\\n",
       "\\end{tabular}\n"
      ],
      "text/markdown": [
       "\n",
       "A data.table: 5 × 5\n",
       "\n",
       "| chrom &lt;chr&gt; | clu &lt;chr&gt; | clu_type &lt;chr&gt; | intron_type &lt;chr&gt; | Intron_coord &lt;chr&gt; |\n",
       "|---|---|---|---|---|\n",
       "| chr1:779092:803918:clu_1_+:IN | clu_1 | IN | IN | chr1:779092:803918 |\n",
       "| chr1:804222:804775:clu_2_+:IN | clu_2 | IN | IN | chr1:804222:804775 |\n",
       "| chr1:804222:807216:clu_2_+:IN | clu_2 | IN | IN | chr1:804222:807216 |\n",
       "| chr1:807323:809657:clu_3_+:IN | clu_3 | IN | IN | chr1:807323:809657 |\n",
       "| chr1:827775:829002:clu_4_+:IN | clu_4 | IN | IN | chr1:827775:829002 |\n",
       "\n"
      ],
      "text/plain": [
       "  chrom                         clu   clu_type intron_type Intron_coord      \n",
       "1 chr1:779092:803918:clu_1_+:IN clu_1 IN       IN          chr1:779092:803918\n",
       "2 chr1:804222:804775:clu_2_+:IN clu_2 IN       IN          chr1:804222:804775\n",
       "3 chr1:804222:807216:clu_2_+:IN clu_2 IN       IN          chr1:804222:807216\n",
       "4 chr1:807323:809657:clu_3_+:IN clu_3 IN       IN          chr1:807323:809657\n",
       "5 chr1:827775:829002:clu_4_+:IN clu_4 IN       IN          chr1:827775:829002"
      ]
     },
     "metadata": {},
     "output_type": "display_data"
    },
    {
     "data": {
      "text/html": [
       "<style>\n",
       ".list-inline {list-style: none; margin:0; padding: 0}\n",
       ".list-inline>li {display: inline-block}\n",
       ".list-inline>li:not(:last-child)::after {content: \"\\00b7\"; padding: 0 .5ex}\n",
       "</style>\n",
       "<ol class=list-inline><li>228671</li><li>5</li></ol>\n"
      ],
      "text/latex": [
       "\\begin{enumerate*}\n",
       "\\item 228671\n",
       "\\item 5\n",
       "\\end{enumerate*}\n"
      ],
      "text/markdown": [
       "1. 228671\n",
       "2. 5\n",
       "\n",
       "\n"
      ],
      "text/plain": [
       "[1] 228671      5"
      ]
     },
     "metadata": {},
     "output_type": "display_data"
    }
   ],
   "source": [
    "# easier to make it into a data.table\n",
    "introns <- cts[, ..idcols]\n",
    "introns[, Intron_coord := str_split(chrom, \":\") %>% \n",
    "  map_chr(~paste(.x[1], .x[2], .x[3], sep=\":\", collapse = \"\"))]\n",
    "introns[1:5]\n",
    "dim(introns)"
   ]
  },
  {
   "cell_type": "markdown",
   "id": "9039dbe4",
   "metadata": {},
   "source": [
    "bring in gene_name info from the classifer file"
   ]
  },
  {
   "cell_type": "code",
   "execution_count": 83,
   "id": "940ecfe1",
   "metadata": {
    "execution": {
     "iopub.execute_input": "2024-02-12T05:44:20.318557Z",
     "iopub.status.busy": "2024-02-12T05:44:20.317457Z",
     "iopub.status.idle": "2024-02-12T05:44:20.687270Z",
     "shell.execute_reply": "2024-02-12T05:44:20.685663Z"
    },
    "vscode": {
     "languageId": "r"
    }
   },
   "outputs": [],
   "source": [
    "introns <- left_join(introns, juncClass[, .(Intron_coord, Gene_name)], by = 'Intron_coord')"
   ]
  },
  {
   "cell_type": "markdown",
   "id": "a3b7a4fe",
   "metadata": {},
   "source": [
    "This left_join causes duplication because in the classifier, some junctions are associated with multiple genes. So we need to just pick 1 gene."
   ]
  },
  {
   "cell_type": "code",
   "execution_count": 84,
   "id": "63ecee22",
   "metadata": {
    "execution": {
     "iopub.execute_input": "2024-02-12T05:44:20.690698Z",
     "iopub.status.busy": "2024-02-12T05:44:20.689541Z",
     "iopub.status.idle": "2024-02-12T05:44:20.775158Z",
     "shell.execute_reply": "2024-02-12T05:44:20.773579Z"
    },
    "vscode": {
     "languageId": "r"
    }
   },
   "outputs": [
    {
     "name": "stderr",
     "output_type": "stream",
     "text": [
      "Warning message in `[.data.table`(introns, , `:=`(rid, rowid(Intron_coord))):\n",
      "“Invalid .internal.selfref detected and fixed by taking a (shallow) copy of the data.table so that := can add this new column by reference. At an earlier point, this data.table has been copied by R (or was created manually using structure() or similar). Avoid names<- and attr<- which in R currently (and oddly) may copy the whole data.table. Use set* syntax instead to avoid copying: ?set, ?setnames and ?setattr. If this message doesn't help, please report your use case to the data.table issue tracker so the root cause can be fixed or this message improved.”\n"
     ]
    }
   ],
   "source": [
    "introns[, rid := rowid(Intron_coord)]\n",
    "introns <- introns[rid == 1]\n",
    "introns[, rid := NULL]"
   ]
  },
  {
   "cell_type": "markdown",
   "id": "4381ce94",
   "metadata": {},
   "source": [
    "now we should only have 1 gene per junction"
   ]
  },
  {
   "cell_type": "code",
   "execution_count": 85,
   "id": "2ea14f80-bc50-441d-801e-93c6d210eb56",
   "metadata": {
    "execution": {
     "iopub.execute_input": "2024-02-12T05:44:20.778418Z",
     "iopub.status.busy": "2024-02-12T05:44:20.777281Z",
     "iopub.status.idle": "2024-02-12T05:44:20.797047Z",
     "shell.execute_reply": "2024-02-12T05:44:20.795666Z"
    },
    "vscode": {
     "languageId": "r"
    }
   },
   "outputs": [
    {
     "data": {
      "text/html": [
       "<table class=\"dataframe\">\n",
       "<caption>A data.table: 5 × 6</caption>\n",
       "<thead>\n",
       "\t<tr><th scope=col>chrom</th><th scope=col>clu</th><th scope=col>clu_type</th><th scope=col>intron_type</th><th scope=col>Intron_coord</th><th scope=col>Gene_name</th></tr>\n",
       "\t<tr><th scope=col>&lt;chr&gt;</th><th scope=col>&lt;chr&gt;</th><th scope=col>&lt;chr&gt;</th><th scope=col>&lt;chr&gt;</th><th scope=col>&lt;chr&gt;</th><th scope=col>&lt;chr&gt;</th></tr>\n",
       "</thead>\n",
       "<tbody>\n",
       "\t<tr><td>chr1:779092:803918:clu_1_+:IN</td><td>clu_1</td><td>IN</td><td>IN</td><td>chr1:779092:803918</td><td>NA</td></tr>\n",
       "\t<tr><td>chr1:804222:804775:clu_2_+:IN</td><td>clu_2</td><td>IN</td><td>IN</td><td>chr1:804222:804775</td><td>NA</td></tr>\n",
       "\t<tr><td>chr1:804222:807216:clu_2_+:IN</td><td>clu_2</td><td>IN</td><td>IN</td><td>chr1:804222:807216</td><td>NA</td></tr>\n",
       "\t<tr><td>chr1:807323:809657:clu_3_+:IN</td><td>clu_3</td><td>IN</td><td>IN</td><td>chr1:807323:809657</td><td>NA</td></tr>\n",
       "\t<tr><td>chr1:827775:829002:clu_4_+:IN</td><td>clu_4</td><td>IN</td><td>IN</td><td>chr1:827775:829002</td><td>NA</td></tr>\n",
       "</tbody>\n",
       "</table>\n"
      ],
      "text/latex": [
       "A data.table: 5 × 6\n",
       "\\begin{tabular}{llllll}\n",
       " chrom & clu & clu\\_type & intron\\_type & Intron\\_coord & Gene\\_name\\\\\n",
       " <chr> & <chr> & <chr> & <chr> & <chr> & <chr>\\\\\n",
       "\\hline\n",
       "\t chr1:779092:803918:clu\\_1\\_+:IN & clu\\_1 & IN & IN & chr1:779092:803918 & NA\\\\\n",
       "\t chr1:804222:804775:clu\\_2\\_+:IN & clu\\_2 & IN & IN & chr1:804222:804775 & NA\\\\\n",
       "\t chr1:804222:807216:clu\\_2\\_+:IN & clu\\_2 & IN & IN & chr1:804222:807216 & NA\\\\\n",
       "\t chr1:807323:809657:clu\\_3\\_+:IN & clu\\_3 & IN & IN & chr1:807323:809657 & NA\\\\\n",
       "\t chr1:827775:829002:clu\\_4\\_+:IN & clu\\_4 & IN & IN & chr1:827775:829002 & NA\\\\\n",
       "\\end{tabular}\n"
      ],
      "text/markdown": [
       "\n",
       "A data.table: 5 × 6\n",
       "\n",
       "| chrom &lt;chr&gt; | clu &lt;chr&gt; | clu_type &lt;chr&gt; | intron_type &lt;chr&gt; | Intron_coord &lt;chr&gt; | Gene_name &lt;chr&gt; |\n",
       "|---|---|---|---|---|---|\n",
       "| chr1:779092:803918:clu_1_+:IN | clu_1 | IN | IN | chr1:779092:803918 | NA |\n",
       "| chr1:804222:804775:clu_2_+:IN | clu_2 | IN | IN | chr1:804222:804775 | NA |\n",
       "| chr1:804222:807216:clu_2_+:IN | clu_2 | IN | IN | chr1:804222:807216 | NA |\n",
       "| chr1:807323:809657:clu_3_+:IN | clu_3 | IN | IN | chr1:807323:809657 | NA |\n",
       "| chr1:827775:829002:clu_4_+:IN | clu_4 | IN | IN | chr1:827775:829002 | NA |\n",
       "\n"
      ],
      "text/plain": [
       "  chrom                         clu   clu_type intron_type Intron_coord      \n",
       "1 chr1:779092:803918:clu_1_+:IN clu_1 IN       IN          chr1:779092:803918\n",
       "2 chr1:804222:804775:clu_2_+:IN clu_2 IN       IN          chr1:804222:804775\n",
       "3 chr1:804222:807216:clu_2_+:IN clu_2 IN       IN          chr1:804222:807216\n",
       "4 chr1:807323:809657:clu_3_+:IN clu_3 IN       IN          chr1:807323:809657\n",
       "5 chr1:827775:829002:clu_4_+:IN clu_4 IN       IN          chr1:827775:829002\n",
       "  Gene_name\n",
       "1 NA       \n",
       "2 NA       \n",
       "3 NA       \n",
       "4 NA       \n",
       "5 NA       "
      ]
     },
     "metadata": {},
     "output_type": "display_data"
    }
   ],
   "source": [
    "introns[1:5]"
   ]
  },
  {
   "cell_type": "code",
   "execution_count": 86,
   "id": "bbdcfd0b-ccda-457f-9737-f22d775fde68",
   "metadata": {
    "execution": {
     "iopub.execute_input": "2024-02-12T05:44:20.800215Z",
     "iopub.status.busy": "2024-02-12T05:44:20.799109Z",
     "iopub.status.idle": "2024-02-12T05:44:20.828455Z",
     "shell.execute_reply": "2024-02-12T05:44:20.827030Z"
    },
    "vscode": {
     "languageId": "r"
    }
   },
   "outputs": [
    {
     "data": {
      "text/html": [
       "<style>\n",
       ".list-inline {list-style: none; margin:0; padding: 0}\n",
       ".list-inline>li {display: inline-block}\n",
       ".list-inline>li:not(:last-child)::after {content: \"\\00b7\"; padding: 0 .5ex}\n",
       "</style>\n",
       "<ol class=list-inline><li>161043</li><li>6</li></ol>\n"
      ],
      "text/latex": [
       "\\begin{enumerate*}\n",
       "\\item 161043\n",
       "\\item 6\n",
       "\\end{enumerate*}\n"
      ],
      "text/markdown": [
       "1. 161043\n",
       "2. 6\n",
       "\n",
       "\n"
      ],
      "text/plain": [
       "[1] 161043      6"
      ]
     },
     "metadata": {},
     "output_type": "display_data"
    }
   ],
   "source": [
    "dim(introns[intron_type == 'PR'])"
   ]
  },
  {
   "cell_type": "markdown",
   "id": "40ab1ddf-63fe-4808-8b36-76c9fc29b425",
   "metadata": {},
   "source": [
    "59% of all protein coding introns are annotated as appris_principle_1 introns"
   ]
  },
  {
   "cell_type": "code",
   "execution_count": 87,
   "id": "95df5053-9160-4801-a42d-8756560a48d2",
   "metadata": {
    "execution": {
     "iopub.execute_input": "2024-02-12T05:44:20.831654Z",
     "iopub.status.busy": "2024-02-12T05:44:20.830526Z",
     "iopub.status.idle": "2024-02-12T05:44:20.886175Z",
     "shell.execute_reply": "2024-02-12T05:44:20.884704Z"
    },
    "vscode": {
     "languageId": "r"
    }
   },
   "outputs": [
    {
     "data": {
      "text/html": [
       "0.590301969039325"
      ],
      "text/latex": [
       "0.590301969039325"
      ],
      "text/markdown": [
       "0.590301969039325"
      ],
      "text/plain": [
       "[1] 0.590302"
      ]
     },
     "metadata": {},
     "output_type": "display_data"
    }
   ],
   "source": [
    "length(intersect(introns$Intron_coord, app1_introns$Intron_coord)) / length(introns[intron_type == \"PR\", Intron_coord])"
   ]
  },
  {
   "cell_type": "markdown",
   "id": "bad1b955",
   "metadata": {},
   "source": [
    "::: {.callout-note}\n",
    "### Todos\n",
    "\n",
    "Actually, only look at clusters that have `appris_principal_1` tag. Each cluster should only have 1 transcript with that dag.\n",
    ":::"
   ]
  },
  {
   "cell_type": "code",
   "execution_count": 88,
   "id": "469a410a",
   "metadata": {
    "execution": {
     "iopub.execute_input": "2024-02-12T05:44:20.889471Z",
     "iopub.status.busy": "2024-02-12T05:44:20.888342Z",
     "iopub.status.idle": "2024-02-12T05:44:21.076977Z",
     "shell.execute_reply": "2024-02-12T05:44:21.075491Z"
    },
    "vscode": {
     "languageId": "r"
    }
   },
   "outputs": [
    {
     "data": {
      "text/html": [
       "<style>\n",
       ".list-inline {list-style: none; margin:0; padding: 0}\n",
       ".list-inline>li {display: inline-block}\n",
       ".list-inline>li:not(:last-child)::after {content: \"\\00b7\"; padding: 0 .5ex}\n",
       "</style>\n",
       "<ol class=list-inline><li>228671</li><li>6</li></ol>\n"
      ],
      "text/latex": [
       "\\begin{enumerate*}\n",
       "\\item 228671\n",
       "\\item 6\n",
       "\\end{enumerate*}\n"
      ],
      "text/markdown": [
       "1. 228671\n",
       "2. 6\n",
       "\n",
       "\n"
      ],
      "text/plain": [
       "[1] 228671      6"
      ]
     },
     "metadata": {},
     "output_type": "display_data"
    },
    {
     "data": {
      "text/html": [
       "228671"
      ],
      "text/latex": [
       "228671"
      ],
      "text/markdown": [
       "228671"
      ],
      "text/plain": [
       "[1] 228671"
      ]
     },
     "metadata": {},
     "output_type": "display_data"
    }
   ],
   "source": [
    "dim(introns)\n",
    "uniqueN(introns$Intron_coord)"
   ]
  },
  {
   "cell_type": "code",
   "execution_count": 89,
   "id": "db1036f1",
   "metadata": {
    "execution": {
     "iopub.execute_input": "2024-02-12T05:44:21.080234Z",
     "iopub.status.busy": "2024-02-12T05:44:21.079105Z",
     "iopub.status.idle": "2024-02-12T05:44:21.098575Z",
     "shell.execute_reply": "2024-02-12T05:44:21.097240Z"
    },
    "vscode": {
     "languageId": "r"
    }
   },
   "outputs": [
    {
     "data": {
      "text/html": [
       "<table class=\"dataframe\">\n",
       "<caption>A data.table: 5 × 6</caption>\n",
       "<thead>\n",
       "\t<tr><th scope=col>chrom</th><th scope=col>clu</th><th scope=col>clu_type</th><th scope=col>intron_type</th><th scope=col>Intron_coord</th><th scope=col>Gene_name</th></tr>\n",
       "\t<tr><th scope=col>&lt;chr&gt;</th><th scope=col>&lt;chr&gt;</th><th scope=col>&lt;chr&gt;</th><th scope=col>&lt;chr&gt;</th><th scope=col>&lt;chr&gt;</th><th scope=col>&lt;chr&gt;</th></tr>\n",
       "</thead>\n",
       "<tbody>\n",
       "\t<tr><td>chr1:779092:803918:clu_1_+:IN</td><td>clu_1</td><td>IN</td><td>IN</td><td>chr1:779092:803918</td><td>NA</td></tr>\n",
       "\t<tr><td>chr1:804222:804775:clu_2_+:IN</td><td>clu_2</td><td>IN</td><td>IN</td><td>chr1:804222:804775</td><td>NA</td></tr>\n",
       "\t<tr><td>chr1:804222:807216:clu_2_+:IN</td><td>clu_2</td><td>IN</td><td>IN</td><td>chr1:804222:807216</td><td>NA</td></tr>\n",
       "\t<tr><td>chr1:807323:809657:clu_3_+:IN</td><td>clu_3</td><td>IN</td><td>IN</td><td>chr1:807323:809657</td><td>NA</td></tr>\n",
       "\t<tr><td>chr1:827775:829002:clu_4_+:IN</td><td>clu_4</td><td>IN</td><td>IN</td><td>chr1:827775:829002</td><td>NA</td></tr>\n",
       "</tbody>\n",
       "</table>\n"
      ],
      "text/latex": [
       "A data.table: 5 × 6\n",
       "\\begin{tabular}{llllll}\n",
       " chrom & clu & clu\\_type & intron\\_type & Intron\\_coord & Gene\\_name\\\\\n",
       " <chr> & <chr> & <chr> & <chr> & <chr> & <chr>\\\\\n",
       "\\hline\n",
       "\t chr1:779092:803918:clu\\_1\\_+:IN & clu\\_1 & IN & IN & chr1:779092:803918 & NA\\\\\n",
       "\t chr1:804222:804775:clu\\_2\\_+:IN & clu\\_2 & IN & IN & chr1:804222:804775 & NA\\\\\n",
       "\t chr1:804222:807216:clu\\_2\\_+:IN & clu\\_2 & IN & IN & chr1:804222:807216 & NA\\\\\n",
       "\t chr1:807323:809657:clu\\_3\\_+:IN & clu\\_3 & IN & IN & chr1:807323:809657 & NA\\\\\n",
       "\t chr1:827775:829002:clu\\_4\\_+:IN & clu\\_4 & IN & IN & chr1:827775:829002 & NA\\\\\n",
       "\\end{tabular}\n"
      ],
      "text/markdown": [
       "\n",
       "A data.table: 5 × 6\n",
       "\n",
       "| chrom &lt;chr&gt; | clu &lt;chr&gt; | clu_type &lt;chr&gt; | intron_type &lt;chr&gt; | Intron_coord &lt;chr&gt; | Gene_name &lt;chr&gt; |\n",
       "|---|---|---|---|---|---|\n",
       "| chr1:779092:803918:clu_1_+:IN | clu_1 | IN | IN | chr1:779092:803918 | NA |\n",
       "| chr1:804222:804775:clu_2_+:IN | clu_2 | IN | IN | chr1:804222:804775 | NA |\n",
       "| chr1:804222:807216:clu_2_+:IN | clu_2 | IN | IN | chr1:804222:807216 | NA |\n",
       "| chr1:807323:809657:clu_3_+:IN | clu_3 | IN | IN | chr1:807323:809657 | NA |\n",
       "| chr1:827775:829002:clu_4_+:IN | clu_4 | IN | IN | chr1:827775:829002 | NA |\n",
       "\n"
      ],
      "text/plain": [
       "  chrom                         clu   clu_type intron_type Intron_coord      \n",
       "1 chr1:779092:803918:clu_1_+:IN clu_1 IN       IN          chr1:779092:803918\n",
       "2 chr1:804222:804775:clu_2_+:IN clu_2 IN       IN          chr1:804222:804775\n",
       "3 chr1:804222:807216:clu_2_+:IN clu_2 IN       IN          chr1:804222:807216\n",
       "4 chr1:807323:809657:clu_3_+:IN clu_3 IN       IN          chr1:807323:809657\n",
       "5 chr1:827775:829002:clu_4_+:IN clu_4 IN       IN          chr1:827775:829002\n",
       "  Gene_name\n",
       "1 NA       \n",
       "2 NA       \n",
       "3 NA       \n",
       "4 NA       \n",
       "5 NA       "
      ]
     },
     "metadata": {},
     "output_type": "display_data"
    }
   ],
   "source": [
    "introns[1:5]"
   ]
  },
  {
   "cell_type": "code",
   "execution_count": null,
   "id": "53426a6e-6a5b-4b6b-8200-67c8b58880c6",
   "metadata": {
    "vscode": {
     "languageId": "r"
    }
   },
   "outputs": [],
   "source": []
  },
  {
   "cell_type": "markdown",
   "id": "1811e902",
   "metadata": {},
   "source": [
    "# Cluster level analysis"
   ]
  },
  {
   "cell_type": "code",
   "execution_count": 90,
   "id": "8dd2894d",
   "metadata": {
    "execution": {
     "iopub.execute_input": "2024-02-12T05:44:21.101773Z",
     "iopub.status.busy": "2024-02-12T05:44:21.100675Z",
     "iopub.status.idle": "2024-02-12T05:44:21.132400Z",
     "shell.execute_reply": "2024-02-12T05:44:21.131060Z"
    },
    "vscode": {
     "languageId": "r"
    }
   },
   "outputs": [
    {
     "data": {
      "text/html": [
       "<style>\n",
       ".list-inline {list-style: none; margin:0; padding: 0}\n",
       ".list-inline>li {display: inline-block}\n",
       ".list-inline>li:not(:last-child)::after {content: \"\\00b7\"; padding: 0 .5ex}\n",
       "</style>\n",
       "<ol class=list-inline><li>228671</li><li>377</li></ol>\n"
      ],
      "text/latex": [
       "\\begin{enumerate*}\n",
       "\\item 228671\n",
       "\\item 377\n",
       "\\end{enumerate*}\n"
      ],
      "text/markdown": [
       "1. 228671\n",
       "2. 377\n",
       "\n",
       "\n"
      ],
      "text/plain": [
       "[1] 228671    377"
      ]
     },
     "metadata": {},
     "output_type": "display_data"
    },
    {
     "data": {
      "text/html": [
       "<style>\n",
       ".list-inline {list-style: none; margin:0; padding: 0}\n",
       ".list-inline>li {display: inline-block}\n",
       ".list-inline>li:not(:last-child)::after {content: \"\\00b7\"; padding: 0 .5ex}\n",
       "</style>\n",
       "<ol class=list-inline><li>228671</li><li>6</li></ol>\n"
      ],
      "text/latex": [
       "\\begin{enumerate*}\n",
       "\\item 228671\n",
       "\\item 6\n",
       "\\end{enumerate*}\n"
      ],
      "text/markdown": [
       "1. 228671\n",
       "2. 6\n",
       "\n",
       "\n"
      ],
      "text/plain": [
       "[1] 228671      6"
      ]
     },
     "metadata": {},
     "output_type": "display_data"
    },
    {
     "data": {
      "text/html": [
       "TRUE"
      ],
      "text/latex": [
       "TRUE"
      ],
      "text/markdown": [
       "TRUE"
      ],
      "text/plain": [
       "[1] TRUE"
      ]
     },
     "metadata": {},
     "output_type": "display_data"
    },
    {
     "data": {
      "text/html": [
       "<table class=\"dataframe\">\n",
       "<caption>A data.table: 5 × 7</caption>\n",
       "<thead>\n",
       "\t<tr><th scope=col>chrom</th><th scope=col>clu</th><th scope=col>clu_type</th><th scope=col>intron_type</th><th scope=col>HG00096</th><th scope=col>HG00097</th><th scope=col>HG00099</th></tr>\n",
       "\t<tr><th scope=col>&lt;chr&gt;</th><th scope=col>&lt;chr&gt;</th><th scope=col>&lt;chr&gt;</th><th scope=col>&lt;chr&gt;</th><th scope=col>&lt;int&gt;</th><th scope=col>&lt;int&gt;</th><th scope=col>&lt;int&gt;</th></tr>\n",
       "</thead>\n",
       "<tbody>\n",
       "\t<tr><td>chr1:779092:803918:clu_1_+:IN</td><td>clu_1</td><td>IN</td><td>IN</td><td> 0</td><td> 1</td><td>2</td></tr>\n",
       "\t<tr><td>chr1:804222:804775:clu_2_+:IN</td><td>clu_2</td><td>IN</td><td>IN</td><td> 0</td><td> 0</td><td>0</td></tr>\n",
       "\t<tr><td>chr1:804222:807216:clu_2_+:IN</td><td>clu_2</td><td>IN</td><td>IN</td><td> 0</td><td> 3</td><td>0</td></tr>\n",
       "\t<tr><td>chr1:807323:809657:clu_3_+:IN</td><td>clu_3</td><td>IN</td><td>IN</td><td> 0</td><td> 0</td><td>0</td></tr>\n",
       "\t<tr><td>chr1:827775:829002:clu_4_+:IN</td><td>clu_4</td><td>IN</td><td>IN</td><td>12</td><td>25</td><td>8</td></tr>\n",
       "</tbody>\n",
       "</table>\n"
      ],
      "text/latex": [
       "A data.table: 5 × 7\n",
       "\\begin{tabular}{lllllll}\n",
       " chrom & clu & clu\\_type & intron\\_type & HG00096 & HG00097 & HG00099\\\\\n",
       " <chr> & <chr> & <chr> & <chr> & <int> & <int> & <int>\\\\\n",
       "\\hline\n",
       "\t chr1:779092:803918:clu\\_1\\_+:IN & clu\\_1 & IN & IN &  0 &  1 & 2\\\\\n",
       "\t chr1:804222:804775:clu\\_2\\_+:IN & clu\\_2 & IN & IN &  0 &  0 & 0\\\\\n",
       "\t chr1:804222:807216:clu\\_2\\_+:IN & clu\\_2 & IN & IN &  0 &  3 & 0\\\\\n",
       "\t chr1:807323:809657:clu\\_3\\_+:IN & clu\\_3 & IN & IN &  0 &  0 & 0\\\\\n",
       "\t chr1:827775:829002:clu\\_4\\_+:IN & clu\\_4 & IN & IN & 12 & 25 & 8\\\\\n",
       "\\end{tabular}\n"
      ],
      "text/markdown": [
       "\n",
       "A data.table: 5 × 7\n",
       "\n",
       "| chrom &lt;chr&gt; | clu &lt;chr&gt; | clu_type &lt;chr&gt; | intron_type &lt;chr&gt; | HG00096 &lt;int&gt; | HG00097 &lt;int&gt; | HG00099 &lt;int&gt; |\n",
       "|---|---|---|---|---|---|---|\n",
       "| chr1:779092:803918:clu_1_+:IN | clu_1 | IN | IN |  0 |  1 | 2 |\n",
       "| chr1:804222:804775:clu_2_+:IN | clu_2 | IN | IN |  0 |  0 | 0 |\n",
       "| chr1:804222:807216:clu_2_+:IN | clu_2 | IN | IN |  0 |  3 | 0 |\n",
       "| chr1:807323:809657:clu_3_+:IN | clu_3 | IN | IN |  0 |  0 | 0 |\n",
       "| chr1:827775:829002:clu_4_+:IN | clu_4 | IN | IN | 12 | 25 | 8 |\n",
       "\n"
      ],
      "text/plain": [
       "  chrom                         clu   clu_type intron_type HG00096 HG00097\n",
       "1 chr1:779092:803918:clu_1_+:IN clu_1 IN       IN           0       1     \n",
       "2 chr1:804222:804775:clu_2_+:IN clu_2 IN       IN           0       0     \n",
       "3 chr1:804222:807216:clu_2_+:IN clu_2 IN       IN           0       3     \n",
       "4 chr1:807323:809657:clu_3_+:IN clu_3 IN       IN           0       0     \n",
       "5 chr1:827775:829002:clu_4_+:IN clu_4 IN       IN          12      25     \n",
       "  HG00099\n",
       "1 2      \n",
       "2 0      \n",
       "3 0      \n",
       "4 0      \n",
       "5 8      "
      ]
     },
     "metadata": {},
     "output_type": "display_data"
    }
   ],
   "source": [
    "dim(cts)\n",
    "dim(introns)\n",
    "all(cts$chrom == introns$chrom)\n",
    "cts[1:5,1:7]"
   ]
  },
  {
   "cell_type": "markdown",
   "id": "97930365",
   "metadata": {},
   "source": [
    "## Correlation between percent of unproductive junction reads in LeafCutter clusters versus length of the most used productive intron in the cluster"
   ]
  },
  {
   "cell_type": "markdown",
   "id": "0eb3832c",
   "metadata": {},
   "source": [
    "First subset to clusters that have at least 1 PR intron, and compute mean read counts for each intron"
   ]
  },
  {
   "cell_type": "code",
   "execution_count": 40,
   "id": "2d37710e",
   "metadata": {
    "execution": {
     "iopub.execute_input": "2024-02-12T05:46:00.362201Z",
     "iopub.status.busy": "2024-02-12T05:46:00.360863Z",
     "iopub.status.idle": "2024-02-12T05:46:01.221298Z",
     "shell.execute_reply": "2024-02-12T05:46:01.219709Z"
    },
    "vscode": {
     "languageId": "r"
    }
   },
   "outputs": [],
   "source": [
    "dt  <- cts[str_detect(clu_type, 'PR')\n",
    "    ][, .(chrom, clu, clu_type, intron_type, meanReads = rowMeans(.SD)), .SDcols = datcols]"
   ]
  },
  {
   "cell_type": "markdown",
   "id": "96743856",
   "metadata": {},
   "source": [
    "Find the most used PR intron for each cluster. "
   ]
  },
  {
   "cell_type": "code",
   "execution_count": 91,
   "id": "7af13c09",
   "metadata": {
    "execution": {
     "iopub.execute_input": "2024-02-12T05:46:01.224510Z",
     "iopub.status.busy": "2024-02-12T05:46:01.223434Z",
     "iopub.status.idle": "2024-02-12T05:46:22.445220Z",
     "shell.execute_reply": "2024-02-12T05:46:22.443312Z"
    },
    "vscode": {
     "languageId": "r"
    }
   },
   "outputs": [],
   "source": [
    "dt <- dt[, .(chrom, meanReads, rk = frank(-meanReads, ties.method = 'first')), by = .(clu, clu_type, intron_type)\n",
    "    ][, .(clu, clu_type, intron_type, chrom, meanReads, rk = if_else(intron_type != 'PR', NA, rk))]"
   ]
  },
  {
   "cell_type": "markdown",
   "id": "0bee3b0e",
   "metadata": {},
   "source": [
    "Add intron length"
   ]
  },
  {
   "cell_type": "code",
   "execution_count": 92,
   "id": "c279343e",
   "metadata": {
    "execution": {
     "iopub.execute_input": "2024-02-12T05:46:22.448806Z",
     "iopub.status.busy": "2024-02-12T05:46:22.447617Z",
     "iopub.status.idle": "2024-02-12T05:46:23.309177Z",
     "shell.execute_reply": "2024-02-12T05:46:23.307473Z"
    },
    "vscode": {
     "languageId": "r"
    }
   },
   "outputs": [],
   "source": [
    "dt$intron_length <- str_split(dt$chrom, ':', simplify = F)  %>% \n",
    "    map_int(\\(x) as.integer(x[[3]]) - as.integer(x[[2]]))"
   ]
  },
  {
   "cell_type": "markdown",
   "id": "80b4fbe7",
   "metadata": {},
   "source": [
    "get back sample level read counts"
   ]
  },
  {
   "cell_type": "code",
   "execution_count": 94,
   "id": "c92cacc7",
   "metadata": {
    "execution": {
     "iopub.execute_input": "2024-02-12T05:46:23.312818Z",
     "iopub.status.busy": "2024-02-12T05:46:23.311567Z",
     "iopub.status.idle": "2024-02-12T05:46:24.449576Z",
     "shell.execute_reply": "2024-02-12T05:46:24.448026Z"
    },
    "vscode": {
     "languageId": "r"
    }
   },
   "outputs": [],
   "source": [
    "dt  <- left_join(dt, cts[, c('chrom', datcols), with = F], by = 'chrom')"
   ]
  },
  {
   "cell_type": "code",
   "execution_count": 95,
   "id": "3836d47f",
   "metadata": {
    "execution": {
     "iopub.execute_input": "2024-02-12T05:46:24.452725Z",
     "iopub.status.busy": "2024-02-12T05:46:24.451666Z",
     "iopub.status.idle": "2024-02-12T05:46:24.591735Z",
     "shell.execute_reply": "2024-02-12T05:46:24.590272Z"
    },
    "vscode": {
     "languageId": "r"
    }
   },
   "outputs": [
    {
     "data": {
      "text/html": [
       "<table class=\"dataframe\">\n",
       "<caption>A data.table: 5 × 380</caption>\n",
       "<thead>\n",
       "\t<tr><th scope=col>clu</th><th scope=col>clu_type</th><th scope=col>intron_type</th><th scope=col>chrom</th><th scope=col>meanReads</th><th scope=col>rk</th><th scope=col>intron_length</th><th scope=col>HG00096</th><th scope=col>HG00097</th><th scope=col>HG00099</th><th scope=col>⋯</th><th scope=col>NA20810</th><th scope=col>NA20811</th><th scope=col>NA20812</th><th scope=col>NA20813</th><th scope=col>NA20814</th><th scope=col>NA20815</th><th scope=col>NA20816</th><th scope=col>NA20819</th><th scope=col>NA20826</th><th scope=col>NA20828</th></tr>\n",
       "\t<tr><th scope=col>&lt;chr&gt;</th><th scope=col>&lt;chr&gt;</th><th scope=col>&lt;chr&gt;</th><th scope=col>&lt;chr&gt;</th><th scope=col>&lt;dbl&gt;</th><th scope=col>&lt;int&gt;</th><th scope=col>&lt;int&gt;</th><th scope=col>&lt;int&gt;</th><th scope=col>&lt;int&gt;</th><th scope=col>&lt;int&gt;</th><th scope=col>⋯</th><th scope=col>&lt;int&gt;</th><th scope=col>&lt;int&gt;</th><th scope=col>&lt;int&gt;</th><th scope=col>&lt;int&gt;</th><th scope=col>&lt;int&gt;</th><th scope=col>&lt;int&gt;</th><th scope=col>&lt;int&gt;</th><th scope=col>&lt;int&gt;</th><th scope=col>&lt;int&gt;</th><th scope=col>&lt;int&gt;</th></tr>\n",
       "</thead>\n",
       "<tbody>\n",
       "\t<tr><td>clu_8 </td><td>PR,UP</td><td>PR</td><td>chr1:960800:961292:clu_8_+:PR </td><td>0.1742627</td><td> 1</td><td>492</td><td> 1</td><td> 0</td><td>0</td><td>⋯</td><td>0</td><td>0</td><td>0</td><td> 0</td><td>0</td><td>0</td><td>0</td><td>0</td><td>0</td><td> 0</td></tr>\n",
       "\t<tr><td>clu_8 </td><td>PR,UP</td><td>UP</td><td>chr1:960800:961628:clu_8_+:UP </td><td>0.1983914</td><td>NA</td><td>828</td><td> 0</td><td> 0</td><td>0</td><td>⋯</td><td>0</td><td>2</td><td>0</td><td> 0</td><td>0</td><td>0</td><td>0</td><td>0</td><td>0</td><td> 0</td></tr>\n",
       "\t<tr><td>clu_9 </td><td>PR   </td><td>PR</td><td>chr1:961750:961825:clu_9_+:PR </td><td>7.4932976</td><td> 1</td><td> 75</td><td>11</td><td>11</td><td>4</td><td>⋯</td><td>4</td><td>1</td><td>5</td><td> 5</td><td>8</td><td>5</td><td>7</td><td>8</td><td>9</td><td>13</td></tr>\n",
       "\t<tr><td>clu_10</td><td>PR,UP</td><td>UP</td><td>chr1:962047:962285:clu_10_+:UP</td><td>1.2654155</td><td>NA</td><td>238</td><td> 0</td><td> 1</td><td>1</td><td>⋯</td><td>2</td><td>0</td><td>2</td><td> 0</td><td>2</td><td>1</td><td>3</td><td>1</td><td>1</td><td> 0</td></tr>\n",
       "\t<tr><td>clu_10</td><td>PR,UP</td><td>PR</td><td>chr1:962047:962354:clu_10_+:PR</td><td>4.2278820</td><td> 1</td><td>307</td><td> 4</td><td> 1</td><td>6</td><td>⋯</td><td>8</td><td>1</td><td>9</td><td>20</td><td>3</td><td>2</td><td>1</td><td>3</td><td>3</td><td> 3</td></tr>\n",
       "</tbody>\n",
       "</table>\n"
      ],
      "text/latex": [
       "A data.table: 5 × 380\n",
       "\\begin{tabular}{lllllllllllllllllllll}\n",
       " clu & clu\\_type & intron\\_type & chrom & meanReads & rk & intron\\_length & HG00096 & HG00097 & HG00099 & ⋯ & NA20810 & NA20811 & NA20812 & NA20813 & NA20814 & NA20815 & NA20816 & NA20819 & NA20826 & NA20828\\\\\n",
       " <chr> & <chr> & <chr> & <chr> & <dbl> & <int> & <int> & <int> & <int> & <int> & ⋯ & <int> & <int> & <int> & <int> & <int> & <int> & <int> & <int> & <int> & <int>\\\\\n",
       "\\hline\n",
       "\t clu\\_8  & PR,UP & PR & chr1:960800:961292:clu\\_8\\_+:PR  & 0.1742627 &  1 & 492 &  1 &  0 & 0 & ⋯ & 0 & 0 & 0 &  0 & 0 & 0 & 0 & 0 & 0 &  0\\\\\n",
       "\t clu\\_8  & PR,UP & UP & chr1:960800:961628:clu\\_8\\_+:UP  & 0.1983914 & NA & 828 &  0 &  0 & 0 & ⋯ & 0 & 2 & 0 &  0 & 0 & 0 & 0 & 0 & 0 &  0\\\\\n",
       "\t clu\\_9  & PR    & PR & chr1:961750:961825:clu\\_9\\_+:PR  & 7.4932976 &  1 &  75 & 11 & 11 & 4 & ⋯ & 4 & 1 & 5 &  5 & 8 & 5 & 7 & 8 & 9 & 13\\\\\n",
       "\t clu\\_10 & PR,UP & UP & chr1:962047:962285:clu\\_10\\_+:UP & 1.2654155 & NA & 238 &  0 &  1 & 1 & ⋯ & 2 & 0 & 2 &  0 & 2 & 1 & 3 & 1 & 1 &  0\\\\\n",
       "\t clu\\_10 & PR,UP & PR & chr1:962047:962354:clu\\_10\\_+:PR & 4.2278820 &  1 & 307 &  4 &  1 & 6 & ⋯ & 8 & 1 & 9 & 20 & 3 & 2 & 1 & 3 & 3 &  3\\\\\n",
       "\\end{tabular}\n"
      ],
      "text/markdown": [
       "\n",
       "A data.table: 5 × 380\n",
       "\n",
       "| clu &lt;chr&gt; | clu_type &lt;chr&gt; | intron_type &lt;chr&gt; | chrom &lt;chr&gt; | meanReads &lt;dbl&gt; | rk &lt;int&gt; | intron_length &lt;int&gt; | HG00096 &lt;int&gt; | HG00097 &lt;int&gt; | HG00099 &lt;int&gt; | ⋯ ⋯ | NA20810 &lt;int&gt; | NA20811 &lt;int&gt; | NA20812 &lt;int&gt; | NA20813 &lt;int&gt; | NA20814 &lt;int&gt; | NA20815 &lt;int&gt; | NA20816 &lt;int&gt; | NA20819 &lt;int&gt; | NA20826 &lt;int&gt; | NA20828 &lt;int&gt; |\n",
       "|---|---|---|---|---|---|---|---|---|---|---|---|---|---|---|---|---|---|---|---|---|\n",
       "| clu_8  | PR,UP | PR | chr1:960800:961292:clu_8_+:PR  | 0.1742627 |  1 | 492 |  1 |  0 | 0 | ⋯ | 0 | 0 | 0 |  0 | 0 | 0 | 0 | 0 | 0 |  0 |\n",
       "| clu_8  | PR,UP | UP | chr1:960800:961628:clu_8_+:UP  | 0.1983914 | NA | 828 |  0 |  0 | 0 | ⋯ | 0 | 2 | 0 |  0 | 0 | 0 | 0 | 0 | 0 |  0 |\n",
       "| clu_9  | PR    | PR | chr1:961750:961825:clu_9_+:PR  | 7.4932976 |  1 |  75 | 11 | 11 | 4 | ⋯ | 4 | 1 | 5 |  5 | 8 | 5 | 7 | 8 | 9 | 13 |\n",
       "| clu_10 | PR,UP | UP | chr1:962047:962285:clu_10_+:UP | 1.2654155 | NA | 238 |  0 |  1 | 1 | ⋯ | 2 | 0 | 2 |  0 | 2 | 1 | 3 | 1 | 1 |  0 |\n",
       "| clu_10 | PR,UP | PR | chr1:962047:962354:clu_10_+:PR | 4.2278820 |  1 | 307 |  4 |  1 | 6 | ⋯ | 8 | 1 | 9 | 20 | 3 | 2 | 1 | 3 | 3 |  3 |\n",
       "\n"
      ],
      "text/plain": [
       "  clu    clu_type intron_type chrom                          meanReads rk\n",
       "1 clu_8  PR,UP    PR          chr1:960800:961292:clu_8_+:PR  0.1742627  1\n",
       "2 clu_8  PR,UP    UP          chr1:960800:961628:clu_8_+:UP  0.1983914 NA\n",
       "3 clu_9  PR       PR          chr1:961750:961825:clu_9_+:PR  7.4932976  1\n",
       "4 clu_10 PR,UP    UP          chr1:962047:962285:clu_10_+:UP 1.2654155 NA\n",
       "5 clu_10 PR,UP    PR          chr1:962047:962354:clu_10_+:PR 4.2278820  1\n",
       "  intron_length HG00096 HG00097 HG00099 ⋯ NA20810 NA20811 NA20812 NA20813\n",
       "1 492            1       0      0       ⋯ 0       0       0        0     \n",
       "2 828            0       0      0       ⋯ 0       2       0        0     \n",
       "3  75           11      11      4       ⋯ 4       1       5        5     \n",
       "4 238            0       1      1       ⋯ 2       0       2        0     \n",
       "5 307            4       1      6       ⋯ 8       1       9       20     \n",
       "  NA20814 NA20815 NA20816 NA20819 NA20826 NA20828\n",
       "1 0       0       0       0       0        0     \n",
       "2 0       0       0       0       0        0     \n",
       "3 8       5       7       8       9       13     \n",
       "4 2       1       3       1       1        0     \n",
       "5 3       2       1       3       3        3     "
      ]
     },
     "metadata": {},
     "output_type": "display_data"
    },
    {
     "data": {
      "text/html": [
       "<style>\n",
       ".list-inline {list-style: none; margin:0; padding: 0}\n",
       ".list-inline>li {display: inline-block}\n",
       ".list-inline>li:not(:last-child)::after {content: \"\\00b7\"; padding: 0 .5ex}\n",
       "</style>\n",
       "<ol class=list-inline><li>198966</li><li>380</li></ol>\n"
      ],
      "text/latex": [
       "\\begin{enumerate*}\n",
       "\\item 198966\n",
       "\\item 380\n",
       "\\end{enumerate*}\n"
      ],
      "text/markdown": [
       "1. 198966\n",
       "2. 380\n",
       "\n",
       "\n"
      ],
      "text/plain": [
       "[1] 198966    380"
      ]
     },
     "metadata": {},
     "output_type": "display_data"
    }
   ],
   "source": [
    "dt[1:5]\n",
    "dim(dt)"
   ]
  },
  {
   "cell_type": "code",
   "execution_count": 96,
   "id": "fd2da59e",
   "metadata": {
    "execution": {
     "iopub.execute_input": "2024-02-12T05:46:24.595038Z",
     "iopub.status.busy": "2024-02-12T05:46:24.593910Z",
     "iopub.status.idle": "2024-02-12T05:46:24.866672Z",
     "shell.execute_reply": "2024-02-12T05:46:24.865028Z"
    },
    "vscode": {
     "languageId": "r"
    }
   },
   "outputs": [],
   "source": [
    "# cluster level total\n",
    "total_by_clu  <- dt[, lapply(.SD, sum), .SDcols = datcols, by = clu]"
   ]
  },
  {
   "cell_type": "code",
   "execution_count": 97,
   "id": "e73a93cb",
   "metadata": {
    "execution": {
     "iopub.execute_input": "2024-02-12T05:46:24.870016Z",
     "iopub.status.busy": "2024-02-12T05:46:24.868866Z",
     "iopub.status.idle": "2024-02-12T05:46:24.948852Z",
     "shell.execute_reply": "2024-02-12T05:46:24.947169Z"
    },
    "vscode": {
     "languageId": "r"
    }
   },
   "outputs": [],
   "source": [
    "# cluster level unproductive\n",
    "unprod_by_clu  <- dt[intron_type == 'UP', lapply(.SD, sum), .SDcols = datcols, by = clu]"
   ]
  },
  {
   "cell_type": "code",
   "execution_count": 40,
   "id": "07c7a7cd",
   "metadata": {
    "execution": {
     "iopub.execute_input": "2024-02-12T05:44:46.360322Z",
     "iopub.status.busy": "2024-02-12T05:44:46.358429Z",
     "iopub.status.idle": "2024-02-12T05:44:46.371546Z",
     "shell.execute_reply": "2024-02-12T05:44:46.369386Z"
    },
    "vscode": {
     "languageId": "r"
    }
   },
   "outputs": [],
   "source": [
    "# unprod_ratio_by_clu <- map_dfr(total_by_clu$clu,\n",
    "#     \\(x) {\n",
    "#         if (x %in% unprod_by_clu$clu) {\n",
    "#             dt <- unprod_by_clu[clu == x, ..datcols] / (total_by_clu[clu == x, ..datcols] + 1e-5)\n",
    "#         } else {\n",
    "#             dt <- 0 / (total_by_clu[clu == x, ..datcols] + 1e-5)\n",
    "#         }\n",
    "#         dt <- cbind(clu = x, round(dt, 5))\n",
    "#     }\n",
    "# )"
   ]
  },
  {
   "cell_type": "code",
   "execution_count": 41,
   "id": "6af4c5d7-88df-4341-ab12-b0d36630a7bb",
   "metadata": {
    "execution": {
     "iopub.execute_input": "2024-02-12T05:44:46.376590Z",
     "iopub.status.busy": "2024-02-12T05:44:46.374862Z",
     "iopub.status.idle": "2024-02-12T05:44:46.386698Z",
     "shell.execute_reply": "2024-02-12T05:44:46.384614Z"
    },
    "vscode": {
     "languageId": "r"
    }
   },
   "outputs": [],
   "source": [
    "# saveRDS(list(\"unprod_ratio_by_clu\" = unprod_ratio_by_clu),\n",
    "#         '2024-01-20-Geuvadis.EUR.unprod_ratio_by_clu.rds')"
   ]
  },
  {
   "cell_type": "code",
   "execution_count": 98,
   "id": "428f67ed-b6dd-4085-bf9a-67081e683afe",
   "metadata": {
    "execution": {
     "iopub.execute_input": "2024-02-12T05:46:24.952282Z",
     "iopub.status.busy": "2024-02-12T05:46:24.951110Z",
     "iopub.status.idle": "2024-02-12T05:46:26.144179Z",
     "shell.execute_reply": "2024-02-12T05:46:26.142369Z"
    },
    "vscode": {
     "languageId": "r"
    }
   },
   "outputs": [],
   "source": [
    "unprod_ratio_by_clu = readRDS('2024-01-20-Geuvadis.EUR.unprod_ratio_by_clu.rds')[['unprod_ratio_by_clu']]"
   ]
  },
  {
   "cell_type": "code",
   "execution_count": 100,
   "id": "f7677cde",
   "metadata": {
    "execution": {
     "iopub.execute_input": "2024-02-12T05:46:26.147905Z",
     "iopub.status.busy": "2024-02-12T05:46:26.146603Z",
     "iopub.status.idle": "2024-02-12T05:46:26.632641Z",
     "shell.execute_reply": "2024-02-12T05:46:26.631102Z"
    },
    "vscode": {
     "languageId": "r"
    }
   },
   "outputs": [
    {
     "data": {
      "text/html": [
       "<table class=\"dataframe\">\n",
       "<caption>A data.table: 2 × 374</caption>\n",
       "<thead>\n",
       "\t<tr><th scope=col>clu</th><th scope=col>HG00096</th><th scope=col>HG00097</th><th scope=col>HG00099</th><th scope=col>HG00100</th><th scope=col>HG00101</th><th scope=col>HG00102</th><th scope=col>HG00103</th><th scope=col>HG00104</th><th scope=col>HG00105</th><th scope=col>⋯</th><th scope=col>NA20810</th><th scope=col>NA20811</th><th scope=col>NA20812</th><th scope=col>NA20813</th><th scope=col>NA20814</th><th scope=col>NA20815</th><th scope=col>NA20816</th><th scope=col>NA20819</th><th scope=col>NA20826</th><th scope=col>NA20828</th></tr>\n",
       "\t<tr><th scope=col>&lt;chr&gt;</th><th scope=col>&lt;int&gt;</th><th scope=col>&lt;int&gt;</th><th scope=col>&lt;int&gt;</th><th scope=col>&lt;int&gt;</th><th scope=col>&lt;int&gt;</th><th scope=col>&lt;int&gt;</th><th scope=col>&lt;int&gt;</th><th scope=col>&lt;int&gt;</th><th scope=col>&lt;int&gt;</th><th scope=col>⋯</th><th scope=col>&lt;int&gt;</th><th scope=col>&lt;int&gt;</th><th scope=col>&lt;int&gt;</th><th scope=col>&lt;int&gt;</th><th scope=col>&lt;int&gt;</th><th scope=col>&lt;int&gt;</th><th scope=col>&lt;int&gt;</th><th scope=col>&lt;int&gt;</th><th scope=col>&lt;int&gt;</th><th scope=col>&lt;int&gt;</th></tr>\n",
       "</thead>\n",
       "<tbody>\n",
       "\t<tr><td>clu_8 </td><td>0</td><td>0</td><td>0</td><td>0</td><td>0</td><td>0</td><td>0</td><td>0</td><td>0</td><td>⋯</td><td>0</td><td>2</td><td>0</td><td>0</td><td>0</td><td>0</td><td>0</td><td>0</td><td>0</td><td>0</td></tr>\n",
       "\t<tr><td>clu_10</td><td>0</td><td>1</td><td>1</td><td>1</td><td>0</td><td>2</td><td>0</td><td>1</td><td>0</td><td>⋯</td><td>2</td><td>0</td><td>2</td><td>0</td><td>2</td><td>1</td><td>3</td><td>1</td><td>1</td><td>0</td></tr>\n",
       "</tbody>\n",
       "</table>\n"
      ],
      "text/latex": [
       "A data.table: 2 × 374\n",
       "\\begin{tabular}{lllllllllllllllllllll}\n",
       " clu & HG00096 & HG00097 & HG00099 & HG00100 & HG00101 & HG00102 & HG00103 & HG00104 & HG00105 & ⋯ & NA20810 & NA20811 & NA20812 & NA20813 & NA20814 & NA20815 & NA20816 & NA20819 & NA20826 & NA20828\\\\\n",
       " <chr> & <int> & <int> & <int> & <int> & <int> & <int> & <int> & <int> & <int> & ⋯ & <int> & <int> & <int> & <int> & <int> & <int> & <int> & <int> & <int> & <int>\\\\\n",
       "\\hline\n",
       "\t clu\\_8  & 0 & 0 & 0 & 0 & 0 & 0 & 0 & 0 & 0 & ⋯ & 0 & 2 & 0 & 0 & 0 & 0 & 0 & 0 & 0 & 0\\\\\n",
       "\t clu\\_10 & 0 & 1 & 1 & 1 & 0 & 2 & 0 & 1 & 0 & ⋯ & 2 & 0 & 2 & 0 & 2 & 1 & 3 & 1 & 1 & 0\\\\\n",
       "\\end{tabular}\n"
      ],
      "text/markdown": [
       "\n",
       "A data.table: 2 × 374\n",
       "\n",
       "| clu &lt;chr&gt; | HG00096 &lt;int&gt; | HG00097 &lt;int&gt; | HG00099 &lt;int&gt; | HG00100 &lt;int&gt; | HG00101 &lt;int&gt; | HG00102 &lt;int&gt; | HG00103 &lt;int&gt; | HG00104 &lt;int&gt; | HG00105 &lt;int&gt; | ⋯ ⋯ | NA20810 &lt;int&gt; | NA20811 &lt;int&gt; | NA20812 &lt;int&gt; | NA20813 &lt;int&gt; | NA20814 &lt;int&gt; | NA20815 &lt;int&gt; | NA20816 &lt;int&gt; | NA20819 &lt;int&gt; | NA20826 &lt;int&gt; | NA20828 &lt;int&gt; |\n",
       "|---|---|---|---|---|---|---|---|---|---|---|---|---|---|---|---|---|---|---|---|---|\n",
       "| clu_8  | 0 | 0 | 0 | 0 | 0 | 0 | 0 | 0 | 0 | ⋯ | 0 | 2 | 0 | 0 | 0 | 0 | 0 | 0 | 0 | 0 |\n",
       "| clu_10 | 0 | 1 | 1 | 1 | 0 | 2 | 0 | 1 | 0 | ⋯ | 2 | 0 | 2 | 0 | 2 | 1 | 3 | 1 | 1 | 0 |\n",
       "\n"
      ],
      "text/plain": [
       "  clu    HG00096 HG00097 HG00099 HG00100 HG00101 HG00102 HG00103 HG00104\n",
       "1 clu_8  0       0       0       0       0       0       0       0      \n",
       "2 clu_10 0       1       1       1       0       2       0       1      \n",
       "  HG00105 ⋯ NA20810 NA20811 NA20812 NA20813 NA20814 NA20815 NA20816 NA20819\n",
       "1 0       ⋯ 0       2       0       0       0       0       0       0      \n",
       "2 0       ⋯ 2       0       2       0       2       1       3       1      \n",
       "  NA20826 NA20828\n",
       "1 0       0      \n",
       "2 1       0      "
      ]
     },
     "metadata": {},
     "output_type": "display_data"
    },
    {
     "data": {
      "text/html": [
       "<table class=\"dataframe\">\n",
       "<caption>A data.table: 5 × 374</caption>\n",
       "<thead>\n",
       "\t<tr><th scope=col>clu</th><th scope=col>HG00096</th><th scope=col>HG00097</th><th scope=col>HG00099</th><th scope=col>HG00100</th><th scope=col>HG00101</th><th scope=col>HG00102</th><th scope=col>HG00103</th><th scope=col>HG00104</th><th scope=col>HG00105</th><th scope=col>⋯</th><th scope=col>NA20810</th><th scope=col>NA20811</th><th scope=col>NA20812</th><th scope=col>NA20813</th><th scope=col>NA20814</th><th scope=col>NA20815</th><th scope=col>NA20816</th><th scope=col>NA20819</th><th scope=col>NA20826</th><th scope=col>NA20828</th></tr>\n",
       "\t<tr><th scope=col>&lt;chr&gt;</th><th scope=col>&lt;int&gt;</th><th scope=col>&lt;int&gt;</th><th scope=col>&lt;int&gt;</th><th scope=col>&lt;int&gt;</th><th scope=col>&lt;int&gt;</th><th scope=col>&lt;int&gt;</th><th scope=col>&lt;int&gt;</th><th scope=col>&lt;int&gt;</th><th scope=col>&lt;int&gt;</th><th scope=col>⋯</th><th scope=col>&lt;int&gt;</th><th scope=col>&lt;int&gt;</th><th scope=col>&lt;int&gt;</th><th scope=col>&lt;int&gt;</th><th scope=col>&lt;int&gt;</th><th scope=col>&lt;int&gt;</th><th scope=col>&lt;int&gt;</th><th scope=col>&lt;int&gt;</th><th scope=col>&lt;int&gt;</th><th scope=col>&lt;int&gt;</th></tr>\n",
       "</thead>\n",
       "<tbody>\n",
       "\t<tr><td>clu_8 </td><td> 1</td><td> 0</td><td>0</td><td>0</td><td>0</td><td>0</td><td>0</td><td>0</td><td>0</td><td>⋯</td><td> 0</td><td>2</td><td> 0</td><td> 0</td><td>0</td><td>0</td><td>0</td><td>0</td><td>0</td><td> 0</td></tr>\n",
       "\t<tr><td>clu_9 </td><td>11</td><td>11</td><td>4</td><td>7</td><td>4</td><td>0</td><td>7</td><td>7</td><td>7</td><td>⋯</td><td> 4</td><td>1</td><td> 5</td><td> 5</td><td>8</td><td>5</td><td>7</td><td>8</td><td>9</td><td>13</td></tr>\n",
       "\t<tr><td>clu_10</td><td> 4</td><td> 2</td><td>7</td><td>4</td><td>0</td><td>2</td><td>2</td><td>4</td><td>3</td><td>⋯</td><td>10</td><td>1</td><td>11</td><td>20</td><td>5</td><td>3</td><td>4</td><td>4</td><td>4</td><td> 3</td></tr>\n",
       "\t<tr><td>clu_11</td><td> 7</td><td> 7</td><td>5</td><td>3</td><td>8</td><td>0</td><td>8</td><td>5</td><td>2</td><td>⋯</td><td>12</td><td>3</td><td>11</td><td> 9</td><td>4</td><td>2</td><td>3</td><td>6</td><td>5</td><td> 0</td></tr>\n",
       "\t<tr><td>clu_12</td><td>12</td><td>13</td><td>1</td><td>1</td><td>5</td><td>0</td><td>8</td><td>4</td><td>2</td><td>⋯</td><td> 1</td><td>3</td><td> 1</td><td> 3</td><td>0</td><td>2</td><td>0</td><td>1</td><td>2</td><td> 0</td></tr>\n",
       "</tbody>\n",
       "</table>\n"
      ],
      "text/latex": [
       "A data.table: 5 × 374\n",
       "\\begin{tabular}{lllllllllllllllllllll}\n",
       " clu & HG00096 & HG00097 & HG00099 & HG00100 & HG00101 & HG00102 & HG00103 & HG00104 & HG00105 & ⋯ & NA20810 & NA20811 & NA20812 & NA20813 & NA20814 & NA20815 & NA20816 & NA20819 & NA20826 & NA20828\\\\\n",
       " <chr> & <int> & <int> & <int> & <int> & <int> & <int> & <int> & <int> & <int> & ⋯ & <int> & <int> & <int> & <int> & <int> & <int> & <int> & <int> & <int> & <int>\\\\\n",
       "\\hline\n",
       "\t clu\\_8  &  1 &  0 & 0 & 0 & 0 & 0 & 0 & 0 & 0 & ⋯ &  0 & 2 &  0 &  0 & 0 & 0 & 0 & 0 & 0 &  0\\\\\n",
       "\t clu\\_9  & 11 & 11 & 4 & 7 & 4 & 0 & 7 & 7 & 7 & ⋯ &  4 & 1 &  5 &  5 & 8 & 5 & 7 & 8 & 9 & 13\\\\\n",
       "\t clu\\_10 &  4 &  2 & 7 & 4 & 0 & 2 & 2 & 4 & 3 & ⋯ & 10 & 1 & 11 & 20 & 5 & 3 & 4 & 4 & 4 &  3\\\\\n",
       "\t clu\\_11 &  7 &  7 & 5 & 3 & 8 & 0 & 8 & 5 & 2 & ⋯ & 12 & 3 & 11 &  9 & 4 & 2 & 3 & 6 & 5 &  0\\\\\n",
       "\t clu\\_12 & 12 & 13 & 1 & 1 & 5 & 0 & 8 & 4 & 2 & ⋯ &  1 & 3 &  1 &  3 & 0 & 2 & 0 & 1 & 2 &  0\\\\\n",
       "\\end{tabular}\n"
      ],
      "text/markdown": [
       "\n",
       "A data.table: 5 × 374\n",
       "\n",
       "| clu &lt;chr&gt; | HG00096 &lt;int&gt; | HG00097 &lt;int&gt; | HG00099 &lt;int&gt; | HG00100 &lt;int&gt; | HG00101 &lt;int&gt; | HG00102 &lt;int&gt; | HG00103 &lt;int&gt; | HG00104 &lt;int&gt; | HG00105 &lt;int&gt; | ⋯ ⋯ | NA20810 &lt;int&gt; | NA20811 &lt;int&gt; | NA20812 &lt;int&gt; | NA20813 &lt;int&gt; | NA20814 &lt;int&gt; | NA20815 &lt;int&gt; | NA20816 &lt;int&gt; | NA20819 &lt;int&gt; | NA20826 &lt;int&gt; | NA20828 &lt;int&gt; |\n",
       "|---|---|---|---|---|---|---|---|---|---|---|---|---|---|---|---|---|---|---|---|---|\n",
       "| clu_8  |  1 |  0 | 0 | 0 | 0 | 0 | 0 | 0 | 0 | ⋯ |  0 | 2 |  0 |  0 | 0 | 0 | 0 | 0 | 0 |  0 |\n",
       "| clu_9  | 11 | 11 | 4 | 7 | 4 | 0 | 7 | 7 | 7 | ⋯ |  4 | 1 |  5 |  5 | 8 | 5 | 7 | 8 | 9 | 13 |\n",
       "| clu_10 |  4 |  2 | 7 | 4 | 0 | 2 | 2 | 4 | 3 | ⋯ | 10 | 1 | 11 | 20 | 5 | 3 | 4 | 4 | 4 |  3 |\n",
       "| clu_11 |  7 |  7 | 5 | 3 | 8 | 0 | 8 | 5 | 2 | ⋯ | 12 | 3 | 11 |  9 | 4 | 2 | 3 | 6 | 5 |  0 |\n",
       "| clu_12 | 12 | 13 | 1 | 1 | 5 | 0 | 8 | 4 | 2 | ⋯ |  1 | 3 |  1 |  3 | 0 | 2 | 0 | 1 | 2 |  0 |\n",
       "\n"
      ],
      "text/plain": [
       "  clu    HG00096 HG00097 HG00099 HG00100 HG00101 HG00102 HG00103 HG00104\n",
       "1 clu_8   1       0      0       0       0       0       0       0      \n",
       "2 clu_9  11      11      4       7       4       0       7       7      \n",
       "3 clu_10  4       2      7       4       0       2       2       4      \n",
       "4 clu_11  7       7      5       3       8       0       8       5      \n",
       "5 clu_12 12      13      1       1       5       0       8       4      \n",
       "  HG00105 ⋯ NA20810 NA20811 NA20812 NA20813 NA20814 NA20815 NA20816 NA20819\n",
       "1 0       ⋯  0      2        0       0      0       0       0       0      \n",
       "2 7       ⋯  4      1        5       5      8       5       7       8      \n",
       "3 3       ⋯ 10      1       11      20      5       3       4       4      \n",
       "4 2       ⋯ 12      3       11       9      4       2       3       6      \n",
       "5 2       ⋯  1      3        1       3      0       2       0       1      \n",
       "  NA20826 NA20828\n",
       "1 0        0     \n",
       "2 9       13     \n",
       "3 4        3     \n",
       "4 5        0     \n",
       "5 2        0     "
      ]
     },
     "metadata": {},
     "output_type": "display_data"
    },
    {
     "data": {
      "text/html": [
       "<table class=\"dataframe\">\n",
       "<caption>A data.table: 5 × 374</caption>\n",
       "<thead>\n",
       "\t<tr><th scope=col>clu</th><th scope=col>HG00096</th><th scope=col>HG00097</th><th scope=col>HG00099</th><th scope=col>HG00100</th><th scope=col>HG00101</th><th scope=col>HG00102</th><th scope=col>HG00103</th><th scope=col>HG00104</th><th scope=col>HG00105</th><th scope=col>⋯</th><th scope=col>NA20810</th><th scope=col>NA20811</th><th scope=col>NA20812</th><th scope=col>NA20813</th><th scope=col>NA20814</th><th scope=col>NA20815</th><th scope=col>NA20816</th><th scope=col>NA20819</th><th scope=col>NA20826</th><th scope=col>NA20828</th></tr>\n",
       "\t<tr><th scope=col>&lt;chr&gt;</th><th scope=col>&lt;dbl&gt;</th><th scope=col>&lt;dbl&gt;</th><th scope=col>&lt;dbl&gt;</th><th scope=col>&lt;dbl&gt;</th><th scope=col>&lt;dbl&gt;</th><th scope=col>&lt;dbl&gt;</th><th scope=col>&lt;dbl&gt;</th><th scope=col>&lt;dbl&gt;</th><th scope=col>&lt;dbl&gt;</th><th scope=col>⋯</th><th scope=col>&lt;dbl&gt;</th><th scope=col>&lt;dbl&gt;</th><th scope=col>&lt;dbl&gt;</th><th scope=col>&lt;dbl&gt;</th><th scope=col>&lt;dbl&gt;</th><th scope=col>&lt;dbl&gt;</th><th scope=col>&lt;dbl&gt;</th><th scope=col>&lt;dbl&gt;</th><th scope=col>&lt;dbl&gt;</th><th scope=col>&lt;dbl&gt;</th></tr>\n",
       "</thead>\n",
       "<tbody>\n",
       "\t<tr><td>clu_8 </td><td>0</td><td>0.00000</td><td>0.00000</td><td>0.00</td><td>0.0</td><td>0</td><td>0.000</td><td>0.00</td><td>0.0</td><td>⋯</td><td>0.00000</td><td>1</td><td>0.00000</td><td>0.00000</td><td>0.0</td><td>0.00000</td><td>0.00</td><td>0.00000</td><td>0.00</td><td>0</td></tr>\n",
       "\t<tr><td>clu_9 </td><td>0</td><td>0.00000</td><td>0.00000</td><td>0.00</td><td>0.0</td><td>0</td><td>0.000</td><td>0.00</td><td>0.0</td><td>⋯</td><td>0.00000</td><td>0</td><td>0.00000</td><td>0.00000</td><td>0.0</td><td>0.00000</td><td>0.00</td><td>0.00000</td><td>0.00</td><td>0</td></tr>\n",
       "\t<tr><td>clu_10</td><td>0</td><td>0.50000</td><td>0.14286</td><td>0.25</td><td>0.0</td><td>1</td><td>0.000</td><td>0.25</td><td>0.0</td><td>⋯</td><td>0.20000</td><td>0</td><td>0.18182</td><td>0.00000</td><td>0.4</td><td>0.33333</td><td>0.75</td><td>0.25000</td><td>0.25</td><td>0</td></tr>\n",
       "\t<tr><td>clu_11</td><td>0</td><td>0.00000</td><td>0.00000</td><td>0.00</td><td>0.0</td><td>0</td><td>0.000</td><td>0.00</td><td>0.0</td><td>⋯</td><td>0.00000</td><td>0</td><td>0.00000</td><td>0.00000</td><td>0.0</td><td>0.00000</td><td>0.00</td><td>0.00000</td><td>0.00</td><td>0</td></tr>\n",
       "\t<tr><td>clu_12</td><td>0</td><td>0.30769</td><td>0.99999</td><td>0.00</td><td>0.2</td><td>0</td><td>0.875</td><td>0.25</td><td>0.5</td><td>⋯</td><td>0.99999</td><td>0</td><td>0.00000</td><td>0.33333</td><td>0.0</td><td>1.00000</td><td>0.00</td><td>0.99999</td><td>0.50</td><td>0</td></tr>\n",
       "</tbody>\n",
       "</table>\n"
      ],
      "text/latex": [
       "A data.table: 5 × 374\n",
       "\\begin{tabular}{lllllllllllllllllllll}\n",
       " clu & HG00096 & HG00097 & HG00099 & HG00100 & HG00101 & HG00102 & HG00103 & HG00104 & HG00105 & ⋯ & NA20810 & NA20811 & NA20812 & NA20813 & NA20814 & NA20815 & NA20816 & NA20819 & NA20826 & NA20828\\\\\n",
       " <chr> & <dbl> & <dbl> & <dbl> & <dbl> & <dbl> & <dbl> & <dbl> & <dbl> & <dbl> & ⋯ & <dbl> & <dbl> & <dbl> & <dbl> & <dbl> & <dbl> & <dbl> & <dbl> & <dbl> & <dbl>\\\\\n",
       "\\hline\n",
       "\t clu\\_8  & 0 & 0.00000 & 0.00000 & 0.00 & 0.0 & 0 & 0.000 & 0.00 & 0.0 & ⋯ & 0.00000 & 1 & 0.00000 & 0.00000 & 0.0 & 0.00000 & 0.00 & 0.00000 & 0.00 & 0\\\\\n",
       "\t clu\\_9  & 0 & 0.00000 & 0.00000 & 0.00 & 0.0 & 0 & 0.000 & 0.00 & 0.0 & ⋯ & 0.00000 & 0 & 0.00000 & 0.00000 & 0.0 & 0.00000 & 0.00 & 0.00000 & 0.00 & 0\\\\\n",
       "\t clu\\_10 & 0 & 0.50000 & 0.14286 & 0.25 & 0.0 & 1 & 0.000 & 0.25 & 0.0 & ⋯ & 0.20000 & 0 & 0.18182 & 0.00000 & 0.4 & 0.33333 & 0.75 & 0.25000 & 0.25 & 0\\\\\n",
       "\t clu\\_11 & 0 & 0.00000 & 0.00000 & 0.00 & 0.0 & 0 & 0.000 & 0.00 & 0.0 & ⋯ & 0.00000 & 0 & 0.00000 & 0.00000 & 0.0 & 0.00000 & 0.00 & 0.00000 & 0.00 & 0\\\\\n",
       "\t clu\\_12 & 0 & 0.30769 & 0.99999 & 0.00 & 0.2 & 0 & 0.875 & 0.25 & 0.5 & ⋯ & 0.99999 & 0 & 0.00000 & 0.33333 & 0.0 & 1.00000 & 0.00 & 0.99999 & 0.50 & 0\\\\\n",
       "\\end{tabular}\n"
      ],
      "text/markdown": [
       "\n",
       "A data.table: 5 × 374\n",
       "\n",
       "| clu &lt;chr&gt; | HG00096 &lt;dbl&gt; | HG00097 &lt;dbl&gt; | HG00099 &lt;dbl&gt; | HG00100 &lt;dbl&gt; | HG00101 &lt;dbl&gt; | HG00102 &lt;dbl&gt; | HG00103 &lt;dbl&gt; | HG00104 &lt;dbl&gt; | HG00105 &lt;dbl&gt; | ⋯ ⋯ | NA20810 &lt;dbl&gt; | NA20811 &lt;dbl&gt; | NA20812 &lt;dbl&gt; | NA20813 &lt;dbl&gt; | NA20814 &lt;dbl&gt; | NA20815 &lt;dbl&gt; | NA20816 &lt;dbl&gt; | NA20819 &lt;dbl&gt; | NA20826 &lt;dbl&gt; | NA20828 &lt;dbl&gt; |\n",
       "|---|---|---|---|---|---|---|---|---|---|---|---|---|---|---|---|---|---|---|---|---|\n",
       "| clu_8  | 0 | 0.00000 | 0.00000 | 0.00 | 0.0 | 0 | 0.000 | 0.00 | 0.0 | ⋯ | 0.00000 | 1 | 0.00000 | 0.00000 | 0.0 | 0.00000 | 0.00 | 0.00000 | 0.00 | 0 |\n",
       "| clu_9  | 0 | 0.00000 | 0.00000 | 0.00 | 0.0 | 0 | 0.000 | 0.00 | 0.0 | ⋯ | 0.00000 | 0 | 0.00000 | 0.00000 | 0.0 | 0.00000 | 0.00 | 0.00000 | 0.00 | 0 |\n",
       "| clu_10 | 0 | 0.50000 | 0.14286 | 0.25 | 0.0 | 1 | 0.000 | 0.25 | 0.0 | ⋯ | 0.20000 | 0 | 0.18182 | 0.00000 | 0.4 | 0.33333 | 0.75 | 0.25000 | 0.25 | 0 |\n",
       "| clu_11 | 0 | 0.00000 | 0.00000 | 0.00 | 0.0 | 0 | 0.000 | 0.00 | 0.0 | ⋯ | 0.00000 | 0 | 0.00000 | 0.00000 | 0.0 | 0.00000 | 0.00 | 0.00000 | 0.00 | 0 |\n",
       "| clu_12 | 0 | 0.30769 | 0.99999 | 0.00 | 0.2 | 0 | 0.875 | 0.25 | 0.5 | ⋯ | 0.99999 | 0 | 0.00000 | 0.33333 | 0.0 | 1.00000 | 0.00 | 0.99999 | 0.50 | 0 |\n",
       "\n"
      ],
      "text/plain": [
       "  clu    HG00096 HG00097 HG00099 HG00100 HG00101 HG00102 HG00103 HG00104\n",
       "1 clu_8  0       0.00000 0.00000 0.00    0.0     0       0.000   0.00   \n",
       "2 clu_9  0       0.00000 0.00000 0.00    0.0     0       0.000   0.00   \n",
       "3 clu_10 0       0.50000 0.14286 0.25    0.0     1       0.000   0.25   \n",
       "4 clu_11 0       0.00000 0.00000 0.00    0.0     0       0.000   0.00   \n",
       "5 clu_12 0       0.30769 0.99999 0.00    0.2     0       0.875   0.25   \n",
       "  HG00105 ⋯ NA20810 NA20811 NA20812 NA20813 NA20814 NA20815 NA20816 NA20819\n",
       "1 0.0     ⋯ 0.00000 1       0.00000 0.00000 0.0     0.00000 0.00    0.00000\n",
       "2 0.0     ⋯ 0.00000 0       0.00000 0.00000 0.0     0.00000 0.00    0.00000\n",
       "3 0.0     ⋯ 0.20000 0       0.18182 0.00000 0.4     0.33333 0.75    0.25000\n",
       "4 0.0     ⋯ 0.00000 0       0.00000 0.00000 0.0     0.00000 0.00    0.00000\n",
       "5 0.5     ⋯ 0.99999 0       0.00000 0.33333 0.0     1.00000 0.00    0.99999\n",
       "  NA20826 NA20828\n",
       "1 0.00    0      \n",
       "2 0.00    0      \n",
       "3 0.25    0      \n",
       "4 0.00    0      \n",
       "5 0.50    0      "
      ]
     },
     "metadata": {},
     "output_type": "display_data"
    }
   ],
   "source": [
    "unprod_by_clu[1:2]\n",
    "total_by_clu[1:5]\n",
    "unprod_ratio_by_clu[1:5]"
   ]
  },
  {
   "cell_type": "markdown",
   "id": "66076256",
   "metadata": {},
   "source": [
    "Bring together longest protein coding intron length and percent unproductive reads per cluster"
   ]
  },
  {
   "cell_type": "code",
   "execution_count": 101,
   "id": "7e08a4f4",
   "metadata": {
    "execution": {
     "iopub.execute_input": "2024-02-12T05:46:31.025773Z",
     "iopub.status.busy": "2024-02-12T05:46:31.024454Z",
     "iopub.status.idle": "2024-02-12T05:46:31.037040Z",
     "shell.execute_reply": "2024-02-12T05:46:31.035683Z"
    },
    "vscode": {
     "languageId": "r"
    }
   },
   "outputs": [
    {
     "data": {
      "text/html": [
       "FALSE"
      ],
      "text/latex": [
       "FALSE"
      ],
      "text/markdown": [
       "FALSE"
      ],
      "text/plain": [
       "[1] FALSE"
      ]
     },
     "metadata": {},
     "output_type": "display_data"
    }
   ],
   "source": [
    "str_detect('IN,NE,PR', '(PR\\\\,UP)')"
   ]
  },
  {
   "cell_type": "code",
   "execution_count": 102,
   "id": "155e23cf",
   "metadata": {
    "execution": {
     "iopub.execute_input": "2024-02-12T05:46:31.813607Z",
     "iopub.status.busy": "2024-02-12T05:46:31.812321Z",
     "iopub.status.idle": "2024-02-12T05:46:31.828807Z",
     "shell.execute_reply": "2024-02-12T05:46:31.827334Z"
    },
    "vscode": {
     "languageId": "r"
    }
   },
   "outputs": [
    {
     "data": {
      "text/html": [
       "<style>\n",
       ".list-inline {list-style: none; margin:0; padding: 0}\n",
       ".list-inline>li {display: inline-block}\n",
       ".list-inline>li:not(:last-child)::after {content: \"\\00b7\"; padding: 0 .5ex}\n",
       "</style>\n",
       "<ol class=list-inline><li>'PR,UP'</li><li>'PR'</li><li>'NE,PR'</li><li>'NE,PR,UP'</li><li>'IN,PR,UP'</li><li>'IN,NE,PR'</li><li>'IN,NE,PR,UP'</li><li>'IN,PR'</li></ol>\n"
      ],
      "text/latex": [
       "\\begin{enumerate*}\n",
       "\\item 'PR,UP'\n",
       "\\item 'PR'\n",
       "\\item 'NE,PR'\n",
       "\\item 'NE,PR,UP'\n",
       "\\item 'IN,PR,UP'\n",
       "\\item 'IN,NE,PR'\n",
       "\\item 'IN,NE,PR,UP'\n",
       "\\item 'IN,PR'\n",
       "\\end{enumerate*}\n"
      ],
      "text/markdown": [
       "1. 'PR,UP'\n",
       "2. 'PR'\n",
       "3. 'NE,PR'\n",
       "4. 'NE,PR,UP'\n",
       "5. 'IN,PR,UP'\n",
       "6. 'IN,NE,PR'\n",
       "7. 'IN,NE,PR,UP'\n",
       "8. 'IN,PR'\n",
       "\n",
       "\n"
      ],
      "text/plain": [
       "[1] \"PR,UP\"       \"PR\"          \"NE,PR\"       \"NE,PR,UP\"    \"IN,PR,UP\"   \n",
       "[6] \"IN,NE,PR\"    \"IN,NE,PR,UP\" \"IN,PR\"      "
      ]
     },
     "metadata": {},
     "output_type": "display_data"
    }
   ],
   "source": [
    "dt$clu_type %>% unique"
   ]
  },
  {
   "cell_type": "code",
   "execution_count": 104,
   "id": "d32157b1",
   "metadata": {
    "vscode": {
     "languageId": "r"
    }
   },
   "outputs": [
    {
     "data": {
      "text/html": [
       "<table class=\"dataframe\">\n",
       "<caption>A data.table: 3 × 8</caption>\n",
       "<thead>\n",
       "\t<tr><th scope=col>clu</th><th scope=col>clu_type</th><th scope=col>intron_type</th><th scope=col>chrom</th><th scope=col>meanReads</th><th scope=col>rk</th><th scope=col>intron_length</th><th scope=col>HG00096</th></tr>\n",
       "\t<tr><th scope=col>&lt;chr&gt;</th><th scope=col>&lt;chr&gt;</th><th scope=col>&lt;chr&gt;</th><th scope=col>&lt;chr&gt;</th><th scope=col>&lt;dbl&gt;</th><th scope=col>&lt;int&gt;</th><th scope=col>&lt;int&gt;</th><th scope=col>&lt;int&gt;</th></tr>\n",
       "</thead>\n",
       "<tbody>\n",
       "\t<tr><td>clu_8</td><td>PR,UP</td><td>PR</td><td>chr1:960800:961292:clu_8_+:PR</td><td>0.1742627</td><td> 1</td><td>492</td><td> 1</td></tr>\n",
       "\t<tr><td>clu_8</td><td>PR,UP</td><td>UP</td><td>chr1:960800:961628:clu_8_+:UP</td><td>0.1983914</td><td>NA</td><td>828</td><td> 0</td></tr>\n",
       "\t<tr><td>clu_9</td><td>PR   </td><td>PR</td><td>chr1:961750:961825:clu_9_+:PR</td><td>7.4932976</td><td> 1</td><td> 75</td><td>11</td></tr>\n",
       "</tbody>\n",
       "</table>\n"
      ],
      "text/latex": [
       "A data.table: 3 × 8\n",
       "\\begin{tabular}{llllllll}\n",
       " clu & clu\\_type & intron\\_type & chrom & meanReads & rk & intron\\_length & HG00096\\\\\n",
       " <chr> & <chr> & <chr> & <chr> & <dbl> & <int> & <int> & <int>\\\\\n",
       "\\hline\n",
       "\t clu\\_8 & PR,UP & PR & chr1:960800:961292:clu\\_8\\_+:PR & 0.1742627 &  1 & 492 &  1\\\\\n",
       "\t clu\\_8 & PR,UP & UP & chr1:960800:961628:clu\\_8\\_+:UP & 0.1983914 & NA & 828 &  0\\\\\n",
       "\t clu\\_9 & PR    & PR & chr1:961750:961825:clu\\_9\\_+:PR & 7.4932976 &  1 &  75 & 11\\\\\n",
       "\\end{tabular}\n"
      ],
      "text/markdown": [
       "\n",
       "A data.table: 3 × 8\n",
       "\n",
       "| clu &lt;chr&gt; | clu_type &lt;chr&gt; | intron_type &lt;chr&gt; | chrom &lt;chr&gt; | meanReads &lt;dbl&gt; | rk &lt;int&gt; | intron_length &lt;int&gt; | HG00096 &lt;int&gt; |\n",
       "|---|---|---|---|---|---|---|---|\n",
       "| clu_8 | PR,UP | PR | chr1:960800:961292:clu_8_+:PR | 0.1742627 |  1 | 492 |  1 |\n",
       "| clu_8 | PR,UP | UP | chr1:960800:961628:clu_8_+:UP | 0.1983914 | NA | 828 |  0 |\n",
       "| clu_9 | PR    | PR | chr1:961750:961825:clu_9_+:PR | 7.4932976 |  1 |  75 | 11 |\n",
       "\n"
      ],
      "text/plain": [
       "  clu   clu_type intron_type chrom                         meanReads rk\n",
       "1 clu_8 PR,UP    PR          chr1:960800:961292:clu_8_+:PR 0.1742627  1\n",
       "2 clu_8 PR,UP    UP          chr1:960800:961628:clu_8_+:UP 0.1983914 NA\n",
       "3 clu_9 PR       PR          chr1:961750:961825:clu_9_+:PR 7.4932976  1\n",
       "  intron_length HG00096\n",
       "1 492            1     \n",
       "2 828            0     \n",
       "3  75           11     "
      ]
     },
     "metadata": {},
     "output_type": "display_data"
    }
   ],
   "source": [
    "dt[1:3, 1:8]"
   ]
  },
  {
   "cell_type": "code",
   "execution_count": 105,
   "id": "d2b98ba5",
   "metadata": {
    "execution": {
     "iopub.execute_input": "2024-02-12T05:46:32.530517Z",
     "iopub.status.busy": "2024-02-12T05:46:32.529128Z",
     "iopub.status.idle": "2024-02-12T05:46:32.683609Z",
     "shell.execute_reply": "2024-02-12T05:46:32.681955Z"
    },
    "vscode": {
     "languageId": "r"
    }
   },
   "outputs": [],
   "source": [
    "unprod_ratio_by_clu_means <- inner_join(unprod_ratio_by_clu, \n",
    "    dt[rk == 1 & str_detect(clu_type, '(PR\\\\,UP)'), .(clu, clu_type, intron_length)], \n",
    "    by = 'clu') %>%\n",
    "    .[, .(clu, intron_length, clu_type, meanUnprod = rowMeans(.SD)), .SDcols = datcols]\n"
   ]
  },
  {
   "cell_type": "code",
   "execution_count": 106,
   "id": "82996f21",
   "metadata": {
    "execution": {
     "iopub.execute_input": "2024-02-12T05:46:33.730103Z",
     "iopub.status.busy": "2024-02-12T05:46:33.728805Z",
     "iopub.status.idle": "2024-02-12T05:46:33.752348Z",
     "shell.execute_reply": "2024-02-12T05:46:33.750972Z"
    },
    "vscode": {
     "languageId": "r"
    }
   },
   "outputs": [
    {
     "data": {
      "text/html": [
       "<table class=\"dataframe\">\n",
       "<caption>A data.table: 5 × 4</caption>\n",
       "<thead>\n",
       "\t<tr><th scope=col>clu</th><th scope=col>intron_length</th><th scope=col>clu_type</th><th scope=col>meanUnprod</th></tr>\n",
       "\t<tr><th scope=col>&lt;chr&gt;</th><th scope=col>&lt;int&gt;</th><th scope=col>&lt;chr&gt;</th><th scope=col>&lt;dbl&gt;</th></tr>\n",
       "</thead>\n",
       "<tbody>\n",
       "\t<tr><td>clu_8 </td><td>492</td><td>PR,UP</td><td>0.1275365</td></tr>\n",
       "\t<tr><td>clu_10</td><td>307</td><td>PR,UP</td><td>0.2366898</td></tr>\n",
       "\t<tr><td>clu_12</td><td>191</td><td>PR,UP</td><td>0.2889632</td></tr>\n",
       "\t<tr><td>clu_14</td><td>168</td><td>PR,UP</td><td>0.5067805</td></tr>\n",
       "\t<tr><td>clu_15</td><td>432</td><td>PR,UP</td><td>0.0149981</td></tr>\n",
       "</tbody>\n",
       "</table>\n"
      ],
      "text/latex": [
       "A data.table: 5 × 4\n",
       "\\begin{tabular}{llll}\n",
       " clu & intron\\_length & clu\\_type & meanUnprod\\\\\n",
       " <chr> & <int> & <chr> & <dbl>\\\\\n",
       "\\hline\n",
       "\t clu\\_8  & 492 & PR,UP & 0.1275365\\\\\n",
       "\t clu\\_10 & 307 & PR,UP & 0.2366898\\\\\n",
       "\t clu\\_12 & 191 & PR,UP & 0.2889632\\\\\n",
       "\t clu\\_14 & 168 & PR,UP & 0.5067805\\\\\n",
       "\t clu\\_15 & 432 & PR,UP & 0.0149981\\\\\n",
       "\\end{tabular}\n"
      ],
      "text/markdown": [
       "\n",
       "A data.table: 5 × 4\n",
       "\n",
       "| clu &lt;chr&gt; | intron_length &lt;int&gt; | clu_type &lt;chr&gt; | meanUnprod &lt;dbl&gt; |\n",
       "|---|---|---|---|\n",
       "| clu_8  | 492 | PR,UP | 0.1275365 |\n",
       "| clu_10 | 307 | PR,UP | 0.2366898 |\n",
       "| clu_12 | 191 | PR,UP | 0.2889632 |\n",
       "| clu_14 | 168 | PR,UP | 0.5067805 |\n",
       "| clu_15 | 432 | PR,UP | 0.0149981 |\n",
       "\n"
      ],
      "text/plain": [
       "  clu    intron_length clu_type meanUnprod\n",
       "1 clu_8  492           PR,UP    0.1275365 \n",
       "2 clu_10 307           PR,UP    0.2366898 \n",
       "3 clu_12 191           PR,UP    0.2889632 \n",
       "4 clu_14 168           PR,UP    0.5067805 \n",
       "5 clu_15 432           PR,UP    0.0149981 "
      ]
     },
     "metadata": {},
     "output_type": "display_data"
    },
    {
     "data": {
      "text/html": [
       "<style>\n",
       ".list-inline {list-style: none; margin:0; padding: 0}\n",
       ".list-inline>li {display: inline-block}\n",
       ".list-inline>li:not(:last-child)::after {content: \"\\00b7\"; padding: 0 .5ex}\n",
       "</style>\n",
       "<ol class=list-inline><li>16841</li><li>4</li></ol>\n"
      ],
      "text/latex": [
       "\\begin{enumerate*}\n",
       "\\item 16841\n",
       "\\item 4\n",
       "\\end{enumerate*}\n"
      ],
      "text/markdown": [
       "1. 16841\n",
       "2. 4\n",
       "\n",
       "\n"
      ],
      "text/plain": [
       "[1] 16841     4"
      ]
     },
     "metadata": {},
     "output_type": "display_data"
    }
   ],
   "source": [
    "unprod_ratio_by_clu_means[1:5]\n",
    "unprod_ratio_by_clu_means %>% dim"
   ]
  },
  {
   "cell_type": "code",
   "execution_count": 107,
   "id": "e0f825fa",
   "metadata": {
    "execution": {
     "iopub.execute_input": "2024-02-12T05:46:37.014026Z",
     "iopub.status.busy": "2024-02-12T05:46:37.012702Z",
     "iopub.status.idle": "2024-02-12T05:46:37.024631Z",
     "shell.execute_reply": "2024-02-12T05:46:37.023213Z"
    },
    "vscode": {
     "languageId": "r"
    }
   },
   "outputs": [],
   "source": [
    "intron_length_breaks = c(0, 1000, 5000, 20000, 50000, Inf)\n",
    "intron_length_labels = c('<1kb', '1-5kb', '5-20kb', '20-50kb', '>50kb')"
   ]
  },
  {
   "cell_type": "code",
   "execution_count": 108,
   "id": "ab571b0f",
   "metadata": {
    "execution": {
     "iopub.execute_input": "2024-02-12T05:46:37.574504Z",
     "iopub.status.busy": "2024-02-12T05:46:37.573250Z",
     "iopub.status.idle": "2024-02-12T05:46:37.585287Z",
     "shell.execute_reply": "2024-02-12T05:46:37.583914Z"
    },
    "vscode": {
     "languageId": "r"
    }
   },
   "outputs": [],
   "source": [
    "unprod_ratio_by_clu_means[, intron_length_bin := cut(intron_length, breaks = intron_length_breaks, labels = intron_length_labels, right = F)]"
   ]
  },
  {
   "cell_type": "code",
   "execution_count": 109,
   "id": "9128210e-89ad-41ff-a977-db34099b76a8",
   "metadata": {
    "execution": {
     "iopub.execute_input": "2024-02-12T05:47:12.185606Z",
     "iopub.status.busy": "2024-02-12T05:47:12.184331Z",
     "iopub.status.idle": "2024-02-12T05:47:12.254389Z",
     "shell.execute_reply": "2024-02-12T05:47:12.252810Z"
    },
    "vscode": {
     "languageId": "r"
    }
   },
   "outputs": [],
   "source": [
    "# these clusters have and only have 1 appris1 intron\n",
    "app1_clusters <- introns[Intron_coord %in% app1_introns$Intron_coord & intron_type == 'PR'\n",
    "       ][, .N, by = .(clu)][N == 1, clu]"
   ]
  },
  {
   "cell_type": "code",
   "execution_count": 110,
   "id": "194c34cf",
   "metadata": {
    "execution": {
     "iopub.execute_input": "2024-02-12T05:47:14.429903Z",
     "iopub.status.busy": "2024-02-12T05:47:14.428606Z",
     "iopub.status.idle": "2024-02-12T05:47:14.449970Z",
     "shell.execute_reply": "2024-02-12T05:47:14.448625Z"
    },
    "vscode": {
     "languageId": "r"
    }
   },
   "outputs": [
    {
     "name": "stderr",
     "output_type": "stream",
     "text": [
      "Warning message in cor.test.default(meanUnprod, intron_length, method = \"spearman\"):\n",
      "“Cannot compute exact p-value with ties”\n"
     ]
    },
    {
     "data": {
      "text/plain": [
       "\n",
       "\tSpearman's rank correlation rho\n",
       "\n",
       "data:  meanUnprod and intron_length\n",
       "S = 6.8192e+11, p-value < 2.2e-16\n",
       "alternative hypothesis: true rho is not equal to 0\n",
       "sample estimates:\n",
       "      rho \n",
       "0.1433922 \n"
      ]
     },
     "metadata": {},
     "output_type": "display_data"
    }
   ],
   "source": [
    "unprod_ratio_by_clu_means %$% \n",
    "    cor.test(meanUnprod, intron_length, method = 'spearman')"
   ]
  },
  {
   "cell_type": "code",
   "execution_count": 111,
   "id": "b9005a5b-1383-4f56-9343-4680bfb4cdd3",
   "metadata": {
    "execution": {
     "iopub.execute_input": "2024-02-12T05:47:15.118978Z",
     "iopub.status.busy": "2024-02-12T05:47:15.117716Z",
     "iopub.status.idle": "2024-02-12T05:47:15.299754Z",
     "shell.execute_reply": "2024-02-12T05:47:15.298295Z"
    },
    "vscode": {
     "languageId": "r"
    }
   },
   "outputs": [
    {
     "name": "stderr",
     "output_type": "stream",
     "text": [
      "Warning message in cor.test.default(meanUnprod, intron_length, method = \"spearman\"):\n",
      "“Cannot compute exact p-value with ties”\n"
     ]
    },
    {
     "data": {
      "text/plain": [
       "\n",
       "\tSpearman's rank correlation rho\n",
       "\n",
       "data:  meanUnprod and intron_length\n",
       "S = 4.3067e+10, p-value < 2.2e-16\n",
       "alternative hypothesis: true rho is not equal to 0\n",
       "sample estimates:\n",
       "      rho \n",
       "0.1749178 \n"
      ]
     },
     "metadata": {},
     "output_type": "display_data"
    }
   ],
   "source": [
    "unprod_ratio_by_clu_means[clu %in% app1_clusters] %$% \n",
    "    cor.test(meanUnprod, intron_length, method = 'spearman')"
   ]
  },
  {
   "cell_type": "code",
   "execution_count": null,
   "id": "172f107b-7814-4e7c-bd02-054ab7a3f630",
   "metadata": {
    "vscode": {
     "languageId": "r"
    }
   },
   "outputs": [],
   "source": []
  },
  {
   "cell_type": "markdown",
   "id": "55503b0c",
   "metadata": {},
   "source": [
    "cummulative distribution of percent unproductive reads per cluster"
   ]
  },
  {
   "cell_type": "code",
   "execution_count": 112,
   "id": "f612fa70",
   "metadata": {
    "execution": {
     "iopub.execute_input": "2024-02-12T04:59:57.277010Z",
     "iopub.status.busy": "2024-02-12T04:59:57.275742Z",
     "iopub.status.idle": "2024-02-12T04:59:57.293083Z",
     "shell.execute_reply": "2024-02-12T04:59:57.291721Z"
    },
    "vscode": {
     "languageId": "r"
    }
   },
   "outputs": [
    {
     "data": {
      "text/html": [
       "<table class=\"dataframe\">\n",
       "<caption>A data.table: 1 × 2</caption>\n",
       "<thead>\n",
       "\t<tr><th scope=col>meanUnprod</th><th scope=col>N</th></tr>\n",
       "\t<tr><th scope=col>&lt;lgl&gt;</th><th scope=col>&lt;int&gt;</th></tr>\n",
       "</thead>\n",
       "<tbody>\n",
       "\t<tr><td>FALSE</td><td>16841</td></tr>\n",
       "</tbody>\n",
       "</table>\n"
      ],
      "text/latex": [
       "A data.table: 1 × 2\n",
       "\\begin{tabular}{ll}\n",
       " meanUnprod & N\\\\\n",
       " <lgl> & <int>\\\\\n",
       "\\hline\n",
       "\t FALSE & 16841\\\\\n",
       "\\end{tabular}\n"
      ],
      "text/markdown": [
       "\n",
       "A data.table: 1 × 2\n",
       "\n",
       "| meanUnprod &lt;lgl&gt; | N &lt;int&gt; |\n",
       "|---|---|\n",
       "| FALSE | 16841 |\n",
       "\n"
      ],
      "text/plain": [
       "  meanUnprod N    \n",
       "1 FALSE      16841"
      ]
     },
     "metadata": {},
     "output_type": "display_data"
    }
   ],
   "source": [
    "unprod_ratio_by_clu_means[, .N, by = .(meanUnprod == 0)]"
   ]
  },
  {
   "cell_type": "code",
   "execution_count": 113,
   "id": "312250ca-d5c2-45d2-84e7-a056b02ab2bb",
   "metadata": {
    "vscode": {
     "languageId": "r"
    }
   },
   "outputs": [
    {
     "data": {
      "text/html": [
       "<table class=\"dataframe\">\n",
       "<caption>A data.table: 5 × 5</caption>\n",
       "<thead>\n",
       "\t<tr><th scope=col>clu</th><th scope=col>intron_length</th><th scope=col>clu_type</th><th scope=col>meanUnprod</th><th scope=col>intron_length_bin</th></tr>\n",
       "\t<tr><th scope=col>&lt;chr&gt;</th><th scope=col>&lt;int&gt;</th><th scope=col>&lt;chr&gt;</th><th scope=col>&lt;dbl&gt;</th><th scope=col>&lt;fct&gt;</th></tr>\n",
       "</thead>\n",
       "<tbody>\n",
       "\t<tr><td>clu_8 </td><td>492</td><td>PR,UP</td><td>0.1275365</td><td>&lt;1kb</td></tr>\n",
       "\t<tr><td>clu_10</td><td>307</td><td>PR,UP</td><td>0.2366898</td><td>&lt;1kb</td></tr>\n",
       "\t<tr><td>clu_12</td><td>191</td><td>PR,UP</td><td>0.2889632</td><td>&lt;1kb</td></tr>\n",
       "\t<tr><td>clu_14</td><td>168</td><td>PR,UP</td><td>0.5067805</td><td>&lt;1kb</td></tr>\n",
       "\t<tr><td>clu_15</td><td>432</td><td>PR,UP</td><td>0.0149981</td><td>&lt;1kb</td></tr>\n",
       "</tbody>\n",
       "</table>\n"
      ],
      "text/latex": [
       "A data.table: 5 × 5\n",
       "\\begin{tabular}{lllll}\n",
       " clu & intron\\_length & clu\\_type & meanUnprod & intron\\_length\\_bin\\\\\n",
       " <chr> & <int> & <chr> & <dbl> & <fct>\\\\\n",
       "\\hline\n",
       "\t clu\\_8  & 492 & PR,UP & 0.1275365 & <1kb\\\\\n",
       "\t clu\\_10 & 307 & PR,UP & 0.2366898 & <1kb\\\\\n",
       "\t clu\\_12 & 191 & PR,UP & 0.2889632 & <1kb\\\\\n",
       "\t clu\\_14 & 168 & PR,UP & 0.5067805 & <1kb\\\\\n",
       "\t clu\\_15 & 432 & PR,UP & 0.0149981 & <1kb\\\\\n",
       "\\end{tabular}\n"
      ],
      "text/markdown": [
       "\n",
       "A data.table: 5 × 5\n",
       "\n",
       "| clu &lt;chr&gt; | intron_length &lt;int&gt; | clu_type &lt;chr&gt; | meanUnprod &lt;dbl&gt; | intron_length_bin &lt;fct&gt; |\n",
       "|---|---|---|---|---|\n",
       "| clu_8  | 492 | PR,UP | 0.1275365 | &lt;1kb |\n",
       "| clu_10 | 307 | PR,UP | 0.2366898 | &lt;1kb |\n",
       "| clu_12 | 191 | PR,UP | 0.2889632 | &lt;1kb |\n",
       "| clu_14 | 168 | PR,UP | 0.5067805 | &lt;1kb |\n",
       "| clu_15 | 432 | PR,UP | 0.0149981 | &lt;1kb |\n",
       "\n"
      ],
      "text/plain": [
       "  clu    intron_length clu_type meanUnprod intron_length_bin\n",
       "1 clu_8  492           PR,UP    0.1275365  <1kb             \n",
       "2 clu_10 307           PR,UP    0.2366898  <1kb             \n",
       "3 clu_12 191           PR,UP    0.2889632  <1kb             \n",
       "4 clu_14 168           PR,UP    0.5067805  <1kb             \n",
       "5 clu_15 432           PR,UP    0.0149981  <1kb             "
      ]
     },
     "metadata": {},
     "output_type": "display_data"
    }
   ],
   "source": [
    "unprod_ratio_by_clu_means[1:5]"
   ]
  },
  {
   "cell_type": "code",
   "execution_count": 122,
   "id": "3e9cb69b",
   "metadata": {
    "vscode": {
     "languageId": "r"
    }
   },
   "outputs": [
    {
     "data": {
      "text/plain": [
       "     Min.   1st Qu.    Median      Mean   3rd Qu.      Max. \n",
       "0.0000107 0.0076504 0.0187047 0.0518337 0.0502399 0.9937925 "
      ]
     },
     "metadata": {},
     "output_type": "display_data"
    }
   ],
   "source": [
    "unprod_ratio_by_clu_means$meanUnprod %>% summary"
   ]
  },
  {
   "cell_type": "code",
   "execution_count": 310,
   "id": "89770d90",
   "metadata": {
    "vscode": {
     "languageId": "r"
    }
   },
   "outputs": [],
   "source": [
    "options(repr.plot.width=10, repr.plot.height=5, repr.plot.res = 180)"
   ]
  },
  {
   "cell_type": "code",
   "execution_count": 299,
   "id": "cbfae7c8",
   "metadata": {
    "vscode": {
     "languageId": "r"
    }
   },
   "outputs": [],
   "source": [
    "theme_set(theme_cowplot(font_size = 18))"
   ]
  },
  {
   "cell_type": "code",
   "execution_count": 300,
   "id": "abf31576",
   "metadata": {
    "vscode": {
     "languageId": "r"
    }
   },
   "outputs": [],
   "source": [
    "\n",
    "minPSItoPlot <- 0.005"
   ]
  },
  {
   "cell_type": "code",
   "execution_count": 301,
   "id": "eec22c84",
   "metadata": {
    "execution": {
     "iopub.execute_input": "2024-02-12T05:47:21.054452Z",
     "iopub.status.busy": "2024-02-12T05:47:21.053136Z",
     "iopub.status.idle": "2024-02-12T05:47:21.098602Z",
     "shell.execute_reply": "2024-02-12T05:47:21.097095Z"
    },
    "vscode": {
     "languageId": "r"
    }
   },
   "outputs": [],
   "source": [
    "p1  <- unprod_ratio_by_clu_means %>% \n",
    "    ggplot() + stat_ecdf(aes(x = if_else(meanUnprod < 1e-7, 0, meanUnprod), color = intron_length_bin)) +\n",
    "        scale_color_brewer(type = 'qual', palette = 'Blues') +\n",
    "        scale_x_log10(breaks = c(0, .01, .1, 1), \n",
    "                      labels = c(\"0%\", \"1%\", \"10%\", \"100%\"), \n",
    "                      n.breaks = 5, expand = c(.3, 0)) + \n",
    "        coord_cartesian(xlim = c(.005, 1)) +\n",
    "        labs(x = \"Unproductive splicing\", title = 'Unproductive splicing by intron length', \n",
    "             y = \"Cumulative distribution\", color = \"Intron length\",\n",
    "             caption = glue('Spearman rho=0.14 ***, N(clu)={uniqueN(unprod_ratio_by_clu_means$clu)}')) +\n",
    "        theme(legend.position = 'bottom')"
   ]
  },
  {
   "cell_type": "code",
   "execution_count": 313,
   "id": "f1b01f01",
   "metadata": {
    "vscode": {
     "languageId": "r"
    }
   },
   "outputs": [
    {
     "data": {
      "image/png": "[encoded data removed]",
      "text/plain": [
       "plot without title"
      ]
     },
     "metadata": {
      "image/png": {
       "height": 450,
       "width": 900
      }
     },
     "output_type": "display_data"
    }
   ],
   "source": [
    "p1 + plot_spacer() + plot_layout(widths = c(2,4))"
   ]
  },
  {
   "cell_type": "markdown",
   "id": "8cb236ca-bb8f-4635-bb13-0d86260af2f7",
   "metadata": {
    "vscode": {
     "languageId": "r"
    }
   },
   "source": [
    "Next, try a version where clusters have and just have 1 appris1 intron"
   ]
  },
  {
   "cell_type": "code",
   "execution_count": 318,
   "id": "dd9a42a7-9ba6-4f6a-bbde-fd9b41ae2ab4",
   "metadata": {
    "execution": {
     "iopub.execute_input": "2024-02-12T05:47:21.607432Z",
     "iopub.status.busy": "2024-02-12T05:47:21.606135Z",
     "iopub.status.idle": "2024-02-12T05:47:21.935072Z",
     "shell.execute_reply": "2024-02-12T05:47:21.933482Z"
    },
    "vscode": {
     "languageId": "r"
    }
   },
   "outputs": [],
   "source": [
    "\n",
    "p2 <- unprod_ratio_by_clu_means[clu %in% app1_clusters] %>% \n",
    "    ggplot() + stat_ecdf(aes(x = meanUnprod, color = intron_length_bin)) +\n",
    "        scale_color_brewer(type = 'qual', palette = 'Blues') +\n",
    "        scale_x_log10(breaks = c(0, .01, .1, 1), labels = c(\"0%\", \"1%\", \"10%\", \"100%\"), \n",
    "                      n.breaks = 5, expand = c(.2, 0)) +\n",
    "        coord_cartesian(xlim = c(.005, 1)) +\n",
    "        labs(x = \"Unproductive splicing\", title = \"Clusters with Appris_principle_1 PR and UP introns\",\n",
    "             y = \"Cumulative distribution\",\n",
    "             caption = glue('Spearman rho=0.17 ***, N(clu)={uniqueN(unprod_ratio_by_clu_means[clu %in% app1_clusters])}')) + \n",
    "        theme(legend.position = 'bottom')"
   ]
  },
  {
   "cell_type": "code",
   "execution_count": 319,
   "id": "065bbdd1",
   "metadata": {
    "vscode": {
     "languageId": "r"
    }
   },
   "outputs": [
    {
     "data": {
      "image/png": "[encoded data removed]",
      "text/plain": [
       "plot without title"
      ]
     },
     "metadata": {
      "image/png": {
       "height": 450,
       "width": 900
      }
     },
     "output_type": "display_data"
    }
   ],
   "source": [
    "p2 + plot_spacer() + plot_layout(widths = c(1, 2))"
   ]
  },
  {
   "cell_type": "markdown",
   "id": "bbdc4861",
   "metadata": {
    "vscode": {
     "languageId": "r"
    }
   },
   "source": [
    "## Count the number of reads per gene\n",
    "\n",
    "Since we have gene_name now, just need to bring back the data columns from cts.\n",
    "\n",
    "Do not consider intergenic junctions."
   ]
  },
  {
   "cell_type": "code",
   "execution_count": 320,
   "id": "0c7e396e",
   "metadata": {
    "execution": {
     "iopub.execute_input": "2024-02-12T05:47:28.919270Z",
     "iopub.status.busy": "2024-02-12T05:47:28.917957Z",
     "iopub.status.idle": "2024-02-12T05:47:29.946189Z",
     "shell.execute_reply": "2024-02-12T05:47:29.944542Z"
    },
    "vscode": {
     "languageId": "r"
    }
   },
   "outputs": [],
   "source": [
    "counts_by_gene <- left_join(introns, cts[, c('chrom', datcols), with = FALSE], by = c('chrom' = 'chrom')) %>% \n",
    "    .[Gene_name != 'NA']"
   ]
  },
  {
   "cell_type": "markdown",
   "id": "cd73497a",
   "metadata": {},
   "source": [
    "Now, sum up junction read counts per gene."
   ]
  },
  {
   "cell_type": "code",
   "execution_count": 321,
   "id": "b757d385",
   "metadata": {
    "execution": {
     "iopub.execute_input": "2024-02-12T05:47:31.282726Z",
     "iopub.status.busy": "2024-02-12T05:47:31.281453Z",
     "iopub.status.idle": "2024-02-12T05:47:31.543073Z",
     "shell.execute_reply": "2024-02-12T05:47:31.541469Z"
    },
    "vscode": {
     "languageId": "r"
    }
   },
   "outputs": [],
   "source": [
    "# sum total reads by gene\n",
    "total_by_gene <- counts_by_gene[, c(\"Gene_name\", datcols), with = FALSE\n",
    "    ][, lapply(.SD, sum), by = Gene_name, .SDcols = datcols]"
   ]
  },
  {
   "cell_type": "code",
   "execution_count": 322,
   "id": "a43dd8f7",
   "metadata": {
    "execution": {
     "iopub.execute_input": "2024-02-12T05:47:33.269955Z",
     "iopub.status.busy": "2024-02-12T05:47:33.268684Z",
     "iopub.status.idle": "2024-02-12T05:47:33.362319Z",
     "shell.execute_reply": "2024-02-12T05:47:33.360685Z"
    },
    "vscode": {
     "languageId": "r"
    }
   },
   "outputs": [],
   "source": [
    "# sum unproductive reads by gene\n",
    "unprod_by_gene <- counts_by_gene[intron_type == 'UP', c(\"Gene_name\", datcols), with = FALSE\n",
    "    ][, lapply(.SD, sum), by = Gene_name, .SDcols = datcols]"
   ]
  },
  {
   "cell_type": "code",
   "execution_count": 323,
   "id": "01f4fd47-5636-4f51-8170-ac3a6b90dca4",
   "metadata": {
    "execution": {
     "iopub.execute_input": "2024-02-12T05:47:38.027864Z",
     "iopub.status.busy": "2024-02-12T05:47:38.026604Z",
     "iopub.status.idle": "2024-02-12T05:47:38.036773Z",
     "shell.execute_reply": "2024-02-12T05:47:38.035439Z"
    },
    "vscode": {
     "languageId": "r"
    }
   },
   "outputs": [],
   "source": [
    "getRPKM <- function(reads, lengths) {\n",
    "    reads = as.double(reads)\n",
    "    lengths = as.double(lengths)\n",
    "    total = sum(reads)\n",
    "    rpkm = map2_dbl(reads, lengths, ~ 1e9 * as.double(.x) / (total * .y))\n",
    "    return(rpkm)\n",
    "}"
   ]
  },
  {
   "cell_type": "code",
   "execution_count": 324,
   "id": "23f22b13-40e4-4ab4-81c5-eb933fc8fd28",
   "metadata": {
    "execution": {
     "iopub.execute_input": "2024-02-12T05:47:39.486586Z",
     "iopub.status.busy": "2024-02-12T05:47:39.485361Z",
     "iopub.status.idle": "2024-02-12T05:47:39.587256Z",
     "shell.execute_reply": "2024-02-12T05:47:39.585721Z"
    },
    "vscode": {
     "languageId": "r"
    }
   },
   "outputs": [],
   "source": [
    "gene_lens <- left_join(total_by_gene[, .(Gene_name)], gtf[gene_type == 'protein_coding', .(gene_name, gene_len)], by = c(Gene_name = 'gene_name'))\n",
    "gene_lens <- gene_lens[, .(gene_len = max(gene_len)), by = 'Gene_name']"
   ]
  },
  {
   "cell_type": "code",
   "execution_count": 325,
   "id": "57c9027d-4b7a-4622-b2e9-c564758d25db",
   "metadata": {
    "execution": {
     "iopub.execute_input": "2024-02-12T05:47:40.146020Z",
     "iopub.status.busy": "2024-02-12T05:47:40.144828Z",
     "iopub.status.idle": "2024-02-12T05:47:40.163673Z",
     "shell.execute_reply": "2024-02-12T05:47:40.162344Z"
    },
    "vscode": {
     "languageId": "r"
    }
   },
   "outputs": [
    {
     "data": {
      "text/html": [
       "<style>\n",
       ".list-inline {list-style: none; margin:0; padding: 0}\n",
       ".list-inline>li {display: inline-block}\n",
       ".list-inline>li:not(:last-child)::after {content: \"\\00b7\"; padding: 0 .5ex}\n",
       "</style>\n",
       "<ol class=list-inline><li>12987</li><li>374</li></ol>\n"
      ],
      "text/latex": [
       "\\begin{enumerate*}\n",
       "\\item 12987\n",
       "\\item 374\n",
       "\\end{enumerate*}\n"
      ],
      "text/markdown": [
       "1. 12987\n",
       "2. 374\n",
       "\n",
       "\n"
      ],
      "text/plain": [
       "[1] 12987   374"
      ]
     },
     "metadata": {},
     "output_type": "display_data"
    },
    {
     "data": {
      "text/html": [
       "<style>\n",
       ".list-inline {list-style: none; margin:0; padding: 0}\n",
       ".list-inline>li {display: inline-block}\n",
       ".list-inline>li:not(:last-child)::after {content: \"\\00b7\"; padding: 0 .5ex}\n",
       "</style>\n",
       "<ol class=list-inline><li>12987</li><li>2</li></ol>\n"
      ],
      "text/latex": [
       "\\begin{enumerate*}\n",
       "\\item 12987\n",
       "\\item 2\n",
       "\\end{enumerate*}\n"
      ],
      "text/markdown": [
       "1. 12987\n",
       "2. 2\n",
       "\n",
       "\n"
      ],
      "text/plain": [
       "[1] 12987     2"
      ]
     },
     "metadata": {},
     "output_type": "display_data"
    },
    {
     "data": {
      "text/html": [
       "TRUE"
      ],
      "text/latex": [
       "TRUE"
      ],
      "text/markdown": [
       "TRUE"
      ],
      "text/plain": [
       "[1] TRUE"
      ]
     },
     "metadata": {},
     "output_type": "display_data"
    }
   ],
   "source": [
    "dim(total_by_gene)\n",
    "dim(gene_lens)\n",
    "all(total_by_gene$Gene_name == gene_lens$gene_lens$Gene_name)"
   ]
  },
  {
   "cell_type": "code",
   "execution_count": 326,
   "id": "558d2977-d381-4e5b-87db-06b1d54bebc7",
   "metadata": {
    "execution": {
     "iopub.execute_input": "2024-02-12T05:47:42.660604Z",
     "iopub.status.busy": "2024-02-12T05:47:42.659349Z",
     "iopub.status.idle": "2024-02-12T05:47:42.676230Z",
     "shell.execute_reply": "2024-02-12T05:47:42.674833Z"
    },
    "vscode": {
     "languageId": "r"
    }
   },
   "outputs": [
    {
     "data": {
      "text/html": [
       "<table class=\"dataframe\">\n",
       "<caption>A data.table: 2 × 2</caption>\n",
       "<thead>\n",
       "\t<tr><th scope=col>Gene_name</th><th scope=col>gene_len</th></tr>\n",
       "\t<tr><th scope=col>&lt;chr&gt;</th><th scope=col>&lt;int&gt;</th></tr>\n",
       "</thead>\n",
       "<tbody>\n",
       "\t<tr><td>KLHL17 </td><td>5135</td></tr>\n",
       "\t<tr><td>PLEKHN1</td><td>9383</td></tr>\n",
       "</tbody>\n",
       "</table>\n"
      ],
      "text/latex": [
       "A data.table: 2 × 2\n",
       "\\begin{tabular}{ll}\n",
       " Gene\\_name & gene\\_len\\\\\n",
       " <chr> & <int>\\\\\n",
       "\\hline\n",
       "\t KLHL17  & 5135\\\\\n",
       "\t PLEKHN1 & 9383\\\\\n",
       "\\end{tabular}\n"
      ],
      "text/markdown": [
       "\n",
       "A data.table: 2 × 2\n",
       "\n",
       "| Gene_name &lt;chr&gt; | gene_len &lt;int&gt; |\n",
       "|---|---|\n",
       "| KLHL17  | 5135 |\n",
       "| PLEKHN1 | 9383 |\n",
       "\n"
      ],
      "text/plain": [
       "  Gene_name gene_len\n",
       "1 KLHL17    5135    \n",
       "2 PLEKHN1   9383    "
      ]
     },
     "metadata": {},
     "output_type": "display_data"
    }
   ],
   "source": [
    "gene_lens[1:2]"
   ]
  },
  {
   "cell_type": "code",
   "execution_count": 327,
   "id": "7d9dce1d-d5f1-4599-b3c9-b4031dc4c44d",
   "metadata": {
    "execution": {
     "iopub.execute_input": "2024-02-12T05:52:03.777997Z",
     "iopub.status.busy": "2024-02-12T05:52:03.776723Z",
     "iopub.status.idle": "2024-02-12T05:52:15.027674Z",
     "shell.execute_reply": "2024-02-12T05:52:15.026025Z"
    },
    "vscode": {
     "languageId": "r"
    }
   },
   "outputs": [],
   "source": [
    "# compute rpkm for totals per gene\n",
    "rpkm_by_gene <- total_by_gene[, lapply(.SD, getRPKM, gene_lens$gene_len), .SDcols = datcols]"
   ]
  },
  {
   "cell_type": "code",
   "execution_count": 328,
   "id": "76dff9ea-97cc-4d20-9984-6005650232b7",
   "metadata": {
    "execution": {
     "iopub.execute_input": "2024-02-12T05:52:16.016097Z",
     "iopub.status.busy": "2024-02-12T05:52:16.014820Z",
     "iopub.status.idle": "2024-02-12T05:52:16.103778Z",
     "shell.execute_reply": "2024-02-12T05:52:16.102252Z"
    },
    "vscode": {
     "languageId": "r"
    }
   },
   "outputs": [],
   "source": [
    "rpkm_by_gene  <- cbind(total_by_gene[, .(Gene_name)], rpkm_by_gene)"
   ]
  },
  {
   "cell_type": "code",
   "execution_count": 329,
   "id": "bc7a2788",
   "metadata": {
    "vscode": {
     "languageId": "r"
    }
   },
   "outputs": [],
   "source": [
    "# unprod_ratio_by_gene <- map_dfr(total_by_gene$Gene_name,\n",
    "#     \\(x) {\n",
    "#         if (x %in% unprod_by_gene$Gene_name) {\n",
    "#             dt <- unprod_by_gene[Gene_name == x, ..datcols] / (total_by_gene[Gene_name == x, ..datcols] + 1e-5)\n",
    "#         } else {\n",
    "#             dt <- 0 / (total_by_gene[Gene_name == x, ..datcols] + 1e-5)\n",
    "#         }\n",
    "#         dt <- cbind(Gene_name = x, round(dt, 5))\n",
    "#     }\n",
    "# )"
   ]
  },
  {
   "cell_type": "code",
   "execution_count": 330,
   "id": "7765919c",
   "metadata": {
    "vscode": {
     "languageId": "r"
    }
   },
   "outputs": [],
   "source": [
    " # #save unprod_ratio_by_gene into RDS since it takes 15 minutes to compute\n",
    " # saveRDS(list(\"unprod_ratio_by_gene\" = unprod_ratio_by_gene,\n",
    " #              \"unprod_ratio_by_clu\" = unprod_ratio_by_clu\n",
    " #             ),\n",
    " #         '2024-01-20-Geuvadis.EUR.storedcomputes.rds')"
   ]
  },
  {
   "cell_type": "code",
   "execution_count": 331,
   "id": "cde1c4d2-7db8-4228-9abd-d2d9022a63b6",
   "metadata": {
    "execution": {
     "iopub.execute_input": "2024-02-12T05:50:09.877923Z",
     "iopub.status.busy": "2024-02-12T05:50:09.876681Z",
     "iopub.status.idle": "2024-02-12T05:50:11.325392Z",
     "shell.execute_reply": "2024-02-12T05:50:11.323804Z"
    },
    "vscode": {
     "languageId": "r"
    }
   },
   "outputs": [],
   "source": [
    "unprod_ratio_by_gene = readRDS('2024-01-20-Geuvadis.EUR.storedcomputes.rds')[['unprod_ratio_by_gene']]"
   ]
  },
  {
   "cell_type": "code",
   "execution_count": 332,
   "id": "d8383cb6",
   "metadata": {
    "execution": {
     "iopub.execute_input": "2024-02-12T05:50:11.328685Z",
     "iopub.status.busy": "2024-02-12T05:50:11.327552Z",
     "iopub.status.idle": "2024-02-12T05:50:11.346960Z",
     "shell.execute_reply": "2024-02-12T05:50:11.345618Z"
    },
    "vscode": {
     "languageId": "r"
    }
   },
   "outputs": [
    {
     "data": {
      "text/html": [
       "<table class=\"dataframe\">\n",
       "<caption>A data.table: 5 × 5</caption>\n",
       "<thead>\n",
       "\t<tr><th scope=col>Gene_name</th><th scope=col>HG00096</th><th scope=col>HG00097</th><th scope=col>HG00099</th><th scope=col>HG00100</th></tr>\n",
       "\t<tr><th scope=col>&lt;chr&gt;</th><th scope=col>&lt;dbl&gt;</th><th scope=col>&lt;dbl&gt;</th><th scope=col>&lt;dbl&gt;</th><th scope=col>&lt;dbl&gt;</th></tr>\n",
       "</thead>\n",
       "<tbody>\n",
       "\t<tr><td>KLHL17 </td><td>0.10000</td><td>0.08696</td><td>0.07692</td><td>0.06250</td></tr>\n",
       "\t<tr><td>PLEKHN1</td><td>0.00000</td><td>0.00000</td><td>0.00000</td><td>0.00000</td></tr>\n",
       "\t<tr><td>ISG15  </td><td>0.00000</td><td>0.00000</td><td>0.00000</td><td>0.00000</td></tr>\n",
       "\t<tr><td>AGRN   </td><td>0.00145</td><td>0.00432</td><td>0.00426</td><td>0.00797</td></tr>\n",
       "\t<tr><td>SCNN1D </td><td>0.00000</td><td>0.00000</td><td>0.00000</td><td>0.00000</td></tr>\n",
       "</tbody>\n",
       "</table>\n"
      ],
      "text/latex": [
       "A data.table: 5 × 5\n",
       "\\begin{tabular}{lllll}\n",
       " Gene\\_name & HG00096 & HG00097 & HG00099 & HG00100\\\\\n",
       " <chr> & <dbl> & <dbl> & <dbl> & <dbl>\\\\\n",
       "\\hline\n",
       "\t KLHL17  & 0.10000 & 0.08696 & 0.07692 & 0.06250\\\\\n",
       "\t PLEKHN1 & 0.00000 & 0.00000 & 0.00000 & 0.00000\\\\\n",
       "\t ISG15   & 0.00000 & 0.00000 & 0.00000 & 0.00000\\\\\n",
       "\t AGRN    & 0.00145 & 0.00432 & 0.00426 & 0.00797\\\\\n",
       "\t SCNN1D  & 0.00000 & 0.00000 & 0.00000 & 0.00000\\\\\n",
       "\\end{tabular}\n"
      ],
      "text/markdown": [
       "\n",
       "A data.table: 5 × 5\n",
       "\n",
       "| Gene_name &lt;chr&gt; | HG00096 &lt;dbl&gt; | HG00097 &lt;dbl&gt; | HG00099 &lt;dbl&gt; | HG00100 &lt;dbl&gt; |\n",
       "|---|---|---|---|---|\n",
       "| KLHL17  | 0.10000 | 0.08696 | 0.07692 | 0.06250 |\n",
       "| PLEKHN1 | 0.00000 | 0.00000 | 0.00000 | 0.00000 |\n",
       "| ISG15   | 0.00000 | 0.00000 | 0.00000 | 0.00000 |\n",
       "| AGRN    | 0.00145 | 0.00432 | 0.00426 | 0.00797 |\n",
       "| SCNN1D  | 0.00000 | 0.00000 | 0.00000 | 0.00000 |\n",
       "\n"
      ],
      "text/plain": [
       "  Gene_name HG00096 HG00097 HG00099 HG00100\n",
       "1 KLHL17    0.10000 0.08696 0.07692 0.06250\n",
       "2 PLEKHN1   0.00000 0.00000 0.00000 0.00000\n",
       "3 ISG15     0.00000 0.00000 0.00000 0.00000\n",
       "4 AGRN      0.00145 0.00432 0.00426 0.00797\n",
       "5 SCNN1D    0.00000 0.00000 0.00000 0.00000"
      ]
     },
     "metadata": {},
     "output_type": "display_data"
    }
   ],
   "source": [
    "unprod_ratio_by_gene[1:5,1:5]"
   ]
  },
  {
   "cell_type": "code",
   "execution_count": 333,
   "id": "82149a5a",
   "metadata": {
    "execution": {
     "iopub.execute_input": "2024-02-12T05:50:11.458458Z",
     "iopub.status.busy": "2024-02-12T05:50:11.457270Z",
     "iopub.status.idle": "2024-02-12T05:50:11.499391Z",
     "shell.execute_reply": "2024-02-12T05:50:11.497994Z"
    },
    "vscode": {
     "languageId": "r"
    }
   },
   "outputs": [
    {
     "data": {
      "text/html": [
       "<style>\n",
       ".list-inline {list-style: none; margin:0; padding: 0}\n",
       ".list-inline>li {display: inline-block}\n",
       ".list-inline>li:not(:last-child)::after {content: \"\\00b7\"; padding: 0 .5ex}\n",
       "</style>\n",
       "<ol class=list-inline><li>0.09677</li><li>0</li><li>0</li><li>0.00348</li><li>0</li></ol>\n"
      ],
      "text/latex": [
       "\\begin{enumerate*}\n",
       "\\item 0.09677\n",
       "\\item 0\n",
       "\\item 0\n",
       "\\item 0.00348\n",
       "\\item 0\n",
       "\\end{enumerate*}\n"
      ],
      "text/markdown": [
       "1. 0.09677\n",
       "2. 0\n",
       "3. 0\n",
       "4. 0.00348\n",
       "5. 0\n",
       "\n",
       "\n"
      ],
      "text/plain": [
       "[1] 0.09677 0.00000 0.00000 0.00348 0.00000"
      ]
     },
     "metadata": {},
     "output_type": "display_data"
    }
   ],
   "source": [
    "unprod_ratio_by_gene[1:5, .SD, .SDcols = datcols] %>% as.matrix %>% matrixStats::rowMedians(.)"
   ]
  },
  {
   "cell_type": "code",
   "execution_count": 334,
   "id": "d60cf2a3-1164-406a-a32b-3ae145b88151",
   "metadata": {
    "execution": {
     "iopub.execute_input": "2024-02-12T05:53:44.907596Z",
     "iopub.status.busy": "2024-02-12T05:53:44.906302Z",
     "iopub.status.idle": "2024-02-12T05:53:45.108220Z",
     "shell.execute_reply": "2024-02-12T05:53:45.106784Z"
    },
    "vscode": {
     "languageId": "r"
    }
   },
   "outputs": [
    {
     "data": {
      "text/html": [
       "<table class=\"dataframe\">\n",
       "<caption>A data.table: 5 × 374</caption>\n",
       "<thead>\n",
       "\t<tr><th scope=col>Gene_name</th><th scope=col>HG00096</th><th scope=col>HG00097</th><th scope=col>HG00099</th><th scope=col>HG00100</th><th scope=col>HG00101</th><th scope=col>HG00102</th><th scope=col>HG00103</th><th scope=col>HG00104</th><th scope=col>HG00105</th><th scope=col>⋯</th><th scope=col>NA20810</th><th scope=col>NA20811</th><th scope=col>NA20812</th><th scope=col>NA20813</th><th scope=col>NA20814</th><th scope=col>NA20815</th><th scope=col>NA20816</th><th scope=col>NA20819</th><th scope=col>NA20826</th><th scope=col>NA20828</th></tr>\n",
       "\t<tr><th scope=col>&lt;chr&gt;</th><th scope=col>&lt;dbl&gt;</th><th scope=col>&lt;dbl&gt;</th><th scope=col>&lt;dbl&gt;</th><th scope=col>&lt;dbl&gt;</th><th scope=col>&lt;dbl&gt;</th><th scope=col>&lt;dbl&gt;</th><th scope=col>&lt;dbl&gt;</th><th scope=col>&lt;dbl&gt;</th><th scope=col>&lt;dbl&gt;</th><th scope=col>⋯</th><th scope=col>&lt;dbl&gt;</th><th scope=col>&lt;dbl&gt;</th><th scope=col>&lt;dbl&gt;</th><th scope=col>&lt;dbl&gt;</th><th scope=col>&lt;dbl&gt;</th><th scope=col>&lt;dbl&gt;</th><th scope=col>&lt;dbl&gt;</th><th scope=col>&lt;dbl&gt;</th><th scope=col>&lt;dbl&gt;</th><th scope=col>&lt;dbl&gt;</th></tr>\n",
       "</thead>\n",
       "<tbody>\n",
       "\t<tr><td>KLHL17 </td><td>1.51486928</td><td>1.1961618</td><td>0.73257131</td><td>0.87405173</td><td>1.43396562</td><td>0.1293469</td><td> 1.4904921</td><td> 1.2625530</td><td> 0.52079842</td><td>⋯</td><td> 1.29898355</td><td> 1.04723734</td><td>1.2053541</td><td> 1.20372262</td><td>0.59080544</td><td>0.45238953</td><td>0.67036360</td><td> 1.6506757</td><td> 1.10868080</td><td>0.812482625</td></tr>\n",
       "\t<tr><td>PLEKHN1</td><td>0.23028804</td><td>0.1366162</td><td>0.05139892</td><td>0.06975778</td><td>0.11373349</td><td>0.0000000</td><td> 0.2063809</td><td> 0.0744103</td><td> 0.09161211</td><td>⋯</td><td> 0.05712509</td><td> 0.25471899</td><td>0.1168130</td><td> 0.12099616</td><td>0.13070703</td><td>0.04683900</td><td>0.05706827</td><td> 0.1307494</td><td> 0.04396693</td><td>0.175789641</td></tr>\n",
       "\t<tr><td>ISG15  </td><td>7.86153205</td><td>4.7504985</td><td>8.17587917</td><td>6.03507736</td><td>8.55194237</td><td>0.7103528</td><td>18.8457943</td><td>10.7243526</td><td>12.33971008</td><td>⋯</td><td>18.57516776</td><td>11.26474574</td><td>6.9226925</td><td>10.83839857</td><td>5.56769317</td><td>6.23533383</td><td>3.13928999</td><td>26.5216826</td><td>10.15193723</td><td>3.453304225</td></tr>\n",
       "\t<tr><td>AGRN   </td><td>4.95329225</td><td>3.0906045</td><td>2.51869296</td><td>1.30395226</td><td>3.25798753</td><td>0.2029602</td><td> 2.8690075</td><td> 3.0145830</td><td> 1.00689801</td><td>⋯</td><td> 1.95553314</td><td> 3.45245494</td><td>2.4555170</td><td> 2.30227812</td><td>0.89117930</td><td>1.04646365</td><td>1.18362787</td><td> 2.4289933</td><td> 3.97895686</td><td>1.014781830</td></tr>\n",
       "\t<tr><td>SCNN1D </td><td>0.09692161</td><td>0.1059655</td><td>0.04992076</td><td>0.08872238</td><td>0.07364178</td><td>0.0000000</td><td> 0.1749923</td><td> 0.1290542</td><td> 0.04119327</td><td>⋯</td><td> 0.05137245</td><td> 0.04295028</td><td>0.0444916</td><td> 0.07616808</td><td>0.01670369</td><td>0.00541571</td><td>0.01319692</td><td> 0.1154447</td><td> 0.05693667</td><td>0.008369321</td></tr>\n",
       "</tbody>\n",
       "</table>\n"
      ],
      "text/latex": [
       "A data.table: 5 × 374\n",
       "\\begin{tabular}{lllllllllllllllllllll}\n",
       " Gene\\_name & HG00096 & HG00097 & HG00099 & HG00100 & HG00101 & HG00102 & HG00103 & HG00104 & HG00105 & ⋯ & NA20810 & NA20811 & NA20812 & NA20813 & NA20814 & NA20815 & NA20816 & NA20819 & NA20826 & NA20828\\\\\n",
       " <chr> & <dbl> & <dbl> & <dbl> & <dbl> & <dbl> & <dbl> & <dbl> & <dbl> & <dbl> & ⋯ & <dbl> & <dbl> & <dbl> & <dbl> & <dbl> & <dbl> & <dbl> & <dbl> & <dbl> & <dbl>\\\\\n",
       "\\hline\n",
       "\t KLHL17  & 1.51486928 & 1.1961618 & 0.73257131 & 0.87405173 & 1.43396562 & 0.1293469 &  1.4904921 &  1.2625530 &  0.52079842 & ⋯ &  1.29898355 &  1.04723734 & 1.2053541 &  1.20372262 & 0.59080544 & 0.45238953 & 0.67036360 &  1.6506757 &  1.10868080 & 0.812482625\\\\\n",
       "\t PLEKHN1 & 0.23028804 & 0.1366162 & 0.05139892 & 0.06975778 & 0.11373349 & 0.0000000 &  0.2063809 &  0.0744103 &  0.09161211 & ⋯ &  0.05712509 &  0.25471899 & 0.1168130 &  0.12099616 & 0.13070703 & 0.04683900 & 0.05706827 &  0.1307494 &  0.04396693 & 0.175789641\\\\\n",
       "\t ISG15   & 7.86153205 & 4.7504985 & 8.17587917 & 6.03507736 & 8.55194237 & 0.7103528 & 18.8457943 & 10.7243526 & 12.33971008 & ⋯ & 18.57516776 & 11.26474574 & 6.9226925 & 10.83839857 & 5.56769317 & 6.23533383 & 3.13928999 & 26.5216826 & 10.15193723 & 3.453304225\\\\\n",
       "\t AGRN    & 4.95329225 & 3.0906045 & 2.51869296 & 1.30395226 & 3.25798753 & 0.2029602 &  2.8690075 &  3.0145830 &  1.00689801 & ⋯ &  1.95553314 &  3.45245494 & 2.4555170 &  2.30227812 & 0.89117930 & 1.04646365 & 1.18362787 &  2.4289933 &  3.97895686 & 1.014781830\\\\\n",
       "\t SCNN1D  & 0.09692161 & 0.1059655 & 0.04992076 & 0.08872238 & 0.07364178 & 0.0000000 &  0.1749923 &  0.1290542 &  0.04119327 & ⋯ &  0.05137245 &  0.04295028 & 0.0444916 &  0.07616808 & 0.01670369 & 0.00541571 & 0.01319692 &  0.1154447 &  0.05693667 & 0.008369321\\\\\n",
       "\\end{tabular}\n"
      ],
      "text/markdown": [
       "\n",
       "A data.table: 5 × 374\n",
       "\n",
       "| Gene_name &lt;chr&gt; | HG00096 &lt;dbl&gt; | HG00097 &lt;dbl&gt; | HG00099 &lt;dbl&gt; | HG00100 &lt;dbl&gt; | HG00101 &lt;dbl&gt; | HG00102 &lt;dbl&gt; | HG00103 &lt;dbl&gt; | HG00104 &lt;dbl&gt; | HG00105 &lt;dbl&gt; | ⋯ ⋯ | NA20810 &lt;dbl&gt; | NA20811 &lt;dbl&gt; | NA20812 &lt;dbl&gt; | NA20813 &lt;dbl&gt; | NA20814 &lt;dbl&gt; | NA20815 &lt;dbl&gt; | NA20816 &lt;dbl&gt; | NA20819 &lt;dbl&gt; | NA20826 &lt;dbl&gt; | NA20828 &lt;dbl&gt; |\n",
       "|---|---|---|---|---|---|---|---|---|---|---|---|---|---|---|---|---|---|---|---|---|\n",
       "| KLHL17  | 1.51486928 | 1.1961618 | 0.73257131 | 0.87405173 | 1.43396562 | 0.1293469 |  1.4904921 |  1.2625530 |  0.52079842 | ⋯ |  1.29898355 |  1.04723734 | 1.2053541 |  1.20372262 | 0.59080544 | 0.45238953 | 0.67036360 |  1.6506757 |  1.10868080 | 0.812482625 |\n",
       "| PLEKHN1 | 0.23028804 | 0.1366162 | 0.05139892 | 0.06975778 | 0.11373349 | 0.0000000 |  0.2063809 |  0.0744103 |  0.09161211 | ⋯ |  0.05712509 |  0.25471899 | 0.1168130 |  0.12099616 | 0.13070703 | 0.04683900 | 0.05706827 |  0.1307494 |  0.04396693 | 0.175789641 |\n",
       "| ISG15   | 7.86153205 | 4.7504985 | 8.17587917 | 6.03507736 | 8.55194237 | 0.7103528 | 18.8457943 | 10.7243526 | 12.33971008 | ⋯ | 18.57516776 | 11.26474574 | 6.9226925 | 10.83839857 | 5.56769317 | 6.23533383 | 3.13928999 | 26.5216826 | 10.15193723 | 3.453304225 |\n",
       "| AGRN    | 4.95329225 | 3.0906045 | 2.51869296 | 1.30395226 | 3.25798753 | 0.2029602 |  2.8690075 |  3.0145830 |  1.00689801 | ⋯ |  1.95553314 |  3.45245494 | 2.4555170 |  2.30227812 | 0.89117930 | 1.04646365 | 1.18362787 |  2.4289933 |  3.97895686 | 1.014781830 |\n",
       "| SCNN1D  | 0.09692161 | 0.1059655 | 0.04992076 | 0.08872238 | 0.07364178 | 0.0000000 |  0.1749923 |  0.1290542 |  0.04119327 | ⋯ |  0.05137245 |  0.04295028 | 0.0444916 |  0.07616808 | 0.01670369 | 0.00541571 | 0.01319692 |  0.1154447 |  0.05693667 | 0.008369321 |\n",
       "\n"
      ],
      "text/plain": [
       "  Gene_name HG00096    HG00097   HG00099    HG00100    HG00101    HG00102  \n",
       "1 KLHL17    1.51486928 1.1961618 0.73257131 0.87405173 1.43396562 0.1293469\n",
       "2 PLEKHN1   0.23028804 0.1366162 0.05139892 0.06975778 0.11373349 0.0000000\n",
       "3 ISG15     7.86153205 4.7504985 8.17587917 6.03507736 8.55194237 0.7103528\n",
       "4 AGRN      4.95329225 3.0906045 2.51869296 1.30395226 3.25798753 0.2029602\n",
       "5 SCNN1D    0.09692161 0.1059655 0.04992076 0.08872238 0.07364178 0.0000000\n",
       "  HG00103    HG00104    HG00105     ⋯ NA20810     NA20811     NA20812  \n",
       "1  1.4904921  1.2625530  0.52079842 ⋯  1.29898355  1.04723734 1.2053541\n",
       "2  0.2063809  0.0744103  0.09161211 ⋯  0.05712509  0.25471899 0.1168130\n",
       "3 18.8457943 10.7243526 12.33971008 ⋯ 18.57516776 11.26474574 6.9226925\n",
       "4  2.8690075  3.0145830  1.00689801 ⋯  1.95553314  3.45245494 2.4555170\n",
       "5  0.1749923  0.1290542  0.04119327 ⋯  0.05137245  0.04295028 0.0444916\n",
       "  NA20813     NA20814    NA20815    NA20816    NA20819    NA20826    \n",
       "1  1.20372262 0.59080544 0.45238953 0.67036360  1.6506757  1.10868080\n",
       "2  0.12099616 0.13070703 0.04683900 0.05706827  0.1307494  0.04396693\n",
       "3 10.83839857 5.56769317 6.23533383 3.13928999 26.5216826 10.15193723\n",
       "4  2.30227812 0.89117930 1.04646365 1.18362787  2.4289933  3.97895686\n",
       "5  0.07616808 0.01670369 0.00541571 0.01319692  0.1154447  0.05693667\n",
       "  NA20828    \n",
       "1 0.812482625\n",
       "2 0.175789641\n",
       "3 3.453304225\n",
       "4 1.014781830\n",
       "5 0.008369321"
      ]
     },
     "metadata": {},
     "output_type": "display_data"
    }
   ],
   "source": [
    "rpkm_by_gene[1:5]"
   ]
  },
  {
   "cell_type": "code",
   "execution_count": 335,
   "id": "f74e8cd9-16c1-48b4-8dc4-9f74bba6c617",
   "metadata": {
    "execution": {
     "iopub.execute_input": "2024-02-12T05:55:02.094947Z",
     "iopub.status.busy": "2024-02-12T05:55:02.093635Z",
     "iopub.status.idle": "2024-02-12T05:55:02.118578Z",
     "shell.execute_reply": "2024-02-12T05:55:02.117202Z"
    },
    "vscode": {
     "languageId": "r"
    }
   },
   "outputs": [
    {
     "data": {
      "text/html": [
       "<table class=\"dataframe\">\n",
       "<caption>A data.table: 5 × 1</caption>\n",
       "<thead>\n",
       "\t<tr><th scope=col>x</th></tr>\n",
       "\t<tr><th scope=col>&lt;dbl&gt;</th></tr>\n",
       "</thead>\n",
       "<tbody>\n",
       "\t<tr><td>1.18244429</td></tr>\n",
       "\t<tr><td>0.09041482</td></tr>\n",
       "\t<tr><td>6.45361506</td></tr>\n",
       "\t<tr><td>2.48734927</td></tr>\n",
       "\t<tr><td>0.07772126</td></tr>\n",
       "</tbody>\n",
       "</table>\n"
      ],
      "text/latex": [
       "A data.table: 5 × 1\n",
       "\\begin{tabular}{l}\n",
       " x\\\\\n",
       " <dbl>\\\\\n",
       "\\hline\n",
       "\t 1.18244429\\\\\n",
       "\t 0.09041482\\\\\n",
       "\t 6.45361506\\\\\n",
       "\t 2.48734927\\\\\n",
       "\t 0.07772126\\\\\n",
       "\\end{tabular}\n"
      ],
      "text/markdown": [
       "\n",
       "A data.table: 5 × 1\n",
       "\n",
       "| x &lt;dbl&gt; |\n",
       "|---|\n",
       "| 1.18244429 |\n",
       "| 0.09041482 |\n",
       "| 6.45361506 |\n",
       "| 2.48734927 |\n",
       "| 0.07772126 |\n",
       "\n"
      ],
      "text/plain": [
       "  x         \n",
       "1 1.18244429\n",
       "2 0.09041482\n",
       "3 6.45361506\n",
       "4 2.48734927\n",
       "5 0.07772126"
      ]
     },
     "metadata": {},
     "output_type": "display_data"
    }
   ],
   "source": [
    "rpkm_by_gene[1:5][, .(x = rowMeans(.SD)), .SDcols = datcols]"
   ]
  },
  {
   "cell_type": "code",
   "execution_count": 336,
   "id": "fa954bac-dda4-474b-b881-4cd577068d16",
   "metadata": {
    "execution": {
     "iopub.execute_input": "2024-02-12T05:55:52.126043Z",
     "iopub.status.busy": "2024-02-12T05:55:52.124762Z",
     "iopub.status.idle": "2024-02-12T05:55:52.170828Z",
     "shell.execute_reply": "2024-02-12T05:55:52.169250Z"
    },
    "vscode": {
     "languageId": "r"
    }
   },
   "outputs": [],
   "source": [
    "meanRPKM_by_gene <- rpkm_by_gene[, .(Gene_name, meanrpkm = rowMeans(.SD)), .SDcols = datcols]"
   ]
  },
  {
   "cell_type": "code",
   "execution_count": 337,
   "id": "ad769b9a-7b04-4b29-91f0-227e73a63d27",
   "metadata": {
    "execution": {
     "iopub.execute_input": "2024-02-12T05:57:49.206912Z",
     "iopub.status.busy": "2024-02-12T05:57:49.205643Z",
     "iopub.status.idle": "2024-02-12T05:57:49.219181Z",
     "shell.execute_reply": "2024-02-12T05:57:49.217828Z"
    },
    "vscode": {
     "languageId": "r"
    }
   },
   "outputs": [
    {
     "data": {
      "text/html": [
       "<style>\n",
       ".dl-inline {width: auto; margin:0; padding: 0}\n",
       ".dl-inline>dt, .dl-inline>dd {float: none; width: auto; display: inline-block}\n",
       ".dl-inline>dt::after {content: \":\\0020\"; padding-right: .5ex}\n",
       ".dl-inline>dt:not(:first-of-type) {padding-left: .5ex}\n",
       "</style><dl class=dl-inline><dt>0%</dt><dd>1.55084857484326</dd><dt>10%</dt><dd>2.83666939556133</dd><dt>20%</dt><dd>6.97885059472174</dd><dt>30%</dt><dd>8.44435769622214</dd><dt>40%</dt><dd>13.4589944509789</dd><dt>50%</dt><dd>15.0344667735044</dd><dt>60%</dt><dd>16.5347158615477</dd><dt>70%</dt><dd>19.8492109294748</dd><dt>80%</dt><dd>25.5762036859524</dd><dt>90%</dt><dd>27.7476756573888</dd><dt>100%</dt><dd>30.7378042780329</dd></dl>\n"
      ],
      "text/latex": [
       "\\begin{description*}\n",
       "\\item[0\\textbackslash{}\\%] 1.55084857484326\n",
       "\\item[10\\textbackslash{}\\%] 2.83666939556133\n",
       "\\item[20\\textbackslash{}\\%] 6.97885059472174\n",
       "\\item[30\\textbackslash{}\\%] 8.44435769622214\n",
       "\\item[40\\textbackslash{}\\%] 13.4589944509789\n",
       "\\item[50\\textbackslash{}\\%] 15.0344667735044\n",
       "\\item[60\\textbackslash{}\\%] 16.5347158615477\n",
       "\\item[70\\textbackslash{}\\%] 19.8492109294748\n",
       "\\item[80\\textbackslash{}\\%] 25.5762036859524\n",
       "\\item[90\\textbackslash{}\\%] 27.7476756573888\n",
       "\\item[100\\textbackslash{}\\%] 30.7378042780329\n",
       "\\end{description*}\n"
      ],
      "text/markdown": [
       "0%\n",
       ":   1.5508485748432610%\n",
       ":   2.8366693955613320%\n",
       ":   6.9788505947217430%\n",
       ":   8.4443576962221440%\n",
       ":   13.458994450978950%\n",
       ":   15.034466773504460%\n",
       ":   16.534715861547770%\n",
       ":   19.849210929474880%\n",
       ":   25.576203685952490%\n",
       ":   27.7476756573888100%\n",
       ":   30.7378042780329\n",
       "\n"
      ],
      "text/plain": [
       "       0%       10%       20%       30%       40%       50%       60%       70% \n",
       " 1.550849  2.836669  6.978851  8.444358 13.458994 15.034467 16.534716 19.849211 \n",
       "      80%       90%      100% \n",
       "25.576204 27.747676 30.737804 "
      ]
     },
     "metadata": {},
     "output_type": "display_data"
    }
   ],
   "source": [
    "quantile(runif(20, 0, 35), seq(0,1,.1))"
   ]
  },
  {
   "cell_type": "code",
   "execution_count": 338,
   "id": "bf7c4535-711a-472b-a473-770efc3d302c",
   "metadata": {
    "execution": {
     "iopub.execute_input": "2024-02-12T06:14:49.977868Z",
     "iopub.status.busy": "2024-02-12T06:14:49.976648Z",
     "iopub.status.idle": "2024-02-12T06:14:49.990453Z",
     "shell.execute_reply": "2024-02-12T06:14:49.989120Z"
    },
    "vscode": {
     "languageId": "r"
    }
   },
   "outputs": [
    {
     "data": {
      "text/html": [
       "<style>\n",
       ".dl-inline {width: auto; margin:0; padding: 0}\n",
       ".dl-inline>dt, .dl-inline>dd {float: none; width: auto; display: inline-block}\n",
       ".dl-inline>dt::after {content: \":\\0020\"; padding-right: .5ex}\n",
       ".dl-inline>dt:not(:first-of-type) {padding-left: .5ex}\n",
       "</style><dl class=dl-inline><dt>0%</dt><dd>7.65995222498935e-06</dd><dt>20%</dt><dd>0.0261938344958174</dd><dt>40%</dt><dd>0.17324013033206</dd><dt>60%</dt><dd>0.656012552247478</dd><dt>80%</dt><dd>2.46460100673613</dd><dt>100%</dt><dd>3342.12049328901</dd></dl>\n"
      ],
      "text/latex": [
       "\\begin{description*}\n",
       "\\item[0\\textbackslash{}\\%] 7.65995222498935e-06\n",
       "\\item[20\\textbackslash{}\\%] 0.0261938344958174\n",
       "\\item[40\\textbackslash{}\\%] 0.17324013033206\n",
       "\\item[60\\textbackslash{}\\%] 0.656012552247478\n",
       "\\item[80\\textbackslash{}\\%] 2.46460100673613\n",
       "\\item[100\\textbackslash{}\\%] 3342.12049328901\n",
       "\\end{description*}\n"
      ],
      "text/markdown": [
       "0%\n",
       ":   7.65995222498935e-0620%\n",
       ":   0.026193834495817440%\n",
       ":   0.1732401303320660%\n",
       ":   0.65601255224747880%\n",
       ":   2.46460100673613100%\n",
       ":   3342.12049328901\n",
       "\n"
      ],
      "text/plain": [
       "          0%          20%          40%          60%          80%         100% \n",
       "7.659952e-06 2.619383e-02 1.732401e-01 6.560126e-01 2.464601e+00 3.342120e+03 "
      ]
     },
     "metadata": {},
     "output_type": "display_data"
    }
   ],
   "source": [
    "quantile(meanRPKM_by_gene$meanrpkm, seq(0, 1, .2), na.rm = T)"
   ]
  },
  {
   "cell_type": "code",
   "execution_count": 339,
   "id": "c332b73d-dd41-4436-8124-4a3afc4e489d",
   "metadata": {
    "execution": {
     "iopub.execute_input": "2024-02-12T06:17:42.234149Z",
     "iopub.status.busy": "2024-02-12T06:17:42.232942Z",
     "iopub.status.idle": "2024-02-12T06:17:42.244596Z",
     "shell.execute_reply": "2024-02-12T06:17:42.243130Z"
    },
    "vscode": {
     "languageId": "r"
    }
   },
   "outputs": [],
   "source": [
    "rpkm_breaks <- c(0, 0.02619, 0.1732, 0.656, 2.4646, Inf)\n",
    "rpkm_labels <- c(\"Q1 - lowly expressed\", \"Q2\", \"Q3\", \"Q4\", \"Q5 - highly expressed\")"
   ]
  },
  {
   "cell_type": "code",
   "execution_count": 340,
   "id": "7b7f5185-c51b-4884-b68b-7a1f78c5efa0",
   "metadata": {
    "execution": {
     "iopub.execute_input": "2024-02-12T06:17:43.134399Z",
     "iopub.status.busy": "2024-02-12T06:17:43.133200Z",
     "iopub.status.idle": "2024-02-12T06:17:43.144876Z",
     "shell.execute_reply": "2024-02-12T06:17:43.143460Z"
    },
    "vscode": {
     "languageId": "r"
    }
   },
   "outputs": [],
   "source": [
    "meanRPKM_by_gene <- meanRPKM_by_gene[, .(Gene_name, meanrpkm, bins = cut(meanrpkm, breaks=rpkm_breaks, labels = rpkm_labels))]"
   ]
  },
  {
   "cell_type": "code",
   "execution_count": 341,
   "id": "dc41a247-9c64-41d1-b149-02dec32d6d4d",
   "metadata": {
    "execution": {
     "iopub.execute_input": "2024-02-12T06:17:44.537987Z",
     "iopub.status.busy": "2024-02-12T06:17:44.536720Z",
     "iopub.status.idle": "2024-02-12T06:17:44.760025Z",
     "shell.execute_reply": "2024-02-12T06:17:44.758610Z"
    },
    "vscode": {
     "languageId": "r"
    }
   },
   "outputs": [
    {
     "data": {
      "text/html": [
       "<table class=\"dataframe\">\n",
       "<caption>A data.table: 6 × 3</caption>\n",
       "<thead>\n",
       "\t<tr><th scope=col>Gene_name</th><th scope=col>meanrpkm</th><th scope=col>bins</th></tr>\n",
       "\t<tr><th scope=col>&lt;chr&gt;</th><th scope=col>&lt;dbl&gt;</th><th scope=col>&lt;fct&gt;</th></tr>\n",
       "</thead>\n",
       "<tbody>\n",
       "\t<tr><td>KLHL17 </td><td>1.18244429</td><td>Q4                   </td></tr>\n",
       "\t<tr><td>PLEKHN1</td><td>0.09041482</td><td>Q2                   </td></tr>\n",
       "\t<tr><td>ISG15  </td><td>6.45361506</td><td>Q5 - highly expressed</td></tr>\n",
       "\t<tr><td>AGRN   </td><td>2.48734927</td><td>Q5 - highly expressed</td></tr>\n",
       "\t<tr><td>SCNN1D </td><td>0.07772126</td><td>Q2                   </td></tr>\n",
       "\t<tr><td>PUSL1  </td><td>3.18150130</td><td>Q5 - highly expressed</td></tr>\n",
       "</tbody>\n",
       "</table>\n"
      ],
      "text/latex": [
       "A data.table: 6 × 3\n",
       "\\begin{tabular}{lll}\n",
       " Gene\\_name & meanrpkm & bins\\\\\n",
       " <chr> & <dbl> & <fct>\\\\\n",
       "\\hline\n",
       "\t KLHL17  & 1.18244429 & Q4                   \\\\\n",
       "\t PLEKHN1 & 0.09041482 & Q2                   \\\\\n",
       "\t ISG15   & 6.45361506 & Q5 - highly expressed\\\\\n",
       "\t AGRN    & 2.48734927 & Q5 - highly expressed\\\\\n",
       "\t SCNN1D  & 0.07772126 & Q2                   \\\\\n",
       "\t PUSL1   & 3.18150130 & Q5 - highly expressed\\\\\n",
       "\\end{tabular}\n"
      ],
      "text/markdown": [
       "\n",
       "A data.table: 6 × 3\n",
       "\n",
       "| Gene_name &lt;chr&gt; | meanrpkm &lt;dbl&gt; | bins &lt;fct&gt; |\n",
       "|---|---|---|\n",
       "| KLHL17  | 1.18244429 | Q4                    |\n",
       "| PLEKHN1 | 0.09041482 | Q2                    |\n",
       "| ISG15   | 6.45361506 | Q5 - highly expressed |\n",
       "| AGRN    | 2.48734927 | Q5 - highly expressed |\n",
       "| SCNN1D  | 0.07772126 | Q2                    |\n",
       "| PUSL1   | 3.18150130 | Q5 - highly expressed |\n",
       "\n"
      ],
      "text/plain": [
       "  Gene_name meanrpkm   bins                 \n",
       "1 KLHL17    1.18244429 Q4                   \n",
       "2 PLEKHN1   0.09041482 Q2                   \n",
       "3 ISG15     6.45361506 Q5 - highly expressed\n",
       "4 AGRN      2.48734927 Q5 - highly expressed\n",
       "5 SCNN1D    0.07772126 Q2                   \n",
       "6 PUSL1     3.18150130 Q5 - highly expressed"
      ]
     },
     "metadata": {},
     "output_type": "display_data"
    },
    {
     "data": {
      "text/html": [
       "<table class=\"dataframe\">\n",
       "<caption>A data.table: 6 × 2</caption>\n",
       "<thead>\n",
       "\t<tr><th scope=col>Gene_name</th><th scope=col>medUPratio</th></tr>\n",
       "\t<tr><th scope=col>&lt;chr&gt;</th><th scope=col>&lt;dbl&gt;</th></tr>\n",
       "</thead>\n",
       "<tbody>\n",
       "\t<tr><td>KLHL17 </td><td>0.09677</td></tr>\n",
       "\t<tr><td>PLEKHN1</td><td>0.00000</td></tr>\n",
       "\t<tr><td>ISG15  </td><td>0.00000</td></tr>\n",
       "\t<tr><td>AGRN   </td><td>0.00348</td></tr>\n",
       "\t<tr><td>SCNN1D </td><td>0.00000</td></tr>\n",
       "\t<tr><td>PUSL1  </td><td>0.00000</td></tr>\n",
       "</tbody>\n",
       "</table>\n"
      ],
      "text/latex": [
       "A data.table: 6 × 2\n",
       "\\begin{tabular}{ll}\n",
       " Gene\\_name & medUPratio\\\\\n",
       " <chr> & <dbl>\\\\\n",
       "\\hline\n",
       "\t KLHL17  & 0.09677\\\\\n",
       "\t PLEKHN1 & 0.00000\\\\\n",
       "\t ISG15   & 0.00000\\\\\n",
       "\t AGRN    & 0.00348\\\\\n",
       "\t SCNN1D  & 0.00000\\\\\n",
       "\t PUSL1   & 0.00000\\\\\n",
       "\\end{tabular}\n"
      ],
      "text/markdown": [
       "\n",
       "A data.table: 6 × 2\n",
       "\n",
       "| Gene_name &lt;chr&gt; | medUPratio &lt;dbl&gt; |\n",
       "|---|---|\n",
       "| KLHL17  | 0.09677 |\n",
       "| PLEKHN1 | 0.00000 |\n",
       "| ISG15   | 0.00000 |\n",
       "| AGRN    | 0.00348 |\n",
       "| SCNN1D  | 0.00000 |\n",
       "| PUSL1   | 0.00000 |\n",
       "\n"
      ],
      "text/plain": [
       "  Gene_name medUPratio\n",
       "1 KLHL17    0.09677   \n",
       "2 PLEKHN1   0.00000   \n",
       "3 ISG15     0.00000   \n",
       "4 AGRN      0.00348   \n",
       "5 SCNN1D    0.00000   \n",
       "6 PUSL1     0.00000   "
      ]
     },
     "metadata": {},
     "output_type": "display_data"
    }
   ],
   "source": [
    "meanRPKM_by_gene %>% head\n",
    "unprod_ratio_by_gene[, .(Gene_name, medUPratio = matrixStats::rowMedians(as.matrix(.SD))), .SDcols = datcols] %>% head"
   ]
  },
  {
   "cell_type": "code",
   "execution_count": 342,
   "id": "9bc6213a-6624-4854-ab24-48b56cc22b20",
   "metadata": {
    "execution": {
     "iopub.execute_input": "2024-02-12T06:23:25.633870Z",
     "iopub.status.busy": "2024-02-12T06:23:25.632661Z",
     "iopub.status.idle": "2024-02-12T06:23:25.791412Z",
     "shell.execute_reply": "2024-02-12T06:23:25.790024Z"
    },
    "vscode": {
     "languageId": "r"
    }
   },
   "outputs": [
    {
     "name": "stderr",
     "output_type": "stream",
     "text": [
      "Warning message in cor.test.default(medUPratio, meanrpkm, method = \"spearman\", na.rm = T):\n",
      "“Cannot compute exact p-value with ties”\n"
     ]
    },
    {
     "data": {
      "text/plain": [
       "\n",
       "\tSpearman's rank correlation rho\n",
       "\n",
       "data:  medUPratio and meanrpkm\n",
       "S = 6.851e+10, p-value < 2.2e-16\n",
       "alternative hypothesis: true rho is not equal to 0\n",
       "sample estimates:\n",
       "       rho \n",
       "-0.5592741 \n"
      ]
     },
     "metadata": {},
     "output_type": "display_data"
    }
   ],
   "source": [
    "unprod_ratio_by_gene[, .(Gene_name, medUPratio = matrixStats::rowMedians(as.matrix(.SD))), .SDcols = datcols] %>%\n",
    "left_join(meanRPKM_by_gene, by = 'Gene_name') %>% \n",
    ".[medUPratio > 0] %$%\n",
    "cor.test(medUPratio, meanrpkm , method = \"spearman\", na.rm = T)"
   ]
  },
  {
   "cell_type": "code",
   "execution_count": 343,
   "id": "6d627148-314c-44f5-977a-63b80c5678a6",
   "metadata": {
    "execution": {
     "iopub.execute_input": "2024-02-12T06:25:45.482002Z",
     "iopub.status.busy": "2024-02-12T06:25:45.480838Z",
     "iopub.status.idle": "2024-02-12T06:25:45.629785Z",
     "shell.execute_reply": "2024-02-12T06:25:45.628424Z"
    },
    "vscode": {
     "languageId": "r"
    }
   },
   "outputs": [
    {
     "data": {
      "text/html": [
       "<style>\n",
       ".list-inline {list-style: none; margin:0; padding: 0}\n",
       ".list-inline>li {display: inline-block}\n",
       ".list-inline>li:not(:last-child)::after {content: \"\\00b7\"; padding: 0 .5ex}\n",
       "</style>\n",
       "<ol class=list-inline><li>6429</li><li>4</li></ol>\n"
      ],
      "text/latex": [
       "\\begin{enumerate*}\n",
       "\\item 6429\n",
       "\\item 4\n",
       "\\end{enumerate*}\n"
      ],
      "text/markdown": [
       "1. 6429\n",
       "2. 4\n",
       "\n",
       "\n"
      ],
      "text/plain": [
       "[1] 6429    4"
      ]
     },
     "metadata": {},
     "output_type": "display_data"
    }
   ],
   "source": [
    "unprod_ratio_by_gene[, .(Gene_name, medUPratio = matrixStats::rowMedians(as.matrix(.SD))), .SDcols = datcols] %>%\n",
    "left_join(meanRPKM_by_gene, by = 'Gene_name') %>% \n",
    ".[medUPratio > 0] %>% dim"
   ]
  },
  {
   "cell_type": "code",
   "execution_count": 360,
   "id": "673d1c3a",
   "metadata": {
    "execution": {
     "iopub.execute_input": "2024-02-12T06:26:43.154747Z",
     "iopub.status.busy": "2024-02-12T06:26:43.153505Z",
     "iopub.status.idle": "2024-02-12T06:26:43.773845Z",
     "shell.execute_reply": "2024-02-12T06:26:43.772371Z"
    },
    "vscode": {
     "languageId": "r"
    }
   },
   "outputs": [],
   "source": [
    "p3 <- unprod_ratio_by_gene[, .(Gene_name, medUPratio = matrixStats::rowMedians(as.matrix(.SD))), .SDcols = datcols] %>%\n",
    "left_join(meanRPKM_by_gene, by = 'Gene_name') %>%\n",
    ".[!is.na(bins)] %>% \n",
    "    ggplot() + stat_ecdf(aes(medUPratio, color = bins)) +\n",
    "        scale_color_brewer(type = 'qual', palette = 'Blues') +\n",
    "        scale_x_log10(breaks = c(0, .01, .1, 1), labels = c(\"0%\", \"1%\", \"10%\", \"100%\"), \n",
    "                       n.breaks = 5, expand = c(0.2, 1)) +\n",
    "        coord_cartesian(xlim = c(.0005, 1)) +\n",
    "        labs(x = \"Unproductive splicing\", caption = \"Spearman rho=-0.55*** from 6429 genes\",\n",
    "             y = \"Cumulative distribution\", color = \"gene RPKM quantiles\") + \n",
    "        theme(legend.position = 'bottom')"
   ]
  },
  {
   "cell_type": "code",
   "execution_count": 362,
   "id": "bcc82f03",
   "metadata": {
    "vscode": {
     "languageId": "r"
    }
   },
   "outputs": [
    {
     "name": "stderr",
     "output_type": "stream",
     "text": [
      "Warning message:\n",
      "“\u001b[1m\u001b[22mTransformation introduced infinite values in continuous x-axis”\n",
      "Warning message:\n",
      "“\u001b[1m\u001b[22mRemoved 6554 rows containing non-finite values (`stat_ecdf()`).”\n"
     ]
    },
    {
     "data": {
      "image/png": "[encoded data removed]",
      "text/plain": [
       "plot without title"
      ]
     },
     "metadata": {
      "image/png": {
       "height": 450,
       "width": 900
      }
     },
     "output_type": "display_data"
    }
   ],
   "source": [
    "p3 + plot_spacer() + plot_layout(widths = c(2, 3))"
   ]
  },
  {
   "cell_type": "code",
   "execution_count": null,
   "id": "9a1eeed4",
   "metadata": {
    "vscode": {
     "languageId": "r"
    }
   },
   "outputs": [],
   "source": []
  },
  {
   "cell_type": "code",
   "execution_count": 363,
   "id": "7ac92234",
   "metadata": {
    "vscode": {
     "languageId": "r"
    }
   },
   "outputs": [
    {
     "data": {
      "text/html": [
       "<table class=\"dataframe\">\n",
       "<caption>A data.table: 10 × 5</caption>\n",
       "<thead>\n",
       "\t<tr><th scope=col>Gene_name</th><th scope=col>HG00096</th><th scope=col>HG00097</th><th scope=col>HG00099</th><th scope=col>HG00100</th></tr>\n",
       "\t<tr><th scope=col>&lt;chr&gt;</th><th scope=col>&lt;dbl&gt;</th><th scope=col>&lt;dbl&gt;</th><th scope=col>&lt;dbl&gt;</th><th scope=col>&lt;dbl&gt;</th></tr>\n",
       "</thead>\n",
       "<tbody>\n",
       "\t<tr><td>KLHL17 </td><td>0.10000</td><td>0.08696</td><td>0.07692</td><td>0.06250</td></tr>\n",
       "\t<tr><td>PLEKHN1</td><td>0.00000</td><td>0.00000</td><td>0.00000</td><td>0.00000</td></tr>\n",
       "\t<tr><td>ISG15  </td><td>0.00000</td><td>0.00000</td><td>0.00000</td><td>0.00000</td></tr>\n",
       "\t<tr><td>AGRN   </td><td>0.00145</td><td>0.00432</td><td>0.00426</td><td>0.00797</td></tr>\n",
       "\t<tr><td>SCNN1D </td><td>0.00000</td><td>0.00000</td><td>0.00000</td><td>0.00000</td></tr>\n",
       "\t<tr><td>PUSL1  </td><td>0.00000</td><td>0.01531</td><td>0.00000</td><td>0.00000</td></tr>\n",
       "\t<tr><td>CPTP   </td><td>0.07500</td><td>0.05263</td><td>0.12121</td><td>0.00000</td></tr>\n",
       "\t<tr><td>TAS1R3 </td><td>0.00000</td><td>0.00000</td><td>0.00000</td><td>0.00000</td></tr>\n",
       "\t<tr><td>VWA1   </td><td>0.00000</td><td>0.00000</td><td>0.00000</td><td>0.00000</td></tr>\n",
       "\t<tr><td>ATAD3C </td><td>0.00000</td><td>0.00000</td><td>0.00000</td><td>0.00000</td></tr>\n",
       "</tbody>\n",
       "</table>\n"
      ],
      "text/latex": [
       "A data.table: 10 × 5\n",
       "\\begin{tabular}{lllll}\n",
       " Gene\\_name & HG00096 & HG00097 & HG00099 & HG00100\\\\\n",
       " <chr> & <dbl> & <dbl> & <dbl> & <dbl>\\\\\n",
       "\\hline\n",
       "\t KLHL17  & 0.10000 & 0.08696 & 0.07692 & 0.06250\\\\\n",
       "\t PLEKHN1 & 0.00000 & 0.00000 & 0.00000 & 0.00000\\\\\n",
       "\t ISG15   & 0.00000 & 0.00000 & 0.00000 & 0.00000\\\\\n",
       "\t AGRN    & 0.00145 & 0.00432 & 0.00426 & 0.00797\\\\\n",
       "\t SCNN1D  & 0.00000 & 0.00000 & 0.00000 & 0.00000\\\\\n",
       "\t PUSL1   & 0.00000 & 0.01531 & 0.00000 & 0.00000\\\\\n",
       "\t CPTP    & 0.07500 & 0.05263 & 0.12121 & 0.00000\\\\\n",
       "\t TAS1R3  & 0.00000 & 0.00000 & 0.00000 & 0.00000\\\\\n",
       "\t VWA1    & 0.00000 & 0.00000 & 0.00000 & 0.00000\\\\\n",
       "\t ATAD3C  & 0.00000 & 0.00000 & 0.00000 & 0.00000\\\\\n",
       "\\end{tabular}\n"
      ],
      "text/markdown": [
       "\n",
       "A data.table: 10 × 5\n",
       "\n",
       "| Gene_name &lt;chr&gt; | HG00096 &lt;dbl&gt; | HG00097 &lt;dbl&gt; | HG00099 &lt;dbl&gt; | HG00100 &lt;dbl&gt; |\n",
       "|---|---|---|---|---|\n",
       "| KLHL17  | 0.10000 | 0.08696 | 0.07692 | 0.06250 |\n",
       "| PLEKHN1 | 0.00000 | 0.00000 | 0.00000 | 0.00000 |\n",
       "| ISG15   | 0.00000 | 0.00000 | 0.00000 | 0.00000 |\n",
       "| AGRN    | 0.00145 | 0.00432 | 0.00426 | 0.00797 |\n",
       "| SCNN1D  | 0.00000 | 0.00000 | 0.00000 | 0.00000 |\n",
       "| PUSL1   | 0.00000 | 0.01531 | 0.00000 | 0.00000 |\n",
       "| CPTP    | 0.07500 | 0.05263 | 0.12121 | 0.00000 |\n",
       "| TAS1R3  | 0.00000 | 0.00000 | 0.00000 | 0.00000 |\n",
       "| VWA1    | 0.00000 | 0.00000 | 0.00000 | 0.00000 |\n",
       "| ATAD3C  | 0.00000 | 0.00000 | 0.00000 | 0.00000 |\n",
       "\n"
      ],
      "text/plain": [
       "   Gene_name HG00096 HG00097 HG00099 HG00100\n",
       "1  KLHL17    0.10000 0.08696 0.07692 0.06250\n",
       "2  PLEKHN1   0.00000 0.00000 0.00000 0.00000\n",
       "3  ISG15     0.00000 0.00000 0.00000 0.00000\n",
       "4  AGRN      0.00145 0.00432 0.00426 0.00797\n",
       "5  SCNN1D    0.00000 0.00000 0.00000 0.00000\n",
       "6  PUSL1     0.00000 0.01531 0.00000 0.00000\n",
       "7  CPTP      0.07500 0.05263 0.12121 0.00000\n",
       "8  TAS1R3    0.00000 0.00000 0.00000 0.00000\n",
       "9  VWA1      0.00000 0.00000 0.00000 0.00000\n",
       "10 ATAD3C    0.00000 0.00000 0.00000 0.00000"
      ]
     },
     "metadata": {},
     "output_type": "display_data"
    },
    {
     "data": {
      "text/html": [
       "<style>\n",
       ".list-inline {list-style: none; margin:0; padding: 0}\n",
       ".list-inline>li {display: inline-block}\n",
       ".list-inline>li:not(:last-child)::after {content: \"\\00b7\"; padding: 0 .5ex}\n",
       "</style>\n",
       "<ol class=list-inline><li>12987</li><li>374</li></ol>\n"
      ],
      "text/latex": [
       "\\begin{enumerate*}\n",
       "\\item 12987\n",
       "\\item 374\n",
       "\\end{enumerate*}\n"
      ],
      "text/markdown": [
       "1. 12987\n",
       "2. 374\n",
       "\n",
       "\n"
      ],
      "text/plain": [
       "[1] 12987   374"
      ]
     },
     "metadata": {},
     "output_type": "display_data"
    }
   ],
   "source": [
    "unprod_ratio_by_gene[1:10, 1:5]\n",
    "dim(unprod_ratio_by_gene)"
   ]
  },
  {
   "cell_type": "code",
   "execution_count": 73,
   "id": "ca2c823b",
   "metadata": {
    "vscode": {
     "languageId": "r"
    }
   },
   "outputs": [
    {
     "data": {
      "text/html": [
       "<table class=\"dataframe\">\n",
       "<caption>A data.table: 5 × 5</caption>\n",
       "<thead>\n",
       "\t<tr><th scope=col>Gene_name</th><th scope=col>HG00096</th><th scope=col>HG00097</th><th scope=col>HG00099</th><th scope=col>HG00100</th></tr>\n",
       "\t<tr><th scope=col>&lt;chr&gt;</th><th scope=col>&lt;int&gt;</th><th scope=col>&lt;int&gt;</th><th scope=col>&lt;int&gt;</th><th scope=col>&lt;int&gt;</th></tr>\n",
       "</thead>\n",
       "<tbody>\n",
       "\t<tr><td>KLHL17 </td><td>  90</td><td> 115</td><td>  39</td><td> 48</td></tr>\n",
       "\t<tr><td>PLEKHN1</td><td>  25</td><td>  24</td><td>   5</td><td>  7</td></tr>\n",
       "\t<tr><td>ISG15  </td><td>1219</td><td>1192</td><td>1136</td><td>865</td></tr>\n",
       "\t<tr><td>AGRN   </td><td>2063</td><td>2083</td><td> 940</td><td>502</td></tr>\n",
       "\t<tr><td>SCNN1D </td><td>  13</td><td>  23</td><td>   6</td><td> 11</td></tr>\n",
       "</tbody>\n",
       "</table>\n"
      ],
      "text/latex": [
       "A data.table: 5 × 5\n",
       "\\begin{tabular}{lllll}\n",
       " Gene\\_name & HG00096 & HG00097 & HG00099 & HG00100\\\\\n",
       " <chr> & <int> & <int> & <int> & <int>\\\\\n",
       "\\hline\n",
       "\t KLHL17  &   90 &  115 &   39 &  48\\\\\n",
       "\t PLEKHN1 &   25 &   24 &    5 &   7\\\\\n",
       "\t ISG15   & 1219 & 1192 & 1136 & 865\\\\\n",
       "\t AGRN    & 2063 & 2083 &  940 & 502\\\\\n",
       "\t SCNN1D  &   13 &   23 &    6 &  11\\\\\n",
       "\\end{tabular}\n"
      ],
      "text/markdown": [
       "\n",
       "A data.table: 5 × 5\n",
       "\n",
       "| Gene_name &lt;chr&gt; | HG00096 &lt;int&gt; | HG00097 &lt;int&gt; | HG00099 &lt;int&gt; | HG00100 &lt;int&gt; |\n",
       "|---|---|---|---|---|\n",
       "| KLHL17  |   90 |  115 |   39 |  48 |\n",
       "| PLEKHN1 |   25 |   24 |    5 |   7 |\n",
       "| ISG15   | 1219 | 1192 | 1136 | 865 |\n",
       "| AGRN    | 2063 | 2083 |  940 | 502 |\n",
       "| SCNN1D  |   13 |   23 |    6 |  11 |\n",
       "\n"
      ],
      "text/plain": [
       "  Gene_name HG00096 HG00097 HG00099 HG00100\n",
       "1 KLHL17      90     115      39     48    \n",
       "2 PLEKHN1     25      24       5      7    \n",
       "3 ISG15     1219    1192    1136    865    \n",
       "4 AGRN      2063    2083     940    502    \n",
       "5 SCNN1D      13      23       6     11    "
      ]
     },
     "metadata": {},
     "output_type": "display_data"
    }
   ],
   "source": [
    "total_by_gene[1:5, 1:5]"
   ]
  },
  {
   "cell_type": "code",
   "execution_count": 80,
   "id": "208db1da",
   "metadata": {
    "vscode": {
     "languageId": "r"
    }
   },
   "outputs": [
    {
     "data": {
      "text/html": [
       "<table class=\"dataframe\">\n",
       "<caption>A data.table: 5 × 5</caption>\n",
       "<thead>\n",
       "\t<tr><th scope=col>Gene_name</th><th scope=col>HG00096</th><th scope=col>HG00097</th><th scope=col>HG00099</th><th scope=col>HG00100</th></tr>\n",
       "\t<tr><th scope=col>&lt;chr&gt;</th><th scope=col>&lt;int&gt;</th><th scope=col>&lt;int&gt;</th><th scope=col>&lt;int&gt;</th><th scope=col>&lt;int&gt;</th></tr>\n",
       "</thead>\n",
       "<tbody>\n",
       "\t<tr><td>KLHL17</td><td>9</td><td>10</td><td>3</td><td>3</td></tr>\n",
       "\t<tr><td>AGRN  </td><td>3</td><td> 9</td><td>4</td><td>4</td></tr>\n",
       "\t<tr><td>PUSL1 </td><td>0</td><td> 3</td><td>0</td><td>0</td></tr>\n",
       "\t<tr><td>CPTP  </td><td>3</td><td> 5</td><td>4</td><td>0</td></tr>\n",
       "\t<tr><td>ATAD3B</td><td>3</td><td> 0</td><td>1</td><td>0</td></tr>\n",
       "</tbody>\n",
       "</table>\n"
      ],
      "text/latex": [
       "A data.table: 5 × 5\n",
       "\\begin{tabular}{lllll}\n",
       " Gene\\_name & HG00096 & HG00097 & HG00099 & HG00100\\\\\n",
       " <chr> & <int> & <int> & <int> & <int>\\\\\n",
       "\\hline\n",
       "\t KLHL17 & 9 & 10 & 3 & 3\\\\\n",
       "\t AGRN   & 3 &  9 & 4 & 4\\\\\n",
       "\t PUSL1  & 0 &  3 & 0 & 0\\\\\n",
       "\t CPTP   & 3 &  5 & 4 & 0\\\\\n",
       "\t ATAD3B & 3 &  0 & 1 & 0\\\\\n",
       "\\end{tabular}\n"
      ],
      "text/markdown": [
       "\n",
       "A data.table: 5 × 5\n",
       "\n",
       "| Gene_name &lt;chr&gt; | HG00096 &lt;int&gt; | HG00097 &lt;int&gt; | HG00099 &lt;int&gt; | HG00100 &lt;int&gt; |\n",
       "|---|---|---|---|---|\n",
       "| KLHL17 | 9 | 10 | 3 | 3 |\n",
       "| AGRN   | 3 |  9 | 4 | 4 |\n",
       "| PUSL1  | 0 |  3 | 0 | 0 |\n",
       "| CPTP   | 3 |  5 | 4 | 0 |\n",
       "| ATAD3B | 3 |  0 | 1 | 0 |\n",
       "\n"
      ],
      "text/plain": [
       "  Gene_name HG00096 HG00097 HG00099 HG00100\n",
       "1 KLHL17    9       10      3       3      \n",
       "2 AGRN      3        9      4       4      \n",
       "3 PUSL1     0        3      0       0      \n",
       "4 CPTP      3        5      4       0      \n",
       "5 ATAD3B    3        0      1       0      "
      ]
     },
     "metadata": {},
     "output_type": "display_data"
    }
   ],
   "source": [
    "unprod_by_gene[1:5, 1:5]"
   ]
  },
  {
   "cell_type": "code",
   "execution_count": 75,
   "id": "f527d515",
   "metadata": {
    "vscode": {
     "languageId": "r"
    }
   },
   "outputs": [
    {
     "data": {
      "text/html": [
       "<table class=\"dataframe\">\n",
       "<caption>A data.table: 5 × 8</caption>\n",
       "<thead>\n",
       "\t<tr><th scope=col>chrom</th><th scope=col>clu</th><th scope=col>clu_type</th><th scope=col>intron_type</th><th scope=col>Intron_coord</th><th scope=col>Gene_name</th><th scope=col>HG00096</th><th scope=col>HG00097</th></tr>\n",
       "\t<tr><th scope=col>&lt;chr&gt;</th><th scope=col>&lt;chr&gt;</th><th scope=col>&lt;chr&gt;</th><th scope=col>&lt;chr&gt;</th><th scope=col>&lt;chr&gt;</th><th scope=col>&lt;chr&gt;</th><th scope=col>&lt;int&gt;</th><th scope=col>&lt;int&gt;</th></tr>\n",
       "</thead>\n",
       "<tbody>\n",
       "\t<tr><td>chr1:960800:961292:clu_8_+:PR </td><td>clu_8 </td><td>PR,UP</td><td>PR</td><td>chr1:960800:961292</td><td>KLHL17</td><td> 1</td><td> 0</td></tr>\n",
       "\t<tr><td>chr1:960800:961628:clu_8_+:UP </td><td>clu_8 </td><td>PR,UP</td><td>UP</td><td>chr1:960800:961628</td><td>KLHL17</td><td> 0</td><td> 0</td></tr>\n",
       "\t<tr><td>chr1:961750:961825:clu_9_+:PR </td><td>clu_9 </td><td>PR   </td><td>PR</td><td>chr1:961750:961825</td><td>KLHL17</td><td>11</td><td>11</td></tr>\n",
       "\t<tr><td>chr1:962047:962285:clu_10_+:UP</td><td>clu_10</td><td>PR,UP</td><td>UP</td><td>chr1:962047:962285</td><td>KLHL17</td><td> 0</td><td> 1</td></tr>\n",
       "\t<tr><td>chr1:962047:962354:clu_10_+:PR</td><td>clu_10</td><td>PR,UP</td><td>PR</td><td>chr1:962047:962354</td><td>KLHL17</td><td> 4</td><td> 1</td></tr>\n",
       "</tbody>\n",
       "</table>\n"
      ],
      "text/latex": [
       "A data.table: 5 × 8\n",
       "\\begin{tabular}{llllllll}\n",
       " chrom & clu & clu\\_type & intron\\_type & Intron\\_coord & Gene\\_name & HG00096 & HG00097\\\\\n",
       " <chr> & <chr> & <chr> & <chr> & <chr> & <chr> & <int> & <int>\\\\\n",
       "\\hline\n",
       "\t chr1:960800:961292:clu\\_8\\_+:PR  & clu\\_8  & PR,UP & PR & chr1:960800:961292 & KLHL17 &  1 &  0\\\\\n",
       "\t chr1:960800:961628:clu\\_8\\_+:UP  & clu\\_8  & PR,UP & UP & chr1:960800:961628 & KLHL17 &  0 &  0\\\\\n",
       "\t chr1:961750:961825:clu\\_9\\_+:PR  & clu\\_9  & PR    & PR & chr1:961750:961825 & KLHL17 & 11 & 11\\\\\n",
       "\t chr1:962047:962285:clu\\_10\\_+:UP & clu\\_10 & PR,UP & UP & chr1:962047:962285 & KLHL17 &  0 &  1\\\\\n",
       "\t chr1:962047:962354:clu\\_10\\_+:PR & clu\\_10 & PR,UP & PR & chr1:962047:962354 & KLHL17 &  4 &  1\\\\\n",
       "\\end{tabular}\n"
      ],
      "text/markdown": [
       "\n",
       "A data.table: 5 × 8\n",
       "\n",
       "| chrom &lt;chr&gt; | clu &lt;chr&gt; | clu_type &lt;chr&gt; | intron_type &lt;chr&gt; | Intron_coord &lt;chr&gt; | Gene_name &lt;chr&gt; | HG00096 &lt;int&gt; | HG00097 &lt;int&gt; |\n",
       "|---|---|---|---|---|---|---|---|\n",
       "| chr1:960800:961292:clu_8_+:PR  | clu_8  | PR,UP | PR | chr1:960800:961292 | KLHL17 |  1 |  0 |\n",
       "| chr1:960800:961628:clu_8_+:UP  | clu_8  | PR,UP | UP | chr1:960800:961628 | KLHL17 |  0 |  0 |\n",
       "| chr1:961750:961825:clu_9_+:PR  | clu_9  | PR    | PR | chr1:961750:961825 | KLHL17 | 11 | 11 |\n",
       "| chr1:962047:962285:clu_10_+:UP | clu_10 | PR,UP | UP | chr1:962047:962285 | KLHL17 |  0 |  1 |\n",
       "| chr1:962047:962354:clu_10_+:PR | clu_10 | PR,UP | PR | chr1:962047:962354 | KLHL17 |  4 |  1 |\n",
       "\n"
      ],
      "text/plain": [
       "  chrom                          clu    clu_type intron_type Intron_coord      \n",
       "1 chr1:960800:961292:clu_8_+:PR  clu_8  PR,UP    PR          chr1:960800:961292\n",
       "2 chr1:960800:961628:clu_8_+:UP  clu_8  PR,UP    UP          chr1:960800:961628\n",
       "3 chr1:961750:961825:clu_9_+:PR  clu_9  PR       PR          chr1:961750:961825\n",
       "4 chr1:962047:962285:clu_10_+:UP clu_10 PR,UP    UP          chr1:962047:962285\n",
       "5 chr1:962047:962354:clu_10_+:PR clu_10 PR,UP    PR          chr1:962047:962354\n",
       "  Gene_name HG00096 HG00097\n",
       "1 KLHL17     1       0     \n",
       "2 KLHL17     0       0     \n",
       "3 KLHL17    11      11     \n",
       "4 KLHL17     0       1     \n",
       "5 KLHL17     4       1     "
      ]
     },
     "metadata": {},
     "output_type": "display_data"
    }
   ],
   "source": [
    "counts_by_gene[1:5, 1:8]"
   ]
  },
  {
   "cell_type": "code",
   "execution_count": null,
   "id": "96bac5e1",
   "metadata": {
    "vscode": {
     "languageId": "r"
    }
   },
   "outputs": [],
   "source": []
  },
  {
   "cell_type": "code",
   "execution_count": null,
   "id": "d3ffdf3f",
   "metadata": {
    "vscode": {
     "languageId": "r"
    }
   },
   "outputs": [],
   "source": []
  },
  {
   "cell_type": "code",
   "execution_count": null,
   "id": "b124373b",
   "metadata": {
    "vscode": {
     "languageId": "r"
    }
   },
   "outputs": [],
   "source": []
  },
  {
   "cell_type": "code",
   "execution_count": null,
   "id": "95fbc8d6",
   "metadata": {
    "vscode": {
     "languageId": "r"
    }
   },
   "outputs": [],
   "source": []
  },
  {
   "cell_type": "code",
   "execution_count": null,
   "id": "024803f6",
   "metadata": {
    "vscode": {
     "languageId": "r"
    }
   },
   "outputs": [],
   "source": []
  }
 ],
 "metadata": {
  "kernelspec": {
   "display_name": "R",
   "language": "R",
   "name": "ir"
  },
  "language_info": {
   "codemirror_mode": "r",
   "file_extension": ".r",
   "mimetype": "text/x-r-source",
   "name": "R",
   "pygments_lexer": "r",
   "version": "4.3.1"
  }
 },
 "nbformat": 4,
 "nbformat_minor": 5
}
