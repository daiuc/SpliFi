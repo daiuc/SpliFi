{
 "cells": [
  {
   "cell_type": "code",
   "execution_count": 5,
   "id": "108c545a-d139-4166-8a73-3c8be9200c17",
   "metadata": {
    "execution": {
     "iopub.execute_input": "2024-03-09T21:12:18.475863Z",
     "iopub.status.busy": "2024-03-09T21:12:18.474574Z",
     "iopub.status.idle": "2024-03-09T21:12:18.489768Z",
     "shell.execute_reply": "2024-03-09T21:12:18.484806Z"
    }
   },
   "outputs": [],
   "source": [
    "suppressMessages(library(tidyverse))\n",
    "suppressMessages(library(data.table))"
   ]
  },
  {
   "cell_type": "code",
   "execution_count": 45,
   "id": "89bc28b1-7119-4aab-a59a-f24cfae431b4",
   "metadata": {
    "execution": {
     "iopub.execute_input": "2024-03-09T22:06:56.118240Z",
     "iopub.status.busy": "2024-03-09T22:06:56.116626Z",
     "iopub.status.idle": "2024-03-09T22:06:56.127207Z",
     "shell.execute_reply": "2024-03-09T22:06:56.125879Z"
    }
   },
   "outputs": [],
   "source": [
    "suppressMessages(library(DESeq2))"
   ]
  },
  {
   "cell_type": "code",
   "execution_count": 12,
   "id": "9fb80031",
   "metadata": {
    "execution": {
     "iopub.execute_input": "2024-03-09T21:32:23.061162Z",
     "iopub.status.busy": "2024-03-09T21:32:23.059908Z",
     "iopub.status.idle": "2024-03-09T21:32:23.071676Z",
     "shell.execute_reply": "2024-03-09T21:32:23.070377Z"
    }
   },
   "outputs": [
    {
     "data": {
      "text/html": [
       "'/project2/yangili1/cdai/SpliFi/analysis'"
      ],
      "text/latex": [
       "'/project2/yangili1/cdai/SpliFi/analysis'"
      ],
      "text/markdown": [
       "'/project2/yangili1/cdai/SpliFi/analysis'"
      ],
      "text/plain": [
       "[1] \"/project2/yangili1/cdai/SpliFi/analysis\""
      ]
     },
     "metadata": {},
     "output_type": "display_data"
    }
   ],
   "source": [
    "getwd()"
   ]
  },
  {
   "cell_type": "code",
   "execution_count": 13,
   "id": "c24c2a72-def6-41a6-b649-5423278e17f7",
   "metadata": {
    "execution": {
     "iopub.execute_input": "2024-03-09T21:32:31.955966Z",
     "iopub.status.busy": "2024-03-09T21:32:31.954771Z",
     "iopub.status.idle": "2024-03-09T21:32:31.966352Z",
     "shell.execute_reply": "2024-03-09T21:32:31.964989Z"
    }
   },
   "outputs": [],
   "source": [
    "setwd('../code/test-ge')"
   ]
  },
  {
   "cell_type": "code",
   "execution_count": 14,
   "id": "ce9bfa10-b60e-445b-9a58-a971a07e60d0",
   "metadata": {
    "execution": {
     "iopub.execute_input": "2024-03-09T21:32:34.643701Z",
     "iopub.status.busy": "2024-03-09T21:32:34.642526Z",
     "iopub.status.idle": "2024-03-09T21:32:34.654783Z",
     "shell.execute_reply": "2024-03-09T21:32:34.653481Z"
    }
   },
   "outputs": [
    {
     "data": {
      "text/html": [
       "<style>\n",
       ".list-inline {list-style: none; margin:0; padding: 0}\n",
       ".list-inline>li {display: inline-block}\n",
       ".list-inline>li:not(:last-child)::after {content: \"\\00b7\"; padding: 0 .5ex}\n",
       "</style>\n",
       "<ol class=list-inline><li>'Kidney-Cortex_gene_reads.tsv.gz'</li><li>'Liver_gene_reads.tsv.gz'</li></ol>\n"
      ],
      "text/latex": [
       "\\begin{enumerate*}\n",
       "\\item 'Kidney-Cortex\\_gene\\_reads.tsv.gz'\n",
       "\\item 'Liver\\_gene\\_reads.tsv.gz'\n",
       "\\end{enumerate*}\n"
      ],
      "text/markdown": [
       "1. 'Kidney-Cortex_gene_reads.tsv.gz'\n",
       "2. 'Liver_gene_reads.tsv.gz'\n",
       "\n",
       "\n"
      ],
      "text/plain": [
       "[1] \"Kidney-Cortex_gene_reads.tsv.gz\" \"Liver_gene_reads.tsv.gz\"        "
      ]
     },
     "metadata": {},
     "output_type": "display_data"
    }
   ],
   "source": [
    "dir()"
   ]
  },
  {
   "cell_type": "code",
   "execution_count": 190,
   "id": "c267a29f-d7f7-42eb-a18c-8dff2f0e8798",
   "metadata": {
    "execution": {
     "iopub.execute_input": "2024-03-10T05:29:18.280142Z",
     "iopub.status.busy": "2024-03-10T05:29:18.278988Z",
     "iopub.status.idle": "2024-03-10T05:29:18.291825Z",
     "shell.execute_reply": "2024-03-10T05:29:18.290569Z"
    }
   },
   "outputs": [
    {
     "data": {
      "text/html": [
       "'Kidney-Cortex'"
      ],
      "text/latex": [
       "'Kidney-Cortex'"
      ],
      "text/markdown": [
       "'Kidney-Cortex'"
      ],
      "text/plain": [
       "[1] \"Kidney-Cortex\""
      ]
     },
     "metadata": {},
     "output_type": "display_data"
    }
   ],
   "source": [
    "'abc/def/Kidney-Cortex_gene_reads.tsv.gz' %>% \n",
    "str_split(\"/\") %>% unlist %>% tail(1) %>% \n",
    "str_remove(\"_gene_reads.tsv.gz\")"
   ]
  },
  {
   "cell_type": "markdown",
   "id": "0e2599d3-8ee4-4cdc-8e71-f0e1040535bb",
   "metadata": {},
   "source": [
    "### Preparing input data"
   ]
  },
  {
   "cell_type": "code",
   "execution_count": 16,
   "id": "112f06c9-ad55-45d9-af85-11874ef657a5",
   "metadata": {
    "execution": {
     "iopub.execute_input": "2024-03-09T21:34:07.926701Z",
     "iopub.status.busy": "2024-03-09T21:34:07.925529Z",
     "iopub.status.idle": "2024-03-09T21:34:08.660990Z",
     "shell.execute_reply": "2024-03-09T21:34:08.659560Z"
    }
   },
   "outputs": [],
   "source": [
    "kidney <- fread('Kidney-Cortex_gene_reads.tsv.gz')\n",
    "liver <- fread('Liver_gene_reads.tsv.gz')"
   ]
  },
  {
   "cell_type": "code",
   "execution_count": 17,
   "id": "4d52522b-447e-47a3-9baa-c97486621960",
   "metadata": {
    "execution": {
     "iopub.execute_input": "2024-03-09T21:34:19.712617Z",
     "iopub.status.busy": "2024-03-09T21:34:19.711486Z",
     "iopub.status.idle": "2024-03-09T21:34:19.726416Z",
     "shell.execute_reply": "2024-03-09T21:34:19.725180Z"
    }
   },
   "outputs": [
    {
     "data": {
      "text/html": [
       "<style>\n",
       ".list-inline {list-style: none; margin:0; padding: 0}\n",
       ".list-inline>li {display: inline-block}\n",
       ".list-inline>li:not(:last-child)::after {content: \"\\00b7\"; padding: 0 .5ex}\n",
       "</style>\n",
       "<ol class=list-inline><li>56200</li><li>87</li></ol>\n"
      ],
      "text/latex": [
       "\\begin{enumerate*}\n",
       "\\item 56200\n",
       "\\item 87\n",
       "\\end{enumerate*}\n"
      ],
      "text/markdown": [
       "1. 56200\n",
       "2. 87\n",
       "\n",
       "\n"
      ],
      "text/plain": [
       "[1] 56200    87"
      ]
     },
     "metadata": {},
     "output_type": "display_data"
    },
    {
     "data": {
      "text/html": [
       "<style>\n",
       ".list-inline {list-style: none; margin:0; padding: 0}\n",
       ".list-inline>li {display: inline-block}\n",
       ".list-inline>li:not(:last-child)::after {content: \"\\00b7\"; padding: 0 .5ex}\n",
       "</style>\n",
       "<ol class=list-inline><li>56200</li><li>228</li></ol>\n"
      ],
      "text/latex": [
       "\\begin{enumerate*}\n",
       "\\item 56200\n",
       "\\item 228\n",
       "\\end{enumerate*}\n"
      ],
      "text/markdown": [
       "1. 56200\n",
       "2. 228\n",
       "\n",
       "\n"
      ],
      "text/plain": [
       "[1] 56200   228"
      ]
     },
     "metadata": {},
     "output_type": "display_data"
    }
   ],
   "source": [
    "dim(kidney)\n",
    "dim(liver)"
   ]
  },
  {
   "cell_type": "code",
   "execution_count": 18,
   "id": "345e6ada-f121-4e60-8eab-8da68a303501",
   "metadata": {
    "execution": {
     "iopub.execute_input": "2024-03-09T21:37:00.406493Z",
     "iopub.status.busy": "2024-03-09T21:37:00.405344Z",
     "iopub.status.idle": "2024-03-09T21:37:00.666309Z",
     "shell.execute_reply": "2024-03-09T21:37:00.664861Z"
    }
   },
   "outputs": [],
   "source": [
    "# use the first 5 samples of each as test data\n",
    "\n",
    "fwrite(kidney[, 1:12], 'Kidney-Cortex_gene_reads.test.tsv.gz')\n",
    "fwrite(liver[, 1:12], 'Liver_gene_reads.test.tsv.gz')"
   ]
  },
  {
   "cell_type": "markdown",
   "id": "bb5b6375-32b1-4aa3-87e4-46f340b335a7",
   "metadata": {},
   "source": [
    "### DeSeq2 requirements:\n",
    "\n",
    "count matrix:\n",
    "1. needs to have row names. row names are genes (must be unique, best use gene_id)\n",
    "2. columns are counts, column names are sample names, must be unique\n",
    "\n",
    "column data: \n",
    "1. needs to have row names.row names are column names in the exact order as in count matrix\n",
    "2. columns are conditions, and other groups or classification of samples. Used for contrasts"
   ]
  },
  {
   "cell_type": "code",
   "execution_count": 191,
   "id": "ae8fdd95-6187-42f9-a4b5-a643f4bdcaaf",
   "metadata": {
    "execution": {
     "iopub.execute_input": "2024-03-10T05:33:16.814500Z",
     "iopub.status.busy": "2024-03-10T05:33:16.813317Z",
     "iopub.status.idle": "2024-03-10T05:33:16.825634Z",
     "shell.execute_reply": "2024-03-10T05:33:16.824337Z"
    }
   },
   "outputs": [
    {
     "data": {
      "text/html": [
       "87"
      ],
      "text/latex": [
       "87"
      ],
      "text/markdown": [
       "87"
      ],
      "text/plain": [
       "[1] 87"
      ]
     },
     "metadata": {},
     "output_type": "display_data"
    }
   ],
   "source": [
    "ncol(kidney)"
   ]
  },
  {
   "cell_type": "code",
   "execution_count": 19,
   "id": "1b276303-6bc0-4276-80ff-2f3c185dbd5c",
   "metadata": {
    "execution": {
     "iopub.execute_input": "2024-03-09T21:48:21.478790Z",
     "iopub.status.busy": "2024-03-09T21:48:21.477632Z",
     "iopub.status.idle": "2024-03-09T21:48:21.509273Z",
     "shell.execute_reply": "2024-03-09T21:48:21.507978Z"
    }
   },
   "outputs": [
    {
     "data": {
      "text/html": [
       "<table class=\"dataframe\">\n",
       "<caption>A data.table: 5 × 5</caption>\n",
       "<thead>\n",
       "\t<tr><th scope=col>Name</th><th scope=col>Description</th><th scope=col>GTEX-11GS4-2326-SM-5A5KS</th><th scope=col>GTEX-11OF3-1326-SM-5N9FJ</th><th scope=col>GTEX-11TTK-1926-SM-5PNW8</th></tr>\n",
       "\t<tr><th scope=col>&lt;chr&gt;</th><th scope=col>&lt;chr&gt;</th><th scope=col>&lt;int&gt;</th><th scope=col>&lt;int&gt;</th><th scope=col>&lt;int&gt;</th></tr>\n",
       "</thead>\n",
       "<tbody>\n",
       "\t<tr><td>ENSG00000223972.5</td><td>DDX11L1    </td><td>  0</td><td>  3</td><td>  0</td></tr>\n",
       "\t<tr><td>ENSG00000227232.5</td><td>WASH7P     </td><td>183</td><td>149</td><td>182</td></tr>\n",
       "\t<tr><td>ENSG00000278267.1</td><td>MIR6859-1  </td><td>  0</td><td>  0</td><td>  0</td></tr>\n",
       "\t<tr><td>ENSG00000243485.5</td><td>MIR1302-2HG</td><td>  1</td><td>  2</td><td>  0</td></tr>\n",
       "\t<tr><td>ENSG00000237613.2</td><td>FAM138A    </td><td>  2</td><td>  2</td><td>  0</td></tr>\n",
       "</tbody>\n",
       "</table>\n"
      ],
      "text/latex": [
       "A data.table: 5 × 5\n",
       "\\begin{tabular}{lllll}\n",
       " Name & Description & GTEX-11GS4-2326-SM-5A5KS & GTEX-11OF3-1326-SM-5N9FJ & GTEX-11TTK-1926-SM-5PNW8\\\\\n",
       " <chr> & <chr> & <int> & <int> & <int>\\\\\n",
       "\\hline\n",
       "\t ENSG00000223972.5 & DDX11L1     &   0 &   3 &   0\\\\\n",
       "\t ENSG00000227232.5 & WASH7P      & 183 & 149 & 182\\\\\n",
       "\t ENSG00000278267.1 & MIR6859-1   &   0 &   0 &   0\\\\\n",
       "\t ENSG00000243485.5 & MIR1302-2HG &   1 &   2 &   0\\\\\n",
       "\t ENSG00000237613.2 & FAM138A     &   2 &   2 &   0\\\\\n",
       "\\end{tabular}\n"
      ],
      "text/markdown": [
       "\n",
       "A data.table: 5 × 5\n",
       "\n",
       "| Name &lt;chr&gt; | Description &lt;chr&gt; | GTEX-11GS4-2326-SM-5A5KS &lt;int&gt; | GTEX-11OF3-1326-SM-5N9FJ &lt;int&gt; | GTEX-11TTK-1926-SM-5PNW8 &lt;int&gt; |\n",
       "|---|---|---|---|---|\n",
       "| ENSG00000223972.5 | DDX11L1     |   0 |   3 |   0 |\n",
       "| ENSG00000227232.5 | WASH7P      | 183 | 149 | 182 |\n",
       "| ENSG00000278267.1 | MIR6859-1   |   0 |   0 |   0 |\n",
       "| ENSG00000243485.5 | MIR1302-2HG |   1 |   2 |   0 |\n",
       "| ENSG00000237613.2 | FAM138A     |   2 |   2 |   0 |\n",
       "\n"
      ],
      "text/plain": [
       "  Name              Description GTEX-11GS4-2326-SM-5A5KS\n",
       "1 ENSG00000223972.5 DDX11L1       0                     \n",
       "2 ENSG00000227232.5 WASH7P      183                     \n",
       "3 ENSG00000278267.1 MIR6859-1     0                     \n",
       "4 ENSG00000243485.5 MIR1302-2HG   1                     \n",
       "5 ENSG00000237613.2 FAM138A       2                     \n",
       "  GTEX-11OF3-1326-SM-5N9FJ GTEX-11TTK-1926-SM-5PNW8\n",
       "1   3                        0                     \n",
       "2 149                      182                     \n",
       "3   0                        0                     \n",
       "4   2                        0                     \n",
       "5   2                        0                     "
      ]
     },
     "metadata": {},
     "output_type": "display_data"
    },
    {
     "data": {
      "text/html": [
       "<table class=\"dataframe\">\n",
       "<caption>A data.table: 5 × 5</caption>\n",
       "<thead>\n",
       "\t<tr><th scope=col>Name</th><th scope=col>Description</th><th scope=col>GTEX-11DXY-0526-SM-5EGGQ</th><th scope=col>GTEX-11DXZ-0126-SM-5EGGY</th><th scope=col>GTEX-11EQ9-0526-SM-5A5JZ</th></tr>\n",
       "\t<tr><th scope=col>&lt;chr&gt;</th><th scope=col>&lt;chr&gt;</th><th scope=col>&lt;int&gt;</th><th scope=col>&lt;int&gt;</th><th scope=col>&lt;int&gt;</th></tr>\n",
       "</thead>\n",
       "<tbody>\n",
       "\t<tr><td>ENSG00000223972.5</td><td>DDX11L1    </td><td> 1</td><td> 0</td><td> 1</td></tr>\n",
       "\t<tr><td>ENSG00000227232.5</td><td>WASH7P     </td><td>81</td><td>69</td><td>39</td></tr>\n",
       "\t<tr><td>ENSG00000278267.1</td><td>MIR6859-1  </td><td> 0</td><td> 0</td><td> 0</td></tr>\n",
       "\t<tr><td>ENSG00000243485.5</td><td>MIR1302-2HG</td><td> 1</td><td> 1</td><td> 1</td></tr>\n",
       "\t<tr><td>ENSG00000237613.2</td><td>FAM138A    </td><td> 0</td><td> 0</td><td> 0</td></tr>\n",
       "</tbody>\n",
       "</table>\n"
      ],
      "text/latex": [
       "A data.table: 5 × 5\n",
       "\\begin{tabular}{lllll}\n",
       " Name & Description & GTEX-11DXY-0526-SM-5EGGQ & GTEX-11DXZ-0126-SM-5EGGY & GTEX-11EQ9-0526-SM-5A5JZ\\\\\n",
       " <chr> & <chr> & <int> & <int> & <int>\\\\\n",
       "\\hline\n",
       "\t ENSG00000223972.5 & DDX11L1     &  1 &  0 &  1\\\\\n",
       "\t ENSG00000227232.5 & WASH7P      & 81 & 69 & 39\\\\\n",
       "\t ENSG00000278267.1 & MIR6859-1   &  0 &  0 &  0\\\\\n",
       "\t ENSG00000243485.5 & MIR1302-2HG &  1 &  1 &  1\\\\\n",
       "\t ENSG00000237613.2 & FAM138A     &  0 &  0 &  0\\\\\n",
       "\\end{tabular}\n"
      ],
      "text/markdown": [
       "\n",
       "A data.table: 5 × 5\n",
       "\n",
       "| Name &lt;chr&gt; | Description &lt;chr&gt; | GTEX-11DXY-0526-SM-5EGGQ &lt;int&gt; | GTEX-11DXZ-0126-SM-5EGGY &lt;int&gt; | GTEX-11EQ9-0526-SM-5A5JZ &lt;int&gt; |\n",
       "|---|---|---|---|---|\n",
       "| ENSG00000223972.5 | DDX11L1     |  1 |  0 |  1 |\n",
       "| ENSG00000227232.5 | WASH7P      | 81 | 69 | 39 |\n",
       "| ENSG00000278267.1 | MIR6859-1   |  0 |  0 |  0 |\n",
       "| ENSG00000243485.5 | MIR1302-2HG |  1 |  1 |  1 |\n",
       "| ENSG00000237613.2 | FAM138A     |  0 |  0 |  0 |\n",
       "\n"
      ],
      "text/plain": [
       "  Name              Description GTEX-11DXY-0526-SM-5EGGQ\n",
       "1 ENSG00000223972.5 DDX11L1      1                      \n",
       "2 ENSG00000227232.5 WASH7P      81                      \n",
       "3 ENSG00000278267.1 MIR6859-1    0                      \n",
       "4 ENSG00000243485.5 MIR1302-2HG  1                      \n",
       "5 ENSG00000237613.2 FAM138A      0                      \n",
       "  GTEX-11DXZ-0126-SM-5EGGY GTEX-11EQ9-0526-SM-5A5JZ\n",
       "1  0                        1                      \n",
       "2 69                       39                      \n",
       "3  0                        0                      \n",
       "4  1                        1                      \n",
       "5  0                        0                      "
      ]
     },
     "metadata": {},
     "output_type": "display_data"
    }
   ],
   "source": [
    "kidney[1:5, 1:5]\n",
    "liver[1:5, 1:5]"
   ]
  },
  {
   "cell_type": "code",
   "execution_count": 38,
   "id": "f9a6cd46-3fa7-498c-8079-777f0143b6d9",
   "metadata": {
    "execution": {
     "iopub.execute_input": "2024-03-09T22:05:48.323920Z",
     "iopub.status.busy": "2024-03-09T22:05:48.322716Z",
     "iopub.status.idle": "2024-03-09T22:05:48.335664Z",
     "shell.execute_reply": "2024-03-09T22:05:48.334246Z"
    }
   },
   "outputs": [],
   "source": [
    "counts <- cbind(\n",
    "    # take 5 samples from kidney, and gene id column as first column\n",
    "    kidney[, c(1, 3:7)],\n",
    "    # take 5 samples from liver, sample columns only\n",
    "    liver[, c(3:7)]\n",
    ")"
   ]
  },
  {
   "cell_type": "code",
   "execution_count": 39,
   "id": "6c2d5a47-24a3-458c-9c2a-58156c1d55f4",
   "metadata": {
    "execution": {
     "iopub.execute_input": "2024-03-09T22:05:48.727798Z",
     "iopub.status.busy": "2024-03-09T22:05:48.726589Z",
     "iopub.status.idle": "2024-03-09T22:05:48.747405Z",
     "shell.execute_reply": "2024-03-09T22:05:48.745960Z"
    }
   },
   "outputs": [],
   "source": [
    "# convert gene_id column into row ids\n",
    "counts <- column_to_rownames(counts, \"Name\")"
   ]
  },
  {
   "cell_type": "code",
   "execution_count": 40,
   "id": "88cc9c1c-55af-4d0b-8a92-1443ed5b0c97",
   "metadata": {
    "execution": {
     "iopub.execute_input": "2024-03-09T22:05:49.214712Z",
     "iopub.status.busy": "2024-03-09T22:05:49.213563Z",
     "iopub.status.idle": "2024-03-09T22:05:49.237656Z",
     "shell.execute_reply": "2024-03-09T22:05:49.236351Z"
    }
   },
   "outputs": [
    {
     "data": {
      "text/html": [
       "<table class=\"dataframe\">\n",
       "<caption>A data.frame: 5 × 10</caption>\n",
       "<thead>\n",
       "\t<tr><th></th><th scope=col>GTEX-11GS4-2326-SM-5A5KS</th><th scope=col>GTEX-11OF3-1326-SM-5N9FJ</th><th scope=col>GTEX-11TTK-1926-SM-5PNW8</th><th scope=col>GTEX-12696-0926-SM-5FQTV</th><th scope=col>GTEX-12WSG-0826-SM-5EQ5A</th><th scope=col>GTEX-11DXY-0526-SM-5EGGQ</th><th scope=col>GTEX-11DXZ-0126-SM-5EGGY</th><th scope=col>GTEX-11EQ9-0526-SM-5A5JZ</th><th scope=col>GTEX-11GSP-0626-SM-5986T</th><th scope=col>GTEX-11NUK-1226-SM-5P9GM</th></tr>\n",
       "\t<tr><th></th><th scope=col>&lt;int&gt;</th><th scope=col>&lt;int&gt;</th><th scope=col>&lt;int&gt;</th><th scope=col>&lt;int&gt;</th><th scope=col>&lt;int&gt;</th><th scope=col>&lt;int&gt;</th><th scope=col>&lt;int&gt;</th><th scope=col>&lt;int&gt;</th><th scope=col>&lt;int&gt;</th><th scope=col>&lt;int&gt;</th></tr>\n",
       "</thead>\n",
       "<tbody>\n",
       "\t<tr><th scope=row>ENSG00000223972.5</th><td>  0</td><td>  3</td><td>  0</td><td>  0</td><td> 2</td><td> 1</td><td> 0</td><td> 1</td><td> 3</td><td> 0</td></tr>\n",
       "\t<tr><th scope=row>ENSG00000227232.5</th><td>183</td><td>149</td><td>182</td><td>104</td><td>31</td><td>81</td><td>69</td><td>39</td><td>56</td><td>61</td></tr>\n",
       "\t<tr><th scope=row>ENSG00000278267.1</th><td>  0</td><td>  0</td><td>  0</td><td>  0</td><td> 0</td><td> 0</td><td> 0</td><td> 0</td><td> 0</td><td> 0</td></tr>\n",
       "\t<tr><th scope=row>ENSG00000243485.5</th><td>  1</td><td>  2</td><td>  0</td><td>  1</td><td> 0</td><td> 1</td><td> 1</td><td> 1</td><td> 0</td><td> 1</td></tr>\n",
       "\t<tr><th scope=row>ENSG00000237613.2</th><td>  2</td><td>  2</td><td>  0</td><td>  0</td><td> 0</td><td> 0</td><td> 0</td><td> 0</td><td> 0</td><td> 0</td></tr>\n",
       "</tbody>\n",
       "</table>\n"
      ],
      "text/latex": [
       "A data.frame: 5 × 10\n",
       "\\begin{tabular}{r|llllllllll}\n",
       "  & GTEX-11GS4-2326-SM-5A5KS & GTEX-11OF3-1326-SM-5N9FJ & GTEX-11TTK-1926-SM-5PNW8 & GTEX-12696-0926-SM-5FQTV & GTEX-12WSG-0826-SM-5EQ5A & GTEX-11DXY-0526-SM-5EGGQ & GTEX-11DXZ-0126-SM-5EGGY & GTEX-11EQ9-0526-SM-5A5JZ & GTEX-11GSP-0626-SM-5986T & GTEX-11NUK-1226-SM-5P9GM\\\\\n",
       "  & <int> & <int> & <int> & <int> & <int> & <int> & <int> & <int> & <int> & <int>\\\\\n",
       "\\hline\n",
       "\tENSG00000223972.5 &   0 &   3 &   0 &   0 &  2 &  1 &  0 &  1 &  3 &  0\\\\\n",
       "\tENSG00000227232.5 & 183 & 149 & 182 & 104 & 31 & 81 & 69 & 39 & 56 & 61\\\\\n",
       "\tENSG00000278267.1 &   0 &   0 &   0 &   0 &  0 &  0 &  0 &  0 &  0 &  0\\\\\n",
       "\tENSG00000243485.5 &   1 &   2 &   0 &   1 &  0 &  1 &  1 &  1 &  0 &  1\\\\\n",
       "\tENSG00000237613.2 &   2 &   2 &   0 &   0 &  0 &  0 &  0 &  0 &  0 &  0\\\\\n",
       "\\end{tabular}\n"
      ],
      "text/markdown": [
       "\n",
       "A data.frame: 5 × 10\n",
       "\n",
       "| <!--/--> | GTEX-11GS4-2326-SM-5A5KS &lt;int&gt; | GTEX-11OF3-1326-SM-5N9FJ &lt;int&gt; | GTEX-11TTK-1926-SM-5PNW8 &lt;int&gt; | GTEX-12696-0926-SM-5FQTV &lt;int&gt; | GTEX-12WSG-0826-SM-5EQ5A &lt;int&gt; | GTEX-11DXY-0526-SM-5EGGQ &lt;int&gt; | GTEX-11DXZ-0126-SM-5EGGY &lt;int&gt; | GTEX-11EQ9-0526-SM-5A5JZ &lt;int&gt; | GTEX-11GSP-0626-SM-5986T &lt;int&gt; | GTEX-11NUK-1226-SM-5P9GM &lt;int&gt; |\n",
       "|---|---|---|---|---|---|---|---|---|---|---|\n",
       "| ENSG00000223972.5 |   0 |   3 |   0 |   0 |  2 |  1 |  0 |  1 |  3 |  0 |\n",
       "| ENSG00000227232.5 | 183 | 149 | 182 | 104 | 31 | 81 | 69 | 39 | 56 | 61 |\n",
       "| ENSG00000278267.1 |   0 |   0 |   0 |   0 |  0 |  0 |  0 |  0 |  0 |  0 |\n",
       "| ENSG00000243485.5 |   1 |   2 |   0 |   1 |  0 |  1 |  1 |  1 |  0 |  1 |\n",
       "| ENSG00000237613.2 |   2 |   2 |   0 |   0 |  0 |  0 |  0 |  0 |  0 |  0 |\n",
       "\n"
      ],
      "text/plain": [
       "                  GTEX-11GS4-2326-SM-5A5KS GTEX-11OF3-1326-SM-5N9FJ\n",
       "ENSG00000223972.5   0                        3                     \n",
       "ENSG00000227232.5 183                      149                     \n",
       "ENSG00000278267.1   0                        0                     \n",
       "ENSG00000243485.5   1                        2                     \n",
       "ENSG00000237613.2   2                        2                     \n",
       "                  GTEX-11TTK-1926-SM-5PNW8 GTEX-12696-0926-SM-5FQTV\n",
       "ENSG00000223972.5   0                        0                     \n",
       "ENSG00000227232.5 182                      104                     \n",
       "ENSG00000278267.1   0                        0                     \n",
       "ENSG00000243485.5   0                        1                     \n",
       "ENSG00000237613.2   0                        0                     \n",
       "                  GTEX-12WSG-0826-SM-5EQ5A GTEX-11DXY-0526-SM-5EGGQ\n",
       "ENSG00000223972.5  2                        1                      \n",
       "ENSG00000227232.5 31                       81                      \n",
       "ENSG00000278267.1  0                        0                      \n",
       "ENSG00000243485.5  0                        1                      \n",
       "ENSG00000237613.2  0                        0                      \n",
       "                  GTEX-11DXZ-0126-SM-5EGGY GTEX-11EQ9-0526-SM-5A5JZ\n",
       "ENSG00000223972.5  0                        1                      \n",
       "ENSG00000227232.5 69                       39                      \n",
       "ENSG00000278267.1  0                        0                      \n",
       "ENSG00000243485.5  1                        1                      \n",
       "ENSG00000237613.2  0                        0                      \n",
       "                  GTEX-11GSP-0626-SM-5986T GTEX-11NUK-1226-SM-5P9GM\n",
       "ENSG00000223972.5  3                        0                      \n",
       "ENSG00000227232.5 56                       61                      \n",
       "ENSG00000278267.1  0                        0                      \n",
       "ENSG00000243485.5  0                        1                      \n",
       "ENSG00000237613.2  0                        0                      "
      ]
     },
     "metadata": {},
     "output_type": "display_data"
    },
    {
     "data": {
      "text/html": [
       "<style>\n",
       ".list-inline {list-style: none; margin:0; padding: 0}\n",
       ".list-inline>li {display: inline-block}\n",
       ".list-inline>li:not(:last-child)::after {content: \"\\00b7\"; padding: 0 .5ex}\n",
       "</style>\n",
       "<ol class=list-inline><li>56200</li><li>10</li></ol>\n"
      ],
      "text/latex": [
       "\\begin{enumerate*}\n",
       "\\item 56200\n",
       "\\item 10\n",
       "\\end{enumerate*}\n"
      ],
      "text/markdown": [
       "1. 56200\n",
       "2. 10\n",
       "\n",
       "\n"
      ],
      "text/plain": [
       "[1] 56200    10"
      ]
     },
     "metadata": {},
     "output_type": "display_data"
    }
   ],
   "source": [
    "counts[1:5,]\n",
    "dim(counts)"
   ]
  },
  {
   "cell_type": "code",
   "execution_count": 41,
   "id": "16be0bf9-9822-4554-b39d-f9b36e5fefe5",
   "metadata": {
    "execution": {
     "iopub.execute_input": "2024-03-09T22:05:49.656766Z",
     "iopub.status.busy": "2024-03-09T22:05:49.655606Z",
     "iopub.status.idle": "2024-03-09T22:05:49.665550Z",
     "shell.execute_reply": "2024-03-09T22:05:49.664220Z"
    }
   },
   "outputs": [],
   "source": [
    "coldata <- data.frame(sample_name = colnames(counts), tissue = c(rep('Kidney', 5), rep('Liver', 5)))"
   ]
  },
  {
   "cell_type": "code",
   "execution_count": 42,
   "id": "d0a4ca3c-dc04-4b36-8301-8c2b5d9a6fab",
   "metadata": {
    "execution": {
     "iopub.execute_input": "2024-03-09T22:05:50.779000Z",
     "iopub.status.busy": "2024-03-09T22:05:50.777832Z",
     "iopub.status.idle": "2024-03-09T22:05:50.794944Z",
     "shell.execute_reply": "2024-03-09T22:05:50.793577Z"
    }
   },
   "outputs": [
    {
     "data": {
      "text/html": [
       "<table class=\"dataframe\">\n",
       "<caption>A data.frame: 10 × 2</caption>\n",
       "<thead>\n",
       "\t<tr><th scope=col>sample_name</th><th scope=col>tissue</th></tr>\n",
       "\t<tr><th scope=col>&lt;chr&gt;</th><th scope=col>&lt;chr&gt;</th></tr>\n",
       "</thead>\n",
       "<tbody>\n",
       "\t<tr><td>GTEX-11GS4-2326-SM-5A5KS</td><td>Kidney</td></tr>\n",
       "\t<tr><td>GTEX-11OF3-1326-SM-5N9FJ</td><td>Kidney</td></tr>\n",
       "\t<tr><td>GTEX-11TTK-1926-SM-5PNW8</td><td>Kidney</td></tr>\n",
       "\t<tr><td>GTEX-12696-0926-SM-5FQTV</td><td>Kidney</td></tr>\n",
       "\t<tr><td>GTEX-12WSG-0826-SM-5EQ5A</td><td>Kidney</td></tr>\n",
       "\t<tr><td>GTEX-11DXY-0526-SM-5EGGQ</td><td>Liver </td></tr>\n",
       "\t<tr><td>GTEX-11DXZ-0126-SM-5EGGY</td><td>Liver </td></tr>\n",
       "\t<tr><td>GTEX-11EQ9-0526-SM-5A5JZ</td><td>Liver </td></tr>\n",
       "\t<tr><td>GTEX-11GSP-0626-SM-5986T</td><td>Liver </td></tr>\n",
       "\t<tr><td>GTEX-11NUK-1226-SM-5P9GM</td><td>Liver </td></tr>\n",
       "</tbody>\n",
       "</table>\n"
      ],
      "text/latex": [
       "A data.frame: 10 × 2\n",
       "\\begin{tabular}{ll}\n",
       " sample\\_name & tissue\\\\\n",
       " <chr> & <chr>\\\\\n",
       "\\hline\n",
       "\t GTEX-11GS4-2326-SM-5A5KS & Kidney\\\\\n",
       "\t GTEX-11OF3-1326-SM-5N9FJ & Kidney\\\\\n",
       "\t GTEX-11TTK-1926-SM-5PNW8 & Kidney\\\\\n",
       "\t GTEX-12696-0926-SM-5FQTV & Kidney\\\\\n",
       "\t GTEX-12WSG-0826-SM-5EQ5A & Kidney\\\\\n",
       "\t GTEX-11DXY-0526-SM-5EGGQ & Liver \\\\\n",
       "\t GTEX-11DXZ-0126-SM-5EGGY & Liver \\\\\n",
       "\t GTEX-11EQ9-0526-SM-5A5JZ & Liver \\\\\n",
       "\t GTEX-11GSP-0626-SM-5986T & Liver \\\\\n",
       "\t GTEX-11NUK-1226-SM-5P9GM & Liver \\\\\n",
       "\\end{tabular}\n"
      ],
      "text/markdown": [
       "\n",
       "A data.frame: 10 × 2\n",
       "\n",
       "| sample_name &lt;chr&gt; | tissue &lt;chr&gt; |\n",
       "|---|---|\n",
       "| GTEX-11GS4-2326-SM-5A5KS | Kidney |\n",
       "| GTEX-11OF3-1326-SM-5N9FJ | Kidney |\n",
       "| GTEX-11TTK-1926-SM-5PNW8 | Kidney |\n",
       "| GTEX-12696-0926-SM-5FQTV | Kidney |\n",
       "| GTEX-12WSG-0826-SM-5EQ5A | Kidney |\n",
       "| GTEX-11DXY-0526-SM-5EGGQ | Liver  |\n",
       "| GTEX-11DXZ-0126-SM-5EGGY | Liver  |\n",
       "| GTEX-11EQ9-0526-SM-5A5JZ | Liver  |\n",
       "| GTEX-11GSP-0626-SM-5986T | Liver  |\n",
       "| GTEX-11NUK-1226-SM-5P9GM | Liver  |\n",
       "\n"
      ],
      "text/plain": [
       "   sample_name              tissue\n",
       "1  GTEX-11GS4-2326-SM-5A5KS Kidney\n",
       "2  GTEX-11OF3-1326-SM-5N9FJ Kidney\n",
       "3  GTEX-11TTK-1926-SM-5PNW8 Kidney\n",
       "4  GTEX-12696-0926-SM-5FQTV Kidney\n",
       "5  GTEX-12WSG-0826-SM-5EQ5A Kidney\n",
       "6  GTEX-11DXY-0526-SM-5EGGQ Liver \n",
       "7  GTEX-11DXZ-0126-SM-5EGGY Liver \n",
       "8  GTEX-11EQ9-0526-SM-5A5JZ Liver \n",
       "9  GTEX-11GSP-0626-SM-5986T Liver \n",
       "10 GTEX-11NUK-1226-SM-5P9GM Liver "
      ]
     },
     "metadata": {},
     "output_type": "display_data"
    }
   ],
   "source": [
    "coldata"
   ]
  },
  {
   "cell_type": "code",
   "execution_count": 145,
   "id": "cfb6c227-0aba-4313-af25-98e30d6e4b15",
   "metadata": {
    "execution": {
     "iopub.execute_input": "2024-03-10T04:18:34.393018Z",
     "iopub.status.busy": "2024-03-10T04:18:34.391855Z",
     "iopub.status.idle": "2024-03-10T04:18:34.563523Z",
     "shell.execute_reply": "2024-03-10T04:18:34.562113Z"
    }
   },
   "outputs": [
    {
     "name": "stderr",
     "output_type": "stream",
     "text": [
      "Warning message in DESeqDataSet(se, design = design, ignoreRank):\n",
      "“some variables in design formula are characters, converting to factors”\n"
     ]
    }
   ],
   "source": [
    "# now construct a deseq dataset using counts and coldata\n",
    "dds <- DESeqDataSetFromMatrix(\n",
    "    countData = counts,\n",
    "    colData = coldata,\n",
    "    design = ~tissue\n",
    ")"
   ]
  },
  {
   "cell_type": "code",
   "execution_count": 146,
   "id": "3cdcfe19-739d-4ac9-adc5-ffdae3083084",
   "metadata": {
    "execution": {
     "iopub.execute_input": "2024-03-10T04:18:35.832316Z",
     "iopub.status.busy": "2024-03-10T04:18:35.831107Z",
     "iopub.status.idle": "2024-03-10T04:18:35.860279Z",
     "shell.execute_reply": "2024-03-10T04:18:35.858914Z"
    }
   },
   "outputs": [],
   "source": [
    "dds$tissue <- factor(dds$tissue, levels = c('Kidney', 'Liver'))"
   ]
  },
  {
   "cell_type": "code",
   "execution_count": 147,
   "id": "9e351553-a732-401e-b10b-b37a343fe39a",
   "metadata": {
    "execution": {
     "iopub.execute_input": "2024-03-10T04:18:36.879697Z",
     "iopub.status.busy": "2024-03-10T04:18:36.878556Z",
     "iopub.status.idle": "2024-03-10T04:18:36.903131Z",
     "shell.execute_reply": "2024-03-10T04:18:36.901746Z"
    }
   },
   "outputs": [],
   "source": [
    "# add gene_name as feature\n",
    "mcols(dds) <- DataFrame(mcols(dds), data.frame(gene_name = kidney$Description))"
   ]
  },
  {
   "cell_type": "code",
   "execution_count": null,
   "id": "ee43c7f2",
   "metadata": {},
   "outputs": [],
   "source": []
  },
  {
   "cell_type": "code",
   "execution_count": 149,
   "id": "c0141f0d-2e4c-447d-9270-dbbb706b1404",
   "metadata": {
    "execution": {
     "iopub.execute_input": "2024-03-10T04:18:44.744155Z",
     "iopub.status.busy": "2024-03-10T04:18:44.742951Z",
     "iopub.status.idle": "2024-03-10T04:18:44.766221Z",
     "shell.execute_reply": "2024-03-10T04:18:44.764804Z"
    }
   },
   "outputs": [],
   "source": [
    "# filter: minimum 3 groups with at least 10 reads each\n",
    "min_group_size <- 3\n",
    "min_read <- 10\n",
    "keep_genes <- rowSums(counts(dds) >= min_read) >= min_group_size"
   ]
  },
  {
   "cell_type": "code",
   "execution_count": 150,
   "id": "7e901995-dd6f-463d-b451-53ef31e49df0",
   "metadata": {
    "execution": {
     "iopub.execute_input": "2024-03-10T04:18:45.465476Z",
     "iopub.status.busy": "2024-03-10T04:18:45.464282Z",
     "iopub.status.idle": "2024-03-10T04:18:45.479587Z",
     "shell.execute_reply": "2024-03-10T04:18:45.478289Z"
    }
   },
   "outputs": [
    {
     "name": "stdout",
     "output_type": "stream",
     "text": [
      " Named logi [1:56200] FALSE TRUE FALSE FALSE FALSE FALSE ...\n",
      " - attr(*, \"names\")= chr [1:56200] \"ENSG00000223972.5\" \"ENSG00000227232.5\" \"ENSG00000278267.1\" \"ENSG00000243485.5\" ...\n"
     ]
    },
    {
     "data": {
      "text/html": [
       "22525"
      ],
      "text/latex": [
       "22525"
      ],
      "text/markdown": [
       "22525"
      ],
      "text/plain": [
       "[1] 22525"
      ]
     },
     "metadata": {},
     "output_type": "display_data"
    }
   ],
   "source": [
    "str(keep_genes)\n",
    "sum(keep_genes)"
   ]
  },
  {
   "cell_type": "code",
   "execution_count": 151,
   "id": "a6db42fc-5240-4a01-804f-cbe61d190411",
   "metadata": {
    "execution": {
     "iopub.execute_input": "2024-03-10T04:18:47.014427Z",
     "iopub.status.busy": "2024-03-10T04:18:47.013236Z",
     "iopub.status.idle": "2024-03-10T04:18:47.039986Z",
     "shell.execute_reply": "2024-03-10T04:18:47.038578Z"
    }
   },
   "outputs": [],
   "source": [
    "# remaining counts\n",
    "dds <- dds[keep_genes,]"
   ]
  },
  {
   "cell_type": "code",
   "execution_count": 152,
   "id": "5531970e-930c-4f1c-901d-40e2a14cb500",
   "metadata": {
    "execution": {
     "iopub.execute_input": "2024-03-10T04:18:48.151490Z",
     "iopub.status.busy": "2024-03-10T04:18:48.150333Z",
     "iopub.status.idle": "2024-03-10T04:18:48.163743Z",
     "shell.execute_reply": "2024-03-10T04:18:48.162454Z"
    }
   },
   "outputs": [
    {
     "data": {
      "text/html": [
       "<style>\n",
       ".list-inline {list-style: none; margin:0; padding: 0}\n",
       ".list-inline>li {display: inline-block}\n",
       ".list-inline>li:not(:last-child)::after {content: \"\\00b7\"; padding: 0 .5ex}\n",
       "</style>\n",
       "<ol class=list-inline><li>Kidney</li><li>Kidney</li><li>Kidney</li><li>Kidney</li><li>Kidney</li><li>Liver</li><li>Liver</li><li>Liver</li><li>Liver</li><li>Liver</li></ol>\n",
       "\n",
       "<details>\n",
       "\t<summary style=display:list-item;cursor:pointer>\n",
       "\t\t<strong>Levels</strong>:\n",
       "\t</summary>\n",
       "\t<style>\n",
       "\t.list-inline {list-style: none; margin:0; padding: 0}\n",
       "\t.list-inline>li {display: inline-block}\n",
       "\t.list-inline>li:not(:last-child)::after {content: \"\\00b7\"; padding: 0 .5ex}\n",
       "\t</style>\n",
       "\t<ol class=list-inline><li>'Kidney'</li><li>'Liver'</li></ol>\n",
       "</details>"
      ],
      "text/latex": [
       "\\begin{enumerate*}\n",
       "\\item Kidney\n",
       "\\item Kidney\n",
       "\\item Kidney\n",
       "\\item Kidney\n",
       "\\item Kidney\n",
       "\\item Liver\n",
       "\\item Liver\n",
       "\\item Liver\n",
       "\\item Liver\n",
       "\\item Liver\n",
       "\\end{enumerate*}\n",
       "\n",
       "\\emph{Levels}: \\begin{enumerate*}\n",
       "\\item 'Kidney'\n",
       "\\item 'Liver'\n",
       "\\end{enumerate*}\n"
      ],
      "text/markdown": [
       "1. Kidney\n",
       "2. Kidney\n",
       "3. Kidney\n",
       "4. Kidney\n",
       "5. Kidney\n",
       "6. Liver\n",
       "7. Liver\n",
       "8. Liver\n",
       "9. Liver\n",
       "10. Liver\n",
       "\n",
       "\n",
       "\n",
       "**Levels**: 1. 'Kidney'\n",
       "2. 'Liver'\n",
       "\n",
       "\n"
      ],
      "text/plain": [
       " [1] Kidney Kidney Kidney Kidney Kidney Liver  Liver  Liver  Liver  Liver \n",
       "Levels: Kidney Liver"
      ]
     },
     "metadata": {},
     "output_type": "display_data"
    }
   ],
   "source": [
    "dds$tissue"
   ]
  },
  {
   "cell_type": "code",
   "execution_count": 153,
   "id": "1b521101-7ba4-42d9-bc1f-e3ea906b1af5",
   "metadata": {
    "execution": {
     "iopub.execute_input": "2024-03-10T04:19:00.628774Z",
     "iopub.status.busy": "2024-03-10T04:19:00.627591Z",
     "iopub.status.idle": "2024-03-10T04:19:11.335066Z",
     "shell.execute_reply": "2024-03-10T04:19:11.333611Z"
    },
    "scrolled": true
   },
   "outputs": [
    {
     "name": "stderr",
     "output_type": "stream",
     "text": [
      "estimating size factors\n",
      "\n",
      "estimating dispersions\n",
      "\n",
      "gene-wise dispersion estimates\n",
      "\n",
      "mean-dispersion relationship\n",
      "\n",
      "final dispersion estimates\n",
      "\n",
      "fitting model and testing\n",
      "\n"
     ]
    }
   ],
   "source": [
    "# build model\n",
    "dds <- DESeq(dds)\n",
    "res <- results(dds)"
   ]
  },
  {
   "cell_type": "code",
   "execution_count": 154,
   "id": "1d6ca17d-b3e7-4683-9316-598328a4306f",
   "metadata": {
    "execution": {
     "iopub.execute_input": "2024-03-10T04:19:11.338200Z",
     "iopub.status.busy": "2024-03-10T04:19:11.337116Z",
     "iopub.status.idle": "2024-03-10T04:19:11.357122Z",
     "shell.execute_reply": "2024-03-10T04:19:11.355801Z"
    }
   },
   "outputs": [
    {
     "data": {
      "text/html": [
       "<style>\n",
       ".list-inline {list-style: none; margin:0; padding: 0}\n",
       ".list-inline>li {display: inline-block}\n",
       ".list-inline>li:not(:last-child)::after {content: \"\\00b7\"; padding: 0 .5ex}\n",
       "</style>\n",
       "<ol class=list-inline><li>'Intercept'</li><li>'tissue_Liver_vs_Kidney'</li></ol>\n"
      ],
      "text/latex": [
       "\\begin{enumerate*}\n",
       "\\item 'Intercept'\n",
       "\\item 'tissue\\_Liver\\_vs\\_Kidney'\n",
       "\\end{enumerate*}\n"
      ],
      "text/markdown": [
       "1. 'Intercept'\n",
       "2. 'tissue_Liver_vs_Kidney'\n",
       "\n",
       "\n"
      ],
      "text/plain": [
       "[1] \"Intercept\"              \"tissue_Liver_vs_Kidney\""
      ]
     },
     "metadata": {},
     "output_type": "display_data"
    }
   ],
   "source": [
    "resultsNames(dds)"
   ]
  },
  {
   "cell_type": "code",
   "execution_count": 155,
   "id": "eef79eb6-c11c-40b8-9b9d-e66f8e85f6f7",
   "metadata": {
    "execution": {
     "iopub.execute_input": "2024-03-10T04:19:18.296461Z",
     "iopub.status.busy": "2024-03-10T04:19:18.295238Z",
     "iopub.status.idle": "2024-03-10T04:19:22.287130Z",
     "shell.execute_reply": "2024-03-10T04:19:22.285848Z"
    }
   },
   "outputs": [
    {
     "data": {
      "text/plain": [
       "log2 fold change (MLE): tissue Liver vs Kidney \n",
       "Wald test p-value: tissue Liver vs Kidney \n",
       "DataFrame with 22525 rows and 6 columns\n",
       "                     baseMean log2FoldChange     lfcSE       stat     pvalue\n",
       "                    <numeric>      <numeric> <numeric>  <numeric>  <numeric>\n",
       "ENSG00000227232.5     88.4724     -0.0966055  0.455321 -0.2121699 0.83197449\n",
       "ENSG00000268903.1     60.1416     -0.0200710  0.631293 -0.0317935 0.97463676\n",
       "ENSG00000269981.1     35.0510     -0.0047140  0.654322 -0.0072044 0.99425177\n",
       "ENSG00000241860.6      9.3820     -1.9187331  0.731552 -2.6228265 0.00872037\n",
       "ENSG00000279457.4    217.5392     -0.1603465  0.476790 -0.3363043 0.73664138\n",
       "...                       ...            ...       ...        ...        ...\n",
       "ENSG00000210184.1      11.477      -3.065321  1.171764  -2.615989 0.00889694\n",
       "ENSG00000198786.2  504948.887       1.063829  0.617588   1.722555 0.08496900\n",
       "ENSG00000198695.2  149161.431       1.181671  0.682817   1.730582 0.08352633\n",
       "ENSG00000210194.1     172.203      -1.657717  1.120812  -1.479032 0.13913178\n",
       "ENSG00000198727.2 1870321.741       0.446373  0.721270   0.618871 0.53600130\n",
       "                       padj\n",
       "                  <numeric>\n",
       "ENSG00000227232.5 0.8873442\n",
       "ENSG00000268903.1 0.9847829\n",
       "ENSG00000269981.1 0.9962817\n",
       "ENSG00000241860.6 0.0224058\n",
       "ENSG00000279457.4 0.8173485\n",
       "...                     ...\n",
       "ENSG00000210184.1 0.0227966\n",
       "ENSG00000198786.2 0.1540356\n",
       "ENSG00000198695.2 0.1518759\n",
       "ENSG00000210194.1 0.2296537\n",
       "ENSG00000198727.2 0.6520921"
      ]
     },
     "metadata": {},
     "output_type": "display_data"
    }
   ],
   "source": [
    "results(dds)"
   ]
  },
  {
   "cell_type": "code",
   "execution_count": 133,
   "id": "f81290fc-bb5c-4727-8853-2c73f06e71d7",
   "metadata": {
    "execution": {
     "iopub.execute_input": "2024-03-10T04:16:54.134538Z",
     "iopub.status.busy": "2024-03-10T04:16:54.133287Z",
     "iopub.status.idle": "2024-03-10T04:16:57.809119Z",
     "shell.execute_reply": "2024-03-10T04:16:57.807754Z"
    }
   },
   "outputs": [
    {
     "data": {
      "text/plain": [
       "log2 fold change (MLE): tissue Kidney vs Liver \n",
       "Wald test p-value: tissue Kidney vs Liver \n",
       "DataFrame with 22525 rows and 6 columns\n",
       "                     baseMean log2FoldChange     lfcSE      stat     pvalue\n",
       "                    <numeric>      <numeric> <numeric> <numeric>  <numeric>\n",
       "ENSG00000227232.5     88.4724      0.0966055  0.455321 0.2121699 0.83197449\n",
       "ENSG00000268903.1     60.1416      0.0200710  0.631293 0.0317935 0.97463676\n",
       "ENSG00000269981.1     35.0510      0.0047140  0.654322 0.0072044 0.99425177\n",
       "ENSG00000241860.6      9.3820      1.9187331  0.731552 2.6228265 0.00872037\n",
       "ENSG00000279457.4    217.5392      0.1603465  0.476790 0.3363043 0.73664138\n",
       "...                       ...            ...       ...       ...        ...\n",
       "ENSG00000210184.1      11.477       3.065321  1.171764  2.615989 0.00889694\n",
       "ENSG00000198786.2  504948.887      -1.063829  0.617588 -1.722555 0.08496900\n",
       "ENSG00000198695.2  149161.431      -1.181671  0.682817 -1.730582 0.08352633\n",
       "ENSG00000210194.1     172.203       1.657717  1.120812  1.479032 0.13913178\n",
       "ENSG00000198727.2 1870321.741      -0.446373  0.721270 -0.618871 0.53600130\n",
       "                       padj\n",
       "                  <numeric>\n",
       "ENSG00000227232.5 0.8873442\n",
       "ENSG00000268903.1 0.9847829\n",
       "ENSG00000269981.1 0.9962817\n",
       "ENSG00000241860.6 0.0224058\n",
       "ENSG00000279457.4 0.8173485\n",
       "...                     ...\n",
       "ENSG00000210184.1 0.0227966\n",
       "ENSG00000198786.2 0.1540356\n",
       "ENSG00000198695.2 0.1518759\n",
       "ENSG00000210194.1 0.2296537\n",
       "ENSG00000198727.2 0.6520921"
      ]
     },
     "metadata": {},
     "output_type": "display_data"
    }
   ],
   "source": [
    "results(dds, contrast = c('tissue',  'Kidney', 'Liver'))"
   ]
  },
  {
   "cell_type": "code",
   "execution_count": 68,
   "id": "09d1a0e4-9f1e-4d95-828a-f2016caf6e6b",
   "metadata": {
    "execution": {
     "iopub.execute_input": "2024-03-09T22:21:54.258742Z",
     "iopub.status.busy": "2024-03-09T22:21:54.257523Z",
     "iopub.status.idle": "2024-03-09T22:21:54.279782Z",
     "shell.execute_reply": "2024-03-09T22:21:54.278468Z"
    }
   },
   "outputs": [
    {
     "data": {
      "text/plain": [
       "log2 fold change (MLE): tissue Liver vs Kidney \n",
       "Wald test p-value: tissue Liver vs Kidney \n",
       "DataFrame with 22525 rows and 6 columns\n",
       "                     baseMean log2FoldChange     lfcSE       stat     pvalue\n",
       "                    <numeric>      <numeric> <numeric>  <numeric>  <numeric>\n",
       "ENSG00000227232.5     88.4724     -0.0966055  0.455321 -0.2121699 0.83197449\n",
       "ENSG00000268903.1     60.1416     -0.0200710  0.631293 -0.0317935 0.97463676\n",
       "ENSG00000269981.1     35.0510     -0.0047140  0.654322 -0.0072044 0.99425177\n",
       "ENSG00000241860.6      9.3820     -1.9187331  0.731552 -2.6228265 0.00872037\n",
       "ENSG00000279457.4    217.5392     -0.1603465  0.476790 -0.3363043 0.73664138\n",
       "...                       ...            ...       ...        ...        ...\n",
       "ENSG00000210184.1      11.477      -3.065321  1.171764  -2.615989 0.00889694\n",
       "ENSG00000198786.2  504948.887       1.063829  0.617588   1.722555 0.08496900\n",
       "ENSG00000198695.2  149161.431       1.181671  0.682817   1.730582 0.08352633\n",
       "ENSG00000210194.1     172.203      -1.657717  1.120812  -1.479032 0.13913178\n",
       "ENSG00000198727.2 1870321.741       0.446373  0.721270   0.618871 0.53600130\n",
       "                       padj\n",
       "                  <numeric>\n",
       "ENSG00000227232.5 0.8873442\n",
       "ENSG00000268903.1 0.9847829\n",
       "ENSG00000269981.1 0.9962817\n",
       "ENSG00000241860.6 0.0224058\n",
       "ENSG00000279457.4 0.8173485\n",
       "...                     ...\n",
       "ENSG00000210184.1 0.0227966\n",
       "ENSG00000198786.2 0.1540356\n",
       "ENSG00000198695.2 0.1518759\n",
       "ENSG00000210194.1 0.2296537\n",
       "ENSG00000198727.2 0.6520921"
      ]
     },
     "metadata": {},
     "output_type": "display_data"
    }
   ],
   "source": [
    "res"
   ]
  },
  {
   "cell_type": "code",
   "execution_count": 72,
   "id": "79ea6a98-fca0-4666-b3f1-921d01ec76cd",
   "metadata": {
    "execution": {
     "iopub.execute_input": "2024-03-09T22:35:11.642272Z",
     "iopub.status.busy": "2024-03-09T22:35:11.641028Z",
     "iopub.status.idle": "2024-03-09T22:35:11.663696Z",
     "shell.execute_reply": "2024-03-09T22:35:11.662275Z"
    }
   },
   "outputs": [],
   "source": [
    "resOrdered <- res[order(res$pvalue),]"
   ]
  },
  {
   "cell_type": "code",
   "execution_count": 73,
   "id": "f21009e1-a55c-4ea0-bf76-2e53e83a5e03",
   "metadata": {
    "execution": {
     "iopub.execute_input": "2024-03-09T22:35:22.166726Z",
     "iopub.status.busy": "2024-03-09T22:35:22.165511Z",
     "iopub.status.idle": "2024-03-09T22:35:22.187186Z",
     "shell.execute_reply": "2024-03-09T22:35:22.185706Z"
    }
   },
   "outputs": [
    {
     "data": {
      "text/plain": [
       "log2 fold change (MLE): tissue Liver vs Kidney \n",
       "Wald test p-value: tissue Liver vs Kidney \n",
       "DataFrame with 22525 rows and 6 columns\n",
       "                    baseMean log2FoldChange     lfcSE      stat       pvalue\n",
       "                   <numeric>      <numeric> <numeric> <numeric>    <numeric>\n",
       "ENSG00000175003.12   26377.9        10.2582  0.290184   35.3506 9.80489e-274\n",
       "ENSG00000138115.13   45803.6        10.6983  0.308490   34.6795 1.60370e-263\n",
       "ENSG00000166589.12   19925.5       -11.5025  0.376032  -30.5891 1.71007e-205\n",
       "ENSG00000158874.11  105569.7        16.0543  0.532977   30.1220 2.49720e-199\n",
       "ENSG00000141505.11   21567.0        10.3431  0.346302   29.8673 5.23102e-196\n",
       "...                      ...            ...       ...       ...          ...\n",
       "ENSG00000272733.1    85.6033      -2.051008  0.826876  -2.48043           NA\n",
       "ENSG00000100170.9   257.9066       3.368497  0.577058   5.83736           NA\n",
       "ENSG00000188064.9   131.5914      -3.840662  1.138880  -3.37232           NA\n",
       "ENSG00000008056.13   73.9217       0.278302  0.732141   0.38012           NA\n",
       "ENSG00000126759.13  328.4170       3.583247  0.554848   6.45807           NA\n",
       "                           padj\n",
       "                      <numeric>\n",
       "ENSG00000175003.12 2.19198e-269\n",
       "ENSG00000138115.13 1.79262e-259\n",
       "ENSG00000166589.12 1.27435e-201\n",
       "ENSG00000158874.11 1.39568e-195\n",
       "ENSG00000141505.11 2.33889e-192\n",
       "...                         ...\n",
       "ENSG00000272733.1            NA\n",
       "ENSG00000100170.9            NA\n",
       "ENSG00000188064.9            NA\n",
       "ENSG00000008056.13           NA\n",
       "ENSG00000126759.13           NA"
      ]
     },
     "metadata": {},
     "output_type": "display_data"
    }
   ],
   "source": [
    "resOrdered"
   ]
  },
  {
   "cell_type": "code",
   "execution_count": 86,
   "id": "e4009c7b-c67f-4c59-9954-86a4fc4bd13b",
   "metadata": {
    "execution": {
     "iopub.execute_input": "2024-03-09T22:40:52.360743Z",
     "iopub.status.busy": "2024-03-09T22:40:52.359437Z",
     "iopub.status.idle": "2024-03-09T22:40:52.379540Z",
     "shell.execute_reply": "2024-03-09T22:40:52.378042Z"
    }
   },
   "outputs": [
    {
     "data": {
      "text/plain": [
       "log2 fold change (MLE): tissue Liver vs Kidney \n",
       "Wald test p-value: tissue Liver vs Kidney \n",
       "DataFrame with 5 rows and 6 columns\n",
       "                   baseMean log2FoldChange     lfcSE       stat     pvalue\n",
       "                  <numeric>      <numeric> <numeric>  <numeric>  <numeric>\n",
       "ENSG00000227232.5   88.4724     -0.0966055  0.455321 -0.2121699 0.83197449\n",
       "ENSG00000268903.1   60.1416     -0.0200710  0.631293 -0.0317935 0.97463676\n",
       "ENSG00000269981.1   35.0510     -0.0047140  0.654322 -0.0072044 0.99425177\n",
       "ENSG00000241860.6    9.3820     -1.9187331  0.731552 -2.6228265 0.00872037\n",
       "ENSG00000279457.4  217.5392     -0.1603465  0.476790 -0.3363043 0.73664138\n",
       "                       padj\n",
       "                  <numeric>\n",
       "ENSG00000227232.5 0.8873442\n",
       "ENSG00000268903.1 0.9847829\n",
       "ENSG00000269981.1 0.9962817\n",
       "ENSG00000241860.6 0.0224058\n",
       "ENSG00000279457.4 0.8173485"
      ]
     },
     "metadata": {},
     "output_type": "display_data"
    }
   ],
   "source": [
    "res[1:5,]"
   ]
  },
  {
   "cell_type": "code",
   "execution_count": 159,
   "id": "e9f27fd0-220a-43ef-b2e9-7b6cd76ecacf",
   "metadata": {
    "execution": {
     "iopub.execute_input": "2024-03-10T04:29:31.936533Z",
     "iopub.status.busy": "2024-03-10T04:29:31.935358Z",
     "iopub.status.idle": "2024-03-10T04:29:31.948079Z",
     "shell.execute_reply": "2024-03-10T04:29:31.946841Z"
    }
   },
   "outputs": [
    {
     "name": "stdout",
     "output_type": "stream",
     "text": [
      " logi [1:22525] FALSE FALSE FALSE TRUE FALSE FALSE ...\n"
     ]
    }
   ],
   "source": [
    "(res$padj < .1 & abs(res$log2FoldChange) > 1) %>% str"
   ]
  },
  {
   "cell_type": "code",
   "execution_count": 109,
   "id": "d466cba3-b492-40e7-903d-a1511df289f1",
   "metadata": {
    "execution": {
     "iopub.execute_input": "2024-03-09T22:47:29.586966Z",
     "iopub.status.busy": "2024-03-09T22:47:29.585695Z",
     "iopub.status.idle": "2024-03-09T22:47:29.597962Z",
     "shell.execute_reply": "2024-03-09T22:47:29.596587Z"
    }
   },
   "outputs": [],
   "source": [
    "sig.rows <- which(res$padj < .1 & (abs(res$log2FoldChange) > 1))"
   ]
  },
  {
   "cell_type": "code",
   "execution_count": 110,
   "id": "c949b270-24dd-4085-8f50-9a7554244e29",
   "metadata": {
    "execution": {
     "iopub.execute_input": "2024-03-09T22:47:34.869030Z",
     "iopub.status.busy": "2024-03-09T22:47:34.867747Z",
     "iopub.status.idle": "2024-03-09T22:47:34.880133Z",
     "shell.execute_reply": "2024-03-09T22:47:34.878800Z"
    }
   },
   "outputs": [
    {
     "data": {
      "text/plain": [
       "   Min. 1st Qu.  Median    Mean 3rd Qu.    Max. \n",
       "      4    5504   11052   11108   16673   22521 "
      ]
     },
     "metadata": {},
     "output_type": "display_data"
    }
   ],
   "source": [
    "summary(sig.rows)"
   ]
  },
  {
   "cell_type": "code",
   "execution_count": 111,
   "id": "f1b1d634-affb-4d18-b6d1-29cdc762c2ee",
   "metadata": {
    "execution": {
     "iopub.execute_input": "2024-03-09T22:47:39.447062Z",
     "iopub.status.busy": "2024-03-09T22:47:39.445800Z",
     "iopub.status.idle": "2024-03-09T22:47:39.469238Z",
     "shell.execute_reply": "2024-03-09T22:47:39.467874Z"
    }
   },
   "outputs": [
    {
     "data": {
      "text/plain": [
       "log2 fold change (MLE): tissue Liver vs Kidney \n",
       "Wald test p-value: tissue Liver vs Kidney \n",
       "DataFrame with 8810 rows and 6 columns\n",
       "                     baseMean log2FoldChange     lfcSE      stat      pvalue\n",
       "                    <numeric>      <numeric> <numeric> <numeric>   <numeric>\n",
       "ENSG00000241860.6      9.3820       -1.91873  0.731552  -2.62283 0.008720367\n",
       "ENSG00000229376.3     16.5887        1.86375  0.642316   2.90161 0.003712534\n",
       "ENSG00000228794.8   1334.6976        1.27892  0.365885   3.49543 0.000473302\n",
       "ENSG00000272438.1     11.5670       -2.11203  0.831783  -2.53916 0.011111984\n",
       "ENSG00000230699.2     35.7945       -1.36888  0.522714  -2.61880 0.008824030\n",
       "...                       ...            ...       ...       ...         ...\n",
       "ENSG00000210077.1 6.16407e+00       -2.29060  0.957939  -2.39118  0.01679438\n",
       "ENSG00000209082.1 6.35123e+01       -2.25402  0.731392  -3.08183  0.00205735\n",
       "ENSG00000210144.1 1.04810e+01        2.15472  0.847218   2.54328  0.01098158\n",
       "ENSG00000198804.2 2.49959e+06        1.35843  0.665227   2.04205  0.04114693\n",
       "ENSG00000210184.1 1.14770e+01       -3.06532  1.171764  -2.61599  0.00889694\n",
       "                        padj\n",
       "                   <numeric>\n",
       "ENSG00000241860.6 0.02240576\n",
       "ENSG00000229376.3 0.01064479\n",
       "ENSG00000228794.8 0.00170884\n",
       "ENSG00000272438.1 0.02767906\n",
       "ENSG00000230699.2 0.02262271\n",
       "...                      ...\n",
       "ENSG00000210077.1 0.03924893\n",
       "ENSG00000209082.1 0.00635804\n",
       "ENSG00000210144.1 0.02738779\n",
       "ENSG00000198804.2 0.08388480\n",
       "ENSG00000210184.1 0.02279657"
      ]
     },
     "metadata": {},
     "output_type": "display_data"
    }
   ],
   "source": [
    "res[sig.rows,]"
   ]
  },
  {
   "cell_type": "code",
   "execution_count": 114,
   "id": "6468d9d8-c325-4d71-91fc-57852f3af581",
   "metadata": {
    "execution": {
     "iopub.execute_input": "2024-03-09T22:48:32.750651Z",
     "iopub.status.busy": "2024-03-09T22:48:32.749396Z",
     "iopub.status.idle": "2024-03-09T22:48:32.760962Z",
     "shell.execute_reply": "2024-03-09T22:48:32.759585Z"
    }
   },
   "outputs": [],
   "source": [
    "res.sig <- res[sig.rows,]"
   ]
  },
  {
   "cell_type": "code",
   "execution_count": 116,
   "id": "80d2a776-4fcd-4166-a4ae-01a2b30abbf8",
   "metadata": {
    "execution": {
     "iopub.execute_input": "2024-03-09T22:49:19.819459Z",
     "iopub.status.busy": "2024-03-09T22:49:19.818184Z",
     "iopub.status.idle": "2024-03-09T22:49:19.831636Z",
     "shell.execute_reply": "2024-03-09T22:49:19.830236Z"
    }
   },
   "outputs": [],
   "source": [
    "res.sig <- res.sig[order(-abs(res.sig$log2FoldChange)),]"
   ]
  },
  {
   "cell_type": "code",
   "execution_count": 117,
   "id": "207b48b5-4c09-42fc-b3dd-6ffb53a65c7e",
   "metadata": {
    "execution": {
     "iopub.execute_input": "2024-03-09T22:49:27.122687Z",
     "iopub.status.busy": "2024-03-09T22:49:27.121427Z",
     "iopub.status.idle": "2024-03-09T22:49:27.143586Z",
     "shell.execute_reply": "2024-03-09T22:49:27.142204Z"
    }
   },
   "outputs": [
    {
     "data": {
      "text/plain": [
       "log2 fold change (MLE): tissue Liver vs Kidney \n",
       "Wald test p-value: tissue Liver vs Kidney \n",
       "DataFrame with 8810 rows and 6 columns\n",
       "                     baseMean log2FoldChange     lfcSE      stat       pvalue\n",
       "                    <numeric>      <numeric> <numeric> <numeric>    <numeric>\n",
       "ENSG00000080910.11    7417.58        16.7420  0.973718   17.1939  2.94869e-66\n",
       "ENSG00000021852.12   14169.08        16.5237  1.014426   16.2887  1.18666e-59\n",
       "ENSG00000165471.6     6345.60        16.5169  1.068013   15.4650  5.97322e-54\n",
       "ENSG00000158874.11  105569.72        16.0543  0.532977   30.1220 2.49720e-199\n",
       "ENSG00000101981.10   15902.07        15.7815  0.819170   19.2653  1.05119e-82\n",
       "...                       ...            ...       ...       ...          ...\n",
       "ENSG00000087460.24 27228.2080       -1.00074  0.241870  -4.13753  3.51068e-05\n",
       "ENSG00000272599.2     43.4623        1.00042  0.438798   2.27992  2.26126e-02\n",
       "ENSG00000184619.3    102.1086       -1.00011  0.410550  -2.43602  1.48497e-02\n",
       "ENSG00000223773.7    163.3683       -1.00003  0.359499  -2.78173  5.40700e-03\n",
       "ENSG00000248890.1     83.7112        1.00001  0.420335   2.37908  1.73558e-02\n",
       "                           padj\n",
       "                      <numeric>\n",
       "ENSG00000080910.11  6.21895e-64\n",
       "ENSG00000021852.12  2.10547e-57\n",
       "ENSG00000165471.6   8.84352e-52\n",
       "ENSG00000158874.11 1.39568e-195\n",
       "ENSG00000101981.10  3.50751e-80\n",
       "...                         ...\n",
       "ENSG00000087460.24  0.000162025\n",
       "ENSG00000272599.2   0.050608455\n",
       "ENSG00000184619.3   0.035369670\n",
       "ENSG00000223773.7   0.014741335\n",
       "ENSG00000248890.1   0.040404773"
      ]
     },
     "metadata": {},
     "output_type": "display_data"
    }
   ],
   "source": [
    "res.sig"
   ]
  },
  {
   "cell_type": "code",
   "execution_count": 118,
   "id": "a220d270-1bdf-4ad8-90ea-64e4b8ad8ddb",
   "metadata": {
    "execution": {
     "iopub.execute_input": "2024-03-09T22:49:57.847427Z",
     "iopub.status.busy": "2024-03-09T22:49:57.846152Z",
     "iopub.status.idle": "2024-03-09T22:49:57.884296Z",
     "shell.execute_reply": "2024-03-09T22:49:57.863846Z"
    }
   },
   "outputs": [
    {
     "name": "stdout",
     "output_type": "stream",
     "text": [
      "\n",
      "out of 8810 with nonzero total read count\n",
      "adjusted p-value < 0.1\n",
      "LFC > 0 (up)       : 3984, 45%\n",
      "LFC < 0 (down)     : 4826, 55%\n",
      "outliers [1]       : 0, 0%\n",
      "low counts [2]     : 0, 0%\n",
      "(mean count < 3)\n",
      "[1] see 'cooksCutoff' argument of ?results\n",
      "[2] see 'independentFiltering' argument of ?results\n",
      "\n"
     ]
    }
   ],
   "source": [
    "summary(res.sig)"
   ]
  },
  {
   "cell_type": "code",
   "execution_count": 119,
   "id": "12b7b607-99a4-4397-b883-52ab7f187027",
   "metadata": {
    "execution": {
     "iopub.execute_input": "2024-03-09T22:50:55.112190Z",
     "iopub.status.busy": "2024-03-09T22:50:55.110913Z",
     "iopub.status.idle": "2024-03-09T22:50:55.123315Z",
     "shell.execute_reply": "2024-03-09T22:50:55.121927Z"
    }
   },
   "outputs": [
    {
     "data": {
      "text/html": [
       "'/project2/yangili1/cdai/SpliFi/code/test-ge'"
      ],
      "text/latex": [
       "'/project2/yangili1/cdai/SpliFi/code/test-ge'"
      ],
      "text/markdown": [
       "'/project2/yangili1/cdai/SpliFi/code/test-ge'"
      ],
      "text/plain": [
       "[1] \"/project2/yangili1/cdai/SpliFi/code/test-ge\""
      ]
     },
     "metadata": {},
     "output_type": "display_data"
    }
   ],
   "source": [
    "getwd()"
   ]
  },
  {
   "cell_type": "code",
   "execution_count": 120,
   "id": "674b90ea-5123-42de-b5ff-c746adffdcdd",
   "metadata": {
    "execution": {
     "iopub.execute_input": "2024-03-09T22:51:54.186693Z",
     "iopub.status.busy": "2024-03-09T22:51:54.185417Z",
     "iopub.status.idle": "2024-03-09T22:51:54.276502Z",
     "shell.execute_reply": "2024-03-09T22:51:54.274981Z"
    }
   },
   "outputs": [],
   "source": [
    "write.csv(res.sig, \"results.csv\")"
   ]
  },
  {
   "cell_type": "code",
   "execution_count": 121,
   "id": "05837f61-1762-4841-af1e-51bceef737aa",
   "metadata": {
    "execution": {
     "iopub.execute_input": "2024-03-09T22:53:05.583341Z",
     "iopub.status.busy": "2024-03-09T22:53:05.582044Z",
     "iopub.status.idle": "2024-03-09T22:53:05.607239Z",
     "shell.execute_reply": "2024-03-09T22:53:05.605795Z"
    }
   },
   "outputs": [
    {
     "name": "stdout",
     "output_type": "stream",
     "text": [
      "Formal class 'DESeqResults' [package \"DESeq2\"] with 7 slots\n",
      "  ..@ priorInfo      : list()\n",
      "  ..@ rownames       : chr [1:8810] \"ENSG00000080910.11\" \"ENSG00000021852.12\" \"ENSG00000165471.6\" \"ENSG00000158874.11\" ...\n",
      "  ..@ nrows          : int 8810\n",
      "  ..@ elementType    : chr \"ANY\"\n",
      "  ..@ elementMetadata:Formal class 'DFrame' [package \"S4Vectors\"] with 6 slots\n",
      "  .. .. ..@ rownames       : NULL\n",
      "  .. .. ..@ nrows          : int 6\n",
      "  .. .. ..@ elementType    : chr \"ANY\"\n",
      "  .. .. ..@ elementMetadata: NULL\n",
      "  .. .. ..@ metadata       : list()\n",
      "  .. .. ..@ listData       :List of 2\n",
      "  .. .. .. ..$ type       : chr [1:6] \"intermediate\" \"results\" \"results\" \"results\" ...\n",
      "  .. .. .. ..$ description: chr [1:6] \"mean of normalized counts for all samples\" \"log2 fold change (MLE): tissue Liver vs Kidney\" \"standard error: tissue Liver vs Kidney\" \"Wald statistic: tissue Liver vs Kidney\" ...\n",
      "  ..@ metadata       :List of 6\n",
      "  .. ..$ filterThreshold: Named num 2.64\n",
      "  .. .. ..- attr(*, \"names\")= chr \"0%\"\n",
      "  .. ..$ filterTheta    : num 0\n",
      "  .. ..$ filterNumRej   :'data.frame':\t50 obs. of  2 variables:\n",
      "  .. .. ..$ theta : num [1:50] 0 0.0194 0.0388 0.0582 0.0776 ...\n",
      "  .. .. ..$ numRej: num [1:50] 11338 11147 11019 10887 10719 ...\n",
      "  .. ..$ lo.fit         :List of 2\n",
      "  .. .. ..$ x: num [1:50] 0 0.0194 0.0388 0.0582 0.0776 ...\n",
      "  .. .. ..$ y: num [1:50] 11336 11181 11026 10871 10715 ...\n",
      "  .. ..$ alpha          : num 0.1\n",
      "  .. ..$ lfcThreshold   : num 0\n",
      "  ..@ listData       :List of 6\n",
      "  .. ..$ baseMean      : num [1:8810] 7418 14169 6346 105570 15902 ...\n",
      "  .. ..$ log2FoldChange: num [1:8810] 16.7 16.5 16.5 16.1 15.8 ...\n",
      "  .. ..$ lfcSE         : num [1:8810] 0.974 1.014 1.068 0.533 0.819 ...\n",
      "  .. ..$ stat          : num [1:8810] 17.2 16.3 15.5 30.1 19.3 ...\n",
      "  .. ..$ pvalue        : num [1:8810] 2.95e-66 1.19e-59 5.97e-54 2.50e-199 1.05e-82 ...\n",
      "  .. ..$ padj          : num [1:8810] 6.22e-64 2.11e-57 8.84e-52 1.40e-195 3.51e-80 ...\n"
     ]
    }
   ],
   "source": [
    "str(res.sig)"
   ]
  },
  {
   "cell_type": "code",
   "execution_count": 163,
   "id": "9add4ac2-4ff6-4e23-8597-cb7f408068de",
   "metadata": {
    "execution": {
     "iopub.execute_input": "2024-03-10T04:37:32.698662Z",
     "iopub.status.busy": "2024-03-10T04:37:32.697521Z",
     "iopub.status.idle": "2024-03-10T04:37:32.707899Z",
     "shell.execute_reply": "2024-03-10T04:37:32.706681Z"
    }
   },
   "outputs": [
    {
     "name": "stdout",
     "output_type": "stream",
     "text": [
      "$type\n",
      "[1] \"intermediate\" \"results\"      \"results\"      \"results\"      \"results\"     \n",
      "[6] \"results\"     \n",
      "\n",
      "$description\n",
      "[1] \"mean of normalized counts for all samples\"     \n",
      "[2] \"log2 fold change (MLE): tissue Liver vs Kidney\"\n",
      "[3] \"standard error: tissue Liver vs Kidney\"        \n",
      "[4] \"Wald statistic: tissue Liver vs Kidney\"        \n",
      "[5] \"Wald test p-value: tissue Liver vs Kidney\"     \n",
      "[6] \"BH adjusted p-values\"                          \n",
      "\n"
     ]
    }
   ],
   "source": [
    "res.sig@elementMetadata@listData %>% print"
   ]
  },
  {
   "cell_type": "code",
   "execution_count": 164,
   "id": "74864bff-cf13-4ec4-8ff0-c3a8dde3713f",
   "metadata": {
    "execution": {
     "iopub.execute_input": "2024-03-10T04:39:45.766777Z",
     "iopub.status.busy": "2024-03-10T04:39:45.765628Z",
     "iopub.status.idle": "2024-03-10T04:39:46.033071Z",
     "shell.execute_reply": "2024-03-10T04:39:46.031597Z"
    }
   },
   "outputs": [],
   "source": [
    "res.sig@elementMetadata@listData %>% write_lines('description.txt')"
   ]
  },
  {
   "cell_type": "code",
   "execution_count": 162,
   "id": "56a09f92-9aa3-4921-851e-3053ea681dd7",
   "metadata": {
    "execution": {
     "iopub.execute_input": "2024-03-10T04:37:27.962732Z",
     "iopub.status.busy": "2024-03-10T04:37:27.961537Z",
     "iopub.status.idle": "2024-03-10T04:37:27.972946Z",
     "shell.execute_reply": "2024-03-10T04:37:27.971721Z"
    }
   },
   "outputs": [
    {
     "data": {
      "text/html": [
       "'/project2/yangili1/cdai/SpliFi/code/test-ge'"
      ],
      "text/latex": [
       "'/project2/yangili1/cdai/SpliFi/code/test-ge'"
      ],
      "text/markdown": [
       "'/project2/yangili1/cdai/SpliFi/code/test-ge'"
      ],
      "text/plain": [
       "[1] \"/project2/yangili1/cdai/SpliFi/code/test-ge\""
      ]
     },
     "metadata": {},
     "output_type": "display_data"
    }
   ],
   "source": [
    "getwd()"
   ]
  },
  {
   "cell_type": "code",
   "execution_count": 166,
   "id": "edf220b9-6572-47d4-8b1f-ebde9dc82d7a",
   "metadata": {
    "execution": {
     "iopub.execute_input": "2024-03-10T04:40:28.844059Z",
     "iopub.status.busy": "2024-03-10T04:40:28.842892Z",
     "iopub.status.idle": "2024-03-10T04:40:28.863405Z",
     "shell.execute_reply": "2024-03-10T04:40:28.862041Z"
    }
   },
   "outputs": [
    {
     "data": {
      "text/html": [
       "<style>\n",
       ".list-inline {list-style: none; margin:0; padding: 0}\n",
       ".list-inline>li {display: inline-block}\n",
       ".list-inline>li:not(:last-child)::after {content: \"\\00b7\"; padding: 0 .5ex}\n",
       "</style>\n",
       "<ol class=list-inline><li>'c(\"intermediate\", \"results\", \"results\", \"results\", \"results\", \"results\")'</li><li>'c(\"mean of normalized counts for all samples\", \"log2 fold change (MLE): tissue Liver vs Kidney\", \"standard error: tissue Liver vs Kidney\", \"Wald statistic: tissue Liver vs Kidney\", \"Wald test p-value: tissue Liver vs Kidney\", \"BH adjusted p-values\")'</li></ol>\n"
      ],
      "text/latex": [
       "\\begin{enumerate*}\n",
       "\\item 'c(\"intermediate\", \"results\", \"results\", \"results\", \"results\", \"results\")'\n",
       "\\item 'c(\"mean of normalized counts for all samples\", \"log2 fold change (MLE): tissue Liver vs Kidney\", \"standard error: tissue Liver vs Kidney\", \"Wald statistic: tissue Liver vs Kidney\", \"Wald test p-value: tissue Liver vs Kidney\", \"BH adjusted p-values\")'\n",
       "\\end{enumerate*}\n"
      ],
      "text/markdown": [
       "1. 'c(\"intermediate\", \"results\", \"results\", \"results\", \"results\", \"results\")'\n",
       "2. 'c(\"mean of normalized counts for all samples\", \"log2 fold change (MLE): tissue Liver vs Kidney\", \"standard error: tissue Liver vs Kidney\", \"Wald statistic: tissue Liver vs Kidney\", \"Wald test p-value: tissue Liver vs Kidney\", \"BH adjusted p-values\")'\n",
       "\n",
       "\n"
      ],
      "text/plain": [
       "[1] \"c(\\\"intermediate\\\", \\\"results\\\", \\\"results\\\", \\\"results\\\", \\\"results\\\", \\\"results\\\")\"                                                                                                                                                                                 \n",
       "[2] \"c(\\\"mean of normalized counts for all samples\\\", \\\"log2 fold change (MLE): tissue Liver vs Kidney\\\", \\\"standard error: tissue Liver vs Kidney\\\", \\\"Wald statistic: tissue Liver vs Kidney\\\", \\\"Wald test p-value: tissue Liver vs Kidney\\\", \\\"BH adjusted p-values\\\")\""
      ]
     },
     "metadata": {},
     "output_type": "display_data"
    }
   ],
   "source": [
    "system(\"cat description.txt\", intern = T)"
   ]
  },
  {
   "cell_type": "code",
   "execution_count": 174,
   "id": "a893980d-72c1-4ccf-a468-739918162a3a",
   "metadata": {
    "execution": {
     "iopub.execute_input": "2024-03-10T04:45:02.633762Z",
     "iopub.status.busy": "2024-03-10T04:45:02.632445Z",
     "iopub.status.idle": "2024-03-10T04:45:02.658347Z",
     "shell.execute_reply": "2024-03-10T04:45:02.656984Z"
    }
   },
   "outputs": [],
   "source": [
    "cbind(kidney[, 1:7], liver[, 3:7]) %>% \n",
    "fwrite(\"test_count.tsv\", sep=\"\\t\")"
   ]
  },
  {
   "cell_type": "code",
   "execution_count": 176,
   "id": "0caf74c9-e550-450a-88c2-c6bae530275a",
   "metadata": {
    "execution": {
     "iopub.execute_input": "2024-03-10T04:50:05.312244Z",
     "iopub.status.busy": "2024-03-10T04:50:05.311074Z",
     "iopub.status.idle": "2024-03-10T04:50:05.320544Z",
     "shell.execute_reply": "2024-03-10T04:50:05.319333Z"
    }
   },
   "outputs": [],
   "source": [
    "names(coldata) <- c('sample_id', 'tissue')"
   ]
  },
  {
   "cell_type": "code",
   "execution_count": 177,
   "id": "c0c867bc-c891-414e-acd9-100116ff3b7e",
   "metadata": {
    "execution": {
     "iopub.execute_input": "2024-03-10T04:50:11.767562Z",
     "iopub.status.busy": "2024-03-10T04:50:11.766389Z",
     "iopub.status.idle": "2024-03-10T04:50:11.783216Z",
     "shell.execute_reply": "2024-03-10T04:50:11.781998Z"
    }
   },
   "outputs": [
    {
     "data": {
      "text/html": [
       "<table class=\"dataframe\">\n",
       "<caption>A data.frame: 10 × 2</caption>\n",
       "<thead>\n",
       "\t<tr><th scope=col>sample_id</th><th scope=col>tissue</th></tr>\n",
       "\t<tr><th scope=col>&lt;chr&gt;</th><th scope=col>&lt;chr&gt;</th></tr>\n",
       "</thead>\n",
       "<tbody>\n",
       "\t<tr><td>GTEX-11GS4-2326-SM-5A5KS</td><td>Kidney</td></tr>\n",
       "\t<tr><td>GTEX-11OF3-1326-SM-5N9FJ</td><td>Kidney</td></tr>\n",
       "\t<tr><td>GTEX-11TTK-1926-SM-5PNW8</td><td>Kidney</td></tr>\n",
       "\t<tr><td>GTEX-12696-0926-SM-5FQTV</td><td>Kidney</td></tr>\n",
       "\t<tr><td>GTEX-12WSG-0826-SM-5EQ5A</td><td>Kidney</td></tr>\n",
       "\t<tr><td>GTEX-11DXY-0526-SM-5EGGQ</td><td>Liver </td></tr>\n",
       "\t<tr><td>GTEX-11DXZ-0126-SM-5EGGY</td><td>Liver </td></tr>\n",
       "\t<tr><td>GTEX-11EQ9-0526-SM-5A5JZ</td><td>Liver </td></tr>\n",
       "\t<tr><td>GTEX-11GSP-0626-SM-5986T</td><td>Liver </td></tr>\n",
       "\t<tr><td>GTEX-11NUK-1226-SM-5P9GM</td><td>Liver </td></tr>\n",
       "</tbody>\n",
       "</table>\n"
      ],
      "text/latex": [
       "A data.frame: 10 × 2\n",
       "\\begin{tabular}{ll}\n",
       " sample\\_id & tissue\\\\\n",
       " <chr> & <chr>\\\\\n",
       "\\hline\n",
       "\t GTEX-11GS4-2326-SM-5A5KS & Kidney\\\\\n",
       "\t GTEX-11OF3-1326-SM-5N9FJ & Kidney\\\\\n",
       "\t GTEX-11TTK-1926-SM-5PNW8 & Kidney\\\\\n",
       "\t GTEX-12696-0926-SM-5FQTV & Kidney\\\\\n",
       "\t GTEX-12WSG-0826-SM-5EQ5A & Kidney\\\\\n",
       "\t GTEX-11DXY-0526-SM-5EGGQ & Liver \\\\\n",
       "\t GTEX-11DXZ-0126-SM-5EGGY & Liver \\\\\n",
       "\t GTEX-11EQ9-0526-SM-5A5JZ & Liver \\\\\n",
       "\t GTEX-11GSP-0626-SM-5986T & Liver \\\\\n",
       "\t GTEX-11NUK-1226-SM-5P9GM & Liver \\\\\n",
       "\\end{tabular}\n"
      ],
      "text/markdown": [
       "\n",
       "A data.frame: 10 × 2\n",
       "\n",
       "| sample_id &lt;chr&gt; | tissue &lt;chr&gt; |\n",
       "|---|---|\n",
       "| GTEX-11GS4-2326-SM-5A5KS | Kidney |\n",
       "| GTEX-11OF3-1326-SM-5N9FJ | Kidney |\n",
       "| GTEX-11TTK-1926-SM-5PNW8 | Kidney |\n",
       "| GTEX-12696-0926-SM-5FQTV | Kidney |\n",
       "| GTEX-12WSG-0826-SM-5EQ5A | Kidney |\n",
       "| GTEX-11DXY-0526-SM-5EGGQ | Liver  |\n",
       "| GTEX-11DXZ-0126-SM-5EGGY | Liver  |\n",
       "| GTEX-11EQ9-0526-SM-5A5JZ | Liver  |\n",
       "| GTEX-11GSP-0626-SM-5986T | Liver  |\n",
       "| GTEX-11NUK-1226-SM-5P9GM | Liver  |\n",
       "\n"
      ],
      "text/plain": [
       "   sample_id                tissue\n",
       "1  GTEX-11GS4-2326-SM-5A5KS Kidney\n",
       "2  GTEX-11OF3-1326-SM-5N9FJ Kidney\n",
       "3  GTEX-11TTK-1926-SM-5PNW8 Kidney\n",
       "4  GTEX-12696-0926-SM-5FQTV Kidney\n",
       "5  GTEX-12WSG-0826-SM-5EQ5A Kidney\n",
       "6  GTEX-11DXY-0526-SM-5EGGQ Liver \n",
       "7  GTEX-11DXZ-0126-SM-5EGGY Liver \n",
       "8  GTEX-11EQ9-0526-SM-5A5JZ Liver \n",
       "9  GTEX-11GSP-0626-SM-5986T Liver \n",
       "10 GTEX-11NUK-1226-SM-5P9GM Liver "
      ]
     },
     "metadata": {},
     "output_type": "display_data"
    }
   ],
   "source": [
    "coldata"
   ]
  },
  {
   "cell_type": "code",
   "execution_count": 179,
   "id": "c0782f57-ef93-49f2-b4fa-20643a7cdb81",
   "metadata": {
    "execution": {
     "iopub.execute_input": "2024-03-10T04:50:51.258822Z",
     "iopub.status.busy": "2024-03-10T04:50:51.257574Z",
     "iopub.status.idle": "2024-03-10T04:50:51.268019Z",
     "shell.execute_reply": "2024-03-10T04:50:51.266808Z"
    }
   },
   "outputs": [],
   "source": [
    "fwrite(coldata, 'test-coldata.tsv', sep = '\\t')"
   ]
  },
  {
   "cell_type": "code",
   "execution_count": 181,
   "id": "d47d879a-3bc9-47ce-a790-1993ff2166bd",
   "metadata": {
    "execution": {
     "iopub.execute_input": "2024-03-10T04:55:31.566832Z",
     "iopub.status.busy": "2024-03-10T04:55:31.565670Z",
     "iopub.status.idle": "2024-03-10T04:55:31.578430Z",
     "shell.execute_reply": "2024-03-10T04:55:31.577249Z"
    }
   },
   "outputs": [
    {
     "data": {
      "text/plain": [
       "DataFrame with 6 rows and 2 columns\n",
       "                       type            description\n",
       "                <character>            <character>\n",
       "baseMean       intermediate mean of normalized c..\n",
       "log2FoldChange      results log2 fold change (ML..\n",
       "lfcSE               results standard error: tiss..\n",
       "stat                results Wald statistic: tiss..\n",
       "pvalue              results Wald test p-value: t..\n",
       "padj                results   BH adjusted p-values"
      ]
     },
     "metadata": {},
     "output_type": "display_data"
    }
   ],
   "source": [
    "mcols(res)"
   ]
  },
  {
   "cell_type": "code",
   "execution_count": 183,
   "id": "a19158e8-8252-4436-b9a2-bd773da89e44",
   "metadata": {
    "execution": {
     "iopub.execute_input": "2024-03-10T04:56:02.660723Z",
     "iopub.status.busy": "2024-03-10T04:56:02.659583Z",
     "iopub.status.idle": "2024-03-10T04:56:02.682898Z",
     "shell.execute_reply": "2024-03-10T04:56:02.681687Z"
    }
   },
   "outputs": [
    {
     "name": "stdout",
     "output_type": "stream",
     "text": [
      "Formal class 'DESeqResults' [package \"DESeq2\"] with 7 slots\n",
      "  ..@ priorInfo      : list()\n",
      "  ..@ rownames       : chr [1:22525] \"ENSG00000227232.5\" \"ENSG00000268903.1\" \"ENSG00000269981.1\" \"ENSG00000241860.6\" ...\n",
      "  ..@ nrows          : int 22525\n",
      "  ..@ elementType    : chr \"ANY\"\n",
      "  ..@ elementMetadata:Formal class 'DFrame' [package \"S4Vectors\"] with 6 slots\n",
      "  .. .. ..@ rownames       : NULL\n",
      "  .. .. ..@ nrows          : int 6\n",
      "  .. .. ..@ elementType    : chr \"ANY\"\n",
      "  .. .. ..@ elementMetadata: NULL\n",
      "  .. .. ..@ metadata       : list()\n",
      "  .. .. ..@ listData       :List of 2\n",
      "  .. .. .. ..$ type       : chr [1:6] \"intermediate\" \"results\" \"results\" \"results\" ...\n",
      "  .. .. .. ..$ description: chr [1:6] \"mean of normalized counts for all samples\" \"log2 fold change (MLE): tissue Liver vs Kidney\" \"standard error: tissue Liver vs Kidney\" \"Wald statistic: tissue Liver vs Kidney\" ...\n",
      "  ..@ metadata       :List of 6\n",
      "  .. ..$ filterThreshold: Named num 2.64\n",
      "  .. .. ..- attr(*, \"names\")= chr \"0%\"\n",
      "  .. ..$ filterTheta    : num 0\n",
      "  .. ..$ filterNumRej   :'data.frame':\t50 obs. of  2 variables:\n",
      "  .. .. ..$ theta : num [1:50] 0 0.0194 0.0388 0.0582 0.0776 ...\n",
      "  .. .. ..$ numRej: num [1:50] 11338 11147 11019 10887 10719 ...\n",
      "  .. ..$ lo.fit         :List of 2\n",
      "  .. .. ..$ x: num [1:50] 0 0.0194 0.0388 0.0582 0.0776 ...\n",
      "  .. .. ..$ y: num [1:50] 11336 11181 11026 10871 10715 ...\n",
      "  .. ..$ alpha          : num 0.1\n",
      "  .. ..$ lfcThreshold   : num 0\n",
      "  ..@ listData       :List of 6\n",
      "  .. ..$ baseMean      : num [1:22525] 88.47 60.14 35.05 9.38 217.54 ...\n",
      "  .. ..$ log2FoldChange: num [1:22525] -0.09661 -0.02007 -0.00471 -1.91873 -0.16035 ...\n",
      "  .. ..$ lfcSE         : num [1:22525] 0.455 0.631 0.654 0.732 0.477 ...\n",
      "  .. ..$ stat          : num [1:22525] -0.2122 -0.0318 -0.0072 -2.6228 -0.3363 ...\n",
      "  .. ..$ pvalue        : num [1:22525] 0.83197 0.97464 0.99425 0.00872 0.73664 ...\n",
      "  .. ..$ padj          : num [1:22525] 0.8873 0.9848 0.9963 0.0224 0.8173 ...\n"
     ]
    }
   ],
   "source": [
    "str(res)"
   ]
  },
  {
   "cell_type": "code",
   "execution_count": null,
   "id": "7a4dbea6-d6f2-4ee6-b136-480db01a24ca",
   "metadata": {},
   "outputs": [],
   "source": []
  }
 ],
 "metadata": {
  "kernelspec": {
   "display_name": "R",
   "language": "R",
   "name": "ir"
  },
  "language_info": {
   "codemirror_mode": "r",
   "file_extension": ".r",
   "mimetype": "text/x-r-source",
   "name": "R",
   "pygments_lexer": "r",
   "version": "4.3.1"
  }
 },
 "nbformat": 4,
 "nbformat_minor": 5
}
